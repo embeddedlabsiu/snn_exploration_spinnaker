{
 "cells": [
  {
   "cell_type": "markdown",
   "metadata": {
    "collapsed": true
   },
   "source": [
    "# Video of spiking GoogLeNet performance"
   ]
  },
  {
   "cell_type": "code",
   "execution_count": 38,
   "metadata": {},
   "outputs": [],
   "source": [
    "import json\n",
    "import moviepy.editor as mpy\n",
    "from scripts.utils import show_architecture, show_labels, show_animated_raster_plots\n",
    "from scripts.utils import show_input_image, apply_title, load_data_for_video"
   ]
  },
  {
   "cell_type": "code",
   "execution_count": 52,
   "metadata": {},
   "outputs": [],
   "source": [
    "num_samples = 2\n",
    "num_layers = 3\n",
    "clamp_duration = 470\n",
    "simulation_duration = 550\n",
    "classification_duration = simulation_duration - clamp_duration\n",
    "video_duration = classification_duration * num_samples\n",
    "\n",
    "path = '/home/rbodo/.snntoolbox/data/imagenet/inceptionV3/keras/log/gui/09'\n",
    "\n",
    "with open('/home/rbodo/.snntoolbox/Datasets/imagenet/'\n",
    "          'imagenet_class_index_1000.json') as f:\n",
    "    class_idx_dict = json.load(f)\n"
   ]
  },
  {
   "cell_type": "code",
   "execution_count": null,
   "metadata": {},
   "outputs": [],
   "source": [
    "def undo_preprocessing(x):\n",
    "    import numpy as np\n",
    "    return np.add(np.true_divide(x, 2), 0.5)"
   ]
  },
  {
   "cell_type": "code",
   "execution_count": null,
   "metadata": {},
   "outputs": [],
   "source": [
    "input_images_t, spiketrains_n, top5_labels_t, top5_spikecounts_t = load_data_for_video(\n",
    "    path, classification_duration, simulation_duration, video_duration, num_samples, num_layers, class_idx_dict, undo_preprocessing)"
   ]
  }
 ],
 "metadata": {
  "kernelspec": {
   "display_name": "Python 2",
   "language": "python",
   "name": "python2"
  },
  "language_info": {
   "codemirror_mode": {
    "name": "ipython",
    "version": 2.0
   },
   "file_extension": ".py",
   "mimetype": "text/x-python",
   "name": "python",
   "nbconvert_exporter": "python",
   "pygments_lexer": "ipython2",
   "version": "2.7.6"
  }
 },
 "nbformat": 4,
 "nbformat_minor": 0
}