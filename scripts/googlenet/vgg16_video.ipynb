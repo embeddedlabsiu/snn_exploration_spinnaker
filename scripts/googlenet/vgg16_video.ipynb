{
 "cells": [
  {
   "cell_type": "markdown",
   "metadata": {
    "collapsed": true
   },
   "source": [
    "# Video of spiking VGG-16 performance"
   ]
  },
  {
   "cell_type": "code",
   "execution_count": 1,
   "metadata": {},
   "outputs": [],
   "source": [
    "% matplotlib inline\n",
    "import json\n",
    "import moviepy.editor as mpy\n",
    "import matplotlib.pyplot as plt\n",
    "from scripts.utils import show_architecture, show_labels, show_animated_raster_plots\n",
    "from scripts.utils import show_input_image, apply_title, load_data_for_video"
   ]
  },
  {
   "cell_type": "code",
   "execution_count": 2,
   "metadata": {},
   "outputs": [],
   "source": [
    "num_samples = 1\n",
    "num_layers = 3\n",
    "clamp_duration = 84\n",
    "simulation_duration = 200\n",
    "classification_duration = simulation_duration - clamp_duration\n",
    "video_duration = classification_duration * num_samples\n",
    "\n",
    "path = '/home/rbodo/.snntoolbox/data/imagenet/vgg16/keras/maxpool/log/gui/05'\n",
    "\n",
    "with open('/home/rbodo/.snntoolbox/Datasets/imagenet/'\n",
    "          'imagenet_class_index_1000.json') as f:\n",
    "    class_idx_dict = json.load(f)"
   ]
  },
  {
   "cell_type": "code",
   "execution_count": 3,
   "metadata": {},
   "outputs": [],
   "source": [
    "def undo_preprocessing(x):\n",
    "    # Undo zero-center by mean pixel\n",
    "    x[:, 0, :, :] += 103.939\n",
    "    x[:, 1, :, :] += 116.779\n",
    "    x[:, 2, :, :] += 123.68\n",
    "    # 'BGR'->'RGB'\n",
    "    return x[:, ::-1, :, :]"
   ]
  },
  {
   "cell_type": "code",
   "execution_count": 4,
   "metadata": {},
   "outputs": [],
   "source": [
    "input_images_t, spiketrains_n, top5_labels_t, top5_spikecounts_t = load_data_for_video(\n",
    "    path, classification_duration, simulation_duration, video_duration, num_samples, num_layers, class_idx_dict, undo_preprocessing)"
   ]
  },
  {
   "cell_type": "code",
   "execution_count": 1,
   "metadata": {},
   "outputs": [
    {
     "ename": "NameError",
     "evalue": "name 'show_animated_raster_plots' is not defined",
     "traceback": [
      "\u001b[0;31m---------------------------------------------------------------------------\u001b[0m",
      "\u001b[0;31mNameError\u001b[0m                                 Traceback (most recent call last)",
      "\u001b[0;32m<ipython-input-1-ba1168f7dc38>\u001b[0m in \u001b[0;36m<module>\u001b[0;34m()\u001b[0m\n\u001b[0;32m----> 1\u001b[0;31m \u001b[0mshow_animated_raster_plots\u001b[0m\u001b[0;34m(\u001b[0m\u001b[0mspiketrains_n\u001b[0m\u001b[0;34m,\u001b[0m \u001b[0mclassification_duration\u001b[0m\u001b[0;34m,\u001b[0m \u001b[0mvideo_duration\u001b[0m\u001b[0;34m,\u001b[0m \u001b[0mpath\u001b[0m\u001b[0;34m)\u001b[0m\u001b[0;34m\u001b[0m\u001b[0m\n\u001b[0m\u001b[1;32m      2\u001b[0m \u001b[0mshow_input_image\u001b[0m\u001b[0;34m(\u001b[0m\u001b[0minput_images_t\u001b[0m\u001b[0;34m,\u001b[0m \u001b[0mvideo_duration\u001b[0m\u001b[0;34m,\u001b[0m \u001b[0mpath\u001b[0m\u001b[0;34m)\u001b[0m\u001b[0;34m\u001b[0m\u001b[0m\n\u001b[1;32m      3\u001b[0m \u001b[0mshow_labels\u001b[0m\u001b[0;34m(\u001b[0m\u001b[0mtop5_labels_t\u001b[0m\u001b[0;34m,\u001b[0m \u001b[0mtop5_spikecounts_t\u001b[0m\u001b[0;34m,\u001b[0m \u001b[0mvideo_duration\u001b[0m\u001b[0;34m,\u001b[0m \u001b[0mpath\u001b[0m\u001b[0;34m)\u001b[0m\u001b[0;34m\u001b[0m\u001b[0m\n\u001b[1;32m      4\u001b[0m \u001b[0mshow_architecture\u001b[0m\u001b[0;34m(\u001b[0m\u001b[0mvideo_duration\u001b[0m\u001b[0;34m,\u001b[0m \u001b[0mpath\u001b[0m\u001b[0;34m)\u001b[0m\u001b[0;34m\u001b[0m\u001b[0m\n\u001b[1;32m      5\u001b[0m \u001b[0;34m\u001b[0m\u001b[0m\n",
      "\u001b[0;31mNameError\u001b[0m: name 'show_animated_raster_plots' is not defined"
     ],
     "output_type": "error"
    }
   ],
   "source": [
    "show_animated_raster_plots(spiketrains_n, classification_duration, video_duration, path)\n",
    "show_input_image(input_images_t, video_duration, path)\n",
    "show_labels(top5_labels_t, top5_spikecounts_t, video_duration, path)\n",
    "show_architecture(video_duration, path)\n",
    "\n",
    "clip_raster_0 = apply_title(mpy.VideoFileClip('raster_0.gif'), '0_Conv')\n",
    "clip_raster_1 = apply_title(mpy.VideoFileClip('raster_0.gif'), '1_Conv')\n",
    "clip_raster_123 = apply_title(mpy.VideoFileClip('raster_0.gif'), '123_Conv')\n",
    "clip_input = mpy.VideoFileClip('input.gif')\n",
    "clip_labels = mpy.VideoFileClip('labels.gif').resize(height=clip_input.h)\n",
    "\n",
    "animation = mpy.clips_array([[clip_raster_0, clip_raster_1, clip_raster_123],\n",
    "                             [clip_input, clip_labels]])\n",
    "animation.write_gif('inception_movie.gif', fps=20)"
   ]
  },
  {
   "cell_type": "code",
   "execution_count": null,
   "metadata": {},
   "outputs": [],
   "source": [
    ""
   ]
  }
 ],
 "metadata": {
  "kernelspec": {
   "display_name": "Python 2",
   "language": "python",
   "name": "python2"
  },
  "language_info": {
   "codemirror_mode": {
    "name": "ipython",
    "version": 2
   },
   "file_extension": ".py",
   "mimetype": "text/x-python",
   "name": "python",
   "nbconvert_exporter": "python",
   "pygments_lexer": "ipython2",
   "version": "2.7.6"
  }
 },
 "nbformat": 4,
 "nbformat_minor": 0
}
