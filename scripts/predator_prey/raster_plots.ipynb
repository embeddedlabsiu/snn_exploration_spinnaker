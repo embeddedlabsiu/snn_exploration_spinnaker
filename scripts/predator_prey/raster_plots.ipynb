{
 "cells": [
  {
   "cell_type": "code",
   "execution_count": 2,
   "metadata": {
    "collapsed": true
   },
   "outputs": [],
   "source": [
    "% matplotlib inline\n",
    "\n",
    "import os\n",
    "import numpy as np\n",
    "import matplotlib.pyplot as plt"
   ]
  },
  {
   "cell_type": "code",
   "execution_count": 80,
   "metadata": {},
   "outputs": [],
   "source": [
    "plotproperties = {'font.size': 13,\n",
    "                  'axes.titlesize': 'xx-large',\n",
    "                  'axes.labelsize': 'xx-large',\n",
    "                  'xtick.labelsize': 'xx-large',\n",
    "                  'xtick.major.size': 7,\n",
    "                  'xtick.minor.size': 5,\n",
    "                  'ytick.labelsize': 'xx-large',\n",
    "                  'ytick.major.size': 7,\n",
    "                  'ytick.minor.size': 5,\n",
    "                  'legend.fontsize': 'xx-large',\n",
    "                  'figure.figsize': (7, 6),\n",
    "                  'savefig.dpi': 300,\n",
    "                  'savefig.format': 'jpg'}\n",
    "\n",
    "import matplotlib as mpl\n",
    "mpl.rcParams.update(plotproperties)"
   ]
  },
  {
   "cell_type": "code",
   "execution_count": 4,
   "metadata": {},
   "outputs": [],
   "source": [
    "log_dir = '/home/rbodo/.snntoolbox/data/predator_prey/log'\n",
    "\n",
    "runlabel_analog = '05'\n",
    "runlabel_poisson = '04'\n",
    "runlabel_dvs = '03'\n",
    "runlabel_dvs_sumsub = '06'\n",
    "\n",
    "path_analog = os.path.join(log_dir, 'gui', runlabel_analog, 'log_vars', '0.npz')\n",
    "path_poisson = os.path.join(log_dir, 'gui', runlabel_poisson, 'log_vars', '0.npz')\n",
    "path_dvs = os.path.join(log_dir, 'gui', runlabel_dvs, 'log_vars', '0.npz')\n",
    "path_dvs_sumsub = os.path.join(log_dir, 'gui', runlabel_dvs_sumsub, 'log_vars', '0.npz')"
   ]
  },
  {
   "cell_type": "code",
   "execution_count": 5,
   "metadata": {},
   "outputs": [],
   "source": [
    "data_analog = np.load(path_analog)\n",
    "spiketrains_n_b_l_t_analog = data_analog['spiketrains_n_b_l_t']\n",
    "input_b_l_t_analog = data_analog['input_b_l_t']\n",
    "\n",
    "data_poisson = np.load(path_poisson)\n",
    "spiketrains_n_b_l_t_poisson = data_poisson['spiketrains_n_b_l_t']\n",
    "input_b_l_t_poisson = data_poisson['input_b_l_t']\n",
    "\n",
    "data_dvs = np.load(path_dvs)\n",
    "spiketrains_n_b_l_t_dvs = data_dvs['spiketrains_n_b_l_t']\n",
    "input_b_l_t_dvs = data_dvs['input_b_l_t']\n",
    "\n",
    "data_dvs_sumsub = np.load(path_dvs_sumsub)\n",
    "spiketrains_n_b_l_t_dvs_sumsub = data_dvs_sumsub['spiketrains_n_b_l_t']\n",
    "input_b_l_t_dvs_sumsub = data_dvs_sumsub['input_b_l_t']"
   ]
  },
  {
   "cell_type": "code",
   "execution_count": 84,
   "metadata": {},
   "outputs": [],
   "source": [
    "def plot_spiketrains(ax, layer):\n",
    "\n",
    "    duration = layer[0].shape[-1]\n",
    "\n",
    "    nz = np.reshape(layer[0], (-1, duration)).nonzero()\n",
    "    ax.scatter(nz[1], nz[0], s=4, linewidths=0, color='b')\n",
    "    \n",
    "    ax.set_xlim(0, 450)\n",
    "    ax.set_ylim(0, np.prod(layer[0].shape[:-1]))\n",
    "    ax.set_xticks([])\n",
    "    ax.set_yticks([])"
   ]
  },
  {
   "cell_type": "code",
   "execution_count": 87,
   "metadata": {},
   "outputs": [],
   "source": [
    "def plot_input(ax, input_b_l_t):\n",
    "    num_neurons = np.prod(input_b_l_t.shape[:-1])\n",
    "    T = input_b_l_t.shape[-1]\n",
    "    nz = np.reshape(input_b_l_t, (-1, T)).nonzero()\n",
    "    ax.scatter(nz[1], nz[0], s=2, linewidths=0, color='b')\n",
    "    ax.set_xlim(0, 450)\n",
    "    ax.set_ylim(0, num_neurons)\n",
    "    ax.set_xticks([])\n",
    "    ax.set_yticks([])"
   ]
  },
  {
   "cell_type": "code",
   "execution_count": 88,
   "metadata": {},
   "outputs": [],
   "source": [
    "f, ax = plt.subplots(4, 5)\n",
    "f.set_figheight(20)\n",
    "f.set_figwidth(25)\n",
    "\n",
    "ax[0, 0].set_title(\"Input\")\n",
    "ax[0, 1].set_title(\"Convolution\")\n",
    "ax[0, 2].set_title(\"Convolution\")\n",
    "ax[0, 3].set_title(\"Fully-connected\")\n",
    "ax[0, 4].set_title(\"Output\")\n",
    "\n",
    "ax[0, 0].set_ylabel(\"Analog\")\n",
    "ax[1, 0].set_ylabel(\"Poisson\")\n",
    "ax[2, 0].set_ylabel(\"DVS\\nmax subsampling\")\n",
    "ax[3, 0].set_ylabel(\"DVS\\nsum subsampling\")\n",
    "\n",
    "plot_input(ax[0, 0], input_b_l_t_analog)\n",
    "plot_spiketrains(ax[0, 1], spiketrains_n_b_l_t_analog[0])\n",
    "plot_spiketrains(ax[0, 2], spiketrains_n_b_l_t_analog[2])\n",
    "plot_spiketrains(ax[0, 3], spiketrains_n_b_l_t_analog[4])\n",
    "plot_spiketrains(ax[0, 4], spiketrains_n_b_l_t_analog[5])\n",
    "\n",
    "plot_input(ax[1, 0], input_b_l_t_poisson)\n",
    "plot_spiketrains(ax[1, 1], spiketrains_n_b_l_t_poisson[0])\n",
    "plot_spiketrains(ax[1, 2], spiketrains_n_b_l_t_poisson[2])\n",
    "plot_spiketrains(ax[1, 3], spiketrains_n_b_l_t_poisson[4])\n",
    "plot_spiketrains(ax[1, 4], spiketrains_n_b_l_t_poisson[5])\n",
    "\n",
    "plot_input(ax[2, 0], input_b_l_t_dvs)\n",
    "plot_spiketrains(ax[2, 1], spiketrains_n_b_l_t_dvs[0])\n",
    "plot_spiketrains(ax[2, 2], spiketrains_n_b_l_t_dvs[2])\n",
    "plot_spiketrains(ax[2, 3], spiketrains_n_b_l_t_dvs[4])\n",
    "plot_spiketrains(ax[2, 4], spiketrains_n_b_l_t_dvs[5])\n",
    "\n",
    "plot_input(ax[3, 0], input_b_l_t_dvs_sumsub)\n",
    "plot_spiketrains(ax[3, 1], spiketrains_n_b_l_t_dvs_sumsub[0])\n",
    "plot_spiketrains(ax[3, 2], spiketrains_n_b_l_t_dvs_sumsub[2])\n",
    "plot_spiketrains(ax[3, 3], spiketrains_n_b_l_t_dvs_sumsub[4])\n",
    "plot_spiketrains(ax[3, 4], spiketrains_n_b_l_t_dvs_sumsub[5])\n",
    "\n",
    "plt.subplots_adjust(wspace=0, hspace=0)\n",
    "\n",
    "plt.savefig(os.path.join(log_dir, 'spiketrains'), bbox_inches='tight')"
   ]
  },
  {
   "cell_type": "code",
   "execution_count": null,
   "metadata": {},
   "outputs": [],
   "source": []
  }
 ],
 "metadata": {
  "kernelspec": {
   "display_name": "Python 2",
   "language": "python",
   "name": "python2"
  },
  "language_info": {
   "codemirror_mode": {
    "name": "ipython",
    "version": 2
   },
   "file_extension": ".py",
   "mimetype": "text/x-python",
   "name": "python",
   "nbconvert_exporter": "python",
   "pygments_lexer": "ipython2",
   "version": "2.7.6"
  }
 },
 "nbformat": 4,
 "nbformat_minor": 0
}
