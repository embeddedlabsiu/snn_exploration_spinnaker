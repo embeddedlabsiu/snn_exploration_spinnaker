{
 "cells": [
  {
   "cell_type": "markdown",
   "metadata": {},
   "source": [
    "# Performance of LeNet-5"
   ]
  },
  {
   "cell_type": "code",
   "execution_count": 1,
   "metadata": {
    "collapsed": true
   },
   "outputs": [],
   "source": [
    "% matplotlib inline\n",
    "\n",
    "import os\n",
    "import matplotlib.pyplot as plt\n",
    "\n",
    "from scripts.utils import ExpResults"
   ]
  },
  {
   "cell_type": "code",
   "execution_count": 2,
   "metadata": {},
   "outputs": [],
   "source": [
    "plotproperties = {'font.size': 13,\n",
    "                  'axes.titlesize': 'xx-large',\n",
    "                  'axes.labelsize': 'xx-large',\n",
    "                  'xtick.labelsize': 'xx-large',\n",
    "                  'xtick.major.size': 7,\n",
    "                  'xtick.minor.size': 5,\n",
    "                  'ytick.labelsize': 'xx-large',\n",
    "                  'ytick.major.size': 7,\n",
    "                  'ytick.minor.size': 5,\n",
    "                  'legend.fontsize': 'x-large',\n",
    "                  'figure.figsize': (7, 6),\n",
    "                  'savefig.dpi': 300,\n",
    "                  'savefig.format': 'pdf'}\n",
    "\n",
    "import matplotlib as mpl\n",
    "mpl.rcParams.update(plotproperties)"
   ]
  },
  {
   "cell_type": "markdown",
   "metadata": {},
   "source": [
    "## Parameters and definitions"
   ]
  },
  {
   "cell_type": "code",
   "execution_count": 2,
   "metadata": {},
   "outputs": [],
   "source": [
    "log_dir1 = '/home/rbodo/.snntoolbox/data/cifar10/alexnet/log/gui'\n",
    "runlabel_dyn_thresh_no_norm = '02'\n",
    "runlabel_dyn_thresh_norm = '09'\n",
    "path_dyn_thresh_no_norm = os.path.join(log_dir1, runlabel_dyn_thresh_no_norm)\n",
    "path_dyn_thresh_norm = os.path.join(log_dir1, runlabel_dyn_thresh_norm)\n",
    "log_dir2 = '/home/rbodo/.snntoolbox/data/cifar10/binaryconnect/log/gui'\n",
    "runlabel_clamped_relu = '09'\n",
    "path_clamped_relu = os.path.join(log_dir2, runlabel_clamped_relu)"
   ]
  },
  {
   "cell_type": "code",
   "execution_count": 4,
   "metadata": {},
   "outputs": [],
   "source": [
    "#exp_dyn_thresh_no_norm = ExpResults(path_dyn_thresh_no_norm, 'TTFS dyn thresh no norm', 'o', 'b')\n",
    "#exp_dyn_thresh_norm = ExpResults(path_dyn_thresh_norm, 'TTFS dyn thresh norm', 'v', 'red')\n",
    "exp_clamped_relu = ExpResults(path_clamped_relu, 'TTFS clamped relu', 'x', 'green')\n",
    "#exp_dyn_thresh_no_norm, exp_dyn_thresh_norm, \n",
    "experiments = [exp_clamped_relu]"
   ]
  },
  {
   "cell_type": "markdown",
   "metadata": {},
   "source": [
    "## Plot error vs operations"
   ]
  },
  {
   "cell_type": "code",
   "execution_count": 5,
   "metadata": {
    "collapsed": false
   },
   "outputs": [
    {
     "data": {
      "image/png": "[encoded data removed]",
      "text/plain": [
       "<matplotlib.figure.Figure at 0x7f0dda9049b0>"
      ]
     },
     "metadata": {},
     "output_type": "display_data"
    }
   ],
   "source": [
    "from mpl_toolkits.axes_grid1.inset_locator import zoomed_inset_axes, InsetPosition, mark_inset\n",
    "\n",
    "show_numbers = False\n",
    "\n",
    "fig, ax = plt.subplots()\n",
    "\n",
    "for exp in experiments:\n",
    "    ax.errorbar(exp.mean_computations_t, exp.e1_mean, xerr=exp.std_computations_t,\n",
    "                yerr=exp.e1_confidence95, fmt=exp.marker, label='SNN '+exp.label, capsize=0, elinewidth=0.1, color=exp.color1)\n",
    "    ax.scatter(exp.operations_ann, exp.e1_ann, marker='*', s=100, label='ANN', color='purple', alpha=0.5, linewidths=3)\n",
    "    ax.annotate('ANN', xy=(exp.operations_ann - 0.2, exp.e1_ann + 3), fontsize=16)\n",
    "\n",
    "exp = experiments[0]\n",
    "\n",
    "if show_numbers:\n",
    "    plt.annotate('({:.2f} MOps, {:.2f}%)'.format(exp.operations_ann, exp.e1_ann), xy=(exp.operations_ann - 0.8, exp.e1_ann + 7), fontsize=16, color=exp.color1)\n",
    "    plt.annotate('({:.2f} MOps, {:.2f}%)'.format(exp.op1_0, exp.e1_0), xy=(exp.op1_0, exp.e1_0),\n",
    "                 xytext=(exp.op1_0, exp.e1_0 + 13), fontsize=16,\n",
    "                 arrowprops=dict(color=exp.color1, shrink=0.05, width=5, headwidth=10), color=exp.color1)\n",
    "\n",
    "ax.set_xlim(0, None)\n",
    "ax.set_ylim(0, 100)\n",
    "ax.set_xlabel('MOps')\n",
    "ax.set_ylabel('Error [%]')\n",
    "leg = ax.legend(loc='upper right')\n",
    "leg.get_frame().set_alpha(1)\n",
    "# plt.title('ANN vs SNN performance')\n",
    "fig.savefig(os.path.join(log_dir2, 'err_vs_ops_mnist'), bbox_inches='tight')"
   ]
  },
  {
   "cell_type": "code",
   "execution_count": 6,
   "metadata": {
    "collapsed": false
   },
   "outputs": [
    {
     "name": "stdout",
     "output_type": "stream",
     "text": [
      "TTFS clamped relu\nANN top-1:                         (1234.39310 MOps/frame, 6.96 %)\nSNN top-1 best error:         (208.84232 MOps/frame, 16.56 %)\n\n"
     ]
    }
   ],
   "source": [
    "for exp in experiments:\n",
    "    print(exp.label)\n",
    "    print('ANN top-1:                         ({:.5f} MOps/frame, {:.2f} %)'.format(exp.operations_ann, exp.e1_ann))\n",
    "    print('SNN top-1 best error:         ({:.5f} MOps/frame, {:.2f} %)'.format(exp.op1_0, exp.e1_0))\n",
    "    print('')"
   ]
  },
  {
   "cell_type": "code",
   "execution_count": null,
   "metadata": {},
   "outputs": [],
   "source": []
  }
 ],
 "metadata": {
  "kernelspec": {
   "display_name": "Python 2",
   "language": "python",
   "name": "python2"
  },
  "language_info": {
   "codemirror_mode": {
    "name": "ipython",
    "version": 2
   },
   "file_extension": ".py",
   "mimetype": "text/x-python",
   "name": "python",
   "nbconvert_exporter": "python",
   "pygments_lexer": "ipython2",
   "version": "2.7.6"
  }
 },
 "nbformat": 4,
 "nbformat_minor": 0
}
