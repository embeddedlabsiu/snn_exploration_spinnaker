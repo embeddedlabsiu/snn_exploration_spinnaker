{
 "cells": [
  {
   "cell_type": "code",
   "execution_count": 3,
   "metadata": {
    "collapsed": true
   },
   "outputs": [
    {
     "ename": "ImportError",
     "evalue": "cannot import name 'get_frames_from_sequence'",
     "traceback": [
      "\u001b[0;31m---------------------------------------------------------------------------\u001b[0m",
      "\u001b[0;31mImportError\u001b[0m                               Traceback (most recent call last)",
      "\u001b[0;32m<ipython-input-3-aed966a1f75b>\u001b[0m in \u001b[0;36m<module>\u001b[0;34m()\u001b[0m\n\u001b[1;32m      4\u001b[0m \u001b[0;32mimport\u001b[0m \u001b[0mnumpy\u001b[0m \u001b[0;32mas\u001b[0m \u001b[0mnp\u001b[0m\u001b[0;34m\u001b[0m\u001b[0m\n\u001b[1;32m      5\u001b[0m \u001b[0;32mimport\u001b[0m \u001b[0mmatplotlib\u001b[0m\u001b[0;34m.\u001b[0m\u001b[0mpyplot\u001b[0m \u001b[0;32mas\u001b[0m \u001b[0mplt\u001b[0m\u001b[0;34m\u001b[0m\u001b[0m\n\u001b[0;32m----> 6\u001b[0;31m \u001b[0;32mfrom\u001b[0m \u001b[0msnntoolbox\u001b[0m\u001b[0;34m.\u001b[0m\u001b[0mio_utils\u001b[0m\u001b[0;34m.\u001b[0m\u001b[0mAedatTools\u001b[0m\u001b[0;34m.\u001b[0m\u001b[0mDVSIterator\u001b[0m \u001b[0;32mimport\u001b[0m \u001b[0mget_frames_from_sequence\u001b[0m\u001b[0;34m\u001b[0m\u001b[0m\n\u001b[0m",
      "\u001b[0;31mImportError\u001b[0m: cannot import name 'get_frames_from_sequence'"
     ],
     "output_type": "error"
    }
   ],
   "source": [
    "%matplotlib inline\n",
    "\n",
    "import os\n",
    "import numpy as np\n",
    "import matplotlib.pyplot as plt\n",
    "from snntoolbox.io_utils.AedatTools.DVSIterator import get_frames_from_sequence"
   ]
  },
  {
   "cell_type": "code",
   "execution_count": null,
   "metadata": {},
   "outputs": [],
   "source": [
    "datapath = '/home/rbodo/Downloads'\n",
    "filename = 'rec_extracted.npz'\n",
    "\n",
    "# Load recorded data. Assumes that the data has been extracted from the hdf5 \n",
    "# file into variables like ``xaddr``, ``yaddr``, ``timestamp`` etc, and saved \n",
    "# as compressed numpy file, using a command like\n",
    "# np.savez_compressed(os.path.join(datapath, filename), xaddr=xaddr, yaddr=yaddr, ...)\n",
    "data_dict = np.load(os.path.join(datapath, filename))\n",
    "\n",
    "print(\"Keys to data fields stored in ``data_dict``: {}\".format(data_dict.keys()))\n",
    "\n",
    "# Access individual fields by the name of the keyword argument \n",
    "# with which it was saved.\n",
    "xaddr = data_dict['xaddr']\n",
    "yaddr = data_dict['yaddr']\n",
    "\n",
    "# The following are not needed for creating the frames.\n",
    "timestamp = data_dict['timestamp']\n",
    "sonar_left = data_dict['sonar_left']\n",
    "sonar_center = data_dict['sonar_center']\n",
    "sonar_right = data_dict['sonar_right']\n",
    "throttle = data_dict['throttle']\n",
    "steering = data_dict['steering']"
   ]
  },
  {
   "cell_type": "code",
   "execution_count": 4,
   "metadata": {
    "collapsed": true
   },
   "outputs": [
    {
     "ename": "NameError",
     "evalue": "name 'get_frames_from_sequence' is not defined",
     "traceback": [
      "\u001b[0;31m---------------------------------------------------------------------------\u001b[0m",
      "\u001b[0;31mNameError\u001b[0m                                 Traceback (most recent call last)",
      "\u001b[0;32m<ipython-input-4-0d6a6ee3d74e>\u001b[0m in \u001b[0;36m<module>\u001b[0;34m()\u001b[0m\n\u001b[0;32m----> 1\u001b[0;31m frames = get_frames_from_sequence(xaddr, yaddr, num_events_per_sample=2000,\n\u001b[0m\u001b[1;32m      2\u001b[0m                                   chip_size=(240, 180), target_size=(64, 64))\n",
      "\u001b[0;31mNameError\u001b[0m: name 'get_frames_from_sequence' is not defined"
     ],
     "output_type": "error"
    }
   ],
   "source": [
    "frames = get_frames_from_sequence(xaddr, yaddr, num_events_per_sample=2000,\n",
    "                                  chip_size=(240, 180), target_size=(64, 64))"
   ]
  },
  {
   "cell_type": "code",
   "execution_count": null,
   "metadata": {},
   "outputs": [],
   "source": [
    "plt.imshow(frames[0])"
   ]
  },
  {
   "cell_type": "markdown",
   "metadata": {},
   "source": [
    "TODO: May need to add an extra axis to ``frames`` to fit input shape of CNN, i.e. (1, 64, 64) instead of (64, 64). "
   ]
  },
  {
   "cell_type": "code",
   "execution_count": null,
   "metadata": {},
   "outputs": [],
   "source": [
    ""
   ]
  }
 ],
 "metadata": {
  "kernelspec": {
   "display_name": "Python 2",
   "language": "python",
   "name": "python2"
  },
  "language_info": {
   "codemirror_mode": {
    "name": "ipython",
    "version": 2
   },
   "file_extension": ".py",
   "mimetype": "text/x-python",
   "name": "python",
   "nbconvert_exporter": "python",
   "pygments_lexer": "ipython2",
   "version": "2.7.6"
  }
 },
 "nbformat": 4,
 "nbformat_minor": 0
}
