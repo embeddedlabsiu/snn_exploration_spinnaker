{
 "cells": [
  {
   "cell_type": "code",
   "execution_count": 1,
   "metadata": {
    "collapsed": true
   },
   "outputs": [],
   "source": [
    "%matplotlib inline\n",
    "\n",
    "import os\n",
    "import numpy as np\n",
    "import matplotlib.pyplot as plt"
   ]
  },
  {
   "cell_type": "code",
   "execution_count": null,
   "metadata": {},
   "outputs": [],
   "source": [
    "\n",
    "\n",
    "def get_frames_from_events(xaddr_all, yaddr_all, num_events_per_sample=2000,\n",
    "                           chip_size=(240, 180), target_size=(64, 64)):\n",
    "    \"\"\"\n",
    "    Extract ``num_events_per_sample`` events from a one-dimensional sequence of\n",
    "    AER-events. The events are spatially subsampled to ``target_size``, and\n",
    "    standardized to [0, 1] using 3-sigma normalization. The resulting events are binned \n",
    "    into a frame. The function operates on the events in ``xaddr_all`` etc \n",
    "    sequentially until all are processed into frames.\n",
    "    \"\"\"\n",
    "\n",
    "    num_samples = int(len(xaddr_all) / num_events_per_sample)\n",
    "    frames = np.zeros([num_samples] + list(target_size), 'float32')\n",
    "    print(\"Extracting {} frames from DVS event sequence.\".format(num_samples))\n",
    "    # Iterate for as long as there are events in the sequence.\n",
    "    for sample_idx in range(num_samples):\n",
    "        event_idxs = range(num_events_per_sample * sample_idx,\n",
    "                           num_events_per_sample * (sample_idx + 1))\n",
    "        # Loop over ``num_events_per_sample`` events\n",
    "        for x, y in zip(xaddr_all[event_idxs], yaddr_all[event_idxs]):\n",
    "            # Subsample from 240x180 to e.g. 64x64\n",
    "            x = int(x * (target_size[0] - 1) / (chip_size[0] - 1))\n",
    "            y = int(y * (target_size[1] - 1) / (chip_size[1] - 1))\n",
    "            # Count event at subsampled location (x and y axes are swapped)\n",
    "            frames[sample_idx, y, x] += 1\n",
    "        \n",
    "        # Compute standard deviation of event-sum distribution \n",
    "        # after removing zeros\n",
    "        sample = frames[sample_idx]\n",
    "        sigma = np.std(sample[np.nonzero(sample)])\n",
    "        \n",
    "        # Clip number of events per pixel to three-sigma\n",
    "        frames[sample_idx] = np.clip(sample, 0, 3*sigma)\n",
    "        \n",
    "    return frames / 255."
   ]
  },
  {
   "cell_type": "code",
   "execution_count": null,
   "metadata": {},
   "outputs": [],
   "source": [
    "datapath = '/home/rbodo/Downloads'\n",
    "filename = 'rec_extracted.npz'\n",
    "\n",
    "# Load recorded data. Assumes that the data has been extracted from the hdf5 \n",
    "# file into variables like ``xaddr``, ``yaddr``, ``timestamp`` etc, and saved \n",
    "# as compressed numpy file, using a command like\n",
    "# np.savez_compressed(os.path.join(datapath, filename), xaddr=xaddr, yaddr=yaddr, ...)\n",
    "data_dict = np.load(os.path.join(datapath, filename))\n",
    "\n",
    "print(\"Keys to data fields stored in ``data_dict``: {}\".format(data_dict.keys()))\n",
    "\n",
    "# Access individual fields by the name of the keyword argument \n",
    "# with which it was saved.\n",
    "xaddr = data_dict['xaddr']\n",
    "yaddr = data_dict['yaddr']\n",
    "\n",
    "# The following are not needed for creating the frames.\n",
    "timestamp = data_dict['timestamp']\n",
    "sonar_left = data_dict['sonar_left']\n",
    "sonar_center = data_dict['sonar_center']\n",
    "sonar_right = data_dict['sonar_right']\n",
    "throttle = data_dict['throttle']\n",
    "steering = data_dict['steering']"
   ]
  },
  {
   "cell_type": "code",
   "execution_count": null,
   "metadata": {},
   "outputs": [],
   "source": [
    "frames = get_frames_from_events(xaddr, yaddr, num_events_per_sample=2000,\n",
    "                                chip_size=(240, 180), target_size=(64, 64))"
   ]
  },
  {
   "cell_type": "code",
   "execution_count": null,
   "metadata": {},
   "outputs": [],
   "source": [
    "plt.imshow(frames[0])"
   ]
  },
  {
   "cell_type": "markdown",
   "metadata": {},
   "source": [
    "TODO: May need to add an extra axis to ``frames`` to fit input shape of CNN, i.e. (1, 64, 64) instead of (64, 64). "
   ]
  },
  {
   "cell_type": "code",
   "execution_count": null,
   "metadata": {},
   "outputs": [],
   "source": [
    ""
   ]
  }
 ],
 "metadata": {
  "kernelspec": {
   "display_name": "Python 2",
   "language": "python",
   "name": "python2"
  },
  "language_info": {
   "codemirror_mode": {
    "name": "ipython",
    "version": 2
   },
   "file_extension": ".py",
   "mimetype": "text/x-python",
   "name": "python",
   "nbconvert_exporter": "python",
   "pygments_lexer": "ipython2",
   "version": "2.7.6"
  }
 },
 "nbformat": 4,
 "nbformat_minor": 0
}
