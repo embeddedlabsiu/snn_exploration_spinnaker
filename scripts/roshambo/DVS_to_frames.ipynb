{
 "cells": [
  {
   "cell_type": "code",
   "execution_count": 1,
   "metadata": {
    "collapsed": true
   },
   "outputs": [
    {
     "name": "stderr",
     "output_type": "stream",
     "text": [
      "Using TensorFlow backend.\n"
     ]
    }
   ],
   "source": [
    "% matplotlib inline\n",
    "\n",
    "import os\n",
    "import numpy as np\n",
    "import matplotlib.pyplot as plt\n",
    "\n",
    "from keras.utils.np_utils import to_categorical\n",
    "from snntoolbox.datasets.aedat.DVSIterator import DVSIterator, load_event_list, get_frames_from_sequence"
   ]
  },
  {
   "cell_type": "code",
   "execution_count": 2,
   "metadata": {},
   "outputs": [],
   "source": [
    "path = '/home/rbodo/.snntoolbox/Datasets/predator_prey'\n",
    "path_aedat = os.path.join(path, 'aedat')\n",
    "path_aedat_all = os.path.join(path_aedat, 'all')\n",
    "path_aedat_test = os.path.join(path_aedat, 'not_balanced_4834samples')\n",
    "path_npz = os.path.join(path, 'npz', 'dvs', 'rectified_sum',\n",
    "                        'maxpool_subsampling', 'scale_before_clip')\n",
    "data_format = 'channels_last'\n",
    "eventframe_width = 10\n",
    "num_dvs_events_per_sample = 5000\n",
    "chip_size = [240, 180]\n",
    "image_shape = [36, 36]\n",
    "batch_shape = [1] + image_shape + [1] if data_format == 'channels_last' else [1, 1] + image_shape\n",
    "label_dict = {\"N\": \"0\", \"L\": \"1\", \"C\": \"2\", \"R\": \"3\",}\n",
    "frame_gen_method = 'rectified_sum'\n",
    "is_x_first = True\n",
    "is_x_flipped = True\n",
    "is_y_flipped = True\n",
    "maxpool_subsampling = True\n",
    "do_clip_three_sigma = True"
   ]
  },
  {
   "cell_type": "code",
   "execution_count": 3,
   "metadata": {},
   "outputs": [],
   "source": [
    "filenames_x = [\n",
    "    'DAVIS240C-2016-01-11T15-43-32+0000-04010058-0_recording_1.aedat',\n",
    "    'DAVIS240C-2016-01-11T15-50-11+0000-04010058-0_recording_2.aedat',\n",
    "    'DAVIS240C-2016-01-11T15-53-42+0000-04010058-0_recording_3.aedat',\n",
    "    'DAVIS240C-2016-01-11T15-57-58+0000-04010058-0_recording_4.aedat',\n",
    "    'DAVIS240C-2016-01-11T16-00-00+0000-04010058-0_recording_5.aedat',\n",
    "    'DAVIS240C-2016-01-15T10-39-15+0000-04010058-0_recording_7.aedat',\n",
    "    'DAVIS240C-2016-02-23T12-42-14+0000-04010058-0_recording_8.aedat',\n",
    "    'DAVIS240C-2016-02-23T12-44-25+0000-04010058-0_recording_9.aedat',\n",
    "    'DAVIS240C-2016-02-23T13-03-56+0000-04010058-0_recording_10.aedat',\n",
    "    'DAVIS240C-2016-02-23T13-39-29+0000-04010058-0_recording_11.aedat',\n",
    "    'DAVIS240C-2016-02-23T13-42-36+0000-04010058-0_recording_12.aedat',\n",
    "    'DAVIS240C-2016-02-23T13-48-36+0000-04010058-0_recording_13.aedat',\n",
    "    'DAVIS240C-2016-02-23T14-04-37+0000-04010058-0_recording_14.aedat',\n",
    "    'DAVIS240C-2016-02-26T10-14-49+0000-04010058-0_recording_16.aedat',\n",
    "    'DAVIS240C-2016-02-26T10-19-37+0000-04010058-0_recording_17.aedat',\n",
    "    'DAVIS240C-2016-02-26T10-22-32+0000-04010058-0_recording_18.aedat']\n",
    "\n",
    "filenames_y = [\n",
    "    'DAVIS240C-2016-01-11T15-43-32+0000-04010058-0_recording_1-targets.txt',\n",
    "    'DAVIS240C-2016-01-11T15-50-11+0000-04010058-0_recording_2-targets.txt',\n",
    "    'DAVIS240C-2016-01-11T15-53-42+0000-04010058-0_recording_3-targets.txt',\n",
    "    'DAVIS240C-2016-01-11T15-57-58+0000-04010058-0_recording_4-targets.txt',\n",
    "    'DAVIS240C-2016-01-11T16-00-00+0000-04010058-0_recording_5-targets.txt',\n",
    "    'DAVIS240C-2016-01-15T10-39-15+0000-04010058-0_recording_7-targets.txt',\n",
    "    'DAVIS240C-2016-02-23T12-42-14+0000-04010058-0_recording_8-targets.txt',\n",
    "    'DAVIS240C-2016-02-23T12-44-25+0000-04010058-0_recording_9-targets.txt',\n",
    "    'DAVIS240C-2016-02-23T13-03-56+0000-04010058-0_recording_10-targets.txt',\n",
    "    'DAVIS240C-2016-02-23T13-39-29+0000-04010058-0_recording_11-targets.txt',\n",
    "    'DAVIS240C-2016-02-23T13-42-36+0000-04010058-0_recording_12-targets.txt',\n",
    "    'DAVIS240C-2016-02-23T13-48-36+0000-04010058-0_recording_13-targets.txt',\n",
    "    'DAVIS240C-2016-02-23T14-04-37+0000-04010058-0_recording_14-targets.txt',\n",
    "    'DAVIS240C-2016-02-26T10-14-49+0000-04010058-0_recording_16-targets.txt',\n",
    "    'DAVIS240C-2016-02-26T10-19-37+0000-04010058-0_recording_17-targets.txt',\n",
    "    'DAVIS240C-2016-02-26T10-22-32+0000-04010058-0_recording_18-targets.txt']\n"
   ]
  },
  {
   "cell_type": "code",
   "execution_count": 4,
   "metadata": {},
   "outputs": [],
   "source": [
    "def get_y(filepath, start_times):\n",
    "    \n",
    "    label_file = open(filepath)\n",
    "    labels_list = []\n",
    "    times_list = []\n",
    "    lines = label_file.readlines()\n",
    "    \n",
    "    for line in lines:\n",
    "        line_segments = line.split()\n",
    "        if line_segments[0] == '#':\n",
    "            continue\n",
    "        t = int(line_segments[1])\n",
    "        x_coord = int(line_segments[2])\n",
    "\n",
    "        if x_coord == -1:\n",
    "            label = 0  # N\n",
    "        elif x_coord < 80:\n",
    "            label = 1  # L\n",
    "        elif x_coord < 160:\n",
    "            label = 2  # C\n",
    "        elif x_coord < 240:\n",
    "            label = 3  # R\n",
    "        else:\n",
    "            label = 4  # Invalid\n",
    "        labels_list.append(label)\n",
    "        times_list.append(t)\n",
    "    \n",
    "    labels_array = np.array(labels_list)\n",
    "    times_array = np.array(times_list)\n",
    "    y = [labels_array[np.argmin(np.abs(times_array - st))] for st in start_times]\n",
    "\n",
    "    return np.array(y)"
   ]
  },
  {
   "cell_type": "code",
   "execution_count": 5,
   "metadata": {
    "collapsed": false
   },
   "outputs": [
    {
     "name": "stdout",
     "output_type": "stream",
     "text": [
      "Loading DVS sample /home/rbodo/.snntoolbox/Datasets/predator_prey/aedat/all/DAVIS240C-2016-01-11T15-43-32+0000-04010058-0_recording_1.aedat...\n"
     ]
    },
    {
     "name": "stdout",
     "output_type": "stream",
     "text": [
      "Extracting 15864 frames from DVS event sequence.\n"
     ]
    },
    {
     "name": "stdout",
     "output_type": "stream",
     "text": [
      "Loading DVS sample /home/rbodo/.snntoolbox/Datasets/predator_prey/aedat/all/DAVIS240C-2016-01-11T15-50-11+0000-04010058-0_recording_2.aedat...\n"
     ]
    },
    {
     "name": "stdout",
     "output_type": "stream",
     "text": [
      "Extracting 13492 frames from DVS event sequence.\n"
     ]
    },
    {
     "name": "stdout",
     "output_type": "stream",
     "text": [
      "Loading DVS sample /home/rbodo/.snntoolbox/Datasets/predator_prey/aedat/all/DAVIS240C-2016-01-11T15-53-42+0000-04010058-0_recording_3.aedat...\n"
     ]
    },
    {
     "name": "stdout",
     "output_type": "stream",
     "text": [
      "Extracting 30473 frames from DVS event sequence.\n"
     ]
    },
    {
     "name": "stdout",
     "output_type": "stream",
     "text": [
      "Loading DVS sample /home/rbodo/.snntoolbox/Datasets/predator_prey/aedat/all/DAVIS240C-2016-01-11T15-57-58+0000-04010058-0_recording_4.aedat...\n"
     ]
    },
    {
     "name": "stdout",
     "output_type": "stream",
     "text": [
      "Extracting 10950 frames from DVS event sequence.\n"
     ]
    },
    {
     "name": "stdout",
     "output_type": "stream",
     "text": [
      "Loading DVS sample /home/rbodo/.snntoolbox/Datasets/predator_prey/aedat/all/DAVIS240C-2016-01-11T16-00-00+0000-04010058-0_recording_5.aedat...\n"
     ]
    },
    {
     "name": "stdout",
     "output_type": "stream",
     "text": [
      "Extracting 4094 frames from DVS event sequence.\n"
     ]
    },
    {
     "name": "stdout",
     "output_type": "stream",
     "text": [
      "Loading DVS sample /home/rbodo/.snntoolbox/Datasets/predator_prey/aedat/all/DAVIS240C-2016-01-15T10-39-15+0000-04010058-0_recording_7.aedat...\n"
     ]
    },
    {
     "name": "stdout",
     "output_type": "stream",
     "text": [
      "Extracting 24495 frames from DVS event sequence.\n"
     ]
    },
    {
     "name": "stdout",
     "output_type": "stream",
     "text": [
      "Loading DVS sample /home/rbodo/.snntoolbox/Datasets/predator_prey/aedat/all/DAVIS240C-2016-02-23T12-42-14+0000-04010058-0_recording_8.aedat...\n"
     ]
    },
    {
     "name": "stdout",
     "output_type": "stream",
     "text": [
      "Extracting 5327 frames from DVS event sequence.\n"
     ]
    },
    {
     "name": "stdout",
     "output_type": "stream",
     "text": [
      "Loading DVS sample /home/rbodo/.snntoolbox/Datasets/predator_prey/aedat/all/DAVIS240C-2016-02-23T12-44-25+0000-04010058-0_recording_9.aedat...\n"
     ]
    },
    {
     "name": "stdout",
     "output_type": "stream",
     "text": [
      "Extracting 15681 frames from DVS event sequence.\n"
     ]
    },
    {
     "name": "stdout",
     "output_type": "stream",
     "text": [
      "Loading DVS sample /home/rbodo/.snntoolbox/Datasets/predator_prey/aedat/all/DAVIS240C-2016-02-23T13-03-56+0000-04010058-0_recording_10.aedat...\n"
     ]
    },
    {
     "name": "stdout",
     "output_type": "stream",
     "text": [
      "Extracting 17501 frames from DVS event sequence.\n"
     ]
    },
    {
     "name": "stdout",
     "output_type": "stream",
     "text": [
      "Loading DVS sample /home/rbodo/.snntoolbox/Datasets/predator_prey/aedat/all/DAVIS240C-2016-02-23T13-39-29+0000-04010058-0_recording_11.aedat...\n"
     ]
    },
    {
     "name": "stdout",
     "output_type": "stream",
     "text": [
      "Extracting 9694 frames from DVS event sequence.\n"
     ]
    },
    {
     "name": "stdout",
     "output_type": "stream",
     "text": [
      "Loading DVS sample /home/rbodo/.snntoolbox/Datasets/predator_prey/aedat/all/DAVIS240C-2016-02-23T13-42-36+0000-04010058-0_recording_12.aedat...\n"
     ]
    },
    {
     "name": "stdout",
     "output_type": "stream",
     "text": [
      "Extracting 11077 frames from DVS event sequence.\n"
     ]
    },
    {
     "name": "stdout",
     "output_type": "stream",
     "text": [
      "Loading DVS sample /home/rbodo/.snntoolbox/Datasets/predator_prey/aedat/all/DAVIS240C-2016-02-23T13-48-36+0000-04010058-0_recording_13.aedat...\n"
     ]
    },
    {
     "name": "stdout",
     "output_type": "stream",
     "text": [
      "Extracting 10266 frames from DVS event sequence.\n"
     ]
    },
    {
     "name": "stdout",
     "output_type": "stream",
     "text": [
      "Loading DVS sample /home/rbodo/.snntoolbox/Datasets/predator_prey/aedat/all/DAVIS240C-2016-02-23T14-04-37+0000-04010058-0_recording_14.aedat...\n"
     ]
    },
    {
     "name": "stdout",
     "output_type": "stream",
     "text": [
      "Extracting 20830 frames from DVS event sequence.\n"
     ]
    },
    {
     "name": "stdout",
     "output_type": "stream",
     "text": [
      "Loading DVS sample /home/rbodo/.snntoolbox/Datasets/predator_prey/aedat/all/DAVIS240C-2016-02-26T10-14-49+0000-04010058-0_recording_16.aedat...\n"
     ]
    },
    {
     "name": "stdout",
     "output_type": "stream",
     "text": [
      "Extracting 21009 frames from DVS event sequence.\n"
     ]
    },
    {
     "name": "stdout",
     "output_type": "stream",
     "text": [
      "Loading DVS sample /home/rbodo/.snntoolbox/Datasets/predator_prey/aedat/all/DAVIS240C-2016-02-26T10-19-37+0000-04010058-0_recording_17.aedat...\n"
     ]
    },
    {
     "name": "stdout",
     "output_type": "stream",
     "text": [
      "Extracting 6982 frames from DVS event sequence.\n"
     ]
    },
    {
     "name": "stdout",
     "output_type": "stream",
     "text": [
      "Loading DVS sample /home/rbodo/.snntoolbox/Datasets/predator_prey/aedat/all/DAVIS240C-2016-02-26T10-22-32+0000-04010058-0_recording_18.aedat...\n"
     ]
    },
    {
     "name": "stdout",
     "output_type": "stream",
     "text": [
      "Extracting 12643 frames from DVS event sequence.\n"
     ]
    }
   ],
   "source": [
    "x_new = None\n",
    "y_new = None\n",
    "i = 0\n",
    "for filename_x, filename_y in zip(filenames_x, filenames_y):\n",
    "    filepath_x = os.path.join(path_aedat_all, filename_x)\n",
    "    filepath_y = os.path.join(path_aedat_all, filename_y)\n",
    "     \n",
    "    event_sequence = load_event_list(filepath_x)\n",
    "    \n",
    "    num_frames = int(len(event_sequence) / num_dvs_events_per_sample)\n",
    "\n",
    "    x = get_frames_from_sequence(\n",
    "        event_sequence, num_dvs_events_per_sample, data_format, frame_gen_method, \n",
    "        is_x_first, is_x_flipped, is_y_flipped, maxpool_subsampling, \n",
    "        do_clip_three_sigma, chip_size, image_shape)\n",
    "\n",
    "    timestamps = [e[2] for e in event_sequence]\n",
    "\n",
    "    start_times_ = timestamps[::num_dvs_events_per_sample]\n",
    "    start_times = start_times_[:-1]\n",
    "    y_ = get_y(filepath_y, start_times)\n",
    "    y = to_categorical(y_, 4)\n",
    "    \n",
    "    assert len(x) == len(y) == num_frames, 'x: {}, y: {}, num_frames: {}'.format(\n",
    "        len(x), len(y), num_frames)\n",
    "\n",
    "    # Have to reload because keeping the whole list of x's in memory causes segmentation faults.\n",
    "    if i == 0:\n",
    "        x_new = x\n",
    "        y_new = y\n",
    "    else:\n",
    "        x_prev = np.load(os.path.join(path_npz, 'x_{}.npz'.format(i-1)))['arr_0']\n",
    "        y_prev = np.load(os.path.join(path_npz, 'y_{}.npz'.format(i-1)))['arr_0']\n",
    "        x_new = np.concatenate([x_prev, x])\n",
    "        y_new = np.concatenate([y_prev, y])\n",
    "    \n",
    "    np.savez_compressed(os.path.join(path_npz, 'x_{}'.format(i)), x_new)\n",
    "    np.savez_compressed(os.path.join(path_npz, 'y_{}'.format(i)), y_new)\n",
    "    \n",
    "    i += 1\n",
    "\n",
    "x_all = x_new\n",
    "y_all = y_new\n",
    "\n",
    "np.savez_compressed(os.path.join(path_npz, 'x_all'), x_all)\n",
    "np.savez_compressed(os.path.join(path_npz, 'y_all'), y_all)\n"
   ]
  },
  {
   "cell_type": "markdown",
   "metadata": {},
   "source": [
    "### Split train / test set"
   ]
  },
  {
   "cell_type": "code",
   "execution_count": 7,
   "metadata": {},
   "outputs": [],
   "source": [
    "fraction_testset = 0.1\n",
    "num_samples_total = len(x_all)\n",
    "num_samples_testset = int(num_samples_total * fraction_testset)\n",
    "\n",
    "shuffled_idxs = np.random.permutation(num_samples_total)\n",
    "\n",
    "x_all_shuffled = x_all[shuffled_idxs]\n",
    "y_all_shuffled = y_all[shuffled_idxs]\n",
    "\n",
    "np.savez_compressed(os.path.join(path_npz, 'x_all_shuffled'), x_all_shuffled)\n",
    "np.savez_compressed(os.path.join(path_npz, 'y_all_shuffled'), y_all_shuffled)\n",
    "\n",
    "x_train = x_all_shuffled[:-num_samples_testset]\n",
    "y_train = y_all_shuffled[:-num_samples_testset]\n",
    "x_test = x_all_shuffled[-num_samples_testset:]\n",
    "y_test = y_all_shuffled[-num_samples_testset:]\n",
    "\n",
    "np.savez_compressed(os.path.join(path_npz, 'x_train'), x_train)\n",
    "np.savez_compressed(os.path.join(path_npz, 'y_train'), y_train)\n",
    "np.savez_compressed(os.path.join(path_npz, 'x_test'), x_test)\n",
    "np.savez_compressed(os.path.join(path_npz, 'y_test'), y_test)\n"
   ]
  },
  {
   "cell_type": "code",
   "execution_count": 8,
   "metadata": {},
   "outputs": [
    {
     "name": "stdout",
     "output_type": "stream",
     "text": [
      "Found 65 samples belonging to 4 classes.\n"
     ]
    }
   ],
   "source": [
    "dvs_gen = DVSIterator(path_aedat_test, batch_shape, data_format, frame_gen_method, \n",
    "                      is_x_first, is_x_flipped, is_y_flipped, eventframe_width, \n",
    "                      num_dvs_events_per_sample, maxpool_subsampling, do_clip_three_sigma,\n",
    "                      chip_size, image_shape, label_dict)"
   ]
  },
  {
   "cell_type": "code",
   "execution_count": 9,
   "metadata": {
    "collapsed": true
   },
   "outputs": [
    {
     "name": "stdout",
     "output_type": "stream",
     "text": [
      "Loading DVS sample /home/rbodo/.snntoolbox/Datasets/predator_prey/aedat/not_balanced_4834samples/C/rec_1.aedat...\n"
     ]
    },
    {
     "name": "stdout",
     "output_type": "stream",
     "text": [
      "Total number of events of this sample: 665000.\nNumber of batches: 133.\nExtracting 133 frames from DVS event sequence.\n"
     ]
    },
    {
     "name": "stdout",
     "output_type": "stream",
     "text": [
      "Extracting batch of samples à 5000 events from DVS sequence...\nDiscarded 1524 events during subsampling.\nDiscarded 190 events during 3-sigma standardization.\nExtracting batch of samples à 5000 events from DVS sequence...\nDiscarded 410 events during subsampling.\nDiscarded 220 events during 3-sigma standardization.\nExtracting batch of samples à 5000 events from DVS sequence...\nDiscarded 417 events during subsampling.\nDiscarded 269 events during 3-sigma standardization.\nExtracting batch of samples à 5000 events from DVS sequence...\nDiscarded 453 events during subsampling.\nDiscarded 238 events during 3-sigma standardization.\nExtracting batch of samples à 5000 events from DVS sequence...\n"
     ]
    },
    {
     "name": "stdout",
     "output_type": "stream",
     "text": [
      "Discarded 431 events during subsampling.\nDiscarded 179 events during 3-sigma standardization.\nExtracting batch of samples à 5000 events from DVS sequence...\nDiscarded 871 events during subsampling.\nDiscarded 169 events during 3-sigma standardization.\nExtracting batch of samples à 5000 events from DVS sequence...\nDiscarded 421 events during subsampling.\nDiscarded 230 events during 3-sigma standardization.\nExtracting batch of samples à 5000 events from DVS sequence...\nDiscarded 374 events during subsampling.\nDiscarded 279 events during 3-sigma standardization.\nExtracting batch of samples à 5000 events from DVS sequence...\nDiscarded 353 events during subsampling.\nDiscarded 276 events during 3-sigma standardization.\nExtracting batch of samples à 5000 events from DVS sequence...\nDiscarded 329 events during subsampling.\nDiscarded 247 events during 3-sigma standardization.\n"
     ]
    },
    {
     "name": "stdout",
     "output_type": "stream",
     "text": [
      "Extracting batch of samples à 5000 events from DVS sequence...\nDiscarded 964 events during subsampling.\nDiscarded 192 events during 3-sigma standardization.\nExtracting batch of samples à 5000 events from DVS sequence...\nDiscarded 1597 events during subsampling.\nDiscarded 221 events during 3-sigma standardization.\nExtracting batch of samples à 5000 events from DVS sequence...\nDiscarded 1174 events during subsampling.\nDiscarded 193 events during 3-sigma standardization.\nExtracting batch of samples à 5000 events from DVS sequence...\nDiscarded 328 events during subsampling.\nDiscarded 208 events during 3-sigma standardization.\nExtracting batch of samples à 5000 events from DVS sequence...\nDiscarded 316 events during subsampling.\nDiscarded 220 events during 3-sigma standardization.\nExtracting batch of samples à 5000 events from DVS sequence...\nDiscarded 211 events during subsampling.\nDiscarded 224 events during 3-sigma standardization."
     ]
    },
    {
     "name": "stdout",
     "output_type": "stream",
     "text": [
      "\nExtracting batch of samples à 5000 events from DVS sequence...\nDiscarded 370 events during subsampling.\nDiscarded 185 events during 3-sigma standardization.\nExtracting batch of samples à 5000 events from DVS sequence...\nDiscarded 399 events during subsampling.\nDiscarded 154 events during 3-sigma standardization.\nExtracting batch of samples à 5000 events from DVS sequence...\nDiscarded 471 events during subsampling.\nDiscarded 243 events during 3-sigma standardization.\nExtracting batch of samples à 5000 events from DVS sequence...\nDiscarded 335 events during subsampling.\nDiscarded 315 events during 3-sigma standardization.\nExtracting batch of samples à 5000 events from DVS sequence...\nDiscarded 342 events during subsampling.\nDiscarded 168 events during 3-sigma standardization.\n"
     ]
    },
    {
     "name": "stdout",
     "output_type": "stream",
     "text": [
      "Extracting batch of samples à 5000 events from DVS sequence...\nDiscarded 422 events during subsampling.\nDiscarded 190 events during 3-sigma standardization.\nExtracting batch of samples à 5000 events from DVS sequence...\nDiscarded 173 events during subsampling.\nDiscarded 335 events during 3-sigma standardization.\nExtracting batch of samples à 5000 events from DVS sequence...\nDiscarded 442 events during subsampling.\nDiscarded 285 events during 3-sigma standardization.\nExtracting batch of samples à 5000 events from DVS sequence...\nDiscarded 119 events during subsampling.\nDiscarded 414 events during 3-sigma standardization.\nExtracting batch of samples à 5000 events from DVS sequence...\nDiscarded 272 events during subsampling.\n"
     ]
    },
    {
     "name": "stdout",
     "output_type": "stream",
     "text": [
      "Discarded 250 events during 3-sigma standardization.\nExtracting batch of samples à 5000 events from DVS sequence...\nDiscarded 1351 events during subsampling.\nDiscarded 241 events during 3-sigma standardization.\nExtracting batch of samples à 5000 events from DVS sequence...\nDiscarded 433 events during subsampling.\nDiscarded 202 events during 3-sigma standardization.\nExtracting batch of samples à 5000 events from DVS sequence...\nDiscarded 805 events during subsampling.\nDiscarded 184 events during 3-sigma standardization.\nExtracting batch of samples à 5000 events from DVS sequence...\nDiscarded 428 events during subsampling.\nDiscarded 194 events during 3-sigma standardization.\nExtracting batch of samples à 5000 events from DVS sequence...\nDiscarded 351 events during subsampling."
     ]
    },
    {
     "name": "stdout",
     "output_type": "stream",
     "text": [
      "\nDiscarded 227 events during 3-sigma standardization.\nExtracting batch of samples à 5000 events from DVS sequence...\nDiscarded 403 events during subsampling.\nDiscarded 193 events during 3-sigma standardization.\nExtracting batch of samples à 5000 events from DVS sequence...\nDiscarded 420 events during subsampling.\nDiscarded 195 events during 3-sigma standardization.\nExtracting batch of samples à 5000 events from DVS sequence...\nDiscarded 360 events during subsampling.\nDiscarded 211 events during 3-sigma standardization.\nExtracting batch of samples à 5000 events from DVS sequence...\nDiscarded 390 events during subsampling.\nDiscarded 202 events during 3-sigma standardization.\nExtracting batch of samples à 5000 events from DVS sequence...\nDiscarded 542 events during subsampling.\nDiscarded 312 events during 3-sigma standardization.\nExtracting batch of samples à 5000 events from DVS sequence...\nDiscarded 459 events during subsampling.\n"
     ]
    },
    {
     "name": "stdout",
     "output_type": "stream",
     "text": [
      "Discarded 293 events during 3-sigma standardization.\nExtracting batch of samples à 5000 events from DVS sequence...\nDiscarded 523 events during subsampling.\nDiscarded 198 events during 3-sigma standardization.\nExtracting batch of samples à 5000 events from DVS sequence...\nDiscarded 425 events during subsampling.\nDiscarded 225 events during 3-sigma standardization.\nExtracting batch of samples à 5000 events from DVS sequence...\nDiscarded 549 events during subsampling.\nDiscarded 207 events during 3-sigma standardization.\nExtracting batch of samples à 5000 events from DVS sequence...\nDiscarded 462 events during subsampling.\nDiscarded 169 events during 3-sigma standardization.\nExtracting batch of samples à 5000 events from DVS sequence...\nDiscarded 397 events during subsampling.\nDiscarded 197 events during 3-sigma standardization.\nExtracting batch of samples à 5000 events from DVS sequence..."
     ]
    },
    {
     "name": "stdout",
     "output_type": "stream",
     "text": [
      "\nDiscarded 329 events during subsampling.\nDiscarded 206 events during 3-sigma standardization.\nExtracting batch of samples à 5000 events from DVS sequence...\nDiscarded 419 events during subsampling.\nDiscarded 228 events during 3-sigma standardization.\nExtracting batch of samples à 5000 events from DVS sequence...\nDiscarded 344 events during subsampling.\nDiscarded 216 events during 3-sigma standardization.\nExtracting batch of samples à 5000 events from DVS sequence...\nDiscarded 318 events during subsampling.\nDiscarded 280 events during 3-sigma standardization.\nExtracting batch of samples à 5000 events from DVS sequence...\nDiscarded 757 events during subsampling.\nDiscarded 284 events during 3-sigma standardization.\nExtracting batch of samples à 5000 events from DVS sequence...\n"
     ]
    },
    {
     "name": "stdout",
     "output_type": "stream",
     "text": [
      "Discarded 135 events during subsampling.\nDiscarded 236 events during 3-sigma standardization.\nExtracting batch of samples à 5000 events from DVS sequence...\nDiscarded 409 events during subsampling.\nDiscarded 187 events during 3-sigma standardization.\nExtracting batch of samples à 5000 events from DVS sequence...\nDiscarded 429 events during subsampling.\nDiscarded 213 events during 3-sigma standardization.\nExtracting batch of samples à 5000 events from DVS sequence...\nDiscarded 470 events during subsampling.\nDiscarded 225 events during 3-sigma standardization.\nExtracting batch of samples à 5000 events from DVS sequence...\nDiscarded 434 events during subsampling.\nDiscarded 207 events during 3-sigma standardization.\nExtracting batch of samples à 5000 events from DVS sequence...\nDiscarded 434 events during subsampling.\nDiscarded 253 events during 3-sigma standardization.\n"
     ]
    },
    {
     "name": "stdout",
     "output_type": "stream",
     "text": [
      "Extracting batch of samples à 5000 events from DVS sequence...\nDiscarded 397 events during subsampling.\nDiscarded 274 events during 3-sigma standardization.\nExtracting batch of samples à 5000 events from DVS sequence...\nDiscarded 499 events during subsampling.\nDiscarded 303 events during 3-sigma standardization.\nExtracting batch of samples à 5000 events from DVS sequence...\nDiscarded 336 events during subsampling.\nDiscarded 210 events during 3-sigma standardization.\nExtracting batch of samples à 5000 events from DVS sequence...\nDiscarded 371 events during subsampling.\nDiscarded 212 events during 3-sigma standardization.\nExtracting batch of samples à 5000 events from DVS sequence...\nDiscarded 2366 events during subsampling.\nDiscarded 231 events during 3-sigma standardization.\nExtracting batch of samples à 5000 events from DVS sequence...\n"
     ]
    },
    {
     "name": "stdout",
     "output_type": "stream",
     "text": [
      "Discarded 1668 events during subsampling.\nDiscarded 198 events during 3-sigma standardization.\nExtracting batch of samples à 5000 events from DVS sequence...\nDiscarded 439 events during subsampling.\nDiscarded 253 events during 3-sigma standardization.\nExtracting batch of samples à 5000 events from DVS sequence...\nDiscarded 381 events during subsampling.\nDiscarded 278 events during 3-sigma standardization.\nExtracting batch of samples à 5000 events from DVS sequence...\nDiscarded 471 events during subsampling.\nDiscarded 228 events during 3-sigma standardization.\nExtracting batch of samples à 5000 events from DVS sequence...\nDiscarded 459 events during subsampling.\nDiscarded 248 events during 3-sigma standardization.\nExtracting batch of samples à 5000 events from DVS sequence...\nDiscarded 381 events during subsampling.\nDiscarded 246 events during 3-sigma standardization."
     ]
    },
    {
     "name": "stdout",
     "output_type": "stream",
     "text": [
      "\nExtracting batch of samples à 5000 events from DVS sequence...\nDiscarded 375 events during subsampling.\nDiscarded 238 events during 3-sigma standardization.\nExtracting batch of samples à 5000 events from DVS sequence...\nDiscarded 2041 events during subsampling.\nDiscarded 131 events during 3-sigma standardization.\nExtracting batch of samples à 5000 events from DVS sequence...\nDiscarded 403 events during subsampling.\nDiscarded 309 events during 3-sigma standardization.\nExtracting batch of samples à 5000 events from DVS sequence...\nDiscarded 446 events during subsampling.\nDiscarded 245 events during 3-sigma standardization.\nExtracting batch of samples à 5000 events from DVS sequence...\nDiscarded 657 events during subsampling.\nDiscarded 234 events during 3-sigma standardization.\nExtracting batch of samples à 5000 events from DVS sequence...\n"
     ]
    },
    {
     "name": "stdout",
     "output_type": "stream",
     "text": [
      "Discarded 422 events during subsampling.\nDiscarded 218 events during 3-sigma standardization.\nExtracting batch of samples à 5000 events from DVS sequence...\nDiscarded 529 events during subsampling.\nDiscarded 225 events during 3-sigma standardization.\nExtracting batch of samples à 5000 events from DVS sequence...\nDiscarded 444 events during subsampling.\nDiscarded 205 events during 3-sigma standardization.\nExtracting batch of samples à 5000 events from DVS sequence...\nDiscarded 2244 events during subsampling.\nDiscarded 103 events during 3-sigma standardization.\nExtracting batch of samples à 5000 events from DVS sequence...\nDiscarded 328 events during subsampling.\nDiscarded 210 events during 3-sigma standardization.\nExtracting batch of samples à 5000 events from DVS sequence...\nDiscarded 416 events during subsampling.\nDiscarded 210 events during 3-sigma standardization.\nExtracting batch of samples à 5000 events from DVS sequence...\n"
     ]
    },
    {
     "name": "stdout",
     "output_type": "stream",
     "text": [
      "Discarded 391 events during subsampling.\nDiscarded 213 events during 3-sigma standardization.\nExtracting batch of samples à 5000 events from DVS sequence...\nDiscarded 468 events during subsampling.\nDiscarded 219 events during 3-sigma standardization.\nExtracting batch of samples à 5000 events from DVS sequence...\nDiscarded 818 events during subsampling.\nDiscarded 201 events during 3-sigma standardization.\nExtracting batch of samples à 5000 events from DVS sequence...\nDiscarded 553 events during subsampling.\nDiscarded 217 events during 3-sigma standardization.\nExtracting batch of samples à 5000 events from DVS sequence...\nDiscarded 409 events during subsampling.\nDiscarded 255 events during 3-sigma standardization.\nExtracting batch of samples à 5000 events from DVS sequence...\n"
     ]
    },
    {
     "name": "stdout",
     "output_type": "stream",
     "text": [
      "Discarded 527 events during subsampling.\nDiscarded 713 events during 3-sigma standardization.\nExtracting batch of samples à 5000 events from DVS sequence...\nDiscarded 364 events during subsampling.\nDiscarded 288 events during 3-sigma standardization.\nExtracting batch of samples à 5000 events from DVS sequence...\nDiscarded 614 events during subsampling.\nDiscarded 540 events during 3-sigma standardization.\nExtracting batch of samples à 5000 events from DVS sequence...\nDiscarded 356 events during subsampling.\nDiscarded 348 events during 3-sigma standardization.\nExtracting batch of samples à 5000 events from DVS sequence...\nDiscarded 492 events during subsampling.\nDiscarded 409 events during 3-sigma standardization."
     ]
    },
    {
     "name": "stdout",
     "output_type": "stream",
     "text": [
      "\nExtracting batch of samples à 5000 events from DVS sequence...\nDiscarded 42 events during subsampling.\nDiscarded 642 events during 3-sigma standardization.\nExtracting batch of samples à 5000 events from DVS sequence...\nDiscarded 95 events during subsampling.\nDiscarded 380 events during 3-sigma standardization.\nExtracting batch of samples à 5000 events from DVS sequence...\nDiscarded 672 events during subsampling.\nDiscarded 434 events during 3-sigma standardization.\nExtracting batch of samples à 5000 events from DVS sequence...\nDiscarded 399 events during subsampling.\nDiscarded 348 events during 3-sigma standardization.\nExtracting batch of samples à 5000 events from DVS sequence...\nDiscarded 155 events during subsampling.\nDiscarded 340 events during 3-sigma standardization.\n"
     ]
    },
    {
     "name": "stdout",
     "output_type": "stream",
     "text": [
      "Extracting batch of samples à 5000 events from DVS sequence...\nDiscarded 778 events during subsampling.\nDiscarded 318 events during 3-sigma standardization.\nExtracting batch of samples à 5000 events from DVS sequence...\nDiscarded 709 events during subsampling.\nDiscarded 447 events during 3-sigma standardization.\nExtracting batch of samples à 5000 events from DVS sequence...\nDiscarded 776 events during subsampling.\nDiscarded 176 events during 3-sigma standardization.\nExtracting batch of samples à 5000 events from DVS sequence...\nDiscarded 175 events during subsampling.\nDiscarded 567 events during 3-sigma standardization.\nExtracting batch of samples à 5000 events from DVS sequence...\nDiscarded 613 events during subsampling.\nDiscarded 268 events during 3-sigma standardization.\nExtracting batch of samples à 5000 events from DVS sequence...\n"
     ]
    },
    {
     "name": "stdout",
     "output_type": "stream",
     "text": [
      "Discarded 618 events during subsampling.\nDiscarded 210 events during 3-sigma standardization.\nExtracting batch of samples à 5000 events from DVS sequence...\nDiscarded 368 events during subsampling.\nDiscarded 243 events during 3-sigma standardization.\nExtracting batch of samples à 5000 events from DVS sequence...\nDiscarded 1116 events during subsampling.\nDiscarded 244 events during 3-sigma standardization.\nExtracting batch of samples à 5000 events from DVS sequence...\nDiscarded 672 events during subsampling.\nDiscarded 341 events during 3-sigma standardization.\nExtracting batch of samples à 5000 events from DVS sequence...\nDiscarded 1408 events during subsampling.\nDiscarded 248 events during 3-sigma standardization.\nExtracting batch of samples à 5000 events from DVS sequence...\nDiscarded 387 events during subsampling.\nDiscarded 175 events during 3-sigma standardization.\nExtracting batch of samples à 5000 events from DVS sequence...\n"
     ]
    },
    {
     "name": "stdout",
     "output_type": "stream",
     "text": [
      "Discarded 274 events during subsampling.\nDiscarded 328 events during 3-sigma standardization.\nExtracting batch of samples à 5000 events from DVS sequence...\nDiscarded 433 events during subsampling.\nDiscarded 246 events during 3-sigma standardization.\nExtracting batch of samples à 5000 events from DVS sequence...\nDiscarded 424 events during subsampling.\nDiscarded 229 events during 3-sigma standardization.\nExtracting batch of samples à 5000 events from DVS sequence...\nDiscarded 455 events during subsampling.\nDiscarded 210 events during 3-sigma standardization.\nExtracting batch of samples à 5000 events from DVS sequence...\nDiscarded 908 events during subsampling.\nDiscarded 232 events during 3-sigma standardization.\nExtracting batch of samples à 5000 events from DVS sequence...\n"
     ]
    },
    {
     "name": "stdout",
     "output_type": "stream",
     "text": [
      "Discarded 409 events during subsampling.\nDiscarded 285 events during 3-sigma standardization.\nExtracting batch of samples à 5000 events from DVS sequence...\nDiscarded 1924 events during subsampling.\nDiscarded 177 events during 3-sigma standardization.\nExtracting batch of samples à 5000 events from DVS sequence...\nDiscarded 322 events during subsampling.\nDiscarded 205 events during 3-sigma standardization.\nExtracting batch of samples à 5000 events from DVS sequence...\nDiscarded 356 events during subsampling.\nDiscarded 188 events during 3-sigma standardization.\nExtracting batch of samples à 5000 events from DVS sequence...\nDiscarded 426 events during subsampling.\nDiscarded 197 events during 3-sigma standardization.\nExtracting batch of samples à 5000 events from DVS sequence...\n"
     ]
    },
    {
     "name": "stdout",
     "output_type": "stream",
     "text": [
      "Discarded 365 events during subsampling.\nDiscarded 218 events during 3-sigma standardization.\nExtracting batch of samples à 5000 events from DVS sequence...\nDiscarded 538 events during subsampling.\nDiscarded 229 events during 3-sigma standardization.\nExtracting batch of samples à 5000 events from DVS sequence...\nDiscarded 274 events during subsampling.\nDiscarded 320 events during 3-sigma standardization.\nExtracting batch of samples à 5000 events from DVS sequence...\nDiscarded 417 events during subsampling.\nDiscarded 264 events during 3-sigma standardization.\nExtracting batch of samples à 5000 events from DVS sequence...\nDiscarded 440 events during subsampling.\nDiscarded 319 events during 3-sigma standardization.\nExtracting batch of samples à 5000 events from DVS sequence...\n"
     ]
    },
    {
     "name": "stdout",
     "output_type": "stream",
     "text": [
      "Discarded 508 events during subsampling.\nDiscarded 234 events during 3-sigma standardization.\nExtracting batch of samples à 5000 events from DVS sequence...\nDiscarded 383 events during subsampling.\nDiscarded 238 events during 3-sigma standardization.\nExtracting batch of samples à 5000 events from DVS sequence...\nDiscarded 871 events during subsampling.\nDiscarded 195 events during 3-sigma standardization.\nExtracting batch of samples à 5000 events from DVS sequence...\nDiscarded 2349 events during subsampling.\nDiscarded 108 events during 3-sigma standardization.\nExtracting batch of samples à 5000 events from DVS sequence...\nDiscarded 1136 events during subsampling.\nDiscarded 175 events during 3-sigma standardization.\nExtracting batch of samples à 5000 events from DVS sequence...\nDiscarded 339 events during subsampling.\nDiscarded 258 events during 3-sigma standardization.\nExtracting batch of samples à 5000 events from DVS sequence...\n"
     ]
    },
    {
     "name": "stdout",
     "output_type": "stream",
     "text": [
      "Discarded 379 events during subsampling.\nDiscarded 256 events during 3-sigma standardization.\nExtracting batch of samples à 5000 events from DVS sequence...\nDiscarded 397 events during subsampling.\nDiscarded 235 events during 3-sigma standardization.\nExtracting batch of samples à 5000 events from DVS sequence...\nDiscarded 344 events during subsampling.\nDiscarded 277 events during 3-sigma standardization.\nExtracting batch of samples à 5000 events from DVS sequence...\nDiscarded 386 events during subsampling.\nDiscarded 215 events during 3-sigma standardization.\nExtracting batch of samples à 5000 events from DVS sequence...\nDiscarded 1552 events during subsampling.\nDiscarded 270 events during 3-sigma standardization.\nExtracting batch of samples à 5000 events from DVS sequence...\n"
     ]
    },
    {
     "name": "stdout",
     "output_type": "stream",
     "text": [
      "Discarded 478 events during subsampling.\nDiscarded 215 events during 3-sigma standardization.\nExtracting batch of samples à 5000 events from DVS sequence...\nDiscarded 428 events during subsampling.\nDiscarded 267 events during 3-sigma standardization.\nExtracting batch of samples à 5000 events from DVS sequence...\nDiscarded 405 events during subsampling.\nDiscarded 248 events during 3-sigma standardization.\nExtracting batch of samples à 5000 events from DVS sequence...\nDiscarded 408 events during subsampling.\nDiscarded 239 events during 3-sigma standardization.\nExtracting batch of samples à 5000 events from DVS sequence...\nDiscarded 381 events during subsampling.\nDiscarded 260 events during 3-sigma standardization.\nLoading DVS sample /home/rbodo/.snntoolbox/Datasets/predator_prey/aedat/not_balanced_4834samples/C/rec_10.aedat...\n"
     ]
    },
    {
     "name": "stdout",
     "output_type": "stream",
     "text": [
      "Total number of events of this sample: 120000.\nNumber of batches: 24.\nExtracting 24 frames from DVS event sequence.\n"
     ]
    },
    {
     "name": "stdout",
     "output_type": "stream",
     "text": [
      "Extracting batch of samples à 5000 events from DVS sequence...\nDiscarded 524 events during subsampling.\nDiscarded 371 events during 3-sigma standardization.\nExtracting batch of samples à 5000 events from DVS sequence...\nDiscarded 377 events during subsampling.\nDiscarded 283 events during 3-sigma standardization.\nExtracting batch of samples à 5000 events from DVS sequence...\nDiscarded 516 events during subsampling.\nDiscarded 239 events during 3-sigma standardization.\nExtracting batch of samples à 5000 events from DVS sequence...\nDiscarded 573 events during subsampling.\nDiscarded 184 events during 3-sigma standardization.\nExtracting batch of samples à 5000 events from DVS sequence...\nDiscarded 1664 events during subsampling.\n"
     ]
    },
    {
     "name": "stdout",
     "output_type": "stream",
     "text": [
      "Discarded 164 events during 3-sigma standardization.\nExtracting batch of samples à 5000 events from DVS sequence...\nDiscarded 522 events during subsampling.\nDiscarded 210 events during 3-sigma standardization.\nExtracting batch of samples à 5000 events from DVS sequence...\nDiscarded 727 events during subsampling.\nDiscarded 310 events during 3-sigma standardization.\nExtracting batch of samples à 5000 events from DVS sequence...\nDiscarded 52 events during subsampling.\nDiscarded 476 events during 3-sigma standardization.\nExtracting batch of samples à 5000 events from DVS sequence...\nDiscarded 1602 events during subsampling.\nDiscarded 218 events during 3-sigma standardization.\nExtracting batch of samples à 5000 events from DVS sequence...\nDiscarded 352 events during subsampling.\nDiscarded 415 events during 3-sigma standardization.\nExtracting batch of samples à 5000 events from DVS sequence...\nDiscarded 120 events during subsampling."
     ]
    },
    {
     "name": "stdout",
     "output_type": "stream",
     "text": [
      "\nDiscarded 370 events during 3-sigma standardization.\nExtracting batch of samples à 5000 events from DVS sequence...\nDiscarded 1479 events during subsampling.\nDiscarded 174 events during 3-sigma standardization.\nExtracting batch of samples à 5000 events from DVS sequence...\nDiscarded 321 events during subsampling.\nDiscarded 606 events during 3-sigma standardization.\nExtracting batch of samples à 5000 events from DVS sequence...\nDiscarded 240 events during subsampling.\nDiscarded 515 events during 3-sigma standardization.\nExtracting batch of samples à 5000 events from DVS sequence...\nDiscarded 221 events during subsampling.\nDiscarded 305 events during 3-sigma standardization.\nExtracting batch of samples à 5000 events from DVS sequence...\nDiscarded 849 events during subsampling.\nDiscarded 185 events during 3-sigma standardization.\nExtracting batch of samples à 5000 events from DVS sequence...\n"
     ]
    },
    {
     "name": "stdout",
     "output_type": "stream",
     "text": [
      "Discarded 372 events during subsampling.\nDiscarded 249 events during 3-sigma standardization.\nExtracting batch of samples à 5000 events from DVS sequence...\nDiscarded 521 events during subsampling.\nDiscarded 300 events during 3-sigma standardization.\nExtracting batch of samples à 5000 events from DVS sequence...\nDiscarded 222 events during subsampling.\nDiscarded 258 events during 3-sigma standardization.\nExtracting batch of samples à 5000 events from DVS sequence...\nDiscarded 536 events during subsampling.\nDiscarded 248 events during 3-sigma standardization.\nExtracting batch of samples à 5000 events from DVS sequence...\nDiscarded 246 events during subsampling.\nDiscarded 222 events during 3-sigma standardization.\nExtracting batch of samples à 5000 events from DVS sequence..."
     ]
    },
    {
     "name": "stdout",
     "output_type": "stream",
     "text": [
      "\nDiscarded 236 events during subsampling.\nDiscarded 225 events during 3-sigma standardization.\nExtracting batch of samples à 5000 events from DVS sequence...\nDiscarded 27 events during subsampling.\nDiscarded 273 events during 3-sigma standardization.\nLoading DVS sample /home/rbodo/.snntoolbox/Datasets/predator_prey/aedat/not_balanced_4834samples/C/rec_11.aedat...\nTotal number of events of this sample: 145000.\nNumber of batches: 29.\nExtracting 29 frames from DVS event sequence.\n"
     ]
    },
    {
     "name": "stdout",
     "output_type": "stream",
     "text": [
      "Extracting batch of samples à 5000 events from DVS sequence...\nDiscarded 1414 events during subsampling.\nDiscarded 194 events during 3-sigma standardization.\nExtracting batch of samples à 5000 events from DVS sequence...\nDiscarded 611 events during subsampling.\nDiscarded 276 events during 3-sigma standardization.\nExtracting batch of samples à 5000 events from DVS sequence...\nDiscarded 188 events during subsampling.\nDiscarded 294 events during 3-sigma standardization.\nExtracting batch of samples à 5000 events from DVS sequence...\nDiscarded 632 events during subsampling.\nDiscarded 284 events during 3-sigma standardization.\nExtracting batch of samples à 5000 events from DVS sequence...\nDiscarded 220 events during subsampling.\n"
     ]
    },
    {
     "name": "stdout",
     "output_type": "stream",
     "text": [
      "Discarded 254 events during 3-sigma standardization.\nExtracting batch of samples à 5000 events from DVS sequence...\nDiscarded 632 events during subsampling.\nDiscarded 228 events during 3-sigma standardization.\nExtracting batch of samples à 5000 events from DVS sequence...\nDiscarded 2034 events during subsampling.\nDiscarded 132 events during 3-sigma standardization.\nExtracting batch of samples à 5000 events from DVS sequence...\nDiscarded 625 events during subsampling.\nDiscarded 268 events during 3-sigma standardization.\nExtracting batch of samples à 5000 events from DVS sequence...\nDiscarded 302 events during subsampling.\nDiscarded 397 events during 3-sigma standardization.\nExtracting batch of samples à 5000 events from DVS sequence...\nDiscarded 132 events during subsampling.\nDiscarded 334 events during 3-sigma standardization.\nExtracting batch of samples à 5000 events from DVS sequence...\n"
     ]
    },
    {
     "name": "stdout",
     "output_type": "stream",
     "text": [
      "Discarded 650 events during subsampling.\nDiscarded 376 events during 3-sigma standardization.\nExtracting batch of samples à 5000 events from DVS sequence...\nDiscarded 255 events during subsampling.\nDiscarded 445 events during 3-sigma standardization.\nExtracting batch of samples à 5000 events from DVS sequence...\nDiscarded 393 events during subsampling.\nDiscarded 453 events during 3-sigma standardization.\nExtracting batch of samples à 5000 events from DVS sequence...\nDiscarded 325 events during subsampling.\nDiscarded 542 events during 3-sigma standardization.\nExtracting batch of samples à 5000 events from DVS sequence...\nDiscarded 412 events during subsampling.\nDiscarded 505 events during 3-sigma standardization.\nExtracting batch of samples à 5000 events from DVS sequence...\n"
     ]
    },
    {
     "name": "stdout",
     "output_type": "stream",
     "text": [
      "Discarded 319 events during subsampling.\nDiscarded 428 events during 3-sigma standardization.\nExtracting batch of samples à 5000 events from DVS sequence...\nDiscarded 430 events during subsampling.\nDiscarded 302 events during 3-sigma standardization.\nExtracting batch of samples à 5000 events from DVS sequence...\nDiscarded 162 events during subsampling.\nDiscarded 300 events during 3-sigma standardization.\nExtracting batch of samples à 5000 events from DVS sequence...\nDiscarded 351 events during subsampling.\nDiscarded 343 events during 3-sigma standardization.\nExtracting batch of samples à 5000 events from DVS sequence...\nDiscarded 637 events during subsampling.\nDiscarded 241 events during 3-sigma standardization.\nExtracting batch of samples à 5000 events from DVS sequence...\n"
     ]
    },
    {
     "name": "stdout",
     "output_type": "stream",
     "text": [
      "Discarded 82 events during subsampling.\nDiscarded 315 events during 3-sigma standardization.\nExtracting batch of samples à 5000 events from DVS sequence...\nDiscarded 407 events during subsampling.\nDiscarded 304 events during 3-sigma standardization.\nExtracting batch of samples à 5000 events from DVS sequence...\nDiscarded 447 events during subsampling.\nDiscarded 311 events during 3-sigma standardization.\nExtracting batch of samples à 5000 events from DVS sequence...\nDiscarded 43 events during subsampling.\nDiscarded 308 events during 3-sigma standardization.\nExtracting batch of samples à 5000 events from DVS sequence...\nDiscarded 493 events during subsampling.\nDiscarded 285 events during 3-sigma standardization.\n"
     ]
    },
    {
     "name": "stdout",
     "output_type": "stream",
     "text": [
      "Extracting batch of samples à 5000 events from DVS sequence...\nDiscarded 18 events during subsampling.\nDiscarded 311 events during 3-sigma standardization.\nExtracting batch of samples à 5000 events from DVS sequence...\nDiscarded 393 events during subsampling.\nDiscarded 313 events during 3-sigma standardization.\nExtracting batch of samples à 5000 events from DVS sequence...\nDiscarded 88 events during subsampling.\nDiscarded 333 events during 3-sigma standardization.\nLoading DVS sample /home/rbodo/.snntoolbox/Datasets/predator_prey/aedat/not_balanced_4834samples/C/rec_12.aedat...\nTotal number of events of this sample: 85000.\nNumber of batches: 17.\nExtracting 17 frames from DVS event sequence.\n"
     ]
    },
    {
     "name": "stdout",
     "output_type": "stream",
     "text": [
      "Extracting batch of samples à 5000 events from DVS sequence...\nDiscarded 455 events during subsampling.\nDiscarded 314 events during 3-sigma standardization.\nExtracting batch of samples à 5000 events from DVS sequence...\nDiscarded 805 events during subsampling.\nDiscarded 290 events during 3-sigma standardization.\nExtracting batch of samples à 5000 events from DVS sequence...\nDiscarded 640 events during subsampling.\nDiscarded 288 events during 3-sigma standardization.\nExtracting batch of samples à 5000 events from DVS sequence...\nDiscarded 519 events during subsampling.\nDiscarded 253 events during 3-sigma standardization.\nExtracting batch of samples à 5000 events from DVS sequence...\nDiscarded 1233 events during subsampling."
     ]
    },
    {
     "name": "stdout",
     "output_type": "stream",
     "text": [
      "\nDiscarded 200 events during 3-sigma standardization.\nExtracting batch of samples à 5000 events from DVS sequence...\nDiscarded 390 events during subsampling.\nDiscarded 323 events during 3-sigma standardization.\nExtracting batch of samples à 5000 events from DVS sequence...\nDiscarded 426 events during subsampling.\nDiscarded 276 events during 3-sigma standardization.\nExtracting batch of samples à 5000 events from DVS sequence...\nDiscarded 61 events during subsampling.\nDiscarded 278 events during 3-sigma standardization.\nExtracting batch of samples à 5000 events from DVS sequence...\nDiscarded 66 events during subsampling.\nDiscarded 276 events during 3-sigma standardization.\nExtracting batch of samples à 5000 events from DVS sequence...\nDiscarded 596 events during subsampling.\nDiscarded 252 events during 3-sigma standardization.\nExtracting batch of samples à 5000 events from DVS sequence..."
     ]
    },
    {
     "name": "stdout",
     "output_type": "stream",
     "text": [
      "\nDiscarded 13 events during subsampling.\nDiscarded 391 events during 3-sigma standardization.\nExtracting batch of samples à 5000 events from DVS sequence...\nDiscarded 58 events during subsampling.\nDiscarded 372 events during 3-sigma standardization.\nExtracting batch of samples à 5000 events from DVS sequence...\nDiscarded 120 events during subsampling.\nDiscarded 390 events during 3-sigma standardization.\nExtracting batch of samples à 5000 events from DVS sequence...\nDiscarded 122 events during subsampling.\nDiscarded 312 events during 3-sigma standardization.\nExtracting batch of samples à 5000 events from DVS sequence...\nDiscarded 481 events during subsampling.\nDiscarded 330 events during 3-sigma standardization.\nExtracting batch of samples à 5000 events from DVS sequence...\n"
     ]
    },
    {
     "name": "stdout",
     "output_type": "stream",
     "text": [
      "Discarded 226 events during subsampling.\nDiscarded 331 events during 3-sigma standardization.\nLoading DVS sample /home/rbodo/.snntoolbox/Datasets/predator_prey/aedat/not_balanced_4834samples/C/rec_13.aedat...\nTotal number of events of this sample: 150000.\nNumber of batches: 30.\nExtracting 30 frames from DVS event sequence.\n"
     ]
    },
    {
     "name": "stdout",
     "output_type": "stream",
     "text": [
      "Extracting batch of samples à 5000 events from DVS sequence...\nDiscarded 578 events during subsampling.\nDiscarded 216 events during 3-sigma standardization.\nExtracting batch of samples à 5000 events from DVS sequence...\nDiscarded 456 events during subsampling.\nDiscarded 228 events during 3-sigma standardization.\nExtracting batch of samples à 5000 events from DVS sequence...\nDiscarded 304 events during subsampling.\nDiscarded 224 events during 3-sigma standardization.\nExtracting batch of samples à 5000 events from DVS sequence...\nDiscarded 629 events during subsampling.\nDiscarded 220 events during 3-sigma standardization.\nExtracting batch of samples à 5000 events from DVS sequence...\nDiscarded 1523 events during subsampling.\nDiscarded 187 events during 3-sigma standardization.\n"
     ]
    },
    {
     "name": "stdout",
     "output_type": "stream",
     "text": [
      "Extracting batch of samples à 5000 events from DVS sequence...\nDiscarded 535 events during subsampling.\nDiscarded 262 events during 3-sigma standardization.\nExtracting batch of samples à 5000 events from DVS sequence...\nDiscarded 147 events during subsampling.\nDiscarded 279 events during 3-sigma standardization.\nExtracting batch of samples à 5000 events from DVS sequence...\nDiscarded 122 events during subsampling.\nDiscarded 304 events during 3-sigma standardization.\nExtracting batch of samples à 5000 events from DVS sequence...\nDiscarded 927 events during subsampling.\nDiscarded 265 events during 3-sigma standardization.\nExtracting batch of samples à 5000 events from DVS sequence...\nDiscarded 390 events during subsampling.\nDiscarded 205 events during 3-sigma standardization.\n"
     ]
    },
    {
     "name": "stdout",
     "output_type": "stream",
     "text": [
      "Extracting batch of samples à 5000 events from DVS sequence...\nDiscarded 259 events during subsampling.\nDiscarded 201 events during 3-sigma standardization.\nExtracting batch of samples à 5000 events from DVS sequence...\nDiscarded 324 events during subsampling.\nDiscarded 184 events during 3-sigma standardization.\nExtracting batch of samples à 5000 events from DVS sequence...\nDiscarded 224 events during subsampling.\nDiscarded 221 events during 3-sigma standardization.\nExtracting batch of samples à 5000 events from DVS sequence...\nDiscarded 1250 events during subsampling.\nDiscarded 180 events during 3-sigma standardization.\nExtracting batch of samples à 5000 events from DVS sequence...\nDiscarded 1392 events during subsampling.\nDiscarded 215 events during 3-sigma standardization.\nExtracting batch of samples à 5000 events from DVS sequence...\n"
     ]
    },
    {
     "name": "stdout",
     "output_type": "stream",
     "text": [
      "Discarded 82 events during subsampling.\nDiscarded 305 events during 3-sigma standardization.\nExtracting batch of samples à 5000 events from DVS sequence...\nDiscarded 168 events during subsampling.\nDiscarded 237 events during 3-sigma standardization.\nExtracting batch of samples à 5000 events from DVS sequence...\nDiscarded 89 events during subsampling.\nDiscarded 280 events during 3-sigma standardization.\nExtracting batch of samples à 5000 events from DVS sequence...\nDiscarded 236 events during subsampling.\nDiscarded 332 events during 3-sigma standardization.\nExtracting batch of samples à 5000 events from DVS sequence...\nDiscarded 1285 events during subsampling.\nDiscarded 193 events during 3-sigma standardization.\n"
     ]
    },
    {
     "name": "stdout",
     "output_type": "stream",
     "text": [
      "Extracting batch of samples à 5000 events from DVS sequence...\nDiscarded 292 events during subsampling.\nDiscarded 299 events during 3-sigma standardization.\nExtracting batch of samples à 5000 events from DVS sequence...\nDiscarded 556 events during subsampling.\nDiscarded 270 events during 3-sigma standardization.\nExtracting batch of samples à 5000 events from DVS sequence...\nDiscarded 514 events during subsampling.\nDiscarded 335 events during 3-sigma standardization.\nExtracting batch of samples à 5000 events from DVS sequence...\nDiscarded 1092 events during subsampling.\nDiscarded 294 events during 3-sigma standardization.\nExtracting batch of samples à 5000 events from DVS sequence...\nDiscarded 635 events during subsampling.\nDiscarded 355 events during 3-sigma standardization.\n"
     ]
    },
    {
     "name": "stdout",
     "output_type": "stream",
     "text": [
      "Extracting batch of samples à 5000 events from DVS sequence...\nDiscarded 677 events during subsampling.\nDiscarded 296 events during 3-sigma standardization.\nExtracting batch of samples à 5000 events from DVS sequence...\nDiscarded 443 events during subsampling.\nDiscarded 338 events during 3-sigma standardization.\nExtracting batch of samples à 5000 events from DVS sequence...\nDiscarded 492 events during subsampling.\nDiscarded 329 events during 3-sigma standardization.\nExtracting batch of samples à 5000 events from DVS sequence...\nDiscarded 290 events during subsampling.\nDiscarded 296 events during 3-sigma standardization.\nLoading DVS sample /home/rbodo/.snntoolbox/Datasets/predator_prey/aedat/not_balanced_4834samples/C/rec_14.aedat...\n"
     ]
    },
    {
     "name": "stdout",
     "output_type": "stream",
     "text": [
      "Total number of events of this sample: 85000.\nNumber of batches: 17.\nExtracting 17 frames from DVS event sequence.\n"
     ]
    },
    {
     "name": "stdout",
     "output_type": "stream",
     "text": [
      "Extracting batch of samples à 5000 events from DVS sequence...\nDiscarded 673 events during subsampling.\nDiscarded 322 events during 3-sigma standardization.\nExtracting batch of samples à 5000 events from DVS sequence...\nDiscarded 25 events during subsampling.\nDiscarded 360 events during 3-sigma standardization.\nExtracting batch of samples à 5000 events from DVS sequence...\nDiscarded 632 events during subsampling.\nDiscarded 257 events during 3-sigma standardization.\nExtracting batch of samples à 5000 events from DVS sequence...\nDiscarded 521 events during subsampling.\nDiscarded 269 events during 3-sigma standardization.\nExtracting batch of samples à 5000 events from DVS sequence...\n"
     ]
    },
    {
     "name": "stdout",
     "output_type": "stream",
     "text": [
      "Discarded 296 events during subsampling.\nDiscarded 269 events during 3-sigma standardization.\nExtracting batch of samples à 5000 events from DVS sequence...\nDiscarded 1438 events during subsampling.\nDiscarded 172 events during 3-sigma standardization.\nExtracting batch of samples à 5000 events from DVS sequence...\nDiscarded 108 events during subsampling.\nDiscarded 305 events during 3-sigma standardization.\nExtracting batch of samples à 5000 events from DVS sequence...\nDiscarded 294 events during subsampling.\nDiscarded 280 events during 3-sigma standardization.\nExtracting batch of samples à 5000 events from DVS sequence...\nDiscarded 1644 events during subsampling.\nDiscarded 144 events during 3-sigma standardization.\nExtracting batch of samples à 5000 events from DVS sequence...\nDiscarded 1570 events during subsampling.\nDiscarded 163 events during 3-sigma standardization.\nExtracting batch of samples à 5000 events from DVS sequence..."
     ]
    },
    {
     "name": "stdout",
     "output_type": "stream",
     "text": [
      "\nDiscarded 267 events during subsampling.\nDiscarded 342 events during 3-sigma standardization.\nExtracting batch of samples à 5000 events from DVS sequence...\nDiscarded 159 events during subsampling.\nDiscarded 301 events during 3-sigma standardization.\nExtracting batch of samples à 5000 events from DVS sequence...\nDiscarded 401 events during subsampling.\nDiscarded 289 events during 3-sigma standardization.\nExtracting batch of samples à 5000 events from DVS sequence...\nDiscarded 588 events during subsampling.\nDiscarded 275 events during 3-sigma standardization.\nExtracting batch of samples à 5000 events from DVS sequence...\nDiscarded 444 events during subsampling.\nDiscarded 263 events during 3-sigma standardization.\nExtracting batch of samples à 5000 events from DVS sequence..."
     ]
    },
    {
     "name": "stdout",
     "output_type": "stream",
     "text": [
      "\nDiscarded 329 events during subsampling.\nDiscarded 342 events during 3-sigma standardization.\nLoading DVS sample /home/rbodo/.snntoolbox/Datasets/predator_prey/aedat/not_balanced_4834samples/C/rec_15.aedat...\nTotal number of events of this sample: 120000.\nNumber of batches: 24.\nExtracting 24 frames from DVS event sequence.\n"
     ]
    },
    {
     "name": "stdout",
     "output_type": "stream",
     "text": [
      "Extracting batch of samples à 5000 events from DVS sequence...\nDiscarded 850 events during subsampling.\nDiscarded 245 events during 3-sigma standardization.\nExtracting batch of samples à 5000 events from DVS sequence...\nDiscarded 404 events during subsampling.\nDiscarded 579 events during 3-sigma standardization.\nExtracting batch of samples à 5000 events from DVS sequence...\nDiscarded 572 events during subsampling.\nDiscarded 283 events during 3-sigma standardization.\nExtracting batch of samples à 5000 events from DVS sequence...\nDiscarded 381 events during subsampling.\nDiscarded 273 events during 3-sigma standardization.\nExtracting batch of samples à 5000 events from DVS sequence...\n"
     ]
    },
    {
     "name": "stdout",
     "output_type": "stream",
     "text": [
      "Discarded 1082 events during subsampling.\nDiscarded 249 events during 3-sigma standardization.\nExtracting batch of samples à 5000 events from DVS sequence...\nDiscarded 1280 events during subsampling.\nDiscarded 214 events during 3-sigma standardization.\nExtracting batch of samples à 5000 events from DVS sequence...\nDiscarded 481 events during subsampling.\nDiscarded 220 events during 3-sigma standardization.\nExtracting batch of samples à 5000 events from DVS sequence...\nDiscarded 455 events during subsampling.\nDiscarded 229 events during 3-sigma standardization.\nExtracting batch of samples à 5000 events from DVS sequence...\nDiscarded 1146 events during subsampling.\nDiscarded 173 events during 3-sigma standardization.\nExtracting batch of samples à 5000 events from DVS sequence...\n"
     ]
    },
    {
     "name": "stdout",
     "output_type": "stream",
     "text": [
      "Discarded 550 events during subsampling.\nDiscarded 369 events during 3-sigma standardization.\nExtracting batch of samples à 5000 events from DVS sequence...\nDiscarded 964 events during subsampling.\nDiscarded 171 events during 3-sigma standardization.\nExtracting batch of samples à 5000 events from DVS sequence...\nDiscarded 247 events during subsampling.\nDiscarded 259 events during 3-sigma standardization.\nExtracting batch of samples à 5000 events from DVS sequence...\nDiscarded 918 events during subsampling.\nDiscarded 228 events during 3-sigma standardization.\nExtracting batch of samples à 5000 events from DVS sequence...\nDiscarded 505 events during subsampling.\nDiscarded 270 events during 3-sigma standardization.\nExtracting batch of samples à 5000 events from DVS sequence...\n"
     ]
    },
    {
     "name": "stdout",
     "output_type": "stream",
     "text": [
      "Discarded 409 events during subsampling.\nDiscarded 167 events during 3-sigma standardization.\nExtracting batch of samples à 5000 events from DVS sequence...\nDiscarded 517 events during subsampling.\nDiscarded 176 events during 3-sigma standardization.\nExtracting batch of samples à 5000 events from DVS sequence...\nDiscarded 793 events during subsampling.\nDiscarded 258 events during 3-sigma standardization.\nExtracting batch of samples à 5000 events from DVS sequence...\nDiscarded 1012 events during subsampling.\nDiscarded 157 events during 3-sigma standardization.\nExtracting batch of samples à 5000 events from DVS sequence...\nDiscarded 3 events during subsampling.\nDiscarded 208 events during 3-sigma standardization.\n"
     ]
    },
    {
     "name": "stdout",
     "output_type": "stream",
     "text": [
      "Extracting batch of samples à 5000 events from DVS sequence...\nDiscarded 732 events during subsampling.\nDiscarded 260 events during 3-sigma standardization.\nExtracting batch of samples à 5000 events from DVS sequence...\nDiscarded 779 events during subsampling.\nDiscarded 192 events during 3-sigma standardization.\nExtracting batch of samples à 5000 events from DVS sequence...\nDiscarded 696 events during subsampling.\nDiscarded 236 events during 3-sigma standardization.\nExtracting batch of samples à 5000 events from DVS sequence...\nDiscarded 546 events during subsampling.\nDiscarded 279 events during 3-sigma standardization.\nLoading DVS sample /home/rbodo/.snntoolbox/Datasets/predator_prey/aedat/not_balanced_4834samples/C/rec_16.aedat...\n"
     ]
    },
    {
     "name": "stdout",
     "output_type": "stream",
     "text": [
      "Total number of events of this sample: 260000.\nNumber of batches: 52.\nExtracting 52 frames from DVS event sequence.\n"
     ]
    },
    {
     "name": "stdout",
     "output_type": "stream",
     "text": [
      "Extracting batch of samples à 5000 events from DVS sequence...\nDiscarded 420 events during subsampling.\nDiscarded 233 events during 3-sigma standardization.\nExtracting batch of samples à 5000 events from DVS sequence...\nDiscarded 575 events during subsampling.\nDiscarded 235 events during 3-sigma standardization.\nExtracting batch of samples à 5000 events from DVS sequence...\nDiscarded 1422 events during subsampling.\nDiscarded 225 events during 3-sigma standardization.\nExtracting batch of samples à 5000 events from DVS sequence...\nDiscarded 1161 events during subsampling.\nDiscarded 188 events during 3-sigma standardization.\nExtracting batch of samples à 5000 events from DVS sequence...\n"
     ]
    },
    {
     "name": "stdout",
     "output_type": "stream",
     "text": [
      "Discarded 415 events during subsampling.\nDiscarded 188 events during 3-sigma standardization.\nExtracting batch of samples à 5000 events from DVS sequence...\nDiscarded 686 events during subsampling.\nDiscarded 208 events during 3-sigma standardization.\nExtracting batch of samples à 5000 events from DVS sequence...\nDiscarded 287 events during subsampling.\nDiscarded 221 events during 3-sigma standardization.\nExtracting batch of samples à 5000 events from DVS sequence...\nDiscarded 488 events during subsampling.\nDiscarded 273 events during 3-sigma standardization.\nExtracting batch of samples à 5000 events from DVS sequence...\nDiscarded 857 events during subsampling.\nDiscarded 213 events during 3-sigma standardization.\n"
     ]
    },
    {
     "name": "stdout",
     "output_type": "stream",
     "text": [
      "Extracting batch of samples à 5000 events from DVS sequence...\nDiscarded 454 events during subsampling.\nDiscarded 196 events during 3-sigma standardization.\nExtracting batch of samples à 5000 events from DVS sequence...\nDiscarded 958 events during subsampling.\nDiscarded 172 events during 3-sigma standardization.\nExtracting batch of samples à 5000 events from DVS sequence...\nDiscarded 1781 events during subsampling.\nDiscarded 189 events during 3-sigma standardization.\nExtracting batch of samples à 5000 events from DVS sequence...\nDiscarded 288 events during subsampling.\nDiscarded 308 events during 3-sigma standardization.\nExtracting batch of samples à 5000 events from DVS sequence...\nDiscarded 1802 events during subsampling.\nDiscarded 133 events during 3-sigma standardization.\nExtracting batch of samples à 5000 events from DVS sequence...\n"
     ]
    },
    {
     "name": "stdout",
     "output_type": "stream",
     "text": [
      "Discarded 1589 events during subsampling.\nDiscarded 163 events during 3-sigma standardization.\nExtracting batch of samples à 5000 events from DVS sequence...\nDiscarded 267 events during subsampling.\nDiscarded 291 events during 3-sigma standardization.\nExtracting batch of samples à 5000 events from DVS sequence...\nDiscarded 10 events during subsampling.\nDiscarded 305 events during 3-sigma standardization.\nExtracting batch of samples à 5000 events from DVS sequence...\nDiscarded 431 events during subsampling.\nDiscarded 309 events during 3-sigma standardization.\nExtracting batch of samples à 5000 events from DVS sequence...\nDiscarded 12 events during subsampling.\nDiscarded 259 events during 3-sigma standardization.\nExtracting batch of samples à 5000 events from DVS sequence...\n"
     ]
    },
    {
     "name": "stdout",
     "output_type": "stream",
     "text": [
      "Discarded 1245 events during subsampling.\nDiscarded 225 events during 3-sigma standardization.\nExtracting batch of samples à 5000 events from DVS sequence...\nDiscarded 432 events during subsampling.\nDiscarded 239 events during 3-sigma standardization.\nExtracting batch of samples à 5000 events from DVS sequence...\nDiscarded 940 events during subsampling.\nDiscarded 231 events during 3-sigma standardization.\nExtracting batch of samples à 5000 events from DVS sequence...\nDiscarded 572 events during subsampling.\nDiscarded 323 events during 3-sigma standardization.\nExtracting batch of samples à 5000 events from DVS sequence...\nDiscarded 648 events during subsampling.\nDiscarded 542 events during 3-sigma standardization.\nExtracting batch of samples à 5000 events from DVS sequence...\n"
     ]
    },
    {
     "name": "stdout",
     "output_type": "stream",
     "text": [
      "Discarded 944 events during subsampling.\nDiscarded 264 events during 3-sigma standardization.\nExtracting batch of samples à 5000 events from DVS sequence...\nDiscarded 896 events during subsampling.\nDiscarded 286 events during 3-sigma standardization.\nExtracting batch of samples à 5000 events from DVS sequence...\nDiscarded 1088 events during subsampling.\nDiscarded 215 events during 3-sigma standardization.\nExtracting batch of samples à 5000 events from DVS sequence...\nDiscarded 1549 events during subsampling.\nDiscarded 208 events during 3-sigma standardization.\nExtracting batch of samples à 5000 events from DVS sequence...\nDiscarded 370 events during subsampling.\nDiscarded 355 events during 3-sigma standardization.\nExtracting batch of samples à 5000 events from DVS sequence...\n"
     ]
    },
    {
     "name": "stdout",
     "output_type": "stream",
     "text": [
      "Discarded 652 events during subsampling.\nDiscarded 290 events during 3-sigma standardization.\nExtracting batch of samples à 5000 events from DVS sequence...\nDiscarded 353 events during subsampling.\nDiscarded 267 events during 3-sigma standardization.\nExtracting batch of samples à 5000 events from DVS sequence...\nDiscarded 786 events during subsampling.\nDiscarded 313 events during 3-sigma standardization.\nExtracting batch of samples à 5000 events from DVS sequence...\nDiscarded 966 events during subsampling.\nDiscarded 386 events during 3-sigma standardization.\nExtracting batch of samples à 5000 events from DVS sequence...\nDiscarded 284 events during subsampling.\nDiscarded 323 events during 3-sigma standardization.\nExtracting batch of samples à 5000 events from DVS sequence...\n"
     ]
    },
    {
     "name": "stdout",
     "output_type": "stream",
     "text": [
      "Discarded 832 events during subsampling.\nDiscarded 254 events during 3-sigma standardization.\nExtracting batch of samples à 5000 events from DVS sequence...\nDiscarded 1065 events during subsampling.\nDiscarded 244 events during 3-sigma standardization.\nExtracting batch of samples à 5000 events from DVS sequence...\nDiscarded 591 events during subsampling.\nDiscarded 336 events during 3-sigma standardization.\nExtracting batch of samples à 5000 events from DVS sequence...\nDiscarded 952 events during subsampling.\nDiscarded 328 events during 3-sigma standardization.\nExtracting batch of samples à 5000 events from DVS sequence...\nDiscarded 369 events during subsampling.\nDiscarded 366 events during 3-sigma standardization.\nExtracting batch of samples à 5000 events from DVS sequence...\nDiscarded 726 events during subsampling.\nDiscarded 478 events during 3-sigma standardization.\nExtracting batch of samples à 5000 events from DVS sequence...\n"
     ]
    },
    {
     "name": "stdout",
     "output_type": "stream",
     "text": [
      "Discarded 311 events during subsampling.\nDiscarded 357 events during 3-sigma standardization.\nExtracting batch of samples à 5000 events from DVS sequence...\nDiscarded 972 events during subsampling.\nDiscarded 312 events during 3-sigma standardization.\nExtracting batch of samples à 5000 events from DVS sequence...\nDiscarded 1497 events during subsampling.\nDiscarded 260 events during 3-sigma standardization.\nExtracting batch of samples à 5000 events from DVS sequence...\nDiscarded 238 events during subsampling.\nDiscarded 427 events during 3-sigma standardization.\nExtracting batch of samples à 5000 events from DVS sequence...\nDiscarded 733 events during subsampling.\nDiscarded 320 events during 3-sigma standardization.\nExtracting batch of samples à 5000 events from DVS sequence...\n"
     ]
    },
    {
     "name": "stdout",
     "output_type": "stream",
     "text": [
      "Discarded 677 events during subsampling.\nDiscarded 367 events during 3-sigma standardization.\nExtracting batch of samples à 5000 events from DVS sequence...\nDiscarded 693 events during subsampling.\nDiscarded 362 events during 3-sigma standardization.\nExtracting batch of samples à 5000 events from DVS sequence...\nDiscarded 990 events during subsampling.\nDiscarded 282 events during 3-sigma standardization.\nExtracting batch of samples à 5000 events from DVS sequence...\nDiscarded 1010 events during subsampling.\nDiscarded 295 events during 3-sigma standardization.\nExtracting batch of samples à 5000 events from DVS sequence...\nDiscarded 534 events during subsampling.\nDiscarded 350 events during 3-sigma standardization.\nExtracting batch of samples à 5000 events from DVS sequence...\nDiscarded 1090 events during subsampling.\nDiscarded 350 events during 3-sigma standardization.\n"
     ]
    },
    {
     "name": "stdout",
     "output_type": "stream",
     "text": [
      "Loading DVS sample /home/rbodo/.snntoolbox/Datasets/predator_prey/aedat/not_balanced_4834samples/C/rec_18.aedat...\nTotal number of events of this sample: 165000.\nNumber of batches: 33.\nExtracting 33 frames from DVS event sequence.\n"
     ]
    },
    {
     "name": "stdout",
     "output_type": "stream",
     "text": [
      "Extracting batch of samples à 5000 events from DVS sequence...\nDiscarded 1457 events during subsampling.\nDiscarded 257 events during 3-sigma standardization.\nExtracting batch of samples à 5000 events from DVS sequence...\nDiscarded 696 events during subsampling.\nDiscarded 292 events during 3-sigma standardization.\nExtracting batch of samples à 5000 events from DVS sequence...\nDiscarded 551 events during subsampling.\nDiscarded 358 events during 3-sigma standardization.\nExtracting batch of samples à 5000 events from DVS sequence...\nDiscarded 758 events during subsampling.\nDiscarded 352 events during 3-sigma standardization.\nExtracting batch of samples à 5000 events from DVS sequence...\n"
     ]
    },
    {
     "name": "stdout",
     "output_type": "stream",
     "text": [
      "Discarded 1052 events during subsampling.\nDiscarded 256 events during 3-sigma standardization.\nExtracting batch of samples à 5000 events from DVS sequence...\nDiscarded 695 events during subsampling.\nDiscarded 258 events during 3-sigma standardization.\nExtracting batch of samples à 5000 events from DVS sequence...\nDiscarded 1551 events during subsampling.\nDiscarded 259 events during 3-sigma standardization.\nExtracting batch of samples à 5000 events from DVS sequence...\nDiscarded 510 events during subsampling.\nDiscarded 320 events during 3-sigma standardization.\nExtracting batch of samples à 5000 events from DVS sequence...\nDiscarded 445 events during subsampling.\nDiscarded 301 events during 3-sigma standardization.\nExtracting batch of samples à 5000 events from DVS sequence...\nDiscarded 1056 events during subsampling.\nDiscarded 275 events during 3-sigma standardization.\nExtracting batch of samples à 5000 events from DVS sequence...\n"
     ]
    },
    {
     "name": "stdout",
     "output_type": "stream",
     "text": [
      "Discarded 1510 events during subsampling.\nDiscarded 239 events during 3-sigma standardization.\nExtracting batch of samples à 5000 events from DVS sequence...\nDiscarded 524 events during subsampling.\nDiscarded 275 events during 3-sigma standardization.\nExtracting batch of samples à 5000 events from DVS sequence...\nDiscarded 835 events during subsampling.\nDiscarded 285 events during 3-sigma standardization.\nExtracting batch of samples à 5000 events from DVS sequence...\nDiscarded 1248 events during subsampling.\nDiscarded 193 events during 3-sigma standardization.\nExtracting batch of samples à 5000 events from DVS sequence...\nDiscarded 377 events during subsampling.\nDiscarded 350 events during 3-sigma standardization.\nExtracting batch of samples à 5000 events from DVS sequence...\n"
     ]
    },
    {
     "name": "stdout",
     "output_type": "stream",
     "text": [
      "Discarded 924 events during subsampling.\nDiscarded 241 events during 3-sigma standardization.\nExtracting batch of samples à 5000 events from DVS sequence...\nDiscarded 878 events during subsampling.\nDiscarded 265 events during 3-sigma standardization.\nExtracting batch of samples à 5000 events from DVS sequence...\nDiscarded 205 events during subsampling.\nDiscarded 366 events during 3-sigma standardization.\nExtracting batch of samples à 5000 events from DVS sequence...\nDiscarded 284 events during subsampling.\nDiscarded 422 events during 3-sigma standardization.\nExtracting batch of samples à 5000 events from DVS sequence...\nDiscarded 634 events during subsampling.\nDiscarded 315 events during 3-sigma standardization.\nExtracting batch of samples à 5000 events from DVS sequence...\n"
     ]
    },
    {
     "name": "stdout",
     "output_type": "stream",
     "text": [
      "Discarded 865 events during subsampling.\nDiscarded 305 events during 3-sigma standardization.\nExtracting batch of samples à 5000 events from DVS sequence...\nDiscarded 1093 events during subsampling.\nDiscarded 252 events during 3-sigma standardization.\nExtracting batch of samples à 5000 events from DVS sequence...\nDiscarded 697 events during subsampling.\nDiscarded 291 events during 3-sigma standardization.\nExtracting batch of samples à 5000 events from DVS sequence...\nDiscarded 184 events during subsampling.\nDiscarded 245 events during 3-sigma standardization.\nExtracting batch of samples à 5000 events from DVS sequence...\nDiscarded 1172 events during subsampling.\nDiscarded 245 events during 3-sigma standardization.\nExtracting batch of samples à 5000 events from DVS sequence...\n"
     ]
    },
    {
     "name": "stdout",
     "output_type": "stream",
     "text": [
      "Discarded 460 events during subsampling.\nDiscarded 392 events during 3-sigma standardization.\nExtracting batch of samples à 5000 events from DVS sequence...\nDiscarded 700 events during subsampling.\nDiscarded 213 events during 3-sigma standardization.\nExtracting batch of samples à 5000 events from DVS sequence...\nDiscarded 366 events during subsampling.\nDiscarded 252 events during 3-sigma standardization.\nExtracting batch of samples à 5000 events from DVS sequence...\nDiscarded 1570 events during subsampling.\nDiscarded 243 events during 3-sigma standardization.\nExtracting batch of samples à 5000 events from DVS sequence...\nDiscarded 414 events during subsampling.\nDiscarded 236 events during 3-sigma standardization.\nExtracting batch of samples à 5000 events from DVS sequence...\n"
     ]
    },
    {
     "name": "stdout",
     "output_type": "stream",
     "text": [
      "Discarded 930 events during subsampling.\nDiscarded 148 events during 3-sigma standardization.\nExtracting batch of samples à 5000 events from DVS sequence...\nDiscarded 1075 events during subsampling.\nDiscarded 211 events during 3-sigma standardization.\nLoading DVS sample /home/rbodo/.snntoolbox/Datasets/predator_prey/aedat/not_balanced_4834samples/C/rec_2.aedat...\n"
     ]
    },
    {
     "name": "stdout",
     "output_type": "stream",
     "text": [
      "Total number of events of this sample: 375000.\nNumber of batches: 75.\nExtracting 75 frames from DVS event sequence.\n"
     ]
    },
    {
     "name": "stdout",
     "output_type": "stream",
     "text": [
      "Extracting batch of samples à 5000 events from DVS sequence...\nDiscarded 329 events during subsampling.\nDiscarded 238 events during 3-sigma standardization.\nExtracting batch of samples à 5000 events from DVS sequence...\nDiscarded 393 events during subsampling.\nDiscarded 231 events during 3-sigma standardization.\nExtracting batch of samples à 5000 events from DVS sequence...\nDiscarded 362 events during subsampling.\n"
     ]
    },
    {
     "name": "stdout",
     "output_type": "stream",
     "text": [
      "Discarded 230 events during 3-sigma standardization.\nExtracting batch of samples à 5000 events from DVS sequence...\nDiscarded 394 events during subsampling.\nDiscarded 239 events during 3-sigma standardization.\nExtracting batch of samples à 5000 events from DVS sequence...\nDiscarded 333 events during subsampling.\nDiscarded 257 events during 3-sigma standardization.\nExtracting batch of samples à 5000 events from DVS sequence...\n"
     ]
    },
    {
     "name": "stdout",
     "output_type": "stream",
     "text": [
      "Discarded 403 events during subsampling.\nDiscarded 227 events during 3-sigma standardization.\nExtracting batch of samples à 5000 events from DVS sequence...\nDiscarded 1309 events during subsampling.\nDiscarded 200 events during 3-sigma standardization.\nExtracting batch of samples à 5000 events from DVS sequence...\nDiscarded 540 events during subsampling.\nDiscarded 269 events during 3-sigma standardization.\nExtracting batch of samples à 5000 events from DVS sequence...\nDiscarded 340 events during subsampling.\nDiscarded 350 events during 3-sigma standardization.\nExtracting batch of samples à 5000 events from DVS sequence...\n"
     ]
    },
    {
     "name": "stdout",
     "output_type": "stream",
     "text": [
      "Discarded 354 events during subsampling.\nDiscarded 285 events during 3-sigma standardization.\nExtracting batch of samples à 5000 events from DVS sequence...\nDiscarded 461 events during subsampling.\nDiscarded 217 events during 3-sigma standardization.\nExtracting batch of samples à 5000 events from DVS sequence...\nDiscarded 384 events during subsampling.\nDiscarded 258 events during 3-sigma standardization.\nExtracting batch of samples à 5000 events from DVS sequence...\nDiscarded 426 events during subsampling.\nDiscarded 245 events during 3-sigma standardization.\nExtracting batch of samples à 5000 events from DVS sequence...\nDiscarded 358 events during subsampling.\nDiscarded 241 events during 3-sigma standardization.\n"
     ]
    },
    {
     "name": "stdout",
     "output_type": "stream",
     "text": [
      "Extracting batch of samples à 5000 events from DVS sequence...\nDiscarded 425 events during subsampling.\nDiscarded 253 events during 3-sigma standardization.\nExtracting batch of samples à 5000 events from DVS sequence...\nDiscarded 336 events during subsampling.\nDiscarded 255 events during 3-sigma standardization.\nExtracting batch of samples à 5000 events from DVS sequence...\nDiscarded 411 events during subsampling.\nDiscarded 252 events during 3-sigma standardization.\nExtracting batch of samples à 5000 events from DVS sequence...\nDiscarded 391 events during subsampling.\nDiscarded 256 events during 3-sigma standardization.\nExtracting batch of samples à 5000 events from DVS sequence...\nDiscarded 425 events during subsampling."
     ]
    },
    {
     "name": "stdout",
     "output_type": "stream",
     "text": [
      "\nDiscarded 265 events during 3-sigma standardization.\nExtracting batch of samples à 5000 events from DVS sequence...\nDiscarded 415 events during subsampling.\nDiscarded 313 events during 3-sigma standardization.\nExtracting batch of samples à 5000 events from DVS sequence...\nDiscarded 2118 events during subsampling.\nDiscarded 152 events during 3-sigma standardization.\nExtracting batch of samples à 5000 events from DVS sequence...\nDiscarded 436 events during subsampling.\nDiscarded 334 events during 3-sigma standardization.\nExtracting batch of samples à 5000 events from DVS sequence...\nDiscarded 601 events during subsampling."
     ]
    },
    {
     "name": "stdout",
     "output_type": "stream",
     "text": [
      "\nDiscarded 418 events during 3-sigma standardization.\nExtracting batch of samples à 5000 events from DVS sequence...\nDiscarded 505 events during subsampling.\nDiscarded 321 events during 3-sigma standardization.\nExtracting batch of samples à 5000 events from DVS sequence...\nDiscarded 913 events during subsampling.\nDiscarded 199 events during 3-sigma standardization.\nExtracting batch of samples à 5000 events from DVS sequence...\nDiscarded 650 events during subsampling.\nDiscarded 224 events during 3-sigma standardization.\n"
     ]
    },
    {
     "name": "stdout",
     "output_type": "stream",
     "text": [
      "Extracting batch of samples à 5000 events from DVS sequence...\nDiscarded 404 events during subsampling.\nDiscarded 218 events during 3-sigma standardization.\nExtracting batch of samples à 5000 events from DVS sequence...\nDiscarded 382 events during subsampling.\nDiscarded 232 events during 3-sigma standardization.\nExtracting batch of samples à 5000 events from DVS sequence...\nDiscarded 444 events during subsampling.\nDiscarded 235 events during 3-sigma standardization.\nExtracting batch of samples à 5000 events from DVS sequence...\nDiscarded 509 events during subsampling.\nDiscarded 229 events during 3-sigma standardization.\nExtracting batch of samples à 5000 events from DVS sequence...\n"
     ]
    },
    {
     "name": "stdout",
     "output_type": "stream",
     "text": [
      "Discarded 2245 events during subsampling.\nDiscarded 177 events during 3-sigma standardization.\nExtracting batch of samples à 5000 events from DVS sequence...\nDiscarded 670 events during subsampling.\nDiscarded 226 events during 3-sigma standardization.\nExtracting batch of samples à 5000 events from DVS sequence...\nDiscarded 419 events during subsampling.\nDiscarded 246 events during 3-sigma standardization.\nExtracting batch of samples à 5000 events from DVS sequence...\nDiscarded 574 events during subsampling.\nDiscarded 256 events during 3-sigma standardization.\nExtracting batch of samples à 5000 events from DVS sequence...\nDiscarded 360 events during subsampling.\nDiscarded 258 events during 3-sigma standardization.\nExtracting batch of samples à 5000 events from DVS sequence...\nDiscarded 1497 events during subsampling.\nDiscarded 243 events during 3-sigma standardization."
     ]
    },
    {
     "name": "stdout",
     "output_type": "stream",
     "text": [
      "\nExtracting batch of samples à 5000 events from DVS sequence...\nDiscarded 520 events during subsampling.\nDiscarded 197 events during 3-sigma standardization.\nExtracting batch of samples à 5000 events from DVS sequence...\nDiscarded 512 events during subsampling.\nDiscarded 175 events during 3-sigma standardization.\nExtracting batch of samples à 5000 events from DVS sequence...\nDiscarded 546 events during subsampling.\nDiscarded 166 events during 3-sigma standardization.\nExtracting batch of samples à 5000 events from DVS sequence...\nDiscarded 433 events during subsampling.\nDiscarded 252 events during 3-sigma standardization.\nExtracting batch of samples à 5000 events from DVS sequence...\nDiscarded 283 events during subsampling.\nDiscarded 196 events during 3-sigma standardization.\nExtracting batch of samples à 5000 events from DVS sequence...\n"
     ]
    },
    {
     "name": "stdout",
     "output_type": "stream",
     "text": [
      "Discarded 342 events during subsampling.\nDiscarded 223 events during 3-sigma standardization.\nExtracting batch of samples à 5000 events from DVS sequence...\nDiscarded 375 events during subsampling.\nDiscarded 182 events during 3-sigma standardization.\nExtracting batch of samples à 5000 events from DVS sequence...\nDiscarded 409 events during subsampling.\nDiscarded 210 events during 3-sigma standardization.\nExtracting batch of samples à 5000 events from DVS sequence...\nDiscarded 372 events during subsampling.\nDiscarded 174 events during 3-sigma standardization.\nExtracting batch of samples à 5000 events from DVS sequence...\nDiscarded 1097 events during subsampling."
     ]
    },
    {
     "name": "stdout",
     "output_type": "stream",
     "text": [
      "\nDiscarded 173 events during 3-sigma standardization.\nExtracting batch of samples à 5000 events from DVS sequence...\nDiscarded 346 events during subsampling.\nDiscarded 195 events during 3-sigma standardization.\nExtracting batch of samples à 5000 events from DVS sequence...\nDiscarded 342 events during subsampling.\nDiscarded 205 events during 3-sigma standardization.\nExtracting batch of samples à 5000 events from DVS sequence...\nDiscarded 422 events during subsampling.\nDiscarded 177 events during 3-sigma standardization.\nExtracting batch of samples à 5000 events from DVS sequence...\nDiscarded 395 events during subsampling.\nDiscarded 225 events during 3-sigma standardization.\nExtracting batch of samples à 5000 events from DVS sequence...\nDiscarded 431 events during subsampling.\nDiscarded 213 events during 3-sigma standardization.\nExtracting batch of samples à 5000 events from DVS sequence...\n"
     ]
    },
    {
     "name": "stdout",
     "output_type": "stream",
     "text": [
      "Discarded 438 events during subsampling.\nDiscarded 235 events during 3-sigma standardization.\nExtracting batch of samples à 5000 events from DVS sequence...\nDiscarded 406 events during subsampling.\nDiscarded 231 events during 3-sigma standardization.\nExtracting batch of samples à 5000 events from DVS sequence...\nDiscarded 450 events during subsampling.\nDiscarded 207 events during 3-sigma standardization.\nExtracting batch of samples à 5000 events from DVS sequence...\nDiscarded 599 events during subsampling.\nDiscarded 216 events during 3-sigma standardization.\nExtracting batch of samples à 5000 events from DVS sequence...\nDiscarded 555 events during subsampling.\nDiscarded 199 events during 3-sigma standardization.\nExtracting batch of samples à 5000 events from DVS sequence...\n"
     ]
    },
    {
     "name": "stdout",
     "output_type": "stream",
     "text": [
      "Discarded 439 events during subsampling.\nDiscarded 137 events during 3-sigma standardization.\nExtracting batch of samples à 5000 events from DVS sequence...\nDiscarded 646 events during subsampling.\nDiscarded 308 events during 3-sigma standardization.\nExtracting batch of samples à 5000 events from DVS sequence...\nDiscarded 738 events during subsampling.\nDiscarded 293 events during 3-sigma standardization.\nExtracting batch of samples à 5000 events from DVS sequence...\nDiscarded 1483 events during subsampling.\nDiscarded 257 events during 3-sigma standardization.\nExtracting batch of samples à 5000 events from DVS sequence...\nDiscarded 576 events during subsampling.\nDiscarded 235 events during 3-sigma standardization.\nExtracting batch of samples à 5000 events from DVS sequence..."
     ]
    },
    {
     "name": "stdout",
     "output_type": "stream",
     "text": [
      "\nDiscarded 1948 events during subsampling.\nDiscarded 276 events during 3-sigma standardization.\nExtracting batch of samples à 5000 events from DVS sequence...\nDiscarded 13 events during subsampling.\nDiscarded 412 events during 3-sigma standardization.\nExtracting batch of samples à 5000 events from DVS sequence...\nDiscarded 577 events during subsampling.\nDiscarded 435 events during 3-sigma standardization.\nExtracting batch of samples à 5000 events from DVS sequence...\nDiscarded 230 events during subsampling.\nDiscarded 256 events during 3-sigma standardization.\nExtracting batch of samples à 5000 events from DVS sequence...\nDiscarded 721 events during subsampling.\nDiscarded 202 events during 3-sigma standardization.\n"
     ]
    },
    {
     "name": "stdout",
     "output_type": "stream",
     "text": [
      "Extracting batch of samples à 5000 events from DVS sequence...\nDiscarded 433 events during subsampling.\nDiscarded 265 events during 3-sigma standardization.\nExtracting batch of samples à 5000 events from DVS sequence...\nDiscarded 1743 events during subsampling.\nDiscarded 186 events during 3-sigma standardization.\nExtracting batch of samples à 5000 events from DVS sequence...\nDiscarded 404 events during subsampling.\nDiscarded 202 events during 3-sigma standardization.\nExtracting batch of samples à 5000 events from DVS sequence...\nDiscarded 158 events during subsampling.\nDiscarded 388 events during 3-sigma standardization.\nExtracting batch of samples à 5000 events from DVS sequence...\nDiscarded 1446 events during subsampling.\nDiscarded 209 events during 3-sigma standardization.\nExtracting batch of samples à 5000 events from DVS sequence...\n"
     ]
    },
    {
     "name": "stdout",
     "output_type": "stream",
     "text": [
      "Discarded 515 events during subsampling.\nDiscarded 228 events during 3-sigma standardization.\nExtracting batch of samples à 5000 events from DVS sequence...\nDiscarded 463 events during subsampling.\nDiscarded 307 events during 3-sigma standardization.\nExtracting batch of samples à 5000 events from DVS sequence...\nDiscarded 581 events during subsampling.\nDiscarded 218 events during 3-sigma standardization.\nLoading DVS sample /home/rbodo/.snntoolbox/Datasets/predator_prey/aedat/not_balanced_4834samples/C/rec_3.aedat...\n"
     ]
    },
    {
     "name": "stdout",
     "output_type": "stream",
     "text": [
      "Total number of events of this sample: 740000.\nNumber of batches: 148.\nExtracting 148 frames from DVS event sequence.\n"
     ]
    },
    {
     "name": "stdout",
     "output_type": "stream",
     "text": [
      "Extracting batch of samples à 5000 events from DVS sequence...\nDiscarded 401 events during subsampling.\nDiscarded 315 events during 3-sigma standardization.\nExtracting batch of samples à 5000 events from DVS sequence...\nDiscarded 48 events during subsampling.\nDiscarded 365 events during 3-sigma standardization.\nExtracting batch of samples à 5000 events from DVS sequence...\nDiscarded 68 events during subsampling.\nDiscarded 415 events during 3-sigma standardization.\nExtracting batch of samples à 5000 events from DVS sequence...\nDiscarded 892 events during subsampling.\nDiscarded 343 events during 3-sigma standardization.\nExtracting batch of samples à 5000 events from DVS sequence...\n"
     ]
    },
    {
     "name": "stdout",
     "output_type": "stream",
     "text": [
      "Discarded 151 events during subsampling.\nDiscarded 539 events during 3-sigma standardization.\nExtracting batch of samples à 5000 events from DVS sequence...\nDiscarded 430 events during subsampling.\nDiscarded 199 events during 3-sigma standardization.\nExtracting batch of samples à 5000 events from DVS sequence...\nDiscarded 479 events during subsampling.\nDiscarded 218 events during 3-sigma standardization.\nExtracting batch of samples à 5000 events from DVS sequence...\nDiscarded 1146 events during subsampling.\nDiscarded 286 events during 3-sigma standardization.\nExtracting batch of samples à 5000 events from DVS sequence...\nDiscarded 443 events during subsampling.\nDiscarded 480 events during 3-sigma standardization.\nExtracting batch of samples à 5000 events from DVS sequence..."
     ]
    },
    {
     "name": "stdout",
     "output_type": "stream",
     "text": [
      "\nDiscarded 143 events during subsampling.\nDiscarded 242 events during 3-sigma standardization.\nExtracting batch of samples à 5000 events from DVS sequence...\nDiscarded 469 events during subsampling.\nDiscarded 184 events during 3-sigma standardization.\nExtracting batch of samples à 5000 events from DVS sequence...\nDiscarded 419 events during subsampling.\nDiscarded 208 events during 3-sigma standardization.\nExtracting batch of samples à 5000 events from DVS sequence...\nDiscarded 416 events during subsampling.\nDiscarded 223 events during 3-sigma standardization.\nExtracting batch of samples à 5000 events from DVS sequence...\nDiscarded 433 events during subsampling.\nDiscarded 195 events during 3-sigma standardization.\nExtracting batch of samples à 5000 events from DVS sequence...\n"
     ]
    },
    {
     "name": "stdout",
     "output_type": "stream",
     "text": [
      "Discarded 831 events during subsampling.\nDiscarded 243 events during 3-sigma standardization.\nExtracting batch of samples à 5000 events from DVS sequence...\nDiscarded 562 events during subsampling.\nDiscarded 345 events during 3-sigma standardization.\nExtracting batch of samples à 5000 events from DVS sequence...\nDiscarded 886 events during subsampling.\nDiscarded 287 events during 3-sigma standardization.\nExtracting batch of samples à 5000 events from DVS sequence...\nDiscarded 312 events during subsampling.\nDiscarded 209 events during 3-sigma standardization.\nExtracting batch of samples à 5000 events from DVS sequence...\nDiscarded 339 events during subsampling.\nDiscarded 186 events during 3-sigma standardization.\nExtracting batch of samples à 5000 events from DVS sequence...\n"
     ]
    },
    {
     "name": "stdout",
     "output_type": "stream",
     "text": [
      "Discarded 534 events during subsampling.\nDiscarded 215 events during 3-sigma standardization.\nExtracting batch of samples à 5000 events from DVS sequence...\nDiscarded 492 events during subsampling.\nDiscarded 237 events during 3-sigma standardization.\nExtracting batch of samples à 5000 events from DVS sequence...\nDiscarded 559 events during subsampling.\nDiscarded 175 events during 3-sigma standardization.\nExtracting batch of samples à 5000 events from DVS sequence...\nDiscarded 492 events during subsampling.\nDiscarded 217 events during 3-sigma standardization.\nExtracting batch of samples à 5000 events from DVS sequence...\nDiscarded 436 events during subsampling.\nDiscarded 197 events during 3-sigma standardization.\n"
     ]
    },
    {
     "name": "stdout",
     "output_type": "stream",
     "text": [
      "Extracting batch of samples à 5000 events from DVS sequence...\nDiscarded 1175 events during subsampling.\nDiscarded 185 events during 3-sigma standardization.\nExtracting batch of samples à 5000 events from DVS sequence...\nDiscarded 399 events during subsampling.\nDiscarded 252 events during 3-sigma standardization.\nExtracting batch of samples à 5000 events from DVS sequence...\nDiscarded 2183 events during subsampling.\nDiscarded 172 events during 3-sigma standardization.\nExtracting batch of samples à 5000 events from DVS sequence...\nDiscarded 527 events during subsampling.\nDiscarded 173 events during 3-sigma standardization.\nExtracting batch of samples à 5000 events from DVS sequence...\nDiscarded 399 events during subsampling.\nDiscarded 227 events during 3-sigma standardization.\nExtracting batch of samples à 5000 events from DVS sequence...\n"
     ]
    },
    {
     "name": "stdout",
     "output_type": "stream",
     "text": [
      "Discarded 511 events during subsampling.\nDiscarded 252 events during 3-sigma standardization.\nExtracting batch of samples à 5000 events from DVS sequence...\nDiscarded 1120 events during subsampling.\nDiscarded 220 events during 3-sigma standardization.\nExtracting batch of samples à 5000 events from DVS sequence...\nDiscarded 369 events during subsampling.\nDiscarded 241 events during 3-sigma standardization.\nExtracting batch of samples à 5000 events from DVS sequence...\nDiscarded 418 events during subsampling.\nDiscarded 194 events during 3-sigma standardization.\nExtracting batch of samples à 5000 events from DVS sequence...\nDiscarded 819 events during subsampling.\nDiscarded 255 events during 3-sigma standardization.\nExtracting batch of samples à 5000 events from DVS sequence...\n"
     ]
    },
    {
     "name": "stdout",
     "output_type": "stream",
     "text": [
      "Discarded 356 events during subsampling.\nDiscarded 243 events during 3-sigma standardization.\nExtracting batch of samples à 5000 events from DVS sequence...\nDiscarded 400 events during subsampling.\nDiscarded 190 events during 3-sigma standardization.\nExtracting batch of samples à 5000 events from DVS sequence...\nDiscarded 391 events during subsampling.\nDiscarded 211 events during 3-sigma standardization.\nExtracting batch of samples à 5000 events from DVS sequence...\nDiscarded 415 events during subsampling.\nDiscarded 263 events during 3-sigma standardization.\nExtracting batch of samples à 5000 events from DVS sequence...\nDiscarded 2177 events during subsampling.\nDiscarded 145 events during 3-sigma standardization.\nExtracting batch of samples à 5000 events from DVS sequence...\nDiscarded 581 events during subsampling.\nDiscarded 226 events during 3-sigma standardization.\nExtracting batch of samples à 5000 events from DVS sequence...\n"
     ]
    },
    {
     "name": "stdout",
     "output_type": "stream",
     "text": [
      "Discarded 648 events during subsampling.\nDiscarded 290 events during 3-sigma standardization.\nExtracting batch of samples à 5000 events from DVS sequence...\nDiscarded 891 events during subsampling.\nDiscarded 256 events during 3-sigma standardization.\nExtracting batch of samples à 5000 events from DVS sequence...\nDiscarded 604 events during subsampling.\nDiscarded 215 events during 3-sigma standardization.\nExtracting batch of samples à 5000 events from DVS sequence...\nDiscarded 558 events during subsampling.\nDiscarded 223 events during 3-sigma standardization.\nExtracting batch of samples à 5000 events from DVS sequence...\nDiscarded 649 events during subsampling.\nDiscarded 174 events during 3-sigma standardization.\nExtracting batch of samples à 5000 events from DVS sequence...\n"
     ]
    },
    {
     "name": "stdout",
     "output_type": "stream",
     "text": [
      "Discarded 542 events during subsampling.\nDiscarded 204 events during 3-sigma standardization.\nExtracting batch of samples à 5000 events from DVS sequence...\nDiscarded 603 events during subsampling.\nDiscarded 160 events during 3-sigma standardization.\nExtracting batch of samples à 5000 events from DVS sequence...\nDiscarded 543 events during subsampling.\nDiscarded 175 events during 3-sigma standardization.\nExtracting batch of samples à 5000 events from DVS sequence...\nDiscarded 488 events during subsampling.\nDiscarded 156 events during 3-sigma standardization.\nExtracting batch of samples à 5000 events from DVS sequence...\nDiscarded 584 events during subsampling.\nDiscarded 178 events during 3-sigma standardization.\nExtracting batch of samples à 5000 events from DVS sequence...\nDiscarded 528 events during subsampling.\nDiscarded 220 events during 3-sigma standardization.\n"
     ]
    },
    {
     "name": "stdout",
     "output_type": "stream",
     "text": [
      "Extracting batch of samples à 5000 events from DVS sequence...\nDiscarded 411 events during subsampling.\nDiscarded 265 events during 3-sigma standardization.\nExtracting batch of samples à 5000 events from DVS sequence...\nDiscarded 378 events during subsampling.\nDiscarded 229 events during 3-sigma standardization.\nExtracting batch of samples à 5000 events from DVS sequence...\nDiscarded 2106 events during subsampling.\nDiscarded 170 events during 3-sigma standardization.\nExtracting batch of samples à 5000 events from DVS sequence...\nDiscarded 388 events during subsampling.\nDiscarded 231 events during 3-sigma standardization.\nExtracting batch of samples à 5000 events from DVS sequence...\nDiscarded 424 events during subsampling.\nDiscarded 202 events during 3-sigma standardization.\nExtracting batch of samples à 5000 events from DVS sequence...\n"
     ]
    },
    {
     "name": "stdout",
     "output_type": "stream",
     "text": [
      "Discarded 403 events during subsampling.\nDiscarded 175 events during 3-sigma standardization.\nExtracting batch of samples à 5000 events from DVS sequence...\nDiscarded 387 events during subsampling.\nDiscarded 231 events during 3-sigma standardization.\nExtracting batch of samples à 5000 events from DVS sequence...\nDiscarded 413 events during subsampling.\nDiscarded 196 events during 3-sigma standardization.\nExtracting batch of samples à 5000 events from DVS sequence...\nDiscarded 415 events during subsampling.\nDiscarded 226 events during 3-sigma standardization.\nExtracting batch of samples à 5000 events from DVS sequence...\nDiscarded 1444 events during subsampling.\nDiscarded 257 events during 3-sigma standardization.\nExtracting batch of samples à 5000 events from DVS sequence...\n"
     ]
    },
    {
     "name": "stdout",
     "output_type": "stream",
     "text": [
      "Discarded 1350 events during subsampling.\nDiscarded 180 events during 3-sigma standardization.\nExtracting batch of samples à 5000 events from DVS sequence...\nDiscarded 529 events during subsampling.\nDiscarded 218 events during 3-sigma standardization.\nExtracting batch of samples à 5000 events from DVS sequence...\nDiscarded 406 events during subsampling.\nDiscarded 209 events during 3-sigma standardization.\nExtracting batch of samples à 5000 events from DVS sequence...\nDiscarded 419 events during subsampling.\nDiscarded 187 events during 3-sigma standardization.\nExtracting batch of samples à 5000 events from DVS sequence...\nDiscarded 499 events during subsampling.\nDiscarded 256 events during 3-sigma standardization.\nExtracting batch of samples à 5000 events from DVS sequence...\n"
     ]
    },
    {
     "name": "stdout",
     "output_type": "stream",
     "text": [
      "Discarded 426 events during subsampling.\nDiscarded 265 events during 3-sigma standardization.\nExtracting batch of samples à 5000 events from DVS sequence...\nDiscarded 413 events during subsampling.\nDiscarded 271 events during 3-sigma standardization.\nExtracting batch of samples à 5000 events from DVS sequence...\nDiscarded 581 events during subsampling.\nDiscarded 234 events during 3-sigma standardization.\nExtracting batch of samples à 5000 events from DVS sequence...\nDiscarded 572 events during subsampling.\nDiscarded 210 events during 3-sigma standardization.\nExtracting batch of samples à 5000 events from DVS sequence...\nDiscarded 556 events during subsampling.\nDiscarded 211 events during 3-sigma standardization.\nExtracting batch of samples à 5000 events from DVS sequence...\nDiscarded 354 events during subsampling."
     ]
    },
    {
     "name": "stdout",
     "output_type": "stream",
     "text": [
      "\nDiscarded 215 events during 3-sigma standardization.\nExtracting batch of samples à 5000 events from DVS sequence...\nDiscarded 410 events during subsampling.\nDiscarded 199 events during 3-sigma standardization.\nExtracting batch of samples à 5000 events from DVS sequence...\nDiscarded 387 events during subsampling.\nDiscarded 196 events during 3-sigma standardization.\nExtracting batch of samples à 5000 events from DVS sequence...\nDiscarded 365 events during subsampling.\nDiscarded 233 events during 3-sigma standardization.\nExtracting batch of samples à 5000 events from DVS sequence...\nDiscarded 400 events during subsampling.\nDiscarded 200 events during 3-sigma standardization.\nExtracting batch of samples à 5000 events from DVS sequence...\nDiscarded 374 events during subsampling.\nDiscarded 209 events during 3-sigma standardization."
     ]
    },
    {
     "name": "stdout",
     "output_type": "stream",
     "text": [
      "\nExtracting batch of samples à 5000 events from DVS sequence...\nDiscarded 382 events during subsampling.\nDiscarded 214 events during 3-sigma standardization.\nExtracting batch of samples à 5000 events from DVS sequence...\nDiscarded 361 events during subsampling.\nDiscarded 232 events during 3-sigma standardization.\nExtracting batch of samples à 5000 events from DVS sequence...\nDiscarded 344 events during subsampling.\nDiscarded 205 events during 3-sigma standardization.\nExtracting batch of samples à 5000 events from DVS sequence...\nDiscarded 430 events during subsampling.\nDiscarded 234 events during 3-sigma standardization.\nExtracting batch of samples à 5000 events from DVS sequence...\nDiscarded 117 events during subsampling.\nDiscarded 294 events during 3-sigma standardization.\nExtracting batch of samples à 5000 events from DVS sequence...\n"
     ]
    },
    {
     "name": "stdout",
     "output_type": "stream",
     "text": [
      "Discarded 616 events during subsampling.\nDiscarded 370 events during 3-sigma standardization.\nExtracting batch of samples à 5000 events from DVS sequence...\nDiscarded 409 events during subsampling.\nDiscarded 229 events during 3-sigma standardization.\nExtracting batch of samples à 5000 events from DVS sequence...\nDiscarded 438 events during subsampling.\nDiscarded 256 events during 3-sigma standardization.\nExtracting batch of samples à 5000 events from DVS sequence...\nDiscarded 386 events during subsampling.\nDiscarded 250 events during 3-sigma standardization.\nExtracting batch of samples à 5000 events from DVS sequence...\nDiscarded 357 events during subsampling.\nDiscarded 258 events during 3-sigma standardization.\nExtracting batch of samples à 5000 events from DVS sequence...\nDiscarded 373 events during subsampling.\nDiscarded 222 events during 3-sigma standardization.\nExtracting batch of samples à 5000 events from DVS sequence...\n"
     ]
    },
    {
     "name": "stdout",
     "output_type": "stream",
     "text": [
      "Discarded 406 events during subsampling.\nDiscarded 234 events during 3-sigma standardization.\nExtracting batch of samples à 5000 events from DVS sequence...\nDiscarded 390 events during subsampling.\nDiscarded 271 events during 3-sigma standardization.\nExtracting batch of samples à 5000 events from DVS sequence...\nDiscarded 428 events during subsampling.\nDiscarded 198 events during 3-sigma standardization.\nExtracting batch of samples à 5000 events from DVS sequence...\nDiscarded 849 events during subsampling.\nDiscarded 235 events during 3-sigma standardization.\nExtracting batch of samples à 5000 events from DVS sequence...\nDiscarded 584 events during subsampling.\nDiscarded 221 events during 3-sigma standardization.\nExtracting batch of samples à 5000 events from DVS sequence...\n"
     ]
    },
    {
     "name": "stdout",
     "output_type": "stream",
     "text": [
      "Discarded 366 events during subsampling.\nDiscarded 333 events during 3-sigma standardization.\nExtracting batch of samples à 5000 events from DVS sequence...\nDiscarded 530 events during subsampling.\nDiscarded 290 events during 3-sigma standardization.\nExtracting batch of samples à 5000 events from DVS sequence...\nDiscarded 492 events during subsampling.\nDiscarded 204 events during 3-sigma standardization.\nExtracting batch of samples à 5000 events from DVS sequence...\nDiscarded 526 events during subsampling.\nDiscarded 194 events during 3-sigma standardization.\nExtracting batch of samples à 5000 events from DVS sequence...\nDiscarded 1168 events during subsampling.\nDiscarded 224 events during 3-sigma standardization.\nExtracting batch of samples à 5000 events from DVS sequence...\nDiscarded 524 events during subsampling.\nDiscarded 252 events during 3-sigma standardization.\n"
     ]
    },
    {
     "name": "stdout",
     "output_type": "stream",
     "text": [
      "Extracting batch of samples à 5000 events from DVS sequence...\nDiscarded 444 events during subsampling.\nDiscarded 263 events during 3-sigma standardization.\nExtracting batch of samples à 5000 events from DVS sequence...\nDiscarded 437 events during subsampling.\nDiscarded 250 events during 3-sigma standardization.\nExtracting batch of samples à 5000 events from DVS sequence...\nDiscarded 457 events during subsampling.\nDiscarded 232 events during 3-sigma standardization.\nExtracting batch of samples à 5000 events from DVS sequence...\nDiscarded 492 events during subsampling.\nDiscarded 202 events during 3-sigma standardization.\nExtracting batch of samples à 5000 events from DVS sequence...\nDiscarded 1230 events during subsampling.\n"
     ]
    },
    {
     "name": "stdout",
     "output_type": "stream",
     "text": [
      "Discarded 199 events during 3-sigma standardization.\nExtracting batch of samples à 5000 events from DVS sequence...\nDiscarded 422 events during subsampling.\nDiscarded 263 events during 3-sigma standardization.\nExtracting batch of samples à 5000 events from DVS sequence...\nDiscarded 446 events during subsampling.\nDiscarded 264 events during 3-sigma standardization.\nExtracting batch of samples à 5000 events from DVS sequence...\nDiscarded 513 events during subsampling.\nDiscarded 238 events during 3-sigma standardization.\nExtracting batch of samples à 5000 events from DVS sequence...\nDiscarded 424 events during subsampling.\nDiscarded 185 events during 3-sigma standardization.\nExtracting batch of samples à 5000 events from DVS sequence...\n"
     ]
    },
    {
     "name": "stdout",
     "output_type": "stream",
     "text": [
      "Discarded 498 events during subsampling.\nDiscarded 316 events during 3-sigma standardization.\nExtracting batch of samples à 5000 events from DVS sequence...\nDiscarded 371 events during subsampling.\nDiscarded 253 events during 3-sigma standardization.\nExtracting batch of samples à 5000 events from DVS sequence...\nDiscarded 1771 events during subsampling.\nDiscarded 197 events during 3-sigma standardization.\nExtracting batch of samples à 5000 events from DVS sequence...\nDiscarded 407 events during subsampling.\nDiscarded 234 events during 3-sigma standardization.\nExtracting batch of samples à 5000 events from DVS sequence...\nDiscarded 362 events during subsampling.\nDiscarded 216 events during 3-sigma standardization.\nExtracting batch of samples à 5000 events from DVS sequence...\nDiscarded 426 events during subsampling.\n"
     ]
    },
    {
     "name": "stdout",
     "output_type": "stream",
     "text": [
      "Discarded 203 events during 3-sigma standardization.\nExtracting batch of samples à 5000 events from DVS sequence...\nDiscarded 373 events during subsampling.\nDiscarded 237 events during 3-sigma standardization.\nExtracting batch of samples à 5000 events from DVS sequence...\nDiscarded 579 events during subsampling.\nDiscarded 243 events during 3-sigma standardization.\nExtracting batch of samples à 5000 events from DVS sequence...\nDiscarded 636 events during subsampling.\nDiscarded 205 events during 3-sigma standardization.\nExtracting batch of samples à 5000 events from DVS sequence...\nDiscarded 560 events during subsampling.\nDiscarded 232 events during 3-sigma standardization.\nExtracting batch of samples à 5000 events from DVS sequence...\n"
     ]
    },
    {
     "name": "stdout",
     "output_type": "stream",
     "text": [
      "Discarded 1874 events during subsampling.\nDiscarded 178 events during 3-sigma standardization.\nExtracting batch of samples à 5000 events from DVS sequence...\nDiscarded 603 events during subsampling.\nDiscarded 186 events during 3-sigma standardization.\nExtracting batch of samples à 5000 events from DVS sequence...\nDiscarded 612 events during subsampling.\nDiscarded 195 events during 3-sigma standardization.\nExtracting batch of samples à 5000 events from DVS sequence...\nDiscarded 591 events during subsampling.\nDiscarded 207 events during 3-sigma standardization.\nExtracting batch of samples à 5000 events from DVS sequence...\nDiscarded 566 events during subsampling.\nDiscarded 194 events during 3-sigma standardization.\nExtracting batch of samples à 5000 events from DVS sequence...\nDiscarded 527 events during subsampling.\nDiscarded 175 events during 3-sigma standardization.\n"
     ]
    },
    {
     "name": "stdout",
     "output_type": "stream",
     "text": [
      "Extracting batch of samples à 5000 events from DVS sequence...\nDiscarded 466 events during subsampling.\nDiscarded 190 events during 3-sigma standardization.\nExtracting batch of samples à 5000 events from DVS sequence...\nDiscarded 1710 events during subsampling.\nDiscarded 204 events during 3-sigma standardization.\nExtracting batch of samples à 5000 events from DVS sequence...\nDiscarded 564 events during subsampling.\nDiscarded 158 events during 3-sigma standardization.\nExtracting batch of samples à 5000 events from DVS sequence...\nDiscarded 403 events during subsampling.\nDiscarded 239 events during 3-sigma standardization.\nExtracting batch of samples à 5000 events from DVS sequence...\nDiscarded 435 events during subsampling.\nDiscarded 181 events during 3-sigma standardization.\n"
     ]
    },
    {
     "name": "stdout",
     "output_type": "stream",
     "text": [
      "Extracting batch of samples à 5000 events from DVS sequence...\nDiscarded 325 events during subsampling.\nDiscarded 161 events during 3-sigma standardization.\nExtracting batch of samples à 5000 events from DVS sequence...\nDiscarded 408 events during subsampling.\nDiscarded 233 events during 3-sigma standardization.\nExtracting batch of samples à 5000 events from DVS sequence...\nDiscarded 451 events during subsampling.\nDiscarded 220 events during 3-sigma standardization.\nExtracting batch of samples à 5000 events from DVS sequence...\nDiscarded 439 events during subsampling.\nDiscarded 199 events during 3-sigma standardization.\nExtracting batch of samples à 5000 events from DVS sequence...\nDiscarded 474 events during subsampling.\nDiscarded 188 events during 3-sigma standardization.\nExtracting batch of samples à 5000 events from DVS sequence...\n"
     ]
    },
    {
     "name": "stdout",
     "output_type": "stream",
     "text": [
      "Discarded 1413 events during subsampling.\nDiscarded 202 events during 3-sigma standardization.\nExtracting batch of samples à 5000 events from DVS sequence...\nDiscarded 459 events during subsampling.\nDiscarded 273 events during 3-sigma standardization.\nExtracting batch of samples à 5000 events from DVS sequence...\nDiscarded 507 events during subsampling.\nDiscarded 250 events during 3-sigma standardization.\nExtracting batch of samples à 5000 events from DVS sequence...\nDiscarded 453 events during subsampling.\nDiscarded 199 events during 3-sigma standardization.\nExtracting batch of samples à 5000 events from DVS sequence...\nDiscarded 405 events during subsampling.\nDiscarded 250 events during 3-sigma standardization.\nExtracting batch of samples à 5000 events from DVS sequence...\n"
     ]
    },
    {
     "name": "stdout",
     "output_type": "stream",
     "text": [
      "Discarded 431 events during subsampling.\nDiscarded 248 events during 3-sigma standardization.\nExtracting batch of samples à 5000 events from DVS sequence...\nDiscarded 383 events during subsampling.\nDiscarded 235 events during 3-sigma standardization.\nExtracting batch of samples à 5000 events from DVS sequence...\nDiscarded 370 events during subsampling.\nDiscarded 243 events during 3-sigma standardization.\nExtracting batch of samples à 5000 events from DVS sequence...\nDiscarded 439 events during subsampling.\nDiscarded 282 events during 3-sigma standardization.\nExtracting batch of samples à 5000 events from DVS sequence...\nDiscarded 350 events during subsampling.\nDiscarded 338 events during 3-sigma standardization.\nExtracting batch of samples à 5000 events from DVS sequence...\n"
     ]
    },
    {
     "name": "stdout",
     "output_type": "stream",
     "text": [
      "Discarded 458 events during subsampling.\nDiscarded 217 events during 3-sigma standardization.\nExtracting batch of samples à 5000 events from DVS sequence...\nDiscarded 403 events during subsampling.\nDiscarded 211 events during 3-sigma standardization.\nExtracting batch of samples à 5000 events from DVS sequence...\nDiscarded 2251 events during subsampling.\nDiscarded 109 events during 3-sigma standardization.\nLoading DVS sample /home/rbodo/.snntoolbox/Datasets/predator_prey/aedat/not_balanced_4834samples/C/rec_4.aedat...\n"
     ]
    },
    {
     "name": "stdout",
     "output_type": "stream",
     "text": [
      "Total number of events of this sample: 345000.\nNumber of batches: 69.\nExtracting 69 frames from DVS event sequence.\n"
     ]
    },
    {
     "name": "stdout",
     "output_type": "stream",
     "text": [
      "Extracting batch of samples à 5000 events from DVS sequence...\nDiscarded 909 events during subsampling.\nDiscarded 458 events during 3-sigma standardization.\nExtracting batch of samples à 5000 events from DVS sequence...\nDiscarded 425 events during subsampling.\nDiscarded 229 events during 3-sigma standardization.\nExtracting batch of samples à 5000 events from DVS sequence...\nDiscarded 466 events during subsampling.\nDiscarded 257 events during 3-sigma standardization.\nExtracting batch of samples à 5000 events from DVS sequence...\nDiscarded 409 events during subsampling.\nDiscarded 227 events during 3-sigma standardization.\nExtracting batch of samples à 5000 events from DVS sequence...\nDiscarded 930 events during subsampling.\n"
     ]
    },
    {
     "name": "stdout",
     "output_type": "stream",
     "text": [
      "Discarded 187 events during 3-sigma standardization.\nExtracting batch of samples à 5000 events from DVS sequence...\nDiscarded 557 events during subsampling.\nDiscarded 162 events during 3-sigma standardization.\nExtracting batch of samples à 5000 events from DVS sequence...\nDiscarded 474 events during subsampling.\nDiscarded 234 events during 3-sigma standardization.\nExtracting batch of samples à 5000 events from DVS sequence...\nDiscarded 448 events during subsampling.\nDiscarded 231 events during 3-sigma standardization.\nExtracting batch of samples à 5000 events from DVS sequence...\nDiscarded 329 events during subsampling.\nDiscarded 217 events during 3-sigma standardization.\nExtracting batch of samples à 5000 events from DVS sequence...\nDiscarded 1891 events during subsampling."
     ]
    },
    {
     "name": "stdout",
     "output_type": "stream",
     "text": [
      "\nDiscarded 138 events during 3-sigma standardization.\nExtracting batch of samples à 5000 events from DVS sequence...\nDiscarded 412 events during subsampling.\nDiscarded 253 events during 3-sigma standardization.\nExtracting batch of samples à 5000 events from DVS sequence...\nDiscarded 402 events during subsampling.\nDiscarded 253 events during 3-sigma standardization.\nExtracting batch of samples à 5000 events from DVS sequence...\nDiscarded 406 events during subsampling.\nDiscarded 198 events during 3-sigma standardization.\nExtracting batch of samples à 5000 events from DVS sequence...\nDiscarded 476 events during subsampling.\nDiscarded 258 events during 3-sigma standardization.\nExtracting batch of samples à 5000 events from DVS sequence...\nDiscarded 417 events during subsampling.\nDiscarded 239 events during 3-sigma standardization.\nExtracting batch of samples à 5000 events from DVS sequence..."
     ]
    },
    {
     "name": "stdout",
     "output_type": "stream",
     "text": [
      "\nDiscarded 1189 events during subsampling.\nDiscarded 253 events during 3-sigma standardization.\nExtracting batch of samples à 5000 events from DVS sequence...\nDiscarded 454 events during subsampling.\nDiscarded 285 events during 3-sigma standardization.\nExtracting batch of samples à 5000 events from DVS sequence...\nDiscarded 770 events during subsampling.\nDiscarded 289 events during 3-sigma standardization.\nExtracting batch of samples à 5000 events from DVS sequence...\nDiscarded 439 events during subsampling.\nDiscarded 229 events during 3-sigma standardization.\nExtracting batch of samples à 5000 events from DVS sequence...\nDiscarded 429 events during subsampling.\nDiscarded 216 events during 3-sigma standardization.\nExtracting batch of samples à 5000 events from DVS sequence...\nDiscarded 398 events during subsampling."
     ]
    },
    {
     "name": "stdout",
     "output_type": "stream",
     "text": [
      "\nDiscarded 212 events during 3-sigma standardization.\nExtracting batch of samples à 5000 events from DVS sequence...\nDiscarded 399 events during subsampling.\nDiscarded 205 events during 3-sigma standardization.\nExtracting batch of samples à 5000 events from DVS sequence...\nDiscarded 423 events during subsampling.\nDiscarded 205 events during 3-sigma standardization.\nExtracting batch of samples à 5000 events from DVS sequence...\nDiscarded 355 events during subsampling.\nDiscarded 194 events during 3-sigma standardization.\nExtracting batch of samples à 5000 events from DVS sequence...\nDiscarded 1162 events during subsampling.\nDiscarded 197 events during 3-sigma standardization.\nExtracting batch of samples à 5000 events from DVS sequence...\nDiscarded 890 events during subsampling.\nDiscarded 362 events during 3-sigma standardization."
     ]
    },
    {
     "name": "stdout",
     "output_type": "stream",
     "text": [
      "\nExtracting batch of samples à 5000 events from DVS sequence...\nDiscarded 555 events during subsampling.\nDiscarded 307 events during 3-sigma standardization.\nExtracting batch of samples à 5000 events from DVS sequence...\nDiscarded 615 events during subsampling.\nDiscarded 248 events during 3-sigma standardization.\nExtracting batch of samples à 5000 events from DVS sequence...\nDiscarded 619 events during subsampling.\nDiscarded 254 events during 3-sigma standardization.\nExtracting batch of samples à 5000 events from DVS sequence...\nDiscarded 578 events during subsampling.\nDiscarded 182 events during 3-sigma standardization.\nExtracting batch of samples à 5000 events from DVS sequence...\nDiscarded 1503 events during subsampling.\nDiscarded 205 events during 3-sigma standardization.\nExtracting batch of samples à 5000 events from DVS sequence...\nDiscarded 2092 events during subsampling.\nDiscarded 125 events during 3-sigma standardization.\nExtracting batch of samples à 5000 events from DVS sequence...\n"
     ]
    },
    {
     "name": "stdout",
     "output_type": "stream",
     "text": [
      "Discarded 417 events during subsampling.\nDiscarded 193 events during 3-sigma standardization.\nExtracting batch of samples à 5000 events from DVS sequence...\nDiscarded 815 events during subsampling.\nDiscarded 197 events during 3-sigma standardization.\nExtracting batch of samples à 5000 events from DVS sequence...\nDiscarded 484 events during subsampling.\nDiscarded 200 events during 3-sigma standardization.\nExtracting batch of samples à 5000 events from DVS sequence...\nDiscarded 346 events during subsampling.\nDiscarded 215 events during 3-sigma standardization.\nExtracting batch of samples à 5000 events from DVS sequence...\nDiscarded 360 events during subsampling.\nDiscarded 206 events during 3-sigma standardization.\nExtracting batch of samples à 5000 events from DVS sequence...\n"
     ]
    },
    {
     "name": "stdout",
     "output_type": "stream",
     "text": [
      "Discarded 586 events during subsampling.\nDiscarded 259 events during 3-sigma standardization.\nExtracting batch of samples à 5000 events from DVS sequence...\nDiscarded 424 events during subsampling.\nDiscarded 233 events during 3-sigma standardization.\nExtracting batch of samples à 5000 events from DVS sequence...\nDiscarded 853 events during subsampling.\nDiscarded 235 events during 3-sigma standardization.\nExtracting batch of samples à 5000 events from DVS sequence...\nDiscarded 13 events during subsampling.\nDiscarded 487 events during 3-sigma standardization.\nExtracting batch of samples à 5000 events from DVS sequence...\nDiscarded 386 events during subsampling.\nDiscarded 202 events during 3-sigma standardization.\nExtracting batch of samples à 5000 events from DVS sequence...\n"
     ]
    },
    {
     "name": "stdout",
     "output_type": "stream",
     "text": [
      "Discarded 1986 events during subsampling.\nDiscarded 182 events during 3-sigma standardization.\nExtracting batch of samples à 5000 events from DVS sequence...\nDiscarded 443 events during subsampling.\nDiscarded 199 events during 3-sigma standardization.\nExtracting batch of samples à 5000 events from DVS sequence...\nDiscarded 468 events during subsampling.\nDiscarded 223 events during 3-sigma standardization.\nExtracting batch of samples à 5000 events from DVS sequence...\nDiscarded 909 events during subsampling.\nDiscarded 350 events during 3-sigma standardization.\nExtracting batch of samples à 5000 events from DVS sequence...\nDiscarded 1454 events during subsampling.\nDiscarded 238 events during 3-sigma standardization.\nExtracting batch of samples à 5000 events from DVS sequence...\nDiscarded 280 events during subsampling.\nDiscarded 342 events during 3-sigma standardization.\nExtracting batch of samples à 5000 events from DVS sequence...\n"
     ]
    },
    {
     "name": "stdout",
     "output_type": "stream",
     "text": [
      "Discarded 1384 events during subsampling.\nDiscarded 199 events during 3-sigma standardization.\nExtracting batch of samples à 5000 events from DVS sequence...\nDiscarded 452 events during subsampling.\nDiscarded 187 events during 3-sigma standardization.\nExtracting batch of samples à 5000 events from DVS sequence...\nDiscarded 406 events during subsampling.\nDiscarded 275 events during 3-sigma standardization.\nExtracting batch of samples à 5000 events from DVS sequence...\nDiscarded 406 events during subsampling.\nDiscarded 252 events during 3-sigma standardization.\nExtracting batch of samples à 5000 events from DVS sequence...\nDiscarded 430 events during subsampling.\nDiscarded 252 events during 3-sigma standardization.\nExtracting batch of samples à 5000 events from DVS sequence...\nDiscarded 401 events during subsampling.\nDiscarded 254 events during 3-sigma standardization.\nExtracting batch of samples à 5000 events from DVS sequence..."
     ]
    },
    {
     "name": "stdout",
     "output_type": "stream",
     "text": [
      "\nDiscarded 369 events during subsampling.\nDiscarded 209 events during 3-sigma standardization.\nExtracting batch of samples à 5000 events from DVS sequence...\nDiscarded 333 events during subsampling.\nDiscarded 192 events during 3-sigma standardization.\nExtracting batch of samples à 5000 events from DVS sequence...\nDiscarded 512 events during subsampling.\nDiscarded 257 events during 3-sigma standardization.\nExtracting batch of samples à 5000 events from DVS sequence...\nDiscarded 405 events during subsampling.\nDiscarded 255 events during 3-sigma standardization.\nExtracting batch of samples à 5000 events from DVS sequence...\nDiscarded 1273 events during subsampling.\nDiscarded 166 events during 3-sigma standardization.\n"
     ]
    },
    {
     "name": "stdout",
     "output_type": "stream",
     "text": [
      "Extracting batch of samples à 5000 events from DVS sequence...\nDiscarded 537 events during subsampling.\nDiscarded 227 events during 3-sigma standardization.\nExtracting batch of samples à 5000 events from DVS sequence...\nDiscarded 505 events during subsampling.\nDiscarded 252 events during 3-sigma standardization.\nExtracting batch of samples à 5000 events from DVS sequence...\nDiscarded 511 events during subsampling.\nDiscarded 215 events during 3-sigma standardization.\nExtracting batch of samples à 5000 events from DVS sequence...\nDiscarded 365 events during subsampling.\nDiscarded 214 events during 3-sigma standardization.\nExtracting batch of samples à 5000 events from DVS sequence...\nDiscarded 409 events during subsampling.\nDiscarded 225 events during 3-sigma standardization.\nExtracting batch of samples à 5000 events from DVS sequence...\nDiscarded 496 events during subsampling.\n"
     ]
    },
    {
     "name": "stdout",
     "output_type": "stream",
     "text": [
      "Discarded 204 events during 3-sigma standardization.\nExtracting batch of samples à 5000 events from DVS sequence...\nDiscarded 415 events during subsampling.\nDiscarded 210 events during 3-sigma standardization.\nExtracting batch of samples à 5000 events from DVS sequence...\nDiscarded 325 events during subsampling.\nDiscarded 257 events during 3-sigma standardization.\nExtracting batch of samples à 5000 events from DVS sequence...\nDiscarded 476 events during subsampling.\nDiscarded 200 events during 3-sigma standardization.\nLoading DVS sample /home/rbodo/.snntoolbox/Datasets/predator_prey/aedat/not_balanced_4834samples/C/rec_5.aedat...\n"
     ]
    },
    {
     "name": "stdout",
     "output_type": "stream",
     "text": [
      "Total number of events of this sample: 65000.\nNumber of batches: 13.\nExtracting 13 frames from DVS event sequence.\n"
     ]
    },
    {
     "name": "stdout",
     "output_type": "stream",
     "text": [
      "Extracting batch of samples à 5000 events from DVS sequence...\nDiscarded 438 events during subsampling.\nDiscarded 186 events during 3-sigma standardization.\nExtracting batch of samples à 5000 events from DVS sequence...\nDiscarded 720 events during subsampling.\nDiscarded 205 events during 3-sigma standardization.\nExtracting batch of samples à 5000 events from DVS sequence...\nDiscarded 348 events during subsampling.\nDiscarded 273 events during 3-sigma standardization.\nExtracting batch of samples à 5000 events from DVS sequence...\nDiscarded 328 events during subsampling.\nDiscarded 206 events during 3-sigma standardization.\nExtracting batch of samples à 5000 events from DVS sequence...\nDiscarded 199 events during subsampling.\n"
     ]
    },
    {
     "name": "stdout",
     "output_type": "stream",
     "text": [
      "Discarded 381 events during 3-sigma standardization.\nExtracting batch of samples à 5000 events from DVS sequence...\nDiscarded 81 events during subsampling.\nDiscarded 1414 events during 3-sigma standardization.\nExtracting batch of samples à 5000 events from DVS sequence...\nDiscarded 84 events during subsampling.\nDiscarded 357 events during 3-sigma standardization.\nExtracting batch of samples à 5000 events from DVS sequence...\nDiscarded 566 events during subsampling.\nDiscarded 263 events during 3-sigma standardization.\nExtracting batch of samples à 5000 events from DVS sequence...\nDiscarded 100 events during subsampling.\nDiscarded 1761 events during 3-sigma standardization.\nExtracting batch of samples à 5000 events from DVS sequence...\nDiscarded 423 events during subsampling.\nDiscarded 192 events during 3-sigma standardization."
     ]
    },
    {
     "name": "stdout",
     "output_type": "stream",
     "text": [
      "\nExtracting batch of samples à 5000 events from DVS sequence...\nDiscarded 1558 events during subsampling.\nDiscarded 174 events during 3-sigma standardization.\nExtracting batch of samples à 5000 events from DVS sequence...\nDiscarded 1540 events during subsampling.\nDiscarded 196 events during 3-sigma standardization.\nLoading DVS sample /home/rbodo/.snntoolbox/Datasets/predator_prey/aedat/not_balanced_4834samples/C/rec_6.aedat...\nTotal number of events of this sample: 65000.\nNumber of batches: 13.\nExtracting 13 frames from DVS event sequence.\n"
     ]
    },
    {
     "name": "stdout",
     "output_type": "stream",
     "text": [
      "Extracting batch of samples à 5000 events from DVS sequence...\nDiscarded 404 events during subsampling.\nDiscarded 245 events during 3-sigma standardization.\nExtracting batch of samples à 5000 events from DVS sequence...\nDiscarded 92 events during subsampling.\nDiscarded 628 events during 3-sigma standardization.\nExtracting batch of samples à 5000 events from DVS sequence...\nDiscarded 393 events during subsampling.\nDiscarded 242 events during 3-sigma standardization.\nExtracting batch of samples à 5000 events from DVS sequence...\nDiscarded 369 events during subsampling.\nDiscarded 237 events during 3-sigma standardization.\nExtracting batch of samples à 5000 events from DVS sequence...\n"
     ]
    },
    {
     "name": "stdout",
     "output_type": "stream",
     "text": [
      "Discarded 349 events during subsampling.\nDiscarded 256 events during 3-sigma standardization.\nExtracting batch of samples à 5000 events from DVS sequence...\nDiscarded 369 events during subsampling.\nDiscarded 267 events during 3-sigma standardization.\nExtracting batch of samples à 5000 events from DVS sequence...\nDiscarded 338 events during subsampling.\nDiscarded 250 events during 3-sigma standardization.\nExtracting batch of samples à 5000 events from DVS sequence...\nDiscarded 2316 events during subsampling.\nDiscarded 291 events during 3-sigma standardization.\nExtracting batch of samples à 5000 events from DVS sequence...\nDiscarded 322 events during subsampling.\nDiscarded 222 events during 3-sigma standardization.\nExtracting batch of samples à 5000 events from DVS sequence...\n"
     ]
    },
    {
     "name": "stdout",
     "output_type": "stream",
     "text": [
      "Discarded 335 events during subsampling.\nDiscarded 243 events during 3-sigma standardization.\nExtracting batch of samples à 5000 events from DVS sequence...\nDiscarded 51 events during subsampling.\nDiscarded 307 events during 3-sigma standardization.\nExtracting batch of samples à 5000 events from DVS sequence...\nDiscarded 1437 events during subsampling.\nDiscarded 238 events during 3-sigma standardization.\nLoading DVS sample /home/rbodo/.snntoolbox/Datasets/predator_prey/aedat/not_balanced_4834samples/C/rec_8.aedat...\n"
     ]
    },
    {
     "name": "stdout",
     "output_type": "stream",
     "text": [
      "Total number of events of this sample: 445000.\nNumber of batches: 89.\nExtracting 89 frames from DVS event sequence.\n"
     ]
    },
    {
     "name": "stdout",
     "output_type": "stream",
     "text": [
      "Extracting batch of samples à 5000 events from DVS sequence...\nDiscarded 333 events during subsampling.\nDiscarded 235 events during 3-sigma standardization.\nExtracting batch of samples à 5000 events from DVS sequence...\nDiscarded 362 events during subsampling.\nDiscarded 208 events during 3-sigma standardization.\nExtracting batch of samples à 5000 events from DVS sequence...\nDiscarded 1197 events during subsampling.\nDiscarded 214 events during 3-sigma standardization.\nExtracting batch of samples à 5000 events from DVS sequence...\nDiscarded 368 events during subsampling.\nDiscarded 204 events during 3-sigma standardization.\nExtracting batch of samples à 5000 events from DVS sequence...\nDiscarded 311 events during subsampling.\n"
     ]
    },
    {
     "name": "stdout",
     "output_type": "stream",
     "text": [
      "Discarded 218 events during 3-sigma standardization.\nExtracting batch of samples à 5000 events from DVS sequence...\nDiscarded 159 events during subsampling.\nDiscarded 228 events during 3-sigma standardization.\nExtracting batch of samples à 5000 events from DVS sequence...\nDiscarded 373 events during subsampling.\nDiscarded 204 events during 3-sigma standardization.\nExtracting batch of samples à 5000 events from DVS sequence...\nDiscarded 507 events during subsampling.\nDiscarded 203 events during 3-sigma standardization.\nExtracting batch of samples à 5000 events from DVS sequence...\nDiscarded 329 events during subsampling.\nDiscarded 202 events during 3-sigma standardization.\nExtracting batch of samples à 5000 events from DVS sequence...\nDiscarded 438 events during subsampling.\nDiscarded 211 events during 3-sigma standardization.\n"
     ]
    },
    {
     "name": "stdout",
     "output_type": "stream",
     "text": [
      "Extracting batch of samples à 5000 events from DVS sequence...\nDiscarded 405 events during subsampling.\nDiscarded 227 events during 3-sigma standardization.\nExtracting batch of samples à 5000 events from DVS sequence...\nDiscarded 436 events during subsampling.\nDiscarded 204 events during 3-sigma standardization.\nExtracting batch of samples à 5000 events from DVS sequence...\nDiscarded 720 events during subsampling.\nDiscarded 224 events during 3-sigma standardization.\nExtracting batch of samples à 5000 events from DVS sequence...\nDiscarded 2136 events during subsampling.\nDiscarded 171 events during 3-sigma standardization.\nExtracting batch of samples à 5000 events from DVS sequence...\nDiscarded 346 events during subsampling.\nDiscarded 241 events during 3-sigma standardization.\nExtracting batch of samples à 5000 events from DVS sequence...\n"
     ]
    },
    {
     "name": "stdout",
     "output_type": "stream",
     "text": [
      "Discarded 352 events during subsampling.\nDiscarded 238 events during 3-sigma standardization.\nExtracting batch of samples à 5000 events from DVS sequence...\nDiscarded 6 events during subsampling.\nDiscarded 283 events during 3-sigma standardization.\nExtracting batch of samples à 5000 events from DVS sequence...\nDiscarded 352 events during subsampling.\nDiscarded 208 events during 3-sigma standardization.\nExtracting batch of samples à 5000 events from DVS sequence...\nDiscarded 208 events during subsampling.\nDiscarded 233 events during 3-sigma standardization.\nExtracting batch of samples à 5000 events from DVS sequence...\nDiscarded 291 events during subsampling.\nDiscarded 225 events during 3-sigma standardization.\nExtracting batch of samples à 5000 events from DVS sequence...\nDiscarded 1726 events during subsampling.\nDiscarded 192 events during 3-sigma standardization.\n"
     ]
    },
    {
     "name": "stdout",
     "output_type": "stream",
     "text": [
      "Extracting batch of samples à 5000 events from DVS sequence...\nDiscarded 343 events during subsampling.\nDiscarded 247 events during 3-sigma standardization.\nExtracting batch of samples à 5000 events from DVS sequence...\nDiscarded 1924 events during subsampling.\nDiscarded 141 events during 3-sigma standardization.\nExtracting batch of samples à 5000 events from DVS sequence...\nDiscarded 421 events during subsampling.\nDiscarded 252 events during 3-sigma standardization.\nExtracting batch of samples à 5000 events from DVS sequence...\nDiscarded 399 events during subsampling.\nDiscarded 251 events during 3-sigma standardization.\nExtracting batch of samples à 5000 events from DVS sequence...\nDiscarded 413 events during subsampling.\nDiscarded 196 events during 3-sigma standardization.\nExtracting batch of samples à 5000 events from DVS sequence..."
     ]
    },
    {
     "name": "stdout",
     "output_type": "stream",
     "text": [
      "\nDiscarded 427 events during subsampling.\nDiscarded 201 events during 3-sigma standardization.\nExtracting batch of samples à 5000 events from DVS sequence...\nDiscarded 272 events during subsampling.\nDiscarded 266 events during 3-sigma standardization.\nExtracting batch of samples à 5000 events from DVS sequence...\nDiscarded 178 events during subsampling.\nDiscarded 240 events during 3-sigma standardization.\nExtracting batch of samples à 5000 events from DVS sequence...\nDiscarded 328 events during subsampling.\nDiscarded 220 events during 3-sigma standardization.\nExtracting batch of samples à 5000 events from DVS sequence...\nDiscarded 250 events during subsampling."
     ]
    },
    {
     "name": "stdout",
     "output_type": "stream",
     "text": [
      "\nDiscarded 222 events during 3-sigma standardization.\nExtracting batch of samples à 5000 events from DVS sequence...\nDiscarded 1500 events during subsampling.\nDiscarded 217 events during 3-sigma standardization.\nExtracting batch of samples à 5000 events from DVS sequence...\nDiscarded 1336 events during subsampling.\nDiscarded 187 events during 3-sigma standardization.\nExtracting batch of samples à 5000 events from DVS sequence...\nDiscarded 448 events during subsampling.\nDiscarded 211 events during 3-sigma standardization.\nExtracting batch of samples à 5000 events from DVS sequence...\nDiscarded 356 events during subsampling.\nDiscarded 186 events during 3-sigma standardization.\nExtracting batch of samples à 5000 events from DVS sequence...\n"
     ]
    },
    {
     "name": "stdout",
     "output_type": "stream",
     "text": [
      "Discarded 410 events during subsampling.\nDiscarded 202 events during 3-sigma standardization.\nExtracting batch of samples à 5000 events from DVS sequence...\nDiscarded 415 events during subsampling.\nDiscarded 199 events during 3-sigma standardization.\nExtracting batch of samples à 5000 events from DVS sequence...\nDiscarded 421 events during subsampling.\nDiscarded 257 events during 3-sigma standardization.\nExtracting batch of samples à 5000 events from DVS sequence...\nDiscarded 434 events during subsampling.\nDiscarded 220 events during 3-sigma standardization.\nExtracting batch of samples à 5000 events from DVS sequence...\n"
     ]
    },
    {
     "name": "stdout",
     "output_type": "stream",
     "text": [
      "Discarded 327 events during subsampling.\nDiscarded 257 events during 3-sigma standardization.\nExtracting batch of samples à 5000 events from DVS sequence...\nDiscarded 342 events during subsampling.\nDiscarded 240 events during 3-sigma standardization.\nExtracting batch of samples à 5000 events from DVS sequence...\nDiscarded 995 events during subsampling.\nDiscarded 212 events during 3-sigma standardization.\nExtracting batch of samples à 5000 events from DVS sequence...\nDiscarded 728 events during subsampling.\nDiscarded 213 events during 3-sigma standardization.\nExtracting batch of samples à 5000 events from DVS sequence...\nDiscarded 364 events during subsampling."
     ]
    },
    {
     "name": "stdout",
     "output_type": "stream",
     "text": [
      "\nDiscarded 229 events during 3-sigma standardization.\nExtracting batch of samples à 5000 events from DVS sequence...\nDiscarded 110 events during subsampling.\nDiscarded 255 events during 3-sigma standardization.\nExtracting batch of samples à 5000 events from DVS sequence...\nDiscarded 1769 events during subsampling.\nDiscarded 186 events during 3-sigma standardization.\nExtracting batch of samples à 5000 events from DVS sequence...\nDiscarded 458 events during subsampling.\nDiscarded 225 events during 3-sigma standardization.\nExtracting batch of samples à 5000 events from DVS sequence...\nDiscarded 359 events during subsampling.\nDiscarded 243 events during 3-sigma standardization."
     ]
    },
    {
     "name": "stdout",
     "output_type": "stream",
     "text": [
      "\nExtracting batch of samples à 5000 events from DVS sequence...\nDiscarded 435 events during subsampling.\nDiscarded 237 events during 3-sigma standardization.\nExtracting batch of samples à 5000 events from DVS sequence...\nDiscarded 424 events during subsampling.\nDiscarded 269 events during 3-sigma standardization.\nExtracting batch of samples à 5000 events from DVS sequence...\nDiscarded 448 events during subsampling.\nDiscarded 205 events during 3-sigma standardization.\nExtracting batch of samples à 5000 events from DVS sequence...\nDiscarded 1116 events during subsampling.\nDiscarded 189 events during 3-sigma standardization.\nExtracting batch of samples à 5000 events from DVS sequence...\nDiscarded 1682 events during subsampling.\nDiscarded 177 events during 3-sigma standardization.\n"
     ]
    },
    {
     "name": "stdout",
     "output_type": "stream",
     "text": [
      "Extracting batch of samples à 5000 events from DVS sequence...\nDiscarded 296 events during subsampling.\nDiscarded 202 events during 3-sigma standardization.\nExtracting batch of samples à 5000 events from DVS sequence...\nDiscarded 1436 events during subsampling.\nDiscarded 190 events during 3-sigma standardization.\nExtracting batch of samples à 5000 events from DVS sequence...\nDiscarded 297 events during subsampling.\nDiscarded 223 events during 3-sigma standardization.\nExtracting batch of samples à 5000 events from DVS sequence...\nDiscarded 245 events during subsampling.\nDiscarded 264 events during 3-sigma standardization.\nExtracting batch of samples à 5000 events from DVS sequence...\n"
     ]
    },
    {
     "name": "stdout",
     "output_type": "stream",
     "text": [
      "Discarded 351 events during subsampling.\nDiscarded 232 events during 3-sigma standardization.\nExtracting batch of samples à 5000 events from DVS sequence...\nDiscarded 623 events during subsampling.\nDiscarded 246 events during 3-sigma standardization.\nExtracting batch of samples à 5000 events from DVS sequence...\nDiscarded 433 events during subsampling.\nDiscarded 217 events during 3-sigma standardization.\nExtracting batch of samples à 5000 events from DVS sequence...\nDiscarded 397 events during subsampling.\nDiscarded 203 events during 3-sigma standardization.\nExtracting batch of samples à 5000 events from DVS sequence...\nDiscarded 341 events during subsampling.\nDiscarded 213 events during 3-sigma standardization.\n"
     ]
    },
    {
     "name": "stdout",
     "output_type": "stream",
     "text": [
      "Extracting batch of samples à 5000 events from DVS sequence...\nDiscarded 392 events during subsampling.\nDiscarded 198 events during 3-sigma standardization.\nExtracting batch of samples à 5000 events from DVS sequence...\nDiscarded 400 events during subsampling.\nDiscarded 214 events during 3-sigma standardization.\nExtracting batch of samples à 5000 events from DVS sequence...\nDiscarded 455 events during subsampling.\nDiscarded 237 events during 3-sigma standardization.\nExtracting batch of samples à 5000 events from DVS sequence...\nDiscarded 293 events during subsampling.\nDiscarded 340 events during 3-sigma standardization.\nExtracting batch of samples à 5000 events from DVS sequence...\nDiscarded 406 events during subsampling.\nDiscarded 217 events during 3-sigma standardization.\n"
     ]
    },
    {
     "name": "stdout",
     "output_type": "stream",
     "text": [
      "Extracting batch of samples à 5000 events from DVS sequence...\nDiscarded 73 events during subsampling.\nDiscarded 300 events during 3-sigma standardization.\nExtracting batch of samples à 5000 events from DVS sequence...\nDiscarded 298 events during subsampling.\nDiscarded 215 events during 3-sigma standardization.\nExtracting batch of samples à 5000 events from DVS sequence...\nDiscarded 186 events during subsampling.\nDiscarded 263 events during 3-sigma standardization.\nExtracting batch of samples à 5000 events from DVS sequence...\nDiscarded 279 events during subsampling.\nDiscarded 195 events during 3-sigma standardization.\nExtracting batch of samples à 5000 events from DVS sequence...\nDiscarded 1588 events during subsampling.\nDiscarded 166 events during 3-sigma standardization.\n"
     ]
    },
    {
     "name": "stdout",
     "output_type": "stream",
     "text": [
      "Extracting batch of samples à 5000 events from DVS sequence...\nDiscarded 332 events during subsampling.\nDiscarded 209 events during 3-sigma standardization.\nExtracting batch of samples à 5000 events from DVS sequence...\nDiscarded 684 events during subsampling.\nDiscarded 191 events during 3-sigma standardization.\nExtracting batch of samples à 5000 events from DVS sequence...\nDiscarded 387 events during subsampling.\nDiscarded 221 events during 3-sigma standardization.\nExtracting batch of samples à 5000 events from DVS sequence...\nDiscarded 431 events during subsampling.\nDiscarded 246 events during 3-sigma standardization.\nExtracting batch of samples à 5000 events from DVS sequence...\nDiscarded 448 events during subsampling.\nDiscarded 226 events during 3-sigma standardization.\n"
     ]
    },
    {
     "name": "stdout",
     "output_type": "stream",
     "text": [
      "Extracting batch of samples à 5000 events from DVS sequence...\nDiscarded 440 events during subsampling.\nDiscarded 224 events during 3-sigma standardization.\nExtracting batch of samples à 5000 events from DVS sequence...\nDiscarded 334 events during subsampling.\nDiscarded 219 events during 3-sigma standardization.\nExtracting batch of samples à 5000 events from DVS sequence...\nDiscarded 1627 events during subsampling.\nDiscarded 203 events during 3-sigma standardization.\nExtracting batch of samples à 5000 events from DVS sequence...\nDiscarded 380 events during subsampling.\nDiscarded 236 events during 3-sigma standardization.\nExtracting batch of samples à 5000 events from DVS sequence...\nDiscarded 186 events during subsampling.\nDiscarded 232 events during 3-sigma standardization.\nExtracting batch of samples à 5000 events from DVS sequence...\n"
     ]
    },
    {
     "name": "stdout",
     "output_type": "stream",
     "text": [
      "Discarded 362 events during subsampling.\nDiscarded 208 events during 3-sigma standardization.\nExtracting batch of samples à 5000 events from DVS sequence...\nDiscarded 275 events during subsampling.\nDiscarded 173 events during 3-sigma standardization.\nExtracting batch of samples à 5000 events from DVS sequence...\nDiscarded 370 events during subsampling.\nDiscarded 236 events during 3-sigma standardization.\nExtracting batch of samples à 5000 events from DVS sequence...\nDiscarded 466 events during subsampling.\nDiscarded 224 events during 3-sigma standardization.\nExtracting batch of samples à 5000 events from DVS sequence...\nDiscarded 302 events during subsampling.\nDiscarded 216 events during 3-sigma standardization."
     ]
    },
    {
     "name": "stdout",
     "output_type": "stream",
     "text": [
      "\nExtracting batch of samples à 5000 events from DVS sequence...\nDiscarded 397 events during subsampling.\nDiscarded 203 events during 3-sigma standardization.\nLoading DVS sample /home/rbodo/.snntoolbox/Datasets/predator_prey/aedat/not_balanced_4834samples/C/rec_9.aedat...\nTotal number of events of this sample: 370000.\nNumber of batches: 74.\nExtracting 74 frames from DVS event sequence.\n"
     ]
    },
    {
     "name": "stdout",
     "output_type": "stream",
     "text": [
      "Extracting batch of samples à 5000 events from DVS sequence...\nDiscarded 149 events during subsampling.\nDiscarded 2387 events during 3-sigma standardization.\nExtracting batch of samples à 5000 events from DVS sequence...\nDiscarded 112 events during subsampling.\nDiscarded 2325 events during 3-sigma standardization.\nExtracting batch of samples à 5000 events from DVS sequence...\nDiscarded 179 events during subsampling.\nDiscarded 2451 events during 3-sigma standardization.\nExtracting batch of samples à 5000 events from DVS sequence...\nDiscarded 496 events during subsampling.\nDiscarded 244 events during 3-sigma standardization.\nExtracting batch of samples à 5000 events from DVS sequence...\nDiscarded 758 events during subsampling."
     ]
    },
    {
     "name": "stdout",
     "output_type": "stream",
     "text": [
      "\nDiscarded 201 events during 3-sigma standardization.\nExtracting batch of samples à 5000 events from DVS sequence...\nDiscarded 671 events during subsampling.\nDiscarded 251 events during 3-sigma standardization.\nExtracting batch of samples à 5000 events from DVS sequence...\nDiscarded 377 events during subsampling.\nDiscarded 302 events during 3-sigma standardization.\nExtracting batch of samples à 5000 events from DVS sequence...\nDiscarded 1049 events during subsampling.\nDiscarded 240 events during 3-sigma standardization.\nExtracting batch of samples à 5000 events from DVS sequence...\nDiscarded 901 events during subsampling.\nDiscarded 153 events during 3-sigma standardization.\nExtracting batch of samples à 5000 events from DVS sequence...\nDiscarded 743 events during subsampling.\nDiscarded 248 events during 3-sigma standardization.\nExtracting batch of samples à 5000 events from DVS sequence...\n"
     ]
    },
    {
     "name": "stdout",
     "output_type": "stream",
     "text": [
      "Discarded 500 events during subsampling.\nDiscarded 183 events during 3-sigma standardization.\nExtracting batch of samples à 5000 events from DVS sequence...\nDiscarded 314 events during subsampling.\nDiscarded 210 events during 3-sigma standardization.\nExtracting batch of samples à 5000 events from DVS sequence...\nDiscarded 565 events during subsampling.\nDiscarded 197 events during 3-sigma standardization.\nExtracting batch of samples à 5000 events from DVS sequence...\nDiscarded 231 events during subsampling.\nDiscarded 176 events during 3-sigma standardization.\nExtracting batch of samples à 5000 events from DVS sequence...\nDiscarded 261 events during subsampling.\nDiscarded 144 events during 3-sigma standardization.\n"
     ]
    },
    {
     "name": "stdout",
     "output_type": "stream",
     "text": [
      "Extracting batch of samples à 5000 events from DVS sequence...\nDiscarded 489 events during subsampling.\nDiscarded 273 events during 3-sigma standardization.\nExtracting batch of samples à 5000 events from DVS sequence...\nDiscarded 334 events during subsampling.\nDiscarded 176 events during 3-sigma standardization.\nExtracting batch of samples à 5000 events from DVS sequence...\nDiscarded 1089 events during subsampling.\nDiscarded 175 events during 3-sigma standardization.\nExtracting batch of samples à 5000 events from DVS sequence...\nDiscarded 372 events during subsampling.\nDiscarded 288 events during 3-sigma standardization.\nExtracting batch of samples à 5000 events from DVS sequence...\nDiscarded 1030 events during subsampling.\nDiscarded 317 events during 3-sigma standardization.\nExtracting batch of samples à 5000 events from DVS sequence...\n"
     ]
    },
    {
     "name": "stdout",
     "output_type": "stream",
     "text": [
      "Discarded 175 events during subsampling.\nDiscarded 306 events during 3-sigma standardization.\nExtracting batch of samples à 5000 events from DVS sequence...\nDiscarded 250 events during subsampling.\nDiscarded 261 events during 3-sigma standardization.\nExtracting batch of samples à 5000 events from DVS sequence...\nDiscarded 206 events during subsampling.\nDiscarded 607 events during 3-sigma standardization.\nExtracting batch of samples à 5000 events from DVS sequence...\nDiscarded 441 events during subsampling.\nDiscarded 298 events during 3-sigma standardization.\nExtracting batch of samples à 5000 events from DVS sequence...\nDiscarded 898 events during subsampling.\nDiscarded 278 events during 3-sigma standardization.\n"
     ]
    },
    {
     "name": "stdout",
     "output_type": "stream",
     "text": [
      "Extracting batch of samples à 5000 events from DVS sequence...\nDiscarded 89 events during subsampling.\nDiscarded 516 events during 3-sigma standardization.\nExtracting batch of samples à 5000 events from DVS sequence...\nDiscarded 1197 events during subsampling.\nDiscarded 321 events during 3-sigma standardization.\nExtracting batch of samples à 5000 events from DVS sequence...\nDiscarded 345 events during subsampling.\nDiscarded 322 events during 3-sigma standardization.\nExtracting batch of samples à 5000 events from DVS sequence...\nDiscarded 486 events during subsampling.\nDiscarded 284 events during 3-sigma standardization.\nExtracting batch of samples à 5000 events from DVS sequence...\nDiscarded 679 events during subsampling.\nDiscarded 286 events during 3-sigma standardization.\nExtracting batch of samples à 5000 events from DVS sequence...\n"
     ]
    },
    {
     "name": "stdout",
     "output_type": "stream",
     "text": [
      "Discarded 259 events during subsampling.\nDiscarded 369 events during 3-sigma standardization.\nExtracting batch of samples à 5000 events from DVS sequence...\nDiscarded 548 events during subsampling.\nDiscarded 291 events during 3-sigma standardization.\nExtracting batch of samples à 5000 events from DVS sequence...\nDiscarded 1169 events during subsampling.\nDiscarded 320 events during 3-sigma standardization.\nExtracting batch of samples à 5000 events from DVS sequence...\nDiscarded 861 events during subsampling.\nDiscarded 307 events during 3-sigma standardization.\nExtracting batch of samples à 5000 events from DVS sequence...\nDiscarded 647 events during subsampling.\nDiscarded 342 events during 3-sigma standardization.\n"
     ]
    },
    {
     "name": "stdout",
     "output_type": "stream",
     "text": [
      "Extracting batch of samples à 5000 events from DVS sequence...\nDiscarded 329 events during subsampling.\nDiscarded 406 events during 3-sigma standardization.\nExtracting batch of samples à 5000 events from DVS sequence...\nDiscarded 796 events during subsampling.\nDiscarded 339 events during 3-sigma standardization.\nExtracting batch of samples à 5000 events from DVS sequence...\nDiscarded 153 events during subsampling.\nDiscarded 521 events during 3-sigma standardization.\nExtracting batch of samples à 5000 events from DVS sequence...\nDiscarded 186 events during subsampling.\nDiscarded 1084 events during 3-sigma standardization.\nExtracting batch of samples à 5000 events from DVS sequence...\nDiscarded 244 events during subsampling.\nDiscarded 852 events during 3-sigma standardization.\n"
     ]
    },
    {
     "name": "stdout",
     "output_type": "stream",
     "text": [
      "Extracting batch of samples à 5000 events from DVS sequence...\nDiscarded 259 events during subsampling.\nDiscarded 1201 events during 3-sigma standardization.\nExtracting batch of samples à 5000 events from DVS sequence...\nDiscarded 158 events during subsampling.\nDiscarded 573 events during 3-sigma standardization.\nExtracting batch of samples à 5000 events from DVS sequence...\nDiscarded 173 events during subsampling.\nDiscarded 525 events during 3-sigma standardization.\nExtracting batch of samples à 5000 events from DVS sequence...\nDiscarded 128 events during subsampling.\nDiscarded 434 events during 3-sigma standardization.\nExtracting batch of samples à 5000 events from DVS sequence...\nDiscarded 162 events during subsampling.\nDiscarded 547 events during 3-sigma standardization.\n"
     ]
    },
    {
     "name": "stdout",
     "output_type": "stream",
     "text": [
      "Extracting batch of samples à 5000 events from DVS sequence...\nDiscarded 125 events during subsampling.\nDiscarded 469 events during 3-sigma standardization.\nExtracting batch of samples à 5000 events from DVS sequence...\nDiscarded 334 events during subsampling.\nDiscarded 984 events during 3-sigma standardization.\nExtracting batch of samples à 5000 events from DVS sequence...\nDiscarded 304 events during subsampling.\nDiscarded 694 events during 3-sigma standardization.\nExtracting batch of samples à 5000 events from DVS sequence...\nDiscarded 162 events during subsampling.\nDiscarded 611 events during 3-sigma standardization.\nExtracting batch of samples à 5000 events from DVS sequence...\nDiscarded 127 events during subsampling.\nDiscarded 793 events during 3-sigma standardization.\n"
     ]
    },
    {
     "name": "stdout",
     "output_type": "stream",
     "text": [
      "Extracting batch of samples à 5000 events from DVS sequence...\nDiscarded 380 events during subsampling.\nDiscarded 955 events during 3-sigma standardization.\nExtracting batch of samples à 5000 events from DVS sequence...\nDiscarded 172 events during subsampling.\nDiscarded 592 events during 3-sigma standardization.\nExtracting batch of samples à 5000 events from DVS sequence...\nDiscarded 249 events during subsampling.\nDiscarded 870 events during 3-sigma standardization.\nExtracting batch of samples à 5000 events from DVS sequence...\nDiscarded 274 events during subsampling.\nDiscarded 1781 events during 3-sigma standardization.\nExtracting batch of samples à 5000 events from DVS sequence...\nDiscarded 165 events during subsampling.\nDiscarded 705 events during 3-sigma standardization.\n"
     ]
    },
    {
     "name": "stdout",
     "output_type": "stream",
     "text": [
      "Extracting batch of samples à 5000 events from DVS sequence...\nDiscarded 178 events during subsampling.\nDiscarded 595 events during 3-sigma standardization.\nExtracting batch of samples à 5000 events from DVS sequence...\nDiscarded 145 events during subsampling.\nDiscarded 591 events during 3-sigma standardization.\nExtracting batch of samples à 5000 events from DVS sequence...\nDiscarded 157 events during subsampling.\nDiscarded 695 events during 3-sigma standardization.\nExtracting batch of samples à 5000 events from DVS sequence...\nDiscarded 181 events during subsampling.\nDiscarded 640 events during 3-sigma standardization.\nExtracting batch of samples à 5000 events from DVS sequence...\nDiscarded 153 events during subsampling.\nDiscarded 483 events during 3-sigma standardization.\n"
     ]
    },
    {
     "name": "stdout",
     "output_type": "stream",
     "text": [
      "Extracting batch of samples à 5000 events from DVS sequence...\nDiscarded 324 events during subsampling.\nDiscarded 766 events during 3-sigma standardization.\nExtracting batch of samples à 5000 events from DVS sequence...\nDiscarded 469 events during subsampling.\nDiscarded 713 events during 3-sigma standardization.\nExtracting batch of samples à 5000 events from DVS sequence...\nDiscarded 429 events during subsampling.\nDiscarded 538 events during 3-sigma standardization.\nExtracting batch of samples à 5000 events from DVS sequence...\nDiscarded 289 events during subsampling.\nDiscarded 422 events during 3-sigma standardization.\nExtracting batch of samples à 5000 events from DVS sequence...\nDiscarded 476 events during subsampling.\nDiscarded 319 events during 3-sigma standardization.\nExtracting batch of samples à 5000 events from DVS sequence..."
     ]
    },
    {
     "name": "stdout",
     "output_type": "stream",
     "text": [
      "\nDiscarded 1517 events during subsampling.\nDiscarded 211 events during 3-sigma standardization.\nExtracting batch of samples à 5000 events from DVS sequence...\nDiscarded 776 events during subsampling.\nDiscarded 403 events during 3-sigma standardization.\nExtracting batch of samples à 5000 events from DVS sequence...\nDiscarded 882 events during subsampling.\nDiscarded 316 events during 3-sigma standardization.\nExtracting batch of samples à 5000 events from DVS sequence...\nDiscarded 1123 events during subsampling.\nDiscarded 276 events during 3-sigma standardization.\nExtracting batch of samples à 5000 events from DVS sequence...\nDiscarded 476 events during subsampling.\nDiscarded 314 events during 3-sigma standardization.\nExtracting batch of samples à 5000 events from DVS sequence...\n"
     ]
    },
    {
     "name": "stdout",
     "output_type": "stream",
     "text": [
      "Discarded 474 events during subsampling.\nDiscarded 1454 events during 3-sigma standardization.\nExtracting batch of samples à 5000 events from DVS sequence...\nDiscarded 832 events during subsampling.\nDiscarded 287 events during 3-sigma standardization.\nExtracting batch of samples à 5000 events from DVS sequence...\nDiscarded 659 events during subsampling.\nDiscarded 268 events during 3-sigma standardization.\nLoading DVS sample /home/rbodo/.snntoolbox/Datasets/predator_prey/aedat/not_balanced_4834samples/L/rec_1.aedat...\n"
     ]
    },
    {
     "name": "stdout",
     "output_type": "stream",
     "text": [
      "Total number of events of this sample: 485000.\nNumber of batches: 97.\nExtracting 97 frames from DVS event sequence.\n"
     ]
    },
    {
     "name": "stdout",
     "output_type": "stream",
     "text": [
      "Extracting batch of samples à 5000 events from DVS sequence...\nDiscarded 453 events during subsampling.\nDiscarded 191 events during 3-sigma standardization.\nExtracting batch of samples à 5000 events from DVS sequence...\nDiscarded 399 events during subsampling.\nDiscarded 276 events during 3-sigma standardization.\nExtracting batch of samples à 5000 events from DVS sequence...\nDiscarded 1477 events during subsampling.\nDiscarded 175 events during 3-sigma standardization.\nExtracting batch of samples à 5000 events from DVS sequence...\nDiscarded 546 events during subsampling.\nDiscarded 209 events during 3-sigma standardization.\nExtracting batch of samples à 5000 events from DVS sequence...\nDiscarded 348 events during subsampling.\nDiscarded 198 events during 3-sigma standardization."
     ]
    },
    {
     "name": "stdout",
     "output_type": "stream",
     "text": [
      "\nExtracting batch of samples à 5000 events from DVS sequence...\nDiscarded 334 events during subsampling.\nDiscarded 226 events during 3-sigma standardization.\nExtracting batch of samples à 5000 events from DVS sequence...\nDiscarded 345 events during subsampling.\nDiscarded 195 events during 3-sigma standardization.\nExtracting batch of samples à 5000 events from DVS sequence...\nDiscarded 320 events during subsampling.\nDiscarded 242 events during 3-sigma standardization.\nExtracting batch of samples à 5000 events from DVS sequence...\nDiscarded 414 events during subsampling.\nDiscarded 276 events during 3-sigma standardization.\nExtracting batch of samples à 5000 events from DVS sequence...\nDiscarded 507 events during subsampling.\nDiscarded 211 events during 3-sigma standardization.\nExtracting batch of samples à 5000 events from DVS sequence..."
     ]
    },
    {
     "name": "stdout",
     "output_type": "stream",
     "text": [
      "\nDiscarded 424 events during subsampling.\nDiscarded 212 events during 3-sigma standardization.\nExtracting batch of samples à 5000 events from DVS sequence...\nDiscarded 527 events during subsampling.\nDiscarded 185 events during 3-sigma standardization.\nExtracting batch of samples à 5000 events from DVS sequence...\nDiscarded 339 events during subsampling.\nDiscarded 280 events during 3-sigma standardization.\nExtracting batch of samples à 5000 events from DVS sequence...\nDiscarded 368 events during subsampling.\nDiscarded 254 events during 3-sigma standardization.\nExtracting batch of samples à 5000 events from DVS sequence...\nDiscarded 341 events during subsampling.\nDiscarded 264 events during 3-sigma standardization.\nExtracting batch of samples à 5000 events from DVS sequence...\n"
     ]
    },
    {
     "name": "stdout",
     "output_type": "stream",
     "text": [
      "Discarded 363 events during subsampling.\nDiscarded 249 events during 3-sigma standardization.\nExtracting batch of samples à 5000 events from DVS sequence...\nDiscarded 446 events during subsampling.\nDiscarded 194 events during 3-sigma standardization.\nExtracting batch of samples à 5000 events from DVS sequence...\nDiscarded 300 events during subsampling.\nDiscarded 252 events during 3-sigma standardization.\nExtracting batch of samples à 5000 events from DVS sequence...\nDiscarded 564 events during subsampling.\nDiscarded 207 events during 3-sigma standardization.\nExtracting batch of samples à 5000 events from DVS sequence...\nDiscarded 1673 events during subsampling.\nDiscarded 207 events during 3-sigma standardization.\nExtracting batch of samples à 5000 events from DVS sequence...\n"
     ]
    },
    {
     "name": "stdout",
     "output_type": "stream",
     "text": [
      "Discarded 459 events during subsampling.\nDiscarded 206 events during 3-sigma standardization.\nExtracting batch of samples à 5000 events from DVS sequence...\nDiscarded 542 events during subsampling.\nDiscarded 196 events during 3-sigma standardization.\nExtracting batch of samples à 5000 events from DVS sequence...\nDiscarded 1125 events during subsampling.\nDiscarded 271 events during 3-sigma standardization.\nExtracting batch of samples à 5000 events from DVS sequence...\nDiscarded 514 events during subsampling.\nDiscarded 274 events during 3-sigma standardization.\nExtracting batch of samples à 5000 events from DVS sequence...\nDiscarded 470 events during subsampling.\nDiscarded 243 events during 3-sigma standardization.\nExtracting batch of samples à 5000 events from DVS sequence...\n"
     ]
    },
    {
     "name": "stdout",
     "output_type": "stream",
     "text": [
      "Discarded 457 events during subsampling.\nDiscarded 215 events during 3-sigma standardization.\nExtracting batch of samples à 5000 events from DVS sequence...\nDiscarded 439 events during subsampling.\nDiscarded 204 events during 3-sigma standardization.\nExtracting batch of samples à 5000 events from DVS sequence...\nDiscarded 404 events during subsampling.\nDiscarded 224 events during 3-sigma standardization.\nExtracting batch of samples à 5000 events from DVS sequence...\nDiscarded 2080 events during subsampling.\nDiscarded 136 events during 3-sigma standardization.\nExtracting batch of samples à 5000 events from DVS sequence...\nDiscarded 303 events during subsampling.\nDiscarded 194 events during 3-sigma standardization.\nExtracting batch of samples à 5000 events from DVS sequence...\n"
     ]
    },
    {
     "name": "stdout",
     "output_type": "stream",
     "text": [
      "Discarded 403 events during subsampling.\nDiscarded 208 events during 3-sigma standardization.\nExtracting batch of samples à 5000 events from DVS sequence...\nDiscarded 380 events during subsampling.\nDiscarded 197 events during 3-sigma standardization.\nExtracting batch of samples à 5000 events from DVS sequence...\nDiscarded 372 events during subsampling.\nDiscarded 189 events during 3-sigma standardization.\nExtracting batch of samples à 5000 events from DVS sequence...\nDiscarded 455 events during subsampling.\nDiscarded 250 events during 3-sigma standardization.\nExtracting batch of samples à 5000 events from DVS sequence...\nDiscarded 364 events during subsampling.\n"
     ]
    },
    {
     "name": "stdout",
     "output_type": "stream",
     "text": [
      "Discarded 206 events during 3-sigma standardization.\nExtracting batch of samples à 5000 events from DVS sequence...\nDiscarded 110 events during subsampling.\nDiscarded 267 events during 3-sigma standardization.\nExtracting batch of samples à 5000 events from DVS sequence...\nDiscarded 425 events during subsampling.\nDiscarded 208 events during 3-sigma standardization.\nExtracting batch of samples à 5000 events from DVS sequence...\nDiscarded 444 events during subsampling.\nDiscarded 276 events during 3-sigma standardization.\nExtracting batch of samples à 5000 events from DVS sequence...\nDiscarded 457 events during subsampling.\nDiscarded 239 events during 3-sigma standardization.\nExtracting batch of samples à 5000 events from DVS sequence...\nDiscarded 1325 events during subsampling."
     ]
    },
    {
     "name": "stdout",
     "output_type": "stream",
     "text": [
      "\nDiscarded 225 events during 3-sigma standardization.\nExtracting batch of samples à 5000 events from DVS sequence...\nDiscarded 522 events during subsampling.\nDiscarded 209 events during 3-sigma standardization.\nExtracting batch of samples à 5000 events from DVS sequence...\nDiscarded 508 events during subsampling.\nDiscarded 212 events during 3-sigma standardization.\nExtracting batch of samples à 5000 events from DVS sequence...\nDiscarded 427 events during subsampling.\nDiscarded 272 events during 3-sigma standardization.\nExtracting batch of samples à 5000 events from DVS sequence...\nDiscarded 397 events during subsampling.\nDiscarded 246 events during 3-sigma standardization.\nExtracting batch of samples à 5000 events from DVS sequence...\n"
     ]
    },
    {
     "name": "stdout",
     "output_type": "stream",
     "text": [
      "Discarded 345 events during subsampling.\nDiscarded 216 events during 3-sigma standardization.\nExtracting batch of samples à 5000 events from DVS sequence...\nDiscarded 1832 events during subsampling.\nDiscarded 134 events during 3-sigma standardization.\nExtracting batch of samples à 5000 events from DVS sequence...\nDiscarded 1219 events during subsampling.\nDiscarded 163 events during 3-sigma standardization.\nExtracting batch of samples à 5000 events from DVS sequence...\nDiscarded 809 events during subsampling.\nDiscarded 173 events during 3-sigma standardization.\nExtracting batch of samples à 5000 events from DVS sequence...\nDiscarded 1192 events during subsampling.\nDiscarded 175 events during 3-sigma standardization.\nExtracting batch of samples à 5000 events from DVS sequence...\nDiscarded 1324 events during subsampling."
     ]
    },
    {
     "name": "stdout",
     "output_type": "stream",
     "text": [
      "\nDiscarded 196 events during 3-sigma standardization.\nExtracting batch of samples à 5000 events from DVS sequence...\nDiscarded 976 events during subsampling.\nDiscarded 189 events during 3-sigma standardization.\nExtracting batch of samples à 5000 events from DVS sequence...\nDiscarded 397 events during subsampling.\nDiscarded 238 events during 3-sigma standardization.\nExtracting batch of samples à 5000 events from DVS sequence...\nDiscarded 388 events during subsampling.\nDiscarded 214 events during 3-sigma standardization.\nExtracting batch of samples à 5000 events from DVS sequence...\nDiscarded 1644 events during subsampling.\nDiscarded 161 events during 3-sigma standardization.\nExtracting batch of samples à 5000 events from DVS sequence...\n"
     ]
    },
    {
     "name": "stdout",
     "output_type": "stream",
     "text": [
      "Discarded 515 events during subsampling.\nDiscarded 210 events during 3-sigma standardization.\nExtracting batch of samples à 5000 events from DVS sequence...\nDiscarded 534 events during subsampling.\nDiscarded 120 events during 3-sigma standardization.\nExtracting batch of samples à 5000 events from DVS sequence...\nDiscarded 471 events during subsampling.\nDiscarded 176 events during 3-sigma standardization.\nExtracting batch of samples à 5000 events from DVS sequence...\nDiscarded 1027 events during subsampling.\nDiscarded 192 events during 3-sigma standardization.\nExtracting batch of samples à 5000 events from DVS sequence...\nDiscarded 523 events during subsampling.\nDiscarded 202 events during 3-sigma standardization.\nExtracting batch of samples à 5000 events from DVS sequence...\nDiscarded 550 events during subsampling."
     ]
    },
    {
     "name": "stdout",
     "output_type": "stream",
     "text": [
      "\nDiscarded 212 events during 3-sigma standardization.\nExtracting batch of samples à 5000 events from DVS sequence...\nDiscarded 2088 events during subsampling.\nDiscarded 178 events during 3-sigma standardization.\nExtracting batch of samples à 5000 events from DVS sequence...\nDiscarded 490 events during subsampling.\nDiscarded 229 events during 3-sigma standardization.\nExtracting batch of samples à 5000 events from DVS sequence...\nDiscarded 331 events during subsampling.\nDiscarded 246 events during 3-sigma standardization.\nExtracting batch of samples à 5000 events from DVS sequence...\nDiscarded 440 events during subsampling.\nDiscarded 211 events during 3-sigma standardization.\nExtracting batch of samples à 5000 events from DVS sequence...\nDiscarded 425 events during subsampling.\n"
     ]
    },
    {
     "name": "stdout",
     "output_type": "stream",
     "text": [
      "Discarded 178 events during 3-sigma standardization.\nExtracting batch of samples à 5000 events from DVS sequence...\nDiscarded 1354 events during subsampling.\nDiscarded 167 events during 3-sigma standardization.\nExtracting batch of samples à 5000 events from DVS sequence...\nDiscarded 361 events during subsampling.\nDiscarded 207 events during 3-sigma standardization.\nExtracting batch of samples à 5000 events from DVS sequence...\nDiscarded 386 events during subsampling.\nDiscarded 220 events during 3-sigma standardization.\nExtracting batch of samples à 5000 events from DVS sequence...\nDiscarded 412 events during subsampling.\nDiscarded 286 events during 3-sigma standardization.\nExtracting batch of samples à 5000 events from DVS sequence...\nDiscarded 342 events during subsampling.\nDiscarded 256 events during 3-sigma standardization.\n"
     ]
    },
    {
     "name": "stdout",
     "output_type": "stream",
     "text": [
      "Extracting batch of samples à 5000 events from DVS sequence...\nDiscarded 433 events during subsampling.\nDiscarded 191 events during 3-sigma standardization.\nExtracting batch of samples à 5000 events from DVS sequence...\nDiscarded 407 events during subsampling.\nDiscarded 171 events during 3-sigma standardization.\nExtracting batch of samples à 5000 events from DVS sequence...\nDiscarded 452 events during subsampling.\nDiscarded 170 events during 3-sigma standardization.\nExtracting batch of samples à 5000 events from DVS sequence...\nDiscarded 465 events during subsampling.\nDiscarded 177 events during 3-sigma standardization.\nExtracting batch of samples à 5000 events from DVS sequence...\nDiscarded 378 events during subsampling.\nDiscarded 263 events during 3-sigma standardization.\nExtracting batch of samples à 5000 events from DVS sequence...\n"
     ]
    },
    {
     "name": "stdout",
     "output_type": "stream",
     "text": [
      "Discarded 287 events during subsampling.\nDiscarded 278 events during 3-sigma standardization.\nExtracting batch of samples à 5000 events from DVS sequence...\nDiscarded 416 events during subsampling.\nDiscarded 237 events during 3-sigma standardization.\nExtracting batch of samples à 5000 events from DVS sequence...\nDiscarded 2135 events during subsampling.\nDiscarded 119 events during 3-sigma standardization.\nExtracting batch of samples à 5000 events from DVS sequence...\nDiscarded 347 events during subsampling.\nDiscarded 239 events during 3-sigma standardization.\nExtracting batch of samples à 5000 events from DVS sequence...\nDiscarded 418 events during subsampling.\nDiscarded 229 events during 3-sigma standardization.\nExtracting batch of samples à 5000 events from DVS sequence...\n"
     ]
    },
    {
     "name": "stdout",
     "output_type": "stream",
     "text": [
      "Discarded 461 events during subsampling.\nDiscarded 232 events during 3-sigma standardization.\nExtracting batch of samples à 5000 events from DVS sequence...\nDiscarded 569 events during subsampling.\nDiscarded 190 events during 3-sigma standardization.\nExtracting batch of samples à 5000 events from DVS sequence...\nDiscarded 1002 events during subsampling.\nDiscarded 213 events during 3-sigma standardization.\nExtracting batch of samples à 5000 events from DVS sequence...\nDiscarded 1092 events during subsampling.\nDiscarded 271 events during 3-sigma standardization.\nExtracting batch of samples à 5000 events from DVS sequence...\nDiscarded 10 events during subsampling.\nDiscarded 301 events during 3-sigma standardization.\nExtracting batch of samples à 5000 events from DVS sequence...\nDiscarded 369 events during subsampling.\n"
     ]
    },
    {
     "name": "stdout",
     "output_type": "stream",
     "text": [
      "Discarded 313 events during 3-sigma standardization.\nExtracting batch of samples à 5000 events from DVS sequence...\nDiscarded 601 events during subsampling.\nDiscarded 269 events during 3-sigma standardization.\nExtracting batch of samples à 5000 events from DVS sequence...\nDiscarded 417 events during subsampling.\nDiscarded 260 events during 3-sigma standardization.\nExtracting batch of samples à 5000 events from DVS sequence...\nDiscarded 204 events during subsampling.\nDiscarded 316 events during 3-sigma standardization.\nExtracting batch of samples à 5000 events from DVS sequence...\nDiscarded 1290 events during subsampling.\nDiscarded 232 events during 3-sigma standardization.\nExtracting batch of samples à 5000 events from DVS sequence...\nDiscarded 445 events during subsampling.\nDiscarded 275 events during 3-sigma standardization.\nExtracting batch of samples à 5000 events from DVS sequence..."
     ]
    },
    {
     "name": "stdout",
     "output_type": "stream",
     "text": [
      "\nDiscarded 621 events during subsampling.\nDiscarded 183 events during 3-sigma standardization.\nExtracting batch of samples à 5000 events from DVS sequence...\nDiscarded 248 events during subsampling.\nDiscarded 229 events during 3-sigma standardization.\nExtracting batch of samples à 5000 events from DVS sequence...\nDiscarded 17 events during subsampling.\nDiscarded 245 events during 3-sigma standardization.\nExtracting batch of samples à 5000 events from DVS sequence...\nDiscarded 852 events during subsampling.\nDiscarded 236 events during 3-sigma standardization.\nExtracting batch of samples à 5000 events from DVS sequence...\nDiscarded 311 events during subsampling.\nDiscarded 232 events during 3-sigma standardization.\nLoading DVS sample /home/rbodo/.snntoolbox/Datasets/predator_prey/aedat/not_balanced_4834samples/L/rec_10.aedat...\n"
     ]
    },
    {
     "name": "stdout",
     "output_type": "stream",
     "text": [
      "Total number of events of this sample: 185000.\nNumber of batches: 37.\nExtracting 37 frames from DVS event sequence.\n"
     ]
    },
    {
     "name": "stdout",
     "output_type": "stream",
     "text": [
      "Extracting batch of samples à 5000 events from DVS sequence...\nDiscarded 290 events during subsampling.\nDiscarded 399 events during 3-sigma standardization.\nExtracting batch of samples à 5000 events from DVS sequence...\nDiscarded 12 events during subsampling.\nDiscarded 378 events during 3-sigma standardization.\nExtracting batch of samples à 5000 events from DVS sequence...\nDiscarded 123 events during subsampling.\nDiscarded 324 events during 3-sigma standardization.\nExtracting batch of samples à 5000 events from DVS sequence...\nDiscarded 1318 events during subsampling.\nDiscarded 244 events during 3-sigma standardization.\nExtracting batch of samples à 5000 events from DVS sequence...\n"
     ]
    },
    {
     "name": "stdout",
     "output_type": "stream",
     "text": [
      "Discarded 561 events during subsampling.\nDiscarded 367 events during 3-sigma standardization.\nExtracting batch of samples à 5000 events from DVS sequence...\nDiscarded 242 events during subsampling.\nDiscarded 427 events during 3-sigma standardization.\nExtracting batch of samples à 5000 events from DVS sequence...\nDiscarded 1709 events during subsampling.\nDiscarded 164 events during 3-sigma standardization.\nExtracting batch of samples à 5000 events from DVS sequence...\nDiscarded 2220 events during subsampling.\nDiscarded 155 events during 3-sigma standardization.\nExtracting batch of samples à 5000 events from DVS sequence...\nDiscarded 641 events during subsampling.\nDiscarded 171 events during 3-sigma standardization.\n"
     ]
    },
    {
     "name": "stdout",
     "output_type": "stream",
     "text": [
      "Extracting batch of samples à 5000 events from DVS sequence...\nDiscarded 715 events during subsampling.\nDiscarded 221 events during 3-sigma standardization.\nExtracting batch of samples à 5000 events from DVS sequence...\nDiscarded 1558 events during subsampling.\nDiscarded 201 events during 3-sigma standardization.\nExtracting batch of samples à 5000 events from DVS sequence...\nDiscarded 1997 events during subsampling.\nDiscarded 126 events during 3-sigma standardization.\nExtracting batch of samples à 5000 events from DVS sequence...\nDiscarded 478 events during subsampling.\nDiscarded 195 events during 3-sigma standardization.\nExtracting batch of samples à 5000 events from DVS sequence...\nDiscarded 584 events during subsampling.\nDiscarded 216 events during 3-sigma standardization.\nExtracting batch of samples à 5000 events from DVS sequence...\nDiscarded 509 events during subsampling.\n"
     ]
    },
    {
     "name": "stdout",
     "output_type": "stream",
     "text": [
      "Discarded 180 events during 3-sigma standardization.\nExtracting batch of samples à 5000 events from DVS sequence...\nDiscarded 431 events during subsampling.\nDiscarded 326 events during 3-sigma standardization.\nExtracting batch of samples à 5000 events from DVS sequence...\nDiscarded 17 events during subsampling.\nDiscarded 373 events during 3-sigma standardization.\nExtracting batch of samples à 5000 events from DVS sequence...\nDiscarded 479 events during subsampling.\nDiscarded 336 events during 3-sigma standardization.\nExtracting batch of samples à 5000 events from DVS sequence...\nDiscarded 716 events during subsampling.\nDiscarded 366 events during 3-sigma standardization.\nExtracting batch of samples à 5000 events from DVS sequence...\nDiscarded 438 events during subsampling.\nDiscarded 301 events during 3-sigma standardization.\nExtracting batch of samples à 5000 events from DVS sequence...\n"
     ]
    },
    {
     "name": "stdout",
     "output_type": "stream",
     "text": [
      "Discarded 363 events during subsampling.\nDiscarded 332 events during 3-sigma standardization.\nExtracting batch of samples à 5000 events from DVS sequence...\nDiscarded 184 events during subsampling.\nDiscarded 286 events during 3-sigma standardization.\nExtracting batch of samples à 5000 events from DVS sequence...\nDiscarded 236 events during subsampling.\nDiscarded 328 events during 3-sigma standardization.\nExtracting batch of samples à 5000 events from DVS sequence...\nDiscarded 295 events during subsampling.\nDiscarded 276 events during 3-sigma standardization.\nExtracting batch of samples à 5000 events from DVS sequence...\nDiscarded 274 events during subsampling.\nDiscarded 389 events during 3-sigma standardization.\n"
     ]
    },
    {
     "name": "stdout",
     "output_type": "stream",
     "text": [
      "Extracting batch of samples à 5000 events from DVS sequence...\nDiscarded 296 events during subsampling.\nDiscarded 372 events during 3-sigma standardization.\nExtracting batch of samples à 5000 events from DVS sequence...\nDiscarded 324 events during subsampling.\nDiscarded 331 events during 3-sigma standardization.\nExtracting batch of samples à 5000 events from DVS sequence...\nDiscarded 192 events during subsampling.\nDiscarded 330 events during 3-sigma standardization.\nExtracting batch of samples à 5000 events from DVS sequence...\nDiscarded 553 events during subsampling.\nDiscarded 285 events during 3-sigma standardization.\nExtracting batch of samples à 5000 events from DVS sequence...\nDiscarded 128 events during subsampling.\nDiscarded 282 events during 3-sigma standardization.\n"
     ]
    },
    {
     "name": "stdout",
     "output_type": "stream",
     "text": [
      "Extracting batch of samples à 5000 events from DVS sequence...\nDiscarded 100 events during subsampling.\nDiscarded 268 events during 3-sigma standardization.\nExtracting batch of samples à 5000 events from DVS sequence...\nDiscarded 713 events during subsampling.\nDiscarded 251 events during 3-sigma standardization.\nExtracting batch of samples à 5000 events from DVS sequence...\nDiscarded 163 events during subsampling.\nDiscarded 338 events during 3-sigma standardization.\nExtracting batch of samples à 5000 events from DVS sequence...\nDiscarded 140 events during subsampling.\nDiscarded 254 events during 3-sigma standardization.\nExtracting batch of samples à 5000 events from DVS sequence...\nDiscarded 2 events during subsampling.\nDiscarded 312 events during 3-sigma standardization.\n"
     ]
    },
    {
     "name": "stdout",
     "output_type": "stream",
     "text": [
      "Extracting batch of samples à 5000 events from DVS sequence...\nDiscarded 4 events during subsampling.\nDiscarded 329 events during 3-sigma standardization.\nLoading DVS sample /home/rbodo/.snntoolbox/Datasets/predator_prey/aedat/not_balanced_4834samples/L/rec_11.aedat...\nTotal number of events of this sample: 80000.\nNumber of batches: 16.\nExtracting 16 frames from DVS event sequence.\n"
     ]
    },
    {
     "name": "stdout",
     "output_type": "stream",
     "text": [
      "Extracting batch of samples à 5000 events from DVS sequence...\nDiscarded 20 events during subsampling.\nDiscarded 313 events during 3-sigma standardization.\nExtracting batch of samples à 5000 events from DVS sequence...\nDiscarded 555 events during subsampling.\nDiscarded 335 events during 3-sigma standardization.\nExtracting batch of samples à 5000 events from DVS sequence...\nDiscarded 20 events during subsampling.\nDiscarded 379 events during 3-sigma standardization.\nExtracting batch of samples à 5000 events from DVS sequence...\nDiscarded 612 events during subsampling.\nDiscarded 316 events during 3-sigma standardization.\nExtracting batch of samples à 5000 events from DVS sequence...\n"
     ]
    },
    {
     "name": "stdout",
     "output_type": "stream",
     "text": [
      "Discarded 12 events during subsampling.\nDiscarded 292 events during 3-sigma standardization.\nExtracting batch of samples à 5000 events from DVS sequence...\nDiscarded 302 events during subsampling.\nDiscarded 290 events during 3-sigma standardization.\nExtracting batch of samples à 5000 events from DVS sequence...\nDiscarded 197 events during subsampling.\nDiscarded 248 events during 3-sigma standardization.\nExtracting batch of samples à 5000 events from DVS sequence...\nDiscarded 160 events during subsampling.\nDiscarded 269 events during 3-sigma standardization.\nExtracting batch of samples à 5000 events from DVS sequence...\nDiscarded 419 events during subsampling.\nDiscarded 270 events during 3-sigma standardization.\nExtracting batch of samples à 5000 events from DVS sequence...\n"
     ]
    },
    {
     "name": "stdout",
     "output_type": "stream",
     "text": [
      "Discarded 667 events during subsampling.\nDiscarded 266 events during 3-sigma standardization.\nExtracting batch of samples à 5000 events from DVS sequence...\nDiscarded 167 events during subsampling.\nDiscarded 310 events during 3-sigma standardization.\nExtracting batch of samples à 5000 events from DVS sequence...\nDiscarded 525 events during subsampling.\nDiscarded 280 events during 3-sigma standardization.\nExtracting batch of samples à 5000 events from DVS sequence...\nDiscarded 193 events during subsampling.\nDiscarded 323 events during 3-sigma standardization.\nExtracting batch of samples à 5000 events from DVS sequence...\nDiscarded 900 events during subsampling.\nDiscarded 268 events during 3-sigma standardization.\nExtracting batch of samples à 5000 events from DVS sequence..."
     ]
    },
    {
     "name": "stdout",
     "output_type": "stream",
     "text": [
      "\nDiscarded 37 events during subsampling.\nDiscarded 321 events during 3-sigma standardization.\nLoading DVS sample /home/rbodo/.snntoolbox/Datasets/predator_prey/aedat/not_balanced_4834samples/L/rec_12.aedat...\nTotal number of events of this sample: 20000.\nNumber of batches: 4.\nExtracting 4 frames from DVS event sequence.\nExtracting batch of samples à 5000 events from DVS sequence...\nDiscarded 164 events during subsampling.\n"
     ]
    },
    {
     "name": "stdout",
     "output_type": "stream",
     "text": [
      "Discarded 330 events during 3-sigma standardization.\nExtracting batch of samples à 5000 events from DVS sequence...\nDiscarded 387 events during subsampling.\nDiscarded 249 events during 3-sigma standardization.\nExtracting batch of samples à 5000 events from DVS sequence...\nDiscarded 21 events during subsampling.\nDiscarded 322 events during 3-sigma standardization.\nLoading DVS sample /home/rbodo/.snntoolbox/Datasets/predator_prey/aedat/not_balanced_4834samples/L/rec_13.aedat...\nTotal number of events of this sample: 150000.\nNumber of batches: 30.\nExtracting 30 frames from DVS event sequence.\n"
     ]
    },
    {
     "name": "stdout",
     "output_type": "stream",
     "text": [
      "Extracting batch of samples à 5000 events from DVS sequence...\nDiscarded 447 events during subsampling.\nDiscarded 245 events during 3-sigma standardization.\nExtracting batch of samples à 5000 events from DVS sequence...\nDiscarded 1698 events during subsampling.\nDiscarded 208 events during 3-sigma standardization.\nExtracting batch of samples à 5000 events from DVS sequence...\nDiscarded 246 events during subsampling.\nDiscarded 241 events during 3-sigma standardization.\nExtracting batch of samples à 5000 events from DVS sequence...\nDiscarded 588 events during subsampling.\nDiscarded 194 events during 3-sigma standardization.\nExtracting batch of samples à 5000 events from DVS sequence...\nDiscarded 172 events during subsampling.\n"
     ]
    },
    {
     "name": "stdout",
     "output_type": "stream",
     "text": [
      "Discarded 281 events during 3-sigma standardization.\nExtracting batch of samples à 5000 events from DVS sequence...\nDiscarded 112 events during subsampling.\nDiscarded 258 events during 3-sigma standardization.\nExtracting batch of samples à 5000 events from DVS sequence...\nDiscarded 23 events during subsampling.\nDiscarded 316 events during 3-sigma standardization.\nExtracting batch of samples à 5000 events from DVS sequence...\nDiscarded 155 events during subsampling.\nDiscarded 237 events during 3-sigma standardization.\nExtracting batch of samples à 5000 events from DVS sequence...\nDiscarded 239 events during subsampling.\nDiscarded 248 events during 3-sigma standardization.\nExtracting batch of samples à 5000 events from DVS sequence...\nDiscarded 198 events during subsampling.\n"
     ]
    },
    {
     "name": "stdout",
     "output_type": "stream",
     "text": [
      "Discarded 256 events during 3-sigma standardization.\nExtracting batch of samples à 5000 events from DVS sequence...\nDiscarded 148 events during subsampling.\nDiscarded 286 events during 3-sigma standardization.\nExtracting batch of samples à 5000 events from DVS sequence...\nDiscarded 1431 events during subsampling.\nDiscarded 208 events during 3-sigma standardization.\nExtracting batch of samples à 5000 events from DVS sequence...\nDiscarded 653 events during subsampling.\nDiscarded 210 events during 3-sigma standardization.\nExtracting batch of samples à 5000 events from DVS sequence...\nDiscarded 517 events during subsampling.\nDiscarded 313 events during 3-sigma standardization.\nExtracting batch of samples à 5000 events from DVS sequence...\nDiscarded 221 events during subsampling.\nDiscarded 292 events during 3-sigma standardization.\nExtracting batch of samples à 5000 events from DVS sequence..."
     ]
    },
    {
     "name": "stdout",
     "output_type": "stream",
     "text": [
      "\nDiscarded 334 events during subsampling.\nDiscarded 291 events during 3-sigma standardization.\nExtracting batch of samples à 5000 events from DVS sequence...\nDiscarded 380 events during subsampling.\nDiscarded 296 events during 3-sigma standardization.\nExtracting batch of samples à 5000 events from DVS sequence...\nDiscarded 302 events during subsampling.\nDiscarded 346 events during 3-sigma standardization.\nExtracting batch of samples à 5000 events from DVS sequence...\nDiscarded 214 events during subsampling.\nDiscarded 396 events during 3-sigma standardization.\nExtracting batch of samples à 5000 events from DVS sequence...\nDiscarded 258 events during subsampling.\nDiscarded 375 events during 3-sigma standardization."
     ]
    },
    {
     "name": "stdout",
     "output_type": "stream",
     "text": [
      "\nExtracting batch of samples à 5000 events from DVS sequence...\nDiscarded 275 events during subsampling.\nDiscarded 417 events during 3-sigma standardization.\nExtracting batch of samples à 5000 events from DVS sequence...\nDiscarded 359 events during subsampling.\nDiscarded 414 events during 3-sigma standardization.\nExtracting batch of samples à 5000 events from DVS sequence...\nDiscarded 290 events during subsampling.\nDiscarded 472 events during 3-sigma standardization.\nExtracting batch of samples à 5000 events from DVS sequence...\nDiscarded 304 events during subsampling.\nDiscarded 477 events during 3-sigma standardization.\nExtracting batch of samples à 5000 events from DVS sequence...\nDiscarded 231 events during subsampling.\nDiscarded 377 events during 3-sigma standardization."
     ]
    },
    {
     "name": "stdout",
     "output_type": "stream",
     "text": [
      "\nExtracting batch of samples à 5000 events from DVS sequence...\nDiscarded 688 events during subsampling.\nDiscarded 284 events during 3-sigma standardization.\nExtracting batch of samples à 5000 events from DVS sequence...\nDiscarded 539 events during subsampling.\nDiscarded 319 events during 3-sigma standardization.\nExtracting batch of samples à 5000 events from DVS sequence...\nDiscarded 532 events during subsampling.\nDiscarded 313 events during 3-sigma standardization.\nExtracting batch of samples à 5000 events from DVS sequence...\nDiscarded 106 events during subsampling.\nDiscarded 279 events during 3-sigma standardization.\nLoading DVS sample /home/rbodo/.snntoolbox/Datasets/predator_prey/aedat/not_balanced_4834samples/L/rec_14.aedat...\n"
     ]
    },
    {
     "name": "stdout",
     "output_type": "stream",
     "text": [
      "Total number of events of this sample: 190000.\nNumber of batches: 38.\nExtracting 38 frames from DVS event sequence.\n"
     ]
    },
    {
     "name": "stdout",
     "output_type": "stream",
     "text": [
      "Extracting batch of samples à 5000 events from DVS sequence...\nDiscarded 237 events during subsampling.\nDiscarded 357 events during 3-sigma standardization.\nExtracting batch of samples à 5000 events from DVS sequence...\nDiscarded 627 events during subsampling.\nDiscarded 263 events during 3-sigma standardization.\nExtracting batch of samples à 5000 events from DVS sequence...\nDiscarded 20 events during subsampling.\nDiscarded 384 events during 3-sigma standardization.\nExtracting batch of samples à 5000 events from DVS sequence...\nDiscarded 410 events during subsampling.\nDiscarded 303 events during 3-sigma standardization.\nExtracting batch of samples à 5000 events from DVS sequence...\n"
     ]
    },
    {
     "name": "stdout",
     "output_type": "stream",
     "text": [
      "Discarded 63 events during subsampling.\nDiscarded 323 events during 3-sigma standardization.\nExtracting batch of samples à 5000 events from DVS sequence...\nDiscarded 454 events during subsampling.\nDiscarded 259 events during 3-sigma standardization.\nExtracting batch of samples à 5000 events from DVS sequence...\nDiscarded 428 events during subsampling.\nDiscarded 231 events during 3-sigma standardization.\nExtracting batch of samples à 5000 events from DVS sequence...\nDiscarded 201 events during subsampling.\nDiscarded 261 events during 3-sigma standardization.\nExtracting batch of samples à 5000 events from DVS sequence...\nDiscarded 235 events during subsampling.\nDiscarded 258 events during 3-sigma standardization.\nExtracting batch of samples à 5000 events from DVS sequence...\n"
     ]
    },
    {
     "name": "stdout",
     "output_type": "stream",
     "text": [
      "Discarded 915 events during subsampling.\nDiscarded 251 events during 3-sigma standardization.\nExtracting batch of samples à 5000 events from DVS sequence...\nDiscarded 627 events during subsampling.\nDiscarded 240 events during 3-sigma standardization.\nExtracting batch of samples à 5000 events from DVS sequence...\nDiscarded 395 events during subsampling.\nDiscarded 354 events during 3-sigma standardization.\nExtracting batch of samples à 5000 events from DVS sequence...\nDiscarded 348 events during subsampling.\nDiscarded 425 events during 3-sigma standardization.\nExtracting batch of samples à 5000 events from DVS sequence...\nDiscarded 343 events during subsampling.\nDiscarded 505 events during 3-sigma standardization.\nExtracting batch of samples à 5000 events from DVS sequence...\nDiscarded 271 events during subsampling.\nDiscarded 451 events during 3-sigma standardization."
     ]
    },
    {
     "name": "stdout",
     "output_type": "stream",
     "text": [
      "\nExtracting batch of samples à 5000 events from DVS sequence...\nDiscarded 375 events during subsampling.\nDiscarded 440 events during 3-sigma standardization.\nExtracting batch of samples à 5000 events from DVS sequence...\nDiscarded 1564 events during subsampling.\nDiscarded 193 events during 3-sigma standardization.\nExtracting batch of samples à 5000 events from DVS sequence...\nDiscarded 515 events during subsampling.\nDiscarded 239 events during 3-sigma standardization.\nExtracting batch of samples à 5000 events from DVS sequence...\nDiscarded 533 events during subsampling.\nDiscarded 233 events during 3-sigma standardization.\nExtracting batch of samples à 5000 events from DVS sequence...\nDiscarded 1975 events during subsampling.\nDiscarded 139 events during 3-sigma standardization.\nExtracting batch of samples à 5000 events from DVS sequence...\n"
     ]
    },
    {
     "name": "stdout",
     "output_type": "stream",
     "text": [
      "Discarded 2538 events during subsampling.\nDiscarded 211 events during 3-sigma standardization.\nExtracting batch of samples à 5000 events from DVS sequence...\nDiscarded 539 events during subsampling.\nDiscarded 204 events during 3-sigma standardization.\nExtracting batch of samples à 5000 events from DVS sequence...\nDiscarded 589 events during subsampling.\nDiscarded 242 events during 3-sigma standardization.\nExtracting batch of samples à 5000 events from DVS sequence...\nDiscarded 457 events during subsampling.\nDiscarded 235 events during 3-sigma standardization.\nExtracting batch of samples à 5000 events from DVS sequence...\nDiscarded 450 events during subsampling.\nDiscarded 220 events during 3-sigma standardization.\nExtracting batch of samples à 5000 events from DVS sequence...\nDiscarded 464 events during subsampling.\nDiscarded 200 events during 3-sigma standardization.\nExtracting batch of samples à 5000 events from DVS sequence..."
     ]
    },
    {
     "name": "stdout",
     "output_type": "stream",
     "text": [
      "\nDiscarded 505 events during subsampling.\nDiscarded 236 events during 3-sigma standardization.\nExtracting batch of samples à 5000 events from DVS sequence...\nDiscarded 558 events during subsampling.\nDiscarded 211 events during 3-sigma standardization.\nExtracting batch of samples à 5000 events from DVS sequence...\nDiscarded 455 events during subsampling.\nDiscarded 304 events during 3-sigma standardization.\nExtracting batch of samples à 5000 events from DVS sequence...\nDiscarded 508 events during subsampling.\nDiscarded 253 events during 3-sigma standardization.\nExtracting batch of samples à 5000 events from DVS sequence...\nDiscarded 565 events during subsampling.\nDiscarded 260 events during 3-sigma standardization.\nExtracting batch of samples à 5000 events from DVS sequence..."
     ]
    },
    {
     "name": "stdout",
     "output_type": "stream",
     "text": [
      "\nDiscarded 10 events during subsampling.\nDiscarded 326 events during 3-sigma standardization.\nExtracting batch of samples à 5000 events from DVS sequence...\nDiscarded 1420 events during subsampling.\nDiscarded 246 events during 3-sigma standardization.\nExtracting batch of samples à 5000 events from DVS sequence...\nDiscarded 9 events during subsampling.\nDiscarded 375 events during 3-sigma standardization.\nExtracting batch of samples à 5000 events from DVS sequence...\nDiscarded 16 events during subsampling.\nDiscarded 337 events during 3-sigma standardization.\nExtracting batch of samples à 5000 events from DVS sequence...\nDiscarded 5 events during subsampling.\nDiscarded 319 events during 3-sigma standardization.\nExtracting batch of samples à 5000 events from DVS sequence...\n"
     ]
    },
    {
     "name": "stdout",
     "output_type": "stream",
     "text": [
      "Discarded 673 events during subsampling.\nDiscarded 296 events during 3-sigma standardization.\nLoading DVS sample /home/rbodo/.snntoolbox/Datasets/predator_prey/aedat/not_balanced_4834samples/L/rec_15.aedat...\nTotal number of events of this sample: 105000.\nNumber of batches: 21.\nExtracting 21 frames from DVS event sequence.\n"
     ]
    },
    {
     "name": "stdout",
     "output_type": "stream",
     "text": [
      "Extracting batch of samples à 5000 events from DVS sequence...\nDiscarded 451 events during subsampling.\nDiscarded 321 events during 3-sigma standardization.\nExtracting batch of samples à 5000 events from DVS sequence...\nDiscarded 641 events during subsampling.\nDiscarded 175 events during 3-sigma standardization.\nExtracting batch of samples à 5000 events from DVS sequence...\nDiscarded 1453 events during subsampling.\nDiscarded 203 events during 3-sigma standardization.\nExtracting batch of samples à 5000 events from DVS sequence...\nDiscarded 1110 events during subsampling.\nDiscarded 248 events during 3-sigma standardization.\nExtracting batch of samples à 5000 events from DVS sequence...\nDiscarded 22 events during subsampling.\nDiscarded 200 events during 3-sigma standardization.\n"
     ]
    },
    {
     "name": "stdout",
     "output_type": "stream",
     "text": [
      "Extracting batch of samples à 5000 events from DVS sequence...\nDiscarded 1437 events during subsampling.\nDiscarded 220 events during 3-sigma standardization.\nExtracting batch of samples à 5000 events from DVS sequence...\nDiscarded 434 events during subsampling.\nDiscarded 229 events during 3-sigma standardization.\nExtracting batch of samples à 5000 events from DVS sequence...\nDiscarded 452 events during subsampling.\nDiscarded 278 events during 3-sigma standardization.\nExtracting batch of samples à 5000 events from DVS sequence...\nDiscarded 522 events during subsampling.\nDiscarded 204 events during 3-sigma standardization.\nExtracting batch of samples à 5000 events from DVS sequence...\nDiscarded 784 events during subsampling.\nDiscarded 252 events during 3-sigma standardization.\nExtracting batch of samples à 5000 events from DVS sequence...\n"
     ]
    },
    {
     "name": "stdout",
     "output_type": "stream",
     "text": [
      "Discarded 547 events during subsampling.\nDiscarded 236 events during 3-sigma standardization.\nExtracting batch of samples à 5000 events from DVS sequence...\nDiscarded 534 events during subsampling.\nDiscarded 187 events during 3-sigma standardization.\nExtracting batch of samples à 5000 events from DVS sequence...\nDiscarded 1366 events during subsampling.\nDiscarded 236 events during 3-sigma standardization.\nExtracting batch of samples à 5000 events from DVS sequence...\nDiscarded 817 events during subsampling.\nDiscarded 298 events during 3-sigma standardization.\nExtracting batch of samples à 5000 events from DVS sequence...\nDiscarded 429 events during subsampling.\nDiscarded 208 events during 3-sigma standardization.\nExtracting batch of samples à 5000 events from DVS sequence...\n"
     ]
    },
    {
     "name": "stdout",
     "output_type": "stream",
     "text": [
      "Discarded 478 events during subsampling.\nDiscarded 221 events during 3-sigma standardization.\nExtracting batch of samples à 5000 events from DVS sequence...\nDiscarded 523 events during subsampling.\nDiscarded 167 events during 3-sigma standardization.\nExtracting batch of samples à 5000 events from DVS sequence...\nDiscarded 1851 events during subsampling.\nDiscarded 168 events during 3-sigma standardization.\nExtracting batch of samples à 5000 events from DVS sequence...\nDiscarded 1369 events during subsampling.\nDiscarded 152 events during 3-sigma standardization.\nExtracting batch of samples à 5000 events from DVS sequence...\nDiscarded 534 events during subsampling.\nDiscarded 206 events during 3-sigma standardization.\nLoading DVS sample /home/rbodo/.snntoolbox/Datasets/predator_prey/aedat/not_balanced_4834samples/L/rec_16.aedat...\n"
     ]
    },
    {
     "name": "stdout",
     "output_type": "stream",
     "text": [
      "Total number of events of this sample: 320000.\nNumber of batches: 64.\nExtracting 64 frames from DVS event sequence.\n"
     ]
    },
    {
     "name": "stdout",
     "output_type": "stream",
     "text": [
      "Extracting batch of samples à 5000 events from DVS sequence...\nDiscarded 434 events during subsampling.\nDiscarded 240 events during 3-sigma standardization.\nExtracting batch of samples à 5000 events from DVS sequence...\nDiscarded 399 events during subsampling.\nDiscarded 263 events during 3-sigma standardization.\nExtracting batch of samples à 5000 events from DVS sequence...\nDiscarded 571 events during subsampling.\nDiscarded 229 events during 3-sigma standardization.\nExtracting batch of samples à 5000 events from DVS sequence...\nDiscarded 747 events during subsampling.\nDiscarded 215 events during 3-sigma standardization.\nExtracting batch of samples à 5000 events from DVS sequence...\nDiscarded 1225 events during subsampling.\n"
     ]
    },
    {
     "name": "stdout",
     "output_type": "stream",
     "text": [
      "Discarded 286 events during 3-sigma standardization.\nExtracting batch of samples à 5000 events from DVS sequence...\nDiscarded 386 events during subsampling.\nDiscarded 554 events during 3-sigma standardization.\nExtracting batch of samples à 5000 events from DVS sequence...\nDiscarded 495 events during subsampling.\nDiscarded 472 events during 3-sigma standardization.\nExtracting batch of samples à 5000 events from DVS sequence...\nDiscarded 546 events during subsampling.\nDiscarded 492 events during 3-sigma standardization.\nExtracting batch of samples à 5000 events from DVS sequence...\nDiscarded 489 events during subsampling.\nDiscarded 583 events during 3-sigma standardization.\nExtracting batch of samples à 5000 events from DVS sequence...\nDiscarded 681 events during subsampling.\n"
     ]
    },
    {
     "name": "stdout",
     "output_type": "stream",
     "text": [
      "Discarded 263 events during 3-sigma standardization.\nExtracting batch of samples à 5000 events from DVS sequence...\nDiscarded 750 events during subsampling.\nDiscarded 345 events during 3-sigma standardization.\nExtracting batch of samples à 5000 events from DVS sequence...\nDiscarded 771 events during subsampling.\nDiscarded 230 events during 3-sigma standardization.\nExtracting batch of samples à 5000 events from DVS sequence...\nDiscarded 696 events during subsampling.\nDiscarded 310 events during 3-sigma standardization.\nExtracting batch of samples à 5000 events from DVS sequence...\nDiscarded 953 events during subsampling.\nDiscarded 348 events during 3-sigma standardization.\nExtracting batch of samples à 5000 events from DVS sequence...\nDiscarded 497 events during subsampling.\nDiscarded 398 events during 3-sigma standardization.\n"
     ]
    },
    {
     "name": "stdout",
     "output_type": "stream",
     "text": [
      "Extracting batch of samples à 5000 events from DVS sequence...\nDiscarded 982 events during subsampling.\nDiscarded 293 events during 3-sigma standardization.\nExtracting batch of samples à 5000 events from DVS sequence...\nDiscarded 157 events during subsampling.\nDiscarded 334 events during 3-sigma standardization.\nExtracting batch of samples à 5000 events from DVS sequence...\nDiscarded 774 events during subsampling.\nDiscarded 318 events during 3-sigma standardization.\nExtracting batch of samples à 5000 events from DVS sequence...\nDiscarded 333 events during subsampling.\nDiscarded 375 events during 3-sigma standardization.\nExtracting batch of samples à 5000 events from DVS sequence...\nDiscarded 409 events during subsampling.\nDiscarded 403 events during 3-sigma standardization.\n"
     ]
    },
    {
     "name": "stdout",
     "output_type": "stream",
     "text": [
      "Extracting batch of samples à 5000 events from DVS sequence...\nDiscarded 226 events during subsampling.\nDiscarded 453 events during 3-sigma standardization.\nExtracting batch of samples à 5000 events from DVS sequence...\nDiscarded 450 events during subsampling.\nDiscarded 460 events during 3-sigma standardization.\nExtracting batch of samples à 5000 events from DVS sequence...\nDiscarded 366 events during subsampling.\nDiscarded 387 events during 3-sigma standardization.\nExtracting batch of samples à 5000 events from DVS sequence...\nDiscarded 167 events during subsampling.\nDiscarded 290 events during 3-sigma standardization.\nExtracting batch of samples à 5000 events from DVS sequence...\nDiscarded 1423 events during subsampling.\nDiscarded 222 events during 3-sigma standardization.\nExtracting batch of samples à 5000 events from DVS sequence...\n"
     ]
    },
    {
     "name": "stdout",
     "output_type": "stream",
     "text": [
      "Discarded 660 events during subsampling.\nDiscarded 276 events during 3-sigma standardization.\nExtracting batch of samples à 5000 events from DVS sequence...\nDiscarded 617 events during subsampling.\nDiscarded 330 events during 3-sigma standardization.\nExtracting batch of samples à 5000 events from DVS sequence...\nDiscarded 612 events during subsampling.\nDiscarded 341 events during 3-sigma standardization.\nExtracting batch of samples à 5000 events from DVS sequence...\nDiscarded 443 events during subsampling.\nDiscarded 320 events during 3-sigma standardization.\nExtracting batch of samples à 5000 events from DVS sequence...\nDiscarded 373 events during subsampling.\nDiscarded 266 events during 3-sigma standardization.\nExtracting batch of samples à 5000 events from DVS sequence...\nDiscarded 674 events during subsampling.\nDiscarded 274 events during 3-sigma standardization.\nExtracting batch of samples à 5000 events from DVS sequence...\n"
     ]
    },
    {
     "name": "stdout",
     "output_type": "stream",
     "text": [
      "Discarded 176 events during subsampling.\nDiscarded 315 events during 3-sigma standardization.\nExtracting batch of samples à 5000 events from DVS sequence...\nDiscarded 971 events during subsampling.\nDiscarded 271 events during 3-sigma standardization.\nExtracting batch of samples à 5000 events from DVS sequence...\nDiscarded 1196 events during subsampling.\nDiscarded 271 events during 3-sigma standardization.\nExtracting batch of samples à 5000 events from DVS sequence...\nDiscarded 188 events during subsampling.\nDiscarded 266 events during 3-sigma standardization.\nExtracting batch of samples à 5000 events from DVS sequence...\nDiscarded 822 events during subsampling.\nDiscarded 216 events during 3-sigma standardization.\nExtracting batch of samples à 5000 events from DVS sequence...\n"
     ]
    },
    {
     "name": "stdout",
     "output_type": "stream",
     "text": [
      "Discarded 613 events during subsampling.\nDiscarded 280 events during 3-sigma standardization.\nExtracting batch of samples à 5000 events from DVS sequence...\nDiscarded 434 events during subsampling.\nDiscarded 394 events during 3-sigma standardization.\nExtracting batch of samples à 5000 events from DVS sequence...\nDiscarded 934 events during subsampling.\nDiscarded 277 events during 3-sigma standardization.\nExtracting batch of samples à 5000 events from DVS sequence...\nDiscarded 1205 events during subsampling.\nDiscarded 224 events during 3-sigma standardization.\nExtracting batch of samples à 5000 events from DVS sequence...\nDiscarded 578 events during subsampling.\nDiscarded 340 events during 3-sigma standardization.\nExtracting batch of samples à 5000 events from DVS sequence...\nDiscarded 150 events during subsampling.\nDiscarded 355 events during 3-sigma standardization.\nExtracting batch of samples à 5000 events from DVS sequence...\n"
     ]
    },
    {
     "name": "stdout",
     "output_type": "stream",
     "text": [
      "Discarded 709 events during subsampling.\nDiscarded 233 events during 3-sigma standardization.\nExtracting batch of samples à 5000 events from DVS sequence...\nDiscarded 794 events during subsampling.\nDiscarded 210 events during 3-sigma standardization.\nExtracting batch of samples à 5000 events from DVS sequence...\nDiscarded 153 events during subsampling.\nDiscarded 340 events during 3-sigma standardization.\nExtracting batch of samples à 5000 events from DVS sequence...\nDiscarded 112 events during subsampling.\nDiscarded 312 events during 3-sigma standardization.\nExtracting batch of samples à 5000 events from DVS sequence...\nDiscarded 3 events during subsampling.\nDiscarded 256 events during 3-sigma standardization.\nExtracting batch of samples à 5000 events from DVS sequence...\n"
     ]
    },
    {
     "name": "stdout",
     "output_type": "stream",
     "text": [
      "Discarded 211 events during subsampling.\nDiscarded 520 events during 3-sigma standardization.\nExtracting batch of samples à 5000 events from DVS sequence...\nDiscarded 510 events during subsampling.\nDiscarded 283 events during 3-sigma standardization.\nExtracting batch of samples à 5000 events from DVS sequence...\nDiscarded 1045 events during subsampling.\nDiscarded 266 events during 3-sigma standardization.\nExtracting batch of samples à 5000 events from DVS sequence...\nDiscarded 503 events during subsampling.\nDiscarded 225 events during 3-sigma standardization.\nExtracting batch of samples à 5000 events from DVS sequence...\nDiscarded 598 events during subsampling.\nDiscarded 269 events during 3-sigma standardization.\nExtracting batch of samples à 5000 events from DVS sequence...\n"
     ]
    },
    {
     "name": "stdout",
     "output_type": "stream",
     "text": [
      "Discarded 793 events during subsampling.\nDiscarded 237 events during 3-sigma standardization.\nExtracting batch of samples à 5000 events from DVS sequence...\nDiscarded 656 events during subsampling.\nDiscarded 296 events during 3-sigma standardization.\nExtracting batch of samples à 5000 events from DVS sequence...\nDiscarded 427 events during subsampling.\nDiscarded 263 events during 3-sigma standardization.\nExtracting batch of samples à 5000 events from DVS sequence...\nDiscarded 710 events during subsampling.\nDiscarded 231 events during 3-sigma standardization.\nExtracting batch of samples à 5000 events from DVS sequence...\nDiscarded 530 events during subsampling.\nDiscarded 209 events during 3-sigma standardization.\nExtracting batch of samples à 5000 events from DVS sequence...\nDiscarded 1056 events during subsampling.\nDiscarded 253 events during 3-sigma standardization.\nExtracting batch of samples à 5000 events from DVS sequence..."
     ]
    },
    {
     "name": "stdout",
     "output_type": "stream",
     "text": [
      "\nDiscarded 744 events during subsampling.\nDiscarded 283 events during 3-sigma standardization.\nExtracting batch of samples à 5000 events from DVS sequence...\nDiscarded 481 events during subsampling.\nDiscarded 317 events during 3-sigma standardization.\nExtracting batch of samples à 5000 events from DVS sequence...\nDiscarded 1097 events during subsampling.\nDiscarded 220 events during 3-sigma standardization.\nExtracting batch of samples à 5000 events from DVS sequence...\nDiscarded 805 events during subsampling.\nDiscarded 224 events during 3-sigma standardization.\nExtracting batch of samples à 5000 events from DVS sequence...\nDiscarded 687 events during subsampling.\nDiscarded 179 events during 3-sigma standardization.\nLoading DVS sample /home/rbodo/.snntoolbox/Datasets/predator_prey/aedat/not_balanced_4834samples/L/rec_18.aedat...\nTotal number of events of this sample: 85000.\nNumber of batches: 17."
     ]
    },
    {
     "name": "stdout",
     "output_type": "stream",
     "text": [
      "\nExtracting 17 frames from DVS event sequence.\n"
     ]
    },
    {
     "name": "stdout",
     "output_type": "stream",
     "text": [
      "Extracting batch of samples à 5000 events from DVS sequence...\nDiscarded 839 events during subsampling.\nDiscarded 272 events during 3-sigma standardization.\nExtracting batch of samples à 5000 events from DVS sequence...\nDiscarded 1472 events during subsampling.\nDiscarded 192 events during 3-sigma standardization.\nExtracting batch of samples à 5000 events from DVS sequence...\nDiscarded 556 events during subsampling.\nDiscarded 171 events during 3-sigma standardization.\nExtracting batch of samples à 5000 events from DVS sequence...\nDiscarded 587 events during subsampling.\nDiscarded 199 events during 3-sigma standardization.\nExtracting batch of samples à 5000 events from DVS sequence...\nDiscarded 864 events during subsampling.\nDiscarded 257 events during 3-sigma standardization.\n"
     ]
    },
    {
     "name": "stdout",
     "output_type": "stream",
     "text": [
      "Extracting batch of samples à 5000 events from DVS sequence...\nDiscarded 1229 events during subsampling.\nDiscarded 150 events during 3-sigma standardization.\nExtracting batch of samples à 5000 events from DVS sequence...\nDiscarded 2263 events during subsampling.\nDiscarded 104 events during 3-sigma standardization.\nExtracting batch of samples à 5000 events from DVS sequence...\nDiscarded 504 events during subsampling.\nDiscarded 234 events during 3-sigma standardization.\nExtracting batch of samples à 5000 events from DVS sequence...\nDiscarded 628 events during subsampling.\nDiscarded 150 events during 3-sigma standardization.\nExtracting batch of samples à 5000 events from DVS sequence...\nDiscarded 545 events during subsampling.\nDiscarded 169 events during 3-sigma standardization.\nExtracting batch of samples à 5000 events from DVS sequence...\nDiscarded 528 events during subsampling.\nDiscarded 209 events during 3-sigma standardization.\nExtracting batch of samples à 5000 events from DVS sequence...\n"
     ]
    },
    {
     "name": "stdout",
     "output_type": "stream",
     "text": [
      "Discarded 506 events during subsampling.\nDiscarded 210 events during 3-sigma standardization.\nExtracting batch of samples à 5000 events from DVS sequence...\nDiscarded 581 events during subsampling.\nDiscarded 195 events during 3-sigma standardization.\nExtracting batch of samples à 5000 events from DVS sequence...\nDiscarded 510 events during subsampling.\nDiscarded 208 events during 3-sigma standardization.\nExtracting batch of samples à 5000 events from DVS sequence...\nDiscarded 604 events during subsampling.\nDiscarded 189 events during 3-sigma standardization.\nExtracting batch of samples à 5000 events from DVS sequence...\nDiscarded 471 events during subsampling.\nDiscarded 227 events during 3-sigma standardization.\nLoading DVS sample /home/rbodo/.snntoolbox/Datasets/predator_prey/aedat/not_balanced_4834samples/L/rec_2.aedat...\n"
     ]
    },
    {
     "name": "stdout",
     "output_type": "stream",
     "text": [
      "Total number of events of this sample: 290000.\nNumber of batches: 58.\nExtracting 58 frames from DVS event sequence.\n"
     ]
    },
    {
     "name": "stdout",
     "output_type": "stream",
     "text": [
      "Extracting batch of samples à 5000 events from DVS sequence...\nDiscarded 16 events during subsampling.\nDiscarded 228 events during 3-sigma standardization.\nExtracting batch of samples à 5000 events from DVS sequence...\nDiscarded 132 events during subsampling.\nDiscarded 305 events during 3-sigma standardization.\nExtracting batch of samples à 5000 events from DVS sequence...\nDiscarded 705 events during subsampling.\nDiscarded 364 events during 3-sigma standardization.\nExtracting batch of samples à 5000 events from DVS sequence...\nDiscarded 438 events during subsampling.\nDiscarded 205 events during 3-sigma standardization.\nExtracting batch of samples à 5000 events from DVS sequence...\nDiscarded 1302 events during subsampling."
     ]
    },
    {
     "name": "stdout",
     "output_type": "stream",
     "text": [
      "\nDiscarded 174 events during 3-sigma standardization.\nExtracting batch of samples à 5000 events from DVS sequence...\nDiscarded 368 events during subsampling.\nDiscarded 191 events during 3-sigma standardization.\nExtracting batch of samples à 5000 events from DVS sequence...\nDiscarded 356 events during subsampling.\nDiscarded 234 events during 3-sigma standardization.\nExtracting batch of samples à 5000 events from DVS sequence...\nDiscarded 550 events during subsampling.\nDiscarded 253 events during 3-sigma standardization.\nExtracting batch of samples à 5000 events from DVS sequence...\nDiscarded 594 events during subsampling.\nDiscarded 218 events during 3-sigma standardization.\nExtracting batch of samples à 5000 events from DVS sequence...\nDiscarded 405 events during subsampling.\nDiscarded 218 events during 3-sigma standardization.\nExtracting batch of samples à 5000 events from DVS sequence..."
     ]
    },
    {
     "name": "stdout",
     "output_type": "stream",
     "text": [
      "\nDiscarded 406 events during subsampling.\nDiscarded 202 events during 3-sigma standardization.\nExtracting batch of samples à 5000 events from DVS sequence...\nDiscarded 484 events during subsampling.\nDiscarded 218 events during 3-sigma standardization.\nExtracting batch of samples à 5000 events from DVS sequence...\nDiscarded 470 events during subsampling.\nDiscarded 191 events during 3-sigma standardization.\nExtracting batch of samples à 5000 events from DVS sequence...\nDiscarded 464 events during subsampling.\nDiscarded 241 events during 3-sigma standardization.\nExtracting batch of samples à 5000 events from DVS sequence...\nDiscarded 1086 events during subsampling.\nDiscarded 195 events during 3-sigma standardization.\nExtracting batch of samples à 5000 events from DVS sequence...\n"
     ]
    },
    {
     "name": "stdout",
     "output_type": "stream",
     "text": [
      "Discarded 1142 events during subsampling.\nDiscarded 226 events during 3-sigma standardization.\nExtracting batch of samples à 5000 events from DVS sequence...\nDiscarded 566 events during subsampling.\nDiscarded 191 events during 3-sigma standardization.\nExtracting batch of samples à 5000 events from DVS sequence...\nDiscarded 542 events during subsampling.\nDiscarded 223 events during 3-sigma standardization.\nExtracting batch of samples à 5000 events from DVS sequence...\nDiscarded 480 events during subsampling.\nDiscarded 205 events during 3-sigma standardization.\nExtracting batch of samples à 5000 events from DVS sequence...\nDiscarded 418 events during subsampling.\nDiscarded 196 events during 3-sigma standardization.\nExtracting batch of samples à 5000 events from DVS sequence...\nDiscarded 416 events during subsampling.\n"
     ]
    },
    {
     "name": "stdout",
     "output_type": "stream",
     "text": [
      "Discarded 175 events during 3-sigma standardization.\nExtracting batch of samples à 5000 events from DVS sequence...\nDiscarded 447 events during subsampling.\nDiscarded 216 events during 3-sigma standardization.\nExtracting batch of samples à 5000 events from DVS sequence...\nDiscarded 1061 events during subsampling.\nDiscarded 229 events during 3-sigma standardization.\nExtracting batch of samples à 5000 events from DVS sequence...\nDiscarded 413 events during subsampling.\nDiscarded 215 events during 3-sigma standardization.\nExtracting batch of samples à 5000 events from DVS sequence...\nDiscarded 688 events during subsampling.\nDiscarded 167 events during 3-sigma standardization.\nExtracting batch of samples à 5000 events from DVS sequence...\nDiscarded 578 events during subsampling.\nDiscarded 217 events during 3-sigma standardization."
     ]
    },
    {
     "name": "stdout",
     "output_type": "stream",
     "text": [
      "\nExtracting batch of samples à 5000 events from DVS sequence...\nDiscarded 594 events during subsampling.\nDiscarded 277 events during 3-sigma standardization.\nExtracting batch of samples à 5000 events from DVS sequence...\nDiscarded 662 events during subsampling.\nDiscarded 189 events during 3-sigma standardization.\nExtracting batch of samples à 5000 events from DVS sequence...\nDiscarded 402 events during subsampling.\nDiscarded 235 events during 3-sigma standardization.\nExtracting batch of samples à 5000 events from DVS sequence...\nDiscarded 479 events during subsampling.\nDiscarded 229 events during 3-sigma standardization.\nExtracting batch of samples à 5000 events from DVS sequence...\nDiscarded 401 events during subsampling.\nDiscarded 227 events during 3-sigma standardization.\nExtracting batch of samples à 5000 events from DVS sequence...\n"
     ]
    },
    {
     "name": "stdout",
     "output_type": "stream",
     "text": [
      "Discarded 368 events during subsampling.\nDiscarded 226 events during 3-sigma standardization.\nExtracting batch of samples à 5000 events from DVS sequence...\nDiscarded 557 events during subsampling.\nDiscarded 174 events during 3-sigma standardization.\nExtracting batch of samples à 5000 events from DVS sequence...\nDiscarded 381 events during subsampling.\nDiscarded 268 events during 3-sigma standardization.\nExtracting batch of samples à 5000 events from DVS sequence...\nDiscarded 990 events during subsampling.\nDiscarded 274 events during 3-sigma standardization.\nExtracting batch of samples à 5000 events from DVS sequence...\nDiscarded 1727 events during subsampling.\nDiscarded 138 events during 3-sigma standardization.\nExtracting batch of samples à 5000 events from DVS sequence...\nDiscarded 396 events during subsampling.\nDiscarded 285 events during 3-sigma standardization.\nExtracting batch of samples à 5000 events from DVS sequence...\n"
     ]
    },
    {
     "name": "stdout",
     "output_type": "stream",
     "text": [
      "Discarded 403 events during subsampling.\nDiscarded 231 events during 3-sigma standardization.\nExtracting batch of samples à 5000 events from DVS sequence...\nDiscarded 473 events during subsampling.\nDiscarded 253 events during 3-sigma standardization.\nExtracting batch of samples à 5000 events from DVS sequence...\nDiscarded 548 events during subsampling.\nDiscarded 238 events during 3-sigma standardization.\nExtracting batch of samples à 5000 events from DVS sequence...\nDiscarded 441 events during subsampling.\nDiscarded 188 events during 3-sigma standardization.\nExtracting batch of samples à 5000 events from DVS sequence...\nDiscarded 416 events during subsampling.\nDiscarded 223 events during 3-sigma standardization.\nExtracting batch of samples à 5000 events from DVS sequence...\nDiscarded 408 events during subsampling.\n"
     ]
    },
    {
     "name": "stdout",
     "output_type": "stream",
     "text": [
      "Discarded 273 events during 3-sigma standardization.\nExtracting batch of samples à 5000 events from DVS sequence...\nDiscarded 451 events during subsampling.\nDiscarded 246 events during 3-sigma standardization.\nExtracting batch of samples à 5000 events from DVS sequence...\nDiscarded 353 events during subsampling.\nDiscarded 217 events during 3-sigma standardization.\nExtracting batch of samples à 5000 events from DVS sequence...\nDiscarded 336 events during subsampling.\nDiscarded 245 events during 3-sigma standardization.\nExtracting batch of samples à 5000 events from DVS sequence...\nDiscarded 2148 events during subsampling.\nDiscarded 118 events during 3-sigma standardization.\nExtracting batch of samples à 5000 events from DVS sequence...\nDiscarded 1833 events during subsampling.\nDiscarded 190 events during 3-sigma standardization.\nExtracting batch of samples à 5000 events from DVS sequence..."
     ]
    },
    {
     "name": "stdout",
     "output_type": "stream",
     "text": [
      "\nDiscarded 434 events during subsampling.\nDiscarded 245 events during 3-sigma standardization.\nExtracting batch of samples à 5000 events from DVS sequence...\nDiscarded 358 events during subsampling.\nDiscarded 209 events during 3-sigma standardization.\nExtracting batch of samples à 5000 events from DVS sequence...\nDiscarded 386 events during subsampling.\nDiscarded 236 events during 3-sigma standardization.\nExtracting batch of samples à 5000 events from DVS sequence...\nDiscarded 390 events during subsampling.\nDiscarded 258 events during 3-sigma standardization.\nExtracting batch of samples à 5000 events from DVS sequence...\nDiscarded 348 events during subsampling.\nDiscarded 262 events during 3-sigma standardization.\nExtracting batch of samples à 5000 events from DVS sequence...\n"
     ]
    },
    {
     "name": "stdout",
     "output_type": "stream",
     "text": [
      "Discarded 417 events during subsampling.\nDiscarded 265 events during 3-sigma standardization.\nExtracting batch of samples à 5000 events from DVS sequence...\nDiscarded 356 events during subsampling.\nDiscarded 240 events during 3-sigma standardization.\nExtracting batch of samples à 5000 events from DVS sequence...\nDiscarded 328 events during subsampling.\nDiscarded 234 events during 3-sigma standardization.\nExtracting batch of samples à 5000 events from DVS sequence...\nDiscarded 355 events during subsampling.\nDiscarded 222 events during 3-sigma standardization.\nLoading DVS sample /home/rbodo/.snntoolbox/Datasets/predator_prey/aedat/not_balanced_4834samples/L/rec_3.aedat...\n"
     ]
    },
    {
     "name": "stdout",
     "output_type": "stream",
     "text": [
      "Total number of events of this sample: 420000.\nNumber of batches: 84.\nExtracting 84 frames from DVS event sequence.\n"
     ]
    },
    {
     "name": "stdout",
     "output_type": "stream",
     "text": [
      "Extracting batch of samples à 5000 events from DVS sequence...\nDiscarded 527 events during subsampling.\nDiscarded 258 events during 3-sigma standardization.\nExtracting batch of samples à 5000 events from DVS sequence...\nDiscarded 434 events during subsampling.\nDiscarded 312 events during 3-sigma standardization.\nExtracting batch of samples à 5000 events from DVS sequence...\nDiscarded 245 events during subsampling.\nDiscarded 501 events during 3-sigma standardization.\nExtracting batch of samples à 5000 events from DVS sequence...\nDiscarded 514 events during subsampling.\nDiscarded 259 events during 3-sigma standardization.\nExtracting batch of samples à 5000 events from DVS sequence...\nDiscarded 413 events during subsampling.\nDiscarded 291 events during 3-sigma standardization.\n"
     ]
    },
    {
     "name": "stdout",
     "output_type": "stream",
     "text": [
      "Extracting batch of samples à 5000 events from DVS sequence...\nDiscarded 490 events during subsampling.\nDiscarded 226 events during 3-sigma standardization.\nExtracting batch of samples à 5000 events from DVS sequence...\nDiscarded 463 events during subsampling.\nDiscarded 237 events during 3-sigma standardization.\nExtracting batch of samples à 5000 events from DVS sequence...\nDiscarded 470 events during subsampling.\nDiscarded 195 events during 3-sigma standardization.\nExtracting batch of samples à 5000 events from DVS sequence...\nDiscarded 479 events during subsampling.\nDiscarded 224 events during 3-sigma standardization.\nExtracting batch of samples à 5000 events from DVS sequence...\nDiscarded 1674 events during subsampling.\nDiscarded 207 events during 3-sigma standardization.\nExtracting batch of samples à 5000 events from DVS sequence...\n"
     ]
    },
    {
     "name": "stdout",
     "output_type": "stream",
     "text": [
      "Discarded 434 events during subsampling.\nDiscarded 195 events during 3-sigma standardization.\nExtracting batch of samples à 5000 events from DVS sequence...\nDiscarded 466 events during subsampling.\nDiscarded 256 events during 3-sigma standardization.\nExtracting batch of samples à 5000 events from DVS sequence...\nDiscarded 491 events during subsampling.\nDiscarded 237 events during 3-sigma standardization.\nExtracting batch of samples à 5000 events from DVS sequence...\nDiscarded 388 events during subsampling.\nDiscarded 300 events during 3-sigma standardization.\nExtracting batch of samples à 5000 events from DVS sequence...\nDiscarded 155 events during subsampling.\nDiscarded 254 events during 3-sigma standardization.\nExtracting batch of samples à 5000 events from DVS sequence..."
     ]
    },
    {
     "name": "stdout",
     "output_type": "stream",
     "text": [
      "\nDiscarded 350 events during subsampling.\nDiscarded 226 events during 3-sigma standardization.\nExtracting batch of samples à 5000 events from DVS sequence...\nDiscarded 441 events during subsampling.\nDiscarded 209 events during 3-sigma standardization.\nExtracting batch of samples à 5000 events from DVS sequence...\nDiscarded 527 events during subsampling.\nDiscarded 216 events during 3-sigma standardization.\nExtracting batch of samples à 5000 events from DVS sequence...\nDiscarded 353 events during subsampling.\nDiscarded 254 events during 3-sigma standardization.\nExtracting batch of samples à 5000 events from DVS sequence...\nDiscarded 1760 events during subsampling.\nDiscarded 147 events during 3-sigma standardization.\nExtracting batch of samples à 5000 events from DVS sequence...\nDiscarded 422 events during subsampling.\n"
     ]
    },
    {
     "name": "stdout",
     "output_type": "stream",
     "text": [
      "Discarded 222 events during 3-sigma standardization.\nExtracting batch of samples à 5000 events from DVS sequence...\nDiscarded 368 events during subsampling.\nDiscarded 206 events during 3-sigma standardization.\nExtracting batch of samples à 5000 events from DVS sequence...\nDiscarded 403 events during subsampling.\nDiscarded 268 events during 3-sigma standardization.\nExtracting batch of samples à 5000 events from DVS sequence...\nDiscarded 434 events during subsampling.\nDiscarded 198 events during 3-sigma standardization.\nExtracting batch of samples à 5000 events from DVS sequence...\nDiscarded 545 events during subsampling.\nDiscarded 198 events during 3-sigma standardization.\nExtracting batch of samples à 5000 events from DVS sequence...\nDiscarded 372 events during subsampling.\nDiscarded 241 events during 3-sigma standardization.\n"
     ]
    },
    {
     "name": "stdout",
     "output_type": "stream",
     "text": [
      "Extracting batch of samples à 5000 events from DVS sequence...\nDiscarded 356 events during subsampling.\nDiscarded 181 events during 3-sigma standardization.\nExtracting batch of samples à 5000 events from DVS sequence...\nDiscarded 462 events during subsampling.\nDiscarded 214 events during 3-sigma standardization.\nExtracting batch of samples à 5000 events from DVS sequence...\nDiscarded 2006 events during subsampling.\nDiscarded 211 events during 3-sigma standardization.\nExtracting batch of samples à 5000 events from DVS sequence...\nDiscarded 633 events during subsampling.\nDiscarded 180 events during 3-sigma standardization.\nExtracting batch of samples à 5000 events from DVS sequence...\nDiscarded 527 events during subsampling.\nDiscarded 281 events during 3-sigma standardization.\nExtracting batch of samples à 5000 events from DVS sequence...\nDiscarded 415 events during subsampling."
     ]
    },
    {
     "name": "stdout",
     "output_type": "stream",
     "text": [
      "\nDiscarded 212 events during 3-sigma standardization.\nExtracting batch of samples à 5000 events from DVS sequence...\nDiscarded 407 events during subsampling.\nDiscarded 241 events during 3-sigma standardization.\nExtracting batch of samples à 5000 events from DVS sequence...\nDiscarded 442 events during subsampling.\nDiscarded 191 events during 3-sigma standardization.\nExtracting batch of samples à 5000 events from DVS sequence...\nDiscarded 458 events during subsampling.\nDiscarded 190 events during 3-sigma standardization.\nExtracting batch of samples à 5000 events from DVS sequence...\nDiscarded 390 events during subsampling.\nDiscarded 193 events during 3-sigma standardization.\nExtracting batch of samples à 5000 events from DVS sequence...\nDiscarded 363 events during subsampling.\nDiscarded 222 events during 3-sigma standardization.\n"
     ]
    },
    {
     "name": "stdout",
     "output_type": "stream",
     "text": [
      "Extracting batch of samples à 5000 events from DVS sequence...\nDiscarded 413 events during subsampling.\nDiscarded 222 events during 3-sigma standardization.\nExtracting batch of samples à 5000 events from DVS sequence...\nDiscarded 403 events during subsampling.\nDiscarded 167 events during 3-sigma standardization.\nExtracting batch of samples à 5000 events from DVS sequence...\nDiscarded 403 events during subsampling.\nDiscarded 171 events during 3-sigma standardization.\nExtracting batch of samples à 5000 events from DVS sequence...\nDiscarded 384 events during subsampling.\nDiscarded 237 events during 3-sigma standardization.\nExtracting batch of samples à 5000 events from DVS sequence...\nDiscarded 361 events during subsampling.\nDiscarded 218 events during 3-sigma standardization.\nExtracting batch of samples à 5000 events from DVS sequence..."
     ]
    },
    {
     "name": "stdout",
     "output_type": "stream",
     "text": [
      "\nDiscarded 371 events during subsampling.\nDiscarded 214 events during 3-sigma standardization.\nExtracting batch of samples à 5000 events from DVS sequence...\nDiscarded 329 events during subsampling.\nDiscarded 228 events during 3-sigma standardization.\nExtracting batch of samples à 5000 events from DVS sequence...\nDiscarded 335 events during subsampling.\nDiscarded 173 events during 3-sigma standardization.\nExtracting batch of samples à 5000 events from DVS sequence...\nDiscarded 1283 events during subsampling.\nDiscarded 189 events during 3-sigma standardization.\nExtracting batch of samples à 5000 events from DVS sequence...\nDiscarded 296 events during subsampling.\nDiscarded 226 events during 3-sigma standardization.\nExtracting batch of samples à 5000 events from DVS sequence...\n"
     ]
    },
    {
     "name": "stdout",
     "output_type": "stream",
     "text": [
      "Discarded 879 events during subsampling.\nDiscarded 211 events during 3-sigma standardization.\nExtracting batch of samples à 5000 events from DVS sequence...\nDiscarded 573 events during subsampling.\nDiscarded 177 events during 3-sigma standardization.\nExtracting batch of samples à 5000 events from DVS sequence...\nDiscarded 638 events during subsampling.\nDiscarded 164 events during 3-sigma standardization.\nExtracting batch of samples à 5000 events from DVS sequence...\nDiscarded 596 events during subsampling.\nDiscarded 188 events during 3-sigma standardization.\nExtracting batch of samples à 5000 events from DVS sequence...\nDiscarded 547 events during subsampling.\nDiscarded 198 events during 3-sigma standardization.\nExtracting batch of samples à 5000 events from DVS sequence...\nDiscarded 574 events during subsampling.\nDiscarded 168 events during 3-sigma standardization.\n"
     ]
    },
    {
     "name": "stdout",
     "output_type": "stream",
     "text": [
      "Extracting batch of samples à 5000 events from DVS sequence...\nDiscarded 528 events during subsampling.\nDiscarded 285 events during 3-sigma standardization.\nExtracting batch of samples à 5000 events from DVS sequence...\nDiscarded 583 events during subsampling.\nDiscarded 168 events during 3-sigma standardization.\nExtracting batch of samples à 5000 events from DVS sequence...\nDiscarded 656 events during subsampling.\nDiscarded 237 events during 3-sigma standardization.\nExtracting batch of samples à 5000 events from DVS sequence...\nDiscarded 387 events during subsampling.\nDiscarded 226 events during 3-sigma standardization.\nExtracting batch of samples à 5000 events from DVS sequence...\nDiscarded 366 events during subsampling.\nDiscarded 261 events during 3-sigma standardization.\nExtracting batch of samples à 5000 events from DVS sequence...\n"
     ]
    },
    {
     "name": "stdout",
     "output_type": "stream",
     "text": [
      "Discarded 385 events during subsampling.\nDiscarded 233 events during 3-sigma standardization.\nExtracting batch of samples à 5000 events from DVS sequence...\nDiscarded 2181 events during subsampling.\nDiscarded 143 events during 3-sigma standardization.\nExtracting batch of samples à 5000 events from DVS sequence...\nDiscarded 432 events during subsampling.\nDiscarded 225 events during 3-sigma standardization.\nExtracting batch of samples à 5000 events from DVS sequence...\nDiscarded 552 events during subsampling.\nDiscarded 191 events during 3-sigma standardization.\nExtracting batch of samples à 5000 events from DVS sequence...\nDiscarded 1333 events during subsampling.\nDiscarded 180 events during 3-sigma standardization.\nExtracting batch of samples à 5000 events from DVS sequence...\nDiscarded 453 events during subsampling.\nDiscarded 252 events during 3-sigma standardization."
     ]
    },
    {
     "name": "stdout",
     "output_type": "stream",
     "text": [
      "\nExtracting batch of samples à 5000 events from DVS sequence...\nDiscarded 1049 events during subsampling.\nDiscarded 266 events during 3-sigma standardization.\nExtracting batch of samples à 5000 events from DVS sequence...\nDiscarded 1471 events during subsampling.\nDiscarded 215 events during 3-sigma standardization.\nExtracting batch of samples à 5000 events from DVS sequence...\nDiscarded 351 events during subsampling.\nDiscarded 384 events during 3-sigma standardization.\nExtracting batch of samples à 5000 events from DVS sequence...\nDiscarded 631 events during subsampling.\nDiscarded 268 events during 3-sigma standardization.\nExtracting batch of samples à 5000 events from DVS sequence...\nDiscarded 1283 events during subsampling.\nDiscarded 254 events during 3-sigma standardization.\nExtracting batch of samples à 5000 events from DVS sequence...\n"
     ]
    },
    {
     "name": "stdout",
     "output_type": "stream",
     "text": [
      "Discarded 386 events during subsampling.\nDiscarded 263 events during 3-sigma standardization.\nExtracting batch of samples à 5000 events from DVS sequence...\nDiscarded 449 events during subsampling.\nDiscarded 214 events during 3-sigma standardization.\nExtracting batch of samples à 5000 events from DVS sequence...\nDiscarded 386 events during subsampling.\nDiscarded 227 events during 3-sigma standardization.\nExtracting batch of samples à 5000 events from DVS sequence...\nDiscarded 331 events during subsampling.\nDiscarded 237 events during 3-sigma standardization.\nExtracting batch of samples à 5000 events from DVS sequence...\nDiscarded 2174 events during subsampling.\nDiscarded 170 events during 3-sigma standardization.\nExtracting batch of samples à 5000 events from DVS sequence...\n"
     ]
    },
    {
     "name": "stdout",
     "output_type": "stream",
     "text": [
      "Discarded 347 events during subsampling.\nDiscarded 230 events during 3-sigma standardization.\nExtracting batch of samples à 5000 events from DVS sequence...\nDiscarded 428 events during subsampling.\nDiscarded 232 events during 3-sigma standardization.\nExtracting batch of samples à 5000 events from DVS sequence...\nDiscarded 440 events during subsampling.\nDiscarded 239 events during 3-sigma standardization.\nExtracting batch of samples à 5000 events from DVS sequence...\nDiscarded 1059 events during subsampling.\nDiscarded 281 events during 3-sigma standardization.\nExtracting batch of samples à 5000 events from DVS sequence...\nDiscarded 16 events during subsampling.\nDiscarded 447 events during 3-sigma standardization.\nExtracting batch of samples à 5000 events from DVS sequence...\nDiscarded 106 events during subsampling."
     ]
    },
    {
     "name": "stdout",
     "output_type": "stream",
     "text": [
      "\nDiscarded 369 events during 3-sigma standardization.\nExtracting batch of samples à 5000 events from DVS sequence...\nDiscarded 415 events during subsampling.\nDiscarded 184 events during 3-sigma standardization.\nExtracting batch of samples à 5000 events from DVS sequence...\nDiscarded 432 events during subsampling.\nDiscarded 209 events during 3-sigma standardization.\nExtracting batch of samples à 5000 events from DVS sequence...\nDiscarded 384 events during subsampling.\nDiscarded 187 events during 3-sigma standardization.\nLoading DVS sample /home/rbodo/.snntoolbox/Datasets/predator_prey/aedat/not_balanced_4834samples/L/rec_4.aedat...\nTotal number of events of this sample: 150000.\nNumber of batches: 30.\nExtracting 30 frames from DVS event sequence.\n"
     ]
    },
    {
     "name": "stdout",
     "output_type": "stream",
     "text": [
      "Extracting batch of samples à 5000 events from DVS sequence...\nDiscarded 439 events during subsampling.\nDiscarded 291 events during 3-sigma standardization.\nExtracting batch of samples à 5000 events from DVS sequence...\nDiscarded 474 events during subsampling.\nDiscarded 251 events during 3-sigma standardization.\nExtracting batch of samples à 5000 events from DVS sequence...\nDiscarded 441 events during subsampling.\nDiscarded 342 events during 3-sigma standardization.\nExtracting batch of samples à 5000 events from DVS sequence...\nDiscarded 465 events during subsampling.\nDiscarded 225 events during 3-sigma standardization.\nExtracting batch of samples à 5000 events from DVS sequence...\nDiscarded 438 events during subsampling."
     ]
    },
    {
     "name": "stdout",
     "output_type": "stream",
     "text": [
      "\nDiscarded 218 events during 3-sigma standardization.\nExtracting batch of samples à 5000 events from DVS sequence...\nDiscarded 438 events during subsampling.\nDiscarded 237 events during 3-sigma standardization.\nExtracting batch of samples à 5000 events from DVS sequence...\nDiscarded 587 events during subsampling.\nDiscarded 321 events during 3-sigma standardization.\nExtracting batch of samples à 5000 events from DVS sequence...\nDiscarded 2072 events during subsampling.\nDiscarded 159 events during 3-sigma standardization.\nExtracting batch of samples à 5000 events from DVS sequence...\nDiscarded 451 events during subsampling.\nDiscarded 263 events during 3-sigma standardization.\nExtracting batch of samples à 5000 events from DVS sequence...\nDiscarded 537 events during subsampling.\nDiscarded 271 events during 3-sigma standardization.\n"
     ]
    },
    {
     "name": "stdout",
     "output_type": "stream",
     "text": [
      "Extracting batch of samples à 5000 events from DVS sequence...\nDiscarded 542 events during subsampling.\nDiscarded 253 events during 3-sigma standardization.\nExtracting batch of samples à 5000 events from DVS sequence...\nDiscarded 630 events during subsampling.\nDiscarded 205 events during 3-sigma standardization.\nExtracting batch of samples à 5000 events from DVS sequence...\nDiscarded 515 events during subsampling.\nDiscarded 197 events during 3-sigma standardization.\nExtracting batch of samples à 5000 events from DVS sequence...\nDiscarded 544 events during subsampling.\nDiscarded 219 events during 3-sigma standardization.\nExtracting batch of samples à 5000 events from DVS sequence...\nDiscarded 507 events during subsampling.\nDiscarded 204 events during 3-sigma standardization.\nExtracting batch of samples à 5000 events from DVS sequence...\n"
     ]
    },
    {
     "name": "stdout",
     "output_type": "stream",
     "text": [
      "Discarded 450 events during subsampling.\nDiscarded 247 events during 3-sigma standardization.\nExtracting batch of samples à 5000 events from DVS sequence...\nDiscarded 518 events during subsampling.\nDiscarded 232 events during 3-sigma standardization.\nExtracting batch of samples à 5000 events from DVS sequence...\nDiscarded 370 events during subsampling.\nDiscarded 223 events during 3-sigma standardization.\nExtracting batch of samples à 5000 events from DVS sequence...\nDiscarded 364 events during subsampling.\nDiscarded 241 events during 3-sigma standardization.\nExtracting batch of samples à 5000 events from DVS sequence...\nDiscarded 350 events during subsampling.\nDiscarded 168 events during 3-sigma standardization.\nExtracting batch of samples à 5000 events from DVS sequence..."
     ]
    },
    {
     "name": "stdout",
     "output_type": "stream",
     "text": [
      "\nDiscarded 347 events during subsampling.\nDiscarded 200 events during 3-sigma standardization.\nExtracting batch of samples à 5000 events from DVS sequence...\nDiscarded 360 events during subsampling.\nDiscarded 229 events during 3-sigma standardization.\nExtracting batch of samples à 5000 events from DVS sequence...\nDiscarded 391 events during subsampling.\nDiscarded 197 events during 3-sigma standardization.\nExtracting batch of samples à 5000 events from DVS sequence...\nDiscarded 1181 events during subsampling.\nDiscarded 191 events during 3-sigma standardization.\nExtracting batch of samples à 5000 events from DVS sequence...\n"
     ]
    },
    {
     "name": "stdout",
     "output_type": "stream",
     "text": [
      "Discarded 383 events during subsampling.\nDiscarded 183 events during 3-sigma standardization.\nExtracting batch of samples à 5000 events from DVS sequence...\nDiscarded 408 events during subsampling.\nDiscarded 189 events during 3-sigma standardization.\nExtracting batch of samples à 5000 events from DVS sequence...\nDiscarded 464 events during subsampling.\nDiscarded 251 events during 3-sigma standardization.\nExtracting batch of samples à 5000 events from DVS sequence...\nDiscarded 469 events during subsampling.\nDiscarded 236 events during 3-sigma standardization.\nExtracting batch of samples à 5000 events from DVS sequence...\nDiscarded 442 events during subsampling.\nDiscarded 194 events during 3-sigma standardization.\nLoading DVS sample /home/rbodo/.snntoolbox/Datasets/predator_prey/aedat/not_balanced_4834samples/L/rec_5.aedat...\n"
     ]
    },
    {
     "name": "stdout",
     "output_type": "stream",
     "text": [
      "Total number of events of this sample: 135000.\nNumber of batches: 27.\nExtracting 27 frames from DVS event sequence.\n"
     ]
    },
    {
     "name": "stdout",
     "output_type": "stream",
     "text": [
      "Extracting batch of samples à 5000 events from DVS sequence...\nDiscarded 220 events during subsampling.\nDiscarded 296 events during 3-sigma standardization.\nExtracting batch of samples à 5000 events from DVS sequence...\nDiscarded 338 events during subsampling.\nDiscarded 243 events during 3-sigma standardization.\nExtracting batch of samples à 5000 events from DVS sequence...\nDiscarded 546 events during subsampling.\nDiscarded 270 events during 3-sigma standardization.\nExtracting batch of samples à 5000 events from DVS sequence...\nDiscarded 1478 events during subsampling.\nDiscarded 185 events during 3-sigma standardization.\nExtracting batch of samples à 5000 events from DVS sequence...\n"
     ]
    },
    {
     "name": "stdout",
     "output_type": "stream",
     "text": [
      "Discarded 119 events during subsampling.\nDiscarded 618 events during 3-sigma standardization.\nExtracting batch of samples à 5000 events from DVS sequence...\nDiscarded 408 events during subsampling.\nDiscarded 252 events during 3-sigma standardization.\nExtracting batch of samples à 5000 events from DVS sequence...\nDiscarded 494 events during subsampling.\nDiscarded 268 events during 3-sigma standardization.\nExtracting batch of samples à 5000 events from DVS sequence...\nDiscarded 450 events during subsampling.\nDiscarded 204 events during 3-sigma standardization.\nExtracting batch of samples à 5000 events from DVS sequence...\nDiscarded 480 events during subsampling.\nDiscarded 213 events during 3-sigma standardization.\nExtracting batch of samples à 5000 events from DVS sequence...\nDiscarded 1098 events during subsampling.\n"
     ]
    },
    {
     "name": "stdout",
     "output_type": "stream",
     "text": [
      "Discarded 240 events during 3-sigma standardization.\nExtracting batch of samples à 5000 events from DVS sequence...\nDiscarded 511 events during subsampling.\nDiscarded 198 events during 3-sigma standardization.\nExtracting batch of samples à 5000 events from DVS sequence...\nDiscarded 468 events during subsampling.\nDiscarded 198 events during 3-sigma standardization.\nExtracting batch of samples à 5000 events from DVS sequence...\nDiscarded 373 events during subsampling.\nDiscarded 252 events during 3-sigma standardization.\nExtracting batch of samples à 5000 events from DVS sequence...\nDiscarded 382 events during subsampling.\nDiscarded 216 events during 3-sigma standardization.\nExtracting batch of samples à 5000 events from DVS sequence...\nDiscarded 465 events during subsampling.\nDiscarded 180 events during 3-sigma standardization.\nExtracting batch of samples à 5000 events from DVS sequence...\n"
     ]
    },
    {
     "name": "stdout",
     "output_type": "stream",
     "text": [
      "Discarded 365 events during subsampling.\nDiscarded 235 events during 3-sigma standardization.\nExtracting batch of samples à 5000 events from DVS sequence...\nDiscarded 281 events during subsampling.\nDiscarded 266 events during 3-sigma standardization.\nExtracting batch of samples à 5000 events from DVS sequence...\nDiscarded 595 events during subsampling.\nDiscarded 220 events during 3-sigma standardization.\nExtracting batch of samples à 5000 events from DVS sequence...\nDiscarded 509 events during subsampling.\nDiscarded 238 events during 3-sigma standardization.\nExtracting batch of samples à 5000 events from DVS sequence...\nDiscarded 591 events during subsampling.\nDiscarded 234 events during 3-sigma standardization.\nExtracting batch of samples à 5000 events from DVS sequence...\n"
     ]
    },
    {
     "name": "stdout",
     "output_type": "stream",
     "text": [
      "Discarded 483 events during subsampling.\nDiscarded 192 events during 3-sigma standardization.\nExtracting batch of samples à 5000 events from DVS sequence...\nDiscarded 428 events during subsampling.\nDiscarded 232 events during 3-sigma standardization.\nExtracting batch of samples à 5000 events from DVS sequence...\nDiscarded 475 events during subsampling.\nDiscarded 218 events during 3-sigma standardization.\nExtracting batch of samples à 5000 events from DVS sequence...\nDiscarded 588 events during subsampling.\nDiscarded 165 events during 3-sigma standardization.\nExtracting batch of samples à 5000 events from DVS sequence...\nDiscarded 489 events during subsampling.\nDiscarded 213 events during 3-sigma standardization.\nExtracting batch of samples à 5000 events from DVS sequence...\n"
     ]
    },
    {
     "name": "stdout",
     "output_type": "stream",
     "text": [
      "Discarded 503 events during subsampling.\nDiscarded 234 events during 3-sigma standardization.\nLoading DVS sample /home/rbodo/.snntoolbox/Datasets/predator_prey/aedat/not_balanced_4834samples/L/rec_6.aedat...\nTotal number of events of this sample: 20000.\nNumber of batches: 4.\nExtracting 4 frames from DVS event sequence.\nExtracting batch of samples à 5000 events from DVS sequence...\nDiscarded 1687 events during subsampling.\nDiscarded 193 events during 3-sigma standardization.\nExtracting batch of samples à 5000 events from DVS sequence..."
     ]
    },
    {
     "name": "stdout",
     "output_type": "stream",
     "text": [
      "\nDiscarded 242 events during subsampling.\nDiscarded 228 events during 3-sigma standardization.\nExtracting batch of samples à 5000 events from DVS sequence...\nDiscarded 622 events during subsampling.\nDiscarded 212 events during 3-sigma standardization.\nLoading DVS sample /home/rbodo/.snntoolbox/Datasets/predator_prey/aedat/not_balanced_4834samples/L/rec_8.aedat...\nTotal number of events of this sample: 55000.\nNumber of batches: 11.\nExtracting 11 frames from DVS event sequence.\n"
     ]
    },
    {
     "name": "stdout",
     "output_type": "stream",
     "text": [
      "Extracting batch of samples à 5000 events from DVS sequence...\nDiscarded 315 events during subsampling.\nDiscarded 266 events during 3-sigma standardization.\nExtracting batch of samples à 5000 events from DVS sequence...\nDiscarded 341 events during subsampling.\nDiscarded 265 events during 3-sigma standardization.\nExtracting batch of samples à 5000 events from DVS sequence...\nDiscarded 441 events during subsampling.\nDiscarded 221 events during 3-sigma standardization.\nExtracting batch of samples à 5000 events from DVS sequence...\nDiscarded 435 events during subsampling.\nDiscarded 266 events during 3-sigma standardization.\nExtracting batch of samples à 5000 events from DVS sequence...\nDiscarded 225 events during subsampling.\n"
     ]
    },
    {
     "name": "stdout",
     "output_type": "stream",
     "text": [
      "Discarded 278 events during 3-sigma standardization.\nExtracting batch of samples à 5000 events from DVS sequence...\nDiscarded 963 events during subsampling.\nDiscarded 201 events during 3-sigma standardization.\nExtracting batch of samples à 5000 events from DVS sequence...\nDiscarded 373 events during subsampling.\nDiscarded 299 events during 3-sigma standardization.\nExtracting batch of samples à 5000 events from DVS sequence...\nDiscarded 1675 events during subsampling.\nDiscarded 183 events during 3-sigma standardization.\nExtracting batch of samples à 5000 events from DVS sequence...\nDiscarded 173 events during subsampling.\nDiscarded 407 events during 3-sigma standardization.\nExtracting batch of samples à 5000 events from DVS sequence...\nDiscarded 395 events during subsampling.\n"
     ]
    },
    {
     "name": "stdout",
     "output_type": "stream",
     "text": [
      "Discarded 221 events during 3-sigma standardization.\nLoading DVS sample /home/rbodo/.snntoolbox/Datasets/predator_prey/aedat/not_balanced_4834samples/L/rec_9.aedat...\nTotal number of events of this sample: 140000.\nNumber of batches: 28.\nExtracting 28 frames from DVS event sequence.\n"
     ]
    },
    {
     "name": "stdout",
     "output_type": "stream",
     "text": [
      "Extracting batch of samples à 5000 events from DVS sequence...\nDiscarded 130 events during subsampling.\nDiscarded 145 events during 3-sigma standardization.\nExtracting batch of samples à 5000 events from DVS sequence...\nDiscarded 247 events during subsampling.\nDiscarded 121 events during 3-sigma standardization.\nExtracting batch of samples à 5000 events from DVS sequence...\nDiscarded 128 events during subsampling.\nDiscarded 204 events during 3-sigma standardization.\nExtracting batch of samples à 5000 events from DVS sequence...\nDiscarded 318 events during subsampling.\nDiscarded 755 events during 3-sigma standardization.\nExtracting batch of samples à 5000 events from DVS sequence...\nDiscarded 975 events during subsampling.\n"
     ]
    },
    {
     "name": "stdout",
     "output_type": "stream",
     "text": [
      "Discarded 251 events during 3-sigma standardization.\nExtracting batch of samples à 5000 events from DVS sequence...\nDiscarded 1594 events during subsampling.\nDiscarded 182 events during 3-sigma standardization.\nExtracting batch of samples à 5000 events from DVS sequence...\nDiscarded 234 events during subsampling.\nDiscarded 228 events during 3-sigma standardization.\nExtracting batch of samples à 5000 events from DVS sequence...\nDiscarded 277 events during subsampling.\nDiscarded 305 events during 3-sigma standardization.\nExtracting batch of samples à 5000 events from DVS sequence...\nDiscarded 140 events during subsampling.\nDiscarded 299 events during 3-sigma standardization.\nExtracting batch of samples à 5000 events from DVS sequence...\nDiscarded 661 events during subsampling.\nDiscarded 252 events during 3-sigma standardization.\nExtracting batch of samples à 5000 events from DVS sequence...\n"
     ]
    },
    {
     "name": "stdout",
     "output_type": "stream",
     "text": [
      "Discarded 312 events during subsampling.\nDiscarded 290 events during 3-sigma standardization.\nExtracting batch of samples à 5000 events from DVS sequence...\nDiscarded 231 events during subsampling.\nDiscarded 466 events during 3-sigma standardization.\nExtracting batch of samples à 5000 events from DVS sequence...\nDiscarded 1007 events during subsampling.\nDiscarded 266 events during 3-sigma standardization.\nExtracting batch of samples à 5000 events from DVS sequence...\nDiscarded 300 events during subsampling.\nDiscarded 1021 events during 3-sigma standardization.\nExtracting batch of samples à 5000 events from DVS sequence...\nDiscarded 197 events during subsampling.\nDiscarded 901 events during 3-sigma standardization.\nExtracting batch of samples à 5000 events from DVS sequence...\n"
     ]
    },
    {
     "name": "stdout",
     "output_type": "stream",
     "text": [
      "Discarded 236 events during subsampling.\nDiscarded 792 events during 3-sigma standardization.\nExtracting batch of samples à 5000 events from DVS sequence...\nDiscarded 472 events during subsampling.\nDiscarded 570 events during 3-sigma standardization.\nExtracting batch of samples à 5000 events from DVS sequence...\nDiscarded 775 events during subsampling.\nDiscarded 355 events during 3-sigma standardization.\nExtracting batch of samples à 5000 events from DVS sequence...\nDiscarded 1061 events during subsampling.\nDiscarded 310 events during 3-sigma standardization.\nExtracting batch of samples à 5000 events from DVS sequence...\nDiscarded 1148 events during subsampling.\nDiscarded 244 events during 3-sigma standardization.\nExtracting batch of samples à 5000 events from DVS sequence...\n"
     ]
    },
    {
     "name": "stdout",
     "output_type": "stream",
     "text": [
      "Discarded 276 events during subsampling.\nDiscarded 309 events during 3-sigma standardization.\nExtracting batch of samples à 5000 events from DVS sequence...\nDiscarded 700 events during subsampling.\nDiscarded 316 events during 3-sigma standardization.\nExtracting batch of samples à 5000 events from DVS sequence...\nDiscarded 638 events during subsampling.\nDiscarded 293 events during 3-sigma standardization.\nExtracting batch of samples à 5000 events from DVS sequence...\nDiscarded 399 events during subsampling.\nDiscarded 400 events during 3-sigma standardization.\nExtracting batch of samples à 5000 events from DVS sequence...\nDiscarded 1254 events during subsampling.\nDiscarded 237 events during 3-sigma standardization.\nExtracting batch of samples à 5000 events from DVS sequence...\nDiscarded 1109 events during subsampling."
     ]
    },
    {
     "name": "stdout",
     "output_type": "stream",
     "text": [
      "\nDiscarded 319 events during 3-sigma standardization.\nExtracting batch of samples à 5000 events from DVS sequence...\nDiscarded 534 events during subsampling.\nDiscarded 327 events during 3-sigma standardization.\nLoading DVS sample /home/rbodo/.snntoolbox/Datasets/predator_prey/aedat/not_balanced_4834samples/N/rec_1.aedat...\nTotal number of events of this sample: 35000.\nNumber of batches: 7.\nExtracting 7 frames from DVS event sequence.\n"
     ]
    },
    {
     "name": "stdout",
     "output_type": "stream",
     "text": [
      "Extracting batch of samples à 5000 events from DVS sequence...\nDiscarded 510 events during subsampling.\nDiscarded 249 events during 3-sigma standardization.\nExtracting batch of samples à 5000 events from DVS sequence...\nDiscarded 512 events during subsampling.\nDiscarded 245 events during 3-sigma standardization.\nExtracting batch of samples à 5000 events from DVS sequence...\nDiscarded 141 events during subsampling.\nDiscarded 251 events during 3-sigma standardization.\nExtracting batch of samples à 5000 events from DVS sequence...\nDiscarded 1635 events during subsampling.\nDiscarded 216 events during 3-sigma standardization.\nExtracting batch of samples à 5000 events from DVS sequence...\nDiscarded 1843 events during subsampling.\nDiscarded 138 events during 3-sigma standardization.\n"
     ]
    },
    {
     "name": "stdout",
     "output_type": "stream",
     "text": [
      "Extracting batch of samples à 5000 events from DVS sequence...\nDiscarded 426 events during subsampling.\nDiscarded 243 events during 3-sigma standardization.\nLoading DVS sample /home/rbodo/.snntoolbox/Datasets/predator_prey/aedat/not_balanced_4834samples/N/rec_10.aedat...\n"
     ]
    },
    {
     "name": "stdout",
     "output_type": "stream",
     "text": [
      "Total number of events of this sample: 1180000.\nNumber of batches: 236.\nExtracting 236 frames from DVS event sequence.\n"
     ]
    },
    {
     "name": "stdout",
     "output_type": "stream",
     "text": [
      "Extracting batch of samples à 5000 events from DVS sequence...\nDiscarded 182 events during subsampling.\nDiscarded 453 events during 3-sigma standardization.\nExtracting batch of samples à 5000 events from DVS sequence...\nDiscarded 353 events during subsampling.\nDiscarded 426 events during 3-sigma standardization.\nExtracting batch of samples à 5000 events from DVS sequence...\nDiscarded 582 events during subsampling.\nDiscarded 297 events during 3-sigma standardization.\nExtracting batch of samples à 5000 events from DVS sequence...\nDiscarded 377 events during subsampling.\nDiscarded 307 events during 3-sigma standardization.\nExtracting batch of samples à 5000 events from DVS sequence...\n"
     ]
    },
    {
     "name": "stdout",
     "output_type": "stream",
     "text": [
      "Discarded 628 events during subsampling.\nDiscarded 274 events during 3-sigma standardization.\nExtracting batch of samples à 5000 events from DVS sequence...\nDiscarded 529 events during subsampling.\nDiscarded 282 events during 3-sigma standardization.\nExtracting batch of samples à 5000 events from DVS sequence...\nDiscarded 464 events during subsampling.\nDiscarded 344 events during 3-sigma standardization.\nExtracting batch of samples à 5000 events from DVS sequence...\nDiscarded 104 events during subsampling.\nDiscarded 335 events during 3-sigma standardization.\nExtracting batch of samples à 5000 events from DVS sequence...\nDiscarded 513 events during subsampling.\nDiscarded 358 events during 3-sigma standardization.\nExtracting batch of samples à 5000 events from DVS sequence...\n"
     ]
    },
    {
     "name": "stdout",
     "output_type": "stream",
     "text": [
      "Discarded 592 events during subsampling.\nDiscarded 290 events during 3-sigma standardization.\nExtracting batch of samples à 5000 events from DVS sequence...\nDiscarded 475 events during subsampling.\nDiscarded 323 events during 3-sigma standardization.\nExtracting batch of samples à 5000 events from DVS sequence...\nDiscarded 582 events during subsampling.\nDiscarded 236 events during 3-sigma standardization.\nExtracting batch of samples à 5000 events from DVS sequence...\nDiscarded 157 events during subsampling.\nDiscarded 291 events during 3-sigma standardization.\nExtracting batch of samples à 5000 events from DVS sequence...\nDiscarded 291 events during subsampling.\nDiscarded 277 events during 3-sigma standardization.\n"
     ]
    },
    {
     "name": "stdout",
     "output_type": "stream",
     "text": [
      "Extracting batch of samples à 5000 events from DVS sequence...\nDiscarded 86 events during subsampling.\nDiscarded 286 events during 3-sigma standardization.\nExtracting batch of samples à 5000 events from DVS sequence...\nDiscarded 210 events during subsampling.\nDiscarded 313 events during 3-sigma standardization.\nExtracting batch of samples à 5000 events from DVS sequence...\nDiscarded 514 events during subsampling.\nDiscarded 295 events during 3-sigma standardization.\nExtracting batch of samples à 5000 events from DVS sequence...\nDiscarded 430 events during subsampling.\nDiscarded 335 events during 3-sigma standardization.\nExtracting batch of samples à 5000 events from DVS sequence...\nDiscarded 352 events during subsampling.\nDiscarded 289 events during 3-sigma standardization.\nExtracting batch of samples à 5000 events from DVS sequence...\n"
     ]
    },
    {
     "name": "stdout",
     "output_type": "stream",
     "text": [
      "Discarded 48 events during subsampling.\nDiscarded 336 events during 3-sigma standardization.\nExtracting batch of samples à 5000 events from DVS sequence...\nDiscarded 82 events during subsampling.\nDiscarded 287 events during 3-sigma standardization.\nExtracting batch of samples à 5000 events from DVS sequence...\nDiscarded 38 events during subsampling.\nDiscarded 364 events during 3-sigma standardization.\nExtracting batch of samples à 5000 events from DVS sequence...\nDiscarded 560 events during subsampling.\nDiscarded 280 events during 3-sigma standardization.\nExtracting batch of samples à 5000 events from DVS sequence...\nDiscarded 132 events during subsampling.\nDiscarded 338 events during 3-sigma standardization.\n"
     ]
    },
    {
     "name": "stdout",
     "output_type": "stream",
     "text": [
      "Extracting batch of samples à 5000 events from DVS sequence...\nDiscarded 100 events during subsampling.\nDiscarded 321 events during 3-sigma standardization.\nExtracting batch of samples à 5000 events from DVS sequence...\nDiscarded 48 events during subsampling.\nDiscarded 331 events during 3-sigma standardization.\nExtracting batch of samples à 5000 events from DVS sequence...\nDiscarded 27 events during subsampling.\nDiscarded 346 events during 3-sigma standardization.\nExtracting batch of samples à 5000 events from DVS sequence...\nDiscarded 499 events during subsampling.\nDiscarded 270 events during 3-sigma standardization.\nExtracting batch of samples à 5000 events from DVS sequence...\nDiscarded 11 events during subsampling.\nDiscarded 341 events during 3-sigma standardization.\nExtracting batch of samples à 5000 events from DVS sequence...\n"
     ]
    },
    {
     "name": "stdout",
     "output_type": "stream",
     "text": [
      "Discarded 157 events during subsampling.\nDiscarded 251 events during 3-sigma standardization.\nExtracting batch of samples à 5000 events from DVS sequence...\nDiscarded 99 events during subsampling.\nDiscarded 302 events during 3-sigma standardization.\nExtracting batch of samples à 5000 events from DVS sequence...\nDiscarded 557 events during subsampling.\nDiscarded 294 events during 3-sigma standardization.\nExtracting batch of samples à 5000 events from DVS sequence...\nDiscarded 45 events during subsampling.\nDiscarded 251 events during 3-sigma standardization.\nExtracting batch of samples à 5000 events from DVS sequence...\nDiscarded 344 events during subsampling.\nDiscarded 270 events during 3-sigma standardization.\nExtracting batch of samples à 5000 events from DVS sequence...\nDiscarded 51 events during subsampling."
     ]
    },
    {
     "name": "stdout",
     "output_type": "stream",
     "text": [
      "\nDiscarded 312 events during 3-sigma standardization.\nExtracting batch of samples à 5000 events from DVS sequence...\nDiscarded 97 events during subsampling.\nDiscarded 337 events during 3-sigma standardization.\nExtracting batch of samples à 5000 events from DVS sequence...\nDiscarded 81 events during subsampling.\nDiscarded 321 events during 3-sigma standardization.\nExtracting batch of samples à 5000 events from DVS sequence...\nDiscarded 179 events during subsampling.\nDiscarded 366 events during 3-sigma standardization.\nExtracting batch of samples à 5000 events from DVS sequence...\nDiscarded 641 events during subsampling.\nDiscarded 298 events during 3-sigma standardization.\nExtracting batch of samples à 5000 events from DVS sequence...\nDiscarded 68 events during subsampling.\nDiscarded 390 events during 3-sigma standardization."
     ]
    },
    {
     "name": "stdout",
     "output_type": "stream",
     "text": [
      "\nExtracting batch of samples à 5000 events from DVS sequence...\nDiscarded 693 events during subsampling.\nDiscarded 275 events during 3-sigma standardization.\nExtracting batch of samples à 5000 events from DVS sequence...\nDiscarded 509 events during subsampling.\nDiscarded 279 events during 3-sigma standardization.\nExtracting batch of samples à 5000 events from DVS sequence...\nDiscarded 1763 events during subsampling.\nDiscarded 143 events during 3-sigma standardization.\nExtracting batch of samples à 5000 events from DVS sequence...\nDiscarded 548 events during subsampling.\nDiscarded 190 events during 3-sigma standardization.\nExtracting batch of samples à 5000 events from DVS sequence...\nDiscarded 469 events during subsampling.\nDiscarded 239 events during 3-sigma standardization.\nExtracting batch of samples à 5000 events from DVS sequence...\n"
     ]
    },
    {
     "name": "stdout",
     "output_type": "stream",
     "text": [
      "Discarded 2016 events during subsampling.\nDiscarded 172 events during 3-sigma standardization.\nExtracting batch of samples à 5000 events from DVS sequence...\nDiscarded 420 events during subsampling.\nDiscarded 195 events during 3-sigma standardization.\nExtracting batch of samples à 5000 events from DVS sequence...\nDiscarded 98 events during subsampling.\nDiscarded 252 events during 3-sigma standardization.\nExtracting batch of samples à 5000 events from DVS sequence...\nDiscarded 246 events during subsampling.\nDiscarded 406 events during 3-sigma standardization.\nExtracting batch of samples à 5000 events from DVS sequence...\nDiscarded 206 events during subsampling.\nDiscarded 575 events during 3-sigma standardization.\nExtracting batch of samples à 5000 events from DVS sequence...\nDiscarded 256 events during subsampling.\nDiscarded 377 events during 3-sigma standardization.\n"
     ]
    },
    {
     "name": "stdout",
     "output_type": "stream",
     "text": [
      "Extracting batch of samples à 5000 events from DVS sequence...\nDiscarded 301 events during subsampling.\nDiscarded 348 events during 3-sigma standardization.\nExtracting batch of samples à 5000 events from DVS sequence...\nDiscarded 287 events during subsampling.\nDiscarded 416 events during 3-sigma standardization.\nExtracting batch of samples à 5000 events from DVS sequence...\nDiscarded 340 events during subsampling.\nDiscarded 265 events during 3-sigma standardization.\nExtracting batch of samples à 5000 events from DVS sequence...\nDiscarded 37 events during subsampling.\nDiscarded 315 events during 3-sigma standardization.\nExtracting batch of samples à 5000 events from DVS sequence...\nDiscarded 257 events during subsampling.\nDiscarded 264 events during 3-sigma standardization.\n"
     ]
    },
    {
     "name": "stdout",
     "output_type": "stream",
     "text": [
      "Extracting batch of samples à 5000 events from DVS sequence...\nDiscarded 217 events during subsampling.\nDiscarded 286 events during 3-sigma standardization.\nExtracting batch of samples à 5000 events from DVS sequence...\nDiscarded 312 events during subsampling.\nDiscarded 331 events during 3-sigma standardization.\nExtracting batch of samples à 5000 events from DVS sequence...\nDiscarded 1251 events during subsampling.\nDiscarded 228 events during 3-sigma standardization.\nExtracting batch of samples à 5000 events from DVS sequence...\nDiscarded 408 events during subsampling.\nDiscarded 325 events during 3-sigma standardization.\nExtracting batch of samples à 5000 events from DVS sequence...\nDiscarded 549 events during subsampling.\nDiscarded 300 events during 3-sigma standardization.\nExtracting batch of samples à 5000 events from DVS sequence...\n"
     ]
    },
    {
     "name": "stdout",
     "output_type": "stream",
     "text": [
      "Discarded 67 events during subsampling.\nDiscarded 301 events during 3-sigma standardization.\nExtracting batch of samples à 5000 events from DVS sequence...\nDiscarded 232 events during subsampling.\nDiscarded 278 events during 3-sigma standardization.\nExtracting batch of samples à 5000 events from DVS sequence...\nDiscarded 520 events during subsampling.\nDiscarded 323 events during 3-sigma standardization.\nExtracting batch of samples à 5000 events from DVS sequence...\nDiscarded 529 events during subsampling.\nDiscarded 342 events during 3-sigma standardization.\nExtracting batch of samples à 5000 events from DVS sequence...\nDiscarded 547 events during subsampling.\nDiscarded 376 events during 3-sigma standardization.\nExtracting batch of samples à 5000 events from DVS sequence...\nDiscarded 464 events during subsampling.\nDiscarded 313 events during 3-sigma standardization."
     ]
    },
    {
     "name": "stdout",
     "output_type": "stream",
     "text": [
      "\nExtracting batch of samples à 5000 events from DVS sequence...\nDiscarded 582 events during subsampling.\nDiscarded 261 events during 3-sigma standardization.\nExtracting batch of samples à 5000 events from DVS sequence...\nDiscarded 70 events during subsampling.\nDiscarded 320 events during 3-sigma standardization.\nExtracting batch of samples à 5000 events from DVS sequence...\nDiscarded 179 events during subsampling.\nDiscarded 314 events during 3-sigma standardization.\nExtracting batch of samples à 5000 events from DVS sequence...\nDiscarded 103 events during subsampling.\nDiscarded 335 events during 3-sigma standardization.\nExtracting batch of samples à 5000 events from DVS sequence...\nDiscarded 450 events during subsampling.\nDiscarded 270 events during 3-sigma standardization.\n"
     ]
    },
    {
     "name": "stdout",
     "output_type": "stream",
     "text": [
      "Extracting batch of samples à 5000 events from DVS sequence...\nDiscarded 376 events during subsampling.\nDiscarded 332 events during 3-sigma standardization.\nExtracting batch of samples à 5000 events from DVS sequence...\nDiscarded 1134 events during subsampling.\nDiscarded 238 events during 3-sigma standardization.\nExtracting batch of samples à 5000 events from DVS sequence...\nDiscarded 136 events during subsampling.\nDiscarded 321 events during 3-sigma standardization.\nExtracting batch of samples à 5000 events from DVS sequence...\nDiscarded 29 events during subsampling.\nDiscarded 384 events during 3-sigma standardization.\nExtracting batch of samples à 5000 events from DVS sequence...\nDiscarded 91 events during subsampling.\nDiscarded 356 events during 3-sigma standardization.\nExtracting batch of samples à 5000 events from DVS sequence..."
     ]
    },
    {
     "name": "stdout",
     "output_type": "stream",
     "text": [
      "\nDiscarded 14 events during subsampling.\nDiscarded 420 events during 3-sigma standardization.\nExtracting batch of samples à 5000 events from DVS sequence...\nDiscarded 98 events during subsampling.\nDiscarded 395 events during 3-sigma standardization.\nExtracting batch of samples à 5000 events from DVS sequence...\nDiscarded 369 events during subsampling.\nDiscarded 348 events during 3-sigma standardization.\nExtracting batch of samples à 5000 events from DVS sequence...\nDiscarded 435 events during subsampling.\nDiscarded 342 events during 3-sigma standardization.\nExtracting batch of samples à 5000 events from DVS sequence...\nDiscarded 141 events during subsampling.\nDiscarded 369 events during 3-sigma standardization.\nExtracting batch of samples à 5000 events from DVS sequence..."
     ]
    },
    {
     "name": "stdout",
     "output_type": "stream",
     "text": [
      "\nDiscarded 340 events during subsampling.\nDiscarded 384 events during 3-sigma standardization.\nExtracting batch of samples à 5000 events from DVS sequence...\nDiscarded 77 events during subsampling.\nDiscarded 460 events during 3-sigma standardization.\nExtracting batch of samples à 5000 events from DVS sequence...\nDiscarded 106 events during subsampling.\nDiscarded 424 events during 3-sigma standardization.\nExtracting batch of samples à 5000 events from DVS sequence...\nDiscarded 151 events during subsampling.\nDiscarded 414 events during 3-sigma standardization.\nExtracting batch of samples à 5000 events from DVS sequence...\nDiscarded 130 events during subsampling.\nDiscarded 406 events during 3-sigma standardization.\n"
     ]
    },
    {
     "name": "stdout",
     "output_type": "stream",
     "text": [
      "Extracting batch of samples à 5000 events from DVS sequence...\nDiscarded 437 events during subsampling.\nDiscarded 374 events during 3-sigma standardization.\nExtracting batch of samples à 5000 events from DVS sequence...\nDiscarded 172 events during subsampling.\nDiscarded 398 events during 3-sigma standardization.\nExtracting batch of samples à 5000 events from DVS sequence...\nDiscarded 34 events during subsampling.\nDiscarded 408 events during 3-sigma standardization.\nExtracting batch of samples à 5000 events from DVS sequence...\nDiscarded 13 events during subsampling.\nDiscarded 455 events during 3-sigma standardization.\nExtracting batch of samples à 5000 events from DVS sequence...\nDiscarded 232 events during subsampling.\nDiscarded 389 events during 3-sigma standardization.\n"
     ]
    },
    {
     "name": "stdout",
     "output_type": "stream",
     "text": [
      "Extracting batch of samples à 5000 events from DVS sequence...\nDiscarded 540 events during subsampling.\nDiscarded 320 events during 3-sigma standardization.\nExtracting batch of samples à 5000 events from DVS sequence...\nDiscarded 425 events during subsampling.\nDiscarded 345 events during 3-sigma standardization.\nExtracting batch of samples à 5000 events from DVS sequence...\nDiscarded 451 events during subsampling.\nDiscarded 354 events during 3-sigma standardization.\nExtracting batch of samples à 5000 events from DVS sequence...\nDiscarded 402 events during subsampling.\nDiscarded 341 events during 3-sigma standardization.\nExtracting batch of samples à 5000 events from DVS sequence...\nDiscarded 54 events during subsampling.\nDiscarded 399 events during 3-sigma standardization.\n"
     ]
    },
    {
     "name": "stdout",
     "output_type": "stream",
     "text": [
      "Extracting batch of samples à 5000 events from DVS sequence...\nDiscarded 381 events during subsampling.\nDiscarded 404 events during 3-sigma standardization.\nExtracting batch of samples à 5000 events from DVS sequence...\nDiscarded 410 events during subsampling.\nDiscarded 419 events during 3-sigma standardization.\nExtracting batch of samples à 5000 events from DVS sequence...\nDiscarded 581 events during subsampling.\nDiscarded 268 events during 3-sigma standardization.\nExtracting batch of samples à 5000 events from DVS sequence...\nDiscarded 269 events during subsampling.\nDiscarded 317 events during 3-sigma standardization.\nExtracting batch of samples à 5000 events from DVS sequence...\nDiscarded 633 events during subsampling.\nDiscarded 271 events during 3-sigma standardization.\nExtracting batch of samples à 5000 events from DVS sequence..."
     ]
    },
    {
     "name": "stdout",
     "output_type": "stream",
     "text": [
      "\nDiscarded 450 events during subsampling.\nDiscarded 322 events during 3-sigma standardization.\nExtracting batch of samples à 5000 events from DVS sequence...\nDiscarded 86 events during subsampling.\nDiscarded 307 events during 3-sigma standardization.\nExtracting batch of samples à 5000 events from DVS sequence...\nDiscarded 491 events during subsampling.\nDiscarded 279 events during 3-sigma standardization.\nExtracting batch of samples à 5000 events from DVS sequence...\nDiscarded 56 events during subsampling.\nDiscarded 311 events during 3-sigma standardization.\nExtracting batch of samples à 5000 events from DVS sequence...\nDiscarded 312 events during subsampling.\nDiscarded 268 events during 3-sigma standardization.\nExtracting batch of samples à 5000 events from DVS sequence...\n"
     ]
    },
    {
     "name": "stdout",
     "output_type": "stream",
     "text": [
      "Discarded 538 events during subsampling.\nDiscarded 364 events during 3-sigma standardization.\nExtracting batch of samples à 5000 events from DVS sequence...\nDiscarded 456 events during subsampling.\nDiscarded 282 events during 3-sigma standardization.\nExtracting batch of samples à 5000 events from DVS sequence...\nDiscarded 18 events during subsampling.\nDiscarded 304 events during 3-sigma standardization.\nExtracting batch of samples à 5000 events from DVS sequence...\nDiscarded 329 events during subsampling.\nDiscarded 368 events during 3-sigma standardization.\nExtracting batch of samples à 5000 events from DVS sequence...\nDiscarded 165 events during subsampling.\nDiscarded 449 events during 3-sigma standardization.\n"
     ]
    },
    {
     "name": "stdout",
     "output_type": "stream",
     "text": [
      "Extracting batch of samples à 5000 events from DVS sequence...\nDiscarded 187 events during subsampling.\nDiscarded 428 events during 3-sigma standardization.\nExtracting batch of samples à 5000 events from DVS sequence...\nDiscarded 335 events during subsampling.\nDiscarded 371 events during 3-sigma standardization.\nExtracting batch of samples à 5000 events from DVS sequence...\nDiscarded 215 events during subsampling.\nDiscarded 427 events during 3-sigma standardization.\nExtracting batch of samples à 5000 events from DVS sequence...\nDiscarded 346 events during subsampling.\nDiscarded 437 events during 3-sigma standardization.\nExtracting batch of samples à 5000 events from DVS sequence...\nDiscarded 248 events during subsampling.\nDiscarded 267 events during 3-sigma standardization.\nExtracting batch of samples à 5000 events from DVS sequence..."
     ]
    },
    {
     "name": "stdout",
     "output_type": "stream",
     "text": [
      "\nDiscarded 307 events during subsampling.\nDiscarded 472 events during 3-sigma standardization.\nExtracting batch of samples à 5000 events from DVS sequence...\nDiscarded 267 events during subsampling.\nDiscarded 339 events during 3-sigma standardization.\nExtracting batch of samples à 5000 events from DVS sequence...\nDiscarded 397 events during subsampling.\nDiscarded 297 events during 3-sigma standardization.\nExtracting batch of samples à 5000 events from DVS sequence...\nDiscarded 529 events during subsampling.\nDiscarded 209 events during 3-sigma standardization.\nExtracting batch of samples à 5000 events from DVS sequence...\nDiscarded 537 events during subsampling.\nDiscarded 221 events during 3-sigma standardization.\nExtracting batch of samples à 5000 events from DVS sequence...\n"
     ]
    },
    {
     "name": "stdout",
     "output_type": "stream",
     "text": [
      "Discarded 436 events during subsampling.\nDiscarded 251 events during 3-sigma standardization.\nExtracting batch of samples à 5000 events from DVS sequence...\nDiscarded 490 events during subsampling.\nDiscarded 226 events during 3-sigma standardization.\nExtracting batch of samples à 5000 events from DVS sequence...\nDiscarded 420 events during subsampling.\nDiscarded 228 events during 3-sigma standardization.\nExtracting batch of samples à 5000 events from DVS sequence...\nDiscarded 469 events during subsampling.\nDiscarded 211 events during 3-sigma standardization.\nExtracting batch of samples à 5000 events from DVS sequence...\nDiscarded 450 events during subsampling.\nDiscarded 196 events during 3-sigma standardization.\n"
     ]
    },
    {
     "name": "stdout",
     "output_type": "stream",
     "text": [
      "Extracting batch of samples à 5000 events from DVS sequence...\nDiscarded 373 events during subsampling.\nDiscarded 201 events during 3-sigma standardization.\nExtracting batch of samples à 5000 events from DVS sequence...\nDiscarded 430 events during subsampling.\nDiscarded 245 events during 3-sigma standardization.\nExtracting batch of samples à 5000 events from DVS sequence...\nDiscarded 454 events during subsampling.\nDiscarded 208 events during 3-sigma standardization.\nExtracting batch of samples à 5000 events from DVS sequence...\nDiscarded 214 events during subsampling.\nDiscarded 347 events during 3-sigma standardization.\nExtracting batch of samples à 5000 events from DVS sequence...\nDiscarded 335 events during subsampling.\nDiscarded 258 events during 3-sigma standardization.\n"
     ]
    },
    {
     "name": "stdout",
     "output_type": "stream",
     "text": [
      "Extracting batch of samples à 5000 events from DVS sequence...\nDiscarded 1339 events during subsampling.\nDiscarded 231 events during 3-sigma standardization.\nExtracting batch of samples à 5000 events from DVS sequence...\nDiscarded 1144 events during subsampling.\nDiscarded 251 events during 3-sigma standardization.\nExtracting batch of samples à 5000 events from DVS sequence...\nDiscarded 21 events during subsampling.\nDiscarded 367 events during 3-sigma standardization.\nExtracting batch of samples à 5000 events from DVS sequence...\nDiscarded 683 events during subsampling.\nDiscarded 281 events during 3-sigma standardization.\nExtracting batch of samples à 5000 events from DVS sequence...\nDiscarded 1485 events during subsampling.\nDiscarded 204 events during 3-sigma standardization.\nExtracting batch of samples à 5000 events from DVS sequence...\n"
     ]
    },
    {
     "name": "stdout",
     "output_type": "stream",
     "text": [
      "Discarded 136 events during subsampling.\nDiscarded 358 events during 3-sigma standardization.\nExtracting batch of samples à 5000 events from DVS sequence...\nDiscarded 108 events during subsampling.\nDiscarded 349 events during 3-sigma standardization.\nExtracting batch of samples à 5000 events from DVS sequence...\nDiscarded 354 events during subsampling.\nDiscarded 334 events during 3-sigma standardization.\nExtracting batch of samples à 5000 events from DVS sequence...\nDiscarded 357 events during subsampling.\nDiscarded 540 events during 3-sigma standardization.\nExtracting batch of samples à 5000 events from DVS sequence...\nDiscarded 383 events during subsampling.\nDiscarded 475 events during 3-sigma standardization.\nExtracting batch of samples à 5000 events from DVS sequence...\n"
     ]
    },
    {
     "name": "stdout",
     "output_type": "stream",
     "text": [
      "Discarded 295 events during subsampling.\nDiscarded 436 events during 3-sigma standardization.\nExtracting batch of samples à 5000 events from DVS sequence...\nDiscarded 337 events during subsampling.\nDiscarded 497 events during 3-sigma standardization.\nExtracting batch of samples à 5000 events from DVS sequence...\nDiscarded 283 events during subsampling.\nDiscarded 596 events during 3-sigma standardization.\nExtracting batch of samples à 5000 events from DVS sequence...\nDiscarded 168 events during subsampling.\nDiscarded 416 events during 3-sigma standardization.\nExtracting batch of samples à 5000 events from DVS sequence...\nDiscarded 447 events during subsampling.\nDiscarded 355 events during 3-sigma standardization.\nExtracting batch of samples à 5000 events from DVS sequence...\nDiscarded 525 events during subsampling.\n"
     ]
    },
    {
     "name": "stdout",
     "output_type": "stream",
     "text": [
      "Discarded 267 events during 3-sigma standardization.\nExtracting batch of samples à 5000 events from DVS sequence...\nDiscarded 508 events during subsampling.\nDiscarded 289 events during 3-sigma standardization.\nExtracting batch of samples à 5000 events from DVS sequence...\nDiscarded 1376 events during subsampling.\nDiscarded 247 events during 3-sigma standardization.\nExtracting batch of samples à 5000 events from DVS sequence...\nDiscarded 590 events during subsampling.\nDiscarded 301 events during 3-sigma standardization.\nExtracting batch of samples à 5000 events from DVS sequence...\nDiscarded 422 events during subsampling.\nDiscarded 309 events during 3-sigma standardization.\nExtracting batch of samples à 5000 events from DVS sequence...\nDiscarded 498 events during subsampling.\nDiscarded 305 events during 3-sigma standardization.\nExtracting batch of samples à 5000 events from DVS sequence...\n"
     ]
    },
    {
     "name": "stdout",
     "output_type": "stream",
     "text": [
      "Discarded 1026 events during subsampling.\nDiscarded 245 events during 3-sigma standardization.\nExtracting batch of samples à 5000 events from DVS sequence...\nDiscarded 551 events during subsampling.\nDiscarded 293 events during 3-sigma standardization.\nExtracting batch of samples à 5000 events from DVS sequence...\nDiscarded 858 events during subsampling.\nDiscarded 307 events during 3-sigma standardization.\nExtracting batch of samples à 5000 events from DVS sequence...\nDiscarded 368 events during subsampling.\nDiscarded 297 events during 3-sigma standardization.\nExtracting batch of samples à 5000 events from DVS sequence...\nDiscarded 459 events during subsampling.\nDiscarded 325 events during 3-sigma standardization.\nExtracting batch of samples à 5000 events from DVS sequence...\n"
     ]
    },
    {
     "name": "stdout",
     "output_type": "stream",
     "text": [
      "Discarded 568 events during subsampling.\nDiscarded 284 events during 3-sigma standardization.\nExtracting batch of samples à 5000 events from DVS sequence...\nDiscarded 320 events during subsampling.\nDiscarded 306 events during 3-sigma standardization.\nExtracting batch of samples à 5000 events from DVS sequence...\nDiscarded 38 events during subsampling.\nDiscarded 461 events during 3-sigma standardization.\nExtracting batch of samples à 5000 events from DVS sequence...\nDiscarded 314 events during subsampling.\nDiscarded 353 events during 3-sigma standardization.\nExtracting batch of samples à 5000 events from DVS sequence...\nDiscarded 612 events during subsampling.\nDiscarded 341 events during 3-sigma standardization.\nExtracting batch of samples à 5000 events from DVS sequence...\n"
     ]
    },
    {
     "name": "stdout",
     "output_type": "stream",
     "text": [
      "Discarded 421 events during subsampling.\nDiscarded 376 events during 3-sigma standardization.\nExtracting batch of samples à 5000 events from DVS sequence...\nDiscarded 11 events during subsampling.\nDiscarded 406 events during 3-sigma standardization.\nExtracting batch of samples à 5000 events from DVS sequence...\nDiscarded 111 events during subsampling.\nDiscarded 401 events during 3-sigma standardization.\nExtracting batch of samples à 5000 events from DVS sequence...\nDiscarded 146 events during subsampling.\nDiscarded 377 events during 3-sigma standardization.\nExtracting batch of samples à 5000 events from DVS sequence...\nDiscarded 377 events during subsampling.\nDiscarded 413 events during 3-sigma standardization.\nExtracting batch of samples à 5000 events from DVS sequence...\n"
     ]
    },
    {
     "name": "stdout",
     "output_type": "stream",
     "text": [
      "Discarded 23 events during subsampling.\nDiscarded 418 events during 3-sigma standardization.\nExtracting batch of samples à 5000 events from DVS sequence...\nDiscarded 577 events during subsampling.\nDiscarded 326 events during 3-sigma standardization.\nExtracting batch of samples à 5000 events from DVS sequence...\nDiscarded 103 events during subsampling.\nDiscarded 368 events during 3-sigma standardization.\nExtracting batch of samples à 5000 events from DVS sequence...\nDiscarded 570 events during subsampling.\nDiscarded 317 events during 3-sigma standardization.\nExtracting batch of samples à 5000 events from DVS sequence...\nDiscarded 184 events during subsampling.\nDiscarded 355 events during 3-sigma standardization.\nExtracting batch of samples à 5000 events from DVS sequence...\nDiscarded 3 events during subsampling.\nDiscarded 361 events during 3-sigma standardization.\n"
     ]
    },
    {
     "name": "stdout",
     "output_type": "stream",
     "text": [
      "Extracting batch of samples à 5000 events from DVS sequence...\nDiscarded 404 events during subsampling.\nDiscarded 342 events during 3-sigma standardization.\nExtracting batch of samples à 5000 events from DVS sequence...\nDiscarded 524 events during subsampling.\nDiscarded 335 events during 3-sigma standardization.\nExtracting batch of samples à 5000 events from DVS sequence...\nDiscarded 275 events during subsampling.\nDiscarded 396 events during 3-sigma standardization.\nExtracting batch of samples à 5000 events from DVS sequence...\nDiscarded 648 events during subsampling.\nDiscarded 353 events during 3-sigma standardization.\nExtracting batch of samples à 5000 events from DVS sequence...\nDiscarded 49 events during subsampling.\nDiscarded 408 events during 3-sigma standardization.\nExtracting batch of samples à 5000 events from DVS sequence..."
     ]
    },
    {
     "name": "stdout",
     "output_type": "stream",
     "text": [
      "\nDiscarded 69 events during subsampling.\nDiscarded 376 events during 3-sigma standardization.\nExtracting batch of samples à 5000 events from DVS sequence...\nDiscarded 156 events during subsampling.\nDiscarded 385 events during 3-sigma standardization.\nExtracting batch of samples à 5000 events from DVS sequence...\nDiscarded 199 events during subsampling.\nDiscarded 337 events during 3-sigma standardization.\nExtracting batch of samples à 5000 events from DVS sequence...\nDiscarded 498 events during subsampling.\nDiscarded 281 events during 3-sigma standardization.\nExtracting batch of samples à 5000 events from DVS sequence...\nDiscarded 211 events during subsampling.\nDiscarded 318 events during 3-sigma standardization.\nExtracting batch of samples à 5000 events from DVS sequence...\n"
     ]
    },
    {
     "name": "stdout",
     "output_type": "stream",
     "text": [
      "Discarded 170 events during subsampling.\nDiscarded 244 events during 3-sigma standardization.\nExtracting batch of samples à 5000 events from DVS sequence...\nDiscarded 333 events during subsampling.\nDiscarded 294 events during 3-sigma standardization.\nExtracting batch of samples à 5000 events from DVS sequence...\nDiscarded 663 events during subsampling.\nDiscarded 246 events during 3-sigma standardization.\nExtracting batch of samples à 5000 events from DVS sequence...\nDiscarded 507 events during subsampling.\nDiscarded 266 events during 3-sigma standardization.\nExtracting batch of samples à 5000 events from DVS sequence...\nDiscarded 42 events during subsampling.\nDiscarded 299 events during 3-sigma standardization.\nExtracting batch of samples à 5000 events from DVS sequence...\n"
     ]
    },
    {
     "name": "stdout",
     "output_type": "stream",
     "text": [
      "Discarded 510 events during subsampling.\nDiscarded 314 events during 3-sigma standardization.\nExtracting batch of samples à 5000 events from DVS sequence...\nDiscarded 416 events during subsampling.\nDiscarded 350 events during 3-sigma standardization.\nExtracting batch of samples à 5000 events from DVS sequence...\nDiscarded 461 events during subsampling.\nDiscarded 327 events during 3-sigma standardization.\nExtracting batch of samples à 5000 events from DVS sequence...\nDiscarded 442 events during subsampling.\nDiscarded 306 events during 3-sigma standardization.\nExtracting batch of samples à 5000 events from DVS sequence...\nDiscarded 396 events during subsampling.\nDiscarded 305 events during 3-sigma standardization.\nExtracting batch of samples à 5000 events from DVS sequence...\n"
     ]
    },
    {
     "name": "stdout",
     "output_type": "stream",
     "text": [
      "Discarded 558 events during subsampling.\nDiscarded 267 events during 3-sigma standardization.\nExtracting batch of samples à 5000 events from DVS sequence...\nDiscarded 509 events during subsampling.\nDiscarded 234 events during 3-sigma standardization.\nExtracting batch of samples à 5000 events from DVS sequence...\nDiscarded 211 events during subsampling.\nDiscarded 319 events during 3-sigma standardization.\nExtracting batch of samples à 5000 events from DVS sequence...\nDiscarded 358 events during subsampling.\nDiscarded 261 events during 3-sigma standardization.\nExtracting batch of samples à 5000 events from DVS sequence...\nDiscarded 420 events during subsampling.\nDiscarded 284 events during 3-sigma standardization.\n"
     ]
    },
    {
     "name": "stdout",
     "output_type": "stream",
     "text": [
      "Extracting batch of samples à 5000 events from DVS sequence...\nDiscarded 421 events during subsampling.\nDiscarded 283 events during 3-sigma standardization.\nExtracting batch of samples à 5000 events from DVS sequence...\nDiscarded 49 events during subsampling.\nDiscarded 290 events during 3-sigma standardization.\nExtracting batch of samples à 5000 events from DVS sequence...\nDiscarded 498 events during subsampling.\nDiscarded 324 events during 3-sigma standardization.\nExtracting batch of samples à 5000 events from DVS sequence...\nDiscarded 746 events during subsampling.\nDiscarded 287 events during 3-sigma standardization.\nExtracting batch of samples à 5000 events from DVS sequence...\nDiscarded 107 events during subsampling.\nDiscarded 344 events during 3-sigma standardization.\nExtracting batch of samples à 5000 events from DVS sequence..."
     ]
    },
    {
     "name": "stdout",
     "output_type": "stream",
     "text": [
      "\nDiscarded 147 events during subsampling.\nDiscarded 304 events during 3-sigma standardization.\nExtracting batch of samples à 5000 events from DVS sequence...\nDiscarded 636 events during subsampling.\nDiscarded 309 events during 3-sigma standardization.\nExtracting batch of samples à 5000 events from DVS sequence...\nDiscarded 441 events during subsampling.\nDiscarded 316 events during 3-sigma standardization.\nExtracting batch of samples à 5000 events from DVS sequence...\nDiscarded 465 events during subsampling.\nDiscarded 318 events during 3-sigma standardization.\nExtracting batch of samples à 5000 events from DVS sequence...\nDiscarded 193 events during subsampling.\nDiscarded 340 events during 3-sigma standardization.\nExtracting batch of samples à 5000 events from DVS sequence..."
     ]
    },
    {
     "name": "stdout",
     "output_type": "stream",
     "text": [
      "\nDiscarded 438 events during subsampling.\nDiscarded 309 events during 3-sigma standardization.\nExtracting batch of samples à 5000 events from DVS sequence...\nDiscarded 236 events during subsampling.\nDiscarded 282 events during 3-sigma standardization.\nExtracting batch of samples à 5000 events from DVS sequence...\nDiscarded 58 events during subsampling.\nDiscarded 285 events during 3-sigma standardization.\nExtracting batch of samples à 5000 events from DVS sequence...\nDiscarded 394 events during subsampling.\nDiscarded 281 events during 3-sigma standardization.\nExtracting batch of samples à 5000 events from DVS sequence...\nDiscarded 401 events during subsampling.\nDiscarded 288 events during 3-sigma standardization.\n"
     ]
    },
    {
     "name": "stdout",
     "output_type": "stream",
     "text": [
      "Extracting batch of samples à 5000 events from DVS sequence...\nDiscarded 663 events during subsampling.\nDiscarded 273 events during 3-sigma standardization.\nExtracting batch of samples à 5000 events from DVS sequence...\nDiscarded 68 events during subsampling.\nDiscarded 315 events during 3-sigma standardization.\nExtracting batch of samples à 5000 events from DVS sequence...\nDiscarded 143 events during subsampling.\nDiscarded 247 events during 3-sigma standardization.\nExtracting batch of samples à 5000 events from DVS sequence...\nDiscarded 1391 events during subsampling.\nDiscarded 180 events during 3-sigma standardization.\nExtracting batch of samples à 5000 events from DVS sequence...\nDiscarded 418 events during subsampling.\nDiscarded 272 events during 3-sigma standardization.\nExtracting batch of samples à 5000 events from DVS sequence..."
     ]
    },
    {
     "name": "stdout",
     "output_type": "stream",
     "text": [
      "\nDiscarded 577 events during subsampling.\nDiscarded 264 events during 3-sigma standardization.\nExtracting batch of samples à 5000 events from DVS sequence...\nDiscarded 343 events during subsampling.\nDiscarded 346 events during 3-sigma standardization.\nExtracting batch of samples à 5000 events from DVS sequence...\nDiscarded 496 events during subsampling.\nDiscarded 264 events during 3-sigma standardization.\nExtracting batch of samples à 5000 events from DVS sequence...\nDiscarded 537 events during subsampling.\nDiscarded 317 events during 3-sigma standardization.\nExtracting batch of samples à 5000 events from DVS sequence...\nDiscarded 170 events during subsampling.\nDiscarded 339 events during 3-sigma standardization.\nExtracting batch of samples à 5000 events from DVS sequence..."
     ]
    },
    {
     "name": "stdout",
     "output_type": "stream",
     "text": [
      "\nDiscarded 474 events during subsampling.\nDiscarded 281 events during 3-sigma standardization.\nExtracting batch of samples à 5000 events from DVS sequence...\nDiscarded 693 events during subsampling.\nDiscarded 252 events during 3-sigma standardization.\nExtracting batch of samples à 5000 events from DVS sequence...\nDiscarded 128 events during subsampling.\nDiscarded 306 events during 3-sigma standardization.\nExtracting batch of samples à 5000 events from DVS sequence...\nDiscarded 0 events during subsampling.\nDiscarded 337 events during 3-sigma standardization.\nExtracting batch of samples à 5000 events from DVS sequence...\nDiscarded 103 events during subsampling.\nDiscarded 333 events during 3-sigma standardization.\n"
     ]
    },
    {
     "name": "stdout",
     "output_type": "stream",
     "text": [
      "Extracting batch of samples à 5000 events from DVS sequence...\nDiscarded 648 events during subsampling.\nDiscarded 291 events during 3-sigma standardization.\nExtracting batch of samples à 5000 events from DVS sequence...\nDiscarded 481 events during subsampling.\nDiscarded 343 events during 3-sigma standardization.\nExtracting batch of samples à 5000 events from DVS sequence...\nDiscarded 237 events during subsampling.\nDiscarded 334 events during 3-sigma standardization.\nExtracting batch of samples à 5000 events from DVS sequence...\nDiscarded 305 events during subsampling.\nDiscarded 303 events during 3-sigma standardization.\nExtracting batch of samples à 5000 events from DVS sequence...\nDiscarded 47 events during subsampling.\nDiscarded 303 events during 3-sigma standardization.\n"
     ]
    },
    {
     "name": "stdout",
     "output_type": "stream",
     "text": [
      "Extracting batch of samples à 5000 events from DVS sequence...\nDiscarded 95 events during subsampling.\nDiscarded 277 events during 3-sigma standardization.\nLoading DVS sample /home/rbodo/.snntoolbox/Datasets/predator_prey/aedat/not_balanced_4834samples/N/rec_11.aedat...\n"
     ]
    },
    {
     "name": "stdout",
     "output_type": "stream",
     "text": [
      "Total number of events of this sample: 530000.\nNumber of batches: 106.\nExtracting 106 frames from DVS event sequence.\n"
     ]
    },
    {
     "name": "stdout",
     "output_type": "stream",
     "text": [
      "Extracting batch of samples à 5000 events from DVS sequence...\nDiscarded 535 events during subsampling.\nDiscarded 314 events during 3-sigma standardization.\nExtracting batch of samples à 5000 events from DVS sequence...\nDiscarded 195 events during subsampling.\nDiscarded 310 events during 3-sigma standardization.\nExtracting batch of samples à 5000 events from DVS sequence...\nDiscarded 258 events during subsampling.\nDiscarded 279 events during 3-sigma standardization.\nExtracting batch of samples à 5000 events from DVS sequence...\nDiscarded 463 events during subsampling.\nDiscarded 292 events during 3-sigma standardization.\nExtracting batch of samples à 5000 events from DVS sequence...\nDiscarded 81 events during subsampling."
     ]
    },
    {
     "name": "stdout",
     "output_type": "stream",
     "text": [
      "\nDiscarded 273 events during 3-sigma standardization.\nExtracting batch of samples à 5000 events from DVS sequence...\nDiscarded 567 events during subsampling.\nDiscarded 308 events during 3-sigma standardization.\nExtracting batch of samples à 5000 events from DVS sequence...\nDiscarded 404 events during subsampling.\nDiscarded 243 events during 3-sigma standardization.\nExtracting batch of samples à 5000 events from DVS sequence...\nDiscarded 94 events during subsampling.\nDiscarded 306 events during 3-sigma standardization.\nExtracting batch of samples à 5000 events from DVS sequence...\nDiscarded 426 events during subsampling.\nDiscarded 287 events during 3-sigma standardization.\n"
     ]
    },
    {
     "name": "stdout",
     "output_type": "stream",
     "text": [
      "Extracting batch of samples à 5000 events from DVS sequence...\nDiscarded 481 events during subsampling.\nDiscarded 307 events during 3-sigma standardization.\nExtracting batch of samples à 5000 events from DVS sequence...\nDiscarded 496 events during subsampling.\nDiscarded 252 events during 3-sigma standardization.\nExtracting batch of samples à 5000 events from DVS sequence...\nDiscarded 276 events during subsampling.\nDiscarded 338 events during 3-sigma standardization.\nExtracting batch of samples à 5000 events from DVS sequence...\nDiscarded 502 events during subsampling.\nDiscarded 266 events during 3-sigma standardization.\nExtracting batch of samples à 5000 events from DVS sequence...\nDiscarded 115 events during subsampling.\nDiscarded 282 events during 3-sigma standardization.\n"
     ]
    },
    {
     "name": "stdout",
     "output_type": "stream",
     "text": [
      "Extracting batch of samples à 5000 events from DVS sequence...\nDiscarded 599 events during subsampling.\nDiscarded 271 events during 3-sigma standardization.\nExtracting batch of samples à 5000 events from DVS sequence...\nDiscarded 668 events during subsampling.\nDiscarded 265 events during 3-sigma standardization.\nExtracting batch of samples à 5000 events from DVS sequence...\nDiscarded 236 events during subsampling.\nDiscarded 301 events during 3-sigma standardization.\nExtracting batch of samples à 5000 events from DVS sequence...\nDiscarded 983 events during subsampling.\nDiscarded 318 events during 3-sigma standardization.\nExtracting batch of samples à 5000 events from DVS sequence...\nDiscarded 37 events during subsampling.\nDiscarded 358 events during 3-sigma standardization.\n"
     ]
    },
    {
     "name": "stdout",
     "output_type": "stream",
     "text": [
      "Extracting batch of samples à 5000 events from DVS sequence...\nDiscarded 279 events during subsampling.\nDiscarded 357 events during 3-sigma standardization.\nExtracting batch of samples à 5000 events from DVS sequence...\nDiscarded 54 events during subsampling.\nDiscarded 326 events during 3-sigma standardization.\nExtracting batch of samples à 5000 events from DVS sequence...\nDiscarded 464 events during subsampling.\nDiscarded 246 events during 3-sigma standardization.\nExtracting batch of samples à 5000 events from DVS sequence...\nDiscarded 27 events during subsampling.\nDiscarded 250 events during 3-sigma standardization.\nExtracting batch of samples à 5000 events from DVS sequence...\nDiscarded 277 events during subsampling.\nDiscarded 387 events during 3-sigma standardization."
     ]
    },
    {
     "name": "stdout",
     "output_type": "stream",
     "text": [
      "\nExtracting batch of samples à 5000 events from DVS sequence...\nDiscarded 79 events during subsampling.\nDiscarded 415 events during 3-sigma standardization.\nExtracting batch of samples à 5000 events from DVS sequence...\nDiscarded 620 events during subsampling.\nDiscarded 313 events during 3-sigma standardization.\nExtracting batch of samples à 5000 events from DVS sequence...\nDiscarded 121 events during subsampling.\nDiscarded 368 events during 3-sigma standardization.\nExtracting batch of samples à 5000 events from DVS sequence...\nDiscarded 40 events during subsampling.\nDiscarded 392 events during 3-sigma standardization.\nExtracting batch of samples à 5000 events from DVS sequence...\nDiscarded 1434 events during subsampling.\n"
     ]
    },
    {
     "name": "stdout",
     "output_type": "stream",
     "text": [
      "Discarded 231 events during 3-sigma standardization.\nExtracting batch of samples à 5000 events from DVS sequence...\nDiscarded 92 events during subsampling.\nDiscarded 350 events during 3-sigma standardization.\nExtracting batch of samples à 5000 events from DVS sequence...\nDiscarded 321 events during subsampling.\nDiscarded 312 events during 3-sigma standardization.\nExtracting batch of samples à 5000 events from DVS sequence...\nDiscarded 220 events during subsampling.\nDiscarded 334 events during 3-sigma standardization.\nExtracting batch of samples à 5000 events from DVS sequence...\nDiscarded 23 events during subsampling.\nDiscarded 422 events during 3-sigma standardization."
     ]
    },
    {
     "name": "stdout",
     "output_type": "stream",
     "text": [
      "\nExtracting batch of samples à 5000 events from DVS sequence...\nDiscarded 5 events during subsampling.\nDiscarded 443 events during 3-sigma standardization.\nExtracting batch of samples à 5000 events from DVS sequence...\nDiscarded 620 events during subsampling.\nDiscarded 347 events during 3-sigma standardization.\nExtracting batch of samples à 5000 events from DVS sequence...\nDiscarded 189 events during subsampling.\nDiscarded 313 events during 3-sigma standardization.\nExtracting batch of samples à 5000 events from DVS sequence...\nDiscarded 585 events during subsampling.\nDiscarded 341 events during 3-sigma standardization.\nExtracting batch of samples à 5000 events from DVS sequence...\nDiscarded 570 events during subsampling.\nDiscarded 343 events during 3-sigma standardization.\nExtracting batch of samples à 5000 events from DVS sequence..."
     ]
    },
    {
     "name": "stdout",
     "output_type": "stream",
     "text": [
      "\nDiscarded 521 events during subsampling.\nDiscarded 329 events during 3-sigma standardization.\nExtracting batch of samples à 5000 events from DVS sequence...\nDiscarded 512 events during subsampling.\nDiscarded 363 events during 3-sigma standardization.\nExtracting batch of samples à 5000 events from DVS sequence...\nDiscarded 267 events during subsampling.\nDiscarded 309 events during 3-sigma standardization.\nExtracting batch of samples à 5000 events from DVS sequence...\nDiscarded 2321 events during subsampling.\nDiscarded 96 events during 3-sigma standardization.\nExtracting batch of samples à 5000 events from DVS sequence...\nDiscarded 567 events during subsampling.\nDiscarded 245 events during 3-sigma standardization.\nExtracting batch of samples à 5000 events from DVS sequence...\nDiscarded 1901 events during subsampling.\nDiscarded 199 events during 3-sigma standardization."
     ]
    },
    {
     "name": "stdout",
     "output_type": "stream",
     "text": [
      "\nExtracting batch of samples à 5000 events from DVS sequence...\nDiscarded 579 events during subsampling.\nDiscarded 236 events during 3-sigma standardization.\nExtracting batch of samples à 5000 events from DVS sequence...\nDiscarded 608 events during subsampling.\nDiscarded 279 events during 3-sigma standardization.\nExtracting batch of samples à 5000 events from DVS sequence...\nDiscarded 523 events during subsampling.\nDiscarded 277 events during 3-sigma standardization.\nExtracting batch of samples à 5000 events from DVS sequence...\nDiscarded 566 events during subsampling.\nDiscarded 265 events during 3-sigma standardization.\nExtracting batch of samples à 5000 events from DVS sequence...\nDiscarded 1769 events during subsampling.\nDiscarded 144 events during 3-sigma standardization.\nExtracting batch of samples à 5000 events from DVS sequence...\n"
     ]
    },
    {
     "name": "stdout",
     "output_type": "stream",
     "text": [
      "Discarded 1320 events during subsampling.\nDiscarded 231 events during 3-sigma standardization.\nExtracting batch of samples à 5000 events from DVS sequence...\nDiscarded 520 events during subsampling.\nDiscarded 282 events during 3-sigma standardization.\nExtracting batch of samples à 5000 events from DVS sequence...\nDiscarded 506 events during subsampling.\nDiscarded 231 events during 3-sigma standardization.\nExtracting batch of samples à 5000 events from DVS sequence...\nDiscarded 6 events during subsampling.\nDiscarded 310 events during 3-sigma standardization.\nExtracting batch of samples à 5000 events from DVS sequence...\nDiscarded 373 events during subsampling.\nDiscarded 368 events during 3-sigma standardization.\nExtracting batch of samples à 5000 events from DVS sequence..."
     ]
    },
    {
     "name": "stdout",
     "output_type": "stream",
     "text": [
      "\nDiscarded 9 events during subsampling.\nDiscarded 410 events during 3-sigma standardization.\nExtracting batch of samples à 5000 events from DVS sequence...\nDiscarded 562 events during subsampling.\nDiscarded 315 events during 3-sigma standardization.\nExtracting batch of samples à 5000 events from DVS sequence...\nDiscarded 9 events during subsampling.\nDiscarded 377 events during 3-sigma standardization.\nExtracting batch of samples à 5000 events from DVS sequence...\nDiscarded 461 events during subsampling.\nDiscarded 349 events during 3-sigma standardization.\nExtracting batch of samples à 5000 events from DVS sequence...\nDiscarded 12 events during subsampling.\nDiscarded 411 events during 3-sigma standardization.\n"
     ]
    },
    {
     "name": "stdout",
     "output_type": "stream",
     "text": [
      "Extracting batch of samples à 5000 events from DVS sequence...\nDiscarded 207 events during subsampling.\nDiscarded 335 events during 3-sigma standardization.\nExtracting batch of samples à 5000 events from DVS sequence...\nDiscarded 23 events during subsampling.\nDiscarded 375 events during 3-sigma standardization.\nExtracting batch of samples à 5000 events from DVS sequence...\nDiscarded 436 events during subsampling.\nDiscarded 407 events during 3-sigma standardization.\nExtracting batch of samples à 5000 events from DVS sequence...\nDiscarded 514 events during subsampling.\nDiscarded 386 events during 3-sigma standardization.\nExtracting batch of samples à 5000 events from DVS sequence...\nDiscarded 127 events during subsampling.\nDiscarded 335 events during 3-sigma standardization.\n"
     ]
    },
    {
     "name": "stdout",
     "output_type": "stream",
     "text": [
      "Extracting batch of samples à 5000 events from DVS sequence...\nDiscarded 283 events during subsampling.\nDiscarded 335 events during 3-sigma standardization.\nExtracting batch of samples à 5000 events from DVS sequence...\nDiscarded 83 events during subsampling.\nDiscarded 407 events during 3-sigma standardization.\nExtracting batch of samples à 5000 events from DVS sequence...\nDiscarded 1146 events during subsampling.\nDiscarded 263 events during 3-sigma standardization.\nExtracting batch of samples à 5000 events from DVS sequence...\nDiscarded 492 events during subsampling.\nDiscarded 334 events during 3-sigma standardization.\nExtracting batch of samples à 5000 events from DVS sequence...\nDiscarded 475 events during subsampling.\nDiscarded 349 events during 3-sigma standardization.\nExtracting batch of samples à 5000 events from DVS sequence...\n"
     ]
    },
    {
     "name": "stdout",
     "output_type": "stream",
     "text": [
      "Discarded 533 events during subsampling.\nDiscarded 382 events during 3-sigma standardization.\nExtracting batch of samples à 5000 events from DVS sequence...\nDiscarded 568 events during subsampling.\nDiscarded 337 events during 3-sigma standardization.\nExtracting batch of samples à 5000 events from DVS sequence...\nDiscarded 266 events during subsampling.\nDiscarded 333 events during 3-sigma standardization.\nExtracting batch of samples à 5000 events from DVS sequence...\nDiscarded 44 events during subsampling.\nDiscarded 372 events during 3-sigma standardization.\nExtracting batch of samples à 5000 events from DVS sequence...\nDiscarded 136 events during subsampling.\nDiscarded 387 events during 3-sigma standardization.\n"
     ]
    },
    {
     "name": "stdout",
     "output_type": "stream",
     "text": [
      "Extracting batch of samples à 5000 events from DVS sequence...\nDiscarded 10 events during subsampling.\nDiscarded 304 events during 3-sigma standardization.\nExtracting batch of samples à 5000 events from DVS sequence...\nDiscarded 141 events during subsampling.\nDiscarded 352 events during 3-sigma standardization.\nExtracting batch of samples à 5000 events from DVS sequence...\nDiscarded 459 events during subsampling.\nDiscarded 341 events during 3-sigma standardization.\nExtracting batch of samples à 5000 events from DVS sequence...\nDiscarded 277 events during subsampling.\nDiscarded 331 events during 3-sigma standardization.\nExtracting batch of samples à 5000 events from DVS sequence...\nDiscarded 517 events during subsampling.\nDiscarded 351 events during 3-sigma standardization.\nExtracting batch of samples à 5000 events from DVS sequence...\n"
     ]
    },
    {
     "name": "stdout",
     "output_type": "stream",
     "text": [
      "Discarded 415 events during subsampling.\nDiscarded 328 events during 3-sigma standardization.\nExtracting batch of samples à 5000 events from DVS sequence...\nDiscarded 92 events during subsampling.\nDiscarded 338 events during 3-sigma standardization.\nExtracting batch of samples à 5000 events from DVS sequence...\nDiscarded 414 events during subsampling.\nDiscarded 350 events during 3-sigma standardization.\nExtracting batch of samples à 5000 events from DVS sequence...\nDiscarded 583 events during subsampling.\nDiscarded 260 events during 3-sigma standardization.\nExtracting batch of samples à 5000 events from DVS sequence...\nDiscarded 594 events during subsampling.\nDiscarded 242 events during 3-sigma standardization.\nExtracting batch of samples à 5000 events from DVS sequence...\n"
     ]
    },
    {
     "name": "stdout",
     "output_type": "stream",
     "text": [
      "Discarded 648 events during subsampling.\nDiscarded 281 events during 3-sigma standardization.\nExtracting batch of samples à 5000 events from DVS sequence...\nDiscarded 593 events during subsampling.\nDiscarded 264 events during 3-sigma standardization.\nExtracting batch of samples à 5000 events from DVS sequence...\nDiscarded 465 events during subsampling.\nDiscarded 277 events during 3-sigma standardization.\nExtracting batch of samples à 5000 events from DVS sequence...\nDiscarded 573 events during subsampling.\nDiscarded 328 events during 3-sigma standardization.\nExtracting batch of samples à 5000 events from DVS sequence...\nDiscarded 597 events during subsampling.\nDiscarded 304 events during 3-sigma standardization.\nExtracting batch of samples à 5000 events from DVS sequence...\nDiscarded 546 events during subsampling."
     ]
    },
    {
     "name": "stdout",
     "output_type": "stream",
     "text": [
      "\nDiscarded 294 events during 3-sigma standardization.\nExtracting batch of samples à 5000 events from DVS sequence...\nDiscarded 529 events during subsampling.\nDiscarded 285 events during 3-sigma standardization.\nExtracting batch of samples à 5000 events from DVS sequence...\nDiscarded 778 events during subsampling.\nDiscarded 267 events during 3-sigma standardization.\nExtracting batch of samples à 5000 events from DVS sequence...\nDiscarded 22 events during subsampling.\nDiscarded 321 events during 3-sigma standardization.\nExtracting batch of samples à 5000 events from DVS sequence...\nDiscarded 33 events during subsampling.\nDiscarded 400 events during 3-sigma standardization.\nExtracting batch of samples à 5000 events from DVS sequence...\n"
     ]
    },
    {
     "name": "stdout",
     "output_type": "stream",
     "text": [
      "Discarded 380 events during subsampling.\nDiscarded 310 events during 3-sigma standardization.\nExtracting batch of samples à 5000 events from DVS sequence...\nDiscarded 1628 events during subsampling.\nDiscarded 201 events during 3-sigma standardization.\nExtracting batch of samples à 5000 events from DVS sequence...\nDiscarded 645 events during subsampling.\nDiscarded 301 events during 3-sigma standardization.\nExtracting batch of samples à 5000 events from DVS sequence...\nDiscarded 641 events during subsampling.\nDiscarded 248 events during 3-sigma standardization.\nExtracting batch of samples à 5000 events from DVS sequence...\nDiscarded 433 events during subsampling.\nDiscarded 318 events during 3-sigma standardization.\nExtracting batch of samples à 5000 events from DVS sequence...\nDiscarded 76 events during subsampling.\nDiscarded 305 events during 3-sigma standardization.\nExtracting batch of samples à 5000 events from DVS sequence..."
     ]
    },
    {
     "name": "stdout",
     "output_type": "stream",
     "text": [
      "\nDiscarded 225 events during subsampling.\nDiscarded 332 events during 3-sigma standardization.\nExtracting batch of samples à 5000 events from DVS sequence...\nDiscarded 299 events during subsampling.\nDiscarded 387 events during 3-sigma standardization.\nExtracting batch of samples à 5000 events from DVS sequence...\nDiscarded 295 events during subsampling.\nDiscarded 351 events during 3-sigma standardization.\nExtracting batch of samples à 5000 events from DVS sequence...\nDiscarded 518 events during subsampling.\nDiscarded 297 events during 3-sigma standardization.\nExtracting batch of samples à 5000 events from DVS sequence...\nDiscarded 521 events during subsampling.\nDiscarded 442 events during 3-sigma standardization.\nLoading DVS sample /home/rbodo/.snntoolbox/Datasets/predator_prey/aedat/not_balanced_4834samples/N/rec_12.aedat...\n"
     ]
    },
    {
     "name": "stdout",
     "output_type": "stream",
     "text": [
      "Total number of events of this sample: 670000.\nNumber of batches: 134.\nExtracting 134 frames from DVS event sequence.\n"
     ]
    },
    {
     "name": "stdout",
     "output_type": "stream",
     "text": [
      "Extracting batch of samples à 5000 events from DVS sequence...\nDiscarded 463 events during subsampling.\nDiscarded 275 events during 3-sigma standardization.\nExtracting batch of samples à 5000 events from DVS sequence...\nDiscarded 94 events during subsampling.\nDiscarded 314 events during 3-sigma standardization.\nExtracting batch of samples à 5000 events from DVS sequence...\nDiscarded 567 events during subsampling.\nDiscarded 282 events during 3-sigma standardization.\nExtracting batch of samples à 5000 events from DVS sequence...\nDiscarded 514 events during subsampling.\nDiscarded 322 events during 3-sigma standardization.\nExtracting batch of samples à 5000 events from DVS sequence...\n"
     ]
    },
    {
     "name": "stdout",
     "output_type": "stream",
     "text": [
      "Discarded 196 events during subsampling.\nDiscarded 331 events during 3-sigma standardization.\nExtracting batch of samples à 5000 events from DVS sequence...\nDiscarded 33 events during subsampling.\nDiscarded 353 events during 3-sigma standardization.\nExtracting batch of samples à 5000 events from DVS sequence...\nDiscarded 597 events during subsampling.\nDiscarded 324 events during 3-sigma standardization.\nExtracting batch of samples à 5000 events from DVS sequence...\nDiscarded 328 events during subsampling.\nDiscarded 322 events during 3-sigma standardization.\nExtracting batch of samples à 5000 events from DVS sequence...\nDiscarded 1546 events during subsampling.\nDiscarded 209 events during 3-sigma standardization.\nExtracting batch of samples à 5000 events from DVS sequence...\nDiscarded 296 events during subsampling.\nDiscarded 411 events during 3-sigma standardization.\n"
     ]
    },
    {
     "name": "stdout",
     "output_type": "stream",
     "text": [
      "Extracting batch of samples à 5000 events from DVS sequence...\nDiscarded 1411 events during subsampling.\nDiscarded 182 events during 3-sigma standardization.\nExtracting batch of samples à 5000 events from DVS sequence...\nDiscarded 213 events during subsampling.\nDiscarded 361 events during 3-sigma standardization.\nExtracting batch of samples à 5000 events from DVS sequence...\nDiscarded 102 events during subsampling.\nDiscarded 379 events during 3-sigma standardization.\nExtracting batch of samples à 5000 events from DVS sequence...\nDiscarded 441 events during subsampling.\nDiscarded 401 events during 3-sigma standardization.\nExtracting batch of samples à 5000 events from DVS sequence...\nDiscarded 500 events during subsampling.\nDiscarded 417 events during 3-sigma standardization.\nExtracting batch of samples à 5000 events from DVS sequence..."
     ]
    },
    {
     "name": "stdout",
     "output_type": "stream",
     "text": [
      "\nDiscarded 147 events during subsampling.\nDiscarded 411 events during 3-sigma standardization.\nExtracting batch of samples à 5000 events from DVS sequence...\nDiscarded 454 events during subsampling.\nDiscarded 330 events during 3-sigma standardization.\nExtracting batch of samples à 5000 events from DVS sequence...\nDiscarded 562 events during subsampling.\nDiscarded 371 events during 3-sigma standardization.\nExtracting batch of samples à 5000 events from DVS sequence...\nDiscarded 605 events during subsampling.\nDiscarded 365 events during 3-sigma standardization.\nExtracting batch of samples à 5000 events from DVS sequence...\nDiscarded 497 events during subsampling.\nDiscarded 328 events during 3-sigma standardization.\nExtracting batch of samples à 5000 events from DVS sequence...\n"
     ]
    },
    {
     "name": "stdout",
     "output_type": "stream",
     "text": [
      "Discarded 603 events during subsampling.\nDiscarded 388 events during 3-sigma standardization.\nExtracting batch of samples à 5000 events from DVS sequence...\nDiscarded 559 events during subsampling.\nDiscarded 389 events during 3-sigma standardization.\nExtracting batch of samples à 5000 events from DVS sequence...\nDiscarded 26 events during subsampling.\nDiscarded 401 events during 3-sigma standardization.\nExtracting batch of samples à 5000 events from DVS sequence...\nDiscarded 451 events during subsampling.\nDiscarded 398 events during 3-sigma standardization.\nExtracting batch of samples à 5000 events from DVS sequence...\nDiscarded 535 events during subsampling.\nDiscarded 340 events during 3-sigma standardization.\n"
     ]
    },
    {
     "name": "stdout",
     "output_type": "stream",
     "text": [
      "Extracting batch of samples à 5000 events from DVS sequence...\nDiscarded 226 events during subsampling.\nDiscarded 333 events during 3-sigma standardization.\nExtracting batch of samples à 5000 events from DVS sequence...\nDiscarded 365 events during subsampling.\nDiscarded 378 events during 3-sigma standardization.\nExtracting batch of samples à 5000 events from DVS sequence...\nDiscarded 505 events during subsampling.\nDiscarded 355 events during 3-sigma standardization.\nExtracting batch of samples à 5000 events from DVS sequence...\nDiscarded 484 events during subsampling.\nDiscarded 367 events during 3-sigma standardization.\nExtracting batch of samples à 5000 events from DVS sequence...\nDiscarded 323 events during subsampling.\nDiscarded 358 events during 3-sigma standardization.\nExtracting batch of samples à 5000 events from DVS sequence...\n"
     ]
    },
    {
     "name": "stdout",
     "output_type": "stream",
     "text": [
      "Discarded 372 events during subsampling.\nDiscarded 276 events during 3-sigma standardization.\nExtracting batch of samples à 5000 events from DVS sequence...\nDiscarded 381 events during subsampling.\nDiscarded 312 events during 3-sigma standardization.\nExtracting batch of samples à 5000 events from DVS sequence...\nDiscarded 113 events during subsampling.\nDiscarded 325 events during 3-sigma standardization.\nExtracting batch of samples à 5000 events from DVS sequence...\nDiscarded 421 events during subsampling.\nDiscarded 317 events during 3-sigma standardization.\nExtracting batch of samples à 5000 events from DVS sequence...\nDiscarded 127 events during subsampling.\nDiscarded 322 events during 3-sigma standardization.\nExtracting batch of samples à 5000 events from DVS sequence...\n"
     ]
    },
    {
     "name": "stdout",
     "output_type": "stream",
     "text": [
      "Discarded 424 events during subsampling.\nDiscarded 281 events during 3-sigma standardization.\nExtracting batch of samples à 5000 events from DVS sequence...\nDiscarded 217 events during subsampling.\nDiscarded 337 events during 3-sigma standardization.\nExtracting batch of samples à 5000 events from DVS sequence...\nDiscarded 467 events during subsampling.\nDiscarded 296 events during 3-sigma standardization.\nExtracting batch of samples à 5000 events from DVS sequence...\nDiscarded 489 events during subsampling.\nDiscarded 284 events during 3-sigma standardization.\nExtracting batch of samples à 5000 events from DVS sequence...\nDiscarded 224 events during subsampling.\nDiscarded 256 events during 3-sigma standardization.\nExtracting batch of samples à 5000 events from DVS sequence...\n"
     ]
    },
    {
     "name": "stdout",
     "output_type": "stream",
     "text": [
      "Discarded 469 events during subsampling.\nDiscarded 244 events during 3-sigma standardization.\nExtracting batch of samples à 5000 events from DVS sequence...\nDiscarded 117 events during subsampling.\nDiscarded 356 events during 3-sigma standardization.\nExtracting batch of samples à 5000 events from DVS sequence...\nDiscarded 585 events during subsampling.\nDiscarded 272 events during 3-sigma standardization.\nExtracting batch of samples à 5000 events from DVS sequence...\nDiscarded 193 events during subsampling.\nDiscarded 328 events during 3-sigma standardization.\nExtracting batch of samples à 5000 events from DVS sequence...\nDiscarded 337 events during subsampling.\nDiscarded 345 events during 3-sigma standardization.\nExtracting batch of samples à 5000 events from DVS sequence...\n"
     ]
    },
    {
     "name": "stdout",
     "output_type": "stream",
     "text": [
      "Discarded 435 events during subsampling.\nDiscarded 264 events during 3-sigma standardization.\nExtracting batch of samples à 5000 events from DVS sequence...\nDiscarded 548 events during subsampling.\nDiscarded 312 events during 3-sigma standardization.\nExtracting batch of samples à 5000 events from DVS sequence...\nDiscarded 384 events during subsampling.\nDiscarded 300 events during 3-sigma standardization.\nExtracting batch of samples à 5000 events from DVS sequence...\nDiscarded 41 events during subsampling.\nDiscarded 359 events during 3-sigma standardization.\nExtracting batch of samples à 5000 events from DVS sequence...\nDiscarded 904 events during subsampling.\nDiscarded 289 events during 3-sigma standardization.\nExtracting batch of samples à 5000 events from DVS sequence...\nDiscarded 531 events during subsampling.\n"
     ]
    },
    {
     "name": "stdout",
     "output_type": "stream",
     "text": [
      "Discarded 318 events during 3-sigma standardization.\nExtracting batch of samples à 5000 events from DVS sequence...\nDiscarded 261 events during subsampling.\nDiscarded 402 events during 3-sigma standardization.\nExtracting batch of samples à 5000 events from DVS sequence...\nDiscarded 453 events during subsampling.\nDiscarded 309 events during 3-sigma standardization.\nExtracting batch of samples à 5000 events from DVS sequence...\nDiscarded 118 events during subsampling.\nDiscarded 334 events during 3-sigma standardization.\nExtracting batch of samples à 5000 events from DVS sequence...\nDiscarded 193 events during subsampling.\nDiscarded 270 events during 3-sigma standardization.\nExtracting batch of samples à 5000 events from DVS sequence...\nDiscarded 1413 events during subsampling.\nDiscarded 206 events during 3-sigma standardization.\nExtracting batch of samples à 5000 events from DVS sequence..."
     ]
    },
    {
     "name": "stdout",
     "output_type": "stream",
     "text": [
      "\nDiscarded 518 events during subsampling.\nDiscarded 266 events during 3-sigma standardization.\nExtracting batch of samples à 5000 events from DVS sequence...\nDiscarded 582 events during subsampling.\nDiscarded 196 events during 3-sigma standardization.\nExtracting batch of samples à 5000 events from DVS sequence...\nDiscarded 218 events during subsampling.\nDiscarded 246 events during 3-sigma standardization.\nExtracting batch of samples à 5000 events from DVS sequence...\nDiscarded 4 events during subsampling.\nDiscarded 240 events during 3-sigma standardization.\nExtracting batch of samples à 5000 events from DVS sequence...\nDiscarded 692 events during subsampling.\nDiscarded 298 events during 3-sigma standardization.\nExtracting batch of samples à 5000 events from DVS sequence..."
     ]
    },
    {
     "name": "stdout",
     "output_type": "stream",
     "text": [
      "\nDiscarded 79 events during subsampling.\nDiscarded 248 events during 3-sigma standardization.\nExtracting batch of samples à 5000 events from DVS sequence...\nDiscarded 500 events during subsampling.\nDiscarded 282 events during 3-sigma standardization.\nExtracting batch of samples à 5000 events from DVS sequence...\nDiscarded 754 events during subsampling.\nDiscarded 274 events during 3-sigma standardization.\nExtracting batch of samples à 5000 events from DVS sequence...\nDiscarded 248 events during subsampling.\nDiscarded 276 events during 3-sigma standardization.\nExtracting batch of samples à 5000 events from DVS sequence...\nDiscarded 732 events during subsampling.\nDiscarded 279 events during 3-sigma standardization.\nExtracting batch of samples à 5000 events from DVS sequence...\n"
     ]
    },
    {
     "name": "stdout",
     "output_type": "stream",
     "text": [
      "Discarded 874 events during subsampling.\nDiscarded 282 events during 3-sigma standardization.\nExtracting batch of samples à 5000 events from DVS sequence...\nDiscarded 270 events during subsampling.\nDiscarded 394 events during 3-sigma standardization.\nExtracting batch of samples à 5000 events from DVS sequence...\nDiscarded 466 events during subsampling.\nDiscarded 376 events during 3-sigma standardization.\nExtracting batch of samples à 5000 events from DVS sequence...\nDiscarded 282 events during subsampling.\nDiscarded 368 events during 3-sigma standardization.\nExtracting batch of samples à 5000 events from DVS sequence...\nDiscarded 402 events during subsampling.\nDiscarded 445 events during 3-sigma standardization.\nExtracting batch of samples à 5000 events from DVS sequence...\nDiscarded 195 events during subsampling.\nDiscarded 481 events during 3-sigma standardization."
     ]
    },
    {
     "name": "stdout",
     "output_type": "stream",
     "text": [
      "\nExtracting batch of samples à 5000 events from DVS sequence...\nDiscarded 328 events during subsampling.\nDiscarded 371 events during 3-sigma standardization.\nExtracting batch of samples à 5000 events from DVS sequence...\nDiscarded 210 events during subsampling.\nDiscarded 368 events during 3-sigma standardization.\nExtracting batch of samples à 5000 events from DVS sequence...\nDiscarded 462 events during subsampling.\nDiscarded 291 events during 3-sigma standardization.\nExtracting batch of samples à 5000 events from DVS sequence...\nDiscarded 151 events during subsampling.\nDiscarded 245 events during 3-sigma standardization.\nExtracting batch of samples à 5000 events from DVS sequence...\nDiscarded 611 events during subsampling.\nDiscarded 283 events during 3-sigma standardization.\n"
     ]
    },
    {
     "name": "stdout",
     "output_type": "stream",
     "text": [
      "Extracting batch of samples à 5000 events from DVS sequence...\nDiscarded 38 events during subsampling.\nDiscarded 275 events during 3-sigma standardization.\nExtracting batch of samples à 5000 events from DVS sequence...\nDiscarded 36 events during subsampling.\nDiscarded 238 events during 3-sigma standardization.\nExtracting batch of samples à 5000 events from DVS sequence...\nDiscarded 377 events during subsampling.\nDiscarded 350 events during 3-sigma standardization.\nExtracting batch of samples à 5000 events from DVS sequence...\nDiscarded 26 events during subsampling.\nDiscarded 257 events during 3-sigma standardization.\nExtracting batch of samples à 5000 events from DVS sequence...\nDiscarded 616 events during subsampling.\nDiscarded 241 events during 3-sigma standardization.\n"
     ]
    },
    {
     "name": "stdout",
     "output_type": "stream",
     "text": [
      "Extracting batch of samples à 5000 events from DVS sequence...\nDiscarded 135 events during subsampling.\nDiscarded 288 events during 3-sigma standardization.\nExtracting batch of samples à 5000 events from DVS sequence...\nDiscarded 129 events during subsampling.\nDiscarded 263 events during 3-sigma standardization.\nExtracting batch of samples à 5000 events from DVS sequence...\nDiscarded 328 events during subsampling.\nDiscarded 271 events during 3-sigma standardization.\nExtracting batch of samples à 5000 events from DVS sequence...\nDiscarded 597 events during subsampling.\nDiscarded 222 events during 3-sigma standardization.\nExtracting batch of samples à 5000 events from DVS sequence...\nDiscarded 516 events during subsampling.\nDiscarded 241 events during 3-sigma standardization.\nExtracting batch of samples à 5000 events from DVS sequence...\nDiscarded 569 events during subsampling.\n"
     ]
    },
    {
     "name": "stdout",
     "output_type": "stream",
     "text": [
      "Discarded 293 events during 3-sigma standardization.\nExtracting batch of samples à 5000 events from DVS sequence...\nDiscarded 9 events during subsampling.\nDiscarded 371 events during 3-sigma standardization.\nExtracting batch of samples à 5000 events from DVS sequence...\nDiscarded 160 events during subsampling.\nDiscarded 308 events during 3-sigma standardization.\nExtracting batch of samples à 5000 events from DVS sequence...\nDiscarded 1580 events during subsampling.\nDiscarded 226 events during 3-sigma standardization.\nExtracting batch of samples à 5000 events from DVS sequence...\nDiscarded 174 events during subsampling.\nDiscarded 359 events during 3-sigma standardization.\nExtracting batch of samples à 5000 events from DVS sequence...\nDiscarded 3 events during subsampling.\nDiscarded 376 events during 3-sigma standardization."
     ]
    },
    {
     "name": "stdout",
     "output_type": "stream",
     "text": [
      "\nExtracting batch of samples à 5000 events from DVS sequence...\nDiscarded 2 events during subsampling.\nDiscarded 336 events during 3-sigma standardization.\nExtracting batch of samples à 5000 events from DVS sequence...\nDiscarded 287 events during subsampling.\nDiscarded 322 events during 3-sigma standardization.\nExtracting batch of samples à 5000 events from DVS sequence...\nDiscarded 65 events during subsampling.\nDiscarded 351 events during 3-sigma standardization.\nExtracting batch of samples à 5000 events from DVS sequence...\nDiscarded 701 events during subsampling.\nDiscarded 302 events during 3-sigma standardization.\nExtracting batch of samples à 5000 events from DVS sequence...\nDiscarded 168 events during subsampling.\nDiscarded 341 events during 3-sigma standardization.\nExtracting batch of samples à 5000 events from DVS sequence...\n"
     ]
    },
    {
     "name": "stdout",
     "output_type": "stream",
     "text": [
      "Discarded 524 events during subsampling.\nDiscarded 378 events during 3-sigma standardization.\nExtracting batch of samples à 5000 events from DVS sequence...\nDiscarded 299 events during subsampling.\nDiscarded 402 events during 3-sigma standardization.\nExtracting batch of samples à 5000 events from DVS sequence...\nDiscarded 77 events during subsampling.\nDiscarded 448 events during 3-sigma standardization.\nExtracting batch of samples à 5000 events from DVS sequence...\nDiscarded 1168 events during subsampling.\nDiscarded 282 events during 3-sigma standardization.\nExtracting batch of samples à 5000 events from DVS sequence...\nDiscarded 508 events during subsampling.\nDiscarded 352 events during 3-sigma standardization.\nExtracting batch of samples à 5000 events from DVS sequence..."
     ]
    },
    {
     "name": "stdout",
     "output_type": "stream",
     "text": [
      "\nDiscarded 12 events during subsampling.\nDiscarded 427 events during 3-sigma standardization.\nExtracting batch of samples à 5000 events from DVS sequence...\nDiscarded 1572 events during subsampling.\nDiscarded 197 events during 3-sigma standardization.\nExtracting batch of samples à 5000 events from DVS sequence...\nDiscarded 167 events during subsampling.\nDiscarded 349 events during 3-sigma standardization.\nExtracting batch of samples à 5000 events from DVS sequence...\nDiscarded 176 events during subsampling.\nDiscarded 397 events during 3-sigma standardization.\nExtracting batch of samples à 5000 events from DVS sequence...\nDiscarded 463 events during subsampling.\nDiscarded 291 events during 3-sigma standardization.\nExtracting batch of samples à 5000 events from DVS sequence...\n"
     ]
    },
    {
     "name": "stdout",
     "output_type": "stream",
     "text": [
      "Discarded 242 events during subsampling.\nDiscarded 333 events during 3-sigma standardization.\nExtracting batch of samples à 5000 events from DVS sequence...\nDiscarded 338 events during subsampling.\nDiscarded 354 events during 3-sigma standardization.\nExtracting batch of samples à 5000 events from DVS sequence...\nDiscarded 867 events during subsampling.\nDiscarded 268 events during 3-sigma standardization.\nExtracting batch of samples à 5000 events from DVS sequence...\nDiscarded 522 events during subsampling.\nDiscarded 328 events during 3-sigma standardization.\nExtracting batch of samples à 5000 events from DVS sequence...\nDiscarded 362 events during subsampling.\nDiscarded 321 events during 3-sigma standardization.\nExtracting batch of samples à 5000 events from DVS sequence...\n"
     ]
    },
    {
     "name": "stdout",
     "output_type": "stream",
     "text": [
      "Discarded 83 events during subsampling.\nDiscarded 291 events during 3-sigma standardization.\nExtracting batch of samples à 5000 events from DVS sequence...\nDiscarded 426 events during subsampling.\nDiscarded 284 events during 3-sigma standardization.\nExtracting batch of samples à 5000 events from DVS sequence...\nDiscarded 614 events during subsampling.\nDiscarded 262 events during 3-sigma standardization.\nExtracting batch of samples à 5000 events from DVS sequence...\nDiscarded 481 events during subsampling.\nDiscarded 283 events during 3-sigma standardization.\nExtracting batch of samples à 5000 events from DVS sequence...\nDiscarded 113 events during subsampling.\nDiscarded 321 events during 3-sigma standardization.\nExtracting batch of samples à 5000 events from DVS sequence...\nDiscarded 164 events during subsampling.\nDiscarded 285 events during 3-sigma standardization."
     ]
    },
    {
     "name": "stdout",
     "output_type": "stream",
     "text": [
      "\nExtracting batch of samples à 5000 events from DVS sequence...\nDiscarded 28 events during subsampling.\nDiscarded 262 events during 3-sigma standardization.\nExtracting batch of samples à 5000 events from DVS sequence...\nDiscarded 83 events during subsampling.\nDiscarded 338 events during 3-sigma standardization.\nExtracting batch of samples à 5000 events from DVS sequence...\nDiscarded 411 events during subsampling.\nDiscarded 301 events during 3-sigma standardization.\nExtracting batch of samples à 5000 events from DVS sequence...\nDiscarded 568 events during subsampling.\nDiscarded 314 events during 3-sigma standardization.\nExtracting batch of samples à 5000 events from DVS sequence...\nDiscarded 418 events during subsampling.\nDiscarded 327 events during 3-sigma standardization.\nExtracting batch of samples à 5000 events from DVS sequence..."
     ]
    },
    {
     "name": "stdout",
     "output_type": "stream",
     "text": [
      "\nDiscarded 540 events during subsampling.\nDiscarded 311 events during 3-sigma standardization.\nExtracting batch of samples à 5000 events from DVS sequence...\nDiscarded 517 events during subsampling.\nDiscarded 377 events during 3-sigma standardization.\nExtracting batch of samples à 5000 events from DVS sequence...\nDiscarded 734 events during subsampling.\nDiscarded 308 events during 3-sigma standardization.\nExtracting batch of samples à 5000 events from DVS sequence...\nDiscarded 361 events during subsampling.\nDiscarded 322 events during 3-sigma standardization.\nExtracting batch of samples à 5000 events from DVS sequence...\nDiscarded 612 events during subsampling.\nDiscarded 304 events during 3-sigma standardization.\nExtracting batch of samples à 5000 events from DVS sequence...\n"
     ]
    },
    {
     "name": "stdout",
     "output_type": "stream",
     "text": [
      "Discarded 500 events during subsampling.\nDiscarded 349 events during 3-sigma standardization.\nExtracting batch of samples à 5000 events from DVS sequence...\nDiscarded 114 events during subsampling.\nDiscarded 366 events during 3-sigma standardization.\nExtracting batch of samples à 5000 events from DVS sequence...\nDiscarded 627 events during subsampling.\nDiscarded 329 events during 3-sigma standardization.\nExtracting batch of samples à 5000 events from DVS sequence...\nDiscarded 293 events during subsampling.\nDiscarded 328 events during 3-sigma standardization.\nLoading DVS sample /home/rbodo/.snntoolbox/Datasets/predator_prey/aedat/not_balanced_4834samples/N/rec_13.aedat...\n"
     ]
    },
    {
     "name": "stdout",
     "output_type": "stream",
     "text": [
      "Total number of events of this sample: 540000.\nNumber of batches: 108.\nExtracting 108 frames from DVS event sequence.\n"
     ]
    },
    {
     "name": "stdout",
     "output_type": "stream",
     "text": [
      "Extracting batch of samples à 5000 events from DVS sequence...\nDiscarded 58 events during subsampling.\nDiscarded 363 events during 3-sigma standardization.\nExtracting batch of samples à 5000 events from DVS sequence...\nDiscarded 411 events during subsampling.\nDiscarded 333 events during 3-sigma standardization.\nExtracting batch of samples à 5000 events from DVS sequence...\nDiscarded 412 events during subsampling.\nDiscarded 301 events during 3-sigma standardization.\nExtracting batch of samples à 5000 events from DVS sequence...\nDiscarded 181 events during subsampling.\nDiscarded 322 events during 3-sigma standardization.\nExtracting batch of samples à 5000 events from DVS sequence...\n"
     ]
    },
    {
     "name": "stdout",
     "output_type": "stream",
     "text": [
      "Discarded 265 events during subsampling.\nDiscarded 300 events during 3-sigma standardization.\nExtracting batch of samples à 5000 events from DVS sequence...\nDiscarded 185 events during subsampling.\nDiscarded 379 events during 3-sigma standardization.\nExtracting batch of samples à 5000 events from DVS sequence...\nDiscarded 154 events during subsampling.\nDiscarded 324 events during 3-sigma standardization.\nExtracting batch of samples à 5000 events from DVS sequence...\nDiscarded 133 events during subsampling.\nDiscarded 410 events during 3-sigma standardization.\nExtracting batch of samples à 5000 events from DVS sequence...\nDiscarded 114 events during subsampling.\nDiscarded 346 events during 3-sigma standardization.\nExtracting batch of samples à 5000 events from DVS sequence...\nDiscarded 418 events during subsampling.\nDiscarded 387 events during 3-sigma standardization."
     ]
    },
    {
     "name": "stdout",
     "output_type": "stream",
     "text": [
      "\nExtracting batch of samples à 5000 events from DVS sequence...\nDiscarded 198 events during subsampling.\nDiscarded 311 events during 3-sigma standardization.\nExtracting batch of samples à 5000 events from DVS sequence...\nDiscarded 266 events during subsampling.\nDiscarded 363 events during 3-sigma standardization.\nExtracting batch of samples à 5000 events from DVS sequence...\nDiscarded 72 events during subsampling.\nDiscarded 351 events during 3-sigma standardization.\nExtracting batch of samples à 5000 events from DVS sequence...\nDiscarded 20 events during subsampling.\nDiscarded 405 events during 3-sigma standardization.\nExtracting batch of samples à 5000 events from DVS sequence...\nDiscarded 78 events during subsampling.\nDiscarded 359 events during 3-sigma standardization.\nExtracting batch of samples à 5000 events from DVS sequence..."
     ]
    },
    {
     "name": "stdout",
     "output_type": "stream",
     "text": [
      "\nDiscarded 556 events during subsampling.\nDiscarded 317 events during 3-sigma standardization.\nExtracting batch of samples à 5000 events from DVS sequence...\nDiscarded 601 events during subsampling.\nDiscarded 299 events during 3-sigma standardization.\nExtracting batch of samples à 5000 events from DVS sequence...\nDiscarded 583 events during subsampling.\nDiscarded 349 events during 3-sigma standardization.\nExtracting batch of samples à 5000 events from DVS sequence...\nDiscarded 93 events during subsampling.\nDiscarded 341 events during 3-sigma standardization.\nExtracting batch of samples à 5000 events from DVS sequence...\nDiscarded 583 events during subsampling.\nDiscarded 337 events during 3-sigma standardization.\nExtracting batch of samples à 5000 events from DVS sequence...\nDiscarded 501 events during subsampling."
     ]
    },
    {
     "name": "stdout",
     "output_type": "stream",
     "text": [
      "\nDiscarded 372 events during 3-sigma standardization.\nExtracting batch of samples à 5000 events from DVS sequence...\nDiscarded 71 events during subsampling.\nDiscarded 444 events during 3-sigma standardization.\nExtracting batch of samples à 5000 events from DVS sequence...\nDiscarded 550 events during subsampling.\nDiscarded 392 events during 3-sigma standardization.\nExtracting batch of samples à 5000 events from DVS sequence...\nDiscarded 191 events during subsampling.\nDiscarded 353 events during 3-sigma standardization.\nExtracting batch of samples à 5000 events from DVS sequence...\nDiscarded 420 events during subsampling.\nDiscarded 421 events during 3-sigma standardization.\nExtracting batch of samples à 5000 events from DVS sequence...\nDiscarded 605 events during subsampling."
     ]
    },
    {
     "name": "stdout",
     "output_type": "stream",
     "text": [
      "\nDiscarded 315 events during 3-sigma standardization.\nExtracting batch of samples à 5000 events from DVS sequence...\nDiscarded 22 events during subsampling.\nDiscarded 491 events during 3-sigma standardization.\nExtracting batch of samples à 5000 events from DVS sequence...\nDiscarded 88 events during subsampling.\nDiscarded 412 events during 3-sigma standardization.\nExtracting batch of samples à 5000 events from DVS sequence...\nDiscarded 270 events during subsampling.\nDiscarded 339 events during 3-sigma standardization.\nExtracting batch of samples à 5000 events from DVS sequence...\nDiscarded 170 events during subsampling.\nDiscarded 323 events during 3-sigma standardization.\nExtracting batch of samples à 5000 events from DVS sequence...\nDiscarded 596 events during subsampling.\nDiscarded 265 events during 3-sigma standardization.\n"
     ]
    },
    {
     "name": "stdout",
     "output_type": "stream",
     "text": [
      "Extracting batch of samples à 5000 events from DVS sequence...\nDiscarded 664 events during subsampling.\nDiscarded 280 events during 3-sigma standardization.\nExtracting batch of samples à 5000 events from DVS sequence...\nDiscarded 469 events during subsampling.\nDiscarded 315 events during 3-sigma standardization.\nExtracting batch of samples à 5000 events from DVS sequence...\nDiscarded 330 events during subsampling.\nDiscarded 321 events during 3-sigma standardization.\nExtracting batch of samples à 5000 events from DVS sequence...\nDiscarded 448 events during subsampling.\nDiscarded 293 events during 3-sigma standardization.\nExtracting batch of samples à 5000 events from DVS sequence...\nDiscarded 560 events during subsampling.\nDiscarded 265 events during 3-sigma standardization.\nExtracting batch of samples à 5000 events from DVS sequence...\n"
     ]
    },
    {
     "name": "stdout",
     "output_type": "stream",
     "text": [
      "Discarded 339 events during subsampling.\nDiscarded 283 events during 3-sigma standardization.\nExtracting batch of samples à 5000 events from DVS sequence...\nDiscarded 742 events during subsampling.\nDiscarded 249 events during 3-sigma standardization.\nExtracting batch of samples à 5000 events from DVS sequence...\nDiscarded 218 events during subsampling.\nDiscarded 314 events during 3-sigma standardization.\nExtracting batch of samples à 5000 events from DVS sequence...\nDiscarded 389 events during subsampling.\nDiscarded 284 events during 3-sigma standardization.\nExtracting batch of samples à 5000 events from DVS sequence...\nDiscarded 572 events during subsampling.\nDiscarded 280 events during 3-sigma standardization.\nExtracting batch of samples à 5000 events from DVS sequence...\n"
     ]
    },
    {
     "name": "stdout",
     "output_type": "stream",
     "text": [
      "Discarded 305 events during subsampling.\nDiscarded 327 events during 3-sigma standardization.\nExtracting batch of samples à 5000 events from DVS sequence...\nDiscarded 572 events during subsampling.\nDiscarded 242 events during 3-sigma standardization.\nExtracting batch of samples à 5000 events from DVS sequence...\nDiscarded 643 events during subsampling.\nDiscarded 262 events during 3-sigma standardization.\nExtracting batch of samples à 5000 events from DVS sequence...\nDiscarded 10 events during subsampling.\nDiscarded 311 events during 3-sigma standardization.\nExtracting batch of samples à 5000 events from DVS sequence...\nDiscarded 501 events during subsampling.\nDiscarded 327 events during 3-sigma standardization.\nExtracting batch of samples à 5000 events from DVS sequence...\n"
     ]
    },
    {
     "name": "stdout",
     "output_type": "stream",
     "text": [
      "Discarded 594 events during subsampling.\nDiscarded 301 events during 3-sigma standardization.\nExtracting batch of samples à 5000 events from DVS sequence...\nDiscarded 11 events during subsampling.\nDiscarded 296 events during 3-sigma standardization.\nExtracting batch of samples à 5000 events from DVS sequence...\nDiscarded 289 events during subsampling.\nDiscarded 213 events during 3-sigma standardization.\nExtracting batch of samples à 5000 events from DVS sequence...\nDiscarded 305 events during subsampling.\nDiscarded 219 events during 3-sigma standardization.\nExtracting batch of samples à 5000 events from DVS sequence...\nDiscarded 337 events during subsampling.\nDiscarded 297 events during 3-sigma standardization.\nExtracting batch of samples à 5000 events from DVS sequence...\n"
     ]
    },
    {
     "name": "stdout",
     "output_type": "stream",
     "text": [
      "Discarded 305 events during subsampling.\nDiscarded 270 events during 3-sigma standardization.\nExtracting batch of samples à 5000 events from DVS sequence...\nDiscarded 1445 events during subsampling.\nDiscarded 272 events during 3-sigma standardization.\nExtracting batch of samples à 5000 events from DVS sequence...\nDiscarded 486 events during subsampling.\nDiscarded 307 events during 3-sigma standardization.\nExtracting batch of samples à 5000 events from DVS sequence...\nDiscarded 526 events during subsampling.\nDiscarded 245 events during 3-sigma standardization.\nExtracting batch of samples à 5000 events from DVS sequence...\nDiscarded 591 events during subsampling.\nDiscarded 217 events during 3-sigma standardization.\nExtracting batch of samples à 5000 events from DVS sequence...\n"
     ]
    },
    {
     "name": "stdout",
     "output_type": "stream",
     "text": [
      "Discarded 2212 events during subsampling.\nDiscarded 121 events during 3-sigma standardization.\nExtracting batch of samples à 5000 events from DVS sequence...\nDiscarded 563 events during subsampling.\nDiscarded 184 events during 3-sigma standardization.\nExtracting batch of samples à 5000 events from DVS sequence...\nDiscarded 1653 events during subsampling.\nDiscarded 223 events during 3-sigma standardization.\nExtracting batch of samples à 5000 events from DVS sequence...\nDiscarded 546 events during subsampling.\nDiscarded 205 events during 3-sigma standardization.\nExtracting batch of samples à 5000 events from DVS sequence...\nDiscarded 519 events during subsampling.\nDiscarded 193 events during 3-sigma standardization.\nExtracting batch of samples à 5000 events from DVS sequence...\nDiscarded 544 events during subsampling.\n"
     ]
    },
    {
     "name": "stdout",
     "output_type": "stream",
     "text": [
      "Discarded 175 events during 3-sigma standardization.\nExtracting batch of samples à 5000 events from DVS sequence...\nDiscarded 480 events during subsampling.\nDiscarded 209 events during 3-sigma standardization.\nExtracting batch of samples à 5000 events from DVS sequence...\nDiscarded 2277 events during subsampling.\nDiscarded 151 events during 3-sigma standardization.\nExtracting batch of samples à 5000 events from DVS sequence...\nDiscarded 593 events during subsampling.\nDiscarded 304 events during 3-sigma standardization.\nExtracting batch of samples à 5000 events from DVS sequence...\nDiscarded 306 events during subsampling.\nDiscarded 325 events during 3-sigma standardization.\nExtracting batch of samples à 5000 events from DVS sequence...\nDiscarded 120 events during subsampling.\n"
     ]
    },
    {
     "name": "stdout",
     "output_type": "stream",
     "text": [
      "Discarded 378 events during 3-sigma standardization.\nExtracting batch of samples à 5000 events from DVS sequence...\nDiscarded 508 events during subsampling.\nDiscarded 311 events during 3-sigma standardization.\nExtracting batch of samples à 5000 events from DVS sequence...\nDiscarded 1650 events during subsampling.\nDiscarded 207 events during 3-sigma standardization.\nExtracting batch of samples à 5000 events from DVS sequence...\nDiscarded 21 events during subsampling.\nDiscarded 380 events during 3-sigma standardization.\nExtracting batch of samples à 5000 events from DVS sequence...\nDiscarded 503 events during subsampling.\nDiscarded 341 events during 3-sigma standardization.\nExtracting batch of samples à 5000 events from DVS sequence...\nDiscarded 495 events during subsampling.\nDiscarded 380 events during 3-sigma standardization.\nExtracting batch of samples à 5000 events from DVS sequence..."
     ]
    },
    {
     "name": "stdout",
     "output_type": "stream",
     "text": [
      "\nDiscarded 148 events during subsampling.\nDiscarded 421 events during 3-sigma standardization.\nExtracting batch of samples à 5000 events from DVS sequence...\nDiscarded 571 events during subsampling.\nDiscarded 375 events during 3-sigma standardization.\nExtracting batch of samples à 5000 events from DVS sequence...\nDiscarded 720 events during subsampling.\nDiscarded 328 events during 3-sigma standardization.\nExtracting batch of samples à 5000 events from DVS sequence...\nDiscarded 74 events during subsampling.\nDiscarded 341 events during 3-sigma standardization.\nExtracting batch of samples à 5000 events from DVS sequence...\nDiscarded 796 events during subsampling.\nDiscarded 278 events during 3-sigma standardization.\nExtracting batch of samples à 5000 events from DVS sequence..."
     ]
    },
    {
     "name": "stdout",
     "output_type": "stream",
     "text": [
      "\nDiscarded 133 events during subsampling.\nDiscarded 380 events during 3-sigma standardization.\nExtracting batch of samples à 5000 events from DVS sequence...\nDiscarded 219 events during subsampling.\nDiscarded 370 events during 3-sigma standardization.\nExtracting batch of samples à 5000 events from DVS sequence...\nDiscarded 996 events during subsampling.\nDiscarded 270 events during 3-sigma standardization.\nExtracting batch of samples à 5000 events from DVS sequence...\nDiscarded 767 events during subsampling.\nDiscarded 251 events during 3-sigma standardization.\nExtracting batch of samples à 5000 events from DVS sequence...\nDiscarded 624 events during subsampling.\nDiscarded 293 events during 3-sigma standardization.\nExtracting batch of samples à 5000 events from DVS sequence...\n"
     ]
    },
    {
     "name": "stdout",
     "output_type": "stream",
     "text": [
      "Discarded 625 events during subsampling.\nDiscarded 240 events during 3-sigma standardization.\nExtracting batch of samples à 5000 events from DVS sequence...\nDiscarded 218 events during subsampling.\nDiscarded 326 events during 3-sigma standardization.\nExtracting batch of samples à 5000 events from DVS sequence...\nDiscarded 735 events during subsampling.\nDiscarded 262 events during 3-sigma standardization.\nExtracting batch of samples à 5000 events from DVS sequence...\nDiscarded 935 events during subsampling.\nDiscarded 235 events during 3-sigma standardization.\nExtracting batch of samples à 5000 events from DVS sequence...\nDiscarded 18 events during subsampling.\nDiscarded 349 events during 3-sigma standardization.\nExtracting batch of samples à 5000 events from DVS sequence...\n"
     ]
    },
    {
     "name": "stdout",
     "output_type": "stream",
     "text": [
      "Discarded 568 events during subsampling.\nDiscarded 268 events during 3-sigma standardization.\nExtracting batch of samples à 5000 events from DVS sequence...\nDiscarded 111 events during subsampling.\nDiscarded 291 events during 3-sigma standardization.\nExtracting batch of samples à 5000 events from DVS sequence...\nDiscarded 184 events during subsampling.\nDiscarded 280 events during 3-sigma standardization.\nExtracting batch of samples à 5000 events from DVS sequence...\nDiscarded 67 events during subsampling.\nDiscarded 283 events during 3-sigma standardization.\nExtracting batch of samples à 5000 events from DVS sequence...\nDiscarded 183 events during subsampling.\nDiscarded 266 events during 3-sigma standardization.\n"
     ]
    },
    {
     "name": "stdout",
     "output_type": "stream",
     "text": [
      "Extracting batch of samples à 5000 events from DVS sequence...\nDiscarded 384 events during subsampling.\nDiscarded 303 events during 3-sigma standardization.\nExtracting batch of samples à 5000 events from DVS sequence...\nDiscarded 6 events during subsampling.\nDiscarded 256 events during 3-sigma standardization.\nExtracting batch of samples à 5000 events from DVS sequence...\nDiscarded 126 events during subsampling.\nDiscarded 294 events during 3-sigma standardization.\nExtracting batch of samples à 5000 events from DVS sequence...\nDiscarded 658 events during subsampling.\nDiscarded 332 events during 3-sigma standardization.\nExtracting batch of samples à 5000 events from DVS sequence...\nDiscarded 580 events during subsampling.\nDiscarded 302 events during 3-sigma standardization.\n"
     ]
    },
    {
     "name": "stdout",
     "output_type": "stream",
     "text": [
      "Extracting batch of samples à 5000 events from DVS sequence...\nDiscarded 4 events during subsampling.\nDiscarded 367 events during 3-sigma standardization.\nExtracting batch of samples à 5000 events from DVS sequence...\nDiscarded 323 events during subsampling.\nDiscarded 352 events during 3-sigma standardization.\nExtracting batch of samples à 5000 events from DVS sequence...\nDiscarded 509 events during subsampling.\nDiscarded 348 events during 3-sigma standardization.\nExtracting batch of samples à 5000 events from DVS sequence...\nDiscarded 228 events during subsampling.\nDiscarded 321 events during 3-sigma standardization.\nExtracting batch of samples à 5000 events from DVS sequence...\nDiscarded 9 events during subsampling.\nDiscarded 374 events during 3-sigma standardization.\nExtracting batch of samples à 5000 events from DVS sequence...\n"
     ]
    },
    {
     "name": "stdout",
     "output_type": "stream",
     "text": [
      "Discarded 10 events during subsampling.\nDiscarded 389 events during 3-sigma standardization.\nExtracting batch of samples à 5000 events from DVS sequence...\nDiscarded 548 events during subsampling.\nDiscarded 322 events during 3-sigma standardization.\nExtracting batch of samples à 5000 events from DVS sequence...\nDiscarded 551 events during subsampling.\nDiscarded 349 events during 3-sigma standardization.\nExtracting batch of samples à 5000 events from DVS sequence...\nDiscarded 526 events during subsampling.\nDiscarded 367 events during 3-sigma standardization.\nExtracting batch of samples à 5000 events from DVS sequence...\nDiscarded 173 events during subsampling.\nDiscarded 343 events during 3-sigma standardization.\nLoading DVS sample /home/rbodo/.snntoolbox/Datasets/predator_prey/aedat/not_balanced_4834samples/N/rec_14.aedat...\n"
     ]
    },
    {
     "name": "stdout",
     "output_type": "stream",
     "text": [
      "Total number of events of this sample: 1465000.\nNumber of batches: 293.\nExtracting 293 frames from DVS event sequence.\n"
     ]
    },
    {
     "name": "stdout",
     "output_type": "stream",
     "text": [
      "Extracting batch of samples à 5000 events from DVS sequence...\nDiscarded 24 events during subsampling.\nDiscarded 356 events during 3-sigma standardization.\nExtracting batch of samples à 5000 events from DVS sequence...\nDiscarded 472 events during subsampling.\nDiscarded 317 events during 3-sigma standardization.\nExtracting batch of samples à 5000 events from DVS sequence...\nDiscarded 475 events during subsampling.\nDiscarded 286 events during 3-sigma standardization.\nExtracting batch of samples à 5000 events from DVS sequence...\nDiscarded 625 events during subsampling.\nDiscarded 303 events during 3-sigma standardization.\nExtracting batch of samples à 5000 events from DVS sequence...\nDiscarded 310 events during subsampling."
     ]
    },
    {
     "name": "stdout",
     "output_type": "stream",
     "text": [
      "\nDiscarded 308 events during 3-sigma standardization.\nExtracting batch of samples à 5000 events from DVS sequence...\nDiscarded 509 events during subsampling.\nDiscarded 264 events during 3-sigma standardization.\nExtracting batch of samples à 5000 events from DVS sequence...\nDiscarded 208 events during subsampling.\nDiscarded 316 events during 3-sigma standardization.\nExtracting batch of samples à 5000 events from DVS sequence...\nDiscarded 122 events during subsampling.\nDiscarded 305 events during 3-sigma standardization.\nExtracting batch of samples à 5000 events from DVS sequence...\nDiscarded 264 events during subsampling.\nDiscarded 360 events during 3-sigma standardization.\nExtracting batch of samples à 5000 events from DVS sequence...\nDiscarded 268 events during subsampling.\nDiscarded 326 events during 3-sigma standardization.\n"
     ]
    },
    {
     "name": "stdout",
     "output_type": "stream",
     "text": [
      "Extracting batch of samples à 5000 events from DVS sequence...\nDiscarded 450 events during subsampling.\nDiscarded 333 events during 3-sigma standardization.\nExtracting batch of samples à 5000 events from DVS sequence...\nDiscarded 688 events during subsampling.\nDiscarded 305 events during 3-sigma standardization.\nExtracting batch of samples à 5000 events from DVS sequence...\nDiscarded 155 events during subsampling.\nDiscarded 333 events during 3-sigma standardization.\nExtracting batch of samples à 5000 events from DVS sequence...\nDiscarded 481 events during subsampling.\nDiscarded 395 events during 3-sigma standardization.\nExtracting batch of samples à 5000 events from DVS sequence...\nDiscarded 487 events during subsampling.\nDiscarded 343 events during 3-sigma standardization.\nExtracting batch of samples à 5000 events from DVS sequence..."
     ]
    },
    {
     "name": "stdout",
     "output_type": "stream",
     "text": [
      "\nDiscarded 264 events during subsampling.\nDiscarded 346 events during 3-sigma standardization.\nExtracting batch of samples à 5000 events from DVS sequence...\nDiscarded 38 events during subsampling.\nDiscarded 379 events during 3-sigma standardization.\nExtracting batch of samples à 5000 events from DVS sequence...\nDiscarded 479 events during subsampling.\nDiscarded 336 events during 3-sigma standardization.\nExtracting batch of samples à 5000 events from DVS sequence...\nDiscarded 728 events during subsampling.\nDiscarded 331 events during 3-sigma standardization.\nExtracting batch of samples à 5000 events from DVS sequence...\nDiscarded 705 events during subsampling.\nDiscarded 338 events during 3-sigma standardization.\nExtracting batch of samples à 5000 events from DVS sequence...\n"
     ]
    },
    {
     "name": "stdout",
     "output_type": "stream",
     "text": [
      "Discarded 769 events during subsampling.\nDiscarded 260 events during 3-sigma standardization.\nExtracting batch of samples à 5000 events from DVS sequence...\nDiscarded 249 events during subsampling.\nDiscarded 379 events during 3-sigma standardization.\nExtracting batch of samples à 5000 events from DVS sequence...\nDiscarded 545 events during subsampling.\nDiscarded 299 events during 3-sigma standardization.\nExtracting batch of samples à 5000 events from DVS sequence...\nDiscarded 110 events during subsampling.\nDiscarded 375 events during 3-sigma standardization.\nExtracting batch of samples à 5000 events from DVS sequence...\nDiscarded 164 events during subsampling.\nDiscarded 313 events during 3-sigma standardization.\n"
     ]
    },
    {
     "name": "stdout",
     "output_type": "stream",
     "text": [
      "Extracting batch of samples à 5000 events from DVS sequence...\nDiscarded 480 events during subsampling.\nDiscarded 383 events during 3-sigma standardization.\nExtracting batch of samples à 5000 events from DVS sequence...\nDiscarded 535 events during subsampling.\nDiscarded 323 events during 3-sigma standardization.\nExtracting batch of samples à 5000 events from DVS sequence...\nDiscarded 85 events during subsampling.\nDiscarded 347 events during 3-sigma standardization.\nExtracting batch of samples à 5000 events from DVS sequence...\nDiscarded 330 events during subsampling.\nDiscarded 317 events during 3-sigma standardization.\nExtracting batch of samples à 5000 events from DVS sequence...\nDiscarded 182 events during subsampling.\nDiscarded 294 events during 3-sigma standardization.\n"
     ]
    },
    {
     "name": "stdout",
     "output_type": "stream",
     "text": [
      "Extracting batch of samples à 5000 events from DVS sequence...\nDiscarded 486 events during subsampling.\nDiscarded 293 events during 3-sigma standardization.\nExtracting batch of samples à 5000 events from DVS sequence...\nDiscarded 79 events during subsampling.\nDiscarded 336 events during 3-sigma standardization.\nExtracting batch of samples à 5000 events from DVS sequence...\nDiscarded 46 events during subsampling.\nDiscarded 357 events during 3-sigma standardization.\nExtracting batch of samples à 5000 events from DVS sequence...\nDiscarded 1363 events during subsampling.\nDiscarded 196 events during 3-sigma standardization.\nExtracting batch of samples à 5000 events from DVS sequence...\nDiscarded 318 events during subsampling.\nDiscarded 314 events during 3-sigma standardization.\nExtracting batch of samples à 5000 events from DVS sequence..."
     ]
    },
    {
     "name": "stdout",
     "output_type": "stream",
     "text": [
      "\nDiscarded 449 events during subsampling.\nDiscarded 299 events during 3-sigma standardization.\nExtracting batch of samples à 5000 events from DVS sequence...\nDiscarded 569 events during subsampling.\nDiscarded 314 events during 3-sigma standardization.\nExtracting batch of samples à 5000 events from DVS sequence...\nDiscarded 80 events during subsampling.\nDiscarded 409 events during 3-sigma standardization.\nExtracting batch of samples à 5000 events from DVS sequence...\nDiscarded 194 events during subsampling.\nDiscarded 371 events during 3-sigma standardization.\nExtracting batch of samples à 5000 events from DVS sequence...\nDiscarded 362 events during subsampling.\nDiscarded 351 events during 3-sigma standardization.\nExtracting batch of samples à 5000 events from DVS sequence..."
     ]
    },
    {
     "name": "stdout",
     "output_type": "stream",
     "text": [
      "\nDiscarded 532 events during subsampling.\nDiscarded 318 events during 3-sigma standardization.\nExtracting batch of samples à 5000 events from DVS sequence...\nDiscarded 600 events during subsampling.\nDiscarded 325 events during 3-sigma standardization.\nExtracting batch of samples à 5000 events from DVS sequence...\nDiscarded 440 events during subsampling.\nDiscarded 350 events during 3-sigma standardization.\nExtracting batch of samples à 5000 events from DVS sequence...\nDiscarded 471 events during subsampling.\nDiscarded 348 events during 3-sigma standardization.\nExtracting batch of samples à 5000 events from DVS sequence...\nDiscarded 85 events during subsampling.\nDiscarded 387 events during 3-sigma standardization.\nExtracting batch of samples à 5000 events from DVS sequence..."
     ]
    },
    {
     "name": "stdout",
     "output_type": "stream",
     "text": [
      "\nDiscarded 384 events during subsampling.\nDiscarded 395 events during 3-sigma standardization.\nExtracting batch of samples à 5000 events from DVS sequence...\nDiscarded 197 events during subsampling.\nDiscarded 324 events during 3-sigma standardization.\nExtracting batch of samples à 5000 events from DVS sequence...\nDiscarded 197 events during subsampling.\nDiscarded 398 events during 3-sigma standardization.\nExtracting batch of samples à 5000 events from DVS sequence...\nDiscarded 108 events during subsampling.\nDiscarded 344 events during 3-sigma standardization.\nExtracting batch of samples à 5000 events from DVS sequence...\nDiscarded 503 events during subsampling.\nDiscarded 328 events during 3-sigma standardization.\n"
     ]
    },
    {
     "name": "stdout",
     "output_type": "stream",
     "text": [
      "Extracting batch of samples à 5000 events from DVS sequence...\nDiscarded 362 events during subsampling.\nDiscarded 329 events during 3-sigma standardization.\nExtracting batch of samples à 5000 events from DVS sequence...\nDiscarded 5 events during subsampling.\nDiscarded 346 events during 3-sigma standardization.\nExtracting batch of samples à 5000 events from DVS sequence...\nDiscarded 153 events during subsampling.\nDiscarded 327 events during 3-sigma standardization.\nExtracting batch of samples à 5000 events from DVS sequence...\nDiscarded 26 events during subsampling.\nDiscarded 368 events during 3-sigma standardization.\nExtracting batch of samples à 5000 events from DVS sequence...\nDiscarded 310 events during subsampling.\nDiscarded 479 events during 3-sigma standardization.\nExtracting batch of samples à 5000 events from DVS sequence..."
     ]
    },
    {
     "name": "stdout",
     "output_type": "stream",
     "text": [
      "\nDiscarded 255 events during subsampling.\nDiscarded 427 events during 3-sigma standardization.\nExtracting batch of samples à 5000 events from DVS sequence...\nDiscarded 187 events during subsampling.\nDiscarded 349 events during 3-sigma standardization.\nExtracting batch of samples à 5000 events from DVS sequence...\nDiscarded 309 events during subsampling.\nDiscarded 346 events during 3-sigma standardization.\nExtracting batch of samples à 5000 events from DVS sequence...\nDiscarded 321 events during subsampling.\nDiscarded 455 events during 3-sigma standardization.\nExtracting batch of samples à 5000 events from DVS sequence...\nDiscarded 253 events during subsampling.\nDiscarded 463 events during 3-sigma standardization.\nExtracting batch of samples à 5000 events from DVS sequence...\n"
     ]
    },
    {
     "name": "stdout",
     "output_type": "stream",
     "text": [
      "Discarded 376 events during subsampling.\nDiscarded 379 events during 3-sigma standardization.\nExtracting batch of samples à 5000 events from DVS sequence...\nDiscarded 311 events during subsampling.\nDiscarded 438 events during 3-sigma standardization.\nExtracting batch of samples à 5000 events from DVS sequence...\nDiscarded 295 events during subsampling.\nDiscarded 376 events during 3-sigma standardization.\nExtracting batch of samples à 5000 events from DVS sequence...\nDiscarded 261 events during subsampling.\nDiscarded 454 events during 3-sigma standardization.\nExtracting batch of samples à 5000 events from DVS sequence...\nDiscarded 222 events during subsampling.\nDiscarded 383 events during 3-sigma standardization.\n"
     ]
    },
    {
     "name": "stdout",
     "output_type": "stream",
     "text": [
      "Extracting batch of samples à 5000 events from DVS sequence...\nDiscarded 242 events during subsampling.\nDiscarded 293 events during 3-sigma standardization.\nExtracting batch of samples à 5000 events from DVS sequence...\nDiscarded 539 events during subsampling.\nDiscarded 233 events during 3-sigma standardization.\nExtracting batch of samples à 5000 events from DVS sequence...\nDiscarded 647 events during subsampling.\nDiscarded 278 events during 3-sigma standardization.\nExtracting batch of samples à 5000 events from DVS sequence...\nDiscarded 667 events during subsampling.\nDiscarded 264 events during 3-sigma standardization.\nExtracting batch of samples à 5000 events from DVS sequence...\nDiscarded 1228 events during subsampling.\nDiscarded 247 events during 3-sigma standardization.\nExtracting batch of samples à 5000 events from DVS sequence...\n"
     ]
    },
    {
     "name": "stdout",
     "output_type": "stream",
     "text": [
      "Discarded 609 events during subsampling.\nDiscarded 256 events during 3-sigma standardization.\nExtracting batch of samples à 5000 events from DVS sequence...\nDiscarded 690 events during subsampling.\nDiscarded 211 events during 3-sigma standardization.\nExtracting batch of samples à 5000 events from DVS sequence...\nDiscarded 1684 events during subsampling.\nDiscarded 191 events during 3-sigma standardization.\nExtracting batch of samples à 5000 events from DVS sequence...\nDiscarded 712 events during subsampling.\nDiscarded 213 events during 3-sigma standardization.\nExtracting batch of samples à 5000 events from DVS sequence...\nDiscarded 659 events during subsampling.\nDiscarded 211 events during 3-sigma standardization.\nExtracting batch of samples à 5000 events from DVS sequence...\nDiscarded 1528 events during subsampling.\nDiscarded 203 events during 3-sigma standardization.\n"
     ]
    },
    {
     "name": "stdout",
     "output_type": "stream",
     "text": [
      "Extracting batch of samples à 5000 events from DVS sequence...\nDiscarded 1448 events during subsampling.\nDiscarded 193 events during 3-sigma standardization.\nExtracting batch of samples à 5000 events from DVS sequence...\nDiscarded 637 events during subsampling.\nDiscarded 313 events during 3-sigma standardization.\nExtracting batch of samples à 5000 events from DVS sequence...\nDiscarded 596 events during subsampling.\nDiscarded 250 events during 3-sigma standardization.\nExtracting batch of samples à 5000 events from DVS sequence...\nDiscarded 645 events during subsampling.\nDiscarded 269 events during 3-sigma standardization.\nExtracting batch of samples à 5000 events from DVS sequence...\nDiscarded 894 events during subsampling.\nDiscarded 279 events during 3-sigma standardization.\nExtracting batch of samples à 5000 events from DVS sequence...\nDiscarded 372 events during subsampling.\nDiscarded 286 events during 3-sigma standardization.\nExtracting batch of samples à 5000 events from DVS sequence..."
     ]
    },
    {
     "name": "stdout",
     "output_type": "stream",
     "text": [
      "\nDiscarded 406 events during subsampling.\nDiscarded 257 events during 3-sigma standardization.\nExtracting batch of samples à 5000 events from DVS sequence...\nDiscarded 459 events during subsampling.\nDiscarded 249 events during 3-sigma standardization.\nExtracting batch of samples à 5000 events from DVS sequence...\nDiscarded 1397 events during subsampling.\nDiscarded 220 events during 3-sigma standardization.\nExtracting batch of samples à 5000 events from DVS sequence...\nDiscarded 705 events during subsampling.\nDiscarded 306 events during 3-sigma standardization.\nExtracting batch of samples à 5000 events from DVS sequence...\nDiscarded 128 events during subsampling.\nDiscarded 274 events during 3-sigma standardization.\nExtracting batch of samples à 5000 events from DVS sequence...\n"
     ]
    },
    {
     "name": "stdout",
     "output_type": "stream",
     "text": [
      "Discarded 59 events during subsampling.\nDiscarded 267 events during 3-sigma standardization.\nExtracting batch of samples à 5000 events from DVS sequence...\nDiscarded 200 events during subsampling.\nDiscarded 251 events during 3-sigma standardization.\nExtracting batch of samples à 5000 events from DVS sequence...\nDiscarded 260 events during subsampling.\nDiscarded 294 events during 3-sigma standardization.\nExtracting batch of samples à 5000 events from DVS sequence...\nDiscarded 674 events during subsampling.\nDiscarded 298 events during 3-sigma standardization.\nExtracting batch of samples à 5000 events from DVS sequence...\nDiscarded 504 events during subsampling.\nDiscarded 276 events during 3-sigma standardization.\nExtracting batch of samples à 5000 events from DVS sequence..."
     ]
    },
    {
     "name": "stdout",
     "output_type": "stream",
     "text": [
      "\nDiscarded 3 events during subsampling.\nDiscarded 378 events during 3-sigma standardization.\nExtracting batch of samples à 5000 events from DVS sequence...\nDiscarded 333 events during subsampling.\nDiscarded 411 events during 3-sigma standardization.\nExtracting batch of samples à 5000 events from DVS sequence...\nDiscarded 427 events during subsampling.\nDiscarded 543 events during 3-sigma standardization.\nExtracting batch of samples à 5000 events from DVS sequence...\nDiscarded 380 events during subsampling.\nDiscarded 540 events during 3-sigma standardization.\nExtracting batch of samples à 5000 events from DVS sequence...\nDiscarded 498 events during subsampling.\nDiscarded 442 events during 3-sigma standardization.\nExtracting batch of samples à 5000 events from DVS sequence..."
     ]
    },
    {
     "name": "stdout",
     "output_type": "stream",
     "text": [
      "\nDiscarded 304 events during subsampling.\nDiscarded 541 events during 3-sigma standardization.\nExtracting batch of samples à 5000 events from DVS sequence...\nDiscarded 279 events during subsampling.\nDiscarded 505 events during 3-sigma standardization.\nExtracting batch of samples à 5000 events from DVS sequence...\nDiscarded 240 events during subsampling.\nDiscarded 479 events during 3-sigma standardization.\nExtracting batch of samples à 5000 events from DVS sequence...\nDiscarded 211 events during subsampling.\nDiscarded 470 events during 3-sigma standardization.\nExtracting batch of samples à 5000 events from DVS sequence...\nDiscarded 377 events during subsampling.\nDiscarded 522 events during 3-sigma standardization.\nExtracting batch of samples à 5000 events from DVS sequence...\n"
     ]
    },
    {
     "name": "stdout",
     "output_type": "stream",
     "text": [
      "Discarded 149 events during subsampling.\nDiscarded 363 events during 3-sigma standardization.\nExtracting batch of samples à 5000 events from DVS sequence...\nDiscarded 499 events during subsampling.\nDiscarded 315 events during 3-sigma standardization.\nExtracting batch of samples à 5000 events from DVS sequence...\nDiscarded 80 events during subsampling.\nDiscarded 342 events during 3-sigma standardization.\nExtracting batch of samples à 5000 events from DVS sequence...\nDiscarded 339 events during subsampling.\nDiscarded 352 events during 3-sigma standardization.\nExtracting batch of samples à 5000 events from DVS sequence...\nDiscarded 438 events during subsampling.\nDiscarded 369 events during 3-sigma standardization.\nExtracting batch of samples à 5000 events from DVS sequence...\n"
     ]
    },
    {
     "name": "stdout",
     "output_type": "stream",
     "text": [
      "Discarded 329 events during subsampling.\nDiscarded 342 events during 3-sigma standardization.\nExtracting batch of samples à 5000 events from DVS sequence...\nDiscarded 383 events during subsampling.\nDiscarded 345 events during 3-sigma standardization.\nExtracting batch of samples à 5000 events from DVS sequence...\nDiscarded 463 events during subsampling.\nDiscarded 341 events during 3-sigma standardization.\nExtracting batch of samples à 5000 events from DVS sequence...\nDiscarded 360 events during subsampling.\nDiscarded 332 events during 3-sigma standardization.\nExtracting batch of samples à 5000 events from DVS sequence...\nDiscarded 405 events during subsampling.\nDiscarded 337 events during 3-sigma standardization.\n"
     ]
    },
    {
     "name": "stdout",
     "output_type": "stream",
     "text": [
      "Extracting batch of samples à 5000 events from DVS sequence...\nDiscarded 179 events during subsampling.\nDiscarded 366 events during 3-sigma standardization.\nExtracting batch of samples à 5000 events from DVS sequence...\nDiscarded 659 events during subsampling.\nDiscarded 303 events during 3-sigma standardization.\nExtracting batch of samples à 5000 events from DVS sequence...\nDiscarded 104 events during subsampling.\nDiscarded 328 events during 3-sigma standardization.\nExtracting batch of samples à 5000 events from DVS sequence...\nDiscarded 125 events during subsampling.\nDiscarded 433 events during 3-sigma standardization.\nExtracting batch of samples à 5000 events from DVS sequence...\nDiscarded 262 events during subsampling.\nDiscarded 320 events during 3-sigma standardization.\n"
     ]
    },
    {
     "name": "stdout",
     "output_type": "stream",
     "text": [
      "Extracting batch of samples à 5000 events from DVS sequence...\nDiscarded 101 events during subsampling.\nDiscarded 356 events during 3-sigma standardization.\nExtracting batch of samples à 5000 events from DVS sequence...\nDiscarded 399 events during subsampling.\nDiscarded 343 events during 3-sigma standardization.\nExtracting batch of samples à 5000 events from DVS sequence...\nDiscarded 189 events during subsampling.\nDiscarded 362 events during 3-sigma standardization.\nExtracting batch of samples à 5000 events from DVS sequence...\nDiscarded 644 events during subsampling.\nDiscarded 299 events during 3-sigma standardization.\nExtracting batch of samples à 5000 events from DVS sequence...\nDiscarded 224 events during subsampling.\nDiscarded 298 events during 3-sigma standardization.\n"
     ]
    },
    {
     "name": "stdout",
     "output_type": "stream",
     "text": [
      "Extracting batch of samples à 5000 events from DVS sequence...\nDiscarded 223 events during subsampling.\nDiscarded 320 events during 3-sigma standardization.\nExtracting batch of samples à 5000 events from DVS sequence...\nDiscarded 276 events during subsampling.\nDiscarded 326 events during 3-sigma standardization.\nExtracting batch of samples à 5000 events from DVS sequence...\nDiscarded 404 events during subsampling.\nDiscarded 333 events during 3-sigma standardization.\nExtracting batch of samples à 5000 events from DVS sequence...\nDiscarded 221 events during subsampling.\nDiscarded 313 events during 3-sigma standardization.\nExtracting batch of samples à 5000 events from DVS sequence...\nDiscarded 259 events during subsampling.\nDiscarded 301 events during 3-sigma standardization.\nExtracting batch of samples à 5000 events from DVS sequence..."
     ]
    },
    {
     "name": "stdout",
     "output_type": "stream",
     "text": [
      "\nDiscarded 135 events during subsampling.\nDiscarded 327 events during 3-sigma standardization.\nExtracting batch of samples à 5000 events from DVS sequence...\nDiscarded 165 events during subsampling.\nDiscarded 356 events during 3-sigma standardization.\nExtracting batch of samples à 5000 events from DVS sequence...\nDiscarded 111 events during subsampling.\nDiscarded 414 events during 3-sigma standardization.\nExtracting batch of samples à 5000 events from DVS sequence...\nDiscarded 449 events during subsampling.\nDiscarded 345 events during 3-sigma standardization.\nExtracting batch of samples à 5000 events from DVS sequence...\nDiscarded 574 events during subsampling.\nDiscarded 343 events during 3-sigma standardization.\n"
     ]
    },
    {
     "name": "stdout",
     "output_type": "stream",
     "text": [
      "Extracting batch of samples à 5000 events from DVS sequence...\nDiscarded 166 events during subsampling.\nDiscarded 391 events during 3-sigma standardization.\nExtracting batch of samples à 5000 events from DVS sequence...\nDiscarded 39 events during subsampling.\nDiscarded 415 events during 3-sigma standardization.\nExtracting batch of samples à 5000 events from DVS sequence...\nDiscarded 516 events during subsampling.\nDiscarded 335 events during 3-sigma standardization.\nExtracting batch of samples à 5000 events from DVS sequence...\nDiscarded 187 events during subsampling.\nDiscarded 408 events during 3-sigma standardization.\nExtracting batch of samples à 5000 events from DVS sequence...\nDiscarded 620 events during subsampling.\nDiscarded 344 events during 3-sigma standardization.\n"
     ]
    },
    {
     "name": "stdout",
     "output_type": "stream",
     "text": [
      "Extracting batch of samples à 5000 events from DVS sequence...\nDiscarded 509 events during subsampling.\nDiscarded 333 events during 3-sigma standardization.\nExtracting batch of samples à 5000 events from DVS sequence...\nDiscarded 105 events during subsampling.\nDiscarded 328 events during 3-sigma standardization.\nExtracting batch of samples à 5000 events from DVS sequence...\nDiscarded 459 events during subsampling.\nDiscarded 318 events during 3-sigma standardization.\nExtracting batch of samples à 5000 events from DVS sequence...\nDiscarded 538 events during subsampling.\nDiscarded 326 events during 3-sigma standardization.\nExtracting batch of samples à 5000 events from DVS sequence...\nDiscarded 77 events during subsampling.\nDiscarded 326 events during 3-sigma standardization.\n"
     ]
    },
    {
     "name": "stdout",
     "output_type": "stream",
     "text": [
      "Extracting batch of samples à 5000 events from DVS sequence...\nDiscarded 186 events during subsampling.\nDiscarded 305 events during 3-sigma standardization.\nExtracting batch of samples à 5000 events from DVS sequence...\nDiscarded 60 events during subsampling.\nDiscarded 300 events during 3-sigma standardization.\nExtracting batch of samples à 5000 events from DVS sequence...\nDiscarded 42 events during subsampling.\nDiscarded 322 events during 3-sigma standardization.\nExtracting batch of samples à 5000 events from DVS sequence...\nDiscarded 369 events during subsampling.\nDiscarded 309 events during 3-sigma standardization.\nExtracting batch of samples à 5000 events from DVS sequence...\nDiscarded 504 events during subsampling.\nDiscarded 326 events during 3-sigma standardization."
     ]
    },
    {
     "name": "stdout",
     "output_type": "stream",
     "text": [
      "\nExtracting batch of samples à 5000 events from DVS sequence...\nDiscarded 499 events during subsampling.\nDiscarded 288 events during 3-sigma standardization.\nExtracting batch of samples à 5000 events from DVS sequence...\nDiscarded 629 events during subsampling.\nDiscarded 279 events during 3-sigma standardization.\nExtracting batch of samples à 5000 events from DVS sequence...\nDiscarded 58 events during subsampling.\nDiscarded 364 events during 3-sigma standardization.\nExtracting batch of samples à 5000 events from DVS sequence...\nDiscarded 628 events during subsampling.\nDiscarded 255 events during 3-sigma standardization.\nExtracting batch of samples à 5000 events from DVS sequence...\nDiscarded 482 events during subsampling.\nDiscarded 359 events during 3-sigma standardization.\nExtracting batch of samples à 5000 events from DVS sequence..."
     ]
    },
    {
     "name": "stdout",
     "output_type": "stream",
     "text": [
      "\nDiscarded 403 events during subsampling.\nDiscarded 290 events during 3-sigma standardization.\nExtracting batch of samples à 5000 events from DVS sequence...\nDiscarded 345 events during subsampling.\nDiscarded 456 events during 3-sigma standardization.\nExtracting batch of samples à 5000 events from DVS sequence...\nDiscarded 324 events during subsampling.\nDiscarded 337 events during 3-sigma standardization.\nExtracting batch of samples à 5000 events from DVS sequence...\nDiscarded 251 events during subsampling.\nDiscarded 499 events during 3-sigma standardization.\nExtracting batch of samples à 5000 events from DVS sequence...\nDiscarded 297 events during subsampling.\nDiscarded 300 events during 3-sigma standardization.\nExtracting batch of samples à 5000 events from DVS sequence...\n"
     ]
    },
    {
     "name": "stdout",
     "output_type": "stream",
     "text": [
      "Discarded 334 events during subsampling.\nDiscarded 333 events during 3-sigma standardization.\nExtracting batch of samples à 5000 events from DVS sequence...\nDiscarded 349 events during subsampling.\nDiscarded 321 events during 3-sigma standardization.\nExtracting batch of samples à 5000 events from DVS sequence...\nDiscarded 618 events during subsampling.\nDiscarded 416 events during 3-sigma standardization.\nExtracting batch of samples à 5000 events from DVS sequence...\nDiscarded 437 events during subsampling.\nDiscarded 396 events during 3-sigma standardization.\nExtracting batch of samples à 5000 events from DVS sequence...\nDiscarded 691 events during subsampling.\nDiscarded 462 events during 3-sigma standardization.\nExtracting batch of samples à 5000 events from DVS sequence...\n"
     ]
    },
    {
     "name": "stdout",
     "output_type": "stream",
     "text": [
      "Discarded 302 events during subsampling.\nDiscarded 271 events during 3-sigma standardization.\nExtracting batch of samples à 5000 events from DVS sequence...\nDiscarded 493 events during subsampling.\nDiscarded 356 events during 3-sigma standardization.\nExtracting batch of samples à 5000 events from DVS sequence...\nDiscarded 523 events during subsampling.\nDiscarded 321 events during 3-sigma standardization.\nExtracting batch of samples à 5000 events from DVS sequence...\nDiscarded 525 events during subsampling.\nDiscarded 304 events during 3-sigma standardization.\nExtracting batch of samples à 5000 events from DVS sequence...\nDiscarded 510 events during subsampling.\nDiscarded 305 events during 3-sigma standardization.\nExtracting batch of samples à 5000 events from DVS sequence...\n"
     ]
    },
    {
     "name": "stdout",
     "output_type": "stream",
     "text": [
      "Discarded 366 events during subsampling.\nDiscarded 332 events during 3-sigma standardization.\nExtracting batch of samples à 5000 events from DVS sequence...\nDiscarded 555 events during subsampling.\nDiscarded 306 events during 3-sigma standardization.\nExtracting batch of samples à 5000 events from DVS sequence...\nDiscarded 395 events during subsampling.\nDiscarded 384 events during 3-sigma standardization.\nExtracting batch of samples à 5000 events from DVS sequence...\nDiscarded 76 events during subsampling.\nDiscarded 295 events during 3-sigma standardization.\nExtracting batch of samples à 5000 events from DVS sequence...\nDiscarded 190 events during subsampling.\nDiscarded 336 events during 3-sigma standardization.\nExtracting batch of samples à 5000 events from DVS sequence...\nDiscarded 526 events during subsampling.\n"
     ]
    },
    {
     "name": "stdout",
     "output_type": "stream",
     "text": [
      "Discarded 328 events during 3-sigma standardization.\nExtracting batch of samples à 5000 events from DVS sequence...\nDiscarded 406 events during subsampling.\nDiscarded 329 events during 3-sigma standardization.\nExtracting batch of samples à 5000 events from DVS sequence...\nDiscarded 433 events during subsampling.\nDiscarded 329 events during 3-sigma standardization.\nExtracting batch of samples à 5000 events from DVS sequence...\nDiscarded 494 events during subsampling.\nDiscarded 335 events during 3-sigma standardization.\nExtracting batch of samples à 5000 events from DVS sequence...\nDiscarded 401 events during subsampling.\nDiscarded 339 events during 3-sigma standardization.\nExtracting batch of samples à 5000 events from DVS sequence...\n"
     ]
    },
    {
     "name": "stdout",
     "output_type": "stream",
     "text": [
      "Discarded 378 events during subsampling.\nDiscarded 326 events during 3-sigma standardization.\nExtracting batch of samples à 5000 events from DVS sequence...\nDiscarded 340 events during subsampling.\nDiscarded 334 events during 3-sigma standardization.\nExtracting batch of samples à 5000 events from DVS sequence...\nDiscarded 468 events during subsampling.\nDiscarded 268 events during 3-sigma standardization.\nExtracting batch of samples à 5000 events from DVS sequence...\nDiscarded 508 events during subsampling.\nDiscarded 374 events during 3-sigma standardization.\nExtracting batch of samples à 5000 events from DVS sequence...\nDiscarded 7 events during subsampling.\nDiscarded 429 events during 3-sigma standardization.\nExtracting batch of samples à 5000 events from DVS sequence...\nDiscarded 154 events during subsampling.\nDiscarded 362 events during 3-sigma standardization.\nExtracting batch of samples à 5000 events from DVS sequence..."
     ]
    },
    {
     "name": "stdout",
     "output_type": "stream",
     "text": [
      "\nDiscarded 578 events during subsampling.\nDiscarded 370 events during 3-sigma standardization.\nExtracting batch of samples à 5000 events from DVS sequence...\nDiscarded 11 events during subsampling.\nDiscarded 384 events during 3-sigma standardization.\nExtracting batch of samples à 5000 events from DVS sequence...\nDiscarded 526 events during subsampling.\nDiscarded 339 events during 3-sigma standardization.\nExtracting batch of samples à 5000 events from DVS sequence...\nDiscarded 268 events during subsampling.\nDiscarded 328 events during 3-sigma standardization.\nExtracting batch of samples à 5000 events from DVS sequence...\nDiscarded 4 events during subsampling.\nDiscarded 414 events during 3-sigma standardization.\nExtracting batch of samples à 5000 events from DVS sequence...\n"
     ]
    },
    {
     "name": "stdout",
     "output_type": "stream",
     "text": [
      "Discarded 261 events during subsampling.\nDiscarded 306 events during 3-sigma standardization.\nExtracting batch of samples à 5000 events from DVS sequence...\nDiscarded 843 events during subsampling.\nDiscarded 261 events during 3-sigma standardization.\nExtracting batch of samples à 5000 events from DVS sequence...\nDiscarded 10 events during subsampling.\nDiscarded 384 events during 3-sigma standardization.\nExtracting batch of samples à 5000 events from DVS sequence...\nDiscarded 192 events during subsampling.\nDiscarded 328 events during 3-sigma standardization.\nExtracting batch of samples à 5000 events from DVS sequence...\nDiscarded 618 events during subsampling.\nDiscarded 347 events during 3-sigma standardization.\nExtracting batch of samples à 5000 events from DVS sequence...\n"
     ]
    },
    {
     "name": "stdout",
     "output_type": "stream",
     "text": [
      "Discarded 249 events during subsampling.\nDiscarded 304 events during 3-sigma standardization.\nExtracting batch of samples à 5000 events from DVS sequence...\nDiscarded 765 events during subsampling.\nDiscarded 278 events during 3-sigma standardization.\nExtracting batch of samples à 5000 events from DVS sequence...\nDiscarded 392 events during subsampling.\nDiscarded 387 events during 3-sigma standardization.\nExtracting batch of samples à 5000 events from DVS sequence...\nDiscarded 257 events during subsampling.\nDiscarded 285 events during 3-sigma standardization.\nExtracting batch of samples à 5000 events from DVS sequence...\nDiscarded 224 events during subsampling.\nDiscarded 340 events during 3-sigma standardization.\nExtracting batch of samples à 5000 events from DVS sequence...\nDiscarded 377 events during subsampling.\nDiscarded 338 events during 3-sigma standardization."
     ]
    },
    {
     "name": "stdout",
     "output_type": "stream",
     "text": [
      "\nExtracting batch of samples à 5000 events from DVS sequence...\nDiscarded 640 events during subsampling.\nDiscarded 331 events during 3-sigma standardization.\nExtracting batch of samples à 5000 events from DVS sequence...\nDiscarded 52 events during subsampling.\nDiscarded 357 events during 3-sigma standardization.\nExtracting batch of samples à 5000 events from DVS sequence...\nDiscarded 510 events during subsampling.\nDiscarded 370 events during 3-sigma standardization.\nExtracting batch of samples à 5000 events from DVS sequence...\nDiscarded 159 events during subsampling.\nDiscarded 333 events during 3-sigma standardization.\nExtracting batch of samples à 5000 events from DVS sequence...\nDiscarded 111 events during subsampling.\nDiscarded 377 events during 3-sigma standardization.\nExtracting batch of samples à 5000 events from DVS sequence...\n"
     ]
    },
    {
     "name": "stdout",
     "output_type": "stream",
     "text": [
      "Discarded 222 events during subsampling.\nDiscarded 291 events during 3-sigma standardization.\nExtracting batch of samples à 5000 events from DVS sequence...\nDiscarded 203 events during subsampling.\nDiscarded 401 events during 3-sigma standardization.\nExtracting batch of samples à 5000 events from DVS sequence...\nDiscarded 619 events during subsampling.\nDiscarded 233 events during 3-sigma standardization.\nExtracting batch of samples à 5000 events from DVS sequence...\nDiscarded 627 events during subsampling.\nDiscarded 318 events during 3-sigma standardization.\nExtracting batch of samples à 5000 events from DVS sequence...\nDiscarded 286 events during subsampling.\nDiscarded 357 events during 3-sigma standardization.\nExtracting batch of samples à 5000 events from DVS sequence...\n"
     ]
    },
    {
     "name": "stdout",
     "output_type": "stream",
     "text": [
      "Discarded 362 events during subsampling.\nDiscarded 338 events during 3-sigma standardization.\nExtracting batch of samples à 5000 events from DVS sequence...\nDiscarded 418 events during subsampling.\nDiscarded 289 events during 3-sigma standardization.\nExtracting batch of samples à 5000 events from DVS sequence...\nDiscarded 457 events during subsampling.\nDiscarded 291 events during 3-sigma standardization.\nExtracting batch of samples à 5000 events from DVS sequence...\nDiscarded 487 events during subsampling.\nDiscarded 255 events during 3-sigma standardization.\nExtracting batch of samples à 5000 events from DVS sequence...\nDiscarded 158 events during subsampling.\nDiscarded 238 events during 3-sigma standardization.\nExtracting batch of samples à 5000 events from DVS sequence...\n"
     ]
    },
    {
     "name": "stdout",
     "output_type": "stream",
     "text": [
      "Discarded 561 events during subsampling.\nDiscarded 269 events during 3-sigma standardization.\nExtracting batch of samples à 5000 events from DVS sequence...\nDiscarded 1418 events during subsampling.\nDiscarded 193 events during 3-sigma standardization.\nExtracting batch of samples à 5000 events from DVS sequence...\nDiscarded 191 events during subsampling.\nDiscarded 341 events during 3-sigma standardization.\nExtracting batch of samples à 5000 events from DVS sequence...\nDiscarded 352 events during subsampling.\nDiscarded 543 events during 3-sigma standardization.\nExtracting batch of samples à 5000 events from DVS sequence...\nDiscarded 1853 events during subsampling.\nDiscarded 159 events during 3-sigma standardization.\nExtracting batch of samples à 5000 events from DVS sequence...\n"
     ]
    },
    {
     "name": "stdout",
     "output_type": "stream",
     "text": [
      "Discarded 1600 events during subsampling.\nDiscarded 164 events during 3-sigma standardization.\nExtracting batch of samples à 5000 events from DVS sequence...\nDiscarded 259 events during subsampling.\nDiscarded 321 events during 3-sigma standardization.\nExtracting batch of samples à 5000 events from DVS sequence...\nDiscarded 976 events during subsampling.\nDiscarded 274 events during 3-sigma standardization.\nExtracting batch of samples à 5000 events from DVS sequence...\nDiscarded 504 events during subsampling.\nDiscarded 304 events during 3-sigma standardization.\nExtracting batch of samples à 5000 events from DVS sequence...\nDiscarded 298 events during subsampling.\nDiscarded 438 events during 3-sigma standardization.\nExtracting batch of samples à 5000 events from DVS sequence...\n"
     ]
    },
    {
     "name": "stdout",
     "output_type": "stream",
     "text": [
      "Discarded 319 events during subsampling.\nDiscarded 381 events during 3-sigma standardization.\nExtracting batch of samples à 5000 events from DVS sequence...\nDiscarded 355 events during subsampling.\nDiscarded 558 events during 3-sigma standardization.\nExtracting batch of samples à 5000 events from DVS sequence...\nDiscarded 334 events during subsampling.\nDiscarded 520 events during 3-sigma standardization.\nExtracting batch of samples à 5000 events from DVS sequence...\nDiscarded 356 events during subsampling.\nDiscarded 403 events during 3-sigma standardization.\nExtracting batch of samples à 5000 events from DVS sequence...\nDiscarded 258 events during subsampling.\nDiscarded 284 events during 3-sigma standardization.\nExtracting batch of samples à 5000 events from DVS sequence...\n"
     ]
    },
    {
     "name": "stdout",
     "output_type": "stream",
     "text": [
      "Discarded 527 events during subsampling.\nDiscarded 315 events during 3-sigma standardization.\nExtracting batch of samples à 5000 events from DVS sequence...\nDiscarded 592 events during subsampling.\nDiscarded 346 events during 3-sigma standardization.\nExtracting batch of samples à 5000 events from DVS sequence...\nDiscarded 349 events during subsampling.\nDiscarded 364 events during 3-sigma standardization.\nExtracting batch of samples à 5000 events from DVS sequence...\nDiscarded 711 events during subsampling.\nDiscarded 271 events during 3-sigma standardization.\nExtracting batch of samples à 5000 events from DVS sequence...\nDiscarded 505 events during subsampling.\nDiscarded 318 events during 3-sigma standardization.\nExtracting batch of samples à 5000 events from DVS sequence...\n"
     ]
    },
    {
     "name": "stdout",
     "output_type": "stream",
     "text": [
      "Discarded 137 events during subsampling.\nDiscarded 337 events during 3-sigma standardization.\nExtracting batch of samples à 5000 events from DVS sequence...\nDiscarded 451 events during subsampling.\nDiscarded 356 events during 3-sigma standardization.\nExtracting batch of samples à 5000 events from DVS sequence...\nDiscarded 74 events during subsampling.\nDiscarded 348 events during 3-sigma standardization.\nExtracting batch of samples à 5000 events from DVS sequence...\nDiscarded 482 events during subsampling.\nDiscarded 277 events during 3-sigma standardization.\nExtracting batch of samples à 5000 events from DVS sequence...\nDiscarded 49 events during subsampling.\nDiscarded 322 events during 3-sigma standardization.\nExtracting batch of samples à 5000 events from DVS sequence...\n"
     ]
    },
    {
     "name": "stdout",
     "output_type": "stream",
     "text": [
      "Discarded 157 events during subsampling.\nDiscarded 291 events during 3-sigma standardization.\nExtracting batch of samples à 5000 events from DVS sequence...\nDiscarded 512 events during subsampling.\nDiscarded 362 events during 3-sigma standardization.\nExtracting batch of samples à 5000 events from DVS sequence...\nDiscarded 12 events during subsampling.\nDiscarded 382 events during 3-sigma standardization.\nExtracting batch of samples à 5000 events from DVS sequence...\nDiscarded 1228 events during subsampling.\nDiscarded 233 events during 3-sigma standardization.\nExtracting batch of samples à 5000 events from DVS sequence...\nDiscarded 618 events during subsampling.\nDiscarded 296 events during 3-sigma standardization.\nExtracting batch of samples à 5000 events from DVS sequence...\n"
     ]
    },
    {
     "name": "stdout",
     "output_type": "stream",
     "text": [
      "Discarded 38 events during subsampling.\nDiscarded 345 events during 3-sigma standardization.\nExtracting batch of samples à 5000 events from DVS sequence...\nDiscarded 1374 events during subsampling.\nDiscarded 243 events during 3-sigma standardization.\nExtracting batch of samples à 5000 events from DVS sequence...\nDiscarded 537 events during subsampling.\nDiscarded 350 events during 3-sigma standardization.\nExtracting batch of samples à 5000 events from DVS sequence...\nDiscarded 361 events during subsampling.\nDiscarded 307 events during 3-sigma standardization.\nExtracting batch of samples à 5000 events from DVS sequence...\nDiscarded 95 events during subsampling.\nDiscarded 357 events during 3-sigma standardization.\nExtracting batch of samples à 5000 events from DVS sequence...\n"
     ]
    },
    {
     "name": "stdout",
     "output_type": "stream",
     "text": [
      "Discarded 390 events during subsampling.\nDiscarded 371 events during 3-sigma standardization.\nExtracting batch of samples à 5000 events from DVS sequence...\nDiscarded 224 events during subsampling.\nDiscarded 310 events during 3-sigma standardization.\nExtracting batch of samples à 5000 events from DVS sequence...\nDiscarded 149 events during subsampling.\nDiscarded 397 events during 3-sigma standardization.\nExtracting batch of samples à 5000 events from DVS sequence...\nDiscarded 580 events during subsampling.\nDiscarded 309 events during 3-sigma standardization.\nExtracting batch of samples à 5000 events from DVS sequence...\nDiscarded 706 events during subsampling.\n"
     ]
    },
    {
     "name": "stdout",
     "output_type": "stream",
     "text": [
      "Discarded 331 events during 3-sigma standardization.\nExtracting batch of samples à 5000 events from DVS sequence...\nDiscarded 295 events during subsampling.\nDiscarded 288 events during 3-sigma standardization.\nExtracting batch of samples à 5000 events from DVS sequence...\nDiscarded 727 events during subsampling.\nDiscarded 305 events during 3-sigma standardization.\nExtracting batch of samples à 5000 events from DVS sequence...\nDiscarded 587 events during subsampling.\nDiscarded 345 events during 3-sigma standardization.\nExtracting batch of samples à 5000 events from DVS sequence...\nDiscarded 592 events during subsampling.\nDiscarded 350 events during 3-sigma standardization.\nExtracting batch of samples à 5000 events from DVS sequence...\nDiscarded 706 events during subsampling.\nDiscarded 340 events during 3-sigma standardization.\n"
     ]
    },
    {
     "name": "stdout",
     "output_type": "stream",
     "text": [
      "Extracting batch of samples à 5000 events from DVS sequence...\nDiscarded 331 events during subsampling.\nDiscarded 348 events during 3-sigma standardization.\nExtracting batch of samples à 5000 events from DVS sequence...\nDiscarded 885 events during subsampling.\nDiscarded 298 events during 3-sigma standardization.\nExtracting batch of samples à 5000 events from DVS sequence...\nDiscarded 212 events during subsampling.\nDiscarded 377 events during 3-sigma standardization.\nExtracting batch of samples à 5000 events from DVS sequence...\nDiscarded 507 events during subsampling.\nDiscarded 296 events during 3-sigma standardization.\nExtracting batch of samples à 5000 events from DVS sequence...\nDiscarded 508 events during subsampling.\nDiscarded 318 events during 3-sigma standardization.\nExtracting batch of samples à 5000 events from DVS sequence...\n"
     ]
    },
    {
     "name": "stdout",
     "output_type": "stream",
     "text": [
      "Discarded 468 events during subsampling.\nDiscarded 313 events during 3-sigma standardization.\nExtracting batch of samples à 5000 events from DVS sequence...\nDiscarded 156 events during subsampling.\nDiscarded 333 events during 3-sigma standardization.\nExtracting batch of samples à 5000 events from DVS sequence...\nDiscarded 318 events during subsampling.\nDiscarded 307 events during 3-sigma standardization.\nExtracting batch of samples à 5000 events from DVS sequence...\nDiscarded 74 events during subsampling.\nDiscarded 339 events during 3-sigma standardization.\nExtracting batch of samples à 5000 events from DVS sequence...\nDiscarded 25 events during subsampling.\nDiscarded 286 events during 3-sigma standardization.\nExtracting batch of samples à 5000 events from DVS sequence..."
     ]
    },
    {
     "name": "stdout",
     "output_type": "stream",
     "text": [
      "\nDiscarded 259 events during subsampling.\nDiscarded 306 events during 3-sigma standardization.\nExtracting batch of samples à 5000 events from DVS sequence...\nDiscarded 541 events during subsampling.\nDiscarded 271 events during 3-sigma standardization.\nExtracting batch of samples à 5000 events from DVS sequence...\nDiscarded 484 events during subsampling.\nDiscarded 324 events during 3-sigma standardization.\nExtracting batch of samples à 5000 events from DVS sequence...\nDiscarded 386 events during subsampling.\nDiscarded 288 events during 3-sigma standardization.\nExtracting batch of samples à 5000 events from DVS sequence...\nDiscarded 495 events during subsampling.\nDiscarded 275 events during 3-sigma standardization.\nExtracting batch of samples à 5000 events from DVS sequence...\n"
     ]
    },
    {
     "name": "stdout",
     "output_type": "stream",
     "text": [
      "Discarded 315 events during subsampling.\nDiscarded 314 events during 3-sigma standardization.\nExtracting batch of samples à 5000 events from DVS sequence...\nDiscarded 138 events during subsampling.\nDiscarded 275 events during 3-sigma standardization.\nExtracting batch of samples à 5000 events from DVS sequence...\nDiscarded 445 events during subsampling.\nDiscarded 300 events during 3-sigma standardization.\nExtracting batch of samples à 5000 events from DVS sequence...\nDiscarded 657 events during subsampling.\nDiscarded 309 events during 3-sigma standardization.\nExtracting batch of samples à 5000 events from DVS sequence...\nDiscarded 516 events during subsampling.\nDiscarded 320 events during 3-sigma standardization.\nExtracting batch of samples à 5000 events from DVS sequence...\nDiscarded 408 events during subsampling.\nDiscarded 357 events during 3-sigma standardization."
     ]
    },
    {
     "name": "stdout",
     "output_type": "stream",
     "text": [
      "\nExtracting batch of samples à 5000 events from DVS sequence...\nDiscarded 178 events during subsampling.\nDiscarded 362 events during 3-sigma standardization.\nExtracting batch of samples à 5000 events from DVS sequence...\nDiscarded 514 events during subsampling.\nDiscarded 366 events during 3-sigma standardization.\nExtracting batch of samples à 5000 events from DVS sequence...\nDiscarded 40 events during subsampling.\nDiscarded 430 events during 3-sigma standardization.\nExtracting batch of samples à 5000 events from DVS sequence...\nDiscarded 536 events during subsampling.\nDiscarded 342 events during 3-sigma standardization.\nExtracting batch of samples à 5000 events from DVS sequence...\nDiscarded 555 events during subsampling.\nDiscarded 338 events during 3-sigma standardization.\nExtracting batch of samples à 5000 events from DVS sequence...\n"
     ]
    },
    {
     "name": "stdout",
     "output_type": "stream",
     "text": [
      "Discarded 58 events during subsampling.\nDiscarded 379 events during 3-sigma standardization.\nExtracting batch of samples à 5000 events from DVS sequence...\nDiscarded 192 events during subsampling.\nDiscarded 482 events during 3-sigma standardization.\nExtracting batch of samples à 5000 events from DVS sequence...\nDiscarded 317 events during subsampling.\nDiscarded 486 events during 3-sigma standardization.\nExtracting batch of samples à 5000 events from DVS sequence...\nDiscarded 261 events during subsampling.\nDiscarded 280 events during 3-sigma standardization.\nExtracting batch of samples à 5000 events from DVS sequence...\nDiscarded 320 events during subsampling.\nDiscarded 413 events during 3-sigma standardization.\nExtracting batch of samples à 5000 events from DVS sequence...\nDiscarded 611 events during subsampling."
     ]
    },
    {
     "name": "stdout",
     "output_type": "stream",
     "text": [
      "\nDiscarded 399 events during 3-sigma standardization.\nExtracting batch of samples à 5000 events from DVS sequence...\nDiscarded 431 events during subsampling.\nDiscarded 579 events during 3-sigma standardization.\nLoading DVS sample /home/rbodo/.snntoolbox/Datasets/predator_prey/aedat/not_balanced_4834samples/N/rec_15.aedat...\n"
     ]
    },
    {
     "name": "stdout",
     "output_type": "stream",
     "text": [
      "Total number of events of this sample: 1690000.\nNumber of batches: 338.\nExtracting 338 frames from DVS event sequence.\n"
     ]
    },
    {
     "name": "stdout",
     "output_type": "stream",
     "text": [
      "Extracting batch of samples à 5000 events from DVS sequence...\nDiscarded 1444 events during subsampling.\nDiscarded 209 events during 3-sigma standardization.\nExtracting batch of samples à 5000 events from DVS sequence...\nDiscarded 393 events during subsampling.\nDiscarded 238 events during 3-sigma standardization.\nExtracting batch of samples à 5000 events from DVS sequence...\nDiscarded 954 events during subsampling.\nDiscarded 228 events during 3-sigma standardization.\nExtracting batch of samples à 5000 events from DVS sequence...\nDiscarded 711 events during subsampling.\nDiscarded 301 events during 3-sigma standardization.\nExtracting batch of samples à 5000 events from DVS sequence...\nDiscarded 526 events during subsampling.\nDiscarded 291 events during 3-sigma standardization."
     ]
    },
    {
     "name": "stdout",
     "output_type": "stream",
     "text": [
      "\nExtracting batch of samples à 5000 events from DVS sequence...\nDiscarded 798 events during subsampling.\nDiscarded 303 events during 3-sigma standardization.\nExtracting batch of samples à 5000 events from DVS sequence...\nDiscarded 480 events during subsampling.\nDiscarded 369 events during 3-sigma standardization.\nExtracting batch of samples à 5000 events from DVS sequence...\nDiscarded 739 events during subsampling.\nDiscarded 315 events during 3-sigma standardization.\nExtracting batch of samples à 5000 events from DVS sequence...\nDiscarded 1004 events during subsampling.\nDiscarded 307 events during 3-sigma standardization.\nExtracting batch of samples à 5000 events from DVS sequence...\nDiscarded 929 events during subsampling.\nDiscarded 329 events during 3-sigma standardization.\nExtracting batch of samples à 5000 events from DVS sequence...\nDiscarded 823 events during subsampling."
     ]
    },
    {
     "name": "stdout",
     "output_type": "stream",
     "text": [
      "\nDiscarded 365 events during 3-sigma standardization.\nExtracting batch of samples à 5000 events from DVS sequence...\nDiscarded 1044 events during subsampling.\nDiscarded 359 events during 3-sigma standardization.\nExtracting batch of samples à 5000 events from DVS sequence...\nDiscarded 645 events during subsampling.\nDiscarded 380 events during 3-sigma standardization.\nExtracting batch of samples à 5000 events from DVS sequence...\nDiscarded 750 events during subsampling.\nDiscarded 297 events during 3-sigma standardization.\nExtracting batch of samples à 5000 events from DVS sequence...\nDiscarded 746 events during subsampling.\nDiscarded 389 events during 3-sigma standardization.\nExtracting batch of samples à 5000 events from DVS sequence...\nDiscarded 1138 events during subsampling.\nDiscarded 278 events during 3-sigma standardization.\nExtracting batch of samples à 5000 events from DVS sequence...\n"
     ]
    },
    {
     "name": "stdout",
     "output_type": "stream",
     "text": [
      "Discarded 1072 events during subsampling.\nDiscarded 255 events during 3-sigma standardization.\nExtracting batch of samples à 5000 events from DVS sequence...\nDiscarded 762 events during subsampling.\nDiscarded 331 events during 3-sigma standardization.\nExtracting batch of samples à 5000 events from DVS sequence...\nDiscarded 701 events during subsampling.\nDiscarded 376 events during 3-sigma standardization.\nExtracting batch of samples à 5000 events from DVS sequence...\nDiscarded 619 events during subsampling.\nDiscarded 261 events during 3-sigma standardization.\nExtracting batch of samples à 5000 events from DVS sequence...\nDiscarded 919 events during subsampling.\nDiscarded 309 events during 3-sigma standardization.\nExtracting batch of samples à 5000 events from DVS sequence...\n"
     ]
    },
    {
     "name": "stdout",
     "output_type": "stream",
     "text": [
      "Discarded 1021 events during subsampling.\nDiscarded 236 events during 3-sigma standardization.\nExtracting batch of samples à 5000 events from DVS sequence...\nDiscarded 850 events during subsampling.\nDiscarded 229 events during 3-sigma standardization.\nExtracting batch of samples à 5000 events from DVS sequence...\nDiscarded 843 events during subsampling.\nDiscarded 335 events during 3-sigma standardization.\nExtracting batch of samples à 5000 events from DVS sequence...\nDiscarded 545 events during subsampling.\nDiscarded 615 events during 3-sigma standardization.\nExtracting batch of samples à 5000 events from DVS sequence...\nDiscarded 698 events during subsampling.\nDiscarded 343 events during 3-sigma standardization.\nExtracting batch of samples à 5000 events from DVS sequence...\nDiscarded 799 events during subsampling.\nDiscarded 343 events during 3-sigma standardization.\nExtracting batch of samples à 5000 events from DVS sequence...\n"
     ]
    },
    {
     "name": "stdout",
     "output_type": "stream",
     "text": [
      "Discarded 531 events during subsampling.\nDiscarded 574 events during 3-sigma standardization.\nExtracting batch of samples à 5000 events from DVS sequence...\nDiscarded 539 events during subsampling.\nDiscarded 300 events during 3-sigma standardization.\nExtracting batch of samples à 5000 events from DVS sequence...\nDiscarded 866 events during subsampling.\nDiscarded 403 events during 3-sigma standardization.\nExtracting batch of samples à 5000 events from DVS sequence...\nDiscarded 410 events during subsampling.\nDiscarded 288 events during 3-sigma standardization.\nExtracting batch of samples à 5000 events from DVS sequence...\nDiscarded 771 events during subsampling.\nDiscarded 359 events during 3-sigma standardization.\nExtracting batch of samples à 5000 events from DVS sequence...\nDiscarded 668 events during subsampling."
     ]
    },
    {
     "name": "stdout",
     "output_type": "stream",
     "text": [
      "\nDiscarded 307 events during 3-sigma standardization.\nExtracting batch of samples à 5000 events from DVS sequence...\nDiscarded 191 events during subsampling.\nDiscarded 308 events during 3-sigma standardization.\nExtracting batch of samples à 5000 events from DVS sequence...\nDiscarded 1085 events during subsampling.\nDiscarded 255 events during 3-sigma standardization.\nExtracting batch of samples à 5000 events from DVS sequence...\nDiscarded 694 events during subsampling.\nDiscarded 243 events during 3-sigma standardization.\nExtracting batch of samples à 5000 events from DVS sequence...\nDiscarded 642 events during subsampling.\nDiscarded 316 events during 3-sigma standardization.\nExtracting batch of samples à 5000 events from DVS sequence...\nDiscarded 793 events during subsampling.\nDiscarded 287 events during 3-sigma standardization.\n"
     ]
    },
    {
     "name": "stdout",
     "output_type": "stream",
     "text": [
      "Extracting batch of samples à 5000 events from DVS sequence...\nDiscarded 484 events during subsampling.\nDiscarded 392 events during 3-sigma standardization.\nExtracting batch of samples à 5000 events from DVS sequence...\nDiscarded 1255 events during subsampling.\nDiscarded 254 events during 3-sigma standardization.\nExtracting batch of samples à 5000 events from DVS sequence...\nDiscarded 22 events during subsampling.\nDiscarded 339 events during 3-sigma standardization.\nExtracting batch of samples à 5000 events from DVS sequence...\nDiscarded 1291 events during subsampling.\nDiscarded 264 events during 3-sigma standardization.\nExtracting batch of samples à 5000 events from DVS sequence...\nDiscarded 713 events during subsampling.\nDiscarded 232 events during 3-sigma standardization.\nExtracting batch of samples à 5000 events from DVS sequence...\n"
     ]
    },
    {
     "name": "stdout",
     "output_type": "stream",
     "text": [
      "Discarded 1515 events during subsampling.\nDiscarded 178 events during 3-sigma standardization.\nExtracting batch of samples à 5000 events from DVS sequence...\nDiscarded 723 events during subsampling.\nDiscarded 174 events during 3-sigma standardization.\nExtracting batch of samples à 5000 events from DVS sequence...\nDiscarded 892 events during subsampling.\nDiscarded 215 events during 3-sigma standardization.\nExtracting batch of samples à 5000 events from DVS sequence...\nDiscarded 713 events during subsampling.\nDiscarded 243 events during 3-sigma standardization.\nExtracting batch of samples à 5000 events from DVS sequence...\nDiscarded 2462 events during subsampling.\nDiscarded 129 events during 3-sigma standardization.\nExtracting batch of samples à 5000 events from DVS sequence...\nDiscarded 645 events during subsampling.\nDiscarded 267 events during 3-sigma standardization.\nExtracting batch of samples à 5000 events from DVS sequence...\nDiscarded 641 events during subsampling.\nDiscarded 279 events during 3-sigma standardization.\n"
     ]
    },
    {
     "name": "stdout",
     "output_type": "stream",
     "text": [
      "Extracting batch of samples à 5000 events from DVS sequence...\nDiscarded 611 events during subsampling.\nDiscarded 248 events during 3-sigma standardization.\nExtracting batch of samples à 5000 events from DVS sequence...\nDiscarded 599 events during subsampling.\nDiscarded 272 events during 3-sigma standardization.\nExtracting batch of samples à 5000 events from DVS sequence...\nDiscarded 1517 events during subsampling.\nDiscarded 252 events during 3-sigma standardization.\nExtracting batch of samples à 5000 events from DVS sequence...\nDiscarded 1041 events during subsampling.\nDiscarded 268 events during 3-sigma standardization.\nExtracting batch of samples à 5000 events from DVS sequence...\nDiscarded 640 events during subsampling.\nDiscarded 234 events during 3-sigma standardization.\nExtracting batch of samples à 5000 events from DVS sequence...\n"
     ]
    },
    {
     "name": "stdout",
     "output_type": "stream",
     "text": [
      "Discarded 919 events during subsampling.\nDiscarded 285 events during 3-sigma standardization.\nExtracting batch of samples à 5000 events from DVS sequence...\nDiscarded 505 events during subsampling.\nDiscarded 247 events during 3-sigma standardization.\nExtracting batch of samples à 5000 events from DVS sequence...\nDiscarded 2446 events during subsampling.\nDiscarded 67 events during 3-sigma standardization.\nExtracting batch of samples à 5000 events from DVS sequence...\nDiscarded 581 events during subsampling.\nDiscarded 237 events during 3-sigma standardization.\nExtracting batch of samples à 5000 events from DVS sequence...\nDiscarded 1426 events during subsampling.\nDiscarded 200 events during 3-sigma standardization.\nExtracting batch of samples à 5000 events from DVS sequence...\nDiscarded 2368 events during subsampling.\nDiscarded 235 events during 3-sigma standardization.\n"
     ]
    },
    {
     "name": "stdout",
     "output_type": "stream",
     "text": [
      "Extracting batch of samples à 5000 events from DVS sequence...\nDiscarded 514 events during subsampling.\nDiscarded 268 events during 3-sigma standardization.\nExtracting batch of samples à 5000 events from DVS sequence...\nDiscarded 548 events during subsampling.\nDiscarded 222 events during 3-sigma standardization.\nExtracting batch of samples à 5000 events from DVS sequence...\nDiscarded 505 events during subsampling.\nDiscarded 236 events during 3-sigma standardization.\nExtracting batch of samples à 5000 events from DVS sequence...\nDiscarded 501 events during subsampling.\nDiscarded 297 events during 3-sigma standardization.\nExtracting batch of samples à 5000 events from DVS sequence...\nDiscarded 523 events during subsampling.\nDiscarded 287 events during 3-sigma standardization.\nExtracting batch of samples à 5000 events from DVS sequence...\n"
     ]
    },
    {
     "name": "stdout",
     "output_type": "stream",
     "text": [
      "Discarded 618 events during subsampling.\nDiscarded 245 events during 3-sigma standardization.\nExtracting batch of samples à 5000 events from DVS sequence...\nDiscarded 506 events during subsampling.\nDiscarded 256 events during 3-sigma standardization.\nExtracting batch of samples à 5000 events from DVS sequence...\nDiscarded 1025 events during subsampling.\nDiscarded 250 events during 3-sigma standardization.\nExtracting batch of samples à 5000 events from DVS sequence...\nDiscarded 501 events during subsampling.\nDiscarded 242 events during 3-sigma standardization.\nExtracting batch of samples à 5000 events from DVS sequence...\nDiscarded 1360 events during subsampling.\nDiscarded 184 events during 3-sigma standardization.\nExtracting batch of samples à 5000 events from DVS sequence...\nDiscarded 578 events during subsampling.\nDiscarded 279 events during 3-sigma standardization."
     ]
    },
    {
     "name": "stdout",
     "output_type": "stream",
     "text": [
      "\nExtracting batch of samples à 5000 events from DVS sequence...\nDiscarded 572 events during subsampling.\nDiscarded 262 events during 3-sigma standardization.\nExtracting batch of samples à 5000 events from DVS sequence...\nDiscarded 425 events during subsampling.\nDiscarded 325 events during 3-sigma standardization.\nExtracting batch of samples à 5000 events from DVS sequence...\nDiscarded 734 events during subsampling.\nDiscarded 259 events during 3-sigma standardization.\nExtracting batch of samples à 5000 events from DVS sequence...\nDiscarded 1960 events during subsampling.\nDiscarded 175 events during 3-sigma standardization.\nExtracting batch of samples à 5000 events from DVS sequence...\nDiscarded 656 events during subsampling.\nDiscarded 282 events during 3-sigma standardization.\nExtracting batch of samples à 5000 events from DVS sequence...\n"
     ]
    },
    {
     "name": "stdout",
     "output_type": "stream",
     "text": [
      "Discarded 493 events during subsampling.\nDiscarded 295 events during 3-sigma standardization.\nExtracting batch of samples à 5000 events from DVS sequence...\nDiscarded 165 events during subsampling.\nDiscarded 310 events during 3-sigma standardization.\nExtracting batch of samples à 5000 events from DVS sequence...\nDiscarded 1139 events during subsampling.\nDiscarded 230 events during 3-sigma standardization.\nExtracting batch of samples à 5000 events from DVS sequence...\nDiscarded 497 events during subsampling.\nDiscarded 460 events during 3-sigma standardization.\nExtracting batch of samples à 5000 events from DVS sequence...\nDiscarded 597 events during subsampling.\nDiscarded 424 events during 3-sigma standardization.\nExtracting batch of samples à 5000 events from DVS sequence...\n"
     ]
    },
    {
     "name": "stdout",
     "output_type": "stream",
     "text": [
      "Discarded 487 events during subsampling.\nDiscarded 481 events during 3-sigma standardization.\nExtracting batch of samples à 5000 events from DVS sequence...\nDiscarded 1327 events during subsampling.\nDiscarded 325 events during 3-sigma standardization.\nExtracting batch of samples à 5000 events from DVS sequence...\nDiscarded 569 events during subsampling.\nDiscarded 363 events during 3-sigma standardization.\nExtracting batch of samples à 5000 events from DVS sequence...\nDiscarded 986 events during subsampling.\nDiscarded 370 events during 3-sigma standardization.\nExtracting batch of samples à 5000 events from DVS sequence...\nDiscarded 845 events during subsampling.\nDiscarded 280 events during 3-sigma standardization.\nExtracting batch of samples à 5000 events from DVS sequence...\n"
     ]
    },
    {
     "name": "stdout",
     "output_type": "stream",
     "text": [
      "Discarded 1057 events during subsampling.\nDiscarded 257 events during 3-sigma standardization.\nExtracting batch of samples à 5000 events from DVS sequence...\nDiscarded 1321 events during subsampling.\nDiscarded 241 events during 3-sigma standardization.\nExtracting batch of samples à 5000 events from DVS sequence...\nDiscarded 495 events during subsampling.\nDiscarded 477 events during 3-sigma standardization.\nExtracting batch of samples à 5000 events from DVS sequence...\nDiscarded 593 events during subsampling.\nDiscarded 426 events during 3-sigma standardization.\nExtracting batch of samples à 5000 events from DVS sequence...\nDiscarded 570 events during subsampling.\nDiscarded 279 events during 3-sigma standardization.\nExtracting batch of samples à 5000 events from DVS sequence...\n"
     ]
    },
    {
     "name": "stdout",
     "output_type": "stream",
     "text": [
      "Discarded 1040 events during subsampling.\nDiscarded 345 events during 3-sigma standardization.\nExtracting batch of samples à 5000 events from DVS sequence...\nDiscarded 552 events during subsampling.\nDiscarded 338 events during 3-sigma standardization.\nExtracting batch of samples à 5000 events from DVS sequence...\nDiscarded 921 events during subsampling.\nDiscarded 324 events during 3-sigma standardization.\nExtracting batch of samples à 5000 events from DVS sequence...\nDiscarded 893 events during subsampling.\nDiscarded 308 events during 3-sigma standardization.\nExtracting batch of samples à 5000 events from DVS sequence...\nDiscarded 1060 events during subsampling.\nDiscarded 378 events during 3-sigma standardization.\nExtracting batch of samples à 5000 events from DVS sequence...\n"
     ]
    },
    {
     "name": "stdout",
     "output_type": "stream",
     "text": [
      "Discarded 1255 events during subsampling.\nDiscarded 318 events during 3-sigma standardization.\nExtracting batch of samples à 5000 events from DVS sequence...\nDiscarded 1110 events during subsampling.\nDiscarded 301 events during 3-sigma standardization.\nExtracting batch of samples à 5000 events from DVS sequence...\nDiscarded 644 events during subsampling.\nDiscarded 370 events during 3-sigma standardization.\nExtracting batch of samples à 5000 events from DVS sequence...\nDiscarded 190 events during subsampling.\nDiscarded 333 events during 3-sigma standardization.\nExtracting batch of samples à 5000 events from DVS sequence...\nDiscarded 1017 events during subsampling.\nDiscarded 326 events during 3-sigma standardization.\nExtracting batch of samples à 5000 events from DVS sequence...\nDiscarded 576 events during subsampling.\nDiscarded 384 events during 3-sigma standardization.\nExtracting batch of samples à 5000 events from DVS sequence...\n"
     ]
    },
    {
     "name": "stdout",
     "output_type": "stream",
     "text": [
      "Discarded 885 events during subsampling.\nDiscarded 282 events during 3-sigma standardization.\nExtracting batch of samples à 5000 events from DVS sequence...\nDiscarded 1010 events during subsampling.\nDiscarded 283 events during 3-sigma standardization.\nExtracting batch of samples à 5000 events from DVS sequence...\nDiscarded 608 events during subsampling.\nDiscarded 307 events during 3-sigma standardization.\nExtracting batch of samples à 5000 events from DVS sequence...\nDiscarded 476 events during subsampling.\nDiscarded 409 events during 3-sigma standardization.\nExtracting batch of samples à 5000 events from DVS sequence...\nDiscarded 88 events during subsampling.\nDiscarded 468 events during 3-sigma standardization.\nExtracting batch of samples à 5000 events from DVS sequence...\nDiscarded 1131 events during subsampling."
     ]
    },
    {
     "name": "stdout",
     "output_type": "stream",
     "text": [
      "\nDiscarded 259 events during 3-sigma standardization.\nExtracting batch of samples à 5000 events from DVS sequence...\nDiscarded 785 events during subsampling.\nDiscarded 393 events during 3-sigma standardization.\nExtracting batch of samples à 5000 events from DVS sequence...\nDiscarded 1052 events during subsampling.\nDiscarded 286 events during 3-sigma standardization.\nExtracting batch of samples à 5000 events from DVS sequence...\nDiscarded 774 events during subsampling.\nDiscarded 318 events during 3-sigma standardization.\nExtracting batch of samples à 5000 events from DVS sequence...\nDiscarded 207 events during subsampling.\nDiscarded 305 events during 3-sigma standardization.\nExtracting batch of samples à 5000 events from DVS sequence...\nDiscarded 576 events during subsampling.\nDiscarded 396 events during 3-sigma standardization.\nExtracting batch of samples à 5000 events from DVS sequence...\n"
     ]
    },
    {
     "name": "stdout",
     "output_type": "stream",
     "text": [
      "Discarded 616 events during subsampling.\nDiscarded 365 events during 3-sigma standardization.\nExtracting batch of samples à 5000 events from DVS sequence...\nDiscarded 857 events during subsampling.\nDiscarded 288 events during 3-sigma standardization.\nExtracting batch of samples à 5000 events from DVS sequence...\nDiscarded 330 events during subsampling.\nDiscarded 316 events during 3-sigma standardization.\nExtracting batch of samples à 5000 events from DVS sequence...\nDiscarded 366 events during subsampling.\nDiscarded 440 events during 3-sigma standardization.\nExtracting batch of samples à 5000 events from DVS sequence...\nDiscarded 451 events during subsampling.\nDiscarded 327 events during 3-sigma standardization.\nExtracting batch of samples à 5000 events from DVS sequence...\nDiscarded 891 events during subsampling."
     ]
    },
    {
     "name": "stdout",
     "output_type": "stream",
     "text": [
      "\nDiscarded 321 events during 3-sigma standardization.\nExtracting batch of samples à 5000 events from DVS sequence...\nDiscarded 438 events during subsampling.\nDiscarded 499 events during 3-sigma standardization.\nExtracting batch of samples à 5000 events from DVS sequence...\nDiscarded 1233 events during subsampling.\nDiscarded 221 events during 3-sigma standardization.\nExtracting batch of samples à 5000 events from DVS sequence...\nDiscarded 527 events during subsampling.\nDiscarded 207 events during 3-sigma standardization.\nExtracting batch of samples à 5000 events from DVS sequence...\nDiscarded 614 events during subsampling.\nDiscarded 266 events during 3-sigma standardization.\nExtracting batch of samples à 5000 events from DVS sequence...\nDiscarded 519 events during subsampling.\nDiscarded 224 events during 3-sigma standardization.\nExtracting batch of samples à 5000 events from DVS sequence..."
     ]
    },
    {
     "name": "stdout",
     "output_type": "stream",
     "text": [
      "\nDiscarded 559 events during subsampling.\nDiscarded 270 events during 3-sigma standardization.\nExtracting batch of samples à 5000 events from DVS sequence...\nDiscarded 577 events during subsampling.\nDiscarded 183 events during 3-sigma standardization.\nExtracting batch of samples à 5000 events from DVS sequence...\nDiscarded 1704 events during subsampling.\nDiscarded 144 events during 3-sigma standardization.\nExtracting batch of samples à 5000 events from DVS sequence...\nDiscarded 1099 events during subsampling.\nDiscarded 205 events during 3-sigma standardization.\nExtracting batch of samples à 5000 events from DVS sequence...\nDiscarded 557 events during subsampling.\nDiscarded 245 events during 3-sigma standardization.\nExtracting batch of samples à 5000 events from DVS sequence...\nDiscarded 557 events during subsampling.\n"
     ]
    },
    {
     "name": "stdout",
     "output_type": "stream",
     "text": [
      "Discarded 252 events during 3-sigma standardization.\nExtracting batch of samples à 5000 events from DVS sequence...\nDiscarded 535 events during subsampling.\nDiscarded 215 events during 3-sigma standardization.\nExtracting batch of samples à 5000 events from DVS sequence...\nDiscarded 573 events during subsampling.\nDiscarded 266 events during 3-sigma standardization.\nExtracting batch of samples à 5000 events from DVS sequence...\nDiscarded 1602 events during subsampling.\nDiscarded 199 events during 3-sigma standardization.\nExtracting batch of samples à 5000 events from DVS sequence...\nDiscarded 826 events during subsampling.\nDiscarded 249 events during 3-sigma standardization.\nExtracting batch of samples à 5000 events from DVS sequence...\nDiscarded 547 events during subsampling.\n"
     ]
    },
    {
     "name": "stdout",
     "output_type": "stream",
     "text": [
      "Discarded 223 events during 3-sigma standardization.\nExtracting batch of samples à 5000 events from DVS sequence...\nDiscarded 591 events during subsampling.\nDiscarded 208 events during 3-sigma standardization.\nExtracting batch of samples à 5000 events from DVS sequence...\nDiscarded 398 events during subsampling.\nDiscarded 261 events during 3-sigma standardization.\nExtracting batch of samples à 5000 events from DVS sequence...\nDiscarded 894 events during subsampling.\nDiscarded 286 events during 3-sigma standardization.\nExtracting batch of samples à 5000 events from DVS sequence...\nDiscarded 1470 events during subsampling.\nDiscarded 189 events during 3-sigma standardization.\nExtracting batch of samples à 5000 events from DVS sequence...\nDiscarded 1227 events during subsampling.\nDiscarded 225 events during 3-sigma standardization.\nExtracting batch of samples à 5000 events from DVS sequence...\n"
     ]
    },
    {
     "name": "stdout",
     "output_type": "stream",
     "text": [
      "Discarded 606 events during subsampling.\nDiscarded 290 events during 3-sigma standardization.\nExtracting batch of samples à 5000 events from DVS sequence...\nDiscarded 108 events during subsampling.\nDiscarded 271 events during 3-sigma standardization.\nExtracting batch of samples à 5000 events from DVS sequence...\nDiscarded 1637 events during subsampling.\nDiscarded 162 events during 3-sigma standardization.\nExtracting batch of samples à 5000 events from DVS sequence...\nDiscarded 552 events during subsampling.\nDiscarded 321 events during 3-sigma standardization.\nExtracting batch of samples à 5000 events from DVS sequence...\nDiscarded 842 events during subsampling.\nDiscarded 313 events during 3-sigma standardization.\nExtracting batch of samples à 5000 events from DVS sequence...\nDiscarded 516 events during subsampling.\nDiscarded 341 events during 3-sigma standardization.\nExtracting batch of samples à 5000 events from DVS sequence...\n"
     ]
    },
    {
     "name": "stdout",
     "output_type": "stream",
     "text": [
      "Discarded 1013 events during subsampling.\nDiscarded 281 events during 3-sigma standardization.\nExtracting batch of samples à 5000 events from DVS sequence...\nDiscarded 1093 events during subsampling.\nDiscarded 265 events during 3-sigma standardization.\nExtracting batch of samples à 5000 events from DVS sequence...\nDiscarded 445 events during subsampling.\nDiscarded 362 events during 3-sigma standardization.\nExtracting batch of samples à 5000 events from DVS sequence...\nDiscarded 472 events during subsampling.\nDiscarded 350 events during 3-sigma standardization.\nExtracting batch of samples à 5000 events from DVS sequence...\nDiscarded 655 events during subsampling.\nDiscarded 359 events during 3-sigma standardization.\nExtracting batch of samples à 5000 events from DVS sequence...\n"
     ]
    },
    {
     "name": "stdout",
     "output_type": "stream",
     "text": [
      "Discarded 892 events during subsampling.\nDiscarded 256 events during 3-sigma standardization.\nExtracting batch of samples à 5000 events from DVS sequence...\nDiscarded 449 events during subsampling.\nDiscarded 310 events during 3-sigma standardization.\nExtracting batch of samples à 5000 events from DVS sequence...\nDiscarded 688 events during subsampling.\nDiscarded 266 events during 3-sigma standardization.\nExtracting batch of samples à 5000 events from DVS sequence...\nDiscarded 582 events during subsampling.\nDiscarded 425 events during 3-sigma standardization.\nExtracting batch of samples à 5000 events from DVS sequence...\nDiscarded 484 events during subsampling.\nDiscarded 298 events during 3-sigma standardization.\nExtracting batch of samples à 5000 events from DVS sequence...\nDiscarded 1461 events during subsampling."
     ]
    },
    {
     "name": "stdout",
     "output_type": "stream",
     "text": [
      "\nDiscarded 225 events during 3-sigma standardization.\nExtracting batch of samples à 5000 events from DVS sequence...\nDiscarded 685 events during subsampling.\nDiscarded 341 events during 3-sigma standardization.\nExtracting batch of samples à 5000 events from DVS sequence...\nDiscarded 591 events during subsampling.\nDiscarded 299 events during 3-sigma standardization.\nExtracting batch of samples à 5000 events from DVS sequence...\nDiscarded 758 events during subsampling.\nDiscarded 380 events during 3-sigma standardization.\nExtracting batch of samples à 5000 events from DVS sequence...\nDiscarded 573 events during subsampling.\nDiscarded 367 events during 3-sigma standardization.\nExtracting batch of samples à 5000 events from DVS sequence...\nDiscarded 814 events during subsampling.\nDiscarded 458 events during 3-sigma standardization.\nExtracting batch of samples à 5000 events from DVS sequence...\n"
     ]
    },
    {
     "name": "stdout",
     "output_type": "stream",
     "text": [
      "Discarded 273 events during subsampling.\nDiscarded 525 events during 3-sigma standardization.\nExtracting batch of samples à 5000 events from DVS sequence...\nDiscarded 378 events during subsampling.\nDiscarded 261 events during 3-sigma standardization.\nExtracting batch of samples à 5000 events from DVS sequence...\nDiscarded 515 events during subsampling.\nDiscarded 262 events during 3-sigma standardization.\nExtracting batch of samples à 5000 events from DVS sequence...\nDiscarded 615 events during subsampling.\nDiscarded 316 events during 3-sigma standardization.\nExtracting batch of samples à 5000 events from DVS sequence...\nDiscarded 576 events during subsampling.\nDiscarded 326 events during 3-sigma standardization.\nExtracting batch of samples à 5000 events from DVS sequence...\n"
     ]
    },
    {
     "name": "stdout",
     "output_type": "stream",
     "text": [
      "Discarded 521 events during subsampling.\nDiscarded 333 events during 3-sigma standardization.\nExtracting batch of samples à 5000 events from DVS sequence...\nDiscarded 640 events during subsampling.\nDiscarded 363 events during 3-sigma standardization.\nExtracting batch of samples à 5000 events from DVS sequence...\nDiscarded 236 events during subsampling.\nDiscarded 386 events during 3-sigma standardization.\nExtracting batch of samples à 5000 events from DVS sequence...\nDiscarded 641 events during subsampling.\nDiscarded 334 events during 3-sigma standardization.\nExtracting batch of samples à 5000 events from DVS sequence...\nDiscarded 179 events during subsampling.\nDiscarded 481 events during 3-sigma standardization.\nExtracting batch of samples à 5000 events from DVS sequence...\nDiscarded 451 events during subsampling.\nDiscarded 439 events during 3-sigma standardization.\n"
     ]
    },
    {
     "name": "stdout",
     "output_type": "stream",
     "text": [
      "Extracting batch of samples à 5000 events from DVS sequence...\nDiscarded 934 events during subsampling.\nDiscarded 293 events during 3-sigma standardization.\nExtracting batch of samples à 5000 events from DVS sequence...\nDiscarded 606 events during subsampling.\nDiscarded 366 events during 3-sigma standardization.\nExtracting batch of samples à 5000 events from DVS sequence...\nDiscarded 234 events during subsampling.\nDiscarded 400 events during 3-sigma standardization.\nExtracting batch of samples à 5000 events from DVS sequence...\nDiscarded 1104 events during subsampling.\nDiscarded 272 events during 3-sigma standardization.\nExtracting batch of samples à 5000 events from DVS sequence...\nDiscarded 649 events during subsampling.\nDiscarded 337 events during 3-sigma standardization.\nExtracting batch of samples à 5000 events from DVS sequence...\n"
     ]
    },
    {
     "name": "stdout",
     "output_type": "stream",
     "text": [
      "Discarded 652 events during subsampling.\nDiscarded 530 events during 3-sigma standardization.\nExtracting batch of samples à 5000 events from DVS sequence...\nDiscarded 568 events during subsampling.\nDiscarded 558 events during 3-sigma standardization.\nExtracting batch of samples à 5000 events from DVS sequence...\nDiscarded 834 events during subsampling.\nDiscarded 432 events during 3-sigma standardization.\nExtracting batch of samples à 5000 events from DVS sequence...\nDiscarded 1180 events during subsampling.\nDiscarded 295 events during 3-sigma standardization.\nExtracting batch of samples à 5000 events from DVS sequence...\nDiscarded 225 events during subsampling.\nDiscarded 406 events during 3-sigma standardization.\nExtracting batch of samples à 5000 events from DVS sequence...\n"
     ]
    },
    {
     "name": "stdout",
     "output_type": "stream",
     "text": [
      "Discarded 422 events during subsampling.\nDiscarded 378 events during 3-sigma standardization.\nExtracting batch of samples à 5000 events from DVS sequence...\nDiscarded 1280 events during subsampling.\nDiscarded 320 events during 3-sigma standardization.\nExtracting batch of samples à 5000 events from DVS sequence...\nDiscarded 913 events during subsampling.\nDiscarded 412 events during 3-sigma standardization.\nExtracting batch of samples à 5000 events from DVS sequence...\nDiscarded 457 events during subsampling.\nDiscarded 353 events during 3-sigma standardization.\nExtracting batch of samples à 5000 events from DVS sequence...\nDiscarded 732 events during subsampling.\nDiscarded 337 events during 3-sigma standardization.\nExtracting batch of samples à 5000 events from DVS sequence...\n"
     ]
    },
    {
     "name": "stdout",
     "output_type": "stream",
     "text": [
      "Discarded 487 events during subsampling.\nDiscarded 392 events during 3-sigma standardization.\nExtracting batch of samples à 5000 events from DVS sequence...\nDiscarded 1234 events during subsampling.\nDiscarded 316 events during 3-sigma standardization.\nExtracting batch of samples à 5000 events from DVS sequence...\nDiscarded 682 events during subsampling.\nDiscarded 245 events during 3-sigma standardization.\nExtracting batch of samples à 5000 events from DVS sequence...\nDiscarded 24 events during subsampling.\nDiscarded 1941 events during 3-sigma standardization.\nExtracting batch of samples à 5000 events from DVS sequence...\nDiscarded 189 events during subsampling.\nDiscarded 1571 events during 3-sigma standardization.\nExtracting batch of samples à 5000 events from DVS sequence...\n"
     ]
    },
    {
     "name": "stdout",
     "output_type": "stream",
     "text": [
      "Discarded 146 events during subsampling.\nDiscarded 1790 events during 3-sigma standardization.\nExtracting batch of samples à 5000 events from DVS sequence...\nDiscarded 51 events during subsampling.\nDiscarded 2036 events during 3-sigma standardization.\nExtracting batch of samples à 5000 events from DVS sequence...\nDiscarded 273 events during subsampling.\nDiscarded 1915 events during 3-sigma standardization.\nExtracting batch of samples à 5000 events from DVS sequence...\nDiscarded 564 events during subsampling.\nDiscarded 209 events during 3-sigma standardization.\nExtracting batch of samples à 5000 events from DVS sequence...\nDiscarded 1225 events during subsampling.\nDiscarded 202 events during 3-sigma standardization.\nExtracting batch of samples à 5000 events from DVS sequence...\nDiscarded 1178 events during subsampling.\nDiscarded 204 events during 3-sigma standardization.\nExtracting batch of samples à 5000 events from DVS sequence...\n"
     ]
    },
    {
     "name": "stdout",
     "output_type": "stream",
     "text": [
      "Discarded 694 events during subsampling.\nDiscarded 186 events during 3-sigma standardization.\nExtracting batch of samples à 5000 events from DVS sequence...\nDiscarded 638 events during subsampling.\nDiscarded 184 events during 3-sigma standardization.\nExtracting batch of samples à 5000 events from DVS sequence...\nDiscarded 1719 events during subsampling.\nDiscarded 231 events during 3-sigma standardization.\nExtracting batch of samples à 5000 events from DVS sequence...\nDiscarded 2649 events during subsampling.\nDiscarded 254 events during 3-sigma standardization.\nExtracting batch of samples à 5000 events from DVS sequence...\nDiscarded 691 events during subsampling.\nDiscarded 198 events during 3-sigma standardization.\nExtracting batch of samples à 5000 events from DVS sequence...\nDiscarded 2101 events during subsampling.\nDiscarded 136 events during 3-sigma standardization.\nExtracting batch of samples à 5000 events from DVS sequence...\nDiscarded 583 events during subsampling.\n"
     ]
    },
    {
     "name": "stdout",
     "output_type": "stream",
     "text": [
      "Discarded 228 events during 3-sigma standardization.\nExtracting batch of samples à 5000 events from DVS sequence...\nDiscarded 578 events during subsampling.\nDiscarded 209 events during 3-sigma standardization.\nExtracting batch of samples à 5000 events from DVS sequence...\nDiscarded 549 events during subsampling.\nDiscarded 221 events during 3-sigma standardization.\nExtracting batch of samples à 5000 events from DVS sequence...\nDiscarded 669 events during subsampling.\nDiscarded 188 events during 3-sigma standardization.\nExtracting batch of samples à 5000 events from DVS sequence...\nDiscarded 1723 events during subsampling.\nDiscarded 206 events during 3-sigma standardization.\nExtracting batch of samples à 5000 events from DVS sequence...\nDiscarded 811 events during subsampling.\nDiscarded 325 events during 3-sigma standardization.\nExtracting batch of samples à 5000 events from DVS sequence...\n"
     ]
    },
    {
     "name": "stdout",
     "output_type": "stream",
     "text": [
      "Discarded 362 events during subsampling.\nDiscarded 300 events during 3-sigma standardization.\nExtracting batch of samples à 5000 events from DVS sequence...\nDiscarded 401 events during subsampling.\nDiscarded 289 events during 3-sigma standardization.\nExtracting batch of samples à 5000 events from DVS sequence...\nDiscarded 439 events during subsampling.\nDiscarded 282 events during 3-sigma standardization.\nExtracting batch of samples à 5000 events from DVS sequence...\nDiscarded 534 events during subsampling.\nDiscarded 346 events during 3-sigma standardization.\nExtracting batch of samples à 5000 events from DVS sequence...\nDiscarded 1053 events during subsampling.\nDiscarded 284 events during 3-sigma standardization.\nExtracting batch of samples à 5000 events from DVS sequence...\n"
     ]
    },
    {
     "name": "stdout",
     "output_type": "stream",
     "text": [
      "Discarded 807 events during subsampling.\nDiscarded 269 events during 3-sigma standardization.\nExtracting batch of samples à 5000 events from DVS sequence...\nDiscarded 519 events during subsampling.\nDiscarded 319 events during 3-sigma standardization.\nExtracting batch of samples à 5000 events from DVS sequence...\nDiscarded 571 events during subsampling.\nDiscarded 279 events during 3-sigma standardization.\nExtracting batch of samples à 5000 events from DVS sequence...\nDiscarded 1118 events during subsampling.\nDiscarded 253 events during 3-sigma standardization.\nExtracting batch of samples à 5000 events from DVS sequence...\nDiscarded 453 events during subsampling.\nDiscarded 245 events during 3-sigma standardization.\nExtracting batch of samples à 5000 events from DVS sequence...\n"
     ]
    },
    {
     "name": "stdout",
     "output_type": "stream",
     "text": [
      "Discarded 1270 events during subsampling.\nDiscarded 286 events during 3-sigma standardization.\nExtracting batch of samples à 5000 events from DVS sequence...\nDiscarded 980 events during subsampling.\nDiscarded 270 events during 3-sigma standardization.\nExtracting batch of samples à 5000 events from DVS sequence...\nDiscarded 476 events during subsampling.\nDiscarded 431 events during 3-sigma standardization.\nExtracting batch of samples à 5000 events from DVS sequence...\nDiscarded 549 events during subsampling.\nDiscarded 347 events during 3-sigma standardization.\nExtracting batch of samples à 5000 events from DVS sequence...\nDiscarded 379 events during subsampling.\nDiscarded 269 events during 3-sigma standardization.\nExtracting batch of samples à 5000 events from DVS sequence...\nDiscarded 1431 events during subsampling.\nDiscarded 201 events during 3-sigma standardization.\nExtracting batch of samples à 5000 events from DVS sequence...\nDiscarded 2220 events during subsampling.\n"
     ]
    },
    {
     "name": "stdout",
     "output_type": "stream",
     "text": [
      "Discarded 89 events during 3-sigma standardization.\nExtracting batch of samples à 5000 events from DVS sequence...\nDiscarded 839 events during subsampling.\nDiscarded 197 events during 3-sigma standardization.\nExtracting batch of samples à 5000 events from DVS sequence...\nDiscarded 555 events during subsampling.\nDiscarded 242 events during 3-sigma standardization.\nExtracting batch of samples à 5000 events from DVS sequence...\nDiscarded 1849 events during subsampling.\nDiscarded 152 events during 3-sigma standardization.\nExtracting batch of samples à 5000 events from DVS sequence...\nDiscarded 1955 events during subsampling.\nDiscarded 121 events during 3-sigma standardization.\nExtracting batch of samples à 5000 events from DVS sequence...\nDiscarded 503 events during subsampling.\n"
     ]
    },
    {
     "name": "stdout",
     "output_type": "stream",
     "text": [
      "Discarded 176 events during 3-sigma standardization.\nExtracting batch of samples à 5000 events from DVS sequence...\nDiscarded 1393 events during subsampling.\nDiscarded 185 events during 3-sigma standardization.\nExtracting batch of samples à 5000 events from DVS sequence...\nDiscarded 2316 events during subsampling.\nDiscarded 142 events during 3-sigma standardization.\nExtracting batch of samples à 5000 events from DVS sequence...\nDiscarded 960 events during subsampling.\nDiscarded 251 events during 3-sigma standardization.\nExtracting batch of samples à 5000 events from DVS sequence...\nDiscarded 470 events during subsampling.\nDiscarded 228 events during 3-sigma standardization.\nExtracting batch of samples à 5000 events from DVS sequence...\nDiscarded 1319 events during subsampling.\nDiscarded 230 events during 3-sigma standardization.\nExtracting batch of samples à 5000 events from DVS sequence...\n"
     ]
    },
    {
     "name": "stdout",
     "output_type": "stream",
     "text": [
      "Discarded 405 events during subsampling.\nDiscarded 204 events during 3-sigma standardization.\nExtracting batch of samples à 5000 events from DVS sequence...\nDiscarded 408 events during subsampling.\nDiscarded 214 events during 3-sigma standardization.\nExtracting batch of samples à 5000 events from DVS sequence...\nDiscarded 415 events during subsampling.\nDiscarded 178 events during 3-sigma standardization.\nExtracting batch of samples à 5000 events from DVS sequence...\nDiscarded 625 events during subsampling.\nDiscarded 160 events during 3-sigma standardization.\nExtracting batch of samples à 5000 events from DVS sequence...\nDiscarded 1866 events during subsampling.\nDiscarded 140 events during 3-sigma standardization.\nExtracting batch of samples à 5000 events from DVS sequence...\n"
     ]
    },
    {
     "name": "stdout",
     "output_type": "stream",
     "text": [
      "Discarded 2174 events during subsampling.\nDiscarded 125 events during 3-sigma standardization.\nExtracting batch of samples à 5000 events from DVS sequence...\nDiscarded 1323 events during subsampling.\nDiscarded 166 events during 3-sigma standardization.\nExtracting batch of samples à 5000 events from DVS sequence...\nDiscarded 599 events during subsampling.\nDiscarded 209 events during 3-sigma standardization.\nExtracting batch of samples à 5000 events from DVS sequence...\nDiscarded 1682 events during subsampling.\nDiscarded 172 events during 3-sigma standardization.\nExtracting batch of samples à 5000 events from DVS sequence...\nDiscarded 475 events during subsampling.\nDiscarded 198 events during 3-sigma standardization.\nExtracting batch of samples à 5000 events from DVS sequence...\nDiscarded 465 events during subsampling.\nDiscarded 209 events during 3-sigma standardization.\nExtracting batch of samples à 5000 events from DVS sequence...\n"
     ]
    },
    {
     "name": "stdout",
     "output_type": "stream",
     "text": [
      "Discarded 2273 events during subsampling.\nDiscarded 140 events during 3-sigma standardization.\nExtracting batch of samples à 5000 events from DVS sequence...\nDiscarded 501 events during subsampling.\nDiscarded 237 events during 3-sigma standardization.\nExtracting batch of samples à 5000 events from DVS sequence...\nDiscarded 1251 events during subsampling.\nDiscarded 260 events during 3-sigma standardization.\nExtracting batch of samples à 5000 events from DVS sequence...\nDiscarded 1195 events during subsampling.\nDiscarded 221 events during 3-sigma standardization.\nExtracting batch of samples à 5000 events from DVS sequence...\nDiscarded 200 events during subsampling.\nDiscarded 247 events during 3-sigma standardization.\nExtracting batch of samples à 5000 events from DVS sequence...\nDiscarded 79 events during subsampling.\nDiscarded 228 events during 3-sigma standardization.\nExtracting batch of samples à 5000 events from DVS sequence...\n"
     ]
    },
    {
     "name": "stdout",
     "output_type": "stream",
     "text": [
      "Discarded 1685 events during subsampling.\nDiscarded 226 events during 3-sigma standardization.\nExtracting batch of samples à 5000 events from DVS sequence...\nDiscarded 1324 events during subsampling.\nDiscarded 217 events during 3-sigma standardization.\nExtracting batch of samples à 5000 events from DVS sequence...\nDiscarded 1245 events during subsampling.\nDiscarded 189 events during 3-sigma standardization.\nExtracting batch of samples à 5000 events from DVS sequence...\nDiscarded 1074 events during subsampling.\nDiscarded 311 events during 3-sigma standardization.\nExtracting batch of samples à 5000 events from DVS sequence...\nDiscarded 943 events during subsampling.\nDiscarded 379 events during 3-sigma standardization.\nExtracting batch of samples à 5000 events from DVS sequence...\nDiscarded 997 events during subsampling.\nDiscarded 393 events during 3-sigma standardization.\nExtracting batch of samples à 5000 events from DVS sequence...\n"
     ]
    },
    {
     "name": "stdout",
     "output_type": "stream",
     "text": [
      "Discarded 906 events during subsampling.\nDiscarded 320 events during 3-sigma standardization.\nExtracting batch of samples à 5000 events from DVS sequence...\nDiscarded 726 events during subsampling.\nDiscarded 464 events during 3-sigma standardization.\nExtracting batch of samples à 5000 events from DVS sequence...\nDiscarded 1214 events during subsampling.\nDiscarded 280 events during 3-sigma standardization.\nExtracting batch of samples à 5000 events from DVS sequence...\nDiscarded 531 events during subsampling.\nDiscarded 395 events during 3-sigma standardization.\nExtracting batch of samples à 5000 events from DVS sequence...\nDiscarded 429 events during subsampling.\nDiscarded 563 events during 3-sigma standardization.\nExtracting batch of samples à 5000 events from DVS sequence...\nDiscarded 918 events during subsampling.\nDiscarded 313 events during 3-sigma standardization.\nExtracting batch of samples à 5000 events from DVS sequence...\n"
     ]
    },
    {
     "name": "stdout",
     "output_type": "stream",
     "text": [
      "Discarded 504 events during subsampling.\nDiscarded 349 events during 3-sigma standardization.\nExtracting batch of samples à 5000 events from DVS sequence...\nDiscarded 447 events during subsampling.\nDiscarded 339 events during 3-sigma standardization.\nExtracting batch of samples à 5000 events from DVS sequence...\nDiscarded 721 events during subsampling.\nDiscarded 310 events during 3-sigma standardization.\nExtracting batch of samples à 5000 events from DVS sequence...\nDiscarded 2206 events during subsampling.\nDiscarded 109 events during 3-sigma standardization.\nExtracting batch of samples à 5000 events from DVS sequence...\nDiscarded 801 events during subsampling.\nDiscarded 351 events during 3-sigma standardization.\nExtracting batch of samples à 5000 events from DVS sequence...\n"
     ]
    },
    {
     "name": "stdout",
     "output_type": "stream",
     "text": [
      "Discarded 709 events during subsampling.\nDiscarded 440 events during 3-sigma standardization.\nExtracting batch of samples à 5000 events from DVS sequence...\nDiscarded 665 events during subsampling.\nDiscarded 398 events during 3-sigma standardization.\nExtracting batch of samples à 5000 events from DVS sequence...\nDiscarded 610 events during subsampling.\nDiscarded 331 events during 3-sigma standardization.\nExtracting batch of samples à 5000 events from DVS sequence...\nDiscarded 581 events during subsampling.\nDiscarded 450 events during 3-sigma standardization.\nExtracting batch of samples à 5000 events from DVS sequence...\nDiscarded 877 events during subsampling.\nDiscarded 307 events during 3-sigma standardization.\nExtracting batch of samples à 5000 events from DVS sequence...\n"
     ]
    },
    {
     "name": "stdout",
     "output_type": "stream",
     "text": [
      "Discarded 491 events during subsampling.\nDiscarded 356 events during 3-sigma standardization.\nExtracting batch of samples à 5000 events from DVS sequence...\nDiscarded 424 events during subsampling.\nDiscarded 393 events during 3-sigma standardization.\nExtracting batch of samples à 5000 events from DVS sequence...\nDiscarded 785 events during subsampling.\nDiscarded 254 events during 3-sigma standardization.\nExtracting batch of samples à 5000 events from DVS sequence...\nDiscarded 411 events during subsampling.\nDiscarded 339 events during 3-sigma standardization.\nExtracting batch of samples à 5000 events from DVS sequence...\nDiscarded 724 events during subsampling.\nDiscarded 387 events during 3-sigma standardization.\nExtracting batch of samples à 5000 events from DVS sequence...\nDiscarded 483 events during subsampling.\nDiscarded 458 events during 3-sigma standardization.\nExtracting batch of samples à 5000 events from DVS sequence...\n"
     ]
    },
    {
     "name": "stdout",
     "output_type": "stream",
     "text": [
      "Discarded 667 events during subsampling.\nDiscarded 367 events during 3-sigma standardization.\nExtracting batch of samples à 5000 events from DVS sequence...\nDiscarded 733 events during subsampling.\nDiscarded 291 events during 3-sigma standardization.\nExtracting batch of samples à 5000 events from DVS sequence...\nDiscarded 1207 events during subsampling.\nDiscarded 227 events during 3-sigma standardization.\nExtracting batch of samples à 5000 events from DVS sequence...\nDiscarded 1801 events during subsampling.\nDiscarded 124 events during 3-sigma standardization.\nExtracting batch of samples à 5000 events from DVS sequence...\nDiscarded 2356 events during subsampling.\nDiscarded 100 events during 3-sigma standardization.\nExtracting batch of samples à 5000 events from DVS sequence...\nDiscarded 1799 events during subsampling.\n"
     ]
    },
    {
     "name": "stdout",
     "output_type": "stream",
     "text": [
      "Discarded 179 events during 3-sigma standardization.\nExtracting batch of samples à 5000 events from DVS sequence...\nDiscarded 2463 events during subsampling.\nDiscarded 224 events during 3-sigma standardization.\nExtracting batch of samples à 5000 events from DVS sequence...\nDiscarded 587 events during subsampling.\nDiscarded 273 events during 3-sigma standardization.\nExtracting batch of samples à 5000 events from DVS sequence...\nDiscarded 575 events during subsampling.\nDiscarded 244 events during 3-sigma standardization.\nExtracting batch of samples à 5000 events from DVS sequence...\nDiscarded 519 events during subsampling.\nDiscarded 269 events during 3-sigma standardization.\nExtracting batch of samples à 5000 events from DVS sequence...\nDiscarded 553 events during subsampling.\nDiscarded 273 events during 3-sigma standardization.\nExtracting batch of samples à 5000 events from DVS sequence...\n"
     ]
    },
    {
     "name": "stdout",
     "output_type": "stream",
     "text": [
      "Discarded 1924 events during subsampling.\nDiscarded 182 events during 3-sigma standardization.\nExtracting batch of samples à 5000 events from DVS sequence...\nDiscarded 1230 events during subsampling.\nDiscarded 222 events during 3-sigma standardization.\nExtracting batch of samples à 5000 events from DVS sequence...\nDiscarded 642 events during subsampling.\nDiscarded 292 events during 3-sigma standardization.\nExtracting batch of samples à 5000 events from DVS sequence...\nDiscarded 1795 events during subsampling.\nDiscarded 196 events during 3-sigma standardization.\nExtracting batch of samples à 5000 events from DVS sequence...\nDiscarded 500 events during subsampling.\nDiscarded 285 events during 3-sigma standardization.\nExtracting batch of samples à 5000 events from DVS sequence...\nDiscarded 522 events during subsampling.\nDiscarded 291 events during 3-sigma standardization.\nExtracting batch of samples à 5000 events from DVS sequence...\n"
     ]
    },
    {
     "name": "stdout",
     "output_type": "stream",
     "text": [
      "Discarded 489 events during subsampling.\nDiscarded 294 events during 3-sigma standardization.\nExtracting batch of samples à 5000 events from DVS sequence...\nDiscarded 657 events during subsampling.\nDiscarded 274 events during 3-sigma standardization.\nExtracting batch of samples à 5000 events from DVS sequence...\nDiscarded 2008 events during subsampling.\nDiscarded 157 events during 3-sigma standardization.\nExtracting batch of samples à 5000 events from DVS sequence...\nDiscarded 501 events during subsampling.\nDiscarded 282 events during 3-sigma standardization.\nExtracting batch of samples à 5000 events from DVS sequence...\nDiscarded 1652 events during subsampling.\nDiscarded 217 events during 3-sigma standardization.\nExtracting batch of samples à 5000 events from DVS sequence...\nDiscarded 2008 events during subsampling.\nDiscarded 165 events during 3-sigma standardization.\nExtracting batch of samples à 5000 events from DVS sequence...\nDiscarded 482 events during subsampling.\n"
     ]
    },
    {
     "name": "stdout",
     "output_type": "stream",
     "text": [
      "Discarded 276 events during 3-sigma standardization.\nExtracting batch of samples à 5000 events from DVS sequence...\nDiscarded 598 events during subsampling.\nDiscarded 293 events during 3-sigma standardization.\nExtracting batch of samples à 5000 events from DVS sequence...\nDiscarded 452 events during subsampling.\nDiscarded 258 events during 3-sigma standardization.\nExtracting batch of samples à 5000 events from DVS sequence...\nDiscarded 457 events during subsampling.\nDiscarded 275 events during 3-sigma standardization.\nExtracting batch of samples à 5000 events from DVS sequence...\nDiscarded 1489 events during subsampling.\nDiscarded 244 events during 3-sigma standardization.\nExtracting batch of samples à 5000 events from DVS sequence...\nDiscarded 739 events during subsampling.\nDiscarded 301 events during 3-sigma standardization.\nExtracting batch of samples à 5000 events from DVS sequence...\n"
     ]
    },
    {
     "name": "stdout",
     "output_type": "stream",
     "text": [
      "Discarded 702 events during subsampling.\nDiscarded 276 events during 3-sigma standardization.\nExtracting batch of samples à 5000 events from DVS sequence...\nDiscarded 8 events during subsampling.\nDiscarded 315 events during 3-sigma standardization.\nExtracting batch of samples à 5000 events from DVS sequence...\nDiscarded 411 events during subsampling.\nDiscarded 281 events during 3-sigma standardization.\nExtracting batch of samples à 5000 events from DVS sequence...\nDiscarded 270 events during subsampling.\nDiscarded 290 events during 3-sigma standardization.\nExtracting batch of samples à 5000 events from DVS sequence...\nDiscarded 570 events during subsampling.\nDiscarded 252 events during 3-sigma standardization.\nExtracting batch of samples à 5000 events from DVS sequence...\nDiscarded 5 events during subsampling.\nDiscarded 282 events during 3-sigma standardization.\nExtracting batch of samples à 5000 events from DVS sequence..."
     ]
    },
    {
     "name": "stdout",
     "output_type": "stream",
     "text": [
      "\nDiscarded 499 events during subsampling.\nDiscarded 280 events during 3-sigma standardization.\nExtracting batch of samples à 5000 events from DVS sequence...\nDiscarded 948 events during subsampling.\nDiscarded 342 events during 3-sigma standardization.\nExtracting batch of samples à 5000 events from DVS sequence...\nDiscarded 1131 events during subsampling.\nDiscarded 276 events during 3-sigma standardization.\nExtracting batch of samples à 5000 events from DVS sequence...\nDiscarded 1122 events during subsampling.\nDiscarded 316 events during 3-sigma standardization.\nExtracting batch of samples à 5000 events from DVS sequence...\nDiscarded 731 events during subsampling.\nDiscarded 386 events during 3-sigma standardization.\nExtracting batch of samples à 5000 events from DVS sequence...\nDiscarded 732 events during subsampling.\n"
     ]
    },
    {
     "name": "stdout",
     "output_type": "stream",
     "text": [
      "Discarded 347 events during 3-sigma standardization.\nExtracting batch of samples à 5000 events from DVS sequence...\nDiscarded 1004 events during subsampling.\nDiscarded 262 events during 3-sigma standardization.\nExtracting batch of samples à 5000 events from DVS sequence...\nDiscarded 949 events during subsampling.\nDiscarded 251 events during 3-sigma standardization.\nExtracting batch of samples à 5000 events from DVS sequence...\nDiscarded 775 events during subsampling.\nDiscarded 469 events during 3-sigma standardization.\nExtracting batch of samples à 5000 events from DVS sequence...\nDiscarded 879 events during subsampling.\nDiscarded 283 events during 3-sigma standardization.\nExtracting batch of samples à 5000 events from DVS sequence...\nDiscarded 1266 events during subsampling.\nDiscarded 296 events during 3-sigma standardization.\nExtracting batch of samples à 5000 events from DVS sequence...\n"
     ]
    },
    {
     "name": "stdout",
     "output_type": "stream",
     "text": [
      "Discarded 691 events during subsampling.\nDiscarded 366 events during 3-sigma standardization.\nExtracting batch of samples à 5000 events from DVS sequence...\nDiscarded 968 events during subsampling.\nDiscarded 308 events during 3-sigma standardization.\nExtracting batch of samples à 5000 events from DVS sequence...\nDiscarded 915 events during subsampling.\nDiscarded 302 events during 3-sigma standardization.\nExtracting batch of samples à 5000 events from DVS sequence...\nDiscarded 443 events during subsampling.\nDiscarded 347 events during 3-sigma standardization.\nExtracting batch of samples à 5000 events from DVS sequence...\nDiscarded 767 events during subsampling.\nDiscarded 329 events during 3-sigma standardization.\nExtracting batch of samples à 5000 events from DVS sequence...\nDiscarded 913 events during subsampling.\nDiscarded 322 events during 3-sigma standardization.\nExtracting batch of samples à 5000 events from DVS sequence...\n"
     ]
    },
    {
     "name": "stdout",
     "output_type": "stream",
     "text": [
      "Discarded 823 events during subsampling.\nDiscarded 286 events during 3-sigma standardization.\nLoading DVS sample /home/rbodo/.snntoolbox/Datasets/predator_prey/aedat/not_balanced_4834samples/N/rec_16.aedat...\n"
     ]
    },
    {
     "name": "stdout",
     "output_type": "stream",
     "text": [
      "Total number of events of this sample: 1400000.\nNumber of batches: 280.\nExtracting 280 frames from DVS event sequence.\n"
     ]
    },
    {
     "name": "stdout",
     "output_type": "stream",
     "text": [
      "Extracting batch of samples à 5000 events from DVS sequence...\nDiscarded 47 events during subsampling.\nDiscarded 314 events during 3-sigma standardization.\nExtracting batch of samples à 5000 events from DVS sequence...\nDiscarded 753 events during subsampling.\nDiscarded 273 events during 3-sigma standardization.\nExtracting batch of samples à 5000 events from DVS sequence...\nDiscarded 1070 events during subsampling.\nDiscarded 268 events during 3-sigma standardization.\nExtracting batch of samples à 5000 events from DVS sequence...\nDiscarded 1674 events during subsampling.\nDiscarded 188 events during 3-sigma standardization.\nExtracting batch of samples à 5000 events from DVS sequence...\nDiscarded 756 events during subsampling.\nDiscarded 296 events during 3-sigma standardization.\n"
     ]
    },
    {
     "name": "stdout",
     "output_type": "stream",
     "text": [
      "Extracting batch of samples à 5000 events from DVS sequence...\nDiscarded 1244 events during subsampling.\nDiscarded 218 events during 3-sigma standardization.\nExtracting batch of samples à 5000 events from DVS sequence...\nDiscarded 174 events during subsampling.\nDiscarded 364 events during 3-sigma standardization.\nExtracting batch of samples à 5000 events from DVS sequence...\nDiscarded 585 events during subsampling.\nDiscarded 313 events during 3-sigma standardization.\nExtracting batch of samples à 5000 events from DVS sequence...\nDiscarded 424 events during subsampling.\nDiscarded 380 events during 3-sigma standardization.\nExtracting batch of samples à 5000 events from DVS sequence...\nDiscarded 1352 events during subsampling.\nDiscarded 213 events during 3-sigma standardization.\nExtracting batch of samples à 5000 events from DVS sequence...\n"
     ]
    },
    {
     "name": "stdout",
     "output_type": "stream",
     "text": [
      "Discarded 459 events during subsampling.\nDiscarded 264 events during 3-sigma standardization.\nExtracting batch of samples à 5000 events from DVS sequence...\nDiscarded 582 events during subsampling.\nDiscarded 320 events during 3-sigma standardization.\nExtracting batch of samples à 5000 events from DVS sequence...\nDiscarded 313 events during subsampling.\nDiscarded 368 events during 3-sigma standardization.\nExtracting batch of samples à 5000 events from DVS sequence...\nDiscarded 889 events during subsampling.\nDiscarded 246 events during 3-sigma standardization.\nExtracting batch of samples à 5000 events from DVS sequence...\nDiscarded 9 events during subsampling.\nDiscarded 341 events during 3-sigma standardization.\nExtracting batch of samples à 5000 events from DVS sequence...\n"
     ]
    },
    {
     "name": "stdout",
     "output_type": "stream",
     "text": [
      "Discarded 177 events during subsampling.\nDiscarded 311 events during 3-sigma standardization.\nExtracting batch of samples à 5000 events from DVS sequence...\nDiscarded 627 events during subsampling.\nDiscarded 408 events during 3-sigma standardization.\nExtracting batch of samples à 5000 events from DVS sequence...\nDiscarded 907 events during subsampling.\nDiscarded 263 events during 3-sigma standardization.\nExtracting batch of samples à 5000 events from DVS sequence...\nDiscarded 1664 events during subsampling.\nDiscarded 173 events during 3-sigma standardization.\nExtracting batch of samples à 5000 events from DVS sequence...\nDiscarded 475 events during subsampling.\nDiscarded 444 events during 3-sigma standardization.\nExtracting batch of samples à 5000 events from DVS sequence...\nDiscarded 345 events during subsampling.\n"
     ]
    },
    {
     "name": "stdout",
     "output_type": "stream",
     "text": [
      "Discarded 392 events during 3-sigma standardization.\nExtracting batch of samples à 5000 events from DVS sequence...\nDiscarded 634 events during subsampling.\nDiscarded 307 events during 3-sigma standardization.\nExtracting batch of samples à 5000 events from DVS sequence...\nDiscarded 585 events during subsampling.\nDiscarded 444 events during 3-sigma standardization.\nExtracting batch of samples à 5000 events from DVS sequence...\nDiscarded 397 events during subsampling.\nDiscarded 347 events during 3-sigma standardization.\nExtracting batch of samples à 5000 events from DVS sequence...\nDiscarded 660 events during subsampling.\nDiscarded 359 events during 3-sigma standardization.\nExtracting batch of samples à 5000 events from DVS sequence...\nDiscarded 1257 events during subsampling.\nDiscarded 314 events during 3-sigma standardization.\nExtracting batch of samples à 5000 events from DVS sequence...\n"
     ]
    },
    {
     "name": "stdout",
     "output_type": "stream",
     "text": [
      "Discarded 300 events during subsampling.\nDiscarded 448 events during 3-sigma standardization.\nExtracting batch of samples à 5000 events from DVS sequence...\nDiscarded 1592 events during subsampling.\nDiscarded 279 events during 3-sigma standardization.\nExtracting batch of samples à 5000 events from DVS sequence...\nDiscarded 828 events during subsampling.\nDiscarded 380 events during 3-sigma standardization.\nExtracting batch of samples à 5000 events from DVS sequence...\nDiscarded 9 events during subsampling.\nDiscarded 407 events during 3-sigma standardization.\nExtracting batch of samples à 5000 events from DVS sequence...\nDiscarded 581 events during subsampling.\nDiscarded 423 events during 3-sigma standardization.\nExtracting batch of samples à 5000 events from DVS sequence...\n"
     ]
    },
    {
     "name": "stdout",
     "output_type": "stream",
     "text": [
      "Discarded 327 events during subsampling.\nDiscarded 393 events during 3-sigma standardization.\nExtracting batch of samples à 5000 events from DVS sequence...\nDiscarded 296 events during subsampling.\nDiscarded 355 events during 3-sigma standardization.\nExtracting batch of samples à 5000 events from DVS sequence...\nDiscarded 501 events during subsampling.\nDiscarded 390 events during 3-sigma standardization.\nExtracting batch of samples à 5000 events from DVS sequence...\nDiscarded 536 events during subsampling.\nDiscarded 331 events during 3-sigma standardization.\nExtracting batch of samples à 5000 events from DVS sequence...\nDiscarded 863 events during subsampling.\nDiscarded 245 events during 3-sigma standardization.\nExtracting batch of samples à 5000 events from DVS sequence...\n"
     ]
    },
    {
     "name": "stdout",
     "output_type": "stream",
     "text": [
      "Discarded 885 events during subsampling.\nDiscarded 285 events during 3-sigma standardization.\nExtracting batch of samples à 5000 events from DVS sequence...\nDiscarded 1298 events during subsampling.\nDiscarded 232 events during 3-sigma standardization.\nExtracting batch of samples à 5000 events from DVS sequence...\nDiscarded 248 events during subsampling.\nDiscarded 299 events during 3-sigma standardization.\nExtracting batch of samples à 5000 events from DVS sequence...\nDiscarded 461 events during subsampling.\nDiscarded 320 events during 3-sigma standardization.\nExtracting batch of samples à 5000 events from DVS sequence...\nDiscarded 1092 events during subsampling.\nDiscarded 225 events during 3-sigma standardization.\nExtracting batch of samples à 5000 events from DVS sequence...\nDiscarded 249 events during subsampling.\nDiscarded 333 events during 3-sigma standardization.\nExtracting batch of samples à 5000 events from DVS sequence...\n"
     ]
    },
    {
     "name": "stdout",
     "output_type": "stream",
     "text": [
      "Discarded 671 events during subsampling.\nDiscarded 286 events during 3-sigma standardization.\nExtracting batch of samples à 5000 events from DVS sequence...\nDiscarded 558 events during subsampling.\nDiscarded 325 events during 3-sigma standardization.\nExtracting batch of samples à 5000 events from DVS sequence...\nDiscarded 680 events during subsampling.\nDiscarded 283 events during 3-sigma standardization.\nExtracting batch of samples à 5000 events from DVS sequence...\nDiscarded 333 events during subsampling.\nDiscarded 296 events during 3-sigma standardization.\nExtracting batch of samples à 5000 events from DVS sequence...\nDiscarded 438 events during subsampling.\nDiscarded 268 events during 3-sigma standardization.\nExtracting batch of samples à 5000 events from DVS sequence...\nDiscarded 70 events during subsampling."
     ]
    },
    {
     "name": "stdout",
     "output_type": "stream",
     "text": [
      "\nDiscarded 406 events during 3-sigma standardization.\nExtracting batch of samples à 5000 events from DVS sequence...\nDiscarded 1426 events during subsampling.\nDiscarded 207 events during 3-sigma standardization.\nExtracting batch of samples à 5000 events from DVS sequence...\nDiscarded 355 events during subsampling.\nDiscarded 377 events during 3-sigma standardization.\nExtracting batch of samples à 5000 events from DVS sequence...\nDiscarded 1266 events during subsampling.\nDiscarded 244 events during 3-sigma standardization.\nExtracting batch of samples à 5000 events from DVS sequence...\nDiscarded 921 events during subsampling.\nDiscarded 278 events during 3-sigma standardization.\nExtracting batch of samples à 5000 events from DVS sequence...\nDiscarded 745 events during subsampling."
     ]
    },
    {
     "name": "stdout",
     "output_type": "stream",
     "text": [
      "\nDiscarded 274 events during 3-sigma standardization.\nExtracting batch of samples à 5000 events from DVS sequence...\nDiscarded 1366 events during subsampling.\nDiscarded 234 events during 3-sigma standardization.\nExtracting batch of samples à 5000 events from DVS sequence...\nDiscarded 1610 events during subsampling.\nDiscarded 223 events during 3-sigma standardization.\nExtracting batch of samples à 5000 events from DVS sequence...\nDiscarded 411 events during subsampling.\nDiscarded 269 events during 3-sigma standardization.\nExtracting batch of samples à 5000 events from DVS sequence...\nDiscarded 831 events during subsampling.\nDiscarded 250 events during 3-sigma standardization.\nExtracting batch of samples à 5000 events from DVS sequence...\nDiscarded 272 events during subsampling.\nDiscarded 329 events during 3-sigma standardization.\nExtracting batch of samples à 5000 events from DVS sequence...\n"
     ]
    },
    {
     "name": "stdout",
     "output_type": "stream",
     "text": [
      "Discarded 265 events during subsampling.\nDiscarded 357 events during 3-sigma standardization.\nExtracting batch of samples à 5000 events from DVS sequence...\nDiscarded 606 events during subsampling.\nDiscarded 328 events during 3-sigma standardization.\nExtracting batch of samples à 5000 events from DVS sequence...\nDiscarded 708 events during subsampling.\nDiscarded 293 events during 3-sigma standardization.\nExtracting batch of samples à 5000 events from DVS sequence...\nDiscarded 662 events during subsampling.\nDiscarded 307 events during 3-sigma standardization.\nExtracting batch of samples à 5000 events from DVS sequence...\nDiscarded 990 events during subsampling.\nDiscarded 233 events during 3-sigma standardization.\nExtracting batch of samples à 5000 events from DVS sequence...\nDiscarded 1040 events during subsampling.\nDiscarded 258 events during 3-sigma standardization.\nExtracting batch of samples à 5000 events from DVS sequence...\n"
     ]
    },
    {
     "name": "stdout",
     "output_type": "stream",
     "text": [
      "Discarded 1555 events during subsampling.\nDiscarded 193 events during 3-sigma standardization.\nExtracting batch of samples à 5000 events from DVS sequence...\nDiscarded 688 events during subsampling.\nDiscarded 316 events during 3-sigma standardization.\nExtracting batch of samples à 5000 events from DVS sequence...\nDiscarded 331 events during subsampling.\nDiscarded 307 events during 3-sigma standardization.\nExtracting batch of samples à 5000 events from DVS sequence...\nDiscarded 669 events during subsampling.\nDiscarded 259 events during 3-sigma standardization.\nExtracting batch of samples à 5000 events from DVS sequence...\nDiscarded 737 events during subsampling.\nDiscarded 332 events during 3-sigma standardization.\nExtracting batch of samples à 5000 events from DVS sequence...\nDiscarded 747 events during subsampling.\nDiscarded 350 events during 3-sigma standardization.\nExtracting batch of samples à 5000 events from DVS sequence...\n"
     ]
    },
    {
     "name": "stdout",
     "output_type": "stream",
     "text": [
      "Discarded 595 events during subsampling.\nDiscarded 404 events during 3-sigma standardization.\nExtracting batch of samples à 5000 events from DVS sequence...\nDiscarded 1038 events during subsampling.\nDiscarded 314 events during 3-sigma standardization.\nExtracting batch of samples à 5000 events from DVS sequence...\nDiscarded 1024 events during subsampling.\nDiscarded 290 events during 3-sigma standardization.\nExtracting batch of samples à 5000 events from DVS sequence...\nDiscarded 1072 events during subsampling.\nDiscarded 370 events during 3-sigma standardization.\nExtracting batch of samples à 5000 events from DVS sequence...\nDiscarded 919 events during subsampling.\nDiscarded 276 events during 3-sigma standardization.\nExtracting batch of samples à 5000 events from DVS sequence...\nDiscarded 568 events during subsampling."
     ]
    },
    {
     "name": "stdout",
     "output_type": "stream",
     "text": [
      "\nDiscarded 197 events during 3-sigma standardization.\nExtracting batch of samples à 5000 events from DVS sequence...\nDiscarded 512 events during subsampling.\nDiscarded 261 events during 3-sigma standardization.\nExtracting batch of samples à 5000 events from DVS sequence...\nDiscarded 719 events during subsampling.\nDiscarded 220 events during 3-sigma standardization.\nExtracting batch of samples à 5000 events from DVS sequence...\nDiscarded 236 events during subsampling.\nDiscarded 311 events during 3-sigma standardization.\nExtracting batch of samples à 5000 events from DVS sequence...\nDiscarded 747 events during subsampling.\nDiscarded 288 events during 3-sigma standardization.\nExtracting batch of samples à 5000 events from DVS sequence...\nDiscarded 925 events during subsampling.\nDiscarded 237 events during 3-sigma standardization.\nExtracting batch of samples à 5000 events from DVS sequence...\n"
     ]
    },
    {
     "name": "stdout",
     "output_type": "stream",
     "text": [
      "Discarded 1144 events during subsampling.\nDiscarded 242 events during 3-sigma standardization.\nExtracting batch of samples à 5000 events from DVS sequence...\nDiscarded 492 events during subsampling.\nDiscarded 230 events during 3-sigma standardization.\nExtracting batch of samples à 5000 events from DVS sequence...\nDiscarded 73 events during subsampling.\nDiscarded 287 events during 3-sigma standardization.\nExtracting batch of samples à 5000 events from DVS sequence...\nDiscarded 836 events during subsampling.\nDiscarded 264 events during 3-sigma standardization.\nExtracting batch of samples à 5000 events from DVS sequence...\nDiscarded 997 events during subsampling.\nDiscarded 261 events during 3-sigma standardization.\nExtracting batch of samples à 5000 events from DVS sequence...\n"
     ]
    },
    {
     "name": "stdout",
     "output_type": "stream",
     "text": [
      "Discarded 1286 events during subsampling.\nDiscarded 288 events during 3-sigma standardization.\nExtracting batch of samples à 5000 events from DVS sequence...\nDiscarded 721 events during subsampling.\nDiscarded 278 events during 3-sigma standardization.\nExtracting batch of samples à 5000 events from DVS sequence...\nDiscarded 1324 events during subsampling.\nDiscarded 232 events during 3-sigma standardization.\nExtracting batch of samples à 5000 events from DVS sequence...\nDiscarded 369 events during subsampling.\nDiscarded 369 events during 3-sigma standardization.\nExtracting batch of samples à 5000 events from DVS sequence...\nDiscarded 760 events during subsampling.\nDiscarded 183 events during 3-sigma standardization.\nExtracting batch of samples à 5000 events from DVS sequence...\nDiscarded 1369 events during subsampling.\n"
     ]
    },
    {
     "name": "stdout",
     "output_type": "stream",
     "text": [
      "Discarded 186 events during 3-sigma standardization.\nExtracting batch of samples à 5000 events from DVS sequence...\nDiscarded 1812 events during subsampling.\nDiscarded 151 events during 3-sigma standardization.\nExtracting batch of samples à 5000 events from DVS sequence...\nDiscarded 1455 events during subsampling.\nDiscarded 183 events during 3-sigma standardization.\nExtracting batch of samples à 5000 events from DVS sequence...\nDiscarded 2192 events during subsampling.\nDiscarded 132 events during 3-sigma standardization.\nExtracting batch of samples à 5000 events from DVS sequence...\nDiscarded 683 events during subsampling.\nDiscarded 156 events during 3-sigma standardization.\nExtracting batch of samples à 5000 events from DVS sequence...\nDiscarded 1759 events during subsampling.\nDiscarded 195 events during 3-sigma standardization.\nExtracting batch of samples à 5000 events from DVS sequence...\nDiscarded 1879 events during subsampling.\n"
     ]
    },
    {
     "name": "stdout",
     "output_type": "stream",
     "text": [
      "Discarded 128 events during 3-sigma standardization.\nExtracting batch of samples à 5000 events from DVS sequence...\nDiscarded 794 events during subsampling.\nDiscarded 218 events during 3-sigma standardization.\nExtracting batch of samples à 5000 events from DVS sequence...\nDiscarded 659 events during subsampling.\nDiscarded 189 events during 3-sigma standardization.\nExtracting batch of samples à 5000 events from DVS sequence...\nDiscarded 1238 events during subsampling.\nDiscarded 194 events during 3-sigma standardization.\nExtracting batch of samples à 5000 events from DVS sequence...\nDiscarded 1748 events during subsampling.\nDiscarded 219 events during 3-sigma standardization.\nExtracting batch of samples à 5000 events from DVS sequence...\nDiscarded 1855 events during subsampling.\nDiscarded 195 events during 3-sigma standardization.\nExtracting batch of samples à 5000 events from DVS sequence...\nDiscarded 1938 events during subsampling.\n"
     ]
    },
    {
     "name": "stdout",
     "output_type": "stream",
     "text": [
      "Discarded 199 events during 3-sigma standardization.\nExtracting batch of samples à 5000 events from DVS sequence...\nDiscarded 1508 events during subsampling.\nDiscarded 262 events during 3-sigma standardization.\nExtracting batch of samples à 5000 events from DVS sequence...\nDiscarded 719 events during subsampling.\nDiscarded 346 events during 3-sigma standardization.\nExtracting batch of samples à 5000 events from DVS sequence...\nDiscarded 738 events during subsampling.\nDiscarded 237 events during 3-sigma standardization.\nExtracting batch of samples à 5000 events from DVS sequence...\nDiscarded 804 events during subsampling.\nDiscarded 404 events during 3-sigma standardization.\nExtracting batch of samples à 5000 events from DVS sequence...\nDiscarded 1011 events during subsampling.\nDiscarded 375 events during 3-sigma standardization.\nExtracting batch of samples à 5000 events from DVS sequence...\n"
     ]
    },
    {
     "name": "stdout",
     "output_type": "stream",
     "text": [
      "Discarded 69 events during subsampling.\nDiscarded 347 events during 3-sigma standardization.\nExtracting batch of samples à 5000 events from DVS sequence...\nDiscarded 26 events during subsampling.\nDiscarded 298 events during 3-sigma standardization.\nExtracting batch of samples à 5000 events from DVS sequence...\nDiscarded 873 events during subsampling.\nDiscarded 267 events during 3-sigma standardization.\nExtracting batch of samples à 5000 events from DVS sequence...\nDiscarded 682 events during subsampling.\nDiscarded 337 events during 3-sigma standardization.\nExtracting batch of samples à 5000 events from DVS sequence...\nDiscarded 727 events during subsampling.\nDiscarded 416 events during 3-sigma standardization.\nExtracting batch of samples à 5000 events from DVS sequence...\nDiscarded 299 events during subsampling.\n"
     ]
    },
    {
     "name": "stdout",
     "output_type": "stream",
     "text": [
      "Discarded 539 events during 3-sigma standardization.\nExtracting batch of samples à 5000 events from DVS sequence...\nDiscarded 536 events during subsampling.\nDiscarded 379 events during 3-sigma standardization.\nExtracting batch of samples à 5000 events from DVS sequence...\nDiscarded 906 events during subsampling.\nDiscarded 234 events during 3-sigma standardization.\nExtracting batch of samples à 5000 events from DVS sequence...\nDiscarded 641 events during subsampling.\nDiscarded 256 events during 3-sigma standardization.\nExtracting batch of samples à 5000 events from DVS sequence...\nDiscarded 578 events during subsampling.\nDiscarded 223 events during 3-sigma standardization.\nExtracting batch of samples à 5000 events from DVS sequence...\n"
     ]
    },
    {
     "name": "stdout",
     "output_type": "stream",
     "text": [
      "Discarded 1326 events during subsampling.\nDiscarded 185 events during 3-sigma standardization.\nExtracting batch of samples à 5000 events from DVS sequence...\nDiscarded 519 events during subsampling.\nDiscarded 218 events during 3-sigma standardization.\nExtracting batch of samples à 5000 events from DVS sequence...\nDiscarded 856 events during subsampling.\nDiscarded 245 events during 3-sigma standardization.\nExtracting batch of samples à 5000 events from DVS sequence...\nDiscarded 1664 events during subsampling.\nDiscarded 222 events during 3-sigma standardization.\nExtracting batch of samples à 5000 events from DVS sequence...\nDiscarded 586 events during subsampling.\nDiscarded 171 events during 3-sigma standardization.\nExtracting batch of samples à 5000 events from DVS sequence...\nDiscarded 552 events during subsampling."
     ]
    },
    {
     "name": "stdout",
     "output_type": "stream",
     "text": [
      "\nDiscarded 224 events during 3-sigma standardization.\nExtracting batch of samples à 5000 events from DVS sequence...\nDiscarded 602 events during subsampling.\nDiscarded 192 events during 3-sigma standardization.\nExtracting batch of samples à 5000 events from DVS sequence...\nDiscarded 578 events during subsampling.\nDiscarded 214 events during 3-sigma standardization.\nExtracting batch of samples à 5000 events from DVS sequence...\nDiscarded 612 events during subsampling.\nDiscarded 221 events during 3-sigma standardization.\nExtracting batch of samples à 5000 events from DVS sequence...\nDiscarded 700 events during subsampling.\nDiscarded 211 events during 3-sigma standardization.\nExtracting batch of samples à 5000 events from DVS sequence...\nDiscarded 596 events during subsampling.\nDiscarded 170 events during 3-sigma standardization."
     ]
    },
    {
     "name": "stdout",
     "output_type": "stream",
     "text": [
      "\nExtracting batch of samples à 5000 events from DVS sequence...\nDiscarded 2492 events during subsampling.\nDiscarded 114 events during 3-sigma standardization.\nExtracting batch of samples à 5000 events from DVS sequence...\nDiscarded 1359 events during subsampling.\nDiscarded 217 events during 3-sigma standardization.\nExtracting batch of samples à 5000 events from DVS sequence...\nDiscarded 691 events during subsampling.\nDiscarded 205 events during 3-sigma standardization.\nExtracting batch of samples à 5000 events from DVS sequence...\nDiscarded 1543 events during subsampling.\nDiscarded 202 events during 3-sigma standardization.\nExtracting batch of samples à 5000 events from DVS sequence...\nDiscarded 511 events during subsampling.\nDiscarded 178 events during 3-sigma standardization.\nExtracting batch of samples à 5000 events from DVS sequence...\nDiscarded 1361 events during subsampling."
     ]
    },
    {
     "name": "stdout",
     "output_type": "stream",
     "text": [
      "\nDiscarded 213 events during 3-sigma standardization.\nExtracting batch of samples à 5000 events from DVS sequence...\nDiscarded 1090 events during subsampling.\nDiscarded 218 events during 3-sigma standardization.\nExtracting batch of samples à 5000 events from DVS sequence...\nDiscarded 586 events during subsampling.\nDiscarded 192 events during 3-sigma standardization.\nExtracting batch of samples à 5000 events from DVS sequence...\nDiscarded 857 events during subsampling.\nDiscarded 240 events during 3-sigma standardization.\nExtracting batch of samples à 5000 events from DVS sequence...\nDiscarded 2662 events during subsampling.\nDiscarded 212 events during 3-sigma standardization.\nExtracting batch of samples à 5000 events from DVS sequence...\nDiscarded 2392 events during subsampling.\nDiscarded 84 events during 3-sigma standardization.\nExtracting batch of samples à 5000 events from DVS sequence...\nDiscarded 1895 events during subsampling.\nDiscarded 192 events during 3-sigma standardization."
     ]
    },
    {
     "name": "stdout",
     "output_type": "stream",
     "text": [
      "\nExtracting batch of samples à 5000 events from DVS sequence...\nDiscarded 1379 events during subsampling.\nDiscarded 191 events during 3-sigma standardization.\nExtracting batch of samples à 5000 events from DVS sequence...\nDiscarded 1949 events during subsampling.\nDiscarded 125 events during 3-sigma standardization.\nExtracting batch of samples à 5000 events from DVS sequence...\nDiscarded 490 events during subsampling.\nDiscarded 240 events during 3-sigma standardization.\nExtracting batch of samples à 5000 events from DVS sequence...\nDiscarded 1677 events during subsampling.\nDiscarded 198 events during 3-sigma standardization.\nExtracting batch of samples à 5000 events from DVS sequence...\nDiscarded 487 events during subsampling.\nDiscarded 227 events during 3-sigma standardization.\nExtracting batch of samples à 5000 events from DVS sequence...\nDiscarded 2040 events during subsampling.\nDiscarded 143 events during 3-sigma standardization.\n"
     ]
    },
    {
     "name": "stdout",
     "output_type": "stream",
     "text": [
      "Extracting batch of samples à 5000 events from DVS sequence...\nDiscarded 471 events during subsampling.\nDiscarded 245 events during 3-sigma standardization.\nExtracting batch of samples à 5000 events from DVS sequence...\nDiscarded 1500 events during subsampling.\nDiscarded 174 events during 3-sigma standardization.\nExtracting batch of samples à 5000 events from DVS sequence...\nDiscarded 110 events during subsampling.\nDiscarded 305 events during 3-sigma standardization.\nExtracting batch of samples à 5000 events from DVS sequence...\nDiscarded 435 events during subsampling.\nDiscarded 226 events during 3-sigma standardization.\nExtracting batch of samples à 5000 events from DVS sequence...\nDiscarded 1188 events during subsampling.\nDiscarded 206 events during 3-sigma standardization.\nExtracting batch of samples à 5000 events from DVS sequence...\nDiscarded 1387 events during subsampling."
     ]
    },
    {
     "name": "stdout",
     "output_type": "stream",
     "text": [
      "\nDiscarded 217 events during 3-sigma standardization.\nExtracting batch of samples à 5000 events from DVS sequence...\nDiscarded 1933 events during subsampling.\nDiscarded 171 events during 3-sigma standardization.\nExtracting batch of samples à 5000 events from DVS sequence...\nDiscarded 1372 events during subsampling.\nDiscarded 246 events during 3-sigma standardization.\nExtracting batch of samples à 5000 events from DVS sequence...\nDiscarded 315 events during subsampling.\nDiscarded 413 events during 3-sigma standardization.\nExtracting batch of samples à 5000 events from DVS sequence...\nDiscarded 500 events during subsampling.\nDiscarded 343 events during 3-sigma standardization.\nExtracting batch of samples à 5000 events from DVS sequence...\nDiscarded 561 events during subsampling.\nDiscarded 372 events during 3-sigma standardization.\nExtracting batch of samples à 5000 events from DVS sequence..."
     ]
    },
    {
     "name": "stdout",
     "output_type": "stream",
     "text": [
      "\nDiscarded 813 events during subsampling.\nDiscarded 387 events during 3-sigma standardization.\nExtracting batch of samples à 5000 events from DVS sequence...\nDiscarded 502 events during subsampling.\nDiscarded 631 events during 3-sigma standardization.\nExtracting batch of samples à 5000 events from DVS sequence...\nDiscarded 528 events during subsampling.\nDiscarded 521 events during 3-sigma standardization.\nExtracting batch of samples à 5000 events from DVS sequence...\nDiscarded 654 events during subsampling.\nDiscarded 492 events during 3-sigma standardization.\nExtracting batch of samples à 5000 events from DVS sequence...\nDiscarded 522 events during subsampling.\nDiscarded 630 events during 3-sigma standardization.\nExtracting batch of samples à 5000 events from DVS sequence...\n"
     ]
    },
    {
     "name": "stdout",
     "output_type": "stream",
     "text": [
      "Discarded 514 events during subsampling.\nDiscarded 433 events during 3-sigma standardization.\nExtracting batch of samples à 5000 events from DVS sequence...\nDiscarded 1500 events during subsampling.\nDiscarded 225 events during 3-sigma standardization.\nExtracting batch of samples à 5000 events from DVS sequence...\nDiscarded 415 events during subsampling.\nDiscarded 343 events during 3-sigma standardization.\nExtracting batch of samples à 5000 events from DVS sequence...\nDiscarded 1274 events during subsampling.\nDiscarded 217 events during 3-sigma standardization.\nExtracting batch of samples à 5000 events from DVS sequence...\nDiscarded 587 events during subsampling.\nDiscarded 280 events during 3-sigma standardization.\nExtracting batch of samples à 5000 events from DVS sequence...\nDiscarded 808 events during subsampling.\nDiscarded 302 events during 3-sigma standardization.\nExtracting batch of samples à 5000 events from DVS sequence...\n"
     ]
    },
    {
     "name": "stdout",
     "output_type": "stream",
     "text": [
      "Discarded 595 events during subsampling.\nDiscarded 428 events during 3-sigma standardization.\nExtracting batch of samples à 5000 events from DVS sequence...\nDiscarded 273 events during subsampling.\nDiscarded 365 events during 3-sigma standardization.\nExtracting batch of samples à 5000 events from DVS sequence...\nDiscarded 694 events during subsampling.\nDiscarded 326 events during 3-sigma standardization.\nExtracting batch of samples à 5000 events from DVS sequence...\nDiscarded 852 events during subsampling.\nDiscarded 240 events during 3-sigma standardization.\nExtracting batch of samples à 5000 events from DVS sequence...\nDiscarded 674 events during subsampling.\nDiscarded 337 events during 3-sigma standardization.\nExtracting batch of samples à 5000 events from DVS sequence...\n"
     ]
    },
    {
     "name": "stdout",
     "output_type": "stream",
     "text": [
      "Discarded 1155 events during subsampling.\nDiscarded 254 events during 3-sigma standardization.\nExtracting batch of samples à 5000 events from DVS sequence...\nDiscarded 1282 events during subsampling.\nDiscarded 231 events during 3-sigma standardization.\nExtracting batch of samples à 5000 events from DVS sequence...\nDiscarded 409 events during subsampling.\nDiscarded 453 events during 3-sigma standardization.\nExtracting batch of samples à 5000 events from DVS sequence...\nDiscarded 705 events during subsampling.\nDiscarded 359 events during 3-sigma standardization.\nExtracting batch of samples à 5000 events from DVS sequence...\nDiscarded 238 events during subsampling.\nDiscarded 400 events during 3-sigma standardization.\nExtracting batch of samples à 5000 events from DVS sequence...\n"
     ]
    },
    {
     "name": "stdout",
     "output_type": "stream",
     "text": [
      "Discarded 899 events during subsampling.\nDiscarded 372 events during 3-sigma standardization.\nExtracting batch of samples à 5000 events from DVS sequence...\nDiscarded 479 events during subsampling.\nDiscarded 477 events during 3-sigma standardization.\nExtracting batch of samples à 5000 events from DVS sequence...\nDiscarded 1109 events during subsampling.\nDiscarded 245 events during 3-sigma standardization.\nExtracting batch of samples à 5000 events from DVS sequence...\nDiscarded 453 events during subsampling.\nDiscarded 259 events during 3-sigma standardization.\nExtracting batch of samples à 5000 events from DVS sequence...\nDiscarded 863 events during subsampling.\nDiscarded 279 events during 3-sigma standardization.\nExtracting batch of samples à 5000 events from DVS sequence...\n"
     ]
    },
    {
     "name": "stdout",
     "output_type": "stream",
     "text": [
      "Discarded 732 events during subsampling.\nDiscarded 253 events during 3-sigma standardization.\nExtracting batch of samples à 5000 events from DVS sequence...\nDiscarded 1091 events during subsampling.\nDiscarded 242 events during 3-sigma standardization.\nExtracting batch of samples à 5000 events from DVS sequence...\nDiscarded 648 events during subsampling.\nDiscarded 432 events during 3-sigma standardization.\nExtracting batch of samples à 5000 events from DVS sequence...\nDiscarded 1494 events during subsampling.\nDiscarded 245 events during 3-sigma standardization.\nExtracting batch of samples à 5000 events from DVS sequence...\nDiscarded 681 events during subsampling.\nDiscarded 352 events during 3-sigma standardization.\nExtracting batch of samples à 5000 events from DVS sequence...\nDiscarded 959 events during subsampling."
     ]
    },
    {
     "name": "stdout",
     "output_type": "stream",
     "text": [
      "\nDiscarded 314 events during 3-sigma standardization.\nExtracting batch of samples à 5000 events from DVS sequence...\nDiscarded 724 events during subsampling.\nDiscarded 514 events during 3-sigma standardization.\nExtracting batch of samples à 5000 events from DVS sequence...\nDiscarded 664 events during subsampling.\nDiscarded 411 events during 3-sigma standardization.\nExtracting batch of samples à 5000 events from DVS sequence...\nDiscarded 343 events during subsampling.\nDiscarded 408 events during 3-sigma standardization.\nExtracting batch of samples à 5000 events from DVS sequence...\nDiscarded 1572 events during subsampling.\nDiscarded 309 events during 3-sigma standardization.\nExtracting batch of samples à 5000 events from DVS sequence...\nDiscarded 1041 events during subsampling.\nDiscarded 283 events during 3-sigma standardization.\nExtracting batch of samples à 5000 events from DVS sequence...\n"
     ]
    },
    {
     "name": "stdout",
     "output_type": "stream",
     "text": [
      "Discarded 1046 events during subsampling.\nDiscarded 281 events during 3-sigma standardization.\nExtracting batch of samples à 5000 events from DVS sequence...\nDiscarded 777 events during subsampling.\nDiscarded 282 events during 3-sigma standardization.\nExtracting batch of samples à 5000 events from DVS sequence...\nDiscarded 368 events during subsampling.\nDiscarded 332 events during 3-sigma standardization.\nExtracting batch of samples à 5000 events from DVS sequence...\nDiscarded 606 events during subsampling.\nDiscarded 313 events during 3-sigma standardization.\nExtracting batch of samples à 5000 events from DVS sequence...\nDiscarded 1500 events during subsampling.\nDiscarded 256 events during 3-sigma standardization.\nExtracting batch of samples à 5000 events from DVS sequence...\nDiscarded 762 events during subsampling.\nDiscarded 246 events during 3-sigma standardization."
     ]
    },
    {
     "name": "stdout",
     "output_type": "stream",
     "text": [
      "\nExtracting batch of samples à 5000 events from DVS sequence...\nDiscarded 1232 events during subsampling.\nDiscarded 237 events during 3-sigma standardization.\nExtracting batch of samples à 5000 events from DVS sequence...\nDiscarded 52 events during subsampling.\nDiscarded 327 events during 3-sigma standardization.\nExtracting batch of samples à 5000 events from DVS sequence...\nDiscarded 354 events during subsampling.\nDiscarded 312 events during 3-sigma standardization.\nExtracting batch of samples à 5000 events from DVS sequence...\nDiscarded 732 events during subsampling.\nDiscarded 408 events during 3-sigma standardization.\nExtracting batch of samples à 5000 events from DVS sequence...\nDiscarded 619 events during subsampling.\nDiscarded 572 events during 3-sigma standardization.\nExtracting batch of samples à 5000 events from DVS sequence...\n"
     ]
    },
    {
     "name": "stdout",
     "output_type": "stream",
     "text": [
      "Discarded 1018 events during subsampling.\nDiscarded 289 events during 3-sigma standardization.\nExtracting batch of samples à 5000 events from DVS sequence...\nDiscarded 856 events during subsampling.\nDiscarded 562 events during 3-sigma standardization.\nExtracting batch of samples à 5000 events from DVS sequence...\nDiscarded 802 events during subsampling.\nDiscarded 592 events during 3-sigma standardization.\nExtracting batch of samples à 5000 events from DVS sequence...\nDiscarded 820 events during subsampling.\nDiscarded 527 events during 3-sigma standardization.\nExtracting batch of samples à 5000 events from DVS sequence...\nDiscarded 579 events during subsampling.\nDiscarded 653 events during 3-sigma standardization.\nExtracting batch of samples à 5000 events from DVS sequence...\n"
     ]
    },
    {
     "name": "stdout",
     "output_type": "stream",
     "text": [
      "Discarded 781 events during subsampling.\nDiscarded 480 events during 3-sigma standardization.\nExtracting batch of samples à 5000 events from DVS sequence...\nDiscarded 2251 events during subsampling.\nDiscarded 234 events during 3-sigma standardization.\nExtracting batch of samples à 5000 events from DVS sequence...\nDiscarded 539 events during subsampling.\nDiscarded 260 events during 3-sigma standardization.\nExtracting batch of samples à 5000 events from DVS sequence...\nDiscarded 506 events during subsampling.\nDiscarded 222 events during 3-sigma standardization.\nExtracting batch of samples à 5000 events from DVS sequence...\nDiscarded 572 events during subsampling.\nDiscarded 268 events during 3-sigma standardization.\nExtracting batch of samples à 5000 events from DVS sequence...\n"
     ]
    },
    {
     "name": "stdout",
     "output_type": "stream",
     "text": [
      "Discarded 1377 events during subsampling.\nDiscarded 235 events during 3-sigma standardization.\nExtracting batch of samples à 5000 events from DVS sequence...\nDiscarded 530 events during subsampling.\nDiscarded 296 events during 3-sigma standardization.\nExtracting batch of samples à 5000 events from DVS sequence...\nDiscarded 582 events during subsampling.\nDiscarded 268 events during 3-sigma standardization.\nExtracting batch of samples à 5000 events from DVS sequence...\nDiscarded 568 events during subsampling.\nDiscarded 298 events during 3-sigma standardization.\nExtracting batch of samples à 5000 events from DVS sequence...\nDiscarded 91 events during subsampling.\nDiscarded 401 events during 3-sigma standardization.\nExtracting batch of samples à 5000 events from DVS sequence...\n"
     ]
    },
    {
     "name": "stdout",
     "output_type": "stream",
     "text": [
      "Discarded 440 events during subsampling.\nDiscarded 359 events during 3-sigma standardization.\nExtracting batch of samples à 5000 events from DVS sequence...\nDiscarded 1147 events during subsampling.\nDiscarded 255 events during 3-sigma standardization.\nExtracting batch of samples à 5000 events from DVS sequence...\nDiscarded 290 events during subsampling.\nDiscarded 271 events during 3-sigma standardization.\nExtracting batch of samples à 5000 events from DVS sequence...\nDiscarded 1427 events during subsampling.\nDiscarded 206 events during 3-sigma standardization.\nExtracting batch of samples à 5000 events from DVS sequence...\nDiscarded 436 events during subsampling.\nDiscarded 218 events during 3-sigma standardization.\nExtracting batch of samples à 5000 events from DVS sequence...\nDiscarded 975 events during subsampling."
     ]
    },
    {
     "name": "stdout",
     "output_type": "stream",
     "text": [
      "\nDiscarded 220 events during 3-sigma standardization.\nExtracting batch of samples à 5000 events from DVS sequence...\nDiscarded 2140 events during subsampling.\nDiscarded 163 events during 3-sigma standardization.\nExtracting batch of samples à 5000 events from DVS sequence...\nDiscarded 309 events during subsampling.\nDiscarded 248 events during 3-sigma standardization.\nExtracting batch of samples à 5000 events from DVS sequence...\nDiscarded 1899 events during subsampling.\nDiscarded 167 events during 3-sigma standardization.\nExtracting batch of samples à 5000 events from DVS sequence...\nDiscarded 75 events during subsampling.\nDiscarded 278 events during 3-sigma standardization.\nExtracting batch of samples à 5000 events from DVS sequence...\nDiscarded 283 events during subsampling.\nDiscarded 291 events during 3-sigma standardization.\nExtracting batch of samples à 5000 events from DVS sequence...\n"
     ]
    },
    {
     "name": "stdout",
     "output_type": "stream",
     "text": [
      "Discarded 858 events during subsampling.\nDiscarded 272 events during 3-sigma standardization.\nExtracting batch of samples à 5000 events from DVS sequence...\nDiscarded 420 events during subsampling.\nDiscarded 521 events during 3-sigma standardization.\nExtracting batch of samples à 5000 events from DVS sequence...\nDiscarded 667 events during subsampling.\nDiscarded 389 events during 3-sigma standardization.\nExtracting batch of samples à 5000 events from DVS sequence...\nDiscarded 531 events during subsampling.\nDiscarded 412 events during 3-sigma standardization.\nExtracting batch of samples à 5000 events from DVS sequence...\nDiscarded 506 events during subsampling.\nDiscarded 550 events during 3-sigma standardization.\nExtracting batch of samples à 5000 events from DVS sequence...\n"
     ]
    },
    {
     "name": "stdout",
     "output_type": "stream",
     "text": [
      "Discarded 252 events during subsampling.\nDiscarded 347 events during 3-sigma standardization.\nExtracting batch of samples à 5000 events from DVS sequence...\nDiscarded 691 events during subsampling.\nDiscarded 409 events during 3-sigma standardization.\nExtracting batch of samples à 5000 events from DVS sequence...\nDiscarded 595 events during subsampling.\nDiscarded 515 events during 3-sigma standardization.\nExtracting batch of samples à 5000 events from DVS sequence...\nDiscarded 502 events during subsampling.\nDiscarded 505 events during 3-sigma standardization.\nExtracting batch of samples à 5000 events from DVS sequence...\nDiscarded 794 events during subsampling.\nDiscarded 362 events during 3-sigma standardization.\nExtracting batch of samples à 5000 events from DVS sequence...\n"
     ]
    },
    {
     "name": "stdout",
     "output_type": "stream",
     "text": [
      "Discarded 702 events during subsampling.\nDiscarded 427 events during 3-sigma standardization.\nExtracting batch of samples à 5000 events from DVS sequence...\nDiscarded 525 events during subsampling.\nDiscarded 536 events during 3-sigma standardization.\nExtracting batch of samples à 5000 events from DVS sequence...\nDiscarded 527 events during subsampling.\nDiscarded 625 events during 3-sigma standardization.\nExtracting batch of samples à 5000 events from DVS sequence...\nDiscarded 583 events during subsampling.\nDiscarded 361 events during 3-sigma standardization.\nExtracting batch of samples à 5000 events from DVS sequence...\nDiscarded 562 events during subsampling.\nDiscarded 461 events during 3-sigma standardization.\nExtracting batch of samples à 5000 events from DVS sequence...\n"
     ]
    },
    {
     "name": "stdout",
     "output_type": "stream",
     "text": [
      "Discarded 653 events during subsampling.\nDiscarded 454 events during 3-sigma standardization.\nExtracting batch of samples à 5000 events from DVS sequence...\nDiscarded 527 events during subsampling.\nDiscarded 513 events during 3-sigma standardization.\nExtracting batch of samples à 5000 events from DVS sequence...\nDiscarded 454 events during subsampling.\nDiscarded 362 events during 3-sigma standardization.\nExtracting batch of samples à 5000 events from DVS sequence...\nDiscarded 477 events during subsampling.\nDiscarded 398 events during 3-sigma standardization.\nExtracting batch of samples à 5000 events from DVS sequence...\nDiscarded 968 events during subsampling.\nDiscarded 306 events during 3-sigma standardization.\nExtracting batch of samples à 5000 events from DVS sequence...\nDiscarded 352 events during subsampling.\n"
     ]
    },
    {
     "name": "stdout",
     "output_type": "stream",
     "text": [
      "Discarded 230 events during 3-sigma standardization.\nExtracting batch of samples à 5000 events from DVS sequence...\nDiscarded 1081 events during subsampling.\nDiscarded 220 events during 3-sigma standardization.\nExtracting batch of samples à 5000 events from DVS sequence...\nDiscarded 1568 events during subsampling.\nDiscarded 220 events during 3-sigma standardization.\nExtracting batch of samples à 5000 events from DVS sequence...\nDiscarded 737 events during subsampling.\nDiscarded 368 events during 3-sigma standardization.\nExtracting batch of samples à 5000 events from DVS sequence...\nDiscarded 963 events during subsampling.\nDiscarded 213 events during 3-sigma standardization.\nExtracting batch of samples à 5000 events from DVS sequence...\nDiscarded 614 events during subsampling.\nDiscarded 190 events during 3-sigma standardization.\nExtracting batch of samples à 5000 events from DVS sequence...\n"
     ]
    },
    {
     "name": "stdout",
     "output_type": "stream",
     "text": [
      "Discarded 2145 events during subsampling.\nDiscarded 172 events during 3-sigma standardization.\nExtracting batch of samples à 5000 events from DVS sequence...\nDiscarded 2294 events during subsampling.\nDiscarded 164 events during 3-sigma standardization.\nExtracting batch of samples à 5000 events from DVS sequence...\nDiscarded 597 events during subsampling.\nDiscarded 190 events during 3-sigma standardization.\nExtracting batch of samples à 5000 events from DVS sequence...\nDiscarded 1507 events during subsampling.\nDiscarded 217 events during 3-sigma standardization.\nExtracting batch of samples à 5000 events from DVS sequence...\nDiscarded 2430 events during subsampling.\nDiscarded 109 events during 3-sigma standardization.\nExtracting batch of samples à 5000 events from DVS sequence...\nDiscarded 566 events during subsampling.\nDiscarded 192 events during 3-sigma standardization.\nExtracting batch of samples à 5000 events from DVS sequence...\n"
     ]
    },
    {
     "name": "stdout",
     "output_type": "stream",
     "text": [
      "Discarded 590 events during subsampling.\nDiscarded 233 events during 3-sigma standardization.\nExtracting batch of samples à 5000 events from DVS sequence...\nDiscarded 580 events during subsampling.\nDiscarded 197 events during 3-sigma standardization.\nExtracting batch of samples à 5000 events from DVS sequence...\nDiscarded 524 events during subsampling.\nDiscarded 195 events during 3-sigma standardization.\nExtracting batch of samples à 5000 events from DVS sequence...\nDiscarded 553 events during subsampling.\nDiscarded 236 events during 3-sigma standardization.\nExtracting batch of samples à 5000 events from DVS sequence...\nDiscarded 485 events during subsampling.\nDiscarded 219 events during 3-sigma standardization.\nExtracting batch of samples à 5000 events from DVS sequence...\nDiscarded 533 events during subsampling."
     ]
    },
    {
     "name": "stdout",
     "output_type": "stream",
     "text": [
      "\nDiscarded 301 events during 3-sigma standardization.\nExtracting batch of samples à 5000 events from DVS sequence...\nDiscarded 647 events during subsampling.\nDiscarded 188 events during 3-sigma standardization.\nExtracting batch of samples à 5000 events from DVS sequence...\nDiscarded 1797 events during subsampling.\nDiscarded 204 events during 3-sigma standardization.\nExtracting batch of samples à 5000 events from DVS sequence...\nDiscarded 109 events during subsampling.\nDiscarded 331 events during 3-sigma standardization.\nExtracting batch of samples à 5000 events from DVS sequence...\nDiscarded 661 events during subsampling.\nDiscarded 239 events during 3-sigma standardization.\nExtracting batch of samples à 5000 events from DVS sequence...\nDiscarded 2327 events during subsampling.\nDiscarded 168 events during 3-sigma standardization.\nExtracting batch of samples à 5000 events from DVS sequence...\n"
     ]
    },
    {
     "name": "stdout",
     "output_type": "stream",
     "text": [
      "Discarded 1299 events during subsampling.\nDiscarded 214 events during 3-sigma standardization.\nExtracting batch of samples à 5000 events from DVS sequence...\nDiscarded 523 events during subsampling.\nDiscarded 204 events during 3-sigma standardization.\nExtracting batch of samples à 5000 events from DVS sequence...\nDiscarded 1082 events during subsampling.\nDiscarded 247 events during 3-sigma standardization.\nLoading DVS sample /home/rbodo/.snntoolbox/Datasets/predator_prey/aedat/not_balanced_4834samples/N/rec_17.aedat...\n"
     ]
    },
    {
     "name": "stdout",
     "output_type": "stream",
     "text": [
      "Total number of events of this sample: 655000.\nNumber of batches: 131.\nExtracting 131 frames from DVS event sequence.\n"
     ]
    },
    {
     "name": "stdout",
     "output_type": "stream",
     "text": [
      "Extracting batch of samples à 5000 events from DVS sequence...\nDiscarded 900 events during subsampling.\nDiscarded 270 events during 3-sigma standardization.\nExtracting batch of samples à 5000 events from DVS sequence...\nDiscarded 338 events during subsampling.\nDiscarded 364 events during 3-sigma standardization.\nExtracting batch of samples à 5000 events from DVS sequence...\nDiscarded 1241 events during subsampling.\nDiscarded 251 events during 3-sigma standardization.\nExtracting batch of samples à 5000 events from DVS sequence...\nDiscarded 1398 events during subsampling.\nDiscarded 202 events during 3-sigma standardization.\nExtracting batch of samples à 5000 events from DVS sequence...\nDiscarded 659 events during subsampling.\nDiscarded 326 events during 3-sigma standardization."
     ]
    },
    {
     "name": "stdout",
     "output_type": "stream",
     "text": [
      "\nExtracting batch of samples à 5000 events from DVS sequence...\nDiscarded 559 events during subsampling.\nDiscarded 380 events during 3-sigma standardization.\nExtracting batch of samples à 5000 events from DVS sequence...\nDiscarded 368 events during subsampling.\nDiscarded 362 events during 3-sigma standardization.\nExtracting batch of samples à 5000 events from DVS sequence...\nDiscarded 1462 events during subsampling.\nDiscarded 239 events during 3-sigma standardization.\nExtracting batch of samples à 5000 events from DVS sequence...\nDiscarded 181 events during subsampling.\nDiscarded 1128 events during 3-sigma standardization.\nExtracting batch of samples à 5000 events from DVS sequence...\nDiscarded 1074 events during subsampling.\nDiscarded 310 events during 3-sigma standardization.\nExtracting batch of samples à 5000 events from DVS sequence...\n"
     ]
    },
    {
     "name": "stdout",
     "output_type": "stream",
     "text": [
      "Discarded 463 events during subsampling.\nDiscarded 405 events during 3-sigma standardization.\nExtracting batch of samples à 5000 events from DVS sequence...\nDiscarded 866 events during subsampling.\nDiscarded 242 events during 3-sigma standardization.\nExtracting batch of samples à 5000 events from DVS sequence...\nDiscarded 413 events during subsampling.\nDiscarded 355 events during 3-sigma standardization.\nExtracting batch of samples à 5000 events from DVS sequence...\nDiscarded 586 events during subsampling.\nDiscarded 385 events during 3-sigma standardization.\nExtracting batch of samples à 5000 events from DVS sequence...\nDiscarded 485 events during subsampling.\nDiscarded 384 events during 3-sigma standardization.\nExtracting batch of samples à 5000 events from DVS sequence...\n"
     ]
    },
    {
     "name": "stdout",
     "output_type": "stream",
     "text": [
      "Discarded 153 events during subsampling.\nDiscarded 419 events during 3-sigma standardization.\nExtracting batch of samples à 5000 events from DVS sequence...\nDiscarded 796 events during subsampling.\nDiscarded 299 events during 3-sigma standardization.\nExtracting batch of samples à 5000 events from DVS sequence...\nDiscarded 1010 events during subsampling.\nDiscarded 312 events during 3-sigma standardization.\nExtracting batch of samples à 5000 events from DVS sequence...\nDiscarded 241 events during subsampling.\nDiscarded 436 events during 3-sigma standardization.\nExtracting batch of samples à 5000 events from DVS sequence...\nDiscarded 692 events during subsampling.\nDiscarded 392 events during 3-sigma standardization.\nExtracting batch of samples à 5000 events from DVS sequence...\nDiscarded 767 events during subsampling.\nDiscarded 303 events during 3-sigma standardization.\nExtracting batch of samples à 5000 events from DVS sequence...\n"
     ]
    },
    {
     "name": "stdout",
     "output_type": "stream",
     "text": [
      "Discarded 698 events during subsampling.\nDiscarded 355 events during 3-sigma standardization.\nExtracting batch of samples à 5000 events from DVS sequence...\nDiscarded 860 events during subsampling.\nDiscarded 270 events during 3-sigma standardization.\nExtracting batch of samples à 5000 events from DVS sequence...\nDiscarded 684 events during subsampling.\nDiscarded 383 events during 3-sigma standardization.\nExtracting batch of samples à 5000 events from DVS sequence...\nDiscarded 913 events during subsampling.\nDiscarded 240 events during 3-sigma standardization.\nExtracting batch of samples à 5000 events from DVS sequence...\nDiscarded 208 events during subsampling.\nDiscarded 281 events during 3-sigma standardization.\nExtracting batch of samples à 5000 events from DVS sequence...\nDiscarded 507 events during subsampling."
     ]
    },
    {
     "name": "stdout",
     "output_type": "stream",
     "text": [
      "\nDiscarded 255 events during 3-sigma standardization.\nExtracting batch of samples à 5000 events from DVS sequence...\nDiscarded 330 events during subsampling.\nDiscarded 333 events during 3-sigma standardization.\nExtracting batch of samples à 5000 events from DVS sequence...\nDiscarded 931 events during subsampling.\nDiscarded 247 events during 3-sigma standardization.\nExtracting batch of samples à 5000 events from DVS sequence...\nDiscarded 744 events during subsampling.\nDiscarded 352 events during 3-sigma standardization.\nExtracting batch of samples à 5000 events from DVS sequence...\nDiscarded 426 events during subsampling.\nDiscarded 364 events during 3-sigma standardization.\nExtracting batch of samples à 5000 events from DVS sequence...\nDiscarded 638 events during subsampling.\n"
     ]
    },
    {
     "name": "stdout",
     "output_type": "stream",
     "text": [
      "Discarded 251 events during 3-sigma standardization.\nExtracting batch of samples à 5000 events from DVS sequence...\nDiscarded 308 events during subsampling.\nDiscarded 371 events during 3-sigma standardization.\nExtracting batch of samples à 5000 events from DVS sequence...\nDiscarded 727 events during subsampling.\nDiscarded 326 events during 3-sigma standardization.\nExtracting batch of samples à 5000 events from DVS sequence...\nDiscarded 541 events during subsampling.\nDiscarded 392 events during 3-sigma standardization."
     ]
    },
    {
     "name": "stdout",
     "output_type": "stream",
     "text": [
      "\nExtracting batch of samples à 5000 events from DVS sequence...\nDiscarded 804 events during subsampling.\nDiscarded 323 events during 3-sigma standardization.\nExtracting batch of samples à 5000 events from DVS sequence...\nDiscarded 696 events during subsampling.\nDiscarded 284 events during 3-sigma standardization.\nExtracting batch of samples à 5000 events from DVS sequence...\nDiscarded 402 events during subsampling.\nDiscarded 354 events during 3-sigma standardization.\nExtracting batch of samples à 5000 events from DVS sequence...\nDiscarded 1963 events during subsampling.\nDiscarded 192 events during 3-sigma standardization.\nExtracting batch of samples à 5000 events from DVS sequence...\nDiscarded 754 events during subsampling.\nDiscarded 315 events during 3-sigma standardization.\nExtracting batch of samples à 5000 events from DVS sequence...\nDiscarded 437 events during subsampling.\nDiscarded 414 events during 3-sigma standardization."
     ]
    },
    {
     "name": "stdout",
     "output_type": "stream",
     "text": [
      "\nExtracting batch of samples à 5000 events from DVS sequence...\nDiscarded 1982 events during subsampling.\nDiscarded 169 events during 3-sigma standardization.\nExtracting batch of samples à 5000 events from DVS sequence...\nDiscarded 373 events during subsampling.\nDiscarded 365 events during 3-sigma standardization.\nExtracting batch of samples à 5000 events from DVS sequence...\nDiscarded 614 events during subsampling.\nDiscarded 380 events during 3-sigma standardization.\nExtracting batch of samples à 5000 events from DVS sequence...\nDiscarded 1127 events during subsampling.\nDiscarded 271 events during 3-sigma standardization.\nExtracting batch of samples à 5000 events from DVS sequence...\nDiscarded 252 events during subsampling.\nDiscarded 366 events during 3-sigma standardization.\nExtracting batch of samples à 5000 events from DVS sequence...\n"
     ]
    },
    {
     "name": "stdout",
     "output_type": "stream",
     "text": [
      "Discarded 269 events during subsampling.\nDiscarded 381 events during 3-sigma standardization.\nExtracting batch of samples à 5000 events from DVS sequence...\nDiscarded 668 events during subsampling.\nDiscarded 381 events during 3-sigma standardization.\nExtracting batch of samples à 5000 events from DVS sequence...\nDiscarded 559 events during subsampling.\nDiscarded 315 events during 3-sigma standardization.\nExtracting batch of samples à 5000 events from DVS sequence...\nDiscarded 500 events during subsampling.\nDiscarded 302 events during 3-sigma standardization.\nExtracting batch of samples à 5000 events from DVS sequence...\nDiscarded 545 events during subsampling.\nDiscarded 333 events during 3-sigma standardization.\nExtracting batch of samples à 5000 events from DVS sequence...\nDiscarded 752 events during subsampling.\n"
     ]
    },
    {
     "name": "stdout",
     "output_type": "stream",
     "text": [
      "Discarded 295 events during 3-sigma standardization.\nExtracting batch of samples à 5000 events from DVS sequence...\nDiscarded 637 events during subsampling.\nDiscarded 320 events during 3-sigma standardization.\nExtracting batch of samples à 5000 events from DVS sequence...\nDiscarded 1319 events during subsampling.\nDiscarded 250 events during 3-sigma standardization.\nExtracting batch of samples à 5000 events from DVS sequence...\nDiscarded 462 events during subsampling.\nDiscarded 324 events during 3-sigma standardization.\nExtracting batch of samples à 5000 events from DVS sequence...\nDiscarded 1001 events during subsampling.\nDiscarded 268 events during 3-sigma standardization.\nExtracting batch of samples à 5000 events from DVS sequence...\nDiscarded 11 events during subsampling.\nDiscarded 364 events during 3-sigma standardization.\nExtracting batch of samples à 5000 events from DVS sequence...\n"
     ]
    },
    {
     "name": "stdout",
     "output_type": "stream",
     "text": [
      "Discarded 533 events during subsampling.\nDiscarded 319 events during 3-sigma standardization.\nExtracting batch of samples à 5000 events from DVS sequence...\nDiscarded 633 events during subsampling.\nDiscarded 331 events during 3-sigma standardization.\nExtracting batch of samples à 5000 events from DVS sequence...\nDiscarded 527 events during subsampling.\nDiscarded 359 events during 3-sigma standardization.\nExtracting batch of samples à 5000 events from DVS sequence...\nDiscarded 649 events during subsampling.\nDiscarded 328 events during 3-sigma standardization.\nExtracting batch of samples à 5000 events from DVS sequence...\nDiscarded 736 events during subsampling.\nDiscarded 324 events during 3-sigma standardization.\nExtracting batch of samples à 5000 events from DVS sequence...\n"
     ]
    },
    {
     "name": "stdout",
     "output_type": "stream",
     "text": [
      "Discarded 685 events during subsampling.\nDiscarded 255 events during 3-sigma standardization.\nExtracting batch of samples à 5000 events from DVS sequence...\nDiscarded 872 events during subsampling.\nDiscarded 355 events during 3-sigma standardization.\nExtracting batch of samples à 5000 events from DVS sequence...\nDiscarded 895 events during subsampling.\nDiscarded 313 events during 3-sigma standardization.\nExtracting batch of samples à 5000 events from DVS sequence...\nDiscarded 920 events during subsampling.\nDiscarded 338 events during 3-sigma standardization.\nExtracting batch of samples à 5000 events from DVS sequence...\nDiscarded 1238 events during subsampling.\nDiscarded 306 events during 3-sigma standardization.\nExtracting batch of samples à 5000 events from DVS sequence...\n"
     ]
    },
    {
     "name": "stdout",
     "output_type": "stream",
     "text": [
      "Discarded 16 events during subsampling.\nDiscarded 388 events during 3-sigma standardization.\nExtracting batch of samples à 5000 events from DVS sequence...\nDiscarded 1318 events during subsampling.\nDiscarded 206 events during 3-sigma standardization.\nExtracting batch of samples à 5000 events from DVS sequence...\nDiscarded 971 events during subsampling.\nDiscarded 290 events during 3-sigma standardization.\nExtracting batch of samples à 5000 events from DVS sequence...\nDiscarded 1083 events during subsampling.\nDiscarded 279 events during 3-sigma standardization.\nExtracting batch of samples à 5000 events from DVS sequence...\nDiscarded 566 events during subsampling.\nDiscarded 314 events during 3-sigma standardization.\nExtracting batch of samples à 5000 events from DVS sequence...\n"
     ]
    },
    {
     "name": "stdout",
     "output_type": "stream",
     "text": [
      "Discarded 775 events during subsampling.\nDiscarded 330 events during 3-sigma standardization.\nExtracting batch of samples à 5000 events from DVS sequence...\nDiscarded 1258 events during subsampling.\nDiscarded 244 events during 3-sigma standardization.\nExtracting batch of samples à 5000 events from DVS sequence...\nDiscarded 629 events during subsampling.\nDiscarded 217 events during 3-sigma standardization.\nExtracting batch of samples à 5000 events from DVS sequence...\nDiscarded 617 events during subsampling.\nDiscarded 228 events during 3-sigma standardization.\nExtracting batch of samples à 5000 events from DVS sequence...\nDiscarded 661 events during subsampling.\nDiscarded 242 events during 3-sigma standardization.\nExtracting batch of samples à 5000 events from DVS sequence...\n"
     ]
    },
    {
     "name": "stdout",
     "output_type": "stream",
     "text": [
      "Discarded 1345 events during subsampling.\nDiscarded 201 events during 3-sigma standardization.\nExtracting batch of samples à 5000 events from DVS sequence...\nDiscarded 2031 events during subsampling.\nDiscarded 136 events during 3-sigma standardization.\nExtracting batch of samples à 5000 events from DVS sequence...\nDiscarded 577 events during subsampling.\nDiscarded 220 events during 3-sigma standardization.\nExtracting batch of samples à 5000 events from DVS sequence...\nDiscarded 1791 events during subsampling.\nDiscarded 204 events during 3-sigma standardization.\nExtracting batch of samples à 5000 events from DVS sequence...\nDiscarded 1495 events during subsampling.\nDiscarded 220 events during 3-sigma standardization.\nExtracting batch of samples à 5000 events from DVS sequence...\nDiscarded 571 events during subsampling.\nDiscarded 291 events during 3-sigma standardization.\nExtracting batch of samples à 5000 events from DVS sequence...\nDiscarded 562 events during subsampling."
     ]
    },
    {
     "name": "stdout",
     "output_type": "stream",
     "text": [
      "\nDiscarded 247 events during 3-sigma standardization.\nExtracting batch of samples à 5000 events from DVS sequence...\nDiscarded 1826 events during subsampling.\nDiscarded 165 events during 3-sigma standardization.\nExtracting batch of samples à 5000 events from DVS sequence...\nDiscarded 523 events during subsampling.\nDiscarded 279 events during 3-sigma standardization.\nExtracting batch of samples à 5000 events from DVS sequence...\nDiscarded 497 events during subsampling.\nDiscarded 241 events during 3-sigma standardization.\nExtracting batch of samples à 5000 events from DVS sequence...\nDiscarded 535 events during subsampling.\nDiscarded 306 events during 3-sigma standardization.\nExtracting batch of samples à 5000 events from DVS sequence...\nDiscarded 1502 events during subsampling.\nDiscarded 287 events during 3-sigma standardization.\nExtracting batch of samples à 5000 events from DVS sequence...\nDiscarded 547 events during subsampling.\n"
     ]
    },
    {
     "name": "stdout",
     "output_type": "stream",
     "text": [
      "Discarded 298 events during 3-sigma standardization.\nExtracting batch of samples à 5000 events from DVS sequence...\nDiscarded 487 events during subsampling.\nDiscarded 288 events during 3-sigma standardization.\nExtracting batch of samples à 5000 events from DVS sequence...\nDiscarded 750 events during subsampling.\nDiscarded 384 events during 3-sigma standardization.\nExtracting batch of samples à 5000 events from DVS sequence...\nDiscarded 383 events during subsampling.\nDiscarded 232 events during 3-sigma standardization.\nExtracting batch of samples à 5000 events from DVS sequence...\nDiscarded 1164 events during subsampling.\nDiscarded 265 events during 3-sigma standardization.\nExtracting batch of samples à 5000 events from DVS sequence...\nDiscarded 6 events during subsampling.\nDiscarded 313 events during 3-sigma standardization.\nExtracting batch of samples à 5000 events from DVS sequence...\n"
     ]
    },
    {
     "name": "stdout",
     "output_type": "stream",
     "text": [
      "Discarded 1683 events during subsampling.\nDiscarded 205 events during 3-sigma standardization.\nExtracting batch of samples à 5000 events from DVS sequence...\nDiscarded 653 events during subsampling.\nDiscarded 237 events during 3-sigma standardization.\nExtracting batch of samples à 5000 events from DVS sequence...\nDiscarded 401 events during subsampling.\nDiscarded 221 events during 3-sigma standardization.\nExtracting batch of samples à 5000 events from DVS sequence...\nDiscarded 416 events during subsampling.\nDiscarded 290 events during 3-sigma standardization.\nExtracting batch of samples à 5000 events from DVS sequence...\nDiscarded 395 events during subsampling.\nDiscarded 224 events during 3-sigma standardization.\nExtracting batch of samples à 5000 events from DVS sequence...\nDiscarded 424 events during subsampling.\nDiscarded 269 events during 3-sigma standardization.\nExtracting batch of samples à 5000 events from DVS sequence..."
     ]
    },
    {
     "name": "stdout",
     "output_type": "stream",
     "text": [
      "\nDiscarded 875 events during subsampling.\nDiscarded 271 events during 3-sigma standardization.\nExtracting batch of samples à 5000 events from DVS sequence...\nDiscarded 871 events during subsampling.\nDiscarded 354 events during 3-sigma standardization.\nExtracting batch of samples à 5000 events from DVS sequence...\nDiscarded 942 events during subsampling.\nDiscarded 344 events during 3-sigma standardization.\nExtracting batch of samples à 5000 events from DVS sequence...\nDiscarded 633 events during subsampling.\nDiscarded 439 events during 3-sigma standardization.\nExtracting batch of samples à 5000 events from DVS sequence...\nDiscarded 595 events during subsampling.\nDiscarded 521 events during 3-sigma standardization.\nExtracting batch of samples à 5000 events from DVS sequence...\nDiscarded 744 events during subsampling."
     ]
    },
    {
     "name": "stdout",
     "output_type": "stream",
     "text": [
      "\nDiscarded 324 events during 3-sigma standardization.\nExtracting batch of samples à 5000 events from DVS sequence...\nDiscarded 599 events during subsampling.\nDiscarded 289 events during 3-sigma standardization.\nExtracting batch of samples à 5000 events from DVS sequence...\nDiscarded 1041 events during subsampling.\nDiscarded 264 events during 3-sigma standardization.\nExtracting batch of samples à 5000 events from DVS sequence...\nDiscarded 1346 events during subsampling.\nDiscarded 210 events during 3-sigma standardization.\nExtracting batch of samples à 5000 events from DVS sequence...\nDiscarded 921 events during subsampling.\nDiscarded 266 events during 3-sigma standardization.\nExtracting batch of samples à 5000 events from DVS sequence...\nDiscarded 778 events during subsampling.\nDiscarded 268 events during 3-sigma standardization.\nExtracting batch of samples à 5000 events from DVS sequence...\n"
     ]
    },
    {
     "name": "stdout",
     "output_type": "stream",
     "text": [
      "Discarded 5 events during subsampling.\nDiscarded 281 events during 3-sigma standardization.\nExtracting batch of samples à 5000 events from DVS sequence...\nDiscarded 1057 events during subsampling.\nDiscarded 260 events during 3-sigma standardization.\nExtracting batch of samples à 5000 events from DVS sequence...\nDiscarded 822 events during subsampling.\nDiscarded 283 events during 3-sigma standardization.\nExtracting batch of samples à 5000 events from DVS sequence...\nDiscarded 492 events during subsampling.\nDiscarded 274 events during 3-sigma standardization.\nExtracting batch of samples à 5000 events from DVS sequence...\nDiscarded 1227 events during subsampling.\nDiscarded 202 events during 3-sigma standardization.\nExtracting batch of samples à 5000 events from DVS sequence...\n"
     ]
    },
    {
     "name": "stdout",
     "output_type": "stream",
     "text": [
      "Discarded 670 events during subsampling.\nDiscarded 226 events during 3-sigma standardization.\nExtracting batch of samples à 5000 events from DVS sequence...\nDiscarded 391 events during subsampling.\nDiscarded 252 events during 3-sigma standardization.\nExtracting batch of samples à 5000 events from DVS sequence...\nDiscarded 1784 events during subsampling.\nDiscarded 203 events during 3-sigma standardization.\nExtracting batch of samples à 5000 events from DVS sequence...\nDiscarded 94 events during subsampling.\nDiscarded 346 events during 3-sigma standardization.\nExtracting batch of samples à 5000 events from DVS sequence...\nDiscarded 445 events during subsampling.\nDiscarded 374 events during 3-sigma standardization.\nExtracting batch of samples à 5000 events from DVS sequence...\n"
     ]
    },
    {
     "name": "stdout",
     "output_type": "stream",
     "text": [
      "Discarded 283 events during subsampling.\nDiscarded 431 events during 3-sigma standardization.\nExtracting batch of samples à 5000 events from DVS sequence...\nDiscarded 1102 events during subsampling.\nDiscarded 345 events during 3-sigma standardization.\nExtracting batch of samples à 5000 events from DVS sequence...\nDiscarded 678 events during subsampling.\nDiscarded 324 events during 3-sigma standardization.\nExtracting batch of samples à 5000 events from DVS sequence...\nDiscarded 1346 events during subsampling.\nDiscarded 216 events during 3-sigma standardization.\nExtracting batch of samples à 5000 events from DVS sequence...\nDiscarded 195 events during subsampling.\nDiscarded 1242 events during 3-sigma standardization.\nExtracting batch of samples à 5000 events from DVS sequence...\nDiscarded 86 events during subsampling.\nDiscarded 2254 events during 3-sigma standardization.\nExtracting batch of samples à 5000 events from DVS sequence...\n"
     ]
    },
    {
     "name": "stdout",
     "output_type": "stream",
     "text": [
      "Discarded 157 events during subsampling.\nDiscarded 2183 events during 3-sigma standardization.\nExtracting batch of samples à 5000 events from DVS sequence...\nDiscarded 120 events during subsampling.\nDiscarded 2231 events during 3-sigma standardization.\nLoading DVS sample /home/rbodo/.snntoolbox/Datasets/predator_prey/aedat/not_balanced_4834samples/N/rec_18.aedat...\n"
     ]
    },
    {
     "name": "stdout",
     "output_type": "stream",
     "text": [
      "Total number of events of this sample: 775000.\nNumber of batches: 155.\nExtracting 155 frames from DVS event sequence.\n"
     ]
    },
    {
     "name": "stdout",
     "output_type": "stream",
     "text": [
      "Extracting batch of samples à 5000 events from DVS sequence...\nDiscarded 1216 events during subsampling.\nDiscarded 226 events during 3-sigma standardization.\nExtracting batch of samples à 5000 events from DVS sequence...\nDiscarded 2271 events during subsampling.\nDiscarded 233 events during 3-sigma standardization.\nExtracting batch of samples à 5000 events from DVS sequence...\nDiscarded 486 events during subsampling.\nDiscarded 298 events during 3-sigma standardization.\nExtracting batch of samples à 5000 events from DVS sequence...\nDiscarded 373 events during subsampling.\nDiscarded 276 events during 3-sigma standardization.\nExtracting batch of samples à 5000 events from DVS sequence...\nDiscarded 1231 events during subsampling.\n"
     ]
    },
    {
     "name": "stdout",
     "output_type": "stream",
     "text": [
      "Discarded 182 events during 3-sigma standardization.\nExtracting batch of samples à 5000 events from DVS sequence...\nDiscarded 396 events during subsampling.\nDiscarded 232 events during 3-sigma standardization.\nExtracting batch of samples à 5000 events from DVS sequence...\nDiscarded 349 events during subsampling.\nDiscarded 304 events during 3-sigma standardization.\nExtracting batch of samples à 5000 events from DVS sequence...\nDiscarded 402 events during subsampling.\nDiscarded 306 events during 3-sigma standardization.\nExtracting batch of samples à 5000 events from DVS sequence...\nDiscarded 610 events during subsampling.\nDiscarded 329 events during 3-sigma standardization.\nExtracting batch of samples à 5000 events from DVS sequence...\n"
     ]
    },
    {
     "name": "stdout",
     "output_type": "stream",
     "text": [
      "Discarded 1385 events during subsampling.\nDiscarded 223 events during 3-sigma standardization.\nExtracting batch of samples à 5000 events from DVS sequence...\nDiscarded 420 events during subsampling.\nDiscarded 239 events during 3-sigma standardization.\nExtracting batch of samples à 5000 events from DVS sequence...\nDiscarded 1251 events during subsampling.\nDiscarded 234 events during 3-sigma standardization.\nExtracting batch of samples à 5000 events from DVS sequence...\nDiscarded 1386 events during subsampling.\nDiscarded 232 events during 3-sigma standardization.\nExtracting batch of samples à 5000 events from DVS sequence...\nDiscarded 2261 events during subsampling.\nDiscarded 156 events during 3-sigma standardization.\nExtracting batch of samples à 5000 events from DVS sequence...\nDiscarded 1247 events during subsampling.\n"
     ]
    },
    {
     "name": "stdout",
     "output_type": "stream",
     "text": [
      "Discarded 227 events during 3-sigma standardization.\nExtracting batch of samples à 5000 events from DVS sequence...\nDiscarded 872 events during subsampling.\nDiscarded 249 events during 3-sigma standardization.\nExtracting batch of samples à 5000 events from DVS sequence...\nDiscarded 584 events during subsampling.\nDiscarded 256 events during 3-sigma standardization.\nExtracting batch of samples à 5000 events from DVS sequence...\nDiscarded 2223 events during subsampling.\nDiscarded 110 events during 3-sigma standardization.\nExtracting batch of samples à 5000 events from DVS sequence...\nDiscarded 1264 events during subsampling.\nDiscarded 259 events during 3-sigma standardization.\nExtracting batch of samples à 5000 events from DVS sequence...\nDiscarded 945 events during subsampling.\n"
     ]
    },
    {
     "name": "stdout",
     "output_type": "stream",
     "text": [
      "Discarded 257 events during 3-sigma standardization.\nExtracting batch of samples à 5000 events from DVS sequence...\nDiscarded 1972 events during subsampling.\nDiscarded 148 events during 3-sigma standardization.\nExtracting batch of samples à 5000 events from DVS sequence...\nDiscarded 653 events during subsampling.\nDiscarded 255 events during 3-sigma standardization.\nExtracting batch of samples à 5000 events from DVS sequence...\nDiscarded 1251 events during subsampling.\nDiscarded 243 events during 3-sigma standardization.\nExtracting batch of samples à 5000 events from DVS sequence...\nDiscarded 807 events during subsampling.\nDiscarded 375 events during 3-sigma standardization.\nExtracting batch of samples à 5000 events from DVS sequence...\n"
     ]
    },
    {
     "name": "stdout",
     "output_type": "stream",
     "text": [
      "Discarded 511 events during subsampling.\nDiscarded 262 events during 3-sigma standardization.\nExtracting batch of samples à 5000 events from DVS sequence...\nDiscarded 473 events during subsampling.\nDiscarded 300 events during 3-sigma standardization.\nExtracting batch of samples à 5000 events from DVS sequence...\nDiscarded 67 events during subsampling.\nDiscarded 394 events during 3-sigma standardization.\nExtracting batch of samples à 5000 events from DVS sequence...\nDiscarded 1853 events during subsampling.\nDiscarded 194 events during 3-sigma standardization.\nExtracting batch of samples à 5000 events from DVS sequence...\nDiscarded 1642 events during subsampling.\nDiscarded 200 events during 3-sigma standardization.\nExtracting batch of samples à 5000 events from DVS sequence...\n"
     ]
    },
    {
     "name": "stdout",
     "output_type": "stream",
     "text": [
      "Discarded 1512 events during subsampling.\nDiscarded 183 events during 3-sigma standardization.\nExtracting batch of samples à 5000 events from DVS sequence...\nDiscarded 1299 events during subsampling.\nDiscarded 228 events during 3-sigma standardization.\nExtracting batch of samples à 5000 events from DVS sequence...\nDiscarded 175 events during subsampling.\nDiscarded 372 events during 3-sigma standardization.\nExtracting batch of samples à 5000 events from DVS sequence...\nDiscarded 1278 events during subsampling.\nDiscarded 251 events during 3-sigma standardization.\nExtracting batch of samples à 5000 events from DVS sequence...\nDiscarded 1416 events during subsampling.\nDiscarded 284 events during 3-sigma standardization.\nExtracting batch of samples à 5000 events from DVS sequence...\n"
     ]
    },
    {
     "name": "stdout",
     "output_type": "stream",
     "text": [
      "Discarded 601 events during subsampling.\nDiscarded 419 events during 3-sigma standardization.\nExtracting batch of samples à 5000 events from DVS sequence...\nDiscarded 459 events during subsampling.\nDiscarded 531 events during 3-sigma standardization.\nExtracting batch of samples à 5000 events from DVS sequence...\nDiscarded 561 events during subsampling.\nDiscarded 429 events during 3-sigma standardization.\nExtracting batch of samples à 5000 events from DVS sequence...\nDiscarded 586 events during subsampling.\nDiscarded 377 events during 3-sigma standardization.\nExtracting batch of samples à 5000 events from DVS sequence...\nDiscarded 1511 events during subsampling.\nDiscarded 253 events during 3-sigma standardization.\nExtracting batch of samples à 5000 events from DVS sequence...\n"
     ]
    },
    {
     "name": "stdout",
     "output_type": "stream",
     "text": [
      "Discarded 1364 events during subsampling.\nDiscarded 280 events during 3-sigma standardization.\nExtracting batch of samples à 5000 events from DVS sequence...\nDiscarded 631 events during subsampling.\nDiscarded 321 events during 3-sigma standardization.\nExtracting batch of samples à 5000 events from DVS sequence...\nDiscarded 679 events during subsampling.\nDiscarded 435 events during 3-sigma standardization.\nExtracting batch of samples à 5000 events from DVS sequence...\nDiscarded 1257 events during subsampling.\nDiscarded 347 events during 3-sigma standardization.\nExtracting batch of samples à 5000 events from DVS sequence...\nDiscarded 9 events during subsampling.\nDiscarded 379 events during 3-sigma standardization.\nExtracting batch of samples à 5000 events from DVS sequence...\n"
     ]
    },
    {
     "name": "stdout",
     "output_type": "stream",
     "text": [
      "Discarded 920 events during subsampling.\nDiscarded 256 events during 3-sigma standardization.\nExtracting batch of samples à 5000 events from DVS sequence...\nDiscarded 145 events during subsampling.\nDiscarded 338 events during 3-sigma standardization.\nExtracting batch of samples à 5000 events from DVS sequence...\nDiscarded 1698 events during subsampling.\nDiscarded 214 events during 3-sigma standardization.\nExtracting batch of samples à 5000 events from DVS sequence...\nDiscarded 1763 events during subsampling.\nDiscarded 223 events during 3-sigma standardization.\nExtracting batch of samples à 5000 events from DVS sequence...\nDiscarded 1526 events during subsampling.\nDiscarded 219 events during 3-sigma standardization.\nExtracting batch of samples à 5000 events from DVS sequence...\nDiscarded 1537 events during subsampling.\n"
     ]
    },
    {
     "name": "stdout",
     "output_type": "stream",
     "text": [
      "Discarded 225 events during 3-sigma standardization.\nExtracting batch of samples à 5000 events from DVS sequence...\nDiscarded 1250 events during subsampling.\nDiscarded 271 events during 3-sigma standardization.\nExtracting batch of samples à 5000 events from DVS sequence...\nDiscarded 820 events during subsampling.\nDiscarded 369 events during 3-sigma standardization.\nExtracting batch of samples à 5000 events from DVS sequence...\nDiscarded 403 events during subsampling.\nDiscarded 407 events during 3-sigma standardization.\nExtracting batch of samples à 5000 events from DVS sequence...\nDiscarded 1212 events during subsampling.\nDiscarded 320 events during 3-sigma standardization.\nExtracting batch of samples à 5000 events from DVS sequence...\n"
     ]
    },
    {
     "name": "stdout",
     "output_type": "stream",
     "text": [
      "Discarded 786 events during subsampling.\nDiscarded 320 events during 3-sigma standardization.\nExtracting batch of samples à 5000 events from DVS sequence...\nDiscarded 664 events during subsampling.\nDiscarded 302 events during 3-sigma standardization.\nExtracting batch of samples à 5000 events from DVS sequence...\nDiscarded 934 events during subsampling.\nDiscarded 350 events during 3-sigma standardization.\nExtracting batch of samples à 5000 events from DVS sequence...\nDiscarded 576 events during subsampling.\nDiscarded 427 events during 3-sigma standardization.\nExtracting batch of samples à 5000 events from DVS sequence...\nDiscarded 56 events during subsampling.\nDiscarded 371 events during 3-sigma standardization.\nExtracting batch of samples à 5000 events from DVS sequence...\n"
     ]
    },
    {
     "name": "stdout",
     "output_type": "stream",
     "text": [
      "Discarded 145 events during subsampling.\nDiscarded 349 events during 3-sigma standardization.\nExtracting batch of samples à 5000 events from DVS sequence...\nDiscarded 1181 events during subsampling.\nDiscarded 265 events during 3-sigma standardization.\nExtracting batch of samples à 5000 events from DVS sequence...\nDiscarded 233 events during subsampling.\nDiscarded 403 events during 3-sigma standardization.\nExtracting batch of samples à 5000 events from DVS sequence...\nDiscarded 1335 events during subsampling.\nDiscarded 231 events during 3-sigma standardization.\nExtracting batch of samples à 5000 events from DVS sequence...\nDiscarded 752 events during subsampling.\nDiscarded 328 events during 3-sigma standardization.\nExtracting batch of samples à 5000 events from DVS sequence...\n"
     ]
    },
    {
     "name": "stdout",
     "output_type": "stream",
     "text": [
      "Discarded 1080 events during subsampling.\nDiscarded 303 events during 3-sigma standardization.\nExtracting batch of samples à 5000 events from DVS sequence...\nDiscarded 990 events during subsampling.\nDiscarded 277 events during 3-sigma standardization.\nExtracting batch of samples à 5000 events from DVS sequence...\nDiscarded 612 events during subsampling.\nDiscarded 357 events during 3-sigma standardization.\nExtracting batch of samples à 5000 events from DVS sequence...\nDiscarded 946 events during subsampling.\nDiscarded 286 events during 3-sigma standardization.\nExtracting batch of samples à 5000 events from DVS sequence...\nDiscarded 807 events during subsampling.\nDiscarded 274 events during 3-sigma standardization.\nExtracting batch of samples à 5000 events from DVS sequence...\nDiscarded 1477 events during subsampling.\nDiscarded 210 events during 3-sigma standardization.\n"
     ]
    },
    {
     "name": "stdout",
     "output_type": "stream",
     "text": [
      "Extracting batch of samples à 5000 events from DVS sequence...\nDiscarded 782 events during subsampling.\nDiscarded 259 events during 3-sigma standardization.\nExtracting batch of samples à 5000 events from DVS sequence...\nDiscarded 389 events during subsampling.\nDiscarded 257 events during 3-sigma standardization.\nExtracting batch of samples à 5000 events from DVS sequence...\nDiscarded 1006 events during subsampling.\nDiscarded 311 events during 3-sigma standardization.\nExtracting batch of samples à 5000 events from DVS sequence...\nDiscarded 884 events during subsampling.\nDiscarded 238 events during 3-sigma standardization.\nExtracting batch of samples à 5000 events from DVS sequence...\nDiscarded 628 events during subsampling.\nDiscarded 296 events during 3-sigma standardization.\nExtracting batch of samples à 5000 events from DVS sequence...\n"
     ]
    },
    {
     "name": "stdout",
     "output_type": "stream",
     "text": [
      "Discarded 510 events during subsampling.\nDiscarded 245 events during 3-sigma standardization.\nExtracting batch of samples à 5000 events from DVS sequence...\nDiscarded 609 events during subsampling.\nDiscarded 162 events during 3-sigma standardization.\nExtracting batch of samples à 5000 events from DVS sequence...\nDiscarded 2034 events during subsampling.\nDiscarded 157 events during 3-sigma standardization.\nExtracting batch of samples à 5000 events from DVS sequence...\nDiscarded 1140 events during subsampling.\nDiscarded 278 events during 3-sigma standardization.\nExtracting batch of samples à 5000 events from DVS sequence...\nDiscarded 1996 events during subsampling.\nDiscarded 162 events during 3-sigma standardization.\nExtracting batch of samples à 5000 events from DVS sequence...\n"
     ]
    },
    {
     "name": "stdout",
     "output_type": "stream",
     "text": [
      "Discarded 761 events during subsampling.\nDiscarded 212 events during 3-sigma standardization.\nExtracting batch of samples à 5000 events from DVS sequence...\nDiscarded 1448 events during subsampling.\nDiscarded 230 events during 3-sigma standardization.\nExtracting batch of samples à 5000 events from DVS sequence...\nDiscarded 1267 events during subsampling.\nDiscarded 228 events during 3-sigma standardization.\nExtracting batch of samples à 5000 events from DVS sequence...\nDiscarded 952 events during subsampling.\nDiscarded 255 events during 3-sigma standardization.\nExtracting batch of samples à 5000 events from DVS sequence...\nDiscarded 807 events during subsampling.\nDiscarded 199 events during 3-sigma standardization.\nExtracting batch of samples à 5000 events from DVS sequence..."
     ]
    },
    {
     "name": "stdout",
     "output_type": "stream",
     "text": [
      "\nDiscarded 736 events during subsampling.\nDiscarded 218 events during 3-sigma standardization.\nExtracting batch of samples à 5000 events from DVS sequence...\nDiscarded 705 events during subsampling.\nDiscarded 228 events during 3-sigma standardization.\nExtracting batch of samples à 5000 events from DVS sequence...\nDiscarded 800 events during subsampling.\nDiscarded 192 events during 3-sigma standardization.\nExtracting batch of samples à 5000 events from DVS sequence...\nDiscarded 722 events during subsampling.\nDiscarded 219 events during 3-sigma standardization.\nExtracting batch of samples à 5000 events from DVS sequence...\nDiscarded 709 events during subsampling.\nDiscarded 255 events during 3-sigma standardization."
     ]
    },
    {
     "name": "stdout",
     "output_type": "stream",
     "text": [
      "\nExtracting batch of samples à 5000 events from DVS sequence...\nDiscarded 629 events during subsampling.\nDiscarded 286 events during 3-sigma standardization.\nExtracting batch of samples à 5000 events from DVS sequence...\nDiscarded 2194 events during subsampling.\nDiscarded 191 events during 3-sigma standardization.\nExtracting batch of samples à 5000 events from DVS sequence...\nDiscarded 1584 events during subsampling.\nDiscarded 151 events during 3-sigma standardization.\nExtracting batch of samples à 5000 events from DVS sequence...\nDiscarded 633 events during subsampling.\nDiscarded 259 events during 3-sigma standardization.\nExtracting batch of samples à 5000 events from DVS sequence...\nDiscarded 539 events during subsampling.\nDiscarded 280 events during 3-sigma standardization.\nExtracting batch of samples à 5000 events from DVS sequence...\n"
     ]
    },
    {
     "name": "stdout",
     "output_type": "stream",
     "text": [
      "Discarded 641 events during subsampling.\nDiscarded 221 events during 3-sigma standardization.\nExtracting batch of samples à 5000 events from DVS sequence...\nDiscarded 1021 events during subsampling.\nDiscarded 308 events during 3-sigma standardization.\nExtracting batch of samples à 5000 events from DVS sequence...\nDiscarded 1910 events during subsampling.\nDiscarded 169 events during 3-sigma standardization.\nExtracting batch of samples à 5000 events from DVS sequence...\nDiscarded 573 events during subsampling.\nDiscarded 234 events during 3-sigma standardization.\nExtracting batch of samples à 5000 events from DVS sequence...\nDiscarded 2011 events during subsampling.\nDiscarded 161 events during 3-sigma standardization.\nExtracting batch of samples à 5000 events from DVS sequence...\n"
     ]
    },
    {
     "name": "stdout",
     "output_type": "stream",
     "text": [
      "Discarded 583 events during subsampling.\nDiscarded 257 events during 3-sigma standardization.\nExtracting batch of samples à 5000 events from DVS sequence...\nDiscarded 2747 events during subsampling.\nDiscarded 229 events during 3-sigma standardization.\nExtracting batch of samples à 5000 events from DVS sequence...\nDiscarded 585 events during subsampling.\nDiscarded 235 events during 3-sigma standardization.\nExtracting batch of samples à 5000 events from DVS sequence...\nDiscarded 488 events during subsampling.\nDiscarded 275 events during 3-sigma standardization.\nExtracting batch of samples à 5000 events from DVS sequence...\n"
     ]
    },
    {
     "name": "stdout",
     "output_type": "stream",
     "text": [
      "Discarded 2330 events during subsampling.\nDiscarded 179 events during 3-sigma standardization.\nExtracting batch of samples à 5000 events from DVS sequence...\nDiscarded 573 events during subsampling.\nDiscarded 232 events during 3-sigma standardization.\nExtracting batch of samples à 5000 events from DVS sequence...\nDiscarded 1508 events during subsampling.\nDiscarded 201 events during 3-sigma standardization.\nExtracting batch of samples à 5000 events from DVS sequence...\nDiscarded 475 events during subsampling.\nDiscarded 211 events during 3-sigma standardization.\nExtracting batch of samples à 5000 events from DVS sequence...\n"
     ]
    },
    {
     "name": "stdout",
     "output_type": "stream",
     "text": [
      "Discarded 809 events during subsampling.\nDiscarded 224 events during 3-sigma standardization.\nExtracting batch of samples à 5000 events from DVS sequence...\nDiscarded 449 events during subsampling.\nDiscarded 249 events during 3-sigma standardization.\nExtracting batch of samples à 5000 events from DVS sequence...\nDiscarded 516 events during subsampling.\nDiscarded 223 events during 3-sigma standardization.\nExtracting batch of samples à 5000 events from DVS sequence...\nDiscarded 2 events during subsampling.\nDiscarded 269 events during 3-sigma standardization.\nExtracting batch of samples à 5000 events from DVS sequence...\nDiscarded 1883 events during subsampling.\nDiscarded 224 events during 3-sigma standardization."
     ]
    },
    {
     "name": "stdout",
     "output_type": "stream",
     "text": [
      "\nExtracting batch of samples à 5000 events from DVS sequence...\nDiscarded 1352 events during subsampling.\nDiscarded 210 events during 3-sigma standardization.\nExtracting batch of samples à 5000 events from DVS sequence...\nDiscarded 1342 events during subsampling.\nDiscarded 183 events during 3-sigma standardization.\nExtracting batch of samples à 5000 events from DVS sequence...\nDiscarded 1263 events during subsampling.\nDiscarded 187 events during 3-sigma standardization.\nExtracting batch of samples à 5000 events from DVS sequence...\nDiscarded 5 events during subsampling.\nDiscarded 265 events during 3-sigma standardization.\nExtracting batch of samples à 5000 events from DVS sequence...\nDiscarded 478 events during subsampling.\nDiscarded 288 events during 3-sigma standardization.\nExtracting batch of samples à 5000 events from DVS sequence...\n"
     ]
    },
    {
     "name": "stdout",
     "output_type": "stream",
     "text": [
      "Discarded 797 events during subsampling.\nDiscarded 332 events during 3-sigma standardization.\nExtracting batch of samples à 5000 events from DVS sequence...\nDiscarded 804 events during subsampling.\nDiscarded 364 events during 3-sigma standardization.\nExtracting batch of samples à 5000 events from DVS sequence...\nDiscarded 529 events during subsampling.\nDiscarded 389 events during 3-sigma standardization.\nExtracting batch of samples à 5000 events from DVS sequence...\nDiscarded 776 events during subsampling.\nDiscarded 500 events during 3-sigma standardization.\nExtracting batch of samples à 5000 events from DVS sequence...\nDiscarded 596 events during subsampling.\nDiscarded 350 events during 3-sigma standardization.\nExtracting batch of samples à 5000 events from DVS sequence..."
     ]
    },
    {
     "name": "stdout",
     "output_type": "stream",
     "text": [
      "\nDiscarded 510 events during subsampling.\nDiscarded 348 events during 3-sigma standardization.\nExtracting batch of samples à 5000 events from DVS sequence...\nDiscarded 666 events during subsampling.\nDiscarded 411 events during 3-sigma standardization.\nExtracting batch of samples à 5000 events from DVS sequence...\nDiscarded 318 events during subsampling.\nDiscarded 465 events during 3-sigma standardization.\nExtracting batch of samples à 5000 events from DVS sequence...\nDiscarded 349 events during subsampling.\nDiscarded 423 events during 3-sigma standardization.\nExtracting batch of samples à 5000 events from DVS sequence...\nDiscarded 1573 events during subsampling.\nDiscarded 227 events during 3-sigma standardization.\nExtracting batch of samples à 5000 events from DVS sequence...\n"
     ]
    },
    {
     "name": "stdout",
     "output_type": "stream",
     "text": [
      "Discarded 1569 events during subsampling.\nDiscarded 203 events during 3-sigma standardization.\nExtracting batch of samples à 5000 events from DVS sequence...\nDiscarded 508 events during subsampling.\nDiscarded 312 events during 3-sigma standardization.\nExtracting batch of samples à 5000 events from DVS sequence...\nDiscarded 856 events during subsampling.\nDiscarded 234 events during 3-sigma standardization.\nExtracting batch of samples à 5000 events from DVS sequence...\nDiscarded 664 events during subsampling.\nDiscarded 227 events during 3-sigma standardization.\nExtracting batch of samples à 5000 events from DVS sequence...\nDiscarded 1035 events during subsampling.\nDiscarded 248 events during 3-sigma standardization.\nExtracting batch of samples à 5000 events from DVS sequence...\nDiscarded 953 events during subsampling.\n"
     ]
    },
    {
     "name": "stdout",
     "output_type": "stream",
     "text": [
      "Discarded 255 events during 3-sigma standardization.\nExtracting batch of samples à 5000 events from DVS sequence...\nDiscarded 649 events during subsampling.\nDiscarded 199 events during 3-sigma standardization.\nExtracting batch of samples à 5000 events from DVS sequence...\nDiscarded 1293 events during subsampling.\nDiscarded 218 events during 3-sigma standardization.\nExtracting batch of samples à 5000 events from DVS sequence...\nDiscarded 373 events during subsampling.\nDiscarded 391 events during 3-sigma standardization.\nExtracting batch of samples à 5000 events from DVS sequence...\nDiscarded 1594 events during subsampling.\nDiscarded 198 events during 3-sigma standardization.\nExtracting batch of samples à 5000 events from DVS sequence...\n"
     ]
    },
    {
     "name": "stdout",
     "output_type": "stream",
     "text": [
      "Discarded 1167 events during subsampling.\nDiscarded 253 events during 3-sigma standardization.\nExtracting batch of samples à 5000 events from DVS sequence...\nDiscarded 488 events during subsampling.\nDiscarded 306 events during 3-sigma standardization.\nExtracting batch of samples à 5000 events from DVS sequence...\nDiscarded 981 events during subsampling.\nDiscarded 253 events during 3-sigma standardization.\nExtracting batch of samples à 5000 events from DVS sequence...\nDiscarded 886 events during subsampling.\nDiscarded 287 events during 3-sigma standardization.\nExtracting batch of samples à 5000 events from DVS sequence...\nDiscarded 828 events during subsampling.\nDiscarded 266 events during 3-sigma standardization.\nExtracting batch of samples à 5000 events from DVS sequence...\n"
     ]
    },
    {
     "name": "stdout",
     "output_type": "stream",
     "text": [
      "Discarded 787 events during subsampling.\nDiscarded 278 events during 3-sigma standardization.\nExtracting batch of samples à 5000 events from DVS sequence...\nDiscarded 1210 events during subsampling.\nDiscarded 239 events during 3-sigma standardization.\nExtracting batch of samples à 5000 events from DVS sequence...\nDiscarded 722 events during subsampling.\nDiscarded 310 events during 3-sigma standardization.\nExtracting batch of samples à 5000 events from DVS sequence...\nDiscarded 1198 events during subsampling.\nDiscarded 233 events during 3-sigma standardization.\nExtracting batch of samples à 5000 events from DVS sequence...\nDiscarded 977 events during subsampling.\nDiscarded 229 events during 3-sigma standardization.\nExtracting batch of samples à 5000 events from DVS sequence...\n"
     ]
    },
    {
     "name": "stdout",
     "output_type": "stream",
     "text": [
      "Discarded 926 events during subsampling.\nDiscarded 268 events during 3-sigma standardization.\nExtracting batch of samples à 5000 events from DVS sequence...\nDiscarded 775 events during subsampling.\nDiscarded 285 events during 3-sigma standardization.\nExtracting batch of samples à 5000 events from DVS sequence...\nDiscarded 8 events during subsampling.\nDiscarded 229 events during 3-sigma standardization.\nExtracting batch of samples à 5000 events from DVS sequence...\nDiscarded 872 events during subsampling.\nDiscarded 278 events during 3-sigma standardization.\nExtracting batch of samples à 5000 events from DVS sequence...\nDiscarded 994 events during subsampling.\nDiscarded 249 events during 3-sigma standardization.\n"
     ]
    },
    {
     "name": "stdout",
     "output_type": "stream",
     "text": [
      "Extracting batch of samples à 5000 events from DVS sequence...\nDiscarded 872 events during subsampling.\nDiscarded 244 events during 3-sigma standardization.\nLoading DVS sample /home/rbodo/.snntoolbox/Datasets/predator_prey/aedat/not_balanced_4834samples/N/rec_2.aedat...\nTotal number of events of this sample: 105000.\nNumber of batches: 21.\nExtracting 21 frames from DVS event sequence.\n"
     ]
    },
    {
     "name": "stdout",
     "output_type": "stream",
     "text": [
      "Extracting batch of samples à 5000 events from DVS sequence...\nDiscarded 570 events during subsampling.\nDiscarded 202 events during 3-sigma standardization.\nExtracting batch of samples à 5000 events from DVS sequence...\nDiscarded 715 events during subsampling.\nDiscarded 341 events during 3-sigma standardization.\nExtracting batch of samples à 5000 events from DVS sequence...\nDiscarded 519 events during subsampling.\nDiscarded 228 events during 3-sigma standardization.\nExtracting batch of samples à 5000 events from DVS sequence...\nDiscarded 593 events during subsampling.\nDiscarded 307 events during 3-sigma standardization.\nExtracting batch of samples à 5000 events from DVS sequence...\n"
     ]
    },
    {
     "name": "stdout",
     "output_type": "stream",
     "text": [
      "Discarded 424 events during subsampling.\nDiscarded 211 events during 3-sigma standardization.\nExtracting batch of samples à 5000 events from DVS sequence...\nDiscarded 379 events during subsampling.\nDiscarded 261 events during 3-sigma standardization.\nExtracting batch of samples à 5000 events from DVS sequence...\nDiscarded 1543 events during subsampling.\nDiscarded 245 events during 3-sigma standardization.\nExtracting batch of samples à 5000 events from DVS sequence...\nDiscarded 635 events during subsampling.\nDiscarded 247 events during 3-sigma standardization.\nExtracting batch of samples à 5000 events from DVS sequence...\nDiscarded 1819 events during subsampling.\nDiscarded 168 events during 3-sigma standardization.\nExtracting batch of samples à 5000 events from DVS sequence..."
     ]
    },
    {
     "name": "stdout",
     "output_type": "stream",
     "text": [
      "\nDiscarded 454 events during subsampling.\nDiscarded 237 events during 3-sigma standardization.\nExtracting batch of samples à 5000 events from DVS sequence...\nDiscarded 519 events during subsampling.\nDiscarded 278 events during 3-sigma standardization.\nExtracting batch of samples à 5000 events from DVS sequence...\nDiscarded 468 events during subsampling.\nDiscarded 253 events during 3-sigma standardization.\nExtracting batch of samples à 5000 events from DVS sequence...\nDiscarded 645 events during subsampling.\nDiscarded 261 events during 3-sigma standardization.\nExtracting batch of samples à 5000 events from DVS sequence...\nDiscarded 558 events during subsampling.\nDiscarded 209 events during 3-sigma standardization.\n"
     ]
    },
    {
     "name": "stdout",
     "output_type": "stream",
     "text": [
      "Extracting batch of samples à 5000 events from DVS sequence...\nDiscarded 612 events during subsampling.\nDiscarded 251 events during 3-sigma standardization.\nExtracting batch of samples à 5000 events from DVS sequence...\nDiscarded 2362 events during subsampling.\nDiscarded 80 events during 3-sigma standardization.\nExtracting batch of samples à 5000 events from DVS sequence...\nDiscarded 1036 events during subsampling.\nDiscarded 278 events during 3-sigma standardization.\nExtracting batch of samples à 5000 events from DVS sequence...\nDiscarded 586 events during subsampling.\nDiscarded 280 events during 3-sigma standardization.\nExtracting batch of samples à 5000 events from DVS sequence...\nDiscarded 359 events during subsampling.\nDiscarded 331 events during 3-sigma standardization.\nExtracting batch of samples à 5000 events from DVS sequence...\n"
     ]
    },
    {
     "name": "stdout",
     "output_type": "stream",
     "text": [
      "Discarded 419 events during subsampling.\nDiscarded 237 events during 3-sigma standardization.\nLoading DVS sample /home/rbodo/.snntoolbox/Datasets/predator_prey/aedat/not_balanced_4834samples/N/rec_3.aedat...\n"
     ]
    },
    {
     "name": "stdout",
     "output_type": "stream",
     "text": [
      "Total number of events of this sample: 1140000.\nNumber of batches: 228.\nExtracting 228 frames from DVS event sequence.\n"
     ]
    },
    {
     "name": "stdout",
     "output_type": "stream",
     "text": [
      "Extracting batch of samples à 5000 events from DVS sequence...\nDiscarded 230 events during subsampling.\nDiscarded 405 events during 3-sigma standardization.\nExtracting batch of samples à 5000 events from DVS sequence...\nDiscarded 71 events during subsampling.\nDiscarded 414 events during 3-sigma standardization.\nExtracting batch of samples à 5000 events from DVS sequence...\nDiscarded 511 events during subsampling.\nDiscarded 408 events during 3-sigma standardization.\nExtracting batch of samples à 5000 events from DVS sequence...\nDiscarded 867 events during subsampling.\nDiscarded 293 events during 3-sigma standardization.\nExtracting batch of samples à 5000 events from DVS sequence...\n"
     ]
    },
    {
     "name": "stdout",
     "output_type": "stream",
     "text": [
      "Discarded 438 events during subsampling.\nDiscarded 231 events during 3-sigma standardization.\nExtracting batch of samples à 5000 events from DVS sequence...\nDiscarded 388 events during subsampling.\nDiscarded 283 events during 3-sigma standardization.\nExtracting batch of samples à 5000 events from DVS sequence...\nDiscarded 668 events during subsampling.\nDiscarded 283 events during 3-sigma standardization.\nExtracting batch of samples à 5000 events from DVS sequence...\nDiscarded 1462 events during subsampling.\nDiscarded 281 events during 3-sigma standardization.\nExtracting batch of samples à 5000 events from DVS sequence...\nDiscarded 395 events during subsampling.\nDiscarded 329 events during 3-sigma standardization.\nExtracting batch of samples à 5000 events from DVS sequence...\nDiscarded 622 events during subsampling.\nDiscarded 278 events during 3-sigma standardization.\n"
     ]
    },
    {
     "name": "stdout",
     "output_type": "stream",
     "text": [
      "Extracting batch of samples à 5000 events from DVS sequence...\nDiscarded 347 events during subsampling.\nDiscarded 267 events during 3-sigma standardization.\nExtracting batch of samples à 5000 events from DVS sequence...\nDiscarded 1745 events during subsampling.\nDiscarded 177 events during 3-sigma standardization.\nExtracting batch of samples à 5000 events from DVS sequence...\nDiscarded 446 events during subsampling.\nDiscarded 218 events during 3-sigma standardization.\nExtracting batch of samples à 5000 events from DVS sequence...\nDiscarded 2303 events during subsampling.\nDiscarded 109 events during 3-sigma standardization.\nExtracting batch of samples à 5000 events from DVS sequence...\nDiscarded 500 events during subsampling.\nDiscarded 211 events during 3-sigma standardization.\nExtracting batch of samples à 5000 events from DVS sequence...\nDiscarded 519 events during subsampling."
     ]
    },
    {
     "name": "stdout",
     "output_type": "stream",
     "text": [
      "\nDiscarded 234 events during 3-sigma standardization.\nExtracting batch of samples à 5000 events from DVS sequence...\nDiscarded 417 events during subsampling.\nDiscarded 204 events during 3-sigma standardization.\nExtracting batch of samples à 5000 events from DVS sequence...\nDiscarded 401 events during subsampling.\nDiscarded 216 events during 3-sigma standardization.\nExtracting batch of samples à 5000 events from DVS sequence...\nDiscarded 496 events during subsampling.\nDiscarded 220 events during 3-sigma standardization.\nExtracting batch of samples à 5000 events from DVS sequence...\nDiscarded 426 events during subsampling.\nDiscarded 223 events during 3-sigma standardization.\nExtracting batch of samples à 5000 events from DVS sequence...\nDiscarded 397 events during subsampling.\nDiscarded 221 events during 3-sigma standardization.\n"
     ]
    },
    {
     "name": "stdout",
     "output_type": "stream",
     "text": [
      "Extracting batch of samples à 5000 events from DVS sequence...\nDiscarded 1221 events during subsampling.\nDiscarded 241 events during 3-sigma standardization.\nExtracting batch of samples à 5000 events from DVS sequence...\nDiscarded 354 events during subsampling.\nDiscarded 233 events during 3-sigma standardization.\nExtracting batch of samples à 5000 events from DVS sequence...\nDiscarded 378 events during subsampling.\nDiscarded 213 events during 3-sigma standardization.\nExtracting batch of samples à 5000 events from DVS sequence...\nDiscarded 435 events during subsampling.\nDiscarded 207 events during 3-sigma standardization.\nExtracting batch of samples à 5000 events from DVS sequence...\nDiscarded 398 events during subsampling.\nDiscarded 222 events during 3-sigma standardization.\nExtracting batch of samples à 5000 events from DVS sequence..."
     ]
    },
    {
     "name": "stdout",
     "output_type": "stream",
     "text": [
      "\nDiscarded 381 events during subsampling.\nDiscarded 254 events during 3-sigma standardization.\nExtracting batch of samples à 5000 events from DVS sequence...\nDiscarded 349 events during subsampling.\nDiscarded 213 events during 3-sigma standardization.\nExtracting batch of samples à 5000 events from DVS sequence...\nDiscarded 398 events during subsampling.\nDiscarded 184 events during 3-sigma standardization.\nExtracting batch of samples à 5000 events from DVS sequence...\nDiscarded 390 events during subsampling.\nDiscarded 225 events during 3-sigma standardization.\nExtracting batch of samples à 5000 events from DVS sequence...\nDiscarded 414 events during subsampling.\nDiscarded 188 events during 3-sigma standardization.\n"
     ]
    },
    {
     "name": "stdout",
     "output_type": "stream",
     "text": [
      "Extracting batch of samples à 5000 events from DVS sequence...\nDiscarded 399 events during subsampling.\nDiscarded 217 events during 3-sigma standardization.\nExtracting batch of samples à 5000 events from DVS sequence...\nDiscarded 2514 events during subsampling.\nDiscarded 260 events during 3-sigma standardization.\nExtracting batch of samples à 5000 events from DVS sequence...\nDiscarded 1584 events during subsampling.\nDiscarded 141 events during 3-sigma standardization.\nExtracting batch of samples à 5000 events from DVS sequence...\nDiscarded 1622 events during subsampling.\nDiscarded 215 events during 3-sigma standardization.\nExtracting batch of samples à 5000 events from DVS sequence...\nDiscarded 979 events during subsampling.\nDiscarded 185 events during 3-sigma standardization.\nExtracting batch of samples à 5000 events from DVS sequence...\n"
     ]
    },
    {
     "name": "stdout",
     "output_type": "stream",
     "text": [
      "Discarded 523 events during subsampling.\nDiscarded 222 events during 3-sigma standardization.\nExtracting batch of samples à 5000 events from DVS sequence...\nDiscarded 200 events during subsampling.\nDiscarded 580 events during 3-sigma standardization.\nExtracting batch of samples à 5000 events from DVS sequence...\nDiscarded 373 events during subsampling.\nDiscarded 315 events during 3-sigma standardization.\nExtracting batch of samples à 5000 events from DVS sequence...\nDiscarded 1261 events during subsampling.\nDiscarded 296 events during 3-sigma standardization.\nExtracting batch of samples à 5000 events from DVS sequence...\nDiscarded 286 events during subsampling.\nDiscarded 409 events during 3-sigma standardization.\nExtracting batch of samples à 5000 events from DVS sequence...\nDiscarded 400 events during subsampling.\nDiscarded 411 events during 3-sigma standardization.\n"
     ]
    },
    {
     "name": "stdout",
     "output_type": "stream",
     "text": [
      "Extracting batch of samples à 5000 events from DVS sequence...\nDiscarded 474 events during subsampling.\nDiscarded 245 events during 3-sigma standardization.\nExtracting batch of samples à 5000 events from DVS sequence...\nDiscarded 117 events during subsampling.\nDiscarded 344 events during 3-sigma standardization.\nExtracting batch of samples à 5000 events from DVS sequence...\nDiscarded 326 events during subsampling.\nDiscarded 222 events during 3-sigma standardization.\nExtracting batch of samples à 5000 events from DVS sequence...\nDiscarded 1486 events during subsampling.\nDiscarded 157 events during 3-sigma standardization.\nExtracting batch of samples à 5000 events from DVS sequence...\nDiscarded 1985 events during subsampling.\nDiscarded 170 events during 3-sigma standardization.\nExtracting batch of samples à 5000 events from DVS sequence...\n"
     ]
    },
    {
     "name": "stdout",
     "output_type": "stream",
     "text": [
      "Discarded 405 events during subsampling.\nDiscarded 237 events during 3-sigma standardization.\nExtracting batch of samples à 5000 events from DVS sequence...\nDiscarded 422 events during subsampling.\nDiscarded 217 events during 3-sigma standardization.\nExtracting batch of samples à 5000 events from DVS sequence...\nDiscarded 463 events during subsampling.\nDiscarded 198 events during 3-sigma standardization.\nExtracting batch of samples à 5000 events from DVS sequence...\nDiscarded 605 events during subsampling.\nDiscarded 197 events during 3-sigma standardization.\nExtracting batch of samples à 5000 events from DVS sequence...\nDiscarded 1097 events during subsampling.\nDiscarded 282 events during 3-sigma standardization.\nExtracting batch of samples à 5000 events from DVS sequence...\n"
     ]
    },
    {
     "name": "stdout",
     "output_type": "stream",
     "text": [
      "Discarded 338 events during subsampling.\nDiscarded 478 events during 3-sigma standardization.\nExtracting batch of samples à 5000 events from DVS sequence...\nDiscarded 399 events during subsampling.\nDiscarded 236 events during 3-sigma standardization.\nExtracting batch of samples à 5000 events from DVS sequence...\nDiscarded 880 events during subsampling.\nDiscarded 252 events during 3-sigma standardization.\nExtracting batch of samples à 5000 events from DVS sequence...\nDiscarded 624 events during subsampling.\nDiscarded 274 events during 3-sigma standardization.\nExtracting batch of samples à 5000 events from DVS sequence...\nDiscarded 407 events during subsampling.\nDiscarded 255 events during 3-sigma standardization.\nExtracting batch of samples à 5000 events from DVS sequence..."
     ]
    },
    {
     "name": "stdout",
     "output_type": "stream",
     "text": [
      "\nDiscarded 481 events during subsampling.\nDiscarded 405 events during 3-sigma standardization.\nExtracting batch of samples à 5000 events from DVS sequence...\nDiscarded 13 events during subsampling.\nDiscarded 292 events during 3-sigma standardization.\nExtracting batch of samples à 5000 events from DVS sequence...\nDiscarded 249 events during subsampling.\nDiscarded 408 events during 3-sigma standardization.\nExtracting batch of samples à 5000 events from DVS sequence...\nDiscarded 527 events during subsampling.\nDiscarded 360 events during 3-sigma standardization.\nExtracting batch of samples à 5000 events from DVS sequence...\nDiscarded 163 events during subsampling.\nDiscarded 403 events during 3-sigma standardization.\n"
     ]
    },
    {
     "name": "stdout",
     "output_type": "stream",
     "text": [
      "Extracting batch of samples à 5000 events from DVS sequence...\nDiscarded 236 events during subsampling.\nDiscarded 395 events during 3-sigma standardization.\nExtracting batch of samples à 5000 events from DVS sequence...\nDiscarded 361 events during subsampling.\nDiscarded 313 events during 3-sigma standardization.\nExtracting batch of samples à 5000 events from DVS sequence...\nDiscarded 9 events during subsampling.\nDiscarded 334 events during 3-sigma standardization.\nExtracting batch of samples à 5000 events from DVS sequence...\nDiscarded 90 events during subsampling.\nDiscarded 296 events during 3-sigma standardization.\nExtracting batch of samples à 5000 events from DVS sequence...\nDiscarded 459 events during subsampling.\nDiscarded 350 events during 3-sigma standardization.\n"
     ]
    },
    {
     "name": "stdout",
     "output_type": "stream",
     "text": [
      "Extracting batch of samples à 5000 events from DVS sequence...\nDiscarded 1055 events during subsampling.\nDiscarded 256 events during 3-sigma standardization.\nExtracting batch of samples à 5000 events from DVS sequence...\nDiscarded 563 events during subsampling.\nDiscarded 248 events during 3-sigma standardization.\nExtracting batch of samples à 5000 events from DVS sequence...\nDiscarded 290 events during subsampling.\nDiscarded 240 events during 3-sigma standardization.\nExtracting batch of samples à 5000 events from DVS sequence...\nDiscarded 515 events during subsampling.\nDiscarded 271 events during 3-sigma standardization.\nExtracting batch of samples à 5000 events from DVS sequence...\nDiscarded 69 events during subsampling.\nDiscarded 481 events during 3-sigma standardization.\nExtracting batch of samples à 5000 events from DVS sequence..."
     ]
    },
    {
     "name": "stdout",
     "output_type": "stream",
     "text": [
      "\nDiscarded 449 events during subsampling.\nDiscarded 225 events during 3-sigma standardization.\nExtracting batch of samples à 5000 events from DVS sequence...\nDiscarded 425 events during subsampling.\nDiscarded 257 events during 3-sigma standardization.\nExtracting batch of samples à 5000 events from DVS sequence...\nDiscarded 372 events during subsampling.\nDiscarded 232 events during 3-sigma standardization.\nExtracting batch of samples à 5000 events from DVS sequence...\nDiscarded 381 events during subsampling.\nDiscarded 233 events during 3-sigma standardization.\nExtracting batch of samples à 5000 events from DVS sequence...\nDiscarded 424 events during subsampling.\nDiscarded 239 events during 3-sigma standardization.\nExtracting batch of samples à 5000 events from DVS sequence..."
     ]
    },
    {
     "name": "stdout",
     "output_type": "stream",
     "text": [
      "\nDiscarded 437 events during subsampling.\nDiscarded 207 events during 3-sigma standardization.\nExtracting batch of samples à 5000 events from DVS sequence...\nDiscarded 387 events during subsampling.\nDiscarded 231 events during 3-sigma standardization.\nExtracting batch of samples à 5000 events from DVS sequence...\nDiscarded 414 events during subsampling.\nDiscarded 226 events during 3-sigma standardization.\nExtracting batch of samples à 5000 events from DVS sequence...\nDiscarded 442 events during subsampling.\nDiscarded 267 events during 3-sigma standardization.\nExtracting batch of samples à 5000 events from DVS sequence...\nDiscarded 1294 events during subsampling.\nDiscarded 204 events during 3-sigma standardization.\nExtracting batch of samples à 5000 events from DVS sequence..."
     ]
    },
    {
     "name": "stdout",
     "output_type": "stream",
     "text": [
      "\nDiscarded 383 events during subsampling.\nDiscarded 235 events during 3-sigma standardization.\nExtracting batch of samples à 5000 events from DVS sequence...\nDiscarded 398 events during subsampling.\nDiscarded 205 events during 3-sigma standardization.\nExtracting batch of samples à 5000 events from DVS sequence...\nDiscarded 2023 events during subsampling.\nDiscarded 173 events during 3-sigma standardization.\nExtracting batch of samples à 5000 events from DVS sequence...\nDiscarded 382 events during subsampling.\nDiscarded 276 events during 3-sigma standardization.\nExtracting batch of samples à 5000 events from DVS sequence...\nDiscarded 415 events during subsampling.\nDiscarded 242 events during 3-sigma standardization.\nExtracting batch of samples à 5000 events from DVS sequence...\n"
     ]
    },
    {
     "name": "stdout",
     "output_type": "stream",
     "text": [
      "Discarded 353 events during subsampling.\nDiscarded 225 events during 3-sigma standardization.\nExtracting batch of samples à 5000 events from DVS sequence...\nDiscarded 377 events during subsampling.\nDiscarded 242 events during 3-sigma standardization.\nExtracting batch of samples à 5000 events from DVS sequence...\nDiscarded 586 events during subsampling.\nDiscarded 205 events during 3-sigma standardization.\nExtracting batch of samples à 5000 events from DVS sequence...\nDiscarded 399 events during subsampling.\nDiscarded 211 events during 3-sigma standardization.\nExtracting batch of samples à 5000 events from DVS sequence...\nDiscarded 317 events during subsampling.\nDiscarded 290 events during 3-sigma standardization.\nExtracting batch of samples à 5000 events from DVS sequence..."
     ]
    },
    {
     "name": "stdout",
     "output_type": "stream",
     "text": [
      "\nDiscarded 395 events during subsampling.\nDiscarded 237 events during 3-sigma standardization.\nExtracting batch of samples à 5000 events from DVS sequence...\nDiscarded 448 events during subsampling.\nDiscarded 202 events during 3-sigma standardization.\nExtracting batch of samples à 5000 events from DVS sequence...\nDiscarded 339 events during subsampling.\nDiscarded 227 events during 3-sigma standardization.\nExtracting batch of samples à 5000 events from DVS sequence...\nDiscarded 394 events during subsampling.\nDiscarded 269 events during 3-sigma standardization.\nExtracting batch of samples à 5000 events from DVS sequence...\nDiscarded 455 events during subsampling.\nDiscarded 218 events during 3-sigma standardization.\n"
     ]
    },
    {
     "name": "stdout",
     "output_type": "stream",
     "text": [
      "Extracting batch of samples à 5000 events from DVS sequence...\nDiscarded 328 events during subsampling.\nDiscarded 198 events during 3-sigma standardization.\nExtracting batch of samples à 5000 events from DVS sequence...\nDiscarded 315 events during subsampling.\nDiscarded 191 events during 3-sigma standardization.\nExtracting batch of samples à 5000 events from DVS sequence...\nDiscarded 300 events during subsampling.\nDiscarded 228 events during 3-sigma standardization.\nExtracting batch of samples à 5000 events from DVS sequence...\nDiscarded 1106 events during subsampling.\nDiscarded 199 events during 3-sigma standardization.\nExtracting batch of samples à 5000 events from DVS sequence...\nDiscarded 1188 events during subsampling.\nDiscarded 236 events during 3-sigma standardization.\nExtracting batch of samples à 5000 events from DVS sequence..."
     ]
    },
    {
     "name": "stdout",
     "output_type": "stream",
     "text": [
      "\nDiscarded 539 events during subsampling.\nDiscarded 263 events during 3-sigma standardization.\nExtracting batch of samples à 5000 events from DVS sequence...\nDiscarded 1669 events during subsampling.\nDiscarded 172 events during 3-sigma standardization.\nExtracting batch of samples à 5000 events from DVS sequence...\nDiscarded 542 events during subsampling.\nDiscarded 391 events during 3-sigma standardization.\nExtracting batch of samples à 5000 events from DVS sequence...\nDiscarded 484 events during subsampling.\nDiscarded 229 events during 3-sigma standardization.\nExtracting batch of samples à 5000 events from DVS sequence...\nDiscarded 421 events during subsampling.\nDiscarded 229 events during 3-sigma standardization.\nExtracting batch of samples à 5000 events from DVS sequence...\n"
     ]
    },
    {
     "name": "stdout",
     "output_type": "stream",
     "text": [
      "Discarded 577 events during subsampling.\nDiscarded 196 events during 3-sigma standardization.\nExtracting batch of samples à 5000 events from DVS sequence...\nDiscarded 1911 events during subsampling.\nDiscarded 148 events during 3-sigma standardization.\nExtracting batch of samples à 5000 events from DVS sequence...\nDiscarded 1903 events during subsampling.\nDiscarded 193 events during 3-sigma standardization.\nExtracting batch of samples à 5000 events from DVS sequence...\nDiscarded 1386 events during subsampling.\nDiscarded 234 events during 3-sigma standardization.\nExtracting batch of samples à 5000 events from DVS sequence...\nDiscarded 599 events during subsampling.\nDiscarded 252 events during 3-sigma standardization.\nExtracting batch of samples à 5000 events from DVS sequence...\n"
     ]
    },
    {
     "name": "stdout",
     "output_type": "stream",
     "text": [
      "Discarded 487 events during subsampling.\nDiscarded 276 events during 3-sigma standardization.\nExtracting batch of samples à 5000 events from DVS sequence...\nDiscarded 317 events during subsampling.\nDiscarded 386 events during 3-sigma standardization.\nExtracting batch of samples à 5000 events from DVS sequence...\nDiscarded 615 events during subsampling.\nDiscarded 216 events during 3-sigma standardization.\nExtracting batch of samples à 5000 events from DVS sequence...\nDiscarded 433 events during subsampling.\nDiscarded 336 events during 3-sigma standardization.\nExtracting batch of samples à 5000 events from DVS sequence...\nDiscarded 317 events during subsampling.\nDiscarded 252 events during 3-sigma standardization.\n"
     ]
    },
    {
     "name": "stdout",
     "output_type": "stream",
     "text": [
      "Extracting batch of samples à 5000 events from DVS sequence...\nDiscarded 1844 events during subsampling.\nDiscarded 198 events during 3-sigma standardization.\nExtracting batch of samples à 5000 events from DVS sequence...\nDiscarded 420 events during subsampling.\nDiscarded 222 events during 3-sigma standardization.\nExtracting batch of samples à 5000 events from DVS sequence...\nDiscarded 468 events during subsampling.\nDiscarded 234 events during 3-sigma standardization.\nExtracting batch of samples à 5000 events from DVS sequence...\nDiscarded 57 events during subsampling.\nDiscarded 404 events during 3-sigma standardization.\nExtracting batch of samples à 5000 events from DVS sequence...\nDiscarded 284 events during subsampling.\nDiscarded 265 events during 3-sigma standardization.\nExtracting batch of samples à 5000 events from DVS sequence...\n"
     ]
    },
    {
     "name": "stdout",
     "output_type": "stream",
     "text": [
      "Discarded 222 events during subsampling.\nDiscarded 345 events during 3-sigma standardization.\nExtracting batch of samples à 5000 events from DVS sequence...\nDiscarded 7 events during subsampling.\nDiscarded 282 events during 3-sigma standardization.\nExtracting batch of samples à 5000 events from DVS sequence...\nDiscarded 401 events during subsampling.\nDiscarded 277 events during 3-sigma standardization.\nExtracting batch of samples à 5000 events from DVS sequence...\nDiscarded 1610 events during subsampling.\nDiscarded 192 events during 3-sigma standardization.\nExtracting batch of samples à 5000 events from DVS sequence...\nDiscarded 667 events during subsampling.\nDiscarded 200 events during 3-sigma standardization.\nExtracting batch of samples à 5000 events from DVS sequence..."
     ]
    },
    {
     "name": "stdout",
     "output_type": "stream",
     "text": [
      "\nDiscarded 283 events during subsampling.\nDiscarded 230 events during 3-sigma standardization.\nExtracting batch of samples à 5000 events from DVS sequence...\nDiscarded 414 events during subsampling.\nDiscarded 189 events during 3-sigma standardization.\nExtracting batch of samples à 5000 events from DVS sequence...\nDiscarded 394 events during subsampling.\nDiscarded 247 events during 3-sigma standardization.\nExtracting batch of samples à 5000 events from DVS sequence...\nDiscarded 498 events during subsampling.\nDiscarded 202 events during 3-sigma standardization.\nExtracting batch of samples à 5000 events from DVS sequence...\nDiscarded 430 events during subsampling.\nDiscarded 172 events during 3-sigma standardization.\n"
     ]
    },
    {
     "name": "stdout",
     "output_type": "stream",
     "text": [
      "Extracting batch of samples à 5000 events from DVS sequence...\nDiscarded 474 events during subsampling.\nDiscarded 264 events during 3-sigma standardization.\nExtracting batch of samples à 5000 events from DVS sequence...\nDiscarded 409 events during subsampling.\nDiscarded 226 events during 3-sigma standardization.\nExtracting batch of samples à 5000 events from DVS sequence...\nDiscarded 590 events during subsampling.\nDiscarded 238 events during 3-sigma standardization.\nExtracting batch of samples à 5000 events from DVS sequence...\nDiscarded 1169 events during subsampling.\nDiscarded 206 events during 3-sigma standardization.\nExtracting batch of samples à 5000 events from DVS sequence...\nDiscarded 302 events during subsampling.\nDiscarded 192 events during 3-sigma standardization.\n"
     ]
    },
    {
     "name": "stdout",
     "output_type": "stream",
     "text": [
      "Extracting batch of samples à 5000 events from DVS sequence...\nDiscarded 411 events during subsampling.\nDiscarded 232 events during 3-sigma standardization.\nExtracting batch of samples à 5000 events from DVS sequence...\nDiscarded 355 events during subsampling.\nDiscarded 227 events during 3-sigma standardization.\nExtracting batch of samples à 5000 events from DVS sequence...\nDiscarded 390 events during subsampling.\nDiscarded 237 events during 3-sigma standardization.\nExtracting batch of samples à 5000 events from DVS sequence...\nDiscarded 431 events during subsampling.\nDiscarded 230 events during 3-sigma standardization.\nExtracting batch of samples à 5000 events from DVS sequence...\nDiscarded 415 events during subsampling.\nDiscarded 232 events during 3-sigma standardization.\n"
     ]
    },
    {
     "name": "stdout",
     "output_type": "stream",
     "text": [
      "Extracting batch of samples à 5000 events from DVS sequence...\nDiscarded 468 events during subsampling.\nDiscarded 291 events during 3-sigma standardization.\nExtracting batch of samples à 5000 events from DVS sequence...\nDiscarded 420 events during subsampling.\nDiscarded 254 events during 3-sigma standardization.\nExtracting batch of samples à 5000 events from DVS sequence...\nDiscarded 869 events during subsampling.\nDiscarded 222 events during 3-sigma standardization.\nExtracting batch of samples à 5000 events from DVS sequence...\nDiscarded 389 events during subsampling.\nDiscarded 294 events during 3-sigma standardization.\nExtracting batch of samples à 5000 events from DVS sequence...\nDiscarded 428 events during subsampling.\nDiscarded 263 events during 3-sigma standardization.\n"
     ]
    },
    {
     "name": "stdout",
     "output_type": "stream",
     "text": [
      "Extracting batch of samples à 5000 events from DVS sequence...\nDiscarded 351 events during subsampling.\nDiscarded 254 events during 3-sigma standardization.\nExtracting batch of samples à 5000 events from DVS sequence...\nDiscarded 357 events during subsampling.\nDiscarded 275 events during 3-sigma standardization.\nExtracting batch of samples à 5000 events from DVS sequence...\nDiscarded 887 events during subsampling.\nDiscarded 211 events during 3-sigma standardization.\nExtracting batch of samples à 5000 events from DVS sequence...\nDiscarded 624 events during subsampling.\nDiscarded 205 events during 3-sigma standardization.\nExtracting batch of samples à 5000 events from DVS sequence...\nDiscarded 1230 events during subsampling.\nDiscarded 316 events during 3-sigma standardization.\nExtracting batch of samples à 5000 events from DVS sequence...\n"
     ]
    },
    {
     "name": "stdout",
     "output_type": "stream",
     "text": [
      "Discarded 599 events during subsampling.\nDiscarded 364 events during 3-sigma standardization.\nExtracting batch of samples à 5000 events from DVS sequence...\nDiscarded 555 events during subsampling.\nDiscarded 354 events during 3-sigma standardization.\nExtracting batch of samples à 5000 events from DVS sequence...\nDiscarded 284 events during subsampling.\nDiscarded 464 events during 3-sigma standardization.\nExtracting batch of samples à 5000 events from DVS sequence...\nDiscarded 1240 events during subsampling.\nDiscarded 259 events during 3-sigma standardization.\nExtracting batch of samples à 5000 events from DVS sequence...\nDiscarded 1202 events during subsampling.\nDiscarded 281 events during 3-sigma standardization.\nExtracting batch of samples à 5000 events from DVS sequence...\n"
     ]
    },
    {
     "name": "stdout",
     "output_type": "stream",
     "text": [
      "Discarded 528 events during subsampling.\nDiscarded 220 events during 3-sigma standardization.\nExtracting batch of samples à 5000 events from DVS sequence...\nDiscarded 7 events during subsampling.\nDiscarded 316 events during 3-sigma standardization.\nExtracting batch of samples à 5000 events from DVS sequence...\nDiscarded 1641 events during subsampling.\nDiscarded 251 events during 3-sigma standardization.\nExtracting batch of samples à 5000 events from DVS sequence...\nDiscarded 491 events during subsampling.\nDiscarded 220 events during 3-sigma standardization.\nExtracting batch of samples à 5000 events from DVS sequence...\nDiscarded 446 events during subsampling.\nDiscarded 258 events during 3-sigma standardization.\nExtracting batch of samples à 5000 events from DVS sequence...\nDiscarded 420 events during subsampling.\n"
     ]
    },
    {
     "name": "stdout",
     "output_type": "stream",
     "text": [
      "Discarded 191 events during 3-sigma standardization.\nExtracting batch of samples à 5000 events from DVS sequence...\nDiscarded 441 events during subsampling.\nDiscarded 242 events during 3-sigma standardization.\nExtracting batch of samples à 5000 events from DVS sequence...\nDiscarded 449 events during subsampling.\nDiscarded 272 events during 3-sigma standardization.\nExtracting batch of samples à 5000 events from DVS sequence...\nDiscarded 530 events during subsampling.\nDiscarded 286 events during 3-sigma standardization.\nExtracting batch of samples à 5000 events from DVS sequence...\nDiscarded 435 events during subsampling.\nDiscarded 236 events during 3-sigma standardization.\n"
     ]
    },
    {
     "name": "stdout",
     "output_type": "stream",
     "text": [
      "Extracting batch of samples à 5000 events from DVS sequence...\nDiscarded 2541 events during subsampling.\nDiscarded 234 events during 3-sigma standardization.\nExtracting batch of samples à 5000 events from DVS sequence...\nDiscarded 510 events during subsampling.\nDiscarded 329 events during 3-sigma standardization.\nExtracting batch of samples à 5000 events from DVS sequence...\nDiscarded 500 events during subsampling.\nDiscarded 255 events during 3-sigma standardization.\nExtracting batch of samples à 5000 events from DVS sequence...\nDiscarded 528 events during subsampling.\nDiscarded 295 events during 3-sigma standardization.\nExtracting batch of samples à 5000 events from DVS sequence...\nDiscarded 469 events during subsampling.\nDiscarded 243 events during 3-sigma standardization.\n"
     ]
    },
    {
     "name": "stdout",
     "output_type": "stream",
     "text": [
      "Extracting batch of samples à 5000 events from DVS sequence...\nDiscarded 363 events during subsampling.\nDiscarded 275 events during 3-sigma standardization.\nExtracting batch of samples à 5000 events from DVS sequence...\nDiscarded 523 events during subsampling.\nDiscarded 245 events during 3-sigma standardization.\nExtracting batch of samples à 5000 events from DVS sequence...\nDiscarded 1072 events during subsampling.\nDiscarded 233 events during 3-sigma standardization.\nExtracting batch of samples à 5000 events from DVS sequence...\nDiscarded 397 events during subsampling.\nDiscarded 198 events during 3-sigma standardization.\nExtracting batch of samples à 5000 events from DVS sequence...\nDiscarded 412 events during subsampling.\nDiscarded 315 events during 3-sigma standardization.\nExtracting batch of samples à 5000 events from DVS sequence..."
     ]
    },
    {
     "name": "stdout",
     "output_type": "stream",
     "text": [
      "\nDiscarded 462 events during subsampling.\nDiscarded 251 events during 3-sigma standardization.\nExtracting batch of samples à 5000 events from DVS sequence...\nDiscarded 416 events during subsampling.\nDiscarded 283 events during 3-sigma standardization.\nExtracting batch of samples à 5000 events from DVS sequence...\nDiscarded 405 events during subsampling.\nDiscarded 302 events during 3-sigma standardization.\nExtracting batch of samples à 5000 events from DVS sequence...\nDiscarded 346 events during subsampling.\nDiscarded 436 events during 3-sigma standardization.\nExtracting batch of samples à 5000 events from DVS sequence...\nDiscarded 365 events during subsampling.\nDiscarded 302 events during 3-sigma standardization."
     ]
    },
    {
     "name": "stdout",
     "output_type": "stream",
     "text": [
      "\nExtracting batch of samples à 5000 events from DVS sequence...\nDiscarded 479 events during subsampling.\nDiscarded 267 events during 3-sigma standardization.\nExtracting batch of samples à 5000 events from DVS sequence...\nDiscarded 350 events during subsampling.\nDiscarded 261 events during 3-sigma standardization.\nExtracting batch of samples à 5000 events from DVS sequence...\nDiscarded 416 events during subsampling.\nDiscarded 313 events during 3-sigma standardization.\nExtracting batch of samples à 5000 events from DVS sequence...\nDiscarded 422 events during subsampling.\nDiscarded 207 events during 3-sigma standardization.\nExtracting batch of samples à 5000 events from DVS sequence...\nDiscarded 399 events during subsampling.\nDiscarded 286 events during 3-sigma standardization."
     ]
    },
    {
     "name": "stdout",
     "output_type": "stream",
     "text": [
      "\nExtracting batch of samples à 5000 events from DVS sequence...\nDiscarded 601 events during subsampling.\nDiscarded 244 events during 3-sigma standardization.\nExtracting batch of samples à 5000 events from DVS sequence...\nDiscarded 8 events during subsampling.\nDiscarded 291 events during 3-sigma standardization.\nExtracting batch of samples à 5000 events from DVS sequence...\nDiscarded 561 events during subsampling.\nDiscarded 318 events during 3-sigma standardization.\nExtracting batch of samples à 5000 events from DVS sequence...\nDiscarded 137 events during subsampling.\nDiscarded 399 events during 3-sigma standardization.\nExtracting batch of samples à 5000 events from DVS sequence...\nDiscarded 465 events during subsampling.\nDiscarded 344 events during 3-sigma standardization.\nExtracting batch of samples à 5000 events from DVS sequence...\n"
     ]
    },
    {
     "name": "stdout",
     "output_type": "stream",
     "text": [
      "Discarded 378 events during subsampling.\nDiscarded 343 events during 3-sigma standardization.\nExtracting batch of samples à 5000 events from DVS sequence...\nDiscarded 420 events during subsampling.\nDiscarded 295 events during 3-sigma standardization.\nExtracting batch of samples à 5000 events from DVS sequence...\nDiscarded 727 events during subsampling.\nDiscarded 427 events during 3-sigma standardization.\nExtracting batch of samples à 5000 events from DVS sequence...\nDiscarded 443 events during subsampling.\nDiscarded 327 events during 3-sigma standardization.\nExtracting batch of samples à 5000 events from DVS sequence...\nDiscarded 152 events during subsampling.\nDiscarded 514 events during 3-sigma standardization.\nExtracting batch of samples à 5000 events from DVS sequence...\n"
     ]
    },
    {
     "name": "stdout",
     "output_type": "stream",
     "text": [
      "Discarded 756 events during subsampling.\nDiscarded 325 events during 3-sigma standardization.\nExtracting batch of samples à 5000 events from DVS sequence...\nDiscarded 389 events during subsampling.\nDiscarded 299 events during 3-sigma standardization.\nExtracting batch of samples à 5000 events from DVS sequence...\nDiscarded 412 events during subsampling.\nDiscarded 262 events during 3-sigma standardization.\nExtracting batch of samples à 5000 events from DVS sequence...\nDiscarded 76 events during subsampling.\nDiscarded 322 events during 3-sigma standardization.\nExtracting batch of samples à 5000 events from DVS sequence...\nDiscarded 386 events during subsampling.\nDiscarded 250 events during 3-sigma standardization.\nExtracting batch of samples à 5000 events from DVS sequence..."
     ]
    },
    {
     "name": "stdout",
     "output_type": "stream",
     "text": [
      "\nDiscarded 421 events during subsampling.\nDiscarded 237 events during 3-sigma standardization.\nExtracting batch of samples à 5000 events from DVS sequence...\nDiscarded 2457 events during subsampling.\nDiscarded 99 events during 3-sigma standardization.\nExtracting batch of samples à 5000 events from DVS sequence...\nDiscarded 413 events during subsampling.\nDiscarded 207 events during 3-sigma standardization.\nExtracting batch of samples à 5000 events from DVS sequence...\nDiscarded 230 events during subsampling.\nDiscarded 306 events during 3-sigma standardization.\nExtracting batch of samples à 5000 events from DVS sequence...\nDiscarded 1626 events during subsampling.\nDiscarded 193 events during 3-sigma standardization.\nExtracting batch of samples à 5000 events from DVS sequence...\n"
     ]
    },
    {
     "name": "stdout",
     "output_type": "stream",
     "text": [
      "Discarded 409 events during subsampling.\nDiscarded 206 events during 3-sigma standardization.\nExtracting batch of samples à 5000 events from DVS sequence...\nDiscarded 394 events during subsampling.\nDiscarded 230 events during 3-sigma standardization.\nExtracting batch of samples à 5000 events from DVS sequence...\nDiscarded 493 events during subsampling.\nDiscarded 220 events during 3-sigma standardization.\nExtracting batch of samples à 5000 events from DVS sequence...\nDiscarded 425 events during subsampling.\nDiscarded 246 events during 3-sigma standardization.\nExtracting batch of samples à 5000 events from DVS sequence...\nDiscarded 449 events during subsampling.\nDiscarded 229 events during 3-sigma standardization."
     ]
    },
    {
     "name": "stdout",
     "output_type": "stream",
     "text": [
      "\nExtracting batch of samples à 5000 events from DVS sequence...\nDiscarded 302 events during subsampling.\nDiscarded 234 events during 3-sigma standardization.\nExtracting batch of samples à 5000 events from DVS sequence...\nDiscarded 583 events during subsampling.\nDiscarded 189 events during 3-sigma standardization.\nExtracting batch of samples à 5000 events from DVS sequence...\nDiscarded 726 events during subsampling.\nDiscarded 232 events during 3-sigma standardization.\nExtracting batch of samples à 5000 events from DVS sequence...\nDiscarded 8 events during subsampling.\nDiscarded 409 events during 3-sigma standardization.\nExtracting batch of samples à 5000 events from DVS sequence...\nDiscarded 337 events during subsampling.\nDiscarded 387 events during 3-sigma standardization.\n"
     ]
    },
    {
     "name": "stdout",
     "output_type": "stream",
     "text": [
      "Extracting batch of samples à 5000 events from DVS sequence...\nDiscarded 1943 events during subsampling.\nDiscarded 177 events during 3-sigma standardization.\nExtracting batch of samples à 5000 events from DVS sequence...\nDiscarded 351 events during subsampling.\nDiscarded 229 events during 3-sigma standardization.\nExtracting batch of samples à 5000 events from DVS sequence...\nDiscarded 500 events during subsampling.\nDiscarded 206 events during 3-sigma standardization.\nExtracting batch of samples à 5000 events from DVS sequence...\nDiscarded 443 events during subsampling.\nDiscarded 160 events during 3-sigma standardization.\nExtracting batch of samples à 5000 events from DVS sequence...\nDiscarded 445 events during subsampling.\nDiscarded 200 events during 3-sigma standardization.\nExtracting batch of samples à 5000 events from DVS sequence..."
     ]
    },
    {
     "name": "stdout",
     "output_type": "stream",
     "text": [
      "\nDiscarded 334 events during subsampling.\nDiscarded 219 events during 3-sigma standardization.\nExtracting batch of samples à 5000 events from DVS sequence...\nDiscarded 1371 events during subsampling.\nDiscarded 189 events during 3-sigma standardization.\nExtracting batch of samples à 5000 events from DVS sequence...\nDiscarded 738 events during subsampling.\nDiscarded 271 events during 3-sigma standardization.\nExtracting batch of samples à 5000 events from DVS sequence...\nDiscarded 429 events during subsampling.\nDiscarded 226 events during 3-sigma standardization.\nExtracting batch of samples à 5000 events from DVS sequence...\nDiscarded 465 events during subsampling.\nDiscarded 231 events during 3-sigma standardization.\n"
     ]
    },
    {
     "name": "stdout",
     "output_type": "stream",
     "text": [
      "Loading DVS sample /home/rbodo/.snntoolbox/Datasets/predator_prey/aedat/not_balanced_4834samples/N/rec_4.aedat...\nTotal number of events of this sample: 200000.\nNumber of batches: 40.\nExtracting 40 frames from DVS event sequence.\n"
     ]
    },
    {
     "name": "stdout",
     "output_type": "stream",
     "text": [
      "Extracting batch of samples à 5000 events from DVS sequence...\nDiscarded 334 events during subsampling.\nDiscarded 281 events during 3-sigma standardization.\nExtracting batch of samples à 5000 events from DVS sequence...\nDiscarded 1326 events during subsampling.\nDiscarded 263 events during 3-sigma standardization.\nExtracting batch of samples à 5000 events from DVS sequence...\nDiscarded 60 events during subsampling.\nDiscarded 342 events during 3-sigma standardization.\nExtracting batch of samples à 5000 events from DVS sequence...\nDiscarded 19 events during subsampling.\nDiscarded 274 events during 3-sigma standardization.\nExtracting batch of samples à 5000 events from DVS sequence...\n"
     ]
    },
    {
     "name": "stdout",
     "output_type": "stream",
     "text": [
      "Discarded 978 events during subsampling.\nDiscarded 205 events during 3-sigma standardization.\nExtracting batch of samples à 5000 events from DVS sequence...\nDiscarded 507 events during subsampling.\nDiscarded 210 events during 3-sigma standardization.\nExtracting batch of samples à 5000 events from DVS sequence...\nDiscarded 557 events during subsampling.\nDiscarded 195 events during 3-sigma standardization.\nExtracting batch of samples à 5000 events from DVS sequence...\nDiscarded 366 events during subsampling.\nDiscarded 244 events during 3-sigma standardization.\nExtracting batch of samples à 5000 events from DVS sequence...\nDiscarded 401 events during subsampling.\nDiscarded 249 events during 3-sigma standardization.\nExtracting batch of samples à 5000 events from DVS sequence...\n"
     ]
    },
    {
     "name": "stdout",
     "output_type": "stream",
     "text": [
      "Discarded 448 events during subsampling.\nDiscarded 271 events during 3-sigma standardization.\nExtracting batch of samples à 5000 events from DVS sequence...\nDiscarded 364 events during subsampling.\nDiscarded 216 events during 3-sigma standardization.\nExtracting batch of samples à 5000 events from DVS sequence...\nDiscarded 434 events during subsampling.\nDiscarded 218 events during 3-sigma standardization.\nExtracting batch of samples à 5000 events from DVS sequence...\nDiscarded 1316 events during subsampling.\nDiscarded 236 events during 3-sigma standardization.\nExtracting batch of samples à 5000 events from DVS sequence...\nDiscarded 383 events during subsampling.\nDiscarded 287 events during 3-sigma standardization.\n"
     ]
    },
    {
     "name": "stdout",
     "output_type": "stream",
     "text": [
      "Extracting batch of samples à 5000 events from DVS sequence...\nDiscarded 466 events during subsampling.\nDiscarded 291 events during 3-sigma standardization.\nExtracting batch of samples à 5000 events from DVS sequence...\nDiscarded 437 events during subsampling.\nDiscarded 209 events during 3-sigma standardization.\nExtracting batch of samples à 5000 events from DVS sequence...\nDiscarded 458 events during subsampling.\nDiscarded 230 events during 3-sigma standardization.\nExtracting batch of samples à 5000 events from DVS sequence...\nDiscarded 2090 events during subsampling.\nDiscarded 165 events during 3-sigma standardization.\nExtracting batch of samples à 5000 events from DVS sequence...\nDiscarded 350 events during subsampling.\nDiscarded 251 events during 3-sigma standardization.\nExtracting batch of samples à 5000 events from DVS sequence...\n"
     ]
    },
    {
     "name": "stdout",
     "output_type": "stream",
     "text": [
      "Discarded 567 events during subsampling.\nDiscarded 259 events during 3-sigma standardization.\nExtracting batch of samples à 5000 events from DVS sequence...\nDiscarded 420 events during subsampling.\nDiscarded 254 events during 3-sigma standardization.\nExtracting batch of samples à 5000 events from DVS sequence...\nDiscarded 414 events during subsampling.\nDiscarded 253 events during 3-sigma standardization.\nExtracting batch of samples à 5000 events from DVS sequence...\nDiscarded 447 events during subsampling.\nDiscarded 213 events during 3-sigma standardization.\nExtracting batch of samples à 5000 events from DVS sequence...\nDiscarded 415 events during subsampling.\nDiscarded 193 events during 3-sigma standardization.\n"
     ]
    },
    {
     "name": "stdout",
     "output_type": "stream",
     "text": [
      "Extracting batch of samples à 5000 events from DVS sequence...\nDiscarded 368 events during subsampling.\nDiscarded 237 events during 3-sigma standardization.\nExtracting batch of samples à 5000 events from DVS sequence...\nDiscarded 391 events during subsampling.\nDiscarded 259 events during 3-sigma standardization.\nExtracting batch of samples à 5000 events from DVS sequence...\nDiscarded 385 events during subsampling.\nDiscarded 186 events during 3-sigma standardization.\nExtracting batch of samples à 5000 events from DVS sequence...\nDiscarded 415 events during subsampling.\nDiscarded 198 events during 3-sigma standardization.\nExtracting batch of samples à 5000 events from DVS sequence...\nDiscarded 430 events during subsampling.\nDiscarded 223 events during 3-sigma standardization.\nExtracting batch of samples à 5000 events from DVS sequence..."
     ]
    },
    {
     "name": "stdout",
     "output_type": "stream",
     "text": [
      "\nDiscarded 460 events during subsampling.\nDiscarded 231 events during 3-sigma standardization.\nExtracting batch of samples à 5000 events from DVS sequence...\nDiscarded 1575 events during subsampling.\nDiscarded 223 events during 3-sigma standardization.\nExtracting batch of samples à 5000 events from DVS sequence...\nDiscarded 612 events during subsampling.\nDiscarded 301 events during 3-sigma standardization.\nExtracting batch of samples à 5000 events from DVS sequence...\nDiscarded 426 events during subsampling.\nDiscarded 196 events during 3-sigma standardization.\nExtracting batch of samples à 5000 events from DVS sequence...\nDiscarded 445 events during subsampling.\nDiscarded 209 events during 3-sigma standardization.\nExtracting batch of samples à 5000 events from DVS sequence...\n"
     ]
    },
    {
     "name": "stdout",
     "output_type": "stream",
     "text": [
      "Discarded 390 events during subsampling.\nDiscarded 182 events during 3-sigma standardization.\nExtracting batch of samples à 5000 events from DVS sequence...\nDiscarded 789 events during subsampling.\nDiscarded 249 events during 3-sigma standardization.\nExtracting batch of samples à 5000 events from DVS sequence...\nDiscarded 528 events during subsampling.\nDiscarded 289 events during 3-sigma standardization.\nExtracting batch of samples à 5000 events from DVS sequence...\nDiscarded 477 events during subsampling.\nDiscarded 243 events during 3-sigma standardization.\nExtracting batch of samples à 5000 events from DVS sequence...\nDiscarded 558 events during subsampling.\nDiscarded 257 events during 3-sigma standardization.\nLoading DVS sample /home/rbodo/.snntoolbox/Datasets/predator_prey/aedat/not_balanced_4834samples/N/rec_5.aedat...\n"
     ]
    },
    {
     "name": "stdout",
     "output_type": "stream",
     "text": [
      "Total number of events of this sample: 160000.\nNumber of batches: 32.\nExtracting 32 frames from DVS event sequence.\n"
     ]
    },
    {
     "name": "stdout",
     "output_type": "stream",
     "text": [
      "Extracting batch of samples à 5000 events from DVS sequence...\nDiscarded 469 events during subsampling.\nDiscarded 264 events during 3-sigma standardization.\nExtracting batch of samples à 5000 events from DVS sequence...\nDiscarded 1125 events during subsampling.\nDiscarded 264 events during 3-sigma standardization.\nExtracting batch of samples à 5000 events from DVS sequence...\nDiscarded 1114 events during subsampling.\nDiscarded 371 events during 3-sigma standardization.\nExtracting batch of samples à 5000 events from DVS sequence...\nDiscarded 388 events during subsampling.\nDiscarded 279 events during 3-sigma standardization.\nExtracting batch of samples à 5000 events from DVS sequence...\nDiscarded 1257 events during subsampling.\n"
     ]
    },
    {
     "name": "stdout",
     "output_type": "stream",
     "text": [
      "Discarded 212 events during 3-sigma standardization.\nExtracting batch of samples à 5000 events from DVS sequence...\nDiscarded 396 events during subsampling.\nDiscarded 249 events during 3-sigma standardization.\nExtracting batch of samples à 5000 events from DVS sequence...\nDiscarded 389 events during subsampling.\nDiscarded 227 events during 3-sigma standardization.\nExtracting batch of samples à 5000 events from DVS sequence...\nDiscarded 325 events during subsampling.\nDiscarded 266 events during 3-sigma standardization.\nExtracting batch of samples à 5000 events from DVS sequence...\nDiscarded 424 events during subsampling.\nDiscarded 278 events during 3-sigma standardization.\nExtracting batch of samples à 5000 events from DVS sequence...\nDiscarded 321 events during subsampling.\nDiscarded 258 events during 3-sigma standardization.\n"
     ]
    },
    {
     "name": "stdout",
     "output_type": "stream",
     "text": [
      "Extracting batch of samples à 5000 events from DVS sequence...\nDiscarded 164 events during subsampling.\nDiscarded 269 events during 3-sigma standardization.\nExtracting batch of samples à 5000 events from DVS sequence...\nDiscarded 336 events during subsampling.\nDiscarded 207 events during 3-sigma standardization.\nExtracting batch of samples à 5000 events from DVS sequence...\nDiscarded 322 events during subsampling.\nDiscarded 249 events during 3-sigma standardization.\nExtracting batch of samples à 5000 events from DVS sequence...\nDiscarded 2028 events during subsampling.\nDiscarded 180 events during 3-sigma standardization.\nExtracting batch of samples à 5000 events from DVS sequence...\nDiscarded 401 events during subsampling.\nDiscarded 238 events during 3-sigma standardization.\nExtracting batch of samples à 5000 events from DVS sequence...\n"
     ]
    },
    {
     "name": "stdout",
     "output_type": "stream",
     "text": [
      "Discarded 400 events during subsampling.\nDiscarded 198 events during 3-sigma standardization.\nExtracting batch of samples à 5000 events from DVS sequence...\nDiscarded 1362 events during subsampling.\nDiscarded 227 events during 3-sigma standardization.\nExtracting batch of samples à 5000 events from DVS sequence...\nDiscarded 1288 events during subsampling.\nDiscarded 350 events during 3-sigma standardization.\nExtracting batch of samples à 5000 events from DVS sequence...\nDiscarded 250 events during subsampling.\nDiscarded 389 events during 3-sigma standardization.\nExtracting batch of samples à 5000 events from DVS sequence...\nDiscarded 99 events during subsampling.\nDiscarded 436 events during 3-sigma standardization.\nExtracting batch of samples à 5000 events from DVS sequence...\n"
     ]
    },
    {
     "name": "stdout",
     "output_type": "stream",
     "text": [
      "Discarded 178 events during subsampling.\nDiscarded 368 events during 3-sigma standardization.\nExtracting batch of samples à 5000 events from DVS sequence...\nDiscarded 787 events during subsampling.\nDiscarded 389 events during 3-sigma standardization.\nExtracting batch of samples à 5000 events from DVS sequence...\nDiscarded 88 events during subsampling.\nDiscarded 427 events during 3-sigma standardization.\nExtracting batch of samples à 5000 events from DVS sequence...\nDiscarded 3 events during subsampling.\nDiscarded 364 events during 3-sigma standardization.\nExtracting batch of samples à 5000 events from DVS sequence...\nDiscarded 34 events during subsampling.\nDiscarded 397 events during 3-sigma standardization.\nExtracting batch of samples à 5000 events from DVS sequence...\nDiscarded 94 events during subsampling.\nDiscarded 325 events during 3-sigma standardization.\n"
     ]
    },
    {
     "name": "stdout",
     "output_type": "stream",
     "text": [
      "Extracting batch of samples à 5000 events from DVS sequence...\nDiscarded 408 events during subsampling.\nDiscarded 277 events during 3-sigma standardization.\nExtracting batch of samples à 5000 events from DVS sequence...\nDiscarded 359 events during subsampling.\nDiscarded 245 events during 3-sigma standardization.\nExtracting batch of samples à 5000 events from DVS sequence...\nDiscarded 387 events during subsampling.\nDiscarded 229 events during 3-sigma standardization.\nExtracting batch of samples à 5000 events from DVS sequence...\nDiscarded 392 events during subsampling.\nDiscarded 266 events during 3-sigma standardization.\nExtracting batch of samples à 5000 events from DVS sequence...\nDiscarded 582 events during subsampling.\nDiscarded 260 events during 3-sigma standardization.\nLoading DVS sample /home/rbodo/.snntoolbox/Datasets/predator_prey/aedat/not_balanced_4834samples/N/rec_6.aedat...\n"
     ]
    },
    {
     "name": "stdout",
     "output_type": "stream",
     "text": [
      "Total number of events of this sample: 85000.\nNumber of batches: 17.\nExtracting 17 frames from DVS event sequence.\n"
     ]
    },
    {
     "name": "stdout",
     "output_type": "stream",
     "text": [
      "Extracting batch of samples à 5000 events from DVS sequence...\nDiscarded 885 events during subsampling.\nDiscarded 239 events during 3-sigma standardization.\nExtracting batch of samples à 5000 events from DVS sequence...\nDiscarded 398 events during subsampling.\nDiscarded 289 events during 3-sigma standardization.\nExtracting batch of samples à 5000 events from DVS sequence...\nDiscarded 439 events during subsampling.\nDiscarded 286 events during 3-sigma standardization.\nExtracting batch of samples à 5000 events from DVS sequence...\nDiscarded 436 events during subsampling.\nDiscarded 241 events during 3-sigma standardization.\nExtracting batch of samples à 5000 events from DVS sequence...\nDiscarded 336 events during subsampling."
     ]
    },
    {
     "name": "stdout",
     "output_type": "stream",
     "text": [
      "\nDiscarded 238 events during 3-sigma standardization.\nExtracting batch of samples à 5000 events from DVS sequence...\nDiscarded 389 events during subsampling.\nDiscarded 232 events during 3-sigma standardization.\nExtracting batch of samples à 5000 events from DVS sequence...\nDiscarded 409 events during subsampling.\nDiscarded 194 events during 3-sigma standardization.\nExtracting batch of samples à 5000 events from DVS sequence...\nDiscarded 405 events during subsampling.\nDiscarded 263 events during 3-sigma standardization.\nExtracting batch of samples à 5000 events from DVS sequence...\nDiscarded 381 events during subsampling.\nDiscarded 227 events during 3-sigma standardization.\nExtracting batch of samples à 5000 events from DVS sequence..."
     ]
    },
    {
     "name": "stdout",
     "output_type": "stream",
     "text": [
      "\nDiscarded 410 events during subsampling.\nDiscarded 256 events during 3-sigma standardization.\nExtracting batch of samples à 5000 events from DVS sequence...\nDiscarded 407 events during subsampling.\nDiscarded 265 events during 3-sigma standardization.\nExtracting batch of samples à 5000 events from DVS sequence...\nDiscarded 398 events during subsampling.\nDiscarded 250 events during 3-sigma standardization.\nExtracting batch of samples à 5000 events from DVS sequence...\nDiscarded 2072 events during subsampling.\nDiscarded 127 events during 3-sigma standardization.\nExtracting batch of samples à 5000 events from DVS sequence...\nDiscarded 536 events during subsampling.\nDiscarded 252 events during 3-sigma standardization.\n"
     ]
    },
    {
     "name": "stdout",
     "output_type": "stream",
     "text": [
      "Extracting batch of samples à 5000 events from DVS sequence...\nDiscarded 370 events during subsampling.\nDiscarded 250 events during 3-sigma standardization.\nExtracting batch of samples à 5000 events from DVS sequence...\nDiscarded 420 events during subsampling.\nDiscarded 252 events during 3-sigma standardization.\nLoading DVS sample /home/rbodo/.snntoolbox/Datasets/predator_prey/aedat/not_balanced_4834samples/N/rec_7.aedat...\n"
     ]
    },
    {
     "name": "stdout",
     "output_type": "stream",
     "text": [
      "Total number of events of this sample: 2320000.\nNumber of batches: 464.\nExtracting 464 frames from DVS event sequence.\n"
     ]
    },
    {
     "name": "stdout",
     "output_type": "stream",
     "text": [
      "Extracting batch of samples à 5000 events from DVS sequence...\nDiscarded 143 events during subsampling.\nDiscarded 332 events during 3-sigma standardization.\nExtracting batch of samples à 5000 events from DVS sequence...\nDiscarded 332 events during subsampling.\nDiscarded 383 events during 3-sigma standardization.\nExtracting batch of samples à 5000 events from DVS sequence...\nDiscarded 253 events during subsampling.\nDiscarded 357 events during 3-sigma standardization.\nExtracting batch of samples à 5000 events from DVS sequence...\nDiscarded 1465 events during subsampling.\nDiscarded 178 events during 3-sigma standardization.\nExtracting batch of samples à 5000 events from DVS sequence...\n"
     ]
    },
    {
     "name": "stdout",
     "output_type": "stream",
     "text": [
      "Discarded 2085 events during subsampling.\nDiscarded 122 events during 3-sigma standardization.\nExtracting batch of samples à 5000 events from DVS sequence...\nDiscarded 290 events during subsampling.\nDiscarded 312 events during 3-sigma standardization.\nExtracting batch of samples à 5000 events from DVS sequence...\nDiscarded 341 events during subsampling.\nDiscarded 279 events during 3-sigma standardization.\nExtracting batch of samples à 5000 events from DVS sequence...\nDiscarded 616 events during subsampling.\nDiscarded 260 events during 3-sigma standardization.\nExtracting batch of samples à 5000 events from DVS sequence...\nDiscarded 276 events during subsampling.\nDiscarded 252 events during 3-sigma standardization."
     ]
    },
    {
     "name": "stdout",
     "output_type": "stream",
     "text": [
      "\nExtracting batch of samples à 5000 events from DVS sequence...\nDiscarded 346 events during subsampling.\nDiscarded 281 events during 3-sigma standardization.\nExtracting batch of samples à 5000 events from DVS sequence...\nDiscarded 331 events during subsampling.\nDiscarded 303 events during 3-sigma standardization.\nExtracting batch of samples à 5000 events from DVS sequence...\nDiscarded 295 events during subsampling.\nDiscarded 245 events during 3-sigma standardization.\nExtracting batch of samples à 5000 events from DVS sequence...\nDiscarded 1171 events during subsampling.\nDiscarded 216 events during 3-sigma standardization.\nExtracting batch of samples à 5000 events from DVS sequence...\nDiscarded 272 events during subsampling.\nDiscarded 273 events during 3-sigma standardization.\nExtracting batch of samples à 5000 events from DVS sequence..."
     ]
    },
    {
     "name": "stdout",
     "output_type": "stream",
     "text": [
      "\nDiscarded 348 events during subsampling.\nDiscarded 266 events during 3-sigma standardization.\nExtracting batch of samples à 5000 events from DVS sequence...\nDiscarded 2038 events during subsampling.\nDiscarded 185 events during 3-sigma standardization.\nExtracting batch of samples à 5000 events from DVS sequence...\nDiscarded 304 events during subsampling.\nDiscarded 264 events during 3-sigma standardization.\nExtracting batch of samples à 5000 events from DVS sequence...\nDiscarded 304 events during subsampling.\nDiscarded 269 events during 3-sigma standardization.\nExtracting batch of samples à 5000 events from DVS sequence...\nDiscarded 333 events during subsampling.\nDiscarded 280 events during 3-sigma standardization.\nExtracting batch of samples à 5000 events from DVS sequence...\n"
     ]
    },
    {
     "name": "stdout",
     "output_type": "stream",
     "text": [
      "Discarded 292 events during subsampling.\nDiscarded 282 events during 3-sigma standardization.\nExtracting batch of samples à 5000 events from DVS sequence...\nDiscarded 1129 events during subsampling.\nDiscarded 229 events during 3-sigma standardization.\nExtracting batch of samples à 5000 events from DVS sequence...\nDiscarded 331 events during subsampling.\nDiscarded 305 events during 3-sigma standardization.\nExtracting batch of samples à 5000 events from DVS sequence...\nDiscarded 337 events during subsampling.\nDiscarded 294 events during 3-sigma standardization.\nExtracting batch of samples à 5000 events from DVS sequence...\nDiscarded 1075 events during subsampling.\nDiscarded 223 events during 3-sigma standardization.\nExtracting batch of samples à 5000 events from DVS sequence...\n"
     ]
    },
    {
     "name": "stdout",
     "output_type": "stream",
     "text": [
      "Discarded 1186 events during subsampling.\nDiscarded 198 events during 3-sigma standardization.\nExtracting batch of samples à 5000 events from DVS sequence...\nDiscarded 1749 events during subsampling.\nDiscarded 145 events during 3-sigma standardization.\nExtracting batch of samples à 5000 events from DVS sequence...\nDiscarded 477 events during subsampling.\nDiscarded 268 events during 3-sigma standardization.\nExtracting batch of samples à 5000 events from DVS sequence...\nDiscarded 281 events during subsampling.\nDiscarded 275 events during 3-sigma standardization.\nExtracting batch of samples à 5000 events from DVS sequence...\nDiscarded 272 events during subsampling.\nDiscarded 268 events during 3-sigma standardization.\nExtracting batch of samples à 5000 events from DVS sequence...\n"
     ]
    },
    {
     "name": "stdout",
     "output_type": "stream",
     "text": [
      "Discarded 334 events during subsampling.\nDiscarded 317 events during 3-sigma standardization.\nExtracting batch of samples à 5000 events from DVS sequence...\nDiscarded 305 events during subsampling.\nDiscarded 262 events during 3-sigma standardization.\nExtracting batch of samples à 5000 events from DVS sequence...\nDiscarded 314 events during subsampling.\nDiscarded 248 events during 3-sigma standardization.\nExtracting batch of samples à 5000 events from DVS sequence...\nDiscarded 2138 events during subsampling.\nDiscarded 203 events during 3-sigma standardization.\nExtracting batch of samples à 5000 events from DVS sequence...\nDiscarded 335 events during subsampling.\nDiscarded 248 events during 3-sigma standardization.\nExtracting batch of samples à 5000 events from DVS sequence..."
     ]
    },
    {
     "name": "stdout",
     "output_type": "stream",
     "text": [
      "\nDiscarded 152 events during subsampling.\nDiscarded 290 events during 3-sigma standardization.\nExtracting batch of samples à 5000 events from DVS sequence...\nDiscarded 2070 events during subsampling.\nDiscarded 113 events during 3-sigma standardization.\nExtracting batch of samples à 5000 events from DVS sequence...\nDiscarded 344 events during subsampling.\nDiscarded 258 events during 3-sigma standardization.\nExtracting batch of samples à 5000 events from DVS sequence...\nDiscarded 293 events during subsampling.\nDiscarded 272 events during 3-sigma standardization.\nExtracting batch of samples à 5000 events from DVS sequence...\nDiscarded 290 events during subsampling.\nDiscarded 261 events during 3-sigma standardization.\nExtracting batch of samples à 5000 events from DVS sequence...\n"
     ]
    },
    {
     "name": "stdout",
     "output_type": "stream",
     "text": [
      "Discarded 2162 events during subsampling.\nDiscarded 199 events during 3-sigma standardization.\nExtracting batch of samples à 5000 events from DVS sequence...\nDiscarded 306 events during subsampling.\nDiscarded 262 events during 3-sigma standardization.\nExtracting batch of samples à 5000 events from DVS sequence...\nDiscarded 329 events during subsampling.\nDiscarded 251 events during 3-sigma standardization.\nExtracting batch of samples à 5000 events from DVS sequence...\nDiscarded 231 events during subsampling.\nDiscarded 318 events during 3-sigma standardization.\nExtracting batch of samples à 5000 events from DVS sequence...\nDiscarded 327 events during subsampling.\nDiscarded 243 events during 3-sigma standardization.\n"
     ]
    },
    {
     "name": "stdout",
     "output_type": "stream",
     "text": [
      "Extracting batch of samples à 5000 events from DVS sequence...\nDiscarded 885 events during subsampling.\nDiscarded 215 events during 3-sigma standardization.\nExtracting batch of samples à 5000 events from DVS sequence...\nDiscarded 341 events during subsampling.\nDiscarded 252 events during 3-sigma standardization.\nExtracting batch of samples à 5000 events from DVS sequence...\nDiscarded 343 events during subsampling.\nDiscarded 270 events during 3-sigma standardization.\nExtracting batch of samples à 5000 events from DVS sequence...\nDiscarded 305 events during subsampling.\nDiscarded 235 events during 3-sigma standardization.\nExtracting batch of samples à 5000 events from DVS sequence...\nDiscarded 1460 events during subsampling.\nDiscarded 208 events during 3-sigma standardization.\n"
     ]
    },
    {
     "name": "stdout",
     "output_type": "stream",
     "text": [
      "Extracting batch of samples à 5000 events from DVS sequence...\nDiscarded 369 events during subsampling.\nDiscarded 230 events during 3-sigma standardization.\nExtracting batch of samples à 5000 events from DVS sequence...\nDiscarded 39 events during subsampling.\nDiscarded 271 events during 3-sigma standardization.\nExtracting batch of samples à 5000 events from DVS sequence...\nDiscarded 395 events during subsampling.\nDiscarded 257 events during 3-sigma standardization.\nExtracting batch of samples à 5000 events from DVS sequence...\nDiscarded 366 events during subsampling.\nDiscarded 263 events during 3-sigma standardization.\nExtracting batch of samples à 5000 events from DVS sequence...\nDiscarded 1520 events during subsampling.\nDiscarded 202 events during 3-sigma standardization.\n"
     ]
    },
    {
     "name": "stdout",
     "output_type": "stream",
     "text": [
      "Extracting batch of samples à 5000 events from DVS sequence...\nDiscarded 359 events during subsampling.\nDiscarded 301 events during 3-sigma standardization.\nExtracting batch of samples à 5000 events from DVS sequence...\nDiscarded 309 events during subsampling.\nDiscarded 323 events during 3-sigma standardization.\nExtracting batch of samples à 5000 events from DVS sequence...\nDiscarded 369 events during subsampling.\nDiscarded 322 events during 3-sigma standardization.\nExtracting batch of samples à 5000 events from DVS sequence...\nDiscarded 49 events during subsampling.\nDiscarded 428 events during 3-sigma standardization.\nExtracting batch of samples à 5000 events from DVS sequence...\nDiscarded 1601 events during subsampling.\nDiscarded 199 events during 3-sigma standardization.\nExtracting batch of samples à 5000 events from DVS sequence...\n"
     ]
    },
    {
     "name": "stdout",
     "output_type": "stream",
     "text": [
      "Discarded 1387 events during subsampling.\nDiscarded 260 events during 3-sigma standardization.\nExtracting batch of samples à 5000 events from DVS sequence...\nDiscarded 72 events during subsampling.\nDiscarded 234 events during 3-sigma standardization.\nExtracting batch of samples à 5000 events from DVS sequence...\nDiscarded 4 events during subsampling.\nDiscarded 242 events during 3-sigma standardization.\nExtracting batch of samples à 5000 events from DVS sequence...\nDiscarded 789 events during subsampling.\nDiscarded 224 events during 3-sigma standardization.\nExtracting batch of samples à 5000 events from DVS sequence...\nDiscarded 414 events during subsampling.\nDiscarded 247 events during 3-sigma standardization.\n"
     ]
    },
    {
     "name": "stdout",
     "output_type": "stream",
     "text": [
      "Extracting batch of samples à 5000 events from DVS sequence...\nDiscarded 201 events during subsampling.\nDiscarded 272 events during 3-sigma standardization.\nExtracting batch of samples à 5000 events from DVS sequence...\nDiscarded 10 events during subsampling.\nDiscarded 237 events during 3-sigma standardization.\nExtracting batch of samples à 5000 events from DVS sequence...\nDiscarded 504 events during subsampling.\nDiscarded 280 events during 3-sigma standardization.\nExtracting batch of samples à 5000 events from DVS sequence...\nDiscarded 1743 events during subsampling.\nDiscarded 164 events during 3-sigma standardization.\nExtracting batch of samples à 5000 events from DVS sequence...\nDiscarded 1000 events during subsampling.\nDiscarded 221 events during 3-sigma standardization.\nExtracting batch of samples à 5000 events from DVS sequence...\n"
     ]
    },
    {
     "name": "stdout",
     "output_type": "stream",
     "text": [
      "Discarded 335 events during subsampling.\nDiscarded 290 events during 3-sigma standardization.\nExtracting batch of samples à 5000 events from DVS sequence...\nDiscarded 332 events during subsampling.\nDiscarded 332 events during 3-sigma standardization.\nExtracting batch of samples à 5000 events from DVS sequence...\nDiscarded 355 events during subsampling.\nDiscarded 298 events during 3-sigma standardization.\nExtracting batch of samples à 5000 events from DVS sequence...\nDiscarded 14 events during subsampling.\nDiscarded 373 events during 3-sigma standardization.\nExtracting batch of samples à 5000 events from DVS sequence...\nDiscarded 282 events during subsampling.\nDiscarded 305 events during 3-sigma standardization.\n"
     ]
    },
    {
     "name": "stdout",
     "output_type": "stream",
     "text": [
      "Extracting batch of samples à 5000 events from DVS sequence...\nDiscarded 316 events during subsampling.\nDiscarded 300 events during 3-sigma standardization.\nExtracting batch of samples à 5000 events from DVS sequence...\nDiscarded 246 events during subsampling.\nDiscarded 256 events during 3-sigma standardization.\nExtracting batch of samples à 5000 events from DVS sequence...\nDiscarded 82 events during subsampling.\nDiscarded 335 events during 3-sigma standardization.\nExtracting batch of samples à 5000 events from DVS sequence...\nDiscarded 471 events during subsampling.\nDiscarded 368 events during 3-sigma standardization.\nExtracting batch of samples à 5000 events from DVS sequence...\nDiscarded 211 events during subsampling.\nDiscarded 516 events during 3-sigma standardization.\n"
     ]
    },
    {
     "name": "stdout",
     "output_type": "stream",
     "text": [
      "Extracting batch of samples à 5000 events from DVS sequence...\nDiscarded 257 events during subsampling.\nDiscarded 437 events during 3-sigma standardization.\nExtracting batch of samples à 5000 events from DVS sequence...\nDiscarded 427 events during subsampling.\nDiscarded 254 events during 3-sigma standardization.\nExtracting batch of samples à 5000 events from DVS sequence...\nDiscarded 171 events during subsampling.\nDiscarded 332 events during 3-sigma standardization.\nExtracting batch of samples à 5000 events from DVS sequence...\nDiscarded 735 events during subsampling.\nDiscarded 269 events during 3-sigma standardization.\nExtracting batch of samples à 5000 events from DVS sequence...\nDiscarded 377 events during subsampling.\nDiscarded 255 events during 3-sigma standardization.\n"
     ]
    },
    {
     "name": "stdout",
     "output_type": "stream",
     "text": [
      "Extracting batch of samples à 5000 events from DVS sequence...\nDiscarded 351 events during subsampling.\nDiscarded 315 events during 3-sigma standardization.\nExtracting batch of samples à 5000 events from DVS sequence...\nDiscarded 1792 events during subsampling.\nDiscarded 218 events during 3-sigma standardization.\nExtracting batch of samples à 5000 events from DVS sequence...\nDiscarded 319 events during subsampling.\nDiscarded 267 events during 3-sigma standardization.\nExtracting batch of samples à 5000 events from DVS sequence...\nDiscarded 367 events during subsampling.\nDiscarded 277 events during 3-sigma standardization.\nExtracting batch of samples à 5000 events from DVS sequence...\nDiscarded 372 events during subsampling.\nDiscarded 280 events during 3-sigma standardization.\nExtracting batch of samples à 5000 events from DVS sequence...\n"
     ]
    },
    {
     "name": "stdout",
     "output_type": "stream",
     "text": [
      "Discarded 2177 events during subsampling.\nDiscarded 186 events during 3-sigma standardization.\nExtracting batch of samples à 5000 events from DVS sequence...\nDiscarded 363 events during subsampling.\nDiscarded 255 events during 3-sigma standardization.\nExtracting batch of samples à 5000 events from DVS sequence...\nDiscarded 362 events during subsampling.\nDiscarded 273 events during 3-sigma standardization.\nExtracting batch of samples à 5000 events from DVS sequence...\nDiscarded 305 events during subsampling.\nDiscarded 202 events during 3-sigma standardization.\nExtracting batch of samples à 5000 events from DVS sequence...\nDiscarded 2234 events during subsampling.\nDiscarded 103 events during 3-sigma standardization.\nExtracting batch of samples à 5000 events from DVS sequence...\n"
     ]
    },
    {
     "name": "stdout",
     "output_type": "stream",
     "text": [
      "Discarded 308 events during subsampling.\nDiscarded 253 events during 3-sigma standardization.\nExtracting batch of samples à 5000 events from DVS sequence...\nDiscarded 275 events during subsampling.\nDiscarded 242 events during 3-sigma standardization.\nExtracting batch of samples à 5000 events from DVS sequence...\nDiscarded 133 events during subsampling.\nDiscarded 281 events during 3-sigma standardization.\nExtracting batch of samples à 5000 events from DVS sequence...\nDiscarded 275 events during subsampling.\nDiscarded 232 events during 3-sigma standardization.\nExtracting batch of samples à 5000 events from DVS sequence...\nDiscarded 2147 events during subsampling.\nDiscarded 192 events during 3-sigma standardization.\nExtracting batch of samples à 5000 events from DVS sequence..."
     ]
    },
    {
     "name": "stdout",
     "output_type": "stream",
     "text": [
      "\nDiscarded 325 events during subsampling.\nDiscarded 247 events during 3-sigma standardization.\nExtracting batch of samples à 5000 events from DVS sequence...\nDiscarded 1022 events during subsampling.\nDiscarded 204 events during 3-sigma standardization.\nExtracting batch of samples à 5000 events from DVS sequence...\nDiscarded 299 events during subsampling.\nDiscarded 228 events during 3-sigma standardization.\nExtracting batch of samples à 5000 events from DVS sequence...\nDiscarded 817 events during subsampling.\nDiscarded 245 events during 3-sigma standardization.\nExtracting batch of samples à 5000 events from DVS sequence...\nDiscarded 293 events during subsampling.\nDiscarded 277 events during 3-sigma standardization.\nExtracting batch of samples à 5000 events from DVS sequence...\n"
     ]
    },
    {
     "name": "stdout",
     "output_type": "stream",
     "text": [
      "Discarded 1703 events during subsampling.\nDiscarded 191 events during 3-sigma standardization.\nExtracting batch of samples à 5000 events from DVS sequence...\nDiscarded 317 events during subsampling.\nDiscarded 299 events during 3-sigma standardization.\nExtracting batch of samples à 5000 events from DVS sequence...\nDiscarded 310 events during subsampling.\nDiscarded 254 events during 3-sigma standardization.\nExtracting batch of samples à 5000 events from DVS sequence...\nDiscarded 160 events during subsampling.\nDiscarded 305 events during 3-sigma standardization.\nExtracting batch of samples à 5000 events from DVS sequence...\nDiscarded 1679 events during subsampling.\nDiscarded 172 events during 3-sigma standardization.\nExtracting batch of samples à 5000 events from DVS sequence..."
     ]
    },
    {
     "name": "stdout",
     "output_type": "stream",
     "text": [
      "\nDiscarded 319 events during subsampling.\nDiscarded 258 events during 3-sigma standardization.\nExtracting batch of samples à 5000 events from DVS sequence...\nDiscarded 304 events during subsampling.\nDiscarded 254 events during 3-sigma standardization.\nExtracting batch of samples à 5000 events from DVS sequence...\nDiscarded 32 events during subsampling.\nDiscarded 334 events during 3-sigma standardization.\nExtracting batch of samples à 5000 events from DVS sequence...\nDiscarded 1879 events during subsampling.\nDiscarded 137 events during 3-sigma standardization.\nExtracting batch of samples à 5000 events from DVS sequence...\nDiscarded 314 events during subsampling.\nDiscarded 251 events during 3-sigma standardization.\nExtracting batch of samples à 5000 events from DVS sequence...\n"
     ]
    },
    {
     "name": "stdout",
     "output_type": "stream",
     "text": [
      "Discarded 200 events during subsampling.\nDiscarded 247 events during 3-sigma standardization.\nExtracting batch of samples à 5000 events from DVS sequence...\nDiscarded 1278 events during subsampling.\nDiscarded 206 events during 3-sigma standardization.\nExtracting batch of samples à 5000 events from DVS sequence...\nDiscarded 323 events during subsampling.\nDiscarded 276 events during 3-sigma standardization.\nExtracting batch of samples à 5000 events from DVS sequence...\nDiscarded 195 events during subsampling.\nDiscarded 283 events during 3-sigma standardization.\nExtracting batch of samples à 5000 events from DVS sequence...\nDiscarded 296 events during subsampling.\nDiscarded 288 events during 3-sigma standardization.\nExtracting batch of samples à 5000 events from DVS sequence..."
     ]
    },
    {
     "name": "stdout",
     "output_type": "stream",
     "text": [
      "\nDiscarded 292 events during subsampling.\nDiscarded 274 events during 3-sigma standardization.\nExtracting batch of samples à 5000 events from DVS sequence...\nDiscarded 815 events during subsampling.\nDiscarded 278 events during 3-sigma standardization.\nExtracting batch of samples à 5000 events from DVS sequence...\nDiscarded 344 events during subsampling.\nDiscarded 269 events during 3-sigma standardization.\nExtracting batch of samples à 5000 events from DVS sequence...\nDiscarded 694 events during subsampling.\nDiscarded 245 events during 3-sigma standardization.\nExtracting batch of samples à 5000 events from DVS sequence...\nDiscarded 367 events during subsampling.\nDiscarded 335 events during 3-sigma standardization.\n"
     ]
    },
    {
     "name": "stdout",
     "output_type": "stream",
     "text": [
      "Extracting batch of samples à 5000 events from DVS sequence...\nDiscarded 381 events during subsampling.\nDiscarded 282 events during 3-sigma standardization.\nExtracting batch of samples à 5000 events from DVS sequence...\nDiscarded 317 events during subsampling.\nDiscarded 254 events during 3-sigma standardization.\nExtracting batch of samples à 5000 events from DVS sequence...\nDiscarded 301 events during subsampling.\nDiscarded 255 events during 3-sigma standardization.\nExtracting batch of samples à 5000 events from DVS sequence...\nDiscarded 340 events during subsampling.\nDiscarded 265 events during 3-sigma standardization.\nExtracting batch of samples à 5000 events from DVS sequence...\nDiscarded 334 events during subsampling.\nDiscarded 275 events during 3-sigma standardization.\n"
     ]
    },
    {
     "name": "stdout",
     "output_type": "stream",
     "text": [
      "Extracting batch of samples à 5000 events from DVS sequence...\nDiscarded 181 events during subsampling.\nDiscarded 338 events during 3-sigma standardization.\nExtracting batch of samples à 5000 events from DVS sequence...\nDiscarded 46 events during subsampling.\nDiscarded 391 events during 3-sigma standardization.\nExtracting batch of samples à 5000 events from DVS sequence...\nDiscarded 617 events during subsampling.\nDiscarded 296 events during 3-sigma standardization.\nExtracting batch of samples à 5000 events from DVS sequence...\nDiscarded 325 events during subsampling.\nDiscarded 257 events during 3-sigma standardization.\nExtracting batch of samples à 5000 events from DVS sequence...\nDiscarded 257 events during subsampling.\nDiscarded 272 events during 3-sigma standardization.\n"
     ]
    },
    {
     "name": "stdout",
     "output_type": "stream",
     "text": [
      "Extracting batch of samples à 5000 events from DVS sequence...\nDiscarded 1361 events during subsampling.\nDiscarded 215 events during 3-sigma standardization.\nExtracting batch of samples à 5000 events from DVS sequence...\nDiscarded 321 events during subsampling.\nDiscarded 222 events during 3-sigma standardization.\nExtracting batch of samples à 5000 events from DVS sequence...\nDiscarded 319 events during subsampling.\nDiscarded 241 events during 3-sigma standardization.\nExtracting batch of samples à 5000 events from DVS sequence...\nDiscarded 336 events during subsampling.\nDiscarded 249 events during 3-sigma standardization.\nExtracting batch of samples à 5000 events from DVS sequence...\nDiscarded 236 events during subsampling.\nDiscarded 261 events during 3-sigma standardization.\n"
     ]
    },
    {
     "name": "stdout",
     "output_type": "stream",
     "text": [
      "Extracting batch of samples à 5000 events from DVS sequence...\nDiscarded 304 events during subsampling.\nDiscarded 266 events during 3-sigma standardization.\nExtracting batch of samples à 5000 events from DVS sequence...\nDiscarded 319 events during subsampling.\nDiscarded 251 events during 3-sigma standardization.\nExtracting batch of samples à 5000 events from DVS sequence...\nDiscarded 1212 events during subsampling.\nDiscarded 253 events during 3-sigma standardization.\nExtracting batch of samples à 5000 events from DVS sequence...\nDiscarded 361 events during subsampling.\nDiscarded 298 events during 3-sigma standardization.\nExtracting batch of samples à 5000 events from DVS sequence...\nDiscarded 445 events during subsampling."
     ]
    },
    {
     "name": "stdout",
     "output_type": "stream",
     "text": [
      "\nDiscarded 203 events during 3-sigma standardization.\nExtracting batch of samples à 5000 events from DVS sequence...\nDiscarded 204 events during subsampling.\n"
     ]
    },
    {
     "name": "stdout",
     "output_type": "stream",
     "text": [
      "Discarded 210 events during 3-sigma standardization.\nExtracting batch of samples à 5000 events from DVS sequence...\nDiscarded 49 events during subsampling.\nDiscarded 498 events during 3-sigma standardization.\nExtracting batch of samples à 5000 events from DVS sequence...\nDiscarded 1002 events during subsampling.\nDiscarded 456 events during 3-sigma standardization.\nExtracting batch of samples à 5000 events from DVS sequence...\nDiscarded 383 events during subsampling.\nDiscarded 431 events during 3-sigma standardization.\nExtracting batch of samples à 5000 events from DVS sequence...\nDiscarded 20 events during subsampling.\nDiscarded 433 events during 3-sigma standardization.\nExtracting batch of samples à 5000 events from DVS sequence...\nDiscarded 373 events during subsampling.\nDiscarded 380 events during 3-sigma standardization.\n"
     ]
    },
    {
     "name": "stdout",
     "output_type": "stream",
     "text": [
      "Extracting batch of samples à 5000 events from DVS sequence...\nDiscarded 332 events during subsampling.\nDiscarded 372 events during 3-sigma standardization.\nExtracting batch of samples à 5000 events from DVS sequence...\nDiscarded 366 events during subsampling.\nDiscarded 333 events during 3-sigma standardization.\nExtracting batch of samples à 5000 events from DVS sequence...\nDiscarded 179 events during subsampling.\nDiscarded 406 events during 3-sigma standardization.\nExtracting batch of samples à 5000 events from DVS sequence...\nDiscarded 404 events during subsampling.\nDiscarded 334 events during 3-sigma standardization.\nExtracting batch of samples à 5000 events from DVS sequence...\nDiscarded 96 events during subsampling.\nDiscarded 324 events during 3-sigma standardization.\nExtracting batch of samples à 5000 events from DVS sequence...\n"
     ]
    },
    {
     "name": "stdout",
     "output_type": "stream",
     "text": [
      "Discarded 409 events during subsampling.\nDiscarded 307 events during 3-sigma standardization.\nExtracting batch of samples à 5000 events from DVS sequence...\nDiscarded 768 events during subsampling.\nDiscarded 303 events during 3-sigma standardization.\nExtracting batch of samples à 5000 events from DVS sequence...\nDiscarded 568 events during subsampling.\nDiscarded 258 events during 3-sigma standardization.\nExtracting batch of samples à 5000 events from DVS sequence...\nDiscarded 199 events during subsampling.\nDiscarded 349 events during 3-sigma standardization.\nExtracting batch of samples à 5000 events from DVS sequence...\nDiscarded 306 events during subsampling.\nDiscarded 333 events during 3-sigma standardization.\n"
     ]
    },
    {
     "name": "stdout",
     "output_type": "stream",
     "text": [
      "Extracting batch of samples à 5000 events from DVS sequence...\nDiscarded 323 events during subsampling.\nDiscarded 286 events during 3-sigma standardization.\nExtracting batch of samples à 5000 events from DVS sequence...\nDiscarded 54 events during subsampling.\nDiscarded 357 events during 3-sigma standardization.\nExtracting batch of samples à 5000 events from DVS sequence...\nDiscarded 7 events during subsampling.\nDiscarded 368 events during 3-sigma standardization.\nExtracting batch of samples à 5000 events from DVS sequence...\nDiscarded 109 events during subsampling.\nDiscarded 291 events during 3-sigma standardization.\nExtracting batch of samples à 5000 events from DVS sequence...\nDiscarded 210 events during subsampling.\nDiscarded 311 events during 3-sigma standardization."
     ]
    },
    {
     "name": "stdout",
     "output_type": "stream",
     "text": [
      "\nExtracting batch of samples à 5000 events from DVS sequence...\nDiscarded 19 events during subsampling.\nDiscarded 310 events during 3-sigma standardization.\nExtracting batch of samples à 5000 events from DVS sequence...\nDiscarded 1910 events during subsampling.\nDiscarded 214 events during 3-sigma standardization.\nExtracting batch of samples à 5000 events from DVS sequence...\nDiscarded 360 events during subsampling.\nDiscarded 265 events during 3-sigma standardization.\nExtracting batch of samples à 5000 events from DVS sequence...\nDiscarded 363 events during subsampling.\nDiscarded 251 events during 3-sigma standardization.\nExtracting batch of samples à 5000 events from DVS sequence...\nDiscarded 226 events during subsampling.\nDiscarded 292 events during 3-sigma standardization.\nExtracting batch of samples à 5000 events from DVS sequence...\n"
     ]
    },
    {
     "name": "stdout",
     "output_type": "stream",
     "text": [
      "Discarded 926 events during subsampling.\nDiscarded 228 events during 3-sigma standardization.\nExtracting batch of samples à 5000 events from DVS sequence...\nDiscarded 341 events during subsampling.\nDiscarded 237 events during 3-sigma standardization.\nExtracting batch of samples à 5000 events from DVS sequence...\nDiscarded 2103 events during subsampling.\nDiscarded 147 events during 3-sigma standardization.\nExtracting batch of samples à 5000 events from DVS sequence...\nDiscarded 387 events during subsampling.\nDiscarded 247 events during 3-sigma standardization.\nExtracting batch of samples à 5000 events from DVS sequence...\nDiscarded 1628 events during subsampling.\nDiscarded 151 events during 3-sigma standardization.\nExtracting batch of samples à 5000 events from DVS sequence...\nDiscarded 325 events during subsampling.\nDiscarded 226 events during 3-sigma standardization.\nExtracting batch of samples à 5000 events from DVS sequence...\n"
     ]
    },
    {
     "name": "stdout",
     "output_type": "stream",
     "text": [
      "Discarded 326 events during subsampling.\nDiscarded 239 events during 3-sigma standardization.\nExtracting batch of samples à 5000 events from DVS sequence...\nDiscarded 133 events during subsampling.\nDiscarded 225 events during 3-sigma standardization.\nExtracting batch of samples à 5000 events from DVS sequence...\nDiscarded 292 events during subsampling.\nDiscarded 255 events during 3-sigma standardization.\nExtracting batch of samples à 5000 events from DVS sequence...\nDiscarded 1904 events during subsampling.\nDiscarded 184 events during 3-sigma standardization.\nExtracting batch of samples à 5000 events from DVS sequence...\nDiscarded 311 events during subsampling.\nDiscarded 223 events during 3-sigma standardization.\nExtracting batch of samples à 5000 events from DVS sequence...\n"
     ]
    },
    {
     "name": "stdout",
     "output_type": "stream",
     "text": [
      "Discarded 786 events during subsampling.\nDiscarded 235 events during 3-sigma standardization.\nExtracting batch of samples à 5000 events from DVS sequence...\nDiscarded 304 events during subsampling.\nDiscarded 294 events during 3-sigma standardization.\nExtracting batch of samples à 5000 events from DVS sequence...\nDiscarded 88 events during subsampling.\nDiscarded 348 events during 3-sigma standardization.\nExtracting batch of samples à 5000 events from DVS sequence...\nDiscarded 746 events during subsampling.\nDiscarded 281 events during 3-sigma standardization.\nExtracting batch of samples à 5000 events from DVS sequence...\nDiscarded 292 events during subsampling.\nDiscarded 279 events during 3-sigma standardization.\n"
     ]
    },
    {
     "name": "stdout",
     "output_type": "stream",
     "text": [
      "Extracting batch of samples à 5000 events from DVS sequence...\nDiscarded 33 events during subsampling.\nDiscarded 326 events during 3-sigma standardization.\nExtracting batch of samples à 5000 events from DVS sequence...\nDiscarded 318 events during subsampling.\nDiscarded 208 events during 3-sigma standardization.\nExtracting batch of samples à 5000 events from DVS sequence...\nDiscarded 208 events during subsampling.\nDiscarded 304 events during 3-sigma standardization.\nExtracting batch of samples à 5000 events from DVS sequence...\nDiscarded 322 events during subsampling.\nDiscarded 240 events during 3-sigma standardization.\nExtracting batch of samples à 5000 events from DVS sequence...\nDiscarded 317 events during subsampling.\nDiscarded 237 events during 3-sigma standardization.\nExtracting batch of samples à 5000 events from DVS sequence...\n"
     ]
    },
    {
     "name": "stdout",
     "output_type": "stream",
     "text": [
      "Discarded 1448 events during subsampling.\nDiscarded 190 events during 3-sigma standardization.\nExtracting batch of samples à 5000 events from DVS sequence...\nDiscarded 329 events during subsampling.\nDiscarded 235 events during 3-sigma standardization.\nExtracting batch of samples à 5000 events from DVS sequence...\nDiscarded 1738 events during subsampling.\nDiscarded 226 events during 3-sigma standardization.\nExtracting batch of samples à 5000 events from DVS sequence...\nDiscarded 299 events during subsampling.\nDiscarded 223 events during 3-sigma standardization.\nExtracting batch of samples à 5000 events from DVS sequence...\nDiscarded 1564 events during subsampling.\nDiscarded 187 events during 3-sigma standardization.\nExtracting batch of samples à 5000 events from DVS sequence...\nDiscarded 300 events during subsampling.\nDiscarded 242 events during 3-sigma standardization.\nExtracting batch of samples à 5000 events from DVS sequence..."
     ]
    },
    {
     "name": "stdout",
     "output_type": "stream",
     "text": [
      "\nDiscarded 249 events during subsampling.\nDiscarded 240 events during 3-sigma standardization.\nExtracting batch of samples à 5000 events from DVS sequence...\nDiscarded 277 events during subsampling.\nDiscarded 219 events during 3-sigma standardization.\nExtracting batch of samples à 5000 events from DVS sequence...\nDiscarded 315 events during subsampling.\nDiscarded 230 events during 3-sigma standardization.\nExtracting batch of samples à 5000 events from DVS sequence...\nDiscarded 254 events during subsampling.\nDiscarded 505 events during 3-sigma standardization.\nExtracting batch of samples à 5000 events from DVS sequence...\nDiscarded 267 events during subsampling.\nDiscarded 390 events during 3-sigma standardization.\nExtracting batch of samples à 5000 events from DVS sequence...\n"
     ]
    },
    {
     "name": "stdout",
     "output_type": "stream",
     "text": [
      "Discarded 329 events during subsampling.\nDiscarded 417 events during 3-sigma standardization.\nExtracting batch of samples à 5000 events from DVS sequence...\nDiscarded 229 events during subsampling.\nDiscarded 493 events during 3-sigma standardization.\nExtracting batch of samples à 5000 events from DVS sequence...\nDiscarded 500 events during subsampling.\nDiscarded 459 events during 3-sigma standardization.\nExtracting batch of samples à 5000 events from DVS sequence...\nDiscarded 270 events during subsampling.\nDiscarded 326 events during 3-sigma standardization.\nExtracting batch of samples à 5000 events from DVS sequence...\nDiscarded 428 events during subsampling.\nDiscarded 282 events during 3-sigma standardization.\nExtracting batch of samples à 5000 events from DVS sequence...\n"
     ]
    },
    {
     "name": "stdout",
     "output_type": "stream",
     "text": [
      "Discarded 199 events during subsampling.\nDiscarded 418 events during 3-sigma standardization.\nExtracting batch of samples à 5000 events from DVS sequence...\nDiscarded 10 events during subsampling.\nDiscarded 709 events during 3-sigma standardization.\nExtracting batch of samples à 5000 events from DVS sequence...\nDiscarded 73 events during subsampling.\nDiscarded 356 events during 3-sigma standardization.\nExtracting batch of samples à 5000 events from DVS sequence...\nDiscarded 225 events during subsampling.\nDiscarded 320 events during 3-sigma standardization.\nExtracting batch of samples à 5000 events from DVS sequence...\nDiscarded 132 events during subsampling.\nDiscarded 386 events during 3-sigma standardization.\nExtracting batch of samples à 5000 events from DVS sequence...\n"
     ]
    },
    {
     "name": "stdout",
     "output_type": "stream",
     "text": [
      "Discarded 465 events during subsampling.\nDiscarded 259 events during 3-sigma standardization.\nExtracting batch of samples à 5000 events from DVS sequence...\nDiscarded 10 events during subsampling.\nDiscarded 295 events during 3-sigma standardization.\nExtracting batch of samples à 5000 events from DVS sequence...\nDiscarded 168 events during subsampling.\nDiscarded 507 events during 3-sigma standardization.\nExtracting batch of samples à 5000 events from DVS sequence...\nDiscarded 880 events during subsampling.\nDiscarded 370 events during 3-sigma standardization.\nExtracting batch of samples à 5000 events from DVS sequence...\nDiscarded 190 events during subsampling.\nDiscarded 375 events during 3-sigma standardization."
     ]
    },
    {
     "name": "stdout",
     "output_type": "stream",
     "text": [
      "\nExtracting batch of samples à 5000 events from DVS sequence...\nDiscarded 354 events during subsampling.\nDiscarded 509 events during 3-sigma standardization.\nExtracting batch of samples à 5000 events from DVS sequence...\nDiscarded 14 events during subsampling.\nDiscarded 353 events during 3-sigma standardization.\nExtracting batch of samples à 5000 events from DVS sequence...\nDiscarded 11 events during subsampling.\nDiscarded 354 events during 3-sigma standardization.\nExtracting batch of samples à 5000 events from DVS sequence...\nDiscarded 1015 events during subsampling.\nDiscarded 459 events during 3-sigma standardization.\nExtracting batch of samples à 5000 events from DVS sequence...\nDiscarded 256 events during subsampling.\nDiscarded 437 events during 3-sigma standardization.\n"
     ]
    },
    {
     "name": "stdout",
     "output_type": "stream",
     "text": [
      "Extracting batch of samples à 5000 events from DVS sequence...\nDiscarded 214 events during subsampling.\nDiscarded 474 events during 3-sigma standardization.\nExtracting batch of samples à 5000 events from DVS sequence...\nDiscarded 31 events during subsampling.\nDiscarded 290 events during 3-sigma standardization.\nExtracting batch of samples à 5000 events from DVS sequence...\nDiscarded 421 events during subsampling.\nDiscarded 401 events during 3-sigma standardization.\nExtracting batch of samples à 5000 events from DVS sequence...\nDiscarded 24 events during subsampling.\nDiscarded 355 events during 3-sigma standardization.\nExtracting batch of samples à 5000 events from DVS sequence...\nDiscarded 109 events during subsampling.\nDiscarded 430 events during 3-sigma standardization.\n"
     ]
    },
    {
     "name": "stdout",
     "output_type": "stream",
     "text": [
      "Extracting batch of samples à 5000 events from DVS sequence...\nDiscarded 353 events during subsampling.\nDiscarded 194 events during 3-sigma standardization.\nExtracting batch of samples à 5000 events from DVS sequence...\nDiscarded 209 events during subsampling.\nDiscarded 352 events during 3-sigma standardization.\nExtracting batch of samples à 5000 events from DVS sequence...\nDiscarded 203 events during subsampling.\nDiscarded 476 events during 3-sigma standardization.\nExtracting batch of samples à 5000 events from DVS sequence...\nDiscarded 368 events during subsampling.\nDiscarded 281 events during 3-sigma standardization.\nExtracting batch of samples à 5000 events from DVS sequence...\nDiscarded 223 events during subsampling.\nDiscarded 395 events during 3-sigma standardization."
     ]
    },
    {
     "name": "stdout",
     "output_type": "stream",
     "text": [
      "\nExtracting batch of samples à 5000 events from DVS sequence...\nDiscarded 281 events during subsampling.\nDiscarded 409 events during 3-sigma standardization.\nExtracting batch of samples à 5000 events from DVS sequence...\nDiscarded 938 events during subsampling.\nDiscarded 397 events during 3-sigma standardization.\nExtracting batch of samples à 5000 events from DVS sequence...\nDiscarded 366 events during subsampling.\nDiscarded 430 events during 3-sigma standardization.\nExtracting batch of samples à 5000 events from DVS sequence...\nDiscarded 184 events during subsampling.\nDiscarded 322 events during 3-sigma standardization.\nExtracting batch of samples à 5000 events from DVS sequence...\nDiscarded 652 events during subsampling.\nDiscarded 443 events during 3-sigma standardization.\n"
     ]
    },
    {
     "name": "stdout",
     "output_type": "stream",
     "text": [
      "Extracting batch of samples à 5000 events from DVS sequence...\nDiscarded 1224 events during subsampling.\nDiscarded 267 events during 3-sigma standardization.\nExtracting batch of samples à 5000 events from DVS sequence...\nDiscarded 189 events during subsampling.\nDiscarded 346 events during 3-sigma standardization.\nExtracting batch of samples à 5000 events from DVS sequence...\nDiscarded 355 events during subsampling.\nDiscarded 261 events during 3-sigma standardization.\nExtracting batch of samples à 5000 events from DVS sequence...\nDiscarded 376 events during subsampling.\nDiscarded 281 events during 3-sigma standardization.\nExtracting batch of samples à 5000 events from DVS sequence...\nDiscarded 8 events during subsampling.\nDiscarded 349 events during 3-sigma standardization.\n"
     ]
    },
    {
     "name": "stdout",
     "output_type": "stream",
     "text": [
      "Extracting batch of samples à 5000 events from DVS sequence...\nDiscarded 2157 events during subsampling.\nDiscarded 144 events during 3-sigma standardization.\nExtracting batch of samples à 5000 events from DVS sequence...\nDiscarded 364 events during subsampling.\nDiscarded 288 events during 3-sigma standardization.\nExtracting batch of samples à 5000 events from DVS sequence...\nDiscarded 340 events during subsampling.\nDiscarded 318 events during 3-sigma standardization.\nExtracting batch of samples à 5000 events from DVS sequence...\nDiscarded 327 events during subsampling.\nDiscarded 320 events during 3-sigma standardization.\nExtracting batch of samples à 5000 events from DVS sequence...\nDiscarded 54 events during subsampling.\nDiscarded 345 events during 3-sigma standardization.\nExtracting batch of samples à 5000 events from DVS sequence..."
     ]
    },
    {
     "name": "stdout",
     "output_type": "stream",
     "text": [
      "\nDiscarded 85 events during subsampling.\nDiscarded 310 events during 3-sigma standardization.\nExtracting batch of samples à 5000 events from DVS sequence...\nDiscarded 296 events during subsampling.\nDiscarded 315 events during 3-sigma standardization.\nExtracting batch of samples à 5000 events from DVS sequence...\nDiscarded 268 events during subsampling.\nDiscarded 280 events during 3-sigma standardization.\nExtracting batch of samples à 5000 events from DVS sequence...\nDiscarded 1885 events during subsampling.\nDiscarded 166 events during 3-sigma standardization.\nExtracting batch of samples à 5000 events from DVS sequence...\nDiscarded 316 events during subsampling.\nDiscarded 270 events during 3-sigma standardization.\nExtracting batch of samples à 5000 events from DVS sequence...\n"
     ]
    },
    {
     "name": "stdout",
     "output_type": "stream",
     "text": [
      "Discarded 81 events during subsampling.\nDiscarded 290 events during 3-sigma standardization.\nExtracting batch of samples à 5000 events from DVS sequence...\nDiscarded 387 events during subsampling.\nDiscarded 263 events during 3-sigma standardization.\nExtracting batch of samples à 5000 events from DVS sequence...\nDiscarded 166 events during subsampling.\nDiscarded 391 events during 3-sigma standardization.\nExtracting batch of samples à 5000 events from DVS sequence...\nDiscarded 153 events during subsampling.\nDiscarded 550 events during 3-sigma standardization.\nExtracting batch of samples à 5000 events from DVS sequence...\nDiscarded 1167 events during subsampling.\nDiscarded 319 events during 3-sigma standardization.\nExtracting batch of samples à 5000 events from DVS sequence...\nDiscarded 503 events during subsampling.\nDiscarded 506 events during 3-sigma standardization."
     ]
    },
    {
     "name": "stdout",
     "output_type": "stream",
     "text": [
      "\nExtracting batch of samples à 5000 events from DVS sequence...\nDiscarded 816 events during subsampling.\nDiscarded 324 events during 3-sigma standardization.\nExtracting batch of samples à 5000 events from DVS sequence...\nDiscarded 43 events during subsampling.\nDiscarded 504 events during 3-sigma standardization.\nExtracting batch of samples à 5000 events from DVS sequence...\nDiscarded 434 events during subsampling.\nDiscarded 313 events during 3-sigma standardization.\nExtracting batch of samples à 5000 events from DVS sequence...\nDiscarded 999 events during subsampling.\nDiscarded 262 events during 3-sigma standardization.\nExtracting batch of samples à 5000 events from DVS sequence...\nDiscarded 337 events during subsampling.\nDiscarded 282 events during 3-sigma standardization.\n"
     ]
    },
    {
     "name": "stdout",
     "output_type": "stream",
     "text": [
      "Extracting batch of samples à 5000 events from DVS sequence...\nDiscarded 301 events during subsampling.\nDiscarded 282 events during 3-sigma standardization.\nExtracting batch of samples à 5000 events from DVS sequence...\nDiscarded 84 events during subsampling.\nDiscarded 260 events during 3-sigma standardization.\nExtracting batch of samples à 5000 events from DVS sequence...\nDiscarded 1671 events during subsampling.\nDiscarded 169 events during 3-sigma standardization.\nExtracting batch of samples à 5000 events from DVS sequence...\nDiscarded 273 events during subsampling.\nDiscarded 246 events during 3-sigma standardization.\nExtracting batch of samples à 5000 events from DVS sequence...\nDiscarded 379 events during subsampling.\nDiscarded 237 events during 3-sigma standardization.\nExtracting batch of samples à 5000 events from DVS sequence...\n"
     ]
    },
    {
     "name": "stdout",
     "output_type": "stream",
     "text": [
      "Discarded 311 events during subsampling.\nDiscarded 268 events during 3-sigma standardization.\nExtracting batch of samples à 5000 events from DVS sequence...\nDiscarded 126 events during subsampling.\nDiscarded 310 events during 3-sigma standardization.\nExtracting batch of samples à 5000 events from DVS sequence...\nDiscarded 326 events during subsampling.\nDiscarded 244 events during 3-sigma standardization.\nExtracting batch of samples à 5000 events from DVS sequence...\nDiscarded 88 events during subsampling.\nDiscarded 323 events during 3-sigma standardization.\nExtracting batch of samples à 5000 events from DVS sequence...\nDiscarded 276 events during subsampling.\nDiscarded 225 events during 3-sigma standardization."
     ]
    },
    {
     "name": "stdout",
     "output_type": "stream",
     "text": [
      "\nExtracting batch of samples à 5000 events from DVS sequence...\nDiscarded 21 events during subsampling.\nDiscarded 364 events during 3-sigma standardization.\nExtracting batch of samples à 5000 events from DVS sequence...\nDiscarded 531 events during subsampling.\nDiscarded 311 events during 3-sigma standardization.\nExtracting batch of samples à 5000 events from DVS sequence...\nDiscarded 157 events during subsampling.\nDiscarded 345 events during 3-sigma standardization.\nExtracting batch of samples à 5000 events from DVS sequence...\nDiscarded 350 events during subsampling.\nDiscarded 211 events during 3-sigma standardization.\nExtracting batch of samples à 5000 events from DVS sequence...\nDiscarded 673 events during subsampling.\nDiscarded 282 events during 3-sigma standardization.\n"
     ]
    },
    {
     "name": "stdout",
     "output_type": "stream",
     "text": [
      "Extracting batch of samples à 5000 events from DVS sequence...\nDiscarded 129 events during subsampling.\nDiscarded 285 events during 3-sigma standardization.\nExtracting batch of samples à 5000 events from DVS sequence...\nDiscarded 310 events during subsampling.\nDiscarded 262 events during 3-sigma standardization.\nExtracting batch of samples à 5000 events from DVS sequence...\nDiscarded 316 events during subsampling.\nDiscarded 295 events during 3-sigma standardization.\nExtracting batch of samples à 5000 events from DVS sequence...\nDiscarded 302 events during subsampling.\nDiscarded 233 events during 3-sigma standardization.\nExtracting batch of samples à 5000 events from DVS sequence...\nDiscarded 239 events during subsampling.\nDiscarded 346 events during 3-sigma standardization."
     ]
    },
    {
     "name": "stdout",
     "output_type": "stream",
     "text": [
      "\nExtracting batch of samples à 5000 events from DVS sequence...\nDiscarded 236 events during subsampling.\nDiscarded 250 events during 3-sigma standardization.\nExtracting batch of samples à 5000 events from DVS sequence...\nDiscarded 327 events during subsampling.\nDiscarded 257 events during 3-sigma standardization.\nExtracting batch of samples à 5000 events from DVS sequence...\nDiscarded 769 events during subsampling.\nDiscarded 197 events during 3-sigma standardization.\nExtracting batch of samples à 5000 events from DVS sequence...\nDiscarded 286 events during subsampling.\nDiscarded 252 events during 3-sigma standardization.\nExtracting batch of samples à 5000 events from DVS sequence...\nDiscarded 291 events during subsampling.\nDiscarded 238 events during 3-sigma standardization.\n"
     ]
    },
    {
     "name": "stdout",
     "output_type": "stream",
     "text": [
      "Extracting batch of samples à 5000 events from DVS sequence...\nDiscarded 573 events during subsampling.\nDiscarded 228 events during 3-sigma standardization.\nExtracting batch of samples à 5000 events from DVS sequence...\nDiscarded 651 events during subsampling.\nDiscarded 443 events during 3-sigma standardization.\nExtracting batch of samples à 5000 events from DVS sequence...\nDiscarded 10 events during subsampling.\nDiscarded 369 events during 3-sigma standardization.\nExtracting batch of samples à 5000 events from DVS sequence...\nDiscarded 257 events during subsampling.\nDiscarded 401 events during 3-sigma standardization.\nExtracting batch of samples à 5000 events from DVS sequence...\nDiscarded 6 events during subsampling.\n"
     ]
    },
    {
     "name": "stdout",
     "output_type": "stream",
     "text": [
      "Discarded 437 events during 3-sigma standardization.\nExtracting batch of samples à 5000 events from DVS sequence...\nDiscarded 67 events during subsampling.\nDiscarded 346 events during 3-sigma standardization.\nExtracting batch of samples à 5000 events from DVS sequence...\nDiscarded 487 events during subsampling.\nDiscarded 310 events during 3-sigma standardization.\nExtracting batch of samples à 5000 events from DVS sequence...\nDiscarded 374 events during subsampling.\nDiscarded 242 events during 3-sigma standardization.\nExtracting batch of samples à 5000 events from DVS sequence...\nDiscarded 359 events during subsampling.\nDiscarded 246 events during 3-sigma standardization.\nExtracting batch of samples à 5000 events from DVS sequence...\nDiscarded 182 events during subsampling.\n"
     ]
    },
    {
     "name": "stdout",
     "output_type": "stream",
     "text": [
      "Discarded 321 events during 3-sigma standardization.\nExtracting batch of samples à 5000 events from DVS sequence...\nDiscarded 502 events during subsampling.\nDiscarded 242 events during 3-sigma standardization.\nExtracting batch of samples à 5000 events from DVS sequence...\nDiscarded 484 events during subsampling.\nDiscarded 228 events during 3-sigma standardization.\nExtracting batch of samples à 5000 events from DVS sequence...\nDiscarded 216 events during subsampling.\nDiscarded 256 events during 3-sigma standardization.\nExtracting batch of samples à 5000 events from DVS sequence...\nDiscarded 420 events during subsampling.\nDiscarded 191 events during 3-sigma standardization.\nExtracting batch of samples à 5000 events from DVS sequence...\n"
     ]
    },
    {
     "name": "stdout",
     "output_type": "stream",
     "text": [
      "Discarded 302 events during subsampling.\nDiscarded 324 events during 3-sigma standardization.\nExtracting batch of samples à 5000 events from DVS sequence...\nDiscarded 210 events during subsampling.\nDiscarded 337 events during 3-sigma standardization.\nExtracting batch of samples à 5000 events from DVS sequence...\nDiscarded 512 events during subsampling.\nDiscarded 384 events during 3-sigma standardization.\nExtracting batch of samples à 5000 events from DVS sequence...\nDiscarded 168 events during subsampling.\nDiscarded 480 events during 3-sigma standardization.\nExtracting batch of samples à 5000 events from DVS sequence...\nDiscarded 4 events during subsampling.\nDiscarded 384 events during 3-sigma standardization.\nExtracting batch of samples à 5000 events from DVS sequence...\nDiscarded 311 events during subsampling.\nDiscarded 361 events during 3-sigma standardization."
     ]
    },
    {
     "name": "stdout",
     "output_type": "stream",
     "text": [
      "\nExtracting batch of samples à 5000 events from DVS sequence...\nDiscarded 219 events during subsampling.\nDiscarded 344 events during 3-sigma standardization.\nExtracting batch of samples à 5000 events from DVS sequence...\nDiscarded 681 events during subsampling.\nDiscarded 361 events during 3-sigma standardization.\nExtracting batch of samples à 5000 events from DVS sequence...\nDiscarded 482 events during subsampling.\nDiscarded 298 events during 3-sigma standardization.\nExtracting batch of samples à 5000 events from DVS sequence...\nDiscarded 254 events during subsampling.\nDiscarded 334 events during 3-sigma standardization.\nExtracting batch of samples à 5000 events from DVS sequence...\nDiscarded 13 events during subsampling.\nDiscarded 406 events during 3-sigma standardization.\nExtracting batch of samples à 5000 events from DVS sequence..."
     ]
    },
    {
     "name": "stdout",
     "output_type": "stream",
     "text": [
      "\nDiscarded 221 events during subsampling.\nDiscarded 282 events during 3-sigma standardization.\nExtracting batch of samples à 5000 events from DVS sequence...\nDiscarded 690 events during subsampling.\nDiscarded 239 events during 3-sigma standardization.\nExtracting batch of samples à 5000 events from DVS sequence...\nDiscarded 1345 events during subsampling.\nDiscarded 207 events during 3-sigma standardization.\nExtracting batch of samples à 5000 events from DVS sequence...\nDiscarded 419 events during subsampling.\nDiscarded 202 events during 3-sigma standardization.\nExtracting batch of samples à 5000 events from DVS sequence...\nDiscarded 426 events during subsampling.\nDiscarded 256 events during 3-sigma standardization.\nExtracting batch of samples à 5000 events from DVS sequence...\nDiscarded 400 events during subsampling."
     ]
    },
    {
     "name": "stdout",
     "output_type": "stream",
     "text": [
      "\nDiscarded 230 events during 3-sigma standardization.\nExtracting batch of samples à 5000 events from DVS sequence...\nDiscarded 301 events during subsampling.\nDiscarded 264 events during 3-sigma standardization.\nExtracting batch of samples à 5000 events from DVS sequence...\nDiscarded 387 events during subsampling.\nDiscarded 217 events during 3-sigma standardization.\nExtracting batch of samples à 5000 events from DVS sequence...\nDiscarded 404 events during subsampling.\nDiscarded 189 events during 3-sigma standardization.\nExtracting batch of samples à 5000 events from DVS sequence...\nDiscarded 476 events during subsampling.\nDiscarded 237 events during 3-sigma standardization.\nExtracting batch of samples à 5000 events from DVS sequence...\nDiscarded 543 events during subsampling.\nDiscarded 226 events during 3-sigma standardization.\n"
     ]
    },
    {
     "name": "stdout",
     "output_type": "stream",
     "text": [
      "Extracting batch of samples à 5000 events from DVS sequence...\nDiscarded 374 events during subsampling.\nDiscarded 209 events during 3-sigma standardization.\nExtracting batch of samples à 5000 events from DVS sequence...\nDiscarded 389 events during subsampling.\nDiscarded 253 events during 3-sigma standardization.\nExtracting batch of samples à 5000 events from DVS sequence...\nDiscarded 1814 events during subsampling.\nDiscarded 192 events during 3-sigma standardization.\nExtracting batch of samples à 5000 events from DVS sequence...\nDiscarded 355 events during subsampling.\nDiscarded 259 events during 3-sigma standardization.\nExtracting batch of samples à 5000 events from DVS sequence...\nDiscarded 367 events during subsampling.\nDiscarded 243 events during 3-sigma standardization.\n"
     ]
    },
    {
     "name": "stdout",
     "output_type": "stream",
     "text": [
      "Extracting batch of samples à 5000 events from DVS sequence...\nDiscarded 703 events during subsampling.\nDiscarded 278 events during 3-sigma standardization.\nExtracting batch of samples à 5000 events from DVS sequence...\nDiscarded 360 events during subsampling.\nDiscarded 219 events during 3-sigma standardization.\nExtracting batch of samples à 5000 events from DVS sequence...\nDiscarded 326 events during subsampling.\nDiscarded 268 events during 3-sigma standardization.\nExtracting batch of samples à 5000 events from DVS sequence...\nDiscarded 695 events during subsampling.\nDiscarded 231 events during 3-sigma standardization.\nExtracting batch of samples à 5000 events from DVS sequence...\nDiscarded 159 events during subsampling.\nDiscarded 541 events during 3-sigma standardization.\nExtracting batch of samples à 5000 events from DVS sequence..."
     ]
    },
    {
     "name": "stdout",
     "output_type": "stream",
     "text": [
      "\nDiscarded 179 events during subsampling.\nDiscarded 400 events during 3-sigma standardization.\nExtracting batch of samples à 5000 events from DVS sequence...\nDiscarded 207 events during subsampling.\nDiscarded 440 events during 3-sigma standardization.\nExtracting batch of samples à 5000 events from DVS sequence...\nDiscarded 627 events during subsampling.\nDiscarded 382 events during 3-sigma standardization.\nExtracting batch of samples à 5000 events from DVS sequence...\nDiscarded 499 events during subsampling.\nDiscarded 259 events during 3-sigma standardization.\nExtracting batch of samples à 5000 events from DVS sequence...\nDiscarded 381 events during subsampling.\nDiscarded 248 events during 3-sigma standardization.\nExtracting batch of samples à 5000 events from DVS sequence...\nDiscarded 77 events during subsampling.\nDiscarded 341 events during 3-sigma standardization."
     ]
    },
    {
     "name": "stdout",
     "output_type": "stream",
     "text": [
      "\nExtracting batch of samples à 5000 events from DVS sequence...\nDiscarded 2133 events during subsampling.\nDiscarded 155 events during 3-sigma standardization.\nExtracting batch of samples à 5000 events from DVS sequence...\nDiscarded 349 events during subsampling.\nDiscarded 296 events during 3-sigma standardization.\nExtracting batch of samples à 5000 events from DVS sequence...\nDiscarded 349 events during subsampling.\nDiscarded 284 events during 3-sigma standardization.\nExtracting batch of samples à 5000 events from DVS sequence...\nDiscarded 428 events during subsampling.\nDiscarded 242 events during 3-sigma standardization.\nExtracting batch of samples à 5000 events from DVS sequence...\nDiscarded 403 events during subsampling.\nDiscarded 304 events during 3-sigma standardization.\nExtracting batch of samples à 5000 events from DVS sequence...\n"
     ]
    },
    {
     "name": "stdout",
     "output_type": "stream",
     "text": [
      "Discarded 384 events during subsampling.\nDiscarded 247 events during 3-sigma standardization.\nExtracting batch of samples à 5000 events from DVS sequence...\nDiscarded 374 events during subsampling.\nDiscarded 291 events during 3-sigma standardization.\nExtracting batch of samples à 5000 events from DVS sequence...\nDiscarded 510 events during subsampling.\nDiscarded 296 events during 3-sigma standardization.\nExtracting batch of samples à 5000 events from DVS sequence...\nDiscarded 404 events during subsampling.\nDiscarded 298 events during 3-sigma standardization.\nExtracting batch of samples à 5000 events from DVS sequence...\nDiscarded 336 events during subsampling.\nDiscarded 232 events during 3-sigma standardization.\nExtracting batch of samples à 5000 events from DVS sequence...\nDiscarded 333 events during subsampling."
     ]
    },
    {
     "name": "stdout",
     "output_type": "stream",
     "text": [
      "\nDiscarded 249 events during 3-sigma standardization.\nExtracting batch of samples à 5000 events from DVS sequence...\nDiscarded 1864 events during subsampling.\nDiscarded 168 events during 3-sigma standardization.\nExtracting batch of samples à 5000 events from DVS sequence...\nDiscarded 117 events during subsampling.\nDiscarded 285 events during 3-sigma standardization.\nExtracting batch of samples à 5000 events from DVS sequence...\nDiscarded 251 events during subsampling.\nDiscarded 429 events during 3-sigma standardization.\nExtracting batch of samples à 5000 events from DVS sequence...\nDiscarded 304 events during subsampling.\nDiscarded 426 events during 3-sigma standardization.\nExtracting batch of samples à 5000 events from DVS sequence...\nDiscarded 215 events during subsampling.\nDiscarded 392 events during 3-sigma standardization."
     ]
    },
    {
     "name": "stdout",
     "output_type": "stream",
     "text": [
      "\nExtracting batch of samples à 5000 events from DVS sequence...\nDiscarded 176 events during subsampling.\nDiscarded 479 events during 3-sigma standardization.\nExtracting batch of samples à 5000 events from DVS sequence...\nDiscarded 275 events during subsampling.\nDiscarded 497 events during 3-sigma standardization.\nExtracting batch of samples à 5000 events from DVS sequence...\nDiscarded 662 events during subsampling.\nDiscarded 400 events during 3-sigma standardization.\nExtracting batch of samples à 5000 events from DVS sequence...\nDiscarded 297 events during subsampling.\nDiscarded 395 events during 3-sigma standardization.\nExtracting batch of samples à 5000 events from DVS sequence...\nDiscarded 9 events during subsampling.\nDiscarded 426 events during 3-sigma standardization.\n"
     ]
    },
    {
     "name": "stdout",
     "output_type": "stream",
     "text": [
      "Extracting batch of samples à 5000 events from DVS sequence...\nDiscarded 784 events during subsampling.\nDiscarded 379 events during 3-sigma standardization.\nExtracting batch of samples à 5000 events from DVS sequence...\nDiscarded 15 events during subsampling.\nDiscarded 588 events during 3-sigma standardization.\nExtracting batch of samples à 5000 events from DVS sequence...\nDiscarded 465 events during subsampling.\nDiscarded 463 events during 3-sigma standardization.\nExtracting batch of samples à 5000 events from DVS sequence...\nDiscarded 806 events during subsampling.\nDiscarded 285 events during 3-sigma standardization.\nExtracting batch of samples à 5000 events from DVS sequence...\nDiscarded 256 events during subsampling.\nDiscarded 485 events during 3-sigma standardization.\nExtracting batch of samples à 5000 events from DVS sequence..."
     ]
    },
    {
     "name": "stdout",
     "output_type": "stream",
     "text": [
      "\nDiscarded 302 events during subsampling.\nDiscarded 327 events during 3-sigma standardization.\nExtracting batch of samples à 5000 events from DVS sequence...\nDiscarded 11 events during subsampling.\nDiscarded 225 events during 3-sigma standardization.\nExtracting batch of samples à 5000 events from DVS sequence...\nDiscarded 581 events during subsampling.\nDiscarded 390 events during 3-sigma standardization.\nExtracting batch of samples à 5000 events from DVS sequence...\nDiscarded 9 events during subsampling.\nDiscarded 386 events during 3-sigma standardization.\nExtracting batch of samples à 5000 events from DVS sequence...\nDiscarded 579 events during subsampling.\nDiscarded 393 events during 3-sigma standardization.\nExtracting batch of samples à 5000 events from DVS sequence...\n"
     ]
    },
    {
     "name": "stdout",
     "output_type": "stream",
     "text": [
      "Discarded 236 events during subsampling.\nDiscarded 416 events during 3-sigma standardization.\nExtracting batch of samples à 5000 events from DVS sequence...\nDiscarded 787 events during subsampling.\nDiscarded 316 events during 3-sigma standardization.\nExtracting batch of samples à 5000 events from DVS sequence...\nDiscarded 310 events during subsampling.\nDiscarded 410 events during 3-sigma standardization.\nExtracting batch of samples à 5000 events from DVS sequence...\nDiscarded 10 events during subsampling.\nDiscarded 414 events during 3-sigma standardization.\nExtracting batch of samples à 5000 events from DVS sequence...\nDiscarded 831 events during subsampling.\nDiscarded 286 events during 3-sigma standardization.\nExtracting batch of samples à 5000 events from DVS sequence...\nDiscarded 1147 events during subsampling."
     ]
    },
    {
     "name": "stdout",
     "output_type": "stream",
     "text": [
      "\nDiscarded 382 events during 3-sigma standardization.\nExtracting batch of samples à 5000 events from DVS sequence...\nDiscarded 205 events during subsampling.\nDiscarded 388 events during 3-sigma standardization.\nExtracting batch of samples à 5000 events from DVS sequence...\nDiscarded 1093 events during subsampling.\nDiscarded 314 events during 3-sigma standardization.\nExtracting batch of samples à 5000 events from DVS sequence...\nDiscarded 74 events during subsampling.\nDiscarded 501 events during 3-sigma standardization.\nExtracting batch of samples à 5000 events from DVS sequence...\nDiscarded 480 events during subsampling.\nDiscarded 284 events during 3-sigma standardization.\nExtracting batch of samples à 5000 events from DVS sequence...\nDiscarded 444 events during subsampling.\nDiscarded 351 events during 3-sigma standardization.\nExtracting batch of samples à 5000 events from DVS sequence..."
     ]
    },
    {
     "name": "stdout",
     "output_type": "stream",
     "text": [
      "\nDiscarded 358 events during subsampling.\nDiscarded 339 events during 3-sigma standardization.\nExtracting batch of samples à 5000 events from DVS sequence...\nDiscarded 460 events during subsampling.\nDiscarded 299 events during 3-sigma standardization.\nExtracting batch of samples à 5000 events from DVS sequence...\nDiscarded 464 events during subsampling.\nDiscarded 267 events during 3-sigma standardization.\nExtracting batch of samples à 5000 events from DVS sequence...\nDiscarded 1008 events during subsampling.\nDiscarded 265 events during 3-sigma standardization.\nExtracting batch of samples à 5000 events from DVS sequence...\nDiscarded 466 events during subsampling.\nDiscarded 251 events during 3-sigma standardization.\nExtracting batch of samples à 5000 events from DVS sequence...\nDiscarded 469 events during subsampling."
     ]
    },
    {
     "name": "stdout",
     "output_type": "stream",
     "text": [
      "\nDiscarded 246 events during 3-sigma standardization.\nExtracting batch of samples à 5000 events from DVS sequence...\nDiscarded 429 events during subsampling.\nDiscarded 288 events during 3-sigma standardization.\nExtracting batch of samples à 5000 events from DVS sequence...\nDiscarded 457 events during subsampling.\nDiscarded 285 events during 3-sigma standardization.\nExtracting batch of samples à 5000 events from DVS sequence...\nDiscarded 1337 events during subsampling.\nDiscarded 212 events during 3-sigma standardization.\nExtracting batch of samples à 5000 events from DVS sequence...\nDiscarded 288 events during subsampling.\nDiscarded 334 events during 3-sigma standardization.\nExtracting batch of samples à 5000 events from DVS sequence...\n"
     ]
    },
    {
     "name": "stdout",
     "output_type": "stream",
     "text": [
      "Discarded 444 events during subsampling.\nDiscarded 305 events during 3-sigma standardization.\nExtracting batch of samples à 5000 events from DVS sequence...\nDiscarded 469 events during subsampling.\nDiscarded 283 events during 3-sigma standardization.\nExtracting batch of samples à 5000 events from DVS sequence...\nDiscarded 425 events during subsampling.\nDiscarded 300 events during 3-sigma standardization.\nExtracting batch of samples à 5000 events from DVS sequence...\nDiscarded 405 events during subsampling.\nDiscarded 286 events during 3-sigma standardization.\nExtracting batch of samples à 5000 events from DVS sequence...\nDiscarded 1682 events during subsampling.\nDiscarded 206 events during 3-sigma standardization.\nExtracting batch of samples à 5000 events from DVS sequence...\n"
     ]
    },
    {
     "name": "stdout",
     "output_type": "stream",
     "text": [
      "Discarded 375 events during subsampling.\nDiscarded 284 events during 3-sigma standardization.\nExtracting batch of samples à 5000 events from DVS sequence...\nDiscarded 378 events during subsampling.\nDiscarded 336 events during 3-sigma standardization.\nExtracting batch of samples à 5000 events from DVS sequence...\nDiscarded 274 events during subsampling.\nDiscarded 305 events during 3-sigma standardization.\nExtracting batch of samples à 5000 events from DVS sequence...\nDiscarded 71 events during subsampling.\nDiscarded 242 events during 3-sigma standardization.\nExtracting batch of samples à 5000 events from DVS sequence...\nDiscarded 314 events during subsampling.\nDiscarded 587 events during 3-sigma standardization.\nExtracting batch of samples à 5000 events from DVS sequence...\n"
     ]
    },
    {
     "name": "stdout",
     "output_type": "stream",
     "text": [
      "Discarded 3 events during subsampling.\nDiscarded 413 events during 3-sigma standardization.\nExtracting batch of samples à 5000 events from DVS sequence...\nDiscarded 26 events during subsampling.\nDiscarded 365 events during 3-sigma standardization.\nExtracting batch of samples à 5000 events from DVS sequence...\nDiscarded 383 events during subsampling.\nDiscarded 604 events during 3-sigma standardization.\nExtracting batch of samples à 5000 events from DVS sequence...\nDiscarded 371 events during subsampling.\nDiscarded 225 events during 3-sigma standardization.\nExtracting batch of samples à 5000 events from DVS sequence...\nDiscarded 329 events during subsampling.\nDiscarded 237 events during 3-sigma standardization.\nExtracting batch of samples à 5000 events from DVS sequence...\nDiscarded 350 events during subsampling.\nDiscarded 259 events during 3-sigma standardization."
     ]
    },
    {
     "name": "stdout",
     "output_type": "stream",
     "text": [
      "\nExtracting batch of samples à 5000 events from DVS sequence...\nDiscarded 1133 events during subsampling.\nDiscarded 281 events during 3-sigma standardization.\nExtracting batch of samples à 5000 events from DVS sequence...\nDiscarded 345 events during subsampling.\nDiscarded 274 events during 3-sigma standardization.\nExtracting batch of samples à 5000 events from DVS sequence...\nDiscarded 2046 events during subsampling.\nDiscarded 131 events during 3-sigma standardization.\nExtracting batch of samples à 5000 events from DVS sequence...\nDiscarded 312 events during subsampling.\nDiscarded 247 events during 3-sigma standardization.\nExtracting batch of samples à 5000 events from DVS sequence...\nDiscarded 1098 events during subsampling.\nDiscarded 217 events during 3-sigma standardization.\nExtracting batch of samples à 5000 events from DVS sequence..."
     ]
    },
    {
     "name": "stdout",
     "output_type": "stream",
     "text": [
      "\nDiscarded 313 events during subsampling.\nDiscarded 222 events during 3-sigma standardization.\nExtracting batch of samples à 5000 events from DVS sequence...\nDiscarded 909 events during subsampling.\nDiscarded 179 events during 3-sigma standardization.\nExtracting batch of samples à 5000 events from DVS sequence...\nDiscarded 285 events during subsampling.\nDiscarded 249 events during 3-sigma standardization.\nExtracting batch of samples à 5000 events from DVS sequence...\nDiscarded 315 events during subsampling.\nDiscarded 251 events during 3-sigma standardization.\nExtracting batch of samples à 5000 events from DVS sequence...\nDiscarded 314 events during subsampling.\nDiscarded 296 events during 3-sigma standardization.\nExtracting batch of samples à 5000 events from DVS sequence...\n"
     ]
    },
    {
     "name": "stdout",
     "output_type": "stream",
     "text": [
      "Discarded 790 events during subsampling.\nDiscarded 247 events during 3-sigma standardization.\nExtracting batch of samples à 5000 events from DVS sequence...\nDiscarded 291 events during subsampling.\nDiscarded 240 events during 3-sigma standardization.\nExtracting batch of samples à 5000 events from DVS sequence...\nDiscarded 2402 events during subsampling.\nDiscarded 81 events during 3-sigma standardization.\nExtracting batch of samples à 5000 events from DVS sequence...\nDiscarded 266 events during subsampling.\nDiscarded 250 events during 3-sigma standardization.\nExtracting batch of samples à 5000 events from DVS sequence...\nDiscarded 330 events during subsampling.\nDiscarded 242 events during 3-sigma standardization."
     ]
    },
    {
     "name": "stdout",
     "output_type": "stream",
     "text": [
      "\nExtracting batch of samples à 5000 events from DVS sequence...\nDiscarded 147 events during subsampling.\nDiscarded 280 events during 3-sigma standardization.\nExtracting batch of samples à 5000 events from DVS sequence...\nDiscarded 151 events during subsampling.\nDiscarded 366 events during 3-sigma standardization.\nExtracting batch of samples à 5000 events from DVS sequence...\nDiscarded 1010 events during subsampling.\nDiscarded 318 events during 3-sigma standardization.\nExtracting batch of samples à 5000 events from DVS sequence...\nDiscarded 443 events during subsampling.\nDiscarded 395 events during 3-sigma standardization.\nExtracting batch of samples à 5000 events from DVS sequence...\nDiscarded 130 events during subsampling.\nDiscarded 356 events during 3-sigma standardization.\n"
     ]
    },
    {
     "name": "stdout",
     "output_type": "stream",
     "text": [
      "Extracting batch of samples à 5000 events from DVS sequence...\nDiscarded 216 events during subsampling.\nDiscarded 527 events during 3-sigma standardization.\nExtracting batch of samples à 5000 events from DVS sequence...\nDiscarded 150 events during subsampling.\nDiscarded 612 events during 3-sigma standardization.\nExtracting batch of samples à 5000 events from DVS sequence...\nDiscarded 331 events during subsampling.\nDiscarded 808 events during 3-sigma standardization.\nExtracting batch of samples à 5000 events from DVS sequence...\nDiscarded 439 events during subsampling.\nDiscarded 509 events during 3-sigma standardization.\nExtracting batch of samples à 5000 events from DVS sequence...\nDiscarded 209 events during subsampling.\nDiscarded 302 events during 3-sigma standardization.\n"
     ]
    },
    {
     "name": "stdout",
     "output_type": "stream",
     "text": [
      "Extracting batch of samples à 5000 events from DVS sequence...\nDiscarded 266 events during subsampling.\nDiscarded 334 events during 3-sigma standardization.\nExtracting batch of samples à 5000 events from DVS sequence...\nDiscarded 378 events during subsampling.\nDiscarded 381 events during 3-sigma standardization.\nExtracting batch of samples à 5000 events from DVS sequence...\nDiscarded 10 events during subsampling.\nDiscarded 609 events during 3-sigma standardization.\nExtracting batch of samples à 5000 events from DVS sequence...\nDiscarded 178 events during subsampling.\nDiscarded 409 events during 3-sigma standardization.\nExtracting batch of samples à 5000 events from DVS sequence...\nDiscarded 433 events during subsampling.\nDiscarded 394 events during 3-sigma standardization.\n"
     ]
    },
    {
     "name": "stdout",
     "output_type": "stream",
     "text": [
      "Extracting batch of samples à 5000 events from DVS sequence...\nDiscarded 875 events during subsampling.\nDiscarded 366 events during 3-sigma standardization.\nExtracting batch of samples à 5000 events from DVS sequence...\nDiscarded 413 events during subsampling.\nDiscarded 382 events during 3-sigma standardization.\nExtracting batch of samples à 5000 events from DVS sequence...\nDiscarded 862 events during subsampling.\nDiscarded 296 events during 3-sigma standardization.\nExtracting batch of samples à 5000 events from DVS sequence...\nDiscarded 264 events during subsampling.\nDiscarded 262 events during 3-sigma standardization.\nExtracting batch of samples à 5000 events from DVS sequence...\nDiscarded 919 events during subsampling.\nDiscarded 266 events during 3-sigma standardization.\nExtracting batch of samples à 5000 events from DVS sequence...\n"
     ]
    },
    {
     "name": "stdout",
     "output_type": "stream",
     "text": [
      "Discarded 122 events during subsampling.\nDiscarded 457 events during 3-sigma standardization.\nExtracting batch of samples à 5000 events from DVS sequence...\nDiscarded 91 events during subsampling.\nDiscarded 300 events during 3-sigma standardization.\nExtracting batch of samples à 5000 events from DVS sequence...\nDiscarded 268 events during subsampling.\nDiscarded 341 events during 3-sigma standardization.\nExtracting batch of samples à 5000 events from DVS sequence...\nDiscarded 133 events during subsampling.\nDiscarded 429 events during 3-sigma standardization.\nExtracting batch of samples à 5000 events from DVS sequence...\nDiscarded 1005 events during subsampling.\nDiscarded 198 events during 3-sigma standardization.\nExtracting batch of samples à 5000 events from DVS sequence...\nDiscarded 846 events during subsampling.\nDiscarded 347 events during 3-sigma standardization.\n"
     ]
    },
    {
     "name": "stdout",
     "output_type": "stream",
     "text": [
      "Extracting batch of samples à 5000 events from DVS sequence...\nDiscarded 341 events during subsampling.\nDiscarded 361 events during 3-sigma standardization.\nExtracting batch of samples à 5000 events from DVS sequence...\nDiscarded 462 events during subsampling.\nDiscarded 269 events during 3-sigma standardization.\nExtracting batch of samples à 5000 events from DVS sequence...\nDiscarded 1830 events during subsampling.\nDiscarded 196 events during 3-sigma standardization.\nExtracting batch of samples à 5000 events from DVS sequence...\nDiscarded 485 events during subsampling.\nDiscarded 313 events during 3-sigma standardization.\nExtracting batch of samples à 5000 events from DVS sequence...\nDiscarded 277 events during subsampling.\n"
     ]
    },
    {
     "name": "stdout",
     "output_type": "stream",
     "text": [
      "Discarded 321 events during 3-sigma standardization.\nExtracting batch of samples à 5000 events from DVS sequence...\nDiscarded 1870 events during subsampling.\nDiscarded 176 events during 3-sigma standardization.\nExtracting batch of samples à 5000 events from DVS sequence...\nDiscarded 470 events during subsampling.\nDiscarded 307 events during 3-sigma standardization.\nExtracting batch of samples à 5000 events from DVS sequence...\nDiscarded 433 events during subsampling.\nDiscarded 301 events during 3-sigma standardization.\nExtracting batch of samples à 5000 events from DVS sequence...\nDiscarded 320 events during subsampling.\nDiscarded 274 events during 3-sigma standardization.\nExtracting batch of samples à 5000 events from DVS sequence...\nDiscarded 346 events during subsampling.\nDiscarded 301 events during 3-sigma standardization.\n"
     ]
    },
    {
     "name": "stdout",
     "output_type": "stream",
     "text": [
      "Extracting batch of samples à 5000 events from DVS sequence...\nDiscarded 288 events during subsampling.\nDiscarded 329 events during 3-sigma standardization.\nExtracting batch of samples à 5000 events from DVS sequence...\nDiscarded 396 events during subsampling.\nDiscarded 343 events during 3-sigma standardization.\nExtracting batch of samples à 5000 events from DVS sequence...\nDiscarded 278 events during subsampling.\nDiscarded 359 events during 3-sigma standardization.\nExtracting batch of samples à 5000 events from DVS sequence...\nDiscarded 7 events during subsampling.\nDiscarded 452 events during 3-sigma standardization.\nLoading DVS sample /home/rbodo/.snntoolbox/Datasets/predator_prey/aedat/not_balanced_4834samples/N/rec_9.aedat...\n"
     ]
    },
    {
     "name": "stdout",
     "output_type": "stream",
     "text": [
      "Total number of events of this sample: 615000.\nNumber of batches: 123.\nExtracting 123 frames from DVS event sequence.\n"
     ]
    },
    {
     "name": "stdout",
     "output_type": "stream",
     "text": [
      "Extracting batch of samples à 5000 events from DVS sequence...\nDiscarded 318 events during subsampling.\nDiscarded 452 events during 3-sigma standardization.\nExtracting batch of samples à 5000 events from DVS sequence...\nDiscarded 406 events during subsampling.\nDiscarded 355 events during 3-sigma standardization.\nExtracting batch of samples à 5000 events from DVS sequence...\nDiscarded 581 events during subsampling.\nDiscarded 292 events during 3-sigma standardization.\nExtracting batch of samples à 5000 events from DVS sequence...\nDiscarded 638 events during subsampling.\nDiscarded 367 events during 3-sigma standardization.\nExtracting batch of samples à 5000 events from DVS sequence...\nDiscarded 494 events during subsampling."
     ]
    },
    {
     "name": "stdout",
     "output_type": "stream",
     "text": [
      "\nDiscarded 365 events during 3-sigma standardization.\nExtracting batch of samples à 5000 events from DVS sequence...\nDiscarded 1056 events during subsampling.\nDiscarded 290 events during 3-sigma standardization.\nExtracting batch of samples à 5000 events from DVS sequence...\nDiscarded 268 events during subsampling.\nDiscarded 425 events during 3-sigma standardization.\nExtracting batch of samples à 5000 events from DVS sequence...\nDiscarded 368 events during subsampling.\nDiscarded 391 events during 3-sigma standardization.\nExtracting batch of samples à 5000 events from DVS sequence...\nDiscarded 263 events during subsampling.\nDiscarded 254 events during 3-sigma standardization.\nExtracting batch of samples à 5000 events from DVS sequence...\nDiscarded 336 events during subsampling.\nDiscarded 330 events during 3-sigma standardization.\n"
     ]
    },
    {
     "name": "stdout",
     "output_type": "stream",
     "text": [
      "Extracting batch of samples à 5000 events from DVS sequence...\nDiscarded 171 events during subsampling.\nDiscarded 290 events during 3-sigma standardization.\nExtracting batch of samples à 5000 events from DVS sequence...\nDiscarded 94 events during subsampling.\nDiscarded 342 events during 3-sigma standardization.\nExtracting batch of samples à 5000 events from DVS sequence...\nDiscarded 49 events during subsampling.\nDiscarded 376 events during 3-sigma standardization.\nExtracting batch of samples à 5000 events from DVS sequence...\nDiscarded 40 events during subsampling.\nDiscarded 320 events during 3-sigma standardization.\nExtracting batch of samples à 5000 events from DVS sequence...\nDiscarded 194 events during subsampling.\nDiscarded 247 events during 3-sigma standardization."
     ]
    },
    {
     "name": "stdout",
     "output_type": "stream",
     "text": [
      "\nExtracting batch of samples à 5000 events from DVS sequence...\nDiscarded 39 events during subsampling.\nDiscarded 338 events during 3-sigma standardization.\nExtracting batch of samples à 5000 events from DVS sequence...\nDiscarded 278 events during subsampling.\nDiscarded 296 events during 3-sigma standardization.\nExtracting batch of samples à 5000 events from DVS sequence...\nDiscarded 1137 events during subsampling.\nDiscarded 224 events during 3-sigma standardization.\nExtracting batch of samples à 5000 events from DVS sequence...\nDiscarded 179 events during subsampling.\nDiscarded 327 events during 3-sigma standardization.\nExtracting batch of samples à 5000 events from DVS sequence...\nDiscarded 1721 events during subsampling.\nDiscarded 199 events during 3-sigma standardization.\nExtracting batch of samples à 5000 events from DVS sequence...\n"
     ]
    },
    {
     "name": "stdout",
     "output_type": "stream",
     "text": [
      "Discarded 961 events during subsampling.\nDiscarded 261 events during 3-sigma standardization.\nExtracting batch of samples à 5000 events from DVS sequence...\nDiscarded 53 events during subsampling.\nDiscarded 283 events during 3-sigma standardization.\nExtracting batch of samples à 5000 events from DVS sequence...\nDiscarded 1044 events during subsampling.\nDiscarded 231 events during 3-sigma standardization.\nExtracting batch of samples à 5000 events from DVS sequence...\nDiscarded 120 events during subsampling.\nDiscarded 295 events during 3-sigma standardization.\nExtracting batch of samples à 5000 events from DVS sequence...\nDiscarded 1234 events during subsampling.\nDiscarded 246 events during 3-sigma standardization.\n"
     ]
    },
    {
     "name": "stdout",
     "output_type": "stream",
     "text": [
      "Extracting batch of samples à 5000 events from DVS sequence...\nDiscarded 262 events during subsampling.\nDiscarded 195 events during 3-sigma standardization.\nExtracting batch of samples à 5000 events from DVS sequence...\nDiscarded 325 events during subsampling.\nDiscarded 256 events during 3-sigma standardization.\nExtracting batch of samples à 5000 events from DVS sequence...\nDiscarded 274 events during subsampling.\nDiscarded 209 events during 3-sigma standardization.\nExtracting batch of samples à 5000 events from DVS sequence...\nDiscarded 168 events during subsampling.\nDiscarded 791 events during 3-sigma standardization.\nExtracting batch of samples à 5000 events from DVS sequence...\nDiscarded 246 events during subsampling.\nDiscarded 941 events during 3-sigma standardization.\n"
     ]
    },
    {
     "name": "stdout",
     "output_type": "stream",
     "text": [
      "Extracting batch of samples à 5000 events from DVS sequence...\nDiscarded 189 events during subsampling.\nDiscarded 728 events during 3-sigma standardization.\nExtracting batch of samples à 5000 events from DVS sequence...\nDiscarded 254 events during subsampling.\nDiscarded 831 events during 3-sigma standardization.\nExtracting batch of samples à 5000 events from DVS sequence...\nDiscarded 321 events during subsampling.\nDiscarded 567 events during 3-sigma standardization.\nExtracting batch of samples à 5000 events from DVS sequence...\nDiscarded 164 events during subsampling.\nDiscarded 619 events during 3-sigma standardization.\nExtracting batch of samples à 5000 events from DVS sequence...\nDiscarded 310 events during subsampling."
     ]
    },
    {
     "name": "stdout",
     "output_type": "stream",
     "text": [
      "\nDiscarded 1506 events during 3-sigma standardization.\nExtracting batch of samples à 5000 events from DVS sequence...\nDiscarded 333 events during subsampling.\nDiscarded 810 events during 3-sigma standardization.\nExtracting batch of samples à 5000 events from DVS sequence...\nDiscarded 164 events during subsampling.\nDiscarded 929 events during 3-sigma standardization.\nExtracting batch of samples à 5000 events from DVS sequence...\nDiscarded 251 events during subsampling.\nDiscarded 833 events during 3-sigma standardization.\nExtracting batch of samples à 5000 events from DVS sequence...\nDiscarded 171 events during subsampling.\nDiscarded 875 events during 3-sigma standardization.\nExtracting batch of samples à 5000 events from DVS sequence...\nDiscarded 177 events during subsampling.\nDiscarded 1218 events during 3-sigma standardization.\n"
     ]
    },
    {
     "name": "stdout",
     "output_type": "stream",
     "text": [
      "Extracting batch of samples à 5000 events from DVS sequence...\nDiscarded 133 events during subsampling.\nDiscarded 576 events during 3-sigma standardization.\nExtracting batch of samples à 5000 events from DVS sequence...\nDiscarded 367 events during subsampling.\nDiscarded 1546 events during 3-sigma standardization.\nExtracting batch of samples à 5000 events from DVS sequence...\nDiscarded 465 events during subsampling.\nDiscarded 1249 events during 3-sigma standardization.\nExtracting batch of samples à 5000 events from DVS sequence...\nDiscarded 365 events during subsampling.\nDiscarded 1866 events during 3-sigma standardization.\nExtracting batch of samples à 5000 events from DVS sequence...\nDiscarded 811 events during subsampling.\nDiscarded 375 events during 3-sigma standardization.\nExtracting batch of samples à 5000 events from DVS sequence...\n"
     ]
    },
    {
     "name": "stdout",
     "output_type": "stream",
     "text": [
      "Discarded 1218 events during subsampling.\nDiscarded 376 events during 3-sigma standardization.\nExtracting batch of samples à 5000 events from DVS sequence...\nDiscarded 295 events during subsampling.\nDiscarded 1626 events during 3-sigma standardization.\nExtracting batch of samples à 5000 events from DVS sequence...\nDiscarded 265 events during subsampling.\nDiscarded 840 events during 3-sigma standardization.\nExtracting batch of samples à 5000 events from DVS sequence...\nDiscarded 569 events during subsampling.\nDiscarded 648 events during 3-sigma standardization.\nExtracting batch of samples à 5000 events from DVS sequence...\nDiscarded 275 events during subsampling.\nDiscarded 600 events during 3-sigma standardization.\nExtracting batch of samples à 5000 events from DVS sequence...\n"
     ]
    },
    {
     "name": "stdout",
     "output_type": "stream",
     "text": [
      "Discarded 636 events during subsampling.\nDiscarded 465 events during 3-sigma standardization.\nExtracting batch of samples à 5000 events from DVS sequence...\nDiscarded 960 events during subsampling.\nDiscarded 389 events during 3-sigma standardization.\nExtracting batch of samples à 5000 events from DVS sequence...\nDiscarded 309 events during subsampling.\nDiscarded 595 events during 3-sigma standardization.\nExtracting batch of samples à 5000 events from DVS sequence...\nDiscarded 786 events during subsampling.\nDiscarded 315 events during 3-sigma standardization.\nExtracting batch of samples à 5000 events from DVS sequence...\nDiscarded 505 events during subsampling.\nDiscarded 409 events during 3-sigma standardization.\nExtracting batch of samples à 5000 events from DVS sequence...\n"
     ]
    },
    {
     "name": "stdout",
     "output_type": "stream",
     "text": [
      "Discarded 657 events during subsampling.\nDiscarded 455 events during 3-sigma standardization.\nExtracting batch of samples à 5000 events from DVS sequence...\nDiscarded 82 events during subsampling.\nDiscarded 317 events during 3-sigma standardization.\nExtracting batch of samples à 5000 events from DVS sequence...\nDiscarded 644 events during subsampling.\nDiscarded 314 events during 3-sigma standardization.\nExtracting batch of samples à 5000 events from DVS sequence...\nDiscarded 244 events during subsampling.\nDiscarded 339 events during 3-sigma standardization.\nExtracting batch of samples à 5000 events from DVS sequence...\nDiscarded 293 events during subsampling.\nDiscarded 539 events during 3-sigma standardization.\nExtracting batch of samples à 5000 events from DVS sequence...\nDiscarded 431 events during subsampling."
     ]
    },
    {
     "name": "stdout",
     "output_type": "stream",
     "text": [
      "\nDiscarded 390 events during 3-sigma standardization.\nExtracting batch of samples à 5000 events from DVS sequence...\nDiscarded 349 events during subsampling.\nDiscarded 431 events during 3-sigma standardization.\nExtracting batch of samples à 5000 events from DVS sequence...\nDiscarded 529 events during subsampling.\nDiscarded 370 events during 3-sigma standardization.\nExtracting batch of samples à 5000 events from DVS sequence...\nDiscarded 414 events during subsampling.\nDiscarded 338 events during 3-sigma standardization.\nExtracting batch of samples à 5000 events from DVS sequence...\nDiscarded 383 events during subsampling.\nDiscarded 466 events during 3-sigma standardization.\nExtracting batch of samples à 5000 events from DVS sequence...\nDiscarded 191 events during subsampling.\nDiscarded 448 events during 3-sigma standardization.\n"
     ]
    },
    {
     "name": "stdout",
     "output_type": "stream",
     "text": [
      "Extracting batch of samples à 5000 events from DVS sequence...\nDiscarded 196 events during subsampling.\nDiscarded 405 events during 3-sigma standardization.\nExtracting batch of samples à 5000 events from DVS sequence...\nDiscarded 531 events during subsampling.\nDiscarded 406 events during 3-sigma standardization.\nExtracting batch of samples à 5000 events from DVS sequence...\nDiscarded 805 events during subsampling.\nDiscarded 267 events during 3-sigma standardization.\nExtracting batch of samples à 5000 events from DVS sequence...\nDiscarded 48 events during subsampling.\nDiscarded 2243 events during 3-sigma standardization.\nExtracting batch of samples à 5000 events from DVS sequence...\nDiscarded 276 events during subsampling.\nDiscarded 251 events during 3-sigma standardization.\nExtracting batch of samples à 5000 events from DVS sequence...\n"
     ]
    },
    {
     "name": "stdout",
     "output_type": "stream",
     "text": [
      "Discarded 1234 events during subsampling.\nDiscarded 259 events during 3-sigma standardization.\nExtracting batch of samples à 5000 events from DVS sequence...\nDiscarded 374 events during subsampling.\nDiscarded 387 events during 3-sigma standardization.\nExtracting batch of samples à 5000 events from DVS sequence...\nDiscarded 459 events during subsampling.\nDiscarded 330 events during 3-sigma standardization.\nExtracting batch of samples à 5000 events from DVS sequence...\nDiscarded 1533 events during subsampling.\nDiscarded 198 events during 3-sigma standardization.\nExtracting batch of samples à 5000 events from DVS sequence...\nDiscarded 1201 events during subsampling.\nDiscarded 227 events during 3-sigma standardization.\nExtracting batch of samples à 5000 events from DVS sequence...\n"
     ]
    },
    {
     "name": "stdout",
     "output_type": "stream",
     "text": [
      "Discarded 372 events during subsampling.\nDiscarded 336 events during 3-sigma standardization.\nExtracting batch of samples à 5000 events from DVS sequence...\nDiscarded 738 events during subsampling.\nDiscarded 301 events during 3-sigma standardization.\nExtracting batch of samples à 5000 events from DVS sequence...\nDiscarded 222 events during subsampling.\nDiscarded 330 events during 3-sigma standardization.\nExtracting batch of samples à 5000 events from DVS sequence...\nDiscarded 377 events during subsampling.\nDiscarded 231 events during 3-sigma standardization.\nExtracting batch of samples à 5000 events from DVS sequence...\nDiscarded 584 events during subsampling.\nDiscarded 300 events during 3-sigma standardization.\nExtracting batch of samples à 5000 events from DVS sequence...\n"
     ]
    },
    {
     "name": "stdout",
     "output_type": "stream",
     "text": [
      "Discarded 412 events during subsampling.\nDiscarded 269 events during 3-sigma standardization.\nExtracting batch of samples à 5000 events from DVS sequence...\nDiscarded 1654 events during subsampling.\nDiscarded 206 events during 3-sigma standardization.\nExtracting batch of samples à 5000 events from DVS sequence...\nDiscarded 799 events during subsampling.\nDiscarded 202 events during 3-sigma standardization.\nExtracting batch of samples à 5000 events from DVS sequence...\nDiscarded 1622 events during subsampling.\nDiscarded 217 events during 3-sigma standardization.\nExtracting batch of samples à 5000 events from DVS sequence...\nDiscarded 964 events during subsampling.\nDiscarded 329 events during 3-sigma standardization.\nExtracting batch of samples à 5000 events from DVS sequence...\n"
     ]
    },
    {
     "name": "stdout",
     "output_type": "stream",
     "text": [
      "Discarded 1592 events during subsampling.\nDiscarded 217 events during 3-sigma standardization.\nExtracting batch of samples à 5000 events from DVS sequence...\nDiscarded 1084 events during subsampling.\nDiscarded 284 events during 3-sigma standardization.\nExtracting batch of samples à 5000 events from DVS sequence...\nDiscarded 1630 events during subsampling.\nDiscarded 194 events during 3-sigma standardization.\nExtracting batch of samples à 5000 events from DVS sequence...\nDiscarded 543 events during subsampling.\nDiscarded 336 events during 3-sigma standardization.\nExtracting batch of samples à 5000 events from DVS sequence...\nDiscarded 1596 events during subsampling.\nDiscarded 186 events during 3-sigma standardization.\nExtracting batch of samples à 5000 events from DVS sequence...\nDiscarded 126 events during subsampling.\nDiscarded 322 events during 3-sigma standardization.\n"
     ]
    },
    {
     "name": "stdout",
     "output_type": "stream",
     "text": [
      "Extracting batch of samples à 5000 events from DVS sequence...\nDiscarded 429 events during subsampling.\nDiscarded 278 events during 3-sigma standardization.\nExtracting batch of samples à 5000 events from DVS sequence...\nDiscarded 231 events during subsampling.\nDiscarded 401 events during 3-sigma standardization.\nExtracting batch of samples à 5000 events from DVS sequence...\nDiscarded 439 events during subsampling.\nDiscarded 399 events during 3-sigma standardization.\nExtracting batch of samples à 5000 events from DVS sequence...\nDiscarded 808 events during subsampling.\nDiscarded 263 events during 3-sigma standardization.\nExtracting batch of samples à 5000 events from DVS sequence...\nDiscarded 988 events during subsampling.\nDiscarded 232 events during 3-sigma standardization.\nExtracting batch of samples à 5000 events from DVS sequence..."
     ]
    },
    {
     "name": "stdout",
     "output_type": "stream",
     "text": [
      "\nDiscarded 128 events during subsampling.\nDiscarded 279 events during 3-sigma standardization.\nExtracting batch of samples à 5000 events from DVS sequence...\nDiscarded 976 events during subsampling.\nDiscarded 283 events during 3-sigma standardization.\nExtracting batch of samples à 5000 events from DVS sequence...\nDiscarded 152 events during subsampling.\nDiscarded 322 events during 3-sigma standardization.\nExtracting batch of samples à 5000 events from DVS sequence...\nDiscarded 192 events during subsampling.\nDiscarded 268 events during 3-sigma standardization.\nExtracting batch of samples à 5000 events from DVS sequence...\nDiscarded 385 events during subsampling.\nDiscarded 311 events during 3-sigma standardization.\n"
     ]
    },
    {
     "name": "stdout",
     "output_type": "stream",
     "text": [
      "Extracting batch of samples à 5000 events from DVS sequence...\nDiscarded 1607 events during subsampling.\nDiscarded 180 events during 3-sigma standardization.\nExtracting batch of samples à 5000 events from DVS sequence...\nDiscarded 524 events during subsampling.\nDiscarded 251 events during 3-sigma standardization.\nExtracting batch of samples à 5000 events from DVS sequence...\nDiscarded 459 events during subsampling.\nDiscarded 240 events during 3-sigma standardization.\nExtracting batch of samples à 5000 events from DVS sequence...\nDiscarded 1035 events during subsampling.\nDiscarded 261 events during 3-sigma standardization.\nExtracting batch of samples à 5000 events from DVS sequence...\nDiscarded 1376 events during subsampling.\nDiscarded 197 events during 3-sigma standardization.\nExtracting batch of samples à 5000 events from DVS sequence...\n"
     ]
    },
    {
     "name": "stdout",
     "output_type": "stream",
     "text": [
      "Discarded 192 events during subsampling.\nDiscarded 294 events during 3-sigma standardization.\nExtracting batch of samples à 5000 events from DVS sequence...\nDiscarded 462 events during subsampling.\nDiscarded 266 events during 3-sigma standardization.\nExtracting batch of samples à 5000 events from DVS sequence...\nDiscarded 1517 events during subsampling.\nDiscarded 258 events during 3-sigma standardization.\nExtracting batch of samples à 5000 events from DVS sequence...\nDiscarded 222 events during subsampling.\nDiscarded 323 events during 3-sigma standardization.\nExtracting batch of samples à 5000 events from DVS sequence...\nDiscarded 1169 events during subsampling.\nDiscarded 263 events during 3-sigma standardization.\nExtracting batch of samples à 5000 events from DVS sequence...\n"
     ]
    },
    {
     "name": "stdout",
     "output_type": "stream",
     "text": [
      "Discarded 745 events during subsampling.\nDiscarded 237 events during 3-sigma standardization.\nExtracting batch of samples à 5000 events from DVS sequence...\nDiscarded 1151 events during subsampling.\nDiscarded 282 events during 3-sigma standardization.\nExtracting batch of samples à 5000 events from DVS sequence...\nDiscarded 1307 events during subsampling.\nDiscarded 252 events during 3-sigma standardization.\nExtracting batch of samples à 5000 events from DVS sequence...\nDiscarded 376 events during subsampling.\nDiscarded 339 events during 3-sigma standardization.\nExtracting batch of samples à 5000 events from DVS sequence...\nDiscarded 9 events during subsampling.\nDiscarded 347 events during 3-sigma standardization.\nExtracting batch of samples à 5000 events from DVS sequence...\n"
     ]
    },
    {
     "name": "stdout",
     "output_type": "stream",
     "text": [
      "Discarded 465 events during subsampling.\nDiscarded 314 events during 3-sigma standardization.\nExtracting batch of samples à 5000 events from DVS sequence...\nDiscarded 972 events during subsampling.\nDiscarded 261 events during 3-sigma standardization.\nExtracting batch of samples à 5000 events from DVS sequence...\nDiscarded 1322 events during subsampling.\nDiscarded 235 events during 3-sigma standardization.\nExtracting batch of samples à 5000 events from DVS sequence...\nDiscarded 219 events during subsampling.\nDiscarded 289 events during 3-sigma standardization.\nExtracting batch of samples à 5000 events from DVS sequence...\nDiscarded 137 events during subsampling.\nDiscarded 321 events during 3-sigma standardization.\n"
     ]
    },
    {
     "name": "stdout",
     "output_type": "stream",
     "text": [
      "Loading DVS sample /home/rbodo/.snntoolbox/Datasets/predator_prey/aedat/not_balanced_4834samples/R/rec_1.aedat...\nTotal number of events of this sample: 330000.\nNumber of batches: 66.\nExtracting 66 frames from DVS event sequence.\n"
     ]
    },
    {
     "name": "stdout",
     "output_type": "stream",
     "text": [
      "Extracting batch of samples à 5000 events from DVS sequence...\nDiscarded 1492 events during subsampling.\nDiscarded 218 events during 3-sigma standardization.\nExtracting batch of samples à 5000 events from DVS sequence...\nDiscarded 328 events during subsampling.\nDiscarded 285 events during 3-sigma standardization.\nExtracting batch of samples à 5000 events from DVS sequence...\nDiscarded 8 events during subsampling.\nDiscarded 475 events during 3-sigma standardization.\nExtracting batch of samples à 5000 events from DVS sequence...\nDiscarded 4 events during subsampling.\nDiscarded 446 events during 3-sigma standardization.\nExtracting batch of samples à 5000 events from DVS sequence...\n"
     ]
    },
    {
     "name": "stdout",
     "output_type": "stream",
     "text": [
      "Discarded 8 events during subsampling.\nDiscarded 412 events during 3-sigma standardization.\nExtracting batch of samples à 5000 events from DVS sequence...\nDiscarded 1163 events during subsampling.\nDiscarded 327 events during 3-sigma standardization.\nExtracting batch of samples à 5000 events from DVS sequence...\nDiscarded 1403 events during subsampling.\nDiscarded 188 events during 3-sigma standardization.\nExtracting batch of samples à 5000 events from DVS sequence...\nDiscarded 467 events during subsampling.\nDiscarded 215 events during 3-sigma standardization.\nExtracting batch of samples à 5000 events from DVS sequence...\nDiscarded 456 events during subsampling.\nDiscarded 239 events during 3-sigma standardization.\nExtracting batch of samples à 5000 events from DVS sequence...\nDiscarded 453 events during subsampling.\nDiscarded 229 events during 3-sigma standardization."
     ]
    },
    {
     "name": "stdout",
     "output_type": "stream",
     "text": [
      "\nExtracting batch of samples à 5000 events from DVS sequence...\nDiscarded 392 events during subsampling.\nDiscarded 203 events during 3-sigma standardization.\nExtracting batch of samples à 5000 events from DVS sequence...\nDiscarded 364 events during subsampling.\nDiscarded 161 events during 3-sigma standardization.\nExtracting batch of samples à 5000 events from DVS sequence...\nDiscarded 460 events during subsampling.\nDiscarded 189 events during 3-sigma standardization.\nExtracting batch of samples à 5000 events from DVS sequence...\nDiscarded 391 events during subsampling.\nDiscarded 189 events during 3-sigma standardization.\nExtracting batch of samples à 5000 events from DVS sequence...\nDiscarded 519 events during subsampling.\nDiscarded 189 events during 3-sigma standardization.\n"
     ]
    },
    {
     "name": "stdout",
     "output_type": "stream",
     "text": [
      "Extracting batch of samples à 5000 events from DVS sequence...\nDiscarded 1216 events during subsampling.\nDiscarded 280 events during 3-sigma standardization.\nExtracting batch of samples à 5000 events from DVS sequence...\nDiscarded 92 events during subsampling.\nDiscarded 352 events during 3-sigma standardization.\nExtracting batch of samples à 5000 events from DVS sequence...\nDiscarded 144 events during subsampling.\nDiscarded 290 events during 3-sigma standardization.\nExtracting batch of samples à 5000 events from DVS sequence...\nDiscarded 1155 events during subsampling.\nDiscarded 250 events during 3-sigma standardization.\nExtracting batch of samples à 5000 events from DVS sequence...\nDiscarded 474 events during subsampling.\nDiscarded 240 events during 3-sigma standardization."
     ]
    },
    {
     "name": "stdout",
     "output_type": "stream",
     "text": [
      "\nExtracting batch of samples à 5000 events from DVS sequence...\nDiscarded 1489 events during subsampling.\nDiscarded 178 events during 3-sigma standardization.\nExtracting batch of samples à 5000 events from DVS sequence...\nDiscarded 466 events during subsampling.\nDiscarded 286 events during 3-sigma standardization.\nExtracting batch of samples à 5000 events from DVS sequence...\nDiscarded 1325 events during subsampling.\nDiscarded 246 events during 3-sigma standardization.\nExtracting batch of samples à 5000 events from DVS sequence...\nDiscarded 1161 events during subsampling.\nDiscarded 261 events during 3-sigma standardization.\nExtracting batch of samples à 5000 events from DVS sequence...\nDiscarded 1501 events during subsampling.\nDiscarded 361 events during 3-sigma standardization.\nExtracting batch of samples à 5000 events from DVS sequence...\n"
     ]
    },
    {
     "name": "stdout",
     "output_type": "stream",
     "text": [
      "Discarded 282 events during subsampling.\nDiscarded 305 events during 3-sigma standardization.\nExtracting batch of samples à 5000 events from DVS sequence...\nDiscarded 540 events during subsampling.\nDiscarded 564 events during 3-sigma standardization.\nExtracting batch of samples à 5000 events from DVS sequence...\nDiscarded 349 events during subsampling.\nDiscarded 217 events during 3-sigma standardization.\nExtracting batch of samples à 5000 events from DVS sequence...\nDiscarded 1617 events during subsampling.\nDiscarded 198 events during 3-sigma standardization.\nExtracting batch of samples à 5000 events from DVS sequence...\nDiscarded 366 events during subsampling.\nDiscarded 230 events during 3-sigma standardization.\n"
     ]
    },
    {
     "name": "stdout",
     "output_type": "stream",
     "text": [
      "Extracting batch of samples à 5000 events from DVS sequence...\nDiscarded 808 events during subsampling.\nDiscarded 238 events during 3-sigma standardization.\nExtracting batch of samples à 5000 events from DVS sequence...\nDiscarded 721 events during subsampling.\nDiscarded 187 events during 3-sigma standardization.\nExtracting batch of samples à 5000 events from DVS sequence...\nDiscarded 287 events during subsampling.\nDiscarded 242 events during 3-sigma standardization.\nExtracting batch of samples à 5000 events from DVS sequence...\nDiscarded 437 events during subsampling.\nDiscarded 192 events during 3-sigma standardization.\nExtracting batch of samples à 5000 events from DVS sequence...\nDiscarded 356 events during subsampling.\nDiscarded 179 events during 3-sigma standardization."
     ]
    },
    {
     "name": "stdout",
     "output_type": "stream",
     "text": [
      "\nExtracting batch of samples à 5000 events from DVS sequence...\nDiscarded 468 events during subsampling.\nDiscarded 387 events during 3-sigma standardization.\nExtracting batch of samples à 5000 events from DVS sequence...\nDiscarded 558 events during subsampling.\nDiscarded 266 events during 3-sigma standardization.\nExtracting batch of samples à 5000 events from DVS sequence...\nDiscarded 343 events during subsampling.\nDiscarded 260 events during 3-sigma standardization.\nExtracting batch of samples à 5000 events from DVS sequence...\nDiscarded 1341 events during subsampling.\nDiscarded 130 events during 3-sigma standardization.\nExtracting batch of samples à 5000 events from DVS sequence...\nDiscarded 321 events during subsampling.\nDiscarded 238 events during 3-sigma standardization.\n"
     ]
    },
    {
     "name": "stdout",
     "output_type": "stream",
     "text": [
      "Extracting batch of samples à 5000 events from DVS sequence...\nDiscarded 848 events during subsampling.\nDiscarded 243 events during 3-sigma standardization.\nExtracting batch of samples à 5000 events from DVS sequence...\nDiscarded 174 events during subsampling.\nDiscarded 381 events during 3-sigma standardization.\nExtracting batch of samples à 5000 events from DVS sequence...\nDiscarded 1411 events during subsampling.\nDiscarded 462 events during 3-sigma standardization.\nExtracting batch of samples à 5000 events from DVS sequence...\nDiscarded 401 events during subsampling.\nDiscarded 361 events during 3-sigma standardization.\nExtracting batch of samples à 5000 events from DVS sequence...\nDiscarded 1001 events during subsampling.\nDiscarded 291 events during 3-sigma standardization.\nExtracting batch of samples à 5000 events from DVS sequence...\n"
     ]
    },
    {
     "name": "stdout",
     "output_type": "stream",
     "text": [
      "Discarded 827 events during subsampling.\nDiscarded 231 events during 3-sigma standardization.\nExtracting batch of samples à 5000 events from DVS sequence...\nDiscarded 1042 events during subsampling.\nDiscarded 328 events during 3-sigma standardization.\nExtracting batch of samples à 5000 events from DVS sequence...\nDiscarded 19 events during subsampling.\nDiscarded 400 events during 3-sigma standardization.\nExtracting batch of samples à 5000 events from DVS sequence...\nDiscarded 10 events during subsampling.\nDiscarded 455 events during 3-sigma standardization.\nExtracting batch of samples à 5000 events from DVS sequence...\nDiscarded 453 events during subsampling.\nDiscarded 222 events during 3-sigma standardization.\nExtracting batch of samples à 5000 events from DVS sequence...\n"
     ]
    },
    {
     "name": "stdout",
     "output_type": "stream",
     "text": [
      "Discarded 418 events during subsampling.\nDiscarded 222 events during 3-sigma standardization.\nExtracting batch of samples à 5000 events from DVS sequence...\nDiscarded 125 events during subsampling.\nDiscarded 254 events during 3-sigma standardization.\nExtracting batch of samples à 5000 events from DVS sequence...\nDiscarded 498 events during subsampling.\nDiscarded 478 events during 3-sigma standardization.\nExtracting batch of samples à 5000 events from DVS sequence...\nDiscarded 311 events during subsampling.\nDiscarded 242 events during 3-sigma standardization.\nExtracting batch of samples à 5000 events from DVS sequence...\nDiscarded 528 events during subsampling.\nDiscarded 297 events during 3-sigma standardization.\nExtracting batch of samples à 5000 events from DVS sequence...\nDiscarded 489 events during subsampling.\nDiscarded 226 events during 3-sigma standardization."
     ]
    },
    {
     "name": "stdout",
     "output_type": "stream",
     "text": [
      "\nExtracting batch of samples à 5000 events from DVS sequence...\nDiscarded 343 events during subsampling.\nDiscarded 228 events during 3-sigma standardization.\nExtracting batch of samples à 5000 events from DVS sequence...\nDiscarded 495 events during subsampling.\nDiscarded 246 events during 3-sigma standardization.\nExtracting batch of samples à 5000 events from DVS sequence...\nDiscarded 410 events during subsampling.\nDiscarded 255 events during 3-sigma standardization.\nExtracting batch of samples à 5000 events from DVS sequence...\nDiscarded 1081 events during subsampling.\nDiscarded 257 events during 3-sigma standardization.\nExtracting batch of samples à 5000 events from DVS sequence...\nDiscarded 364 events during subsampling.\nDiscarded 362 events during 3-sigma standardization.\n"
     ]
    },
    {
     "name": "stdout",
     "output_type": "stream",
     "text": [
      "Extracting batch of samples à 5000 events from DVS sequence...\nDiscarded 509 events during subsampling.\nDiscarded 270 events during 3-sigma standardization.\nExtracting batch of samples à 5000 events from DVS sequence...\nDiscarded 488 events during subsampling.\nDiscarded 279 events during 3-sigma standardization.\nExtracting batch of samples à 5000 events from DVS sequence...\nDiscarded 970 events during subsampling.\nDiscarded 214 events during 3-sigma standardization.\nExtracting batch of samples à 5000 events from DVS sequence...\nDiscarded 9 events during subsampling.\nDiscarded 338 events during 3-sigma standardization.\nLoading DVS sample /home/rbodo/.snntoolbox/Datasets/predator_prey/aedat/not_balanced_4834samples/R/rec_10.aedat...\n"
     ]
    },
    {
     "name": "stdout",
     "output_type": "stream",
     "text": [
      "Total number of events of this sample: 170000.\nNumber of batches: 34.\nExtracting 34 frames from DVS event sequence.\n"
     ]
    },
    {
     "name": "stdout",
     "output_type": "stream",
     "text": [
      "Extracting batch of samples à 5000 events from DVS sequence...\nDiscarded 284 events during subsampling.\nDiscarded 268 events during 3-sigma standardization.\nExtracting batch of samples à 5000 events from DVS sequence...\nDiscarded 183 events during subsampling.\nDiscarded 242 events during 3-sigma standardization.\nExtracting batch of samples à 5000 events from DVS sequence...\nDiscarded 143 events during subsampling.\nDiscarded 267 events during 3-sigma standardization.\nExtracting batch of samples à 5000 events from DVS sequence...\nDiscarded 595 events during subsampling.\nDiscarded 269 events during 3-sigma standardization.\nExtracting batch of samples à 5000 events from DVS sequence...\nDiscarded 416 events during subsampling."
     ]
    },
    {
     "name": "stdout",
     "output_type": "stream",
     "text": [
      "\nDiscarded 204 events during 3-sigma standardization.\nExtracting batch of samples à 5000 events from DVS sequence...\nDiscarded 492 events during subsampling.\nDiscarded 297 events during 3-sigma standardization.\nExtracting batch of samples à 5000 events from DVS sequence...\nDiscarded 157 events during subsampling.\nDiscarded 251 events during 3-sigma standardization.\nExtracting batch of samples à 5000 events from DVS sequence...\nDiscarded 289 events during subsampling.\nDiscarded 311 events during 3-sigma standardization.\nExtracting batch of samples à 5000 events from DVS sequence...\nDiscarded 296 events during subsampling.\nDiscarded 300 events during 3-sigma standardization.\nExtracting batch of samples à 5000 events from DVS sequence...\nDiscarded 514 events during subsampling.\nDiscarded 294 events during 3-sigma standardization."
     ]
    },
    {
     "name": "stdout",
     "output_type": "stream",
     "text": [
      "\nExtracting batch of samples à 5000 events from DVS sequence...\nDiscarded 287 events during subsampling.\nDiscarded 242 events during 3-sigma standardization.\nExtracting batch of samples à 5000 events from DVS sequence...\nDiscarded 649 events during subsampling.\nDiscarded 301 events during 3-sigma standardization.\nExtracting batch of samples à 5000 events from DVS sequence...\nDiscarded 80 events during subsampling.\nDiscarded 241 events during 3-sigma standardization.\nExtracting batch of samples à 5000 events from DVS sequence...\nDiscarded 622 events during subsampling.\nDiscarded 280 events during 3-sigma standardization.\nExtracting batch of samples à 5000 events from DVS sequence...\nDiscarded 284 events during subsampling.\nDiscarded 399 events during 3-sigma standardization.\n"
     ]
    },
    {
     "name": "stdout",
     "output_type": "stream",
     "text": [
      "Extracting batch of samples à 5000 events from DVS sequence...\nDiscarded 195 events during subsampling.\nDiscarded 605 events during 3-sigma standardization.\nExtracting batch of samples à 5000 events from DVS sequence...\nDiscarded 351 events during subsampling.\nDiscarded 609 events during 3-sigma standardization.\nExtracting batch of samples à 5000 events from DVS sequence...\nDiscarded 123 events during subsampling.\nDiscarded 292 events during 3-sigma standardization.\nExtracting batch of samples à 5000 events from DVS sequence...\nDiscarded 574 events during subsampling.\nDiscarded 267 events during 3-sigma standardization.\nExtracting batch of samples à 5000 events from DVS sequence...\nDiscarded 629 events during subsampling.\nDiscarded 255 events during 3-sigma standardization.\n"
     ]
    },
    {
     "name": "stdout",
     "output_type": "stream",
     "text": [
      "Extracting batch of samples à 5000 events from DVS sequence...\nDiscarded 75 events during subsampling.\nDiscarded 294 events during 3-sigma standardization.\nExtracting batch of samples à 5000 events from DVS sequence...\nDiscarded 286 events during subsampling.\nDiscarded 261 events during 3-sigma standardization.\nExtracting batch of samples à 5000 events from DVS sequence...\nDiscarded 62 events during subsampling.\nDiscarded 294 events during 3-sigma standardization.\nExtracting batch of samples à 5000 events from DVS sequence...\nDiscarded 641 events during subsampling.\nDiscarded 260 events during 3-sigma standardization.\nExtracting batch of samples à 5000 events from DVS sequence...\nDiscarded 212 events during subsampling.\nDiscarded 360 events during 3-sigma standardization.\nExtracting batch of samples à 5000 events from DVS sequence...\n"
     ]
    },
    {
     "name": "stdout",
     "output_type": "stream",
     "text": [
      "Discarded 381 events during subsampling.\nDiscarded 352 events during 3-sigma standardization.\nExtracting batch of samples à 5000 events from DVS sequence...\nDiscarded 137 events during subsampling.\nDiscarded 278 events during 3-sigma standardization.\nExtracting batch of samples à 5000 events from DVS sequence...\nDiscarded 964 events during subsampling.\nDiscarded 258 events during 3-sigma standardization.\nExtracting batch of samples à 5000 events from DVS sequence...\nDiscarded 738 events during subsampling.\nDiscarded 252 events during 3-sigma standardization.\nExtracting batch of samples à 5000 events from DVS sequence...\nDiscarded 497 events during subsampling.\nDiscarded 219 events during 3-sigma standardization.\nExtracting batch of samples à 5000 events from DVS sequence..."
     ]
    },
    {
     "name": "stdout",
     "output_type": "stream",
     "text": [
      "\nDiscarded 564 events during subsampling.\nDiscarded 266 events during 3-sigma standardization.\nExtracting batch of samples à 5000 events from DVS sequence...\nDiscarded 556 events during subsampling.\nDiscarded 255 events during 3-sigma standardization.\nExtracting batch of samples à 5000 events from DVS sequence...\nDiscarded 231 events during subsampling.\nDiscarded 261 events during 3-sigma standardization.\nLoading DVS sample /home/rbodo/.snntoolbox/Datasets/predator_prey/aedat/not_balanced_4834samples/R/rec_11.aedat...\nTotal number of events of this sample: 170000.\nNumber of batches: 34.\nExtracting 34 frames from DVS event sequence.\n"
     ]
    },
    {
     "name": "stdout",
     "output_type": "stream",
     "text": [
      "Extracting batch of samples à 5000 events from DVS sequence...\nDiscarded 1521 events during subsampling.\nDiscarded 202 events during 3-sigma standardization.\nExtracting batch of samples à 5000 events from DVS sequence...\nDiscarded 795 events during subsampling.\nDiscarded 257 events during 3-sigma standardization.\nExtracting batch of samples à 5000 events from DVS sequence...\nDiscarded 221 events during subsampling.\nDiscarded 322 events during 3-sigma standardization.\nExtracting batch of samples à 5000 events from DVS sequence...\nDiscarded 584 events during subsampling.\nDiscarded 267 events during 3-sigma standardization.\nExtracting batch of samples à 5000 events from DVS sequence...\nDiscarded 297 events during subsampling.\n"
     ]
    },
    {
     "name": "stdout",
     "output_type": "stream",
     "text": [
      "Discarded 276 events during 3-sigma standardization.\nExtracting batch of samples à 5000 events from DVS sequence...\nDiscarded 548 events during subsampling.\nDiscarded 289 events during 3-sigma standardization.\nExtracting batch of samples à 5000 events from DVS sequence...\nDiscarded 292 events during subsampling.\nDiscarded 227 events during 3-sigma standardization.\nExtracting batch of samples à 5000 events from DVS sequence...\nDiscarded 828 events during subsampling.\nDiscarded 197 events during 3-sigma standardization.\nExtracting batch of samples à 5000 events from DVS sequence...\nDiscarded 484 events during subsampling.\nDiscarded 281 events during 3-sigma standardization.\nExtracting batch of samples à 5000 events from DVS sequence...\nDiscarded 679 events during subsampling.\nDiscarded 289 events during 3-sigma standardization.\n"
     ]
    },
    {
     "name": "stdout",
     "output_type": "stream",
     "text": [
      "Extracting batch of samples à 5000 events from DVS sequence...\nDiscarded 181 events during subsampling.\nDiscarded 279 events during 3-sigma standardization.\nExtracting batch of samples à 5000 events from DVS sequence...\nDiscarded 224 events during subsampling.\nDiscarded 238 events during 3-sigma standardization.\nExtracting batch of samples à 5000 events from DVS sequence...\nDiscarded 574 events during subsampling.\nDiscarded 210 events during 3-sigma standardization.\nExtracting batch of samples à 5000 events from DVS sequence...\nDiscarded 871 events during subsampling.\nDiscarded 262 events during 3-sigma standardization.\nExtracting batch of samples à 5000 events from DVS sequence...\nDiscarded 453 events during subsampling.\nDiscarded 366 events during 3-sigma standardization.\n"
     ]
    },
    {
     "name": "stdout",
     "output_type": "stream",
     "text": [
      "Extracting batch of samples à 5000 events from DVS sequence...\nDiscarded 386 events during subsampling.\nDiscarded 349 events during 3-sigma standardization.\nExtracting batch of samples à 5000 events from DVS sequence...\nDiscarded 327 events during subsampling.\nDiscarded 331 events during 3-sigma standardization.\nExtracting batch of samples à 5000 events from DVS sequence...\nDiscarded 152 events during subsampling.\nDiscarded 357 events during 3-sigma standardization.\nExtracting batch of samples à 5000 events from DVS sequence...\nDiscarded 470 events during subsampling.\nDiscarded 319 events during 3-sigma standardization.\nExtracting batch of samples à 5000 events from DVS sequence...\nDiscarded 146 events during subsampling.\nDiscarded 341 events during 3-sigma standardization.\nExtracting batch of samples à 5000 events from DVS sequence..."
     ]
    },
    {
     "name": "stdout",
     "output_type": "stream",
     "text": [
      "\nDiscarded 224 events during subsampling.\nDiscarded 304 events during 3-sigma standardization.\nExtracting batch of samples à 5000 events from DVS sequence...\nDiscarded 1474 events during subsampling.\nDiscarded 240 events during 3-sigma standardization.\nExtracting batch of samples à 5000 events from DVS sequence...\nDiscarded 628 events during subsampling.\nDiscarded 268 events during 3-sigma standardization.\nExtracting batch of samples à 5000 events from DVS sequence...\nDiscarded 296 events during subsampling.\nDiscarded 327 events during 3-sigma standardization.\nExtracting batch of samples à 5000 events from DVS sequence...\nDiscarded 531 events during subsampling.\nDiscarded 271 events during 3-sigma standardization.\n"
     ]
    },
    {
     "name": "stdout",
     "output_type": "stream",
     "text": [
      "Extracting batch of samples à 5000 events from DVS sequence...\nDiscarded 287 events during subsampling.\nDiscarded 293 events during 3-sigma standardization.\nExtracting batch of samples à 5000 events from DVS sequence...\nDiscarded 224 events during subsampling.\nDiscarded 284 events during 3-sigma standardization.\nExtracting batch of samples à 5000 events from DVS sequence...\nDiscarded 384 events during subsampling.\nDiscarded 258 events during 3-sigma standardization.\nExtracting batch of samples à 5000 events from DVS sequence...\nDiscarded 375 events during subsampling.\nDiscarded 322 events during 3-sigma standardization.\nExtracting batch of samples à 5000 events from DVS sequence...\nDiscarded 1332 events during subsampling.\nDiscarded 237 events during 3-sigma standardization.\n"
     ]
    },
    {
     "name": "stdout",
     "output_type": "stream",
     "text": [
      "Extracting batch of samples à 5000 events from DVS sequence...\nDiscarded 290 events during subsampling.\nDiscarded 328 events during 3-sigma standardization.\nExtracting batch of samples à 5000 events from DVS sequence...\nDiscarded 10 events during subsampling.\nDiscarded 357 events during 3-sigma standardization.\nExtracting batch of samples à 5000 events from DVS sequence...\nDiscarded 528 events during subsampling.\nDiscarded 332 events during 3-sigma standardization.\nLoading DVS sample /home/rbodo/.snntoolbox/Datasets/predator_prey/aedat/not_balanced_4834samples/R/rec_12.aedat...\n"
     ]
    },
    {
     "name": "stdout",
     "output_type": "stream",
     "text": [
      "Total number of events of this sample: 275000.\nNumber of batches: 55.\nExtracting 55 frames from DVS event sequence.\n"
     ]
    },
    {
     "name": "stdout",
     "output_type": "stream",
     "text": [
      "Extracting batch of samples à 5000 events from DVS sequence...\nDiscarded 373 events during subsampling.\nDiscarded 242 events during 3-sigma standardization.\nExtracting batch of samples à 5000 events from DVS sequence...\nDiscarded 60 events during subsampling.\nDiscarded 322 events during 3-sigma standardization.\nExtracting batch of samples à 5000 events from DVS sequence...\nDiscarded 475 events during subsampling.\nDiscarded 259 events during 3-sigma standardization.\nExtracting batch of samples à 5000 events from DVS sequence...\nDiscarded 665 events during subsampling.\nDiscarded 270 events during 3-sigma standardization.\nExtracting batch of samples à 5000 events from DVS sequence...\n"
     ]
    },
    {
     "name": "stdout",
     "output_type": "stream",
     "text": [
      "Discarded 10 events during subsampling.\nDiscarded 274 events during 3-sigma standardization.\nExtracting batch of samples à 5000 events from DVS sequence...\nDiscarded 672 events during subsampling.\nDiscarded 273 events during 3-sigma standardization.\nExtracting batch of samples à 5000 events from DVS sequence...\nDiscarded 134 events during subsampling.\nDiscarded 280 events during 3-sigma standardization.\nExtracting batch of samples à 5000 events from DVS sequence...\nDiscarded 90 events during subsampling.\nDiscarded 302 events during 3-sigma standardization.\nExtracting batch of samples à 5000 events from DVS sequence...\nDiscarded 677 events during subsampling.\nDiscarded 286 events during 3-sigma standardization.\nExtracting batch of samples à 5000 events from DVS sequence...\n"
     ]
    },
    {
     "name": "stdout",
     "output_type": "stream",
     "text": [
      "Discarded 469 events during subsampling.\nDiscarded 297 events during 3-sigma standardization.\nExtracting batch of samples à 5000 events from DVS sequence...\nDiscarded 669 events during subsampling.\nDiscarded 259 events during 3-sigma standardization.\nExtracting batch of samples à 5000 events from DVS sequence...\nDiscarded 138 events during subsampling.\nDiscarded 297 events during 3-sigma standardization.\nExtracting batch of samples à 5000 events from DVS sequence...\nDiscarded 477 events during subsampling.\nDiscarded 257 events during 3-sigma standardization.\nExtracting batch of samples à 5000 events from DVS sequence...\nDiscarded 757 events during subsampling.\nDiscarded 270 events during 3-sigma standardization.\nExtracting batch of samples à 5000 events from DVS sequence..."
     ]
    },
    {
     "name": "stdout",
     "output_type": "stream",
     "text": [
      "\nDiscarded 145 events during subsampling.\nDiscarded 335 events during 3-sigma standardization.\nExtracting batch of samples à 5000 events from DVS sequence...\nDiscarded 169 events during subsampling.\nDiscarded 329 events during 3-sigma standardization.\nExtracting batch of samples à 5000 events from DVS sequence...\nDiscarded 317 events during subsampling.\nDiscarded 299 events during 3-sigma standardization.\nExtracting batch of samples à 5000 events from DVS sequence...\nDiscarded 454 events during subsampling.\nDiscarded 298 events during 3-sigma standardization.\nExtracting batch of samples à 5000 events from DVS sequence...\nDiscarded 347 events during subsampling.\nDiscarded 389 events during 3-sigma standardization.\n"
     ]
    },
    {
     "name": "stdout",
     "output_type": "stream",
     "text": [
      "Extracting batch of samples à 5000 events from DVS sequence...\nDiscarded 296 events during subsampling.\nDiscarded 451 events during 3-sigma standardization.\nExtracting batch of samples à 5000 events from DVS sequence...\nDiscarded 338 events during subsampling.\nDiscarded 395 events during 3-sigma standardization.\nExtracting batch of samples à 5000 events from DVS sequence...\nDiscarded 330 events during subsampling.\nDiscarded 397 events during 3-sigma standardization.\nExtracting batch of samples à 5000 events from DVS sequence...\nDiscarded 189 events during subsampling.\nDiscarded 585 events during 3-sigma standardization.\nExtracting batch of samples à 5000 events from DVS sequence...\nDiscarded 390 events during subsampling.\nDiscarded 389 events during 3-sigma standardization.\n"
     ]
    },
    {
     "name": "stdout",
     "output_type": "stream",
     "text": [
      "Extracting batch of samples à 5000 events from DVS sequence...\nDiscarded 403 events during subsampling.\nDiscarded 293 events during 3-sigma standardization.\nExtracting batch of samples à 5000 events from DVS sequence...\nDiscarded 157 events during subsampling.\nDiscarded 406 events during 3-sigma standardization.\nExtracting batch of samples à 5000 events from DVS sequence...\nDiscarded 589 events during subsampling.\nDiscarded 302 events during 3-sigma standardization.\nExtracting batch of samples à 5000 events from DVS sequence...\nDiscarded 469 events during subsampling.\nDiscarded 294 events during 3-sigma standardization.\nExtracting batch of samples à 5000 events from DVS sequence...\nDiscarded 117 events during subsampling.\n"
     ]
    },
    {
     "name": "stdout",
     "output_type": "stream",
     "text": [
      "Discarded 364 events during 3-sigma standardization.\nExtracting batch of samples à 5000 events from DVS sequence...\nDiscarded 16 events during subsampling.\nDiscarded 338 events during 3-sigma standardization.\nExtracting batch of samples à 5000 events from DVS sequence...\nDiscarded 418 events during subsampling.\nDiscarded 317 events during 3-sigma standardization.\nExtracting batch of samples à 5000 events from DVS sequence...\nDiscarded 610 events during subsampling.\nDiscarded 267 events during 3-sigma standardization.\nExtracting batch of samples à 5000 events from DVS sequence...\nDiscarded 51 events during subsampling.\nDiscarded 376 events during 3-sigma standardization.\n"
     ]
    },
    {
     "name": "stdout",
     "output_type": "stream",
     "text": [
      "Extracting batch of samples à 5000 events from DVS sequence...\nDiscarded 71 events during subsampling.\nDiscarded 349 events during 3-sigma standardization.\nExtracting batch of samples à 5000 events from DVS sequence...\nDiscarded 397 events during subsampling.\nDiscarded 274 events during 3-sigma standardization.\nExtracting batch of samples à 5000 events from DVS sequence...\nDiscarded 465 events during subsampling.\nDiscarded 302 events during 3-sigma standardization.\nExtracting batch of samples à 5000 events from DVS sequence...\nDiscarded 593 events during subsampling.\nDiscarded 242 events during 3-sigma standardization.\nExtracting batch of samples à 5000 events from DVS sequence...\nDiscarded 105 events during subsampling.\n"
     ]
    },
    {
     "name": "stdout",
     "output_type": "stream",
     "text": [
      "Discarded 348 events during 3-sigma standardization.\nExtracting batch of samples à 5000 events from DVS sequence...\nDiscarded 7 events during subsampling.\nDiscarded 313 events during 3-sigma standardization.\nExtracting batch of samples à 5000 events from DVS sequence...\nDiscarded 542 events during subsampling.\nDiscarded 312 events during 3-sigma standardization.\nExtracting batch of samples à 5000 events from DVS sequence...\nDiscarded 1834 events during subsampling.\nDiscarded 164 events during 3-sigma standardization.\nExtracting batch of samples à 5000 events from DVS sequence...\nDiscarded 292 events during subsampling.\nDiscarded 311 events during 3-sigma standardization.\nExtracting batch of samples à 5000 events from DVS sequence...\nDiscarded 590 events during subsampling.\n"
     ]
    },
    {
     "name": "stdout",
     "output_type": "stream",
     "text": [
      "Discarded 275 events during 3-sigma standardization.\nExtracting batch of samples à 5000 events from DVS sequence...\nDiscarded 532 events during subsampling.\nDiscarded 249 events during 3-sigma standardization.\nExtracting batch of samples à 5000 events from DVS sequence...\nDiscarded 78 events during subsampling.\nDiscarded 268 events during 3-sigma standardization.\nExtracting batch of samples à 5000 events from DVS sequence...\nDiscarded 452 events during subsampling.\nDiscarded 310 events during 3-sigma standardization.\nExtracting batch of samples à 5000 events from DVS sequence...\nDiscarded 539 events during subsampling.\nDiscarded 289 events during 3-sigma standardization.\nExtracting batch of samples à 5000 events from DVS sequence...\nDiscarded 574 events during subsampling.\n"
     ]
    },
    {
     "name": "stdout",
     "output_type": "stream",
     "text": [
      "Discarded 302 events during 3-sigma standardization.\nExtracting batch of samples à 5000 events from DVS sequence...\nDiscarded 137 events during subsampling.\nDiscarded 294 events during 3-sigma standardization.\nExtracting batch of samples à 5000 events from DVS sequence...\nDiscarded 653 events during subsampling.\nDiscarded 237 events during 3-sigma standardization.\nExtracting batch of samples à 5000 events from DVS sequence...\nDiscarded 433 events during subsampling.\nDiscarded 258 events during 3-sigma standardization.\nExtracting batch of samples à 5000 events from DVS sequence...\nDiscarded 435 events during subsampling.\nDiscarded 262 events during 3-sigma standardization.\nExtracting batch of samples à 5000 events from DVS sequence...\nDiscarded 179 events during subsampling.\n"
     ]
    },
    {
     "name": "stdout",
     "output_type": "stream",
     "text": [
      "Discarded 247 events during 3-sigma standardization.\nExtracting batch of samples à 5000 events from DVS sequence...\nDiscarded 200 events during subsampling.\nDiscarded 274 events during 3-sigma standardization.\nLoading DVS sample /home/rbodo/.snntoolbox/Datasets/predator_prey/aedat/not_balanced_4834samples/R/rec_13.aedat...\nTotal number of events of this sample: 145000.\nNumber of batches: 29.\nExtracting 29 frames from DVS event sequence.\n"
     ]
    },
    {
     "name": "stdout",
     "output_type": "stream",
     "text": [
      "Extracting batch of samples à 5000 events from DVS sequence...\nDiscarded 1263 events during subsampling.\nDiscarded 245 events during 3-sigma standardization.\nExtracting batch of samples à 5000 events from DVS sequence...\nDiscarded 554 events during subsampling.\nDiscarded 297 events during 3-sigma standardization.\nExtracting batch of samples à 5000 events from DVS sequence...\nDiscarded 607 events during subsampling.\nDiscarded 184 events during 3-sigma standardization.\nExtracting batch of samples à 5000 events from DVS sequence...\nDiscarded 326 events during subsampling.\nDiscarded 310 events during 3-sigma standardization.\nExtracting batch of samples à 5000 events from DVS sequence...\n"
     ]
    },
    {
     "name": "stdout",
     "output_type": "stream",
     "text": [
      "Discarded 109 events during subsampling.\nDiscarded 271 events during 3-sigma standardization.\nExtracting batch of samples à 5000 events from DVS sequence...\nDiscarded 116 events during subsampling.\nDiscarded 307 events during 3-sigma standardization.\nExtracting batch of samples à 5000 events from DVS sequence...\nDiscarded 315 events during subsampling.\nDiscarded 305 events during 3-sigma standardization.\nExtracting batch of samples à 5000 events from DVS sequence...\nDiscarded 678 events during subsampling.\nDiscarded 334 events during 3-sigma standardization.\nExtracting batch of samples à 5000 events from DVS sequence...\nDiscarded 612 events during subsampling.\nDiscarded 340 events during 3-sigma standardization.\n"
     ]
    },
    {
     "name": "stdout",
     "output_type": "stream",
     "text": [
      "Extracting batch of samples à 5000 events from DVS sequence...\nDiscarded 497 events during subsampling.\nDiscarded 360 events during 3-sigma standardization.\nExtracting batch of samples à 5000 events from DVS sequence...\nDiscarded 281 events during subsampling.\nDiscarded 305 events during 3-sigma standardization.\nExtracting batch of samples à 5000 events from DVS sequence...\nDiscarded 516 events during subsampling.\nDiscarded 219 events during 3-sigma standardization.\nExtracting batch of samples à 5000 events from DVS sequence...\nDiscarded 530 events during subsampling.\nDiscarded 195 events during 3-sigma standardization.\nExtracting batch of samples à 5000 events from DVS sequence...\nDiscarded 425 events during subsampling.\nDiscarded 182 events during 3-sigma standardization.\nExtracting batch of samples à 5000 events from DVS sequence..."
     ]
    },
    {
     "name": "stdout",
     "output_type": "stream",
     "text": [
      "\nDiscarded 444 events during subsampling.\nDiscarded 179 events during 3-sigma standardization.\nExtracting batch of samples à 5000 events from DVS sequence...\nDiscarded 420 events during subsampling.\nDiscarded 219 events during 3-sigma standardization.\nExtracting batch of samples à 5000 events from DVS sequence...\nDiscarded 475 events during subsampling.\nDiscarded 171 events during 3-sigma standardization.\nExtracting batch of samples à 5000 events from DVS sequence...\nDiscarded 280 events during subsampling.\nDiscarded 350 events during 3-sigma standardization.\nExtracting batch of samples à 5000 events from DVS sequence...\nDiscarded 541 events during subsampling.\nDiscarded 304 events during 3-sigma standardization.\nExtracting batch of samples à 5000 events from DVS sequence..."
     ]
    },
    {
     "name": "stdout",
     "output_type": "stream",
     "text": [
      "\nDiscarded 375 events during subsampling.\nDiscarded 346 events during 3-sigma standardization.\nExtracting batch of samples à 5000 events from DVS sequence...\nDiscarded 157 events during subsampling.\nDiscarded 329 events during 3-sigma standardization.\nExtracting batch of samples à 5000 events from DVS sequence...\nDiscarded 930 events during subsampling.\nDiscarded 223 events during 3-sigma standardization.\nExtracting batch of samples à 5000 events from DVS sequence...\nDiscarded 1344 events during subsampling.\nDiscarded 184 events during 3-sigma standardization.\nExtracting batch of samples à 5000 events from DVS sequence...\nDiscarded 266 events during subsampling.\nDiscarded 302 events during 3-sigma standardization.\nExtracting batch of samples à 5000 events from DVS sequence...\n"
     ]
    },
    {
     "name": "stdout",
     "output_type": "stream",
     "text": [
      "Discarded 6 events during subsampling.\nDiscarded 291 events during 3-sigma standardization.\nExtracting batch of samples à 5000 events from DVS sequence...\nDiscarded 243 events during subsampling.\nDiscarded 279 events during 3-sigma standardization.\nExtracting batch of samples à 5000 events from DVS sequence...\nDiscarded 1150 events during subsampling.\nDiscarded 258 events during 3-sigma standardization.\nExtracting batch of samples à 5000 events from DVS sequence...\nDiscarded 389 events during subsampling.\nDiscarded 281 events during 3-sigma standardization.\nLoading DVS sample /home/rbodo/.snntoolbox/Datasets/predator_prey/aedat/not_balanced_4834samples/R/rec_14.aedat...\n"
     ]
    },
    {
     "name": "stdout",
     "output_type": "stream",
     "text": [
      "Total number of events of this sample: 230000.\nNumber of batches: 46.\nExtracting 46 frames from DVS event sequence.\n"
     ]
    },
    {
     "name": "stdout",
     "output_type": "stream",
     "text": [
      "Extracting batch of samples à 5000 events from DVS sequence...\nDiscarded 211 events during subsampling.\nDiscarded 389 events during 3-sigma standardization.\nExtracting batch of samples à 5000 events from DVS sequence...\nDiscarded 236 events during subsampling.\nDiscarded 408 events during 3-sigma standardization.\nExtracting batch of samples à 5000 events from DVS sequence...\nDiscarded 280 events during subsampling.\nDiscarded 338 events during 3-sigma standardization.\nExtracting batch of samples à 5000 events from DVS sequence...\nDiscarded 1202 events during subsampling.\nDiscarded 231 events during 3-sigma standardization.\nExtracting batch of samples à 5000 events from DVS sequence...\n"
     ]
    },
    {
     "name": "stdout",
     "output_type": "stream",
     "text": [
      "Discarded 656 events during subsampling.\nDiscarded 316 events during 3-sigma standardization.\nExtracting batch of samples à 5000 events from DVS sequence...\nDiscarded 591 events during subsampling.\nDiscarded 335 events during 3-sigma standardization.\nExtracting batch of samples à 5000 events from DVS sequence...\nDiscarded 601 events during subsampling.\nDiscarded 389 events during 3-sigma standardization.\nExtracting batch of samples à 5000 events from DVS sequence...\nDiscarded 116 events during subsampling.\nDiscarded 371 events during 3-sigma standardization.\nExtracting batch of samples à 5000 events from DVS sequence...\nDiscarded 183 events during subsampling.\nDiscarded 348 events during 3-sigma standardization.\nExtracting batch of samples à 5000 events from DVS sequence...\n"
     ]
    },
    {
     "name": "stdout",
     "output_type": "stream",
     "text": [
      "Discarded 929 events during subsampling.\nDiscarded 275 events during 3-sigma standardization.\nExtracting batch of samples à 5000 events from DVS sequence...\nDiscarded 647 events during subsampling.\nDiscarded 279 events during 3-sigma standardization.\nExtracting batch of samples à 5000 events from DVS sequence...\nDiscarded 758 events during subsampling.\nDiscarded 305 events during 3-sigma standardization.\nExtracting batch of samples à 5000 events from DVS sequence...\nDiscarded 680 events during subsampling.\nDiscarded 236 events during 3-sigma standardization.\nExtracting batch of samples à 5000 events from DVS sequence...\nDiscarded 50 events during subsampling.\nDiscarded 348 events during 3-sigma standardization.\nExtracting batch of samples à 5000 events from DVS sequence...\n"
     ]
    },
    {
     "name": "stdout",
     "output_type": "stream",
     "text": [
      "Discarded 434 events during subsampling.\nDiscarded 360 events during 3-sigma standardization.\nExtracting batch of samples à 5000 events from DVS sequence...\nDiscarded 948 events during subsampling.\nDiscarded 235 events during 3-sigma standardization.\nExtracting batch of samples à 5000 events from DVS sequence...\nDiscarded 135 events during subsampling.\nDiscarded 382 events during 3-sigma standardization.\nExtracting batch of samples à 5000 events from DVS sequence...\nDiscarded 519 events during subsampling.\nDiscarded 332 events during 3-sigma standardization.\nExtracting batch of samples à 5000 events from DVS sequence...\nDiscarded 107 events during subsampling.\nDiscarded 319 events during 3-sigma standardization.\nExtracting batch of samples à 5000 events from DVS sequence...\n"
     ]
    },
    {
     "name": "stdout",
     "output_type": "stream",
     "text": [
      "Discarded 393 events during subsampling.\nDiscarded 319 events during 3-sigma standardization.\nExtracting batch of samples à 5000 events from DVS sequence...\nDiscarded 421 events during subsampling.\nDiscarded 289 events during 3-sigma standardization.\nExtracting batch of samples à 5000 events from DVS sequence...\nDiscarded 243 events during subsampling.\nDiscarded 261 events during 3-sigma standardization.\nExtracting batch of samples à 5000 events from DVS sequence...\nDiscarded 11 events during subsampling.\nDiscarded 320 events during 3-sigma standardization.\nExtracting batch of samples à 5000 events from DVS sequence...\nDiscarded 476 events during subsampling.\nDiscarded 334 events during 3-sigma standardization.\nExtracting batch of samples à 5000 events from DVS sequence...\nDiscarded 388 events during subsampling.\nDiscarded 373 events during 3-sigma standardization.\n"
     ]
    },
    {
     "name": "stdout",
     "output_type": "stream",
     "text": [
      "Extracting batch of samples à 5000 events from DVS sequence...\nDiscarded 193 events during subsampling.\nDiscarded 606 events during 3-sigma standardization.\nExtracting batch of samples à 5000 events from DVS sequence...\nDiscarded 308 events during subsampling.\nDiscarded 349 events during 3-sigma standardization.\nExtracting batch of samples à 5000 events from DVS sequence...\nDiscarded 382 events during subsampling.\nDiscarded 404 events during 3-sigma standardization.\nExtracting batch of samples à 5000 events from DVS sequence...\nDiscarded 322 events during subsampling.\nDiscarded 565 events during 3-sigma standardization.\nExtracting batch of samples à 5000 events from DVS sequence...\nDiscarded 282 events during subsampling.\nDiscarded 220 events during 3-sigma standardization.\nExtracting batch of samples à 5000 events from DVS sequence...\nDiscarded 377 events during subsampling.\nDiscarded 206 events during 3-sigma standardization."
     ]
    },
    {
     "name": "stdout",
     "output_type": "stream",
     "text": [
      "\nExtracting batch of samples à 5000 events from DVS sequence...\nDiscarded 2178 events during subsampling.\nDiscarded 191 events during 3-sigma standardization.\nExtracting batch of samples à 5000 events from DVS sequence...\nDiscarded 393 events during subsampling.\nDiscarded 191 events during 3-sigma standardization.\nExtracting batch of samples à 5000 events from DVS sequence...\nDiscarded 362 events during subsampling.\nDiscarded 206 events during 3-sigma standardization.\nExtracting batch of samples à 5000 events from DVS sequence...\nDiscarded 426 events during subsampling.\nDiscarded 196 events during 3-sigma standardization.\nExtracting batch of samples à 5000 events from DVS sequence...\nDiscarded 420 events during subsampling.\nDiscarded 214 events during 3-sigma standardization.\nExtracting batch of samples à 5000 events from DVS sequence...\n"
     ]
    },
    {
     "name": "stdout",
     "output_type": "stream",
     "text": [
      "Discarded 704 events during subsampling.\nDiscarded 264 events during 3-sigma standardization.\nExtracting batch of samples à 5000 events from DVS sequence...\nDiscarded 251 events during subsampling.\nDiscarded 296 events during 3-sigma standardization.\nExtracting batch of samples à 5000 events from DVS sequence...\nDiscarded 27 events during subsampling.\nDiscarded 320 events during 3-sigma standardization.\nExtracting batch of samples à 5000 events from DVS sequence...\nDiscarded 20 events during subsampling.\nDiscarded 340 events during 3-sigma standardization.\nExtracting batch of samples à 5000 events from DVS sequence...\nDiscarded 141 events during subsampling.\nDiscarded 347 events during 3-sigma standardization.\nExtracting batch of samples à 5000 events from DVS sequence...\nDiscarded 399 events during subsampling.\nDiscarded 321 events during 3-sigma standardization.\n"
     ]
    },
    {
     "name": "stdout",
     "output_type": "stream",
     "text": [
      "Extracting batch of samples à 5000 events from DVS sequence...\nDiscarded 255 events during subsampling.\nDiscarded 276 events during 3-sigma standardization.\nExtracting batch of samples à 5000 events from DVS sequence...\nDiscarded 74 events during subsampling.\nDiscarded 295 events during 3-sigma standardization.\nExtracting batch of samples à 5000 events from DVS sequence...\nDiscarded 805 events during subsampling.\nDiscarded 252 events during 3-sigma standardization.\nLoading DVS sample /home/rbodo/.snntoolbox/Datasets/predator_prey/aedat/not_balanced_4834samples/R/rec_15.aedat...\n"
     ]
    },
    {
     "name": "stdout",
     "output_type": "stream",
     "text": [
      "Total number of events of this sample: 415000.\nNumber of batches: 83.\nExtracting 83 frames from DVS event sequence.\n"
     ]
    },
    {
     "name": "stdout",
     "output_type": "stream",
     "text": [
      "Extracting batch of samples à 5000 events from DVS sequence...\nDiscarded 445 events during subsampling.\nDiscarded 271 events during 3-sigma standardization.\nExtracting batch of samples à 5000 events from DVS sequence...\nDiscarded 1152 events during subsampling.\nDiscarded 214 events during 3-sigma standardization.\nExtracting batch of samples à 5000 events from DVS sequence...\nDiscarded 2094 events during subsampling.\nDiscarded 197 events during 3-sigma standardization.\nExtracting batch of samples à 5000 events from DVS sequence...\nDiscarded 459 events during subsampling.\nDiscarded 237 events during 3-sigma standardization.\nExtracting batch of samples à 5000 events from DVS sequence...\nDiscarded 1974 events during subsampling.\nDiscarded 128 events during 3-sigma standardization."
     ]
    },
    {
     "name": "stdout",
     "output_type": "stream",
     "text": [
      "\nExtracting batch of samples à 5000 events from DVS sequence...\nDiscarded 2 events during subsampling.\nDiscarded 237 events during 3-sigma standardization.\nExtracting batch of samples à 5000 events from DVS sequence...\nDiscarded 581 events during subsampling.\nDiscarded 321 events during 3-sigma standardization.\nExtracting batch of samples à 5000 events from DVS sequence...\nDiscarded 544 events during subsampling.\nDiscarded 244 events during 3-sigma standardization.\nExtracting batch of samples à 5000 events from DVS sequence...\nDiscarded 781 events during subsampling.\nDiscarded 278 events during 3-sigma standardization.\nExtracting batch of samples à 5000 events from DVS sequence...\nDiscarded 716 events during subsampling.\nDiscarded 242 events during 3-sigma standardization.\nExtracting batch of samples à 5000 events from DVS sequence...\n"
     ]
    },
    {
     "name": "stdout",
     "output_type": "stream",
     "text": [
      "Discarded 1162 events during subsampling.\nDiscarded 257 events during 3-sigma standardization.\nExtracting batch of samples à 5000 events from DVS sequence...\nDiscarded 1077 events during subsampling.\nDiscarded 252 events during 3-sigma standardization.\nExtracting batch of samples à 5000 events from DVS sequence...\nDiscarded 722 events during subsampling.\nDiscarded 247 events during 3-sigma standardization.\nExtracting batch of samples à 5000 events from DVS sequence...\nDiscarded 1205 events during subsampling.\nDiscarded 209 events during 3-sigma standardization.\nExtracting batch of samples à 5000 events from DVS sequence...\nDiscarded 466 events during subsampling.\nDiscarded 247 events during 3-sigma standardization.\nExtracting batch of samples à 5000 events from DVS sequence...\nDiscarded 539 events during subsampling.\nDiscarded 258 events during 3-sigma standardization."
     ]
    },
    {
     "name": "stdout",
     "output_type": "stream",
     "text": [
      "\nExtracting batch of samples à 5000 events from DVS sequence...\nDiscarded 477 events during subsampling.\nDiscarded 260 events during 3-sigma standardization.\nExtracting batch of samples à 5000 events from DVS sequence...\nDiscarded 650 events during subsampling.\nDiscarded 240 events during 3-sigma standardization.\nExtracting batch of samples à 5000 events from DVS sequence...\nDiscarded 395 events during subsampling.\nDiscarded 328 events during 3-sigma standardization.\nExtracting batch of samples à 5000 events from DVS sequence...\nDiscarded 243 events during subsampling.\nDiscarded 317 events during 3-sigma standardization.\nExtracting batch of samples à 5000 events from DVS sequence...\nDiscarded 571 events during subsampling.\nDiscarded 286 events during 3-sigma standardization.\nExtracting batch of samples à 5000 events from DVS sequence...\n"
     ]
    },
    {
     "name": "stdout",
     "output_type": "stream",
     "text": [
      "Discarded 763 events during subsampling.\nDiscarded 261 events during 3-sigma standardization.\nExtracting batch of samples à 5000 events from DVS sequence...\nDiscarded 420 events during subsampling.\nDiscarded 318 events during 3-sigma standardization.\nExtracting batch of samples à 5000 events from DVS sequence...\nDiscarded 505 events during subsampling.\nDiscarded 280 events during 3-sigma standardization.\nExtracting batch of samples à 5000 events from DVS sequence...\nDiscarded 326 events during subsampling.\n"
     ]
    },
    {
     "name": "stdout",
     "output_type": "stream",
     "text": [
      "Discarded 318 events during 3-sigma standardization.\nExtracting batch of samples à 5000 events from DVS sequence...\nDiscarded 531 events during subsampling.\nDiscarded 236 events during 3-sigma standardization.\nExtracting batch of samples à 5000 events from DVS sequence...\nDiscarded 300 events during subsampling.\nDiscarded 267 events during 3-sigma standardization.\nExtracting batch of samples à 5000 events from DVS sequence...\nDiscarded 817 events during subsampling.\nDiscarded 194 events during 3-sigma standardization.\nExtracting batch of samples à 5000 events from DVS sequence...\nDiscarded 427 events during subsampling.\nDiscarded 307 events during 3-sigma standardization.\nExtracting batch of samples à 5000 events from DVS sequence...\nDiscarded 206 events during subsampling.\nDiscarded 252 events during 3-sigma standardization.\nExtracting batch of samples à 5000 events from DVS sequence..."
     ]
    },
    {
     "name": "stdout",
     "output_type": "stream",
     "text": [
      "\nDiscarded 718 events during subsampling.\nDiscarded 232 events during 3-sigma standardization.\nExtracting batch of samples à 5000 events from DVS sequence...\nDiscarded 498 events during subsampling.\nDiscarded 287 events during 3-sigma standardization.\nExtracting batch of samples à 5000 events from DVS sequence...\nDiscarded 1701 events during subsampling.\nDiscarded 182 events during 3-sigma standardization.\nExtracting batch of samples à 5000 events from DVS sequence...\nDiscarded 1680 events during subsampling.\nDiscarded 169 events during 3-sigma standardization.\nExtracting batch of samples à 5000 events from DVS sequence...\nDiscarded 497 events during subsampling.\nDiscarded 297 events during 3-sigma standardization.\nExtracting batch of samples à 5000 events from DVS sequence...\nDiscarded 579 events during subsampling."
     ]
    },
    {
     "name": "stdout",
     "output_type": "stream",
     "text": [
      "\nDiscarded 283 events during 3-sigma standardization.\nExtracting batch of samples à 5000 events from DVS sequence...\nDiscarded 803 events during subsampling.\nDiscarded 290 events during 3-sigma standardization.\nExtracting batch of samples à 5000 events from DVS sequence...\nDiscarded 406 events during subsampling.\nDiscarded 483 events during 3-sigma standardization.\nExtracting batch of samples à 5000 events from DVS sequence...\nDiscarded 562 events during subsampling.\nDiscarded 420 events during 3-sigma standardization.\nExtracting batch of samples à 5000 events from DVS sequence...\nDiscarded 976 events during subsampling.\nDiscarded 278 events during 3-sigma standardization.\nExtracting batch of samples à 5000 events from DVS sequence...\nDiscarded 424 events during subsampling.\nDiscarded 511 events during 3-sigma standardization.\n"
     ]
    },
    {
     "name": "stdout",
     "output_type": "stream",
     "text": [
      "Extracting batch of samples à 5000 events from DVS sequence...\nDiscarded 460 events during subsampling.\nDiscarded 440 events during 3-sigma standardization.\nExtracting batch of samples à 5000 events from DVS sequence...\nDiscarded 478 events during subsampling.\nDiscarded 292 events during 3-sigma standardization.\nExtracting batch of samples à 5000 events from DVS sequence...\nDiscarded 608 events during subsampling.\nDiscarded 377 events during 3-sigma standardization.\nExtracting batch of samples à 5000 events from DVS sequence...\nDiscarded 1287 events during subsampling.\nDiscarded 221 events during 3-sigma standardization.\nExtracting batch of samples à 5000 events from DVS sequence...\nDiscarded 1079 events during subsampling.\nDiscarded 308 events during 3-sigma standardization.\nExtracting batch of samples à 5000 events from DVS sequence...\n"
     ]
    },
    {
     "name": "stdout",
     "output_type": "stream",
     "text": [
      "Discarded 778 events during subsampling.\nDiscarded 361 events during 3-sigma standardization.\nExtracting batch of samples à 5000 events from DVS sequence...\nDiscarded 695 events during subsampling.\nDiscarded 312 events during 3-sigma standardization.\nExtracting batch of samples à 5000 events from DVS sequence...\nDiscarded 868 events during subsampling.\nDiscarded 310 events during 3-sigma standardization.\nExtracting batch of samples à 5000 events from DVS sequence...\nDiscarded 786 events during subsampling.\nDiscarded 385 events during 3-sigma standardization.\nExtracting batch of samples à 5000 events from DVS sequence...\nDiscarded 1137 events during subsampling.\nDiscarded 198 events during 3-sigma standardization.\nExtracting batch of samples à 5000 events from DVS sequence...\n"
     ]
    },
    {
     "name": "stdout",
     "output_type": "stream",
     "text": [
      "Discarded 458 events during subsampling.\nDiscarded 336 events during 3-sigma standardization.\nExtracting batch of samples à 5000 events from DVS sequence...\nDiscarded 645 events during subsampling.\nDiscarded 284 events during 3-sigma standardization.\nExtracting batch of samples à 5000 events from DVS sequence...\nDiscarded 917 events during subsampling.\nDiscarded 279 events during 3-sigma standardization.\nExtracting batch of samples à 5000 events from DVS sequence...\nDiscarded 820 events during subsampling.\nDiscarded 401 events during 3-sigma standardization.\nExtracting batch of samples à 5000 events from DVS sequence...\nDiscarded 485 events during subsampling.\nDiscarded 440 events during 3-sigma standardization.\nExtracting batch of samples à 5000 events from DVS sequence...\nDiscarded 1430 events during subsampling.\nDiscarded 213 events during 3-sigma standardization.\nExtracting batch of samples à 5000 events from DVS sequence...\n"
     ]
    },
    {
     "name": "stdout",
     "output_type": "stream",
     "text": [
      "Discarded 373 events during subsampling.\nDiscarded 312 events during 3-sigma standardization.\nExtracting batch of samples à 5000 events from DVS sequence...\nDiscarded 326 events during subsampling.\nDiscarded 325 events during 3-sigma standardization.\nExtracting batch of samples à 5000 events from DVS sequence...\nDiscarded 1110 events during subsampling.\nDiscarded 218 events during 3-sigma standardization.\nExtracting batch of samples à 5000 events from DVS sequence...\nDiscarded 1013 events during subsampling.\nDiscarded 298 events during 3-sigma standardization.\nExtracting batch of samples à 5000 events from DVS sequence...\nDiscarded 633 events during subsampling.\nDiscarded 317 events during 3-sigma standardization.\nExtracting batch of samples à 5000 events from DVS sequence...\nDiscarded 327 events during subsampling.\nDiscarded 475 events during 3-sigma standardization."
     ]
    },
    {
     "name": "stdout",
     "output_type": "stream",
     "text": [
      "\nExtracting batch of samples à 5000 events from DVS sequence...\nDiscarded 253 events during subsampling.\nDiscarded 311 events during 3-sigma standardization.\nExtracting batch of samples à 5000 events from DVS sequence...\nDiscarded 969 events during subsampling.\nDiscarded 291 events during 3-sigma standardization.\nExtracting batch of samples à 5000 events from DVS sequence...\nDiscarded 433 events during subsampling.\nDiscarded 375 events during 3-sigma standardization.\nExtracting batch of samples à 5000 events from DVS sequence...\nDiscarded 735 events during subsampling.\nDiscarded 327 events during 3-sigma standardization.\nExtracting batch of samples à 5000 events from DVS sequence...\nDiscarded 716 events during subsampling.\nDiscarded 291 events during 3-sigma standardization.\nExtracting batch of samples à 5000 events from DVS sequence...\n"
     ]
    },
    {
     "name": "stdout",
     "output_type": "stream",
     "text": [
      "Discarded 634 events during subsampling.\nDiscarded 237 events during 3-sigma standardization.\nExtracting batch of samples à 5000 events from DVS sequence...\nDiscarded 872 events during subsampling.\nDiscarded 302 events during 3-sigma standardization.\nExtracting batch of samples à 5000 events from DVS sequence...\nDiscarded 353 events during subsampling.\nDiscarded 261 events during 3-sigma standardization.\nExtracting batch of samples à 5000 events from DVS sequence...\nDiscarded 781 events during subsampling.\nDiscarded 246 events during 3-sigma standardization.\nExtracting batch of samples à 5000 events from DVS sequence...\nDiscarded 911 events during subsampling.\nDiscarded 305 events during 3-sigma standardization.\nExtracting batch of samples à 5000 events from DVS sequence...\nDiscarded 1119 events during subsampling.\nDiscarded 242 events during 3-sigma standardization.\nExtracting batch of samples à 5000 events from DVS sequence...\n"
     ]
    },
    {
     "name": "stdout",
     "output_type": "stream",
     "text": [
      "Discarded 648 events during subsampling.\nDiscarded 244 events during 3-sigma standardization.\nExtracting batch of samples à 5000 events from DVS sequence...\nDiscarded 454 events during subsampling.\nDiscarded 258 events during 3-sigma standardization.\nExtracting batch of samples à 5000 events from DVS sequence...\nDiscarded 22 events during subsampling.\nDiscarded 446 events during 3-sigma standardization.\nExtracting batch of samples à 5000 events from DVS sequence...\nDiscarded 34 events during subsampling.\nDiscarded 312 events during 3-sigma standardization.\nExtracting batch of samples à 5000 events from DVS sequence...\nDiscarded 36 events during subsampling.\nDiscarded 363 events during 3-sigma standardization.\n"
     ]
    },
    {
     "name": "stdout",
     "output_type": "stream",
     "text": [
      "Extracting batch of samples à 5000 events from DVS sequence...\nDiscarded 12 events during subsampling.\nDiscarded 411 events during 3-sigma standardization.\nExtracting batch of samples à 5000 events from DVS sequence...\nDiscarded 30 events during subsampling.\nDiscarded 355 events during 3-sigma standardization.\nExtracting batch of samples à 5000 events from DVS sequence...\nDiscarded 32 events during subsampling.\nDiscarded 338 events during 3-sigma standardization.\nLoading DVS sample /home/rbodo/.snntoolbox/Datasets/predator_prey/aedat/not_balanced_4834samples/R/rec_16.aedat...\nTotal number of events of this sample: 30000.\nNumber of batches: 6.\nExtracting 6 frames from DVS event sequence.\n"
     ]
    },
    {
     "name": "stdout",
     "output_type": "stream",
     "text": [
      "Extracting batch of samples à 5000 events from DVS sequence...\nDiscarded 683 events during subsampling.\nDiscarded 228 events during 3-sigma standardization.\nExtracting batch of samples à 5000 events from DVS sequence...\nDiscarded 500 events during subsampling.\nDiscarded 239 events during 3-sigma standardization.\nExtracting batch of samples à 5000 events from DVS sequence...\nDiscarded 458 events during subsampling.\nDiscarded 219 events during 3-sigma standardization.\nExtracting batch of samples à 5000 events from DVS sequence...\nDiscarded 462 events during subsampling.\nDiscarded 188 events during 3-sigma standardization.\nExtracting batch of samples à 5000 events from DVS sequence...\n"
     ]
    },
    {
     "name": "stdout",
     "output_type": "stream",
     "text": [
      "Discarded 1144 events during subsampling.\nDiscarded 185 events during 3-sigma standardization.\nLoading DVS sample /home/rbodo/.snntoolbox/Datasets/predator_prey/aedat/not_balanced_4834samples/R/rec_18.aedat...\nTotal number of events of this sample: 190000.\nNumber of batches: 38.\nExtracting 38 frames from DVS event sequence.\n"
     ]
    },
    {
     "name": "stdout",
     "output_type": "stream",
     "text": [
      "Extracting batch of samples à 5000 events from DVS sequence...\nDiscarded 348 events during subsampling.\nDiscarded 243 events during 3-sigma standardization.\nExtracting batch of samples à 5000 events from DVS sequence...\nDiscarded 354 events during subsampling.\nDiscarded 253 events during 3-sigma standardization.\nExtracting batch of samples à 5000 events from DVS sequence...\nDiscarded 1186 events during subsampling.\nDiscarded 215 events during 3-sigma standardization.\nExtracting batch of samples à 5000 events from DVS sequence...\nDiscarded 1752 events during subsampling.\nDiscarded 155 events during 3-sigma standardization.\nExtracting batch of samples à 5000 events from DVS sequence...\nDiscarded 1825 events during subsampling.\nDiscarded 229 events during 3-sigma standardization.\n"
     ]
    },
    {
     "name": "stdout",
     "output_type": "stream",
     "text": [
      "Extracting batch of samples à 5000 events from DVS sequence...\nDiscarded 1103 events during subsampling.\nDiscarded 187 events during 3-sigma standardization.\nExtracting batch of samples à 5000 events from DVS sequence...\nDiscarded 403 events during subsampling.\nDiscarded 218 events during 3-sigma standardization.\nExtracting batch of samples à 5000 events from DVS sequence...\nDiscarded 1338 events during subsampling.\nDiscarded 206 events during 3-sigma standardization.\nExtracting batch of samples à 5000 events from DVS sequence...\nDiscarded 2106 events during subsampling.\nDiscarded 194 events during 3-sigma standardization.\nExtracting batch of samples à 5000 events from DVS sequence...\nDiscarded 189 events during subsampling.\nDiscarded 281 events during 3-sigma standardization.\nExtracting batch of samples à 5000 events from DVS sequence...\nDiscarded 381 events during subsampling."
     ]
    },
    {
     "name": "stdout",
     "output_type": "stream",
     "text": [
      "\nDiscarded 241 events during 3-sigma standardization.\nExtracting batch of samples à 5000 events from DVS sequence...\nDiscarded 563 events during subsampling.\nDiscarded 264 events during 3-sigma standardization.\nExtracting batch of samples à 5000 events from DVS sequence...\nDiscarded 429 events during subsampling.\nDiscarded 258 events during 3-sigma standardization.\nExtracting batch of samples à 5000 events from DVS sequence...\nDiscarded 998 events during subsampling.\nDiscarded 211 events during 3-sigma standardization.\nExtracting batch of samples à 5000 events from DVS sequence...\nDiscarded 864 events during subsampling.\nDiscarded 233 events during 3-sigma standardization.\nExtracting batch of samples à 5000 events from DVS sequence...\nDiscarded 815 events during subsampling.\nDiscarded 274 events during 3-sigma standardization.\nExtracting batch of samples à 5000 events from DVS sequence...\n"
     ]
    },
    {
     "name": "stdout",
     "output_type": "stream",
     "text": [
      "Discarded 541 events during subsampling.\nDiscarded 391 events during 3-sigma standardization.\nExtracting batch of samples à 5000 events from DVS sequence...\nDiscarded 653 events during subsampling.\nDiscarded 342 events during 3-sigma standardization.\nExtracting batch of samples à 5000 events from DVS sequence...\nDiscarded 636 events during subsampling.\nDiscarded 378 events during 3-sigma standardization.\nExtracting batch of samples à 5000 events from DVS sequence...\nDiscarded 345 events during subsampling.\nDiscarded 549 events during 3-sigma standardization.\nExtracting batch of samples à 5000 events from DVS sequence...\nDiscarded 308 events during subsampling.\nDiscarded 536 events during 3-sigma standardization.\nExtracting batch of samples à 5000 events from DVS sequence...\n"
     ]
    },
    {
     "name": "stdout",
     "output_type": "stream",
     "text": [
      "Discarded 979 events during subsampling.\nDiscarded 403 events during 3-sigma standardization.\nExtracting batch of samples à 5000 events from DVS sequence...\nDiscarded 1234 events during subsampling.\nDiscarded 333 events during 3-sigma standardization.\nExtracting batch of samples à 5000 events from DVS sequence...\nDiscarded 1547 events during subsampling.\nDiscarded 183 events during 3-sigma standardization.\nExtracting batch of samples à 5000 events from DVS sequence...\nDiscarded 555 events during subsampling.\nDiscarded 224 events during 3-sigma standardization.\nExtracting batch of samples à 5000 events from DVS sequence...\nDiscarded 610 events during subsampling.\nDiscarded 226 events during 3-sigma standardization.\nExtracting batch of samples à 5000 events from DVS sequence...\nDiscarded 716 events during subsampling.\nDiscarded 291 events during 3-sigma standardization.\nExtracting batch of samples à 5000 events from DVS sequence...\n"
     ]
    },
    {
     "name": "stdout",
     "output_type": "stream",
     "text": [
      "Discarded 647 events during subsampling.\nDiscarded 262 events during 3-sigma standardization.\nExtracting batch of samples à 5000 events from DVS sequence...\nDiscarded 1154 events during subsampling.\nDiscarded 239 events during 3-sigma standardization.\nExtracting batch of samples à 5000 events from DVS sequence...\nDiscarded 744 events during subsampling.\nDiscarded 275 events during 3-sigma standardization.\nExtracting batch of samples à 5000 events from DVS sequence...\nDiscarded 662 events during subsampling.\nDiscarded 254 events during 3-sigma standardization.\nExtracting batch of samples à 5000 events from DVS sequence...\nDiscarded 1445 events during subsampling.\nDiscarded 229 events during 3-sigma standardization.\nExtracting batch of samples à 5000 events from DVS sequence...\nDiscarded 755 events during subsampling."
     ]
    },
    {
     "name": "stdout",
     "output_type": "stream",
     "text": [
      "\nDiscarded 306 events during 3-sigma standardization.\nExtracting batch of samples à 5000 events from DVS sequence...\nDiscarded 1619 events during subsampling.\nDiscarded 214 events during 3-sigma standardization.\nExtracting batch of samples à 5000 events from DVS sequence...\nDiscarded 761 events during subsampling.\nDiscarded 270 events during 3-sigma standardization.\nExtracting batch of samples à 5000 events from DVS sequence...\nDiscarded 1599 events during subsampling.\nDiscarded 179 events during 3-sigma standardization.\nExtracting batch of samples à 5000 events from DVS sequence...\nDiscarded 1668 events during subsampling.\nDiscarded 180 events during 3-sigma standardization.\nLoading DVS sample /home/rbodo/.snntoolbox/Datasets/predator_prey/aedat/not_balanced_4834samples/R/rec_2.aedat...\n"
     ]
    },
    {
     "name": "stdout",
     "output_type": "stream",
     "text": [
      "Total number of events of this sample: 515000.\nNumber of batches: 103.\nExtracting 103 frames from DVS event sequence.\n"
     ]
    },
    {
     "name": "stdout",
     "output_type": "stream",
     "text": [
      "Extracting batch of samples à 5000 events from DVS sequence...\nDiscarded 290 events during subsampling.\nDiscarded 283 events during 3-sigma standardization.\nExtracting batch of samples à 5000 events from DVS sequence...\nDiscarded 1414 events during subsampling.\nDiscarded 219 events during 3-sigma standardization.\nExtracting batch of samples à 5000 events from DVS sequence...\nDiscarded 414 events during subsampling.\nDiscarded 224 events during 3-sigma standardization.\nExtracting batch of samples à 5000 events from DVS sequence...\nDiscarded 492 events during subsampling.\nDiscarded 242 events during 3-sigma standardization.\nExtracting batch of samples à 5000 events from DVS sequence...\nDiscarded 1148 events during subsampling.\n"
     ]
    },
    {
     "name": "stdout",
     "output_type": "stream",
     "text": [
      "Discarded 280 events during 3-sigma standardization.\nExtracting batch of samples à 5000 events from DVS sequence...\nDiscarded 619 events during subsampling.\nDiscarded 244 events during 3-sigma standardization.\nExtracting batch of samples à 5000 events from DVS sequence...\nDiscarded 434 events during subsampling.\nDiscarded 237 events during 3-sigma standardization.\nExtracting batch of samples à 5000 events from DVS sequence...\nDiscarded 361 events during subsampling.\nDiscarded 206 events during 3-sigma standardization.\nExtracting batch of samples à 5000 events from DVS sequence...\nDiscarded 391 events during subsampling.\nDiscarded 217 events during 3-sigma standardization.\nExtracting batch of samples à 5000 events from DVS sequence...\n"
     ]
    },
    {
     "name": "stdout",
     "output_type": "stream",
     "text": [
      "Discarded 399 events during subsampling.\nDiscarded 191 events during 3-sigma standardization.\nExtracting batch of samples à 5000 events from DVS sequence...\nDiscarded 1348 events during subsampling.\nDiscarded 240 events during 3-sigma standardization.\nExtracting batch of samples à 5000 events from DVS sequence...\nDiscarded 734 events during subsampling.\nDiscarded 249 events during 3-sigma standardization.\nExtracting batch of samples à 5000 events from DVS sequence...\nDiscarded 423 events during subsampling.\nDiscarded 304 events during 3-sigma standardization.\nExtracting batch of samples à 5000 events from DVS sequence...\nDiscarded 527 events during subsampling.\nDiscarded 277 events during 3-sigma standardization.\nExtracting batch of samples à 5000 events from DVS sequence...\nDiscarded 547 events during subsampling.\nDiscarded 302 events during 3-sigma standardization."
     ]
    },
    {
     "name": "stdout",
     "output_type": "stream",
     "text": [
      "\nExtracting batch of samples à 5000 events from DVS sequence...\nDiscarded 480 events during subsampling.\nDiscarded 272 events during 3-sigma standardization.\nExtracting batch of samples à 5000 events from DVS sequence...\nDiscarded 389 events during subsampling.\nDiscarded 268 events during 3-sigma standardization.\nExtracting batch of samples à 5000 events from DVS sequence...\nDiscarded 492 events during subsampling.\nDiscarded 230 events during 3-sigma standardization.\nExtracting batch of samples à 5000 events from DVS sequence...\nDiscarded 415 events during subsampling.\nDiscarded 198 events during 3-sigma standardization.\nExtracting batch of samples à 5000 events from DVS sequence...\nDiscarded 345 events during subsampling.\nDiscarded 254 events during 3-sigma standardization.\nExtracting batch of samples à 5000 events from DVS sequence..."
     ]
    },
    {
     "name": "stdout",
     "output_type": "stream",
     "text": [
      "\nDiscarded 636 events during subsampling.\nDiscarded 192 events during 3-sigma standardization.\nExtracting batch of samples à 5000 events from DVS sequence...\nDiscarded 1314 events during subsampling.\nDiscarded 201 events during 3-sigma standardization.\nExtracting batch of samples à 5000 events from DVS sequence...\nDiscarded 547 events during subsampling.\nDiscarded 274 events during 3-sigma standardization.\nExtracting batch of samples à 5000 events from DVS sequence...\nDiscarded 503 events during subsampling.\nDiscarded 310 events during 3-sigma standardization.\nExtracting batch of samples à 5000 events from DVS sequence...\nDiscarded 447 events during subsampling.\nDiscarded 201 events during 3-sigma standardization.\nExtracting batch of samples à 5000 events from DVS sequence...\n"
     ]
    },
    {
     "name": "stdout",
     "output_type": "stream",
     "text": [
      "Discarded 482 events during subsampling.\nDiscarded 242 events during 3-sigma standardization.\nExtracting batch of samples à 5000 events from DVS sequence...\nDiscarded 441 events during subsampling.\nDiscarded 248 events during 3-sigma standardization.\nExtracting batch of samples à 5000 events from DVS sequence...\nDiscarded 435 events during subsampling.\nDiscarded 205 events during 3-sigma standardization.\nExtracting batch of samples à 5000 events from DVS sequence...\nDiscarded 461 events during subsampling.\nDiscarded 213 events during 3-sigma standardization.\nExtracting batch of samples à 5000 events from DVS sequence...\nDiscarded 446 events during subsampling.\nDiscarded 222 events during 3-sigma standardization.\nExtracting batch of samples à 5000 events from DVS sequence...\n"
     ]
    },
    {
     "name": "stdout",
     "output_type": "stream",
     "text": [
      "Discarded 442 events during subsampling.\nDiscarded 256 events during 3-sigma standardization.\nExtracting batch of samples à 5000 events from DVS sequence...\nDiscarded 467 events during subsampling.\nDiscarded 181 events during 3-sigma standardization.\nExtracting batch of samples à 5000 events from DVS sequence...\nDiscarded 374 events during subsampling.\nDiscarded 255 events during 3-sigma standardization.\nExtracting batch of samples à 5000 events from DVS sequence...\nDiscarded 334 events during subsampling.\nDiscarded 242 events during 3-sigma standardization.\nExtracting batch of samples à 5000 events from DVS sequence...\nDiscarded 428 events during subsampling.\nDiscarded 228 events during 3-sigma standardization.\nExtracting batch of samples à 5000 events from DVS sequence...\n"
     ]
    },
    {
     "name": "stdout",
     "output_type": "stream",
     "text": [
      "Discarded 420 events during subsampling.\nDiscarded 241 events during 3-sigma standardization.\nExtracting batch of samples à 5000 events from DVS sequence...\nDiscarded 2119 events during subsampling.\nDiscarded 138 events during 3-sigma standardization.\nExtracting batch of samples à 5000 events from DVS sequence...\nDiscarded 477 events during subsampling.\nDiscarded 219 events during 3-sigma standardization.\nExtracting batch of samples à 5000 events from DVS sequence...\nDiscarded 589 events during subsampling.\nDiscarded 224 events during 3-sigma standardization.\nExtracting batch of samples à 5000 events from DVS sequence...\nDiscarded 403 events during subsampling.\nDiscarded 235 events during 3-sigma standardization.\nExtracting batch of samples à 5000 events from DVS sequence...\nDiscarded 464 events during subsampling.\nDiscarded 196 events during 3-sigma standardization.\n"
     ]
    },
    {
     "name": "stdout",
     "output_type": "stream",
     "text": [
      "Extracting batch of samples à 5000 events from DVS sequence...\nDiscarded 517 events during subsampling.\nDiscarded 242 events during 3-sigma standardization.\nExtracting batch of samples à 5000 events from DVS sequence...\nDiscarded 441 events during subsampling.\nDiscarded 205 events during 3-sigma standardization.\nExtracting batch of samples à 5000 events from DVS sequence...\nDiscarded 548 events during subsampling.\nDiscarded 185 events during 3-sigma standardization.\nExtracting batch of samples à 5000 events from DVS sequence...\nDiscarded 533 events during subsampling.\nDiscarded 252 events during 3-sigma standardization.\nExtracting batch of samples à 5000 events from DVS sequence...\nDiscarded 475 events during subsampling.\nDiscarded 218 events during 3-sigma standardization.\nExtracting batch of samples à 5000 events from DVS sequence...\n"
     ]
    },
    {
     "name": "stdout",
     "output_type": "stream",
     "text": [
      "Discarded 492 events during subsampling.\nDiscarded 177 events during 3-sigma standardization.\nExtracting batch of samples à 5000 events from DVS sequence...\nDiscarded 436 events during subsampling.\nDiscarded 186 events during 3-sigma standardization.\nExtracting batch of samples à 5000 events from DVS sequence...\nDiscarded 591 events during subsampling.\nDiscarded 165 events during 3-sigma standardization.\nExtracting batch of samples à 5000 events from DVS sequence...\nDiscarded 576 events during subsampling.\nDiscarded 214 events during 3-sigma standardization.\nExtracting batch of samples à 5000 events from DVS sequence...\nDiscarded 698 events during subsampling.\nDiscarded 200 events during 3-sigma standardization.\nExtracting batch of samples à 5000 events from DVS sequence...\n"
     ]
    },
    {
     "name": "stdout",
     "output_type": "stream",
     "text": [
      "Discarded 558 events during subsampling.\nDiscarded 240 events during 3-sigma standardization.\nExtracting batch of samples à 5000 events from DVS sequence...\nDiscarded 516 events during subsampling.\nDiscarded 237 events during 3-sigma standardization.\nExtracting batch of samples à 5000 events from DVS sequence...\nDiscarded 868 events during subsampling.\nDiscarded 222 events during 3-sigma standardization.\nExtracting batch of samples à 5000 events from DVS sequence...\nDiscarded 1845 events during subsampling.\nDiscarded 200 events during 3-sigma standardization.\nExtracting batch of samples à 5000 events from DVS sequence...\nDiscarded 895 events during subsampling.\nDiscarded 435 events during 3-sigma standardization.\nExtracting batch of samples à 5000 events from DVS sequence...\n"
     ]
    },
    {
     "name": "stdout",
     "output_type": "stream",
     "text": [
      "Discarded 529 events during subsampling.\nDiscarded 198 events during 3-sigma standardization.\nExtracting batch of samples à 5000 events from DVS sequence...\nDiscarded 562 events during subsampling.\nDiscarded 185 events during 3-sigma standardization.\nExtracting batch of samples à 5000 events from DVS sequence...\nDiscarded 481 events during subsampling.\nDiscarded 226 events during 3-sigma standardization.\nExtracting batch of samples à 5000 events from DVS sequence...\nDiscarded 474 events during subsampling.\nDiscarded 248 events during 3-sigma standardization.\nExtracting batch of samples à 5000 events from DVS sequence...\nDiscarded 453 events during subsampling.\nDiscarded 167 events during 3-sigma standardization.\nExtracting batch of samples à 5000 events from DVS sequence...\n"
     ]
    },
    {
     "name": "stdout",
     "output_type": "stream",
     "text": [
      "Discarded 486 events during subsampling.\nDiscarded 269 events during 3-sigma standardization.\nExtracting batch of samples à 5000 events from DVS sequence...\nDiscarded 636 events during subsampling.\nDiscarded 188 events during 3-sigma standardization.\nExtracting batch of samples à 5000 events from DVS sequence...\nDiscarded 568 events during subsampling.\nDiscarded 192 events during 3-sigma standardization.\nExtracting batch of samples à 5000 events from DVS sequence...\nDiscarded 789 events during subsampling.\nDiscarded 201 events during 3-sigma standardization.\nExtracting batch of samples à 5000 events from DVS sequence...\nDiscarded 644 events during subsampling.\nDiscarded 117 events during 3-sigma standardization.\nExtracting batch of samples à 5000 events from DVS sequence...\nDiscarded 6 events during subsampling.\nDiscarded 251 events during 3-sigma standardization.\n"
     ]
    },
    {
     "name": "stdout",
     "output_type": "stream",
     "text": [
      "Extracting batch of samples à 5000 events from DVS sequence...\nDiscarded 16 events during subsampling.\nDiscarded 424 events during 3-sigma standardization.\nExtracting batch of samples à 5000 events from DVS sequence...\nDiscarded 471 events during subsampling.\nDiscarded 208 events during 3-sigma standardization.\nExtracting batch of samples à 5000 events from DVS sequence...\nDiscarded 1033 events during subsampling.\nDiscarded 203 events during 3-sigma standardization.\nExtracting batch of samples à 5000 events from DVS sequence...\nDiscarded 716 events during subsampling.\nDiscarded 224 events during 3-sigma standardization.\nExtracting batch of samples à 5000 events from DVS sequence...\nDiscarded 584 events during subsampling.\nDiscarded 217 events during 3-sigma standardization.\nExtracting batch of samples à 5000 events from DVS sequence...\n"
     ]
    },
    {
     "name": "stdout",
     "output_type": "stream",
     "text": [
      "Discarded 588 events during subsampling.\nDiscarded 252 events during 3-sigma standardization.\nExtracting batch of samples à 5000 events from DVS sequence...\nDiscarded 537 events during subsampling.\nDiscarded 191 events during 3-sigma standardization.\nExtracting batch of samples à 5000 events from DVS sequence...\nDiscarded 677 events during subsampling.\nDiscarded 192 events during 3-sigma standardization.\nExtracting batch of samples à 5000 events from DVS sequence...\nDiscarded 446 events during subsampling.\nDiscarded 265 events during 3-sigma standardization.\nExtracting batch of samples à 5000 events from DVS sequence...\nDiscarded 556 events during subsampling.\nDiscarded 193 events during 3-sigma standardization.\nExtracting batch of samples à 5000 events from DVS sequence...\n"
     ]
    },
    {
     "name": "stdout",
     "output_type": "stream",
     "text": [
      "Discarded 509 events during subsampling.\nDiscarded 176 events during 3-sigma standardization.\nExtracting batch of samples à 5000 events from DVS sequence...\nDiscarded 265 events during subsampling.\nDiscarded 265 events during 3-sigma standardization.\nExtracting batch of samples à 5000 events from DVS sequence...\nDiscarded 205 events during subsampling.\nDiscarded 367 events during 3-sigma standardization.\nExtracting batch of samples à 5000 events from DVS sequence...\nDiscarded 607 events during subsampling.\nDiscarded 193 events during 3-sigma standardization.\nExtracting batch of samples à 5000 events from DVS sequence...\nDiscarded 778 events during subsampling.\nDiscarded 210 events during 3-sigma standardization.\nExtracting batch of samples à 5000 events from DVS sequence...\nDiscarded 1660 events during subsampling.\nDiscarded 177 events during 3-sigma standardization.\nExtracting batch of samples à 5000 events from DVS sequence..."
     ]
    },
    {
     "name": "stdout",
     "output_type": "stream",
     "text": [
      "\nDiscarded 466 events during subsampling.\nDiscarded 199 events during 3-sigma standardization.\nExtracting batch of samples à 5000 events from DVS sequence...\nDiscarded 628 events during subsampling.\nDiscarded 146 events during 3-sigma standardization.\nExtracting batch of samples à 5000 events from DVS sequence...\nDiscarded 556 events during subsampling.\nDiscarded 212 events during 3-sigma standardization.\nExtracting batch of samples à 5000 events from DVS sequence...\nDiscarded 639 events during subsampling.\nDiscarded 208 events during 3-sigma standardization.\nExtracting batch of samples à 5000 events from DVS sequence...\nDiscarded 576 events during subsampling.\nDiscarded 160 events during 3-sigma standardization.\nExtracting batch of samples à 5000 events from DVS sequence...\n"
     ]
    },
    {
     "name": "stdout",
     "output_type": "stream",
     "text": [
      "Discarded 508 events during subsampling.\nDiscarded 215 events during 3-sigma standardization.\nExtracting batch of samples à 5000 events from DVS sequence...\nDiscarded 428 events during subsampling.\nDiscarded 254 events during 3-sigma standardization.\nExtracting batch of samples à 5000 events from DVS sequence...\nDiscarded 481 events during subsampling.\nDiscarded 189 events during 3-sigma standardization.\nExtracting batch of samples à 5000 events from DVS sequence...\nDiscarded 483 events during subsampling.\nDiscarded 218 events during 3-sigma standardization.\nExtracting batch of samples à 5000 events from DVS sequence...\nDiscarded 631 events during subsampling.\nDiscarded 201 events during 3-sigma standardization.\nExtracting batch of samples à 5000 events from DVS sequence..."
     ]
    },
    {
     "name": "stdout",
     "output_type": "stream",
     "text": [
      "\nDiscarded 547 events during subsampling.\nDiscarded 203 events during 3-sigma standardization.\nExtracting batch of samples à 5000 events from DVS sequence...\nDiscarded 489 events during subsampling.\nDiscarded 272 events during 3-sigma standardization.\nExtracting batch of samples à 5000 events from DVS sequence...\nDiscarded 922 events during subsampling.\nDiscarded 321 events during 3-sigma standardization.\nExtracting batch of samples à 5000 events from DVS sequence...\nDiscarded 521 events during subsampling.\nDiscarded 240 events during 3-sigma standardization.\nExtracting batch of samples à 5000 events from DVS sequence...\nDiscarded 2285 events during subsampling.\nDiscarded 123 events during 3-sigma standardization.\nExtracting batch of samples à 5000 events from DVS sequence...\n"
     ]
    },
    {
     "name": "stdout",
     "output_type": "stream",
     "text": [
      "Discarded 787 events during subsampling.\nDiscarded 204 events during 3-sigma standardization.\nExtracting batch of samples à 5000 events from DVS sequence...\nDiscarded 702 events during subsampling.\nDiscarded 276 events during 3-sigma standardization.\nExtracting batch of samples à 5000 events from DVS sequence...\nDiscarded 551 events during subsampling.\nDiscarded 291 events during 3-sigma standardization.\nExtracting batch of samples à 5000 events from DVS sequence...\nDiscarded 431 events during subsampling.\nDiscarded 198 events during 3-sigma standardization.\nLoading DVS sample /home/rbodo/.snntoolbox/Datasets/predator_prey/aedat/not_balanced_4834samples/R/rec_3.aedat...\n"
     ]
    },
    {
     "name": "stdout",
     "output_type": "stream",
     "text": [
      "Total number of events of this sample: 620000.\nNumber of batches: 124.\nExtracting 124 frames from DVS event sequence.\n"
     ]
    },
    {
     "name": "stdout",
     "output_type": "stream",
     "text": [
      "Extracting batch of samples à 5000 events from DVS sequence...\nDiscarded 400 events during subsampling.\nDiscarded 202 events during 3-sigma standardization.\nExtracting batch of samples à 5000 events from DVS sequence...\nDiscarded 379 events during subsampling.\nDiscarded 269 events during 3-sigma standardization.\nExtracting batch of samples à 5000 events from DVS sequence...\nDiscarded 365 events during subsampling.\nDiscarded 221 events during 3-sigma standardization.\nExtracting batch of samples à 5000 events from DVS sequence...\nDiscarded 394 events during subsampling.\nDiscarded 223 events during 3-sigma standardization.\nExtracting batch of samples à 5000 events from DVS sequence...\nDiscarded 353 events during subsampling.\n"
     ]
    },
    {
     "name": "stdout",
     "output_type": "stream",
     "text": [
      "Discarded 264 events during 3-sigma standardization.\nExtracting batch of samples à 5000 events from DVS sequence...\nDiscarded 517 events during subsampling.\nDiscarded 303 events during 3-sigma standardization.\nExtracting batch of samples à 5000 events from DVS sequence...\nDiscarded 461 events during subsampling.\nDiscarded 260 events during 3-sigma standardization.\nExtracting batch of samples à 5000 events from DVS sequence...\nDiscarded 506 events during subsampling.\nDiscarded 244 events during 3-sigma standardization.\nExtracting batch of samples à 5000 events from DVS sequence...\nDiscarded 357 events during subsampling.\nDiscarded 216 events during 3-sigma standardization.\nExtracting batch of samples à 5000 events from DVS sequence...\n"
     ]
    },
    {
     "name": "stdout",
     "output_type": "stream",
     "text": [
      "Discarded 419 events during subsampling.\nDiscarded 217 events during 3-sigma standardization.\nExtracting batch of samples à 5000 events from DVS sequence...\nDiscarded 465 events during subsampling.\nDiscarded 228 events during 3-sigma standardization.\nExtracting batch of samples à 5000 events from DVS sequence...\nDiscarded 278 events during subsampling.\nDiscarded 239 events during 3-sigma standardization.\nExtracting batch of samples à 5000 events from DVS sequence...\nDiscarded 1057 events during subsampling.\nDiscarded 267 events during 3-sigma standardization.\nExtracting batch of samples à 5000 events from DVS sequence...\nDiscarded 548 events during subsampling.\nDiscarded 234 events during 3-sigma standardization.\nExtracting batch of samples à 5000 events from DVS sequence...\nDiscarded 516 events during subsampling.\nDiscarded 229 events during 3-sigma standardization.\nExtracting batch of samples à 5000 events from DVS sequence..."
     ]
    },
    {
     "name": "stdout",
     "output_type": "stream",
     "text": [
      "\nDiscarded 146 events during subsampling.\nDiscarded 344 events during 3-sigma standardization.\nExtracting batch of samples à 5000 events from DVS sequence...\nDiscarded 878 events during subsampling.\nDiscarded 328 events during 3-sigma standardization.\nExtracting batch of samples à 5000 events from DVS sequence...\nDiscarded 376 events during subsampling.\nDiscarded 203 events during 3-sigma standardization.\nExtracting batch of samples à 5000 events from DVS sequence...\nDiscarded 419 events during subsampling.\nDiscarded 231 events during 3-sigma standardization.\nExtracting batch of samples à 5000 events from DVS sequence...\nDiscarded 1750 events during subsampling.\nDiscarded 188 events during 3-sigma standardization.\nExtracting batch of samples à 5000 events from DVS sequence...\n"
     ]
    },
    {
     "name": "stdout",
     "output_type": "stream",
     "text": [
      "Discarded 410 events during subsampling.\nDiscarded 209 events during 3-sigma standardization.\nExtracting batch of samples à 5000 events from DVS sequence...\nDiscarded 402 events during subsampling.\nDiscarded 237 events during 3-sigma standardization.\nExtracting batch of samples à 5000 events from DVS sequence...\nDiscarded 446 events during subsampling.\nDiscarded 212 events during 3-sigma standardization.\nExtracting batch of samples à 5000 events from DVS sequence...\nDiscarded 416 events during subsampling.\nDiscarded 247 events during 3-sigma standardization.\nExtracting batch of samples à 5000 events from DVS sequence...\nDiscarded 442 events during subsampling.\nDiscarded 212 events during 3-sigma standardization.\nExtracting batch of samples à 5000 events from DVS sequence..."
     ]
    },
    {
     "name": "stdout",
     "output_type": "stream",
     "text": [
      "\nDiscarded 380 events during subsampling.\nDiscarded 216 events during 3-sigma standardization.\nExtracting batch of samples à 5000 events from DVS sequence...\nDiscarded 438 events during subsampling.\nDiscarded 277 events during 3-sigma standardization.\nExtracting batch of samples à 5000 events from DVS sequence...\nDiscarded 441 events during subsampling.\nDiscarded 236 events during 3-sigma standardization.\nExtracting batch of samples à 5000 events from DVS sequence...\nDiscarded 482 events during subsampling.\nDiscarded 242 events during 3-sigma standardization.\nExtracting batch of samples à 5000 events from DVS sequence...\nDiscarded 349 events during subsampling.\nDiscarded 217 events during 3-sigma standardization.\nExtracting batch of samples à 5000 events from DVS sequence...\nDiscarded 328 events during subsampling.\n"
     ]
    },
    {
     "name": "stdout",
     "output_type": "stream",
     "text": [
      "Discarded 233 events during 3-sigma standardization.\nExtracting batch of samples à 5000 events from DVS sequence...\nDiscarded 377 events during subsampling.\nDiscarded 243 events during 3-sigma standardization.\nExtracting batch of samples à 5000 events from DVS sequence...\nDiscarded 401 events during subsampling.\nDiscarded 236 events during 3-sigma standardization.\nExtracting batch of samples à 5000 events from DVS sequence...\nDiscarded 763 events during subsampling.\nDiscarded 210 events during 3-sigma standardization.\nExtracting batch of samples à 5000 events from DVS sequence...\nDiscarded 484 events during subsampling.\nDiscarded 243 events during 3-sigma standardization.\nExtracting batch of samples à 5000 events from DVS sequence...\nDiscarded 536 events during subsampling.\nDiscarded 339 events during 3-sigma standardization.\nExtracting batch of samples à 5000 events from DVS sequence..."
     ]
    },
    {
     "name": "stdout",
     "output_type": "stream",
     "text": [
      "\nDiscarded 575 events during subsampling.\nDiscarded 269 events during 3-sigma standardization.\nExtracting batch of samples à 5000 events from DVS sequence...\nDiscarded 646 events during subsampling.\nDiscarded 294 events during 3-sigma standardization.\nExtracting batch of samples à 5000 events from DVS sequence...\nDiscarded 1366 events during subsampling.\nDiscarded 177 events during 3-sigma standardization.\nExtracting batch of samples à 5000 events from DVS sequence...\nDiscarded 391 events during subsampling.\nDiscarded 174 events during 3-sigma standardization.\nExtracting batch of samples à 5000 events from DVS sequence...\nDiscarded 905 events during subsampling.\nDiscarded 283 events during 3-sigma standardization.\nExtracting batch of samples à 5000 events from DVS sequence...\n"
     ]
    },
    {
     "name": "stdout",
     "output_type": "stream",
     "text": [
      "Discarded 560 events during subsampling.\nDiscarded 376 events during 3-sigma standardization.\nExtracting batch of samples à 5000 events from DVS sequence...\nDiscarded 428 events during subsampling.\nDiscarded 285 events during 3-sigma standardization.\nExtracting batch of samples à 5000 events from DVS sequence...\nDiscarded 379 events during subsampling.\nDiscarded 242 events during 3-sigma standardization.\nExtracting batch of samples à 5000 events from DVS sequence...\nDiscarded 438 events during subsampling.\nDiscarded 176 events during 3-sigma standardization.\nExtracting batch of samples à 5000 events from DVS sequence...\nDiscarded 610 events during subsampling.\nDiscarded 193 events during 3-sigma standardization.\nExtracting batch of samples à 5000 events from DVS sequence..."
     ]
    },
    {
     "name": "stdout",
     "output_type": "stream",
     "text": [
      "\nDiscarded 355 events during subsampling.\nDiscarded 226 events during 3-sigma standardization.\nExtracting batch of samples à 5000 events from DVS sequence...\nDiscarded 255 events during subsampling.\nDiscarded 206 events during 3-sigma standardization.\nExtracting batch of samples à 5000 events from DVS sequence...\nDiscarded 333 events during subsampling.\nDiscarded 255 events during 3-sigma standardization.\nExtracting batch of samples à 5000 events from DVS sequence...\nDiscarded 341 events during subsampling.\nDiscarded 177 events during 3-sigma standardization.\nExtracting batch of samples à 5000 events from DVS sequence...\nDiscarded 1963 events during subsampling.\nDiscarded 134 events during 3-sigma standardization.\nExtracting batch of samples à 5000 events from DVS sequence...\n"
     ]
    },
    {
     "name": "stdout",
     "output_type": "stream",
     "text": [
      "Discarded 1941 events during subsampling.\nDiscarded 176 events during 3-sigma standardization.\nExtracting batch of samples à 5000 events from DVS sequence...\nDiscarded 617 events during subsampling.\nDiscarded 226 events during 3-sigma standardization.\nExtracting batch of samples à 5000 events from DVS sequence...\nDiscarded 435 events during subsampling.\nDiscarded 435 events during 3-sigma standardization.\nExtracting batch of samples à 5000 events from DVS sequence...\nDiscarded 371 events during subsampling.\nDiscarded 332 events during 3-sigma standardization.\nExtracting batch of samples à 5000 events from DVS sequence...\nDiscarded 34 events during subsampling.\nDiscarded 438 events during 3-sigma standardization.\nExtracting batch of samples à 5000 events from DVS sequence...\n"
     ]
    },
    {
     "name": "stdout",
     "output_type": "stream",
     "text": [
      "Discarded 443 events during subsampling.\nDiscarded 302 events during 3-sigma standardization.\nExtracting batch of samples à 5000 events from DVS sequence...\nDiscarded 1404 events during subsampling.\nDiscarded 210 events during 3-sigma standardization.\nExtracting batch of samples à 5000 events from DVS sequence...\nDiscarded 614 events during subsampling.\nDiscarded 198 events during 3-sigma standardization.\nExtracting batch of samples à 5000 events from DVS sequence...\nDiscarded 354 events during subsampling.\nDiscarded 214 events during 3-sigma standardization.\nExtracting batch of samples à 5000 events from DVS sequence...\nDiscarded 445 events during subsampling.\nDiscarded 246 events during 3-sigma standardization.\nExtracting batch of samples à 5000 events from DVS sequence...\n"
     ]
    },
    {
     "name": "stdout",
     "output_type": "stream",
     "text": [
      "Discarded 831 events during subsampling.\nDiscarded 150 events during 3-sigma standardization.\nExtracting batch of samples à 5000 events from DVS sequence...\nDiscarded 1339 events during subsampling.\nDiscarded 174 events during 3-sigma standardization.\nExtracting batch of samples à 5000 events from DVS sequence...\nDiscarded 1002 events during subsampling.\nDiscarded 209 events during 3-sigma standardization.\nExtracting batch of samples à 5000 events from DVS sequence...\nDiscarded 494 events during subsampling.\nDiscarded 234 events during 3-sigma standardization.\nExtracting batch of samples à 5000 events from DVS sequence...\nDiscarded 601 events during subsampling.\nDiscarded 170 events during 3-sigma standardization.\nExtracting batch of samples à 5000 events from DVS sequence...\nDiscarded 468 events during subsampling.\nDiscarded 201 events during 3-sigma standardization."
     ]
    },
    {
     "name": "stdout",
     "output_type": "stream",
     "text": [
      "\nExtracting batch of samples à 5000 events from DVS sequence...\nDiscarded 2007 events during subsampling.\nDiscarded 171 events during 3-sigma standardization.\nExtracting batch of samples à 5000 events from DVS sequence...\nDiscarded 450 events during subsampling.\nDiscarded 267 events during 3-sigma standardization.\nExtracting batch of samples à 5000 events from DVS sequence...\nDiscarded 452 events during subsampling.\nDiscarded 260 events during 3-sigma standardization.\nExtracting batch of samples à 5000 events from DVS sequence...\nDiscarded 525 events during subsampling.\nDiscarded 243 events during 3-sigma standardization.\nExtracting batch of samples à 5000 events from DVS sequence...\nDiscarded 1663 events during subsampling.\nDiscarded 198 events during 3-sigma standardization.\nExtracting batch of samples à 5000 events from DVS sequence...\n"
     ]
    },
    {
     "name": "stdout",
     "output_type": "stream",
     "text": [
      "Discarded 418 events during subsampling.\nDiscarded 240 events during 3-sigma standardization.\nExtracting batch of samples à 5000 events from DVS sequence...\nDiscarded 347 events during subsampling.\nDiscarded 222 events during 3-sigma standardization.\nExtracting batch of samples à 5000 events from DVS sequence...\nDiscarded 443 events during subsampling.\nDiscarded 217 events during 3-sigma standardization.\nExtracting batch of samples à 5000 events from DVS sequence...\nDiscarded 426 events during subsampling.\nDiscarded 208 events during 3-sigma standardization.\nExtracting batch of samples à 5000 events from DVS sequence...\nDiscarded 347 events during subsampling.\nDiscarded 240 events during 3-sigma standardization.\nExtracting batch of samples à 5000 events from DVS sequence..."
     ]
    },
    {
     "name": "stdout",
     "output_type": "stream",
     "text": [
      "\nDiscarded 2287 events during subsampling.\nDiscarded 115 events during 3-sigma standardization.\nExtracting batch of samples à 5000 events from DVS sequence...\nDiscarded 419 events during subsampling.\nDiscarded 227 events during 3-sigma standardization.\nExtracting batch of samples à 5000 events from DVS sequence...\nDiscarded 446 events during subsampling.\nDiscarded 242 events during 3-sigma standardization.\nExtracting batch of samples à 5000 events from DVS sequence...\nDiscarded 481 events during subsampling.\nDiscarded 243 events during 3-sigma standardization.\nExtracting batch of samples à 5000 events from DVS sequence...\nDiscarded 412 events during subsampling.\nDiscarded 214 events during 3-sigma standardization.\nExtracting batch of samples à 5000 events from DVS sequence...\n"
     ]
    },
    {
     "name": "stdout",
     "output_type": "stream",
     "text": [
      "Discarded 464 events during subsampling.\nDiscarded 211 events during 3-sigma standardization.\nExtracting batch of samples à 5000 events from DVS sequence...\nDiscarded 422 events during subsampling.\nDiscarded 223 events during 3-sigma standardization.\nExtracting batch of samples à 5000 events from DVS sequence...\nDiscarded 435 events during subsampling.\nDiscarded 210 events during 3-sigma standardization.\nExtracting batch of samples à 5000 events from DVS sequence...\nDiscarded 396 events during subsampling.\nDiscarded 248 events during 3-sigma standardization.\nExtracting batch of samples à 5000 events from DVS sequence...\nDiscarded 399 events during subsampling.\nDiscarded 246 events during 3-sigma standardization.\n"
     ]
    },
    {
     "name": "stdout",
     "output_type": "stream",
     "text": [
      "Extracting batch of samples à 5000 events from DVS sequence...\nDiscarded 577 events during subsampling.\nDiscarded 226 events during 3-sigma standardization.\nExtracting batch of samples à 5000 events from DVS sequence...\nDiscarded 474 events during subsampling.\nDiscarded 291 events during 3-sigma standardization.\nExtracting batch of samples à 5000 events from DVS sequence...\nDiscarded 399 events during subsampling.\nDiscarded 204 events during 3-sigma standardization.\nExtracting batch of samples à 5000 events from DVS sequence...\nDiscarded 361 events during subsampling.\nDiscarded 216 events during 3-sigma standardization.\nExtracting batch of samples à 5000 events from DVS sequence...\nDiscarded 393 events during subsampling.\nDiscarded 180 events during 3-sigma standardization.\nExtracting batch of samples à 5000 events from DVS sequence...\n"
     ]
    },
    {
     "name": "stdout",
     "output_type": "stream",
     "text": [
      "Discarded 402 events during subsampling.\nDiscarded 211 events during 3-sigma standardization.\nExtracting batch of samples à 5000 events from DVS sequence...\nDiscarded 2156 events during subsampling.\nDiscarded 174 events during 3-sigma standardization.\nExtracting batch of samples à 5000 events from DVS sequence...\nDiscarded 371 events during subsampling.\nDiscarded 246 events during 3-sigma standardization.\nExtracting batch of samples à 5000 events from DVS sequence...\nDiscarded 720 events during subsampling.\nDiscarded 225 events during 3-sigma standardization.\nExtracting batch of samples à 5000 events from DVS sequence...\nDiscarded 590 events during subsampling.\nDiscarded 272 events during 3-sigma standardization.\nExtracting batch of samples à 5000 events from DVS sequence...\nDiscarded 982 events during subsampling.\nDiscarded 271 events during 3-sigma standardization.\nExtracting batch of samples à 5000 events from DVS sequence..."
     ]
    },
    {
     "name": "stdout",
     "output_type": "stream",
     "text": [
      "\nDiscarded 591 events during subsampling.\nDiscarded 328 events during 3-sigma standardization.\nExtracting batch of samples à 5000 events from DVS sequence...\nDiscarded 687 events during subsampling.\nDiscarded 299 events during 3-sigma standardization.\nExtracting batch of samples à 5000 events from DVS sequence...\nDiscarded 649 events during subsampling.\nDiscarded 203 events during 3-sigma standardization.\nExtracting batch of samples à 5000 events from DVS sequence...\nDiscarded 427 events during subsampling.\nDiscarded 223 events during 3-sigma standardization.\nExtracting batch of samples à 5000 events from DVS sequence...\nDiscarded 366 events during subsampling.\nDiscarded 218 events during 3-sigma standardization.\nExtracting batch of samples à 5000 events from DVS sequence..."
     ]
    },
    {
     "name": "stdout",
     "output_type": "stream",
     "text": [
      "\nDiscarded 26 events during subsampling.\nDiscarded 302 events during 3-sigma standardization.\nExtracting batch of samples à 5000 events from DVS sequence...\nDiscarded 253 events during subsampling.\nDiscarded 387 events during 3-sigma standardization.\nExtracting batch of samples à 5000 events from DVS sequence...\nDiscarded 1259 events during subsampling.\nDiscarded 294 events during 3-sigma standardization.\nExtracting batch of samples à 5000 events from DVS sequence...\nDiscarded 423 events during subsampling.\nDiscarded 157 events during 3-sigma standardization.\nExtracting batch of samples à 5000 events from DVS sequence...\nDiscarded 1566 events during subsampling.\nDiscarded 183 events during 3-sigma standardization.\nExtracting batch of samples à 5000 events from DVS sequence...\n"
     ]
    },
    {
     "name": "stdout",
     "output_type": "stream",
     "text": [
      "Discarded 424 events during subsampling.\nDiscarded 174 events during 3-sigma standardization.\nExtracting batch of samples à 5000 events from DVS sequence...\nDiscarded 414 events during subsampling.\nDiscarded 210 events during 3-sigma standardization.\nExtracting batch of samples à 5000 events from DVS sequence...\nDiscarded 366 events during subsampling.\nDiscarded 229 events during 3-sigma standardization.\nExtracting batch of samples à 5000 events from DVS sequence...\nDiscarded 406 events during subsampling.\nDiscarded 233 events during 3-sigma standardization.\nExtracting batch of samples à 5000 events from DVS sequence...\nDiscarded 374 events during subsampling.\nDiscarded 219 events during 3-sigma standardization.\nExtracting batch of samples à 5000 events from DVS sequence..."
     ]
    },
    {
     "name": "stdout",
     "output_type": "stream",
     "text": [
      "\nDiscarded 395 events during subsampling.\nDiscarded 219 events during 3-sigma standardization.\nExtracting batch of samples à 5000 events from DVS sequence...\nDiscarded 542 events during subsampling.\nDiscarded 242 events during 3-sigma standardization.\nExtracting batch of samples à 5000 events from DVS sequence...\nDiscarded 1350 events during subsampling.\nDiscarded 261 events during 3-sigma standardization.\nExtracting batch of samples à 5000 events from DVS sequence...\nDiscarded 614 events during subsampling.\nDiscarded 224 events during 3-sigma standardization.\nExtracting batch of samples à 5000 events from DVS sequence...\nDiscarded 130 events during subsampling.\nDiscarded 329 events during 3-sigma standardization.\nExtracting batch of samples à 5000 events from DVS sequence...\n"
     ]
    },
    {
     "name": "stdout",
     "output_type": "stream",
     "text": [
      "Discarded 195 events during subsampling.\nDiscarded 530 events during 3-sigma standardization.\nExtracting batch of samples à 5000 events from DVS sequence...\nDiscarded 457 events during subsampling.\nDiscarded 283 events during 3-sigma standardization.\nExtracting batch of samples à 5000 events from DVS sequence...\nDiscarded 8 events during subsampling.\nDiscarded 384 events during 3-sigma standardization.\nExtracting batch of samples à 5000 events from DVS sequence...\nDiscarded 498 events during subsampling.\nDiscarded 204 events during 3-sigma standardization.\nExtracting batch of samples à 5000 events from DVS sequence...\nDiscarded 545 events during subsampling.\nDiscarded 139 events during 3-sigma standardization.\nLoading DVS sample /home/rbodo/.snntoolbox/Datasets/predator_prey/aedat/not_balanced_4834samples/R/rec_4.aedat...\n"
     ]
    },
    {
     "name": "stdout",
     "output_type": "stream",
     "text": [
      "Total number of events of this sample: 365000.\nNumber of batches: 73.\nExtracting 73 frames from DVS event sequence.\n"
     ]
    },
    {
     "name": "stdout",
     "output_type": "stream",
     "text": [
      "Extracting batch of samples à 5000 events from DVS sequence...\nDiscarded 196 events during subsampling.\nDiscarded 552 events during 3-sigma standardization.\nExtracting batch of samples à 5000 events from DVS sequence...\nDiscarded 566 events during subsampling.\nDiscarded 215 events during 3-sigma standardization.\nExtracting batch of samples à 5000 events from DVS sequence...\nDiscarded 691 events during subsampling.\nDiscarded 216 events during 3-sigma standardization.\nExtracting batch of samples à 5000 events from DVS sequence...\nDiscarded 1531 events during subsampling.\nDiscarded 190 events during 3-sigma standardization.\nExtracting batch of samples à 5000 events from DVS sequence...\nDiscarded 2251 events during subsampling.\nDiscarded 157 events during 3-sigma standardization."
     ]
    },
    {
     "name": "stdout",
     "output_type": "stream",
     "text": [
      "\nExtracting batch of samples à 5000 events from DVS sequence...\nDiscarded 481 events during subsampling.\nDiscarded 209 events during 3-sigma standardization.\nExtracting batch of samples à 5000 events from DVS sequence...\nDiscarded 416 events during subsampling.\nDiscarded 239 events during 3-sigma standardization.\nExtracting batch of samples à 5000 events from DVS sequence...\nDiscarded 2406 events during subsampling.\nDiscarded 264 events during 3-sigma standardization.\nExtracting batch of samples à 5000 events from DVS sequence...\nDiscarded 463 events during subsampling.\nDiscarded 266 events during 3-sigma standardization.\nExtracting batch of samples à 5000 events from DVS sequence...\nDiscarded 484 events during subsampling.\nDiscarded 239 events during 3-sigma standardization.\nExtracting batch of samples à 5000 events from DVS sequence...\nDiscarded 466 events during subsampling."
     ]
    },
    {
     "name": "stdout",
     "output_type": "stream",
     "text": [
      "\nDiscarded 214 events during 3-sigma standardization.\nExtracting batch of samples à 5000 events from DVS sequence...\nDiscarded 2492 events during subsampling.\nDiscarded 231 events during 3-sigma standardization.\nExtracting batch of samples à 5000 events from DVS sequence...\nDiscarded 421 events during subsampling.\nDiscarded 212 events during 3-sigma standardization.\nExtracting batch of samples à 5000 events from DVS sequence...\nDiscarded 478 events during subsampling.\nDiscarded 169 events during 3-sigma standardization.\nExtracting batch of samples à 5000 events from DVS sequence...\nDiscarded 650 events during subsampling.\nDiscarded 311 events during 3-sigma standardization.\nExtracting batch of samples à 5000 events from DVS sequence...\nDiscarded 445 events during subsampling.\nDiscarded 232 events during 3-sigma standardization."
     ]
    },
    {
     "name": "stdout",
     "output_type": "stream",
     "text": [
      "\nExtracting batch of samples à 5000 events from DVS sequence...\nDiscarded 432 events during subsampling.\nDiscarded 197 events during 3-sigma standardization.\nExtracting batch of samples à 5000 events from DVS sequence...\nDiscarded 401 events during subsampling.\nDiscarded 206 events during 3-sigma standardization.\nExtracting batch of samples à 5000 events from DVS sequence...\nDiscarded 486 events during subsampling.\nDiscarded 231 events during 3-sigma standardization.\nExtracting batch of samples à 5000 events from DVS sequence...\nDiscarded 388 events during subsampling.\nDiscarded 212 events during 3-sigma standardization.\nExtracting batch of samples à 5000 events from DVS sequence...\nDiscarded 602 events during subsampling.\nDiscarded 212 events during 3-sigma standardization.\n"
     ]
    },
    {
     "name": "stdout",
     "output_type": "stream",
     "text": [
      "Extracting batch of samples à 5000 events from DVS sequence...\nDiscarded 418 events during subsampling.\nDiscarded 206 events during 3-sigma standardization.\nExtracting batch of samples à 5000 events from DVS sequence...\nDiscarded 424 events during subsampling.\nDiscarded 225 events during 3-sigma standardization.\nExtracting batch of samples à 5000 events from DVS sequence...\nDiscarded 514 events during subsampling.\nDiscarded 213 events during 3-sigma standardization.\nExtracting batch of samples à 5000 events from DVS sequence...\nDiscarded 396 events during subsampling.\nDiscarded 185 events during 3-sigma standardization.\nExtracting batch of samples à 5000 events from DVS sequence...\nDiscarded 346 events during subsampling.\nDiscarded 233 events during 3-sigma standardization.\nExtracting batch of samples à 5000 events from DVS sequence..."
     ]
    },
    {
     "name": "stdout",
     "output_type": "stream",
     "text": [
      "\nDiscarded 1532 events during subsampling.\nDiscarded 194 events during 3-sigma standardization.\nExtracting batch of samples à 5000 events from DVS sequence...\nDiscarded 426 events during subsampling.\nDiscarded 257 events during 3-sigma standardization.\nExtracting batch of samples à 5000 events from DVS sequence...\nDiscarded 577 events during subsampling.\nDiscarded 226 events during 3-sigma standardization.\nExtracting batch of samples à 5000 events from DVS sequence...\nDiscarded 538 events during subsampling.\nDiscarded 237 events during 3-sigma standardization.\nExtracting batch of samples à 5000 events from DVS sequence...\nDiscarded 638 events during subsampling.\nDiscarded 215 events during 3-sigma standardization.\nExtracting batch of samples à 5000 events from DVS sequence...\nDiscarded 937 events during subsampling."
     ]
    },
    {
     "name": "stdout",
     "output_type": "stream",
     "text": [
      "\nDiscarded 217 events during 3-sigma standardization.\nExtracting batch of samples à 5000 events from DVS sequence...\nDiscarded 431 events during subsampling.\nDiscarded 217 events during 3-sigma standardization.\nExtracting batch of samples à 5000 events from DVS sequence...\nDiscarded 558 events during subsampling.\nDiscarded 215 events during 3-sigma standardization.\nExtracting batch of samples à 5000 events from DVS sequence...\nDiscarded 441 events during subsampling.\nDiscarded 211 events during 3-sigma standardization.\nExtracting batch of samples à 5000 events from DVS sequence...\nDiscarded 436 events during subsampling.\nDiscarded 247 events during 3-sigma standardization.\nExtracting batch of samples à 5000 events from DVS sequence...\n"
     ]
    },
    {
     "name": "stdout",
     "output_type": "stream",
     "text": [
      "Discarded 424 events during subsampling.\nDiscarded 261 events during 3-sigma standardization.\nExtracting batch of samples à 5000 events from DVS sequence...\nDiscarded 372 events during subsampling.\nDiscarded 228 events during 3-sigma standardization.\nExtracting batch of samples à 5000 events from DVS sequence...\nDiscarded 1540 events during subsampling.\nDiscarded 208 events during 3-sigma standardization.\nExtracting batch of samples à 5000 events from DVS sequence...\nDiscarded 1473 events during subsampling.\nDiscarded 227 events during 3-sigma standardization.\nExtracting batch of samples à 5000 events from DVS sequence...\nDiscarded 771 events during subsampling.\nDiscarded 346 events during 3-sigma standardization.\nExtracting batch of samples à 5000 events from DVS sequence...\nDiscarded 8 events during subsampling.\nDiscarded 361 events during 3-sigma standardization.\nExtracting batch of samples à 5000 events from DVS sequence..."
     ]
    },
    {
     "name": "stdout",
     "output_type": "stream",
     "text": [
      "\nDiscarded 360 events during subsampling.\nDiscarded 209 events during 3-sigma standardization.\nExtracting batch of samples à 5000 events from DVS sequence...\nDiscarded 354 events during subsampling.\nDiscarded 199 events during 3-sigma standardization.\nExtracting batch of samples à 5000 events from DVS sequence...\nDiscarded 403 events during subsampling.\nDiscarded 168 events during 3-sigma standardization.\nExtracting batch of samples à 5000 events from DVS sequence...\nDiscarded 382 events during subsampling.\nDiscarded 205 events during 3-sigma standardization.\nExtracting batch of samples à 5000 events from DVS sequence...\nDiscarded 377 events during subsampling.\nDiscarded 227 events during 3-sigma standardization.\nExtracting batch of samples à 5000 events from DVS sequence..."
     ]
    },
    {
     "name": "stdout",
     "output_type": "stream",
     "text": [
      "\nDiscarded 355 events during subsampling.\nDiscarded 218 events during 3-sigma standardization.\nExtracting batch of samples à 5000 events from DVS sequence...\nDiscarded 424 events during subsampling.\nDiscarded 285 events during 3-sigma standardization.\nExtracting batch of samples à 5000 events from DVS sequence...\nDiscarded 1958 events during subsampling.\nDiscarded 131 events during 3-sigma standardization.\nExtracting batch of samples à 5000 events from DVS sequence...\nDiscarded 470 events during subsampling.\nDiscarded 273 events during 3-sigma standardization.\nExtracting batch of samples à 5000 events from DVS sequence...\nDiscarded 445 events during subsampling.\nDiscarded 278 events during 3-sigma standardization.\nExtracting batch of samples à 5000 events from DVS sequence...\n"
     ]
    },
    {
     "name": "stdout",
     "output_type": "stream",
     "text": [
      "Discarded 419 events during subsampling.\nDiscarded 274 events during 3-sigma standardization.\nExtracting batch of samples à 5000 events from DVS sequence...\nDiscarded 479 events during subsampling.\nDiscarded 183 events during 3-sigma standardization.\nExtracting batch of samples à 5000 events from DVS sequence...\nDiscarded 353 events during subsampling.\nDiscarded 197 events during 3-sigma standardization.\nExtracting batch of samples à 5000 events from DVS sequence...\nDiscarded 339 events during subsampling.\nDiscarded 222 events during 3-sigma standardization.\nExtracting batch of samples à 5000 events from DVS sequence...\nDiscarded 348 events during subsampling.\nDiscarded 186 events during 3-sigma standardization.\nExtracting batch of samples à 5000 events from DVS sequence...\n"
     ]
    },
    {
     "name": "stdout",
     "output_type": "stream",
     "text": [
      "Discarded 409 events during subsampling.\nDiscarded 195 events during 3-sigma standardization.\nExtracting batch of samples à 5000 events from DVS sequence...\nDiscarded 536 events during subsampling.\nDiscarded 226 events during 3-sigma standardization.\nExtracting batch of samples à 5000 events from DVS sequence...\nDiscarded 1026 events during subsampling.\nDiscarded 191 events during 3-sigma standardization.\nExtracting batch of samples à 5000 events from DVS sequence...\nDiscarded 486 events during subsampling.\nDiscarded 218 events during 3-sigma standardization.\nExtracting batch of samples à 5000 events from DVS sequence...\nDiscarded 726 events during subsampling.\nDiscarded 204 events during 3-sigma standardization.\nExtracting batch of samples à 5000 events from DVS sequence...\n"
     ]
    },
    {
     "name": "stdout",
     "output_type": "stream",
     "text": [
      "Discarded 455 events during subsampling.\nDiscarded 213 events during 3-sigma standardization.\nExtracting batch of samples à 5000 events from DVS sequence...\nDiscarded 1494 events during subsampling.\nDiscarded 223 events during 3-sigma standardization.\nExtracting batch of samples à 5000 events from DVS sequence...\nDiscarded 465 events during subsampling.\nDiscarded 245 events during 3-sigma standardization.\nExtracting batch of samples à 5000 events from DVS sequence...\nDiscarded 394 events during subsampling.\nDiscarded 239 events during 3-sigma standardization.\nExtracting batch of samples à 5000 events from DVS sequence...\nDiscarded 434 events during subsampling.\nDiscarded 230 events during 3-sigma standardization.\n"
     ]
    },
    {
     "name": "stdout",
     "output_type": "stream",
     "text": [
      "Extracting batch of samples à 5000 events from DVS sequence...\nDiscarded 403 events during subsampling.\nDiscarded 211 events during 3-sigma standardization.\nExtracting batch of samples à 5000 events from DVS sequence...\nDiscarded 664 events during subsampling.\nDiscarded 202 events during 3-sigma standardization.\nExtracting batch of samples à 5000 events from DVS sequence...\nDiscarded 481 events during subsampling.\nDiscarded 209 events during 3-sigma standardization.\nExtracting batch of samples à 5000 events from DVS sequence...\nDiscarded 475 events during subsampling.\nDiscarded 158 events during 3-sigma standardization.\nExtracting batch of samples à 5000 events from DVS sequence...\nDiscarded 430 events during subsampling.\nDiscarded 238 events during 3-sigma standardization.\n"
     ]
    },
    {
     "name": "stdout",
     "output_type": "stream",
     "text": [
      "Loading DVS sample /home/rbodo/.snntoolbox/Datasets/predator_prey/aedat/not_balanced_4834samples/R/rec_5.aedat...\nTotal number of events of this sample: 15000.\nNumber of batches: 3.\nExtracting 3 frames from DVS event sequence.\nExtracting batch of samples à 5000 events from DVS sequence...\nDiscarded 77 events during subsampling.\nDiscarded 1008 events during 3-sigma standardization.\nExtracting batch of samples à 5000 events from DVS sequence...\n"
     ]
    },
    {
     "name": "stdout",
     "output_type": "stream",
     "text": [
      "Discarded 332 events during subsampling.\nDiscarded 231 events during 3-sigma standardization.\nLoading DVS sample /home/rbodo/.snntoolbox/Datasets/predator_prey/aedat/not_balanced_4834samples/R/rec_6.aedat...\nTotal number of events of this sample: 35000.\nNumber of batches: 7.\nExtracting 7 frames from DVS event sequence.\n"
     ]
    },
    {
     "name": "stdout",
     "output_type": "stream",
     "text": [
      "Extracting batch of samples à 5000 events from DVS sequence...\nDiscarded 322 events during subsampling.\nDiscarded 205 events during 3-sigma standardization.\nExtracting batch of samples à 5000 events from DVS sequence...\nDiscarded 1262 events during subsampling.\nDiscarded 218 events during 3-sigma standardization.\nExtracting batch of samples à 5000 events from DVS sequence...\nDiscarded 387 events during subsampling.\nDiscarded 209 events during 3-sigma standardization.\nExtracting batch of samples à 5000 events from DVS sequence...\nDiscarded 362 events during subsampling.\nDiscarded 237 events during 3-sigma standardization.\nExtracting batch of samples à 5000 events from DVS sequence...\nDiscarded 374 events during subsampling.\n"
     ]
    },
    {
     "name": "stdout",
     "output_type": "stream",
     "text": [
      "Discarded 238 events during 3-sigma standardization.\nExtracting batch of samples à 5000 events from DVS sequence...\nDiscarded 388 events during subsampling.\nDiscarded 264 events during 3-sigma standardization.\nLoading DVS sample /home/rbodo/.snntoolbox/Datasets/predator_prey/aedat/not_balanced_4834samples/R/rec_8.aedat...\nTotal number of events of this sample: 20000.\nNumber of batches: 4.\nExtracting 4 frames from DVS event sequence.\nExtracting batch of samples à 5000 events from DVS sequence...\n"
     ]
    },
    {
     "name": "stdout",
     "output_type": "stream",
     "text": [
      "Discarded 560 events during subsampling.\nDiscarded 223 events during 3-sigma standardization.\nExtracting batch of samples à 5000 events from DVS sequence...\nDiscarded 1309 events during subsampling.\nDiscarded 172 events during 3-sigma standardization.\nExtracting batch of samples à 5000 events from DVS sequence...\nDiscarded 270 events during subsampling.\nDiscarded 213 events during 3-sigma standardization.\nLoading DVS sample /home/rbodo/.snntoolbox/Datasets/predator_prey/aedat/not_balanced_4834samples/R/rec_9.aedat...\n"
     ]
    },
    {
     "name": "stdout",
     "output_type": "stream",
     "text": [
      "Total number of events of this sample: 375000.\nNumber of batches: 75.\nExtracting 75 frames from DVS event sequence.\n"
     ]
    },
    {
     "name": "stdout",
     "output_type": "stream",
     "text": [
      "Extracting batch of samples à 5000 events from DVS sequence...\nDiscarded 502 events during subsampling.\nDiscarded 333 events during 3-sigma standardization.\nExtracting batch of samples à 5000 events from DVS sequence...\nDiscarded 77 events during subsampling.\nDiscarded 350 events during 3-sigma standardization.\nExtracting batch of samples à 5000 events from DVS sequence...\nDiscarded 1459 events during subsampling.\nDiscarded 240 events during 3-sigma standardization.\nExtracting batch of samples à 5000 events from DVS sequence...\nDiscarded 869 events during subsampling.\nDiscarded 243 events during 3-sigma standardization.\nExtracting batch of samples à 5000 events from DVS sequence...\nDiscarded 314 events during subsampling.\nDiscarded 279 events during 3-sigma standardization."
     ]
    },
    {
     "name": "stdout",
     "output_type": "stream",
     "text": [
      "\nExtracting batch of samples à 5000 events from DVS sequence...\nDiscarded 413 events during subsampling.\nDiscarded 348 events during 3-sigma standardization.\nExtracting batch of samples à 5000 events from DVS sequence...\nDiscarded 169 events during subsampling.\nDiscarded 365 events during 3-sigma standardization.\nExtracting batch of samples à 5000 events from DVS sequence...\nDiscarded 276 events during subsampling.\nDiscarded 314 events during 3-sigma standardization.\nExtracting batch of samples à 5000 events from DVS sequence...\nDiscarded 140 events during subsampling.\nDiscarded 334 events during 3-sigma standardization.\nExtracting batch of samples à 5000 events from DVS sequence...\nDiscarded 578 events during subsampling.\nDiscarded 347 events during 3-sigma standardization.\n"
     ]
    },
    {
     "name": "stdout",
     "output_type": "stream",
     "text": [
      "Extracting batch of samples à 5000 events from DVS sequence...\nDiscarded 281 events during subsampling.\nDiscarded 520 events during 3-sigma standardization.\nExtracting batch of samples à 5000 events from DVS sequence...\nDiscarded 219 events during subsampling.\nDiscarded 589 events during 3-sigma standardization.\nExtracting batch of samples à 5000 events from DVS sequence...\nDiscarded 593 events during subsampling.\nDiscarded 363 events during 3-sigma standardization.\nExtracting batch of samples à 5000 events from DVS sequence...\nDiscarded 257 events during subsampling.\nDiscarded 319 events during 3-sigma standardization.\nExtracting batch of samples à 5000 events from DVS sequence...\nDiscarded 306 events during subsampling.\nDiscarded 447 events during 3-sigma standardization.\nExtracting batch of samples à 5000 events from DVS sequence..."
     ]
    },
    {
     "name": "stdout",
     "output_type": "stream",
     "text": [
      "\nDiscarded 334 events during subsampling.\nDiscarded 383 events during 3-sigma standardization.\nExtracting batch of samples à 5000 events from DVS sequence...\nDiscarded 482 events during subsampling.\nDiscarded 366 events during 3-sigma standardization.\nExtracting batch of samples à 5000 events from DVS sequence...\nDiscarded 373 events during subsampling.\nDiscarded 401 events during 3-sigma standardization.\nExtracting batch of samples à 5000 events from DVS sequence...\nDiscarded 159 events during subsampling.\nDiscarded 334 events during 3-sigma standardization.\nExtracting batch of samples à 5000 events from DVS sequence...\nDiscarded 451 events during subsampling.\nDiscarded 309 events during 3-sigma standardization.\nExtracting batch of samples à 5000 events from DVS sequence...\n"
     ]
    },
    {
     "name": "stdout",
     "output_type": "stream",
     "text": [
      "Discarded 1134 events during subsampling.\nDiscarded 294 events during 3-sigma standardization.\nExtracting batch of samples à 5000 events from DVS sequence...\nDiscarded 337 events during subsampling.\nDiscarded 492 events during 3-sigma standardization.\nExtracting batch of samples à 5000 events from DVS sequence...\nDiscarded 417 events during subsampling.\nDiscarded 313 events during 3-sigma standardization.\nExtracting batch of samples à 5000 events from DVS sequence...\nDiscarded 394 events during subsampling.\nDiscarded 369 events during 3-sigma standardization.\nExtracting batch of samples à 5000 events from DVS sequence...\nDiscarded 1109 events during subsampling.\nDiscarded 286 events during 3-sigma standardization.\nExtracting batch of samples à 5000 events from DVS sequence...\nDiscarded 164 events during subsampling.\nDiscarded 281 events during 3-sigma standardization.\n"
     ]
    },
    {
     "name": "stdout",
     "output_type": "stream",
     "text": [
      "Extracting batch of samples à 5000 events from DVS sequence...\nDiscarded 1301 events during subsampling.\nDiscarded 223 events during 3-sigma standardization.\nExtracting batch of samples à 5000 events from DVS sequence...\nDiscarded 574 events during subsampling.\nDiscarded 444 events during 3-sigma standardization.\nExtracting batch of samples à 5000 events from DVS sequence...\nDiscarded 1018 events during subsampling.\nDiscarded 379 events during 3-sigma standardization.\nExtracting batch of samples à 5000 events from DVS sequence...\nDiscarded 634 events during subsampling.\nDiscarded 272 events during 3-sigma standardization.\nExtracting batch of samples à 5000 events from DVS sequence...\nDiscarded 464 events during subsampling.\nDiscarded 274 events during 3-sigma standardization.\nExtracting batch of samples à 5000 events from DVS sequence...\n"
     ]
    },
    {
     "name": "stdout",
     "output_type": "stream",
     "text": [
      "Discarded 156 events during subsampling.\nDiscarded 982 events during 3-sigma standardization.\nExtracting batch of samples à 5000 events from DVS sequence...\nDiscarded 391 events during subsampling.\nDiscarded 304 events during 3-sigma standardization.\nExtracting batch of samples à 5000 events from DVS sequence...\nDiscarded 1514 events during subsampling.\nDiscarded 189 events during 3-sigma standardization.\nExtracting batch of samples à 5000 events from DVS sequence...\nDiscarded 204 events during subsampling.\nDiscarded 296 events during 3-sigma standardization.\nExtracting batch of samples à 5000 events from DVS sequence...\nDiscarded 221 events during subsampling.\nDiscarded 312 events during 3-sigma standardization.\nExtracting batch of samples à 5000 events from DVS sequence...\nDiscarded 81 events during subsampling."
     ]
    },
    {
     "name": "stdout",
     "output_type": "stream",
     "text": [
      "\nDiscarded 285 events during 3-sigma standardization.\nExtracting batch of samples à 5000 events from DVS sequence...\nDiscarded 807 events during subsampling.\nDiscarded 239 events during 3-sigma standardization.\nExtracting batch of samples à 5000 events from DVS sequence...\nDiscarded 312 events during subsampling.\nDiscarded 321 events during 3-sigma standardization.\nExtracting batch of samples à 5000 events from DVS sequence...\nDiscarded 263 events during subsampling.\nDiscarded 384 events during 3-sigma standardization.\nExtracting batch of samples à 5000 events from DVS sequence...\nDiscarded 354 events during subsampling.\nDiscarded 355 events during 3-sigma standardization.\nExtracting batch of samples à 5000 events from DVS sequence...\nDiscarded 743 events during subsampling.\nDiscarded 435 events during 3-sigma standardization.\nExtracting batch of samples à 5000 events from DVS sequence..."
     ]
    },
    {
     "name": "stdout",
     "output_type": "stream",
     "text": [
      "\nDiscarded 815 events during subsampling.\nDiscarded 389 events during 3-sigma standardization.\nExtracting batch of samples à 5000 events from DVS sequence...\nDiscarded 374 events during subsampling.\nDiscarded 305 events during 3-sigma standardization.\nExtracting batch of samples à 5000 events from DVS sequence...\nDiscarded 252 events during subsampling.\nDiscarded 259 events during 3-sigma standardization.\nExtracting batch of samples à 5000 events from DVS sequence...\nDiscarded 322 events during subsampling.\nDiscarded 281 events during 3-sigma standardization.\nExtracting batch of samples à 5000 events from DVS sequence...\nDiscarded 1461 events during subsampling.\nDiscarded 203 events during 3-sigma standardization.\nExtracting batch of samples à 5000 events from DVS sequence..."
     ]
    },
    {
     "name": "stdout",
     "output_type": "stream",
     "text": [
      "\nDiscarded 417 events during subsampling.\nDiscarded 249 events during 3-sigma standardization.\nExtracting batch of samples à 5000 events from DVS sequence...\nDiscarded 990 events during subsampling.\nDiscarded 260 events during 3-sigma standardization.\nExtracting batch of samples à 5000 events from DVS sequence...\nDiscarded 421 events during subsampling.\nDiscarded 223 events during 3-sigma standardization.\nExtracting batch of samples à 5000 events from DVS sequence...\nDiscarded 431 events during subsampling.\nDiscarded 211 events during 3-sigma standardization.\nExtracting batch of samples à 5000 events from DVS sequence...\nDiscarded 56 events during subsampling.\nDiscarded 2877 events during 3-sigma standardization.\nExtracting batch of samples à 5000 events from DVS sequence...\n"
     ]
    },
    {
     "name": "stdout",
     "output_type": "stream",
     "text": [
      "Discarded 108 events during subsampling.\nDiscarded 120 events during 3-sigma standardization.\nExtracting batch of samples à 5000 events from DVS sequence...\nDiscarded 187 events during subsampling.\nDiscarded 457 events during 3-sigma standardization.\nExtracting batch of samples à 5000 events from DVS sequence...\nDiscarded 1605 events during subsampling.\nDiscarded 182 events during 3-sigma standardization.\nExtracting batch of samples à 5000 events from DVS sequence...\nDiscarded 272 events during subsampling.\nDiscarded 317 events during 3-sigma standardization.\nExtracting batch of samples à 5000 events from DVS sequence...\nDiscarded 258 events during subsampling.\nDiscarded 397 events during 3-sigma standardization.\nExtracting batch of samples à 5000 events from DVS sequence...\nDiscarded 252 events during subsampling.\nDiscarded 555 events during 3-sigma standardization.\n"
     ]
    },
    {
     "name": "stdout",
     "output_type": "stream",
     "text": [
      "Extracting batch of samples à 5000 events from DVS sequence...\nDiscarded 232 events during subsampling.\nDiscarded 388 events during 3-sigma standardization.\nExtracting batch of samples à 5000 events from DVS sequence...\nDiscarded 181 events during subsampling.\nDiscarded 460 events during 3-sigma standardization.\nExtracting batch of samples à 5000 events from DVS sequence...\nDiscarded 350 events during subsampling.\nDiscarded 316 events during 3-sigma standardization.\nExtracting batch of samples à 5000 events from DVS sequence...\nDiscarded 65 events during subsampling.\nDiscarded 599 events during 3-sigma standardization.\nExtracting batch of samples à 5000 events from DVS sequence...\nDiscarded 784 events during subsampling.\nDiscarded 292 events during 3-sigma standardization.\nExtracting batch of samples à 5000 events from DVS sequence...\n"
     ]
    },
    {
     "name": "stdout",
     "output_type": "stream",
     "text": [
      "Discarded 288 events during subsampling.\nDiscarded 396 events during 3-sigma standardization.\nExtracting batch of samples à 5000 events from DVS sequence...\nDiscarded 661 events during subsampling.\nDiscarded 290 events during 3-sigma standardization.\nExtracting batch of samples à 5000 events from DVS sequence...\nDiscarded 150 events during subsampling.\nDiscarded 348 events during 3-sigma standardization.\nExtracting batch of samples à 5000 events from DVS sequence...\nDiscarded 268 events during subsampling.\nDiscarded 395 events during 3-sigma standardization.\nExtracting batch of samples à 5000 events from DVS sequence...\nDiscarded 316 events during subsampling.\nDiscarded 271 events during 3-sigma standardization.\nExtracting batch of samples à 5000 events from DVS sequence...\n"
     ]
    },
    {
     "name": "stdout",
     "output_type": "stream",
     "text": [
      "Discarded 303 events during subsampling.\nDiscarded 332 events during 3-sigma standardization.\nExtracting batch of samples à 5000 events from DVS sequence...\nDiscarded 658 events during subsampling.\nDiscarded 285 events during 3-sigma standardization.\nExtracting batch of samples à 5000 events from DVS sequence...\nDiscarded 339 events during subsampling.\nDiscarded 278 events during 3-sigma standardization.\nExtracting batch of samples à 5000 events from DVS sequence...\nDiscarded 765 events during subsampling.\nDiscarded 229 events during 3-sigma standardization.\nExtracting batch of samples à 5000 events from DVS sequence...\nDiscarded 1305 events during subsampling.\nDiscarded 182 events during 3-sigma standardization.\nExtracting batch of samples à 5000 events from DVS sequence...\nDiscarded 775 events during subsampling.\nDiscarded 193 events during 3-sigma standardization.\n"
     ]
    }
   ],
   "source": [
    "x_list = []\n",
    "y_list = [] \n",
    "while True:\n",
    "    try:\n",
    "        dvs_gen.next_sequence_batch()\n",
    "        x_list.append(dvs_gen.get_frame_batch())\n",
    "        y_list.append(dvs_gen.y_b)\n",
    "    except StopIteration:\n",
    "        break"
   ]
  },
  {
   "cell_type": "code",
   "execution_count": 10,
   "metadata": {},
   "outputs": [],
   "source": [
    "x_test_part = np.concatenate(x_list)\n",
    "y_test_part = np.concatenate(y_list)"
   ]
  },
  {
   "cell_type": "code",
   "execution_count": 11,
   "metadata": {},
   "outputs": [],
   "source": [
    "np.savez_compressed(os.path.join(path_npz, 'x_test_part'), x_test_part)\n",
    "np.savez_compressed(os.path.join(path_npz, 'y_test_part'), y_test_part)"
   ]
  },
  {
   "cell_type": "code",
   "execution_count": 12,
   "metadata": {},
   "outputs": [
    {
     "name": "stdout",
     "output_type": "stream",
     "text": [
      "3\n{'R': '3', 'N': '0', 'C': '2', 'L': '1'}\n"
     ]
    },
    {
     "data": {
      "image/png": "[encoded data removed]",
      "text/plain": [
       "<matplotlib.figure.Figure at 0x7fac91633320>"
      ]
     },
     "metadata": {},
     "output_type": "display_data"
    }
   ],
   "source": [
    "i = 19993\n",
    "plt.imshow(x_all[i, :, :, 0].transpose())\n",
    "print(np.argmax(y_all[i]))\n",
    "print(label_dict)"
   ]
  },
  {
   "cell_type": "code",
   "execution_count": 22,
   "metadata": {},
   "outputs": [
    {
     "data": {
      "text/plain": [
       "(230378, 36, 36, 1)"
      ]
     },
     "execution_count": 22,
     "metadata": {},
     "output_type": "execute_result"
    }
   ],
   "source": [
    "x_all.shape"
   ]
  },
  {
   "cell_type": "code",
   "execution_count": 33,
   "metadata": {},
   "outputs": [
    {
     "data": {
      "text/plain": [
       "(array([ 121462.,       0.,       0.,   25982.,       0.,       0.,\n          41812.,       0.,       0.,   41122.]),\n array([ 0. ,  0.3,  0.6,  0.9,  1.2,  1.5,  1.8,  2.1,  2.4,  2.7,  3. ]),\n <a list of 10 Patch objects>)"
      ]
     },
     "execution_count": 33,
     "metadata": {},
     "output_type": "execute_result"
    },
    {
     "data": {
      "image/png": "[encoded data removed]",
      "text/plain": [
       "<matplotlib.figure.Figure at 0x7fb60e1eb240>"
      ]
     },
     "metadata": {},
     "output_type": "display_data"
    }
   ],
   "source": [
    "plt.hist(np.argmax(y_all, -1))"
   ]
  },
  {
   "cell_type": "code",
   "execution_count": 13,
   "metadata": {},
   "outputs": [
    {
     "data": {
      "text/plain": [
       "(0, 100)"
      ]
     },
     "execution_count": 13,
     "metadata": {},
     "output_type": "execute_result"
    },
    {
     "data": {
      "image/png": "[encoded data removed]",
      "text/plain": [
       "<matplotlib.figure.Figure at 0x7f5c1186b6d8>"
      ]
     },
     "metadata": {},
     "output_type": "display_data"
    }
   ],
   "source": [
    "plt.hist(x_all[x_all.nonzero()], 1000);\n",
    "plt.xlim(0, 100)"
   ]
  },
  {
   "cell_type": "code",
   "execution_count": null,
   "metadata": {},
   "outputs": [],
   "source": []
  }
 ],
 "metadata": {
  "kernelspec": {
   "display_name": "Python 2",
   "language": "python",
   "name": "python2"
  },
  "language_info": {
   "codemirror_mode": {
    "name": "ipython",
    "version": 2
   },
   "file_extension": ".py",
   "mimetype": "text/x-python",
   "name": "python",
   "nbconvert_exporter": "python",
   "pygments_lexer": "ipython2",
   "version": "2.7.6"
  }
 },
 "nbformat": 4,
 "nbformat_minor": 0
}
