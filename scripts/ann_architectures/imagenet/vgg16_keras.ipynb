{
 "cells": [
  {
   "cell_type": "code",
   "execution_count": 1,
   "metadata": {
    "collapsed": false
   },
   "outputs": [
    {
     "name": "stderr",
     "output_type": "stream",
     "text": [
      "Using TensorFlow backend.\n"
     ]
    }
   ],
   "source": [
    "import os\n",
    "import numpy as np\n",
    "import json\n",
    "import keras\n",
    "from keras.applications.vgg16 import VGG16, preprocess_input\n",
    "from keras.optimizers import SGD\n",
    "from keras.preprocessing.image import ImageDataGenerator\n",
    "\n",
    "data_path = '/home/rbodo/.snntoolbox/Datasets/imagenet'\n",
    "train_path = os.path.join(data_path, 'training')\n",
    "test_path = os.path.join(data_path, 'validation')\n",
    "class_idx_path = os.path.join(data_path, 'imagenet_class_index_dir.json')\n",
    "save_path = '/home/rbodo/.snntoolbox/data/imagenet/vgg16/keras/maxpool'"
   ]
  },
  {
   "cell_type": "code",
   "execution_count": 2,
   "metadata": {
    "collapsed": true
   },
   "outputs": [
    {
     "name": "stderr",
     "output_type": "stream",
     "text": [
      "/mnt/2646BAF446BAC3B9/VirtualEnvironments/anaconda3/envs/snntoolbox2/lib/python3.6/site-packages/keras/engine/topology.py:1214: UserWarning: Update your `Conv2D` call to the Keras 2 API: `Conv2D(trainable=True, name=\"block1_conv1\", input_dtype=\"float32\", batch_input_shape=[None, 3, ..., activity_regularizer=None, activation=\"relu\", kernel_size=(3, 3), filters=64, strides=[1, 1], padding=\"same\", data_format=\"channels_first\", kernel_initializer=\"glorot_uniform\", kernel_regularizer=None, bias_regularizer=None, kernel_constraint=None, bias_constraint=None, use_bias=True)`\n  return cls(**config)\n"
     ]
    },
    {
     "name": "stderr",
     "output_type": "stream",
     "text": [
      "/mnt/2646BAF446BAC3B9/VirtualEnvironments/anaconda3/envs/snntoolbox2/lib/python3.6/site-packages/keras/engine/topology.py:1214: UserWarning: Update your `Conv2D` call to the Keras 2 API: `Conv2D(trainable=True, name=\"block1_conv2\", activation=\"relu\", activity_regularizer=None, kernel_size=(3, 3), filters=64, strides=[1, 1], padding=\"same\", data_format=\"channels_first\", kernel_initializer=\"glorot_uniform\", kernel_regularizer=None, bias_regularizer=None, kernel_constraint=None, bias_constraint=None, use_bias=True)`\n  return cls(**config)\n/mnt/2646BAF446BAC3B9/VirtualEnvironments/anaconda3/envs/snntoolbox2/lib/python3.6/site-packages/keras/engine/topology.py:1214: UserWarning: Update your `MaxPooling2D` call to the Keras 2 API: `MaxPooling2D(strides=[2, 2], name=\"block1_pool\", pool_size=[2, 2], trainable=True, padding=\"valid\", data_format=\"channels_first\")`\n  return cls(**config)\n/mnt/2646BAF446BAC3B9/VirtualEnvironments/anaconda3/envs/snntoolbox2/lib/python3.6/site-packages/keras/engine/topology.py:1214: UserWarning: Update your `Conv2D` call to the Keras 2 API: `Conv2D(trainable=True, name=\"block2_conv1\", activation=\"relu\", activity_regularizer=None, kernel_size=(3, 3), filters=128, strides=[1, 1], padding=\"same\", data_format=\"channels_first\", kernel_initializer=\"glorot_uniform\", kernel_regularizer=None, bias_regularizer=None, kernel_constraint=None, bias_constraint=None, use_bias=True)`\n  return cls(**config)\n"
     ]
    },
    {
     "name": "stderr",
     "output_type": "stream",
     "text": [
      "/mnt/2646BAF446BAC3B9/VirtualEnvironments/anaconda3/envs/snntoolbox2/lib/python3.6/site-packages/keras/engine/topology.py:1214: UserWarning: Update your `Conv2D` call to the Keras 2 API: `Conv2D(trainable=True, name=\"block2_conv2\", activation=\"relu\", activity_regularizer=None, kernel_size=(3, 3), filters=128, strides=[1, 1], padding=\"same\", data_format=\"channels_first\", kernel_initializer=\"glorot_uniform\", kernel_regularizer=None, bias_regularizer=None, kernel_constraint=None, bias_constraint=None, use_bias=True)`\n  return cls(**config)\n/mnt/2646BAF446BAC3B9/VirtualEnvironments/anaconda3/envs/snntoolbox2/lib/python3.6/site-packages/keras/engine/topology.py:1214: UserWarning: Update your `MaxPooling2D` call to the Keras 2 API: `MaxPooling2D(strides=[2, 2], name=\"block2_pool\", pool_size=[2, 2], trainable=True, padding=\"valid\", data_format=\"channels_first\")`\n  return cls(**config)\n/mnt/2646BAF446BAC3B9/VirtualEnvironments/anaconda3/envs/snntoolbox2/lib/python3.6/site-packages/keras/engine/topology.py:1214: UserWarning: Update your `Conv2D` call to the Keras 2 API: `Conv2D(trainable=True, name=\"block3_conv1\", activation=\"relu\", activity_regularizer=None, kernel_size=(3, 3), filters=256, strides=[1, 1], padding=\"same\", data_format=\"channels_first\", kernel_initializer=\"glorot_uniform\", kernel_regularizer=None, bias_regularizer=None, kernel_constraint=None, bias_constraint=None, use_bias=True)`\n  return cls(**config)\n"
     ]
    },
    {
     "name": "stderr",
     "output_type": "stream",
     "text": [
      "/mnt/2646BAF446BAC3B9/VirtualEnvironments/anaconda3/envs/snntoolbox2/lib/python3.6/site-packages/keras/engine/topology.py:1214: UserWarning: Update your `Conv2D` call to the Keras 2 API: `Conv2D(trainable=True, name=\"block3_conv2\", activation=\"relu\", activity_regularizer=None, kernel_size=(3, 3), filters=256, strides=[1, 1], padding=\"same\", data_format=\"channels_first\", kernel_initializer=\"glorot_uniform\", kernel_regularizer=None, bias_regularizer=None, kernel_constraint=None, bias_constraint=None, use_bias=True)`\n  return cls(**config)\n/mnt/2646BAF446BAC3B9/VirtualEnvironments/anaconda3/envs/snntoolbox2/lib/python3.6/site-packages/keras/engine/topology.py:1214: UserWarning: Update your `Conv2D` call to the Keras 2 API: `Conv2D(trainable=True, name=\"block3_conv3\", activation=\"relu\", activity_regularizer=None, kernel_size=(3, 3), filters=256, strides=[1, 1], padding=\"same\", data_format=\"channels_first\", kernel_initializer=\"glorot_uniform\", kernel_regularizer=None, bias_regularizer=None, kernel_constraint=None, bias_constraint=None, use_bias=True)`\n  return cls(**config)\n"
     ]
    },
    {
     "name": "stderr",
     "output_type": "stream",
     "text": [
      "/mnt/2646BAF446BAC3B9/VirtualEnvironments/anaconda3/envs/snntoolbox2/lib/python3.6/site-packages/keras/engine/topology.py:1214: UserWarning: Update your `MaxPooling2D` call to the Keras 2 API: `MaxPooling2D(strides=[2, 2], name=\"block3_pool\", pool_size=[2, 2], trainable=True, padding=\"valid\", data_format=\"channels_first\")`\n  return cls(**config)\n/mnt/2646BAF446BAC3B9/VirtualEnvironments/anaconda3/envs/snntoolbox2/lib/python3.6/site-packages/keras/engine/topology.py:1214: UserWarning: Update your `Conv2D` call to the Keras 2 API: `Conv2D(trainable=True, name=\"block4_conv1\", activation=\"relu\", activity_regularizer=None, kernel_size=(3, 3), filters=512, strides=[1, 1], padding=\"same\", data_format=\"channels_first\", kernel_initializer=\"glorot_uniform\", kernel_regularizer=None, bias_regularizer=None, kernel_constraint=None, bias_constraint=None, use_bias=True)`\n  return cls(**config)\n/mnt/2646BAF446BAC3B9/VirtualEnvironments/anaconda3/envs/snntoolbox2/lib/python3.6/site-packages/keras/engine/topology.py:1214: UserWarning: Update your `Conv2D` call to the Keras 2 API: `Conv2D(trainable=True, name=\"block4_conv2\", activation=\"relu\", activity_regularizer=None, kernel_size=(3, 3), filters=512, strides=[1, 1], padding=\"same\", data_format=\"channels_first\", kernel_initializer=\"glorot_uniform\", kernel_regularizer=None, bias_regularizer=None, kernel_constraint=None, bias_constraint=None, use_bias=True)`\n  return cls(**config)\n"
     ]
    },
    {
     "name": "stderr",
     "output_type": "stream",
     "text": [
      "/mnt/2646BAF446BAC3B9/VirtualEnvironments/anaconda3/envs/snntoolbox2/lib/python3.6/site-packages/keras/engine/topology.py:1214: UserWarning: Update your `Conv2D` call to the Keras 2 API: `Conv2D(trainable=True, name=\"block4_conv3\", activation=\"relu\", activity_regularizer=None, kernel_size=(3, 3), filters=512, strides=[1, 1], padding=\"same\", data_format=\"channels_first\", kernel_initializer=\"glorot_uniform\", kernel_regularizer=None, bias_regularizer=None, kernel_constraint=None, bias_constraint=None, use_bias=True)`\n  return cls(**config)\n/mnt/2646BAF446BAC3B9/VirtualEnvironments/anaconda3/envs/snntoolbox2/lib/python3.6/site-packages/keras/engine/topology.py:1214: UserWarning: Update your `MaxPooling2D` call to the Keras 2 API: `MaxPooling2D(strides=[2, 2], name=\"block4_pool\", pool_size=[2, 2], trainable=True, padding=\"valid\", data_format=\"channels_first\")`\n  return cls(**config)\n/mnt/2646BAF446BAC3B9/VirtualEnvironments/anaconda3/envs/snntoolbox2/lib/python3.6/site-packages/keras/engine/topology.py:1214: UserWarning: Update your `Conv2D` call to the Keras 2 API: `Conv2D(trainable=True, name=\"block5_conv1\", activation=\"relu\", activity_regularizer=None, kernel_size=(3, 3), filters=512, strides=[1, 1], padding=\"same\", data_format=\"channels_first\", kernel_initializer=\"glorot_uniform\", kernel_regularizer=None, bias_regularizer=None, kernel_constraint=None, bias_constraint=None, use_bias=True)`\n  return cls(**config)\n"
     ]
    },
    {
     "name": "stderr",
     "output_type": "stream",
     "text": [
      "/mnt/2646BAF446BAC3B9/VirtualEnvironments/anaconda3/envs/snntoolbox2/lib/python3.6/site-packages/keras/engine/topology.py:1214: UserWarning: Update your `Conv2D` call to the Keras 2 API: `Conv2D(trainable=True, name=\"block5_conv2\", activation=\"relu\", activity_regularizer=None, kernel_size=(3, 3), filters=512, strides=[1, 1], padding=\"same\", data_format=\"channels_first\", kernel_initializer=\"glorot_uniform\", kernel_regularizer=None, bias_regularizer=None, kernel_constraint=None, bias_constraint=None, use_bias=True)`\n  return cls(**config)\n/mnt/2646BAF446BAC3B9/VirtualEnvironments/anaconda3/envs/snntoolbox2/lib/python3.6/site-packages/keras/engine/topology.py:1214: UserWarning: Update your `Conv2D` call to the Keras 2 API: `Conv2D(trainable=True, name=\"block5_conv3\", activation=\"relu\", activity_regularizer=None, kernel_size=(3, 3), filters=512, strides=[1, 1], padding=\"same\", data_format=\"channels_first\", kernel_initializer=\"glorot_uniform\", kernel_regularizer=None, bias_regularizer=None, kernel_constraint=None, bias_constraint=None, use_bias=True)`\n  return cls(**config)\n"
     ]
    },
    {
     "name": "stderr",
     "output_type": "stream",
     "text": [
      "/mnt/2646BAF446BAC3B9/VirtualEnvironments/anaconda3/envs/snntoolbox2/lib/python3.6/site-packages/keras/engine/topology.py:1214: UserWarning: Update your `MaxPooling2D` call to the Keras 2 API: `MaxPooling2D(strides=[2, 2], name=\"block5_pool\", pool_size=[2, 2], trainable=True, padding=\"valid\", data_format=\"channels_first\")`\n  return cls(**config)\n/mnt/2646BAF446BAC3B9/VirtualEnvironments/anaconda3/envs/snntoolbox2/lib/python3.6/site-packages/keras/engine/topology.py:1214: UserWarning: Update your `Dense` call to the Keras 2 API: `Dense(name=\"fc1\", activation=\"relu\", trainable=True, input_dim=None, activity_regularizer=None, units=4096, kernel_initializer=\"glorot_uniform\", kernel_regularizer=None, bias_regularizer=None, kernel_constraint=None, bias_constraint=None, use_bias=True)`\n  return cls(**config)\n"
     ]
    },
    {
     "name": "stderr",
     "output_type": "stream",
     "text": [
      "/mnt/2646BAF446BAC3B9/VirtualEnvironments/anaconda3/envs/snntoolbox2/lib/python3.6/site-packages/keras/engine/topology.py:1214: UserWarning: Update your `Dense` call to the Keras 2 API: `Dense(name=\"fc2\", activation=\"relu\", trainable=True, input_dim=None, activity_regularizer=None, units=4096, kernel_initializer=\"glorot_uniform\", kernel_regularizer=None, bias_regularizer=None, kernel_constraint=None, bias_constraint=None, use_bias=True)`\n  return cls(**config)\n"
     ]
    },
    {
     "name": "stderr",
     "output_type": "stream",
     "text": [
      "/mnt/2646BAF446BAC3B9/VirtualEnvironments/anaconda3/envs/snntoolbox2/lib/python3.6/site-packages/keras/engine/topology.py:1214: UserWarning: Update your `Dense` call to the Keras 2 API: `Dense(name=\"predictions\", activation=\"softmax\", trainable=True, input_dim=None, activity_regularizer=None, units=1000, kernel_initializer=\"glorot_uniform\", kernel_regularizer=None, bias_regularizer=None, kernel_constraint=None, bias_constraint=None, use_bias=True)`\n  return cls(**config)\n"
     ]
    }
   ],
   "source": [
    "model = VGG16(weights=None)\n",
    "\n",
    "model2 = keras.models.model_from_json(open(save_path+'/70.88.json').read())\n",
    "model2.load_weights(save_path+'/70.88.h5')\n",
    "model.set_weights(model2.get_weights())\n",
    "model.compile(SGD(lr=0.0001, momentum=0.9), 'categorical_crossentropy', metrics=['accuracy'])"
   ]
  },
  {
   "cell_type": "code",
   "execution_count": 4,
   "metadata": {},
   "outputs": [
    {
     "name": "stdout",
     "output_type": "stream",
     "text": [
      "Found 50000 images belonging to 1000 classes.\n"
     ]
    }
   ],
   "source": [
    "target_size = (224, 224)\n",
    "batch_size = 2\n",
    "\n",
    "class_idx = json.load(open(class_idx_path, \"r\"))\n",
    "classes = [class_idx[str(idx)][0] for idx in range(len(class_idx))]\n",
    "\n",
    "preprocessing_function = lambda x: preprocess_input(np.expand_dims(x, 0))\n",
    "\n",
    "datagen = ImageDataGenerator(preprocessing_function=preprocessing_function)\n",
    "\n",
    "test_dataflow = datagen.flow_from_directory(\n",
    "    test_path, target_size=target_size, classes=classes, batch_size=batch_size)"
   ]
  },
  {
   "cell_type": "code",
   "execution_count": 6,
   "metadata": {},
   "outputs": [],
   "source": [
    "score = model.evaluate_generator(test_dataflow, 25000)\n",
    "print(score)"
   ]
  },
  {
   "cell_type": "code",
   "execution_count": 8,
   "metadata": {},
   "outputs": [],
   "source": [
    "model.save(os.path.join(save_path, '{:.2f}'.format(score[1])))"
   ]
  }
 ],
 "metadata": {
  "kernelspec": {
   "display_name": "Python 2",
   "language": "python",
   "name": "python2"
  },
  "language_info": {
   "codemirror_mode": {
    "name": "ipython",
    "version": 2
   },
   "file_extension": ".py",
   "mimetype": "text/x-python",
   "name": "python",
   "nbconvert_exporter": "python",
   "pygments_lexer": "ipython2",
   "version": "2.7.6"
  }
 },
 "nbformat": 4,
 "nbformat_minor": 0
}
